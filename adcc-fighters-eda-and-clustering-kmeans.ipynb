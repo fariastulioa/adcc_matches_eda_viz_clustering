{
 "cells": [
  {
   "cell_type": "markdown",
   "id": "1f6632ed",
   "metadata": {
    "_kg_hide-input": false,
    "papermill": {
     "duration": 0.020916,
     "end_time": "2023-06-16T16:32:34.349948",
     "exception": false,
     "start_time": "2023-06-16T16:32:34.329032",
     "status": "completed"
    },
    "tags": []
   },
   "source": [
    "# ADCC Fighters EDA and Clustering (KMeans) <a id=\"section1\"></a>"
   ]
  },
  {
   "cell_type": "markdown",
   "id": "3001e08a",
   "metadata": {
    "papermill": {
     "duration": 0.020142,
     "end_time": "2023-06-16T16:32:34.390950",
     "exception": false,
     "start_time": "2023-06-16T16:32:34.370808",
     "status": "completed"
    },
    "tags": []
   },
   "source": [
    "This notebook contains exploration and analysis of data on athletes who competed in the ADCC grappling championship, focusing on visualization.  \n",
    "It also includes the use of said data to train an unsupervised model (KMeans) to group athletes in clusters. The idea is for this to make some trends and relationships visible that were not easily perceivable in the original data.  \n",
    "  \n",
    "Sports fans in general tend to be very passionate when discussing fighters and specialized media usually craft and push specific narratives to the public. The goal of this notebook is to generate data based insights to be compared to what is commonly perceived in this context as truth about specific athletes, styles, eras and more. That way, different stories can be told relying less on subjective perceptions, emotional reactions and personal preferences."
   ]
  },
  {
   "cell_type": "markdown",
   "id": "2252c6f0",
   "metadata": {
    "papermill": {
     "duration": 0.020724,
     "end_time": "2023-06-16T16:32:34.432205",
     "exception": false,
     "start_time": "2023-06-16T16:32:34.411481",
     "status": "completed"
    },
    "tags": []
   },
   "source": [
    "# Contents <a id=\"section2\"></a>\n",
    "  \n",
    "- [Intro](#section1)\n",
    "- [EDA & visualization](#section3)\n",
    "- [Data preparation for unsupervised clustering](#section4)\n",
    "- [Clustering](#section5)\n",
    "- [Matches dataset visualization](#section6)\n",
    "- [Final message](#section7)\n"
   ]
  },
  {
   "cell_type": "code",
   "execution_count": 1,
   "id": "02c09246",
   "metadata": {
    "_cell_guid": "b1076dfc-b9ad-4769-8c92-a6c4dae69d19",
    "_kg_hide-input": true,
    "_uuid": "8f2839f25d086af736a60e9eeb907d3b93b6e0e5",
    "execution": {
     "iopub.execute_input": "2023-06-16T16:32:34.476038Z",
     "iopub.status.busy": "2023-06-16T16:32:34.475152Z",
     "iopub.status.idle": "2023-06-16T16:32:37.194498Z",
     "shell.execute_reply": "2023-06-16T16:32:37.193488Z"
    },
    "papermill": {
     "duration": 2.744273,
     "end_time": "2023-06-16T16:32:37.197039",
     "exception": false,
     "start_time": "2023-06-16T16:32:34.452766",
     "status": "completed"
    },
    "tags": []
   },
   "outputs": [],
   "source": [
    "\n",
    "# Importing necessary data manipulation, visualization and machine learning libraries\n",
    "import numpy as np \n",
    "import pandas as pd \n",
    "import plotly.express as px\n",
    "from sklearn.preprocessing import MinMaxScaler\n",
    "import matplotlib.pyplot as plt\n",
    "import seaborn as sns\n",
    "from sklearn.decomposition import PCA\n",
    "from sklearn.cluster import KMeans\n",
    "import plotly.graph_objects as go\n",
    "from sklearn.metrics import silhouette_score\n",
    "\n",
    "\n"
   ]
  },
  {
   "cell_type": "code",
   "execution_count": 2,
   "id": "841a0f3f",
   "metadata": {
    "_kg_hide-input": true,
    "execution": {
     "iopub.execute_input": "2023-06-16T16:32:37.240796Z",
     "iopub.status.busy": "2023-06-16T16:32:37.240419Z",
     "iopub.status.idle": "2023-06-16T16:32:37.310964Z",
     "shell.execute_reply": "2023-06-16T16:32:37.309823Z"
    },
    "papermill": {
     "duration": 0.095069,
     "end_time": "2023-06-16T16:32:37.313481",
     "exception": false,
     "start_time": "2023-06-16T16:32:37.218412",
     "status": "completed"
    },
    "tags": []
   },
   "outputs": [
    {
     "data": {
      "text/html": [
       "<div>\n",
       "<style scoped>\n",
       "    .dataframe tbody tr th:only-of-type {\n",
       "        vertical-align: middle;\n",
       "    }\n",
       "\n",
       "    .dataframe tbody tr th {\n",
       "        vertical-align: top;\n",
       "    }\n",
       "\n",
       "    .dataframe thead th {\n",
       "        text-align: right;\n",
       "    }\n",
       "</style>\n",
       "<table border=\"1\" class=\"dataframe\">\n",
       "  <thead>\n",
       "    <tr style=\"text-align: right;\">\n",
       "      <th></th>\n",
       "      <th>name</th>\n",
       "      <th>win_ratio</th>\n",
       "      <th>total_fights</th>\n",
       "      <th>sub_win_ratio</th>\n",
       "      <th>point_win_ratio</th>\n",
       "      <th>decision_win_ratio</th>\n",
       "      <th>n_editions_competed</th>\n",
       "      <th>scored_points_per_fight</th>\n",
       "      <th>suffered_points_per_fight</th>\n",
       "      <th>fights_per_edition</th>\n",
       "      <th>...</th>\n",
       "      <th>highest_match_importance</th>\n",
       "      <th>open_weight_ratio</th>\n",
       "      <th>n_titles</th>\n",
       "      <th>champion</th>\n",
       "      <th>custom_score</th>\n",
       "      <th>n_different_subs</th>\n",
       "      <th>fought_superfight</th>\n",
       "      <th>total_wins</th>\n",
       "      <th>debut_year</th>\n",
       "      <th>female</th>\n",
       "    </tr>\n",
       "  </thead>\n",
       "  <tbody>\n",
       "    <tr>\n",
       "      <th>0</th>\n",
       "      <td>Murilo Santana</td>\n",
       "      <td>0.454545</td>\n",
       "      <td>11.0</td>\n",
       "      <td>0.181818</td>\n",
       "      <td>0.181818</td>\n",
       "      <td>0.090909</td>\n",
       "      <td>7.0</td>\n",
       "      <td>-0.272727</td>\n",
       "      <td>0.000000</td>\n",
       "      <td>1.571429</td>\n",
       "      <td>...</td>\n",
       "      <td>3</td>\n",
       "      <td>0.363636</td>\n",
       "      <td>0</td>\n",
       "      <td>0</td>\n",
       "      <td>-0.165699</td>\n",
       "      <td>1</td>\n",
       "      <td>0</td>\n",
       "      <td>5.0</td>\n",
       "      <td>2009</td>\n",
       "      <td>0</td>\n",
       "    </tr>\n",
       "    <tr>\n",
       "      <th>1</th>\n",
       "      <td>Nicholas Meregali</td>\n",
       "      <td>0.750000</td>\n",
       "      <td>8.0</td>\n",
       "      <td>0.125000</td>\n",
       "      <td>0.250000</td>\n",
       "      <td>0.250000</td>\n",
       "      <td>2.0</td>\n",
       "      <td>0.125000</td>\n",
       "      <td>-0.375000</td>\n",
       "      <td>4.000000</td>\n",
       "      <td>...</td>\n",
       "      <td>4</td>\n",
       "      <td>0.500000</td>\n",
       "      <td>0</td>\n",
       "      <td>0</td>\n",
       "      <td>1.977330</td>\n",
       "      <td>1</td>\n",
       "      <td>0</td>\n",
       "      <td>6.0</td>\n",
       "      <td>2022</td>\n",
       "      <td>0</td>\n",
       "    </tr>\n",
       "    <tr>\n",
       "      <th>2</th>\n",
       "      <td>Nick Rodriguez</td>\n",
       "      <td>0.700000</td>\n",
       "      <td>10.0</td>\n",
       "      <td>0.100000</td>\n",
       "      <td>0.400000</td>\n",
       "      <td>0.200000</td>\n",
       "      <td>4.0</td>\n",
       "      <td>2.300000</td>\n",
       "      <td>-0.200000</td>\n",
       "      <td>2.500000</td>\n",
       "      <td>...</td>\n",
       "      <td>4</td>\n",
       "      <td>0.200000</td>\n",
       "      <td>0</td>\n",
       "      <td>0</td>\n",
       "      <td>0.854628</td>\n",
       "      <td>1</td>\n",
       "      <td>0</td>\n",
       "      <td>7.0</td>\n",
       "      <td>2019</td>\n",
       "      <td>0</td>\n",
       "    </tr>\n",
       "    <tr>\n",
       "      <th>3</th>\n",
       "      <td>Otavio Sousa</td>\n",
       "      <td>0.625000</td>\n",
       "      <td>8.0</td>\n",
       "      <td>0.375000</td>\n",
       "      <td>0.125000</td>\n",
       "      <td>0.125000</td>\n",
       "      <td>4.0</td>\n",
       "      <td>-0.750000</td>\n",
       "      <td>0.500000</td>\n",
       "      <td>2.000000</td>\n",
       "      <td>...</td>\n",
       "      <td>4</td>\n",
       "      <td>0.000000</td>\n",
       "      <td>0</td>\n",
       "      <td>0</td>\n",
       "      <td>0.567981</td>\n",
       "      <td>2</td>\n",
       "      <td>0</td>\n",
       "      <td>5.0</td>\n",
       "      <td>2013</td>\n",
       "      <td>0</td>\n",
       "    </tr>\n",
       "    <tr>\n",
       "      <th>4</th>\n",
       "      <td>Orlando Sanchez</td>\n",
       "      <td>0.692308</td>\n",
       "      <td>13.0</td>\n",
       "      <td>0.153846</td>\n",
       "      <td>0.153846</td>\n",
       "      <td>0.384615</td>\n",
       "      <td>8.0</td>\n",
       "      <td>-0.384615</td>\n",
       "      <td>-0.461538</td>\n",
       "      <td>1.625000</td>\n",
       "      <td>...</td>\n",
       "      <td>4</td>\n",
       "      <td>0.000000</td>\n",
       "      <td>1</td>\n",
       "      <td>1</td>\n",
       "      <td>0.424658</td>\n",
       "      <td>2</td>\n",
       "      <td>0</td>\n",
       "      <td>9.0</td>\n",
       "      <td>2013</td>\n",
       "      <td>0</td>\n",
       "    </tr>\n",
       "  </tbody>\n",
       "</table>\n",
       "<p>5 rows × 25 columns</p>\n",
       "</div>"
      ],
      "text/plain": [
       "                name  win_ratio  total_fights  sub_win_ratio  point_win_ratio  \\\n",
       "0     Murilo Santana   0.454545          11.0       0.181818         0.181818   \n",
       "1  Nicholas Meregali   0.750000           8.0       0.125000         0.250000   \n",
       "2     Nick Rodriguez   0.700000          10.0       0.100000         0.400000   \n",
       "3       Otavio Sousa   0.625000           8.0       0.375000         0.125000   \n",
       "4    Orlando Sanchez   0.692308          13.0       0.153846         0.153846   \n",
       "\n",
       "   decision_win_ratio  n_editions_competed  scored_points_per_fight  \\\n",
       "0            0.090909                  7.0                -0.272727   \n",
       "1            0.250000                  2.0                 0.125000   \n",
       "2            0.200000                  4.0                 2.300000   \n",
       "3            0.125000                  4.0                -0.750000   \n",
       "4            0.384615                  8.0                -0.384615   \n",
       "\n",
       "   suffered_points_per_fight  fights_per_edition  ...  \\\n",
       "0                   0.000000            1.571429  ...   \n",
       "1                  -0.375000            4.000000  ...   \n",
       "2                  -0.200000            2.500000  ...   \n",
       "3                   0.500000            2.000000  ...   \n",
       "4                  -0.461538            1.625000  ...   \n",
       "\n",
       "  highest_match_importance open_weight_ratio  n_titles  champion  \\\n",
       "0                        3          0.363636         0         0   \n",
       "1                        4          0.500000         0         0   \n",
       "2                        4          0.200000         0         0   \n",
       "3                        4          0.000000         0         0   \n",
       "4                        4          0.000000         1         1   \n",
       "\n",
       "   custom_score  n_different_subs  fought_superfight  total_wins  debut_year  \\\n",
       "0     -0.165699                 1                  0         5.0        2009   \n",
       "1      1.977330                 1                  0         6.0        2022   \n",
       "2      0.854628                 1                  0         7.0        2019   \n",
       "3      0.567981                 2                  0         5.0        2013   \n",
       "4      0.424658                 2                  0         9.0        2013   \n",
       "\n",
       "   female  \n",
       "0       0  \n",
       "1       0  \n",
       "2       0  \n",
       "3       0  \n",
       "4       0  \n",
       "\n",
       "[5 rows x 25 columns]"
      ]
     },
     "execution_count": 2,
     "metadata": {},
     "output_type": "execute_result"
    }
   ],
   "source": [
    "# Importing the data from a CSV file\n",
    "df = pd.read_csv('/kaggle/input/adcc-fighter-stats/fighters_dataset.csv')\n",
    "df.head()"
   ]
  },
  {
   "cell_type": "markdown",
   "id": "04f37aa2",
   "metadata": {
    "papermill": {
     "duration": 0.020746,
     "end_time": "2023-06-16T16:32:37.355746",
     "exception": false,
     "start_time": "2023-06-16T16:32:37.335000",
     "status": "completed"
    },
    "tags": []
   },
   "source": [
    "Dataset sample after importing"
   ]
  },
  {
   "cell_type": "code",
   "execution_count": 3,
   "id": "8b9b5052",
   "metadata": {
    "_kg_hide-input": true,
    "execution": {
     "iopub.execute_input": "2023-06-16T16:32:37.400091Z",
     "iopub.status.busy": "2023-06-16T16:32:37.399692Z",
     "iopub.status.idle": "2023-06-16T16:32:37.471019Z",
     "shell.execute_reply": "2023-06-16T16:32:37.470007Z"
    },
    "papermill": {
     "duration": 0.096393,
     "end_time": "2023-06-16T16:32:37.473119",
     "exception": false,
     "start_time": "2023-06-16T16:32:37.376726",
     "status": "completed"
    },
    "tags": []
   },
   "outputs": [
    {
     "data": {
      "text/html": [
       "<div>\n",
       "<style scoped>\n",
       "    .dataframe tbody tr th:only-of-type {\n",
       "        vertical-align: middle;\n",
       "    }\n",
       "\n",
       "    .dataframe tbody tr th {\n",
       "        vertical-align: top;\n",
       "    }\n",
       "\n",
       "    .dataframe thead th {\n",
       "        text-align: right;\n",
       "    }\n",
       "</style>\n",
       "<table border=\"1\" class=\"dataframe\">\n",
       "  <thead>\n",
       "    <tr style=\"text-align: right;\">\n",
       "      <th></th>\n",
       "      <th>win_ratio</th>\n",
       "      <th>total_fights</th>\n",
       "      <th>sub_win_ratio</th>\n",
       "      <th>point_win_ratio</th>\n",
       "      <th>decision_win_ratio</th>\n",
       "      <th>n_editions_competed</th>\n",
       "      <th>scored_points_per_fight</th>\n",
       "      <th>suffered_points_per_fight</th>\n",
       "      <th>fights_per_edition</th>\n",
       "      <th>n_weight_classes</th>\n",
       "      <th>...</th>\n",
       "      <th>highest_match_importance</th>\n",
       "      <th>open_weight_ratio</th>\n",
       "      <th>n_titles</th>\n",
       "      <th>champion</th>\n",
       "      <th>custom_score</th>\n",
       "      <th>n_different_subs</th>\n",
       "      <th>fought_superfight</th>\n",
       "      <th>total_wins</th>\n",
       "      <th>debut_year</th>\n",
       "      <th>female</th>\n",
       "    </tr>\n",
       "  </thead>\n",
       "  <tbody>\n",
       "    <tr>\n",
       "      <th>count</th>\n",
       "      <td>614.000000</td>\n",
       "      <td>614.000000</td>\n",
       "      <td>614.000000</td>\n",
       "      <td>614.000000</td>\n",
       "      <td>614.000000</td>\n",
       "      <td>614.000000</td>\n",
       "      <td>614.000000</td>\n",
       "      <td>614.000000</td>\n",
       "      <td>614.000000</td>\n",
       "      <td>614.000000</td>\n",
       "      <td>...</td>\n",
       "      <td>614.000000</td>\n",
       "      <td>614.000000</td>\n",
       "      <td>614.000000</td>\n",
       "      <td>614.000000</td>\n",
       "      <td>6.140000e+02</td>\n",
       "      <td>614.000000</td>\n",
       "      <td>614.0</td>\n",
       "      <td>614.000000</td>\n",
       "      <td>614.000000</td>\n",
       "      <td>614.000000</td>\n",
       "    </tr>\n",
       "    <tr>\n",
       "      <th>mean</th>\n",
       "      <td>0.196217</td>\n",
       "      <td>3.348534</td>\n",
       "      <td>0.070387</td>\n",
       "      <td>0.099999</td>\n",
       "      <td>0.023665</td>\n",
       "      <td>2.016287</td>\n",
       "      <td>0.095231</td>\n",
       "      <td>0.038001</td>\n",
       "      <td>1.370352</td>\n",
       "      <td>1.058632</td>\n",
       "      <td>...</td>\n",
       "      <td>1.296417</td>\n",
       "      <td>0.111214</td>\n",
       "      <td>0.164495</td>\n",
       "      <td>0.092834</td>\n",
       "      <td>2.314471e-17</td>\n",
       "      <td>0.452769</td>\n",
       "      <td>0.0</td>\n",
       "      <td>1.674267</td>\n",
       "      <td>2010.021173</td>\n",
       "      <td>0.070033</td>\n",
       "    </tr>\n",
       "    <tr>\n",
       "      <th>std</th>\n",
       "      <td>0.306604</td>\n",
       "      <td>5.320313</td>\n",
       "      <td>0.171129</td>\n",
       "      <td>0.199468</td>\n",
       "      <td>0.092670</td>\n",
       "      <td>2.278289</td>\n",
       "      <td>0.698188</td>\n",
       "      <td>0.616438</td>\n",
       "      <td>0.786067</td>\n",
       "      <td>0.267577</td>\n",
       "      <td>...</td>\n",
       "      <td>1.563267</td>\n",
       "      <td>0.251079</td>\n",
       "      <td>0.633983</td>\n",
       "      <td>0.290436</td>\n",
       "      <td>1.000815e+00</td>\n",
       "      <td>1.162302</td>\n",
       "      <td>0.0</td>\n",
       "      <td>4.038326</td>\n",
       "      <td>7.627623</td>\n",
       "      <td>0.255410</td>\n",
       "    </tr>\n",
       "    <tr>\n",
       "      <th>min</th>\n",
       "      <td>0.000000</td>\n",
       "      <td>1.000000</td>\n",
       "      <td>0.000000</td>\n",
       "      <td>0.000000</td>\n",
       "      <td>0.000000</td>\n",
       "      <td>1.000000</td>\n",
       "      <td>-1.000000</td>\n",
       "      <td>-1.000000</td>\n",
       "      <td>1.000000</td>\n",
       "      <td>1.000000</td>\n",
       "      <td>...</td>\n",
       "      <td>0.000000</td>\n",
       "      <td>0.000000</td>\n",
       "      <td>0.000000</td>\n",
       "      <td>0.000000</td>\n",
       "      <td>-4.113964e-01</td>\n",
       "      <td>0.000000</td>\n",
       "      <td>0.0</td>\n",
       "      <td>0.000000</td>\n",
       "      <td>1998.000000</td>\n",
       "      <td>0.000000</td>\n",
       "    </tr>\n",
       "    <tr>\n",
       "      <th>25%</th>\n",
       "      <td>0.000000</td>\n",
       "      <td>1.000000</td>\n",
       "      <td>0.000000</td>\n",
       "      <td>0.000000</td>\n",
       "      <td>0.000000</td>\n",
       "      <td>1.000000</td>\n",
       "      <td>0.000000</td>\n",
       "      <td>0.000000</td>\n",
       "      <td>1.000000</td>\n",
       "      <td>1.000000</td>\n",
       "      <td>...</td>\n",
       "      <td>0.000000</td>\n",
       "      <td>0.000000</td>\n",
       "      <td>0.000000</td>\n",
       "      <td>0.000000</td>\n",
       "      <td>-4.113964e-01</td>\n",
       "      <td>0.000000</td>\n",
       "      <td>0.0</td>\n",
       "      <td>0.000000</td>\n",
       "      <td>2003.000000</td>\n",
       "      <td>0.000000</td>\n",
       "    </tr>\n",
       "    <tr>\n",
       "      <th>50%</th>\n",
       "      <td>0.000000</td>\n",
       "      <td>1.000000</td>\n",
       "      <td>0.000000</td>\n",
       "      <td>0.000000</td>\n",
       "      <td>0.000000</td>\n",
       "      <td>1.000000</td>\n",
       "      <td>0.000000</td>\n",
       "      <td>0.000000</td>\n",
       "      <td>1.000000</td>\n",
       "      <td>1.000000</td>\n",
       "      <td>...</td>\n",
       "      <td>1.000000</td>\n",
       "      <td>0.000000</td>\n",
       "      <td>0.000000</td>\n",
       "      <td>0.000000</td>\n",
       "      <td>-3.636218e-01</td>\n",
       "      <td>0.000000</td>\n",
       "      <td>0.0</td>\n",
       "      <td>0.000000</td>\n",
       "      <td>2011.000000</td>\n",
       "      <td>0.000000</td>\n",
       "    </tr>\n",
       "    <tr>\n",
       "      <th>75%</th>\n",
       "      <td>0.500000</td>\n",
       "      <td>3.000000</td>\n",
       "      <td>0.000000</td>\n",
       "      <td>0.000000</td>\n",
       "      <td>0.000000</td>\n",
       "      <td>2.000000</td>\n",
       "      <td>0.000000</td>\n",
       "      <td>0.000000</td>\n",
       "      <td>1.553571</td>\n",
       "      <td>1.000000</td>\n",
       "      <td>...</td>\n",
       "      <td>2.000000</td>\n",
       "      <td>0.000000</td>\n",
       "      <td>0.000000</td>\n",
       "      <td>0.000000</td>\n",
       "      <td>-2.920021e-02</td>\n",
       "      <td>0.000000</td>\n",
       "      <td>0.0</td>\n",
       "      <td>1.000000</td>\n",
       "      <td>2017.000000</td>\n",
       "      <td>0.000000</td>\n",
       "    </tr>\n",
       "    <tr>\n",
       "      <th>max</th>\n",
       "      <td>1.000000</td>\n",
       "      <td>43.000000</td>\n",
       "      <td>1.000000</td>\n",
       "      <td>1.000000</td>\n",
       "      <td>1.000000</td>\n",
       "      <td>15.000000</td>\n",
       "      <td>6.800000</td>\n",
       "      <td>7.000000</td>\n",
       "      <td>13.000000</td>\n",
       "      <td>4.000000</td>\n",
       "      <td>...</td>\n",
       "      <td>5.000000</td>\n",
       "      <td>1.000000</td>\n",
       "      <td>6.000000</td>\n",
       "      <td>1.000000</td>\n",
       "      <td>1.640523e+01</td>\n",
       "      <td>8.000000</td>\n",
       "      <td>0.0</td>\n",
       "      <td>30.000000</td>\n",
       "      <td>2022.000000</td>\n",
       "      <td>1.000000</td>\n",
       "    </tr>\n",
       "  </tbody>\n",
       "</table>\n",
       "<p>8 rows × 22 columns</p>\n",
       "</div>"
      ],
      "text/plain": [
       "        win_ratio  total_fights  sub_win_ratio  point_win_ratio  \\\n",
       "count  614.000000    614.000000     614.000000       614.000000   \n",
       "mean     0.196217      3.348534       0.070387         0.099999   \n",
       "std      0.306604      5.320313       0.171129         0.199468   \n",
       "min      0.000000      1.000000       0.000000         0.000000   \n",
       "25%      0.000000      1.000000       0.000000         0.000000   \n",
       "50%      0.000000      1.000000       0.000000         0.000000   \n",
       "75%      0.500000      3.000000       0.000000         0.000000   \n",
       "max      1.000000     43.000000       1.000000         1.000000   \n",
       "\n",
       "       decision_win_ratio  n_editions_competed  scored_points_per_fight  \\\n",
       "count          614.000000           614.000000               614.000000   \n",
       "mean             0.023665             2.016287                 0.095231   \n",
       "std              0.092670             2.278289                 0.698188   \n",
       "min              0.000000             1.000000                -1.000000   \n",
       "25%              0.000000             1.000000                 0.000000   \n",
       "50%              0.000000             1.000000                 0.000000   \n",
       "75%              0.000000             2.000000                 0.000000   \n",
       "max              1.000000            15.000000                 6.800000   \n",
       "\n",
       "       suffered_points_per_fight  fights_per_edition  n_weight_classes  ...  \\\n",
       "count                 614.000000          614.000000        614.000000  ...   \n",
       "mean                    0.038001            1.370352          1.058632  ...   \n",
       "std                     0.616438            0.786067          0.267577  ...   \n",
       "min                    -1.000000            1.000000          1.000000  ...   \n",
       "25%                     0.000000            1.000000          1.000000  ...   \n",
       "50%                     0.000000            1.000000          1.000000  ...   \n",
       "75%                     0.000000            1.553571          1.000000  ...   \n",
       "max                     7.000000           13.000000          4.000000  ...   \n",
       "\n",
       "       highest_match_importance  open_weight_ratio    n_titles    champion  \\\n",
       "count                614.000000         614.000000  614.000000  614.000000   \n",
       "mean                   1.296417           0.111214    0.164495    0.092834   \n",
       "std                    1.563267           0.251079    0.633983    0.290436   \n",
       "min                    0.000000           0.000000    0.000000    0.000000   \n",
       "25%                    0.000000           0.000000    0.000000    0.000000   \n",
       "50%                    1.000000           0.000000    0.000000    0.000000   \n",
       "75%                    2.000000           0.000000    0.000000    0.000000   \n",
       "max                    5.000000           1.000000    6.000000    1.000000   \n",
       "\n",
       "       custom_score  n_different_subs  fought_superfight  total_wins  \\\n",
       "count  6.140000e+02        614.000000              614.0  614.000000   \n",
       "mean   2.314471e-17          0.452769                0.0    1.674267   \n",
       "std    1.000815e+00          1.162302                0.0    4.038326   \n",
       "min   -4.113964e-01          0.000000                0.0    0.000000   \n",
       "25%   -4.113964e-01          0.000000                0.0    0.000000   \n",
       "50%   -3.636218e-01          0.000000                0.0    0.000000   \n",
       "75%   -2.920021e-02          0.000000                0.0    1.000000   \n",
       "max    1.640523e+01          8.000000                0.0   30.000000   \n",
       "\n",
       "        debut_year      female  \n",
       "count   614.000000  614.000000  \n",
       "mean   2010.021173    0.070033  \n",
       "std       7.627623    0.255410  \n",
       "min    1998.000000    0.000000  \n",
       "25%    2003.000000    0.000000  \n",
       "50%    2011.000000    0.000000  \n",
       "75%    2017.000000    0.000000  \n",
       "max    2022.000000    1.000000  \n",
       "\n",
       "[8 rows x 22 columns]"
      ]
     },
     "execution_count": 3,
     "metadata": {},
     "output_type": "execute_result"
    }
   ],
   "source": [
    "# General distribution statistics on each feature of the dataset\n",
    "df.describe()"
   ]
  },
  {
   "cell_type": "markdown",
   "id": "2ce69771",
   "metadata": {
    "papermill": {
     "duration": 0.021141,
     "end_time": "2023-06-16T16:32:37.516368",
     "exception": false,
     "start_time": "2023-06-16T16:32:37.495227",
     "status": "completed"
    },
    "tags": []
   },
   "source": [
    "General descriptive statistics on the dataset features"
   ]
  },
  {
   "cell_type": "markdown",
   "id": "c844a3d6",
   "metadata": {
    "papermill": {
     "duration": 0.020939,
     "end_time": "2023-06-16T16:32:37.558612",
     "exception": false,
     "start_time": "2023-06-16T16:32:37.537673",
     "status": "completed"
    },
    "tags": []
   },
   "source": [
    "# Exploratory data analysis and visualizations<a id=\"section3\"></a>"
   ]
  },
  {
   "cell_type": "code",
   "execution_count": 4,
   "id": "888b9e0c",
   "metadata": {
    "_kg_hide-input": true,
    "execution": {
     "iopub.execute_input": "2023-06-16T16:32:37.605749Z",
     "iopub.status.busy": "2023-06-16T16:32:37.604723Z",
     "iopub.status.idle": "2023-06-16T16:32:37.624837Z",
     "shell.execute_reply": "2023-06-16T16:32:37.623813Z"
    },
    "papermill": {
     "duration": 0.045137,
     "end_time": "2023-06-16T16:32:37.626898",
     "exception": false,
     "start_time": "2023-06-16T16:32:37.581761",
     "status": "completed"
    },
    "tags": []
   },
   "outputs": [
    {
     "data": {
      "text/html": [
       "<div>\n",
       "<style scoped>\n",
       "    .dataframe tbody tr th:only-of-type {\n",
       "        vertical-align: middle;\n",
       "    }\n",
       "\n",
       "    .dataframe tbody tr th {\n",
       "        vertical-align: top;\n",
       "    }\n",
       "\n",
       "    .dataframe thead th {\n",
       "        text-align: right;\n",
       "    }\n",
       "</style>\n",
       "<table border=\"1\" class=\"dataframe\">\n",
       "  <thead>\n",
       "    <tr style=\"text-align: right;\">\n",
       "      <th></th>\n",
       "      <th>Most frequent target when getting submitted</th>\n",
       "      <th>Most frequent target when submitting</th>\n",
       "    </tr>\n",
       "  </thead>\n",
       "  <tbody>\n",
       "    <tr>\n",
       "      <th>No specific target</th>\n",
       "      <td>293</td>\n",
       "      <td>491</td>\n",
       "    </tr>\n",
       "    <tr>\n",
       "      <th>Neck</th>\n",
       "      <td>162</td>\n",
       "      <td>64</td>\n",
       "    </tr>\n",
       "    <tr>\n",
       "      <th>Leg</th>\n",
       "      <td>70</td>\n",
       "      <td>33</td>\n",
       "    </tr>\n",
       "    <tr>\n",
       "      <th>Arm</th>\n",
       "      <td>70</td>\n",
       "      <td>22</td>\n",
       "    </tr>\n",
       "    <tr>\n",
       "      <th>Other/Unknown</th>\n",
       "      <td>19</td>\n",
       "      <td>4</td>\n",
       "    </tr>\n",
       "  </tbody>\n",
       "</table>\n",
       "</div>"
      ],
      "text/plain": [
       "                    Most frequent target when getting submitted  \\\n",
       "No specific target                                          293   \n",
       "Neck                                                        162   \n",
       "Leg                                                          70   \n",
       "Arm                                                          70   \n",
       "Other/Unknown                                                19   \n",
       "\n",
       "                    Most frequent target when submitting  \n",
       "No specific target                                   491  \n",
       "Neck                                                  64  \n",
       "Leg                                                   33  \n",
       "Arm                                                   22  \n",
       "Other/Unknown                                          4  "
      ]
     },
     "execution_count": 4,
     "metadata": {},
     "output_type": "execute_result"
    }
   ],
   "source": [
    "# Creating a dataframe to display most frequent targets  \n",
    "# that athletes target or are targetted for in submissions\n",
    "\n",
    "df.loc[df['most_vulnerable'] == 'No specific vulnerability', 'most_vulnerable'] = 'No specific target'\n",
    "df['most_vulnerable'].value_counts()\n",
    "targets = pd.concat([df['most_vulnerable'].value_counts(), df['favorite_target'].value_counts()], axis=1)\n",
    "targets.rename(columns={'most_vulnerable':'Most frequent target when getting submitted', 'favorite_target':'Most frequent target when submitting'},inplace=True)\n",
    "targets.head()"
   ]
  },
  {
   "cell_type": "markdown",
   "id": "cf1a0754",
   "metadata": {
    "papermill": {
     "duration": 0.021184,
     "end_time": "2023-06-16T16:32:37.669841",
     "exception": false,
     "start_time": "2023-06-16T16:32:37.648657",
     "status": "completed"
    },
    "tags": []
   },
   "source": [
    "Number of athletes for each preferred target when submitting oponents and most frequent target when getting submitted."
   ]
  },
  {
   "cell_type": "markdown",
   "id": "0761c8e3",
   "metadata": {
    "papermill": {
     "duration": 0.021236,
     "end_time": "2023-06-16T16:32:37.713049",
     "exception": false,
     "start_time": "2023-06-16T16:32:37.691813",
     "status": "completed"
    },
    "tags": []
   },
   "source": [
    "### Which body parts are the most targetted by (and on) athletes for submissions?"
   ]
  },
  {
   "cell_type": "code",
   "execution_count": 5,
   "id": "e32cf71e",
   "metadata": {
    "_kg_hide-input": true,
    "execution": {
     "iopub.execute_input": "2023-06-16T16:32:37.758842Z",
     "iopub.status.busy": "2023-06-16T16:32:37.757960Z",
     "iopub.status.idle": "2023-06-16T16:32:39.547159Z",
     "shell.execute_reply": "2023-06-16T16:32:39.546122Z"
    },
    "papermill": {
     "duration": 1.814427,
     "end_time": "2023-06-16T16:32:39.549494",
     "exception": false,
     "start_time": "2023-06-16T16:32:37.735067",
     "status": "completed"
    },
    "tags": []
   },
   "outputs": [
    {
     "data": {
      "text/html": [
       "        <script type=\"text/javascript\">\n",
       "        window.PlotlyConfig = {MathJaxConfig: 'local'};\n",
       "        if (window.MathJax && window.MathJax.Hub && window.MathJax.Hub.Config) {window.MathJax.Hub.Config({SVG: {font: \"STIX-Web\"}});}\n",
       "        if (typeof require !== 'undefined') {\n",
       "        require.undef(\"plotly\");\n",
       "        requirejs.config({\n",
       "            paths: {\n",
       "                'plotly': ['https://cdn.plot.ly/plotly-2.20.0.min']\n",
       "            }\n",
       "        });\n",
       "        require(['plotly'], function(Plotly) {\n",
       "            window._Plotly = Plotly;\n",
       "        });\n",
       "        }\n",
       "        </script>\n",
       "        "
      ]
     },
     "metadata": {},
     "output_type": "display_data"
    },
    {
     "data": {
      "text/html": [
       "<div>                            <div id=\"00dbc31b-a630-4314-9db2-a9bfe055d974\" class=\"plotly-graph-div\" style=\"height:600px; width:800px;\"></div>            <script type=\"text/javascript\">                require([\"plotly\"], function(Plotly) {                    window.PLOTLYENV=window.PLOTLYENV || {};                                    if (document.getElementById(\"00dbc31b-a630-4314-9db2-a9bfe055d974\")) {                    Plotly.newPlot(                        \"00dbc31b-a630-4314-9db2-a9bfe055d974\",                        [{\"alignmentgroup\":\"True\",\"hovertemplate\":\"<b>%{hovertext}</b><br><br>Target=Most frequent target when getting submitted<br>index=%{x}<br>value=%{y}<extra></extra>\",\"hovertext\":[\"Most frequent target when getting submitted\",\"Most frequent target when getting submitted\",\"Most frequent target when getting submitted\",\"Most frequent target when getting submitted\",\"Most frequent target when getting submitted\"],\"legendgroup\":\"Most frequent target when getting submitted\",\"marker\":{\"color\":\"indianred\",\"pattern\":{\"shape\":\"\"}},\"name\":\"Most frequent target when getting submitted\",\"offsetgroup\":\"Most frequent target when getting submitted\",\"orientation\":\"v\",\"showlegend\":true,\"textposition\":\"auto\",\"texttemplate\":\"%{y}\",\"x\":[\"No specific target\",\"Neck\",\"Leg\",\"Arm\",\"Other/Unknown\"],\"xaxis\":\"x\",\"y\":[293,162,70,70,19],\"yaxis\":\"y\",\"type\":\"bar\"},{\"alignmentgroup\":\"True\",\"hovertemplate\":\"<b>%{hovertext}</b><br><br>Target=Most frequent target when submitting<br>index=%{x}<br>value=%{y}<extra></extra>\",\"hovertext\":[\"Most frequent target when submitting\",\"Most frequent target when submitting\",\"Most frequent target when submitting\",\"Most frequent target when submitting\",\"Most frequent target when submitting\"],\"legendgroup\":\"Most frequent target when submitting\",\"marker\":{\"color\":\"lightseagreen\",\"pattern\":{\"shape\":\"\"}},\"name\":\"Most frequent target when submitting\",\"offsetgroup\":\"Most frequent target when submitting\",\"orientation\":\"v\",\"showlegend\":true,\"textposition\":\"auto\",\"texttemplate\":\"%{y}\",\"x\":[\"No specific target\",\"Neck\",\"Leg\",\"Arm\",\"Other/Unknown\"],\"xaxis\":\"x\",\"y\":[491,64,33,22,4],\"yaxis\":\"y\",\"type\":\"bar\"}],                        {\"template\":{\"data\":{\"histogram2dcontour\":[{\"type\":\"histogram2dcontour\",\"colorbar\":{\"outlinewidth\":0,\"ticks\":\"\"},\"colorscale\":[[0.0,\"#0d0887\"],[0.1111111111111111,\"#46039f\"],[0.2222222222222222,\"#7201a8\"],[0.3333333333333333,\"#9c179e\"],[0.4444444444444444,\"#bd3786\"],[0.5555555555555556,\"#d8576b\"],[0.6666666666666666,\"#ed7953\"],[0.7777777777777778,\"#fb9f3a\"],[0.8888888888888888,\"#fdca26\"],[1.0,\"#f0f921\"]]}],\"choropleth\":[{\"type\":\"choropleth\",\"colorbar\":{\"outlinewidth\":0,\"ticks\":\"\"}}],\"histogram2d\":[{\"type\":\"histogram2d\",\"colorbar\":{\"outlinewidth\":0,\"ticks\":\"\"},\"colorscale\":[[0.0,\"#0d0887\"],[0.1111111111111111,\"#46039f\"],[0.2222222222222222,\"#7201a8\"],[0.3333333333333333,\"#9c179e\"],[0.4444444444444444,\"#bd3786\"],[0.5555555555555556,\"#d8576b\"],[0.6666666666666666,\"#ed7953\"],[0.7777777777777778,\"#fb9f3a\"],[0.8888888888888888,\"#fdca26\"],[1.0,\"#f0f921\"]]}],\"heatmap\":[{\"type\":\"heatmap\",\"colorbar\":{\"outlinewidth\":0,\"ticks\":\"\"},\"colorscale\":[[0.0,\"#0d0887\"],[0.1111111111111111,\"#46039f\"],[0.2222222222222222,\"#7201a8\"],[0.3333333333333333,\"#9c179e\"],[0.4444444444444444,\"#bd3786\"],[0.5555555555555556,\"#d8576b\"],[0.6666666666666666,\"#ed7953\"],[0.7777777777777778,\"#fb9f3a\"],[0.8888888888888888,\"#fdca26\"],[1.0,\"#f0f921\"]]}],\"heatmapgl\":[{\"type\":\"heatmapgl\",\"colorbar\":{\"outlinewidth\":0,\"ticks\":\"\"},\"colorscale\":[[0.0,\"#0d0887\"],[0.1111111111111111,\"#46039f\"],[0.2222222222222222,\"#7201a8\"],[0.3333333333333333,\"#9c179e\"],[0.4444444444444444,\"#bd3786\"],[0.5555555555555556,\"#d8576b\"],[0.6666666666666666,\"#ed7953\"],[0.7777777777777778,\"#fb9f3a\"],[0.8888888888888888,\"#fdca26\"],[1.0,\"#f0f921\"]]}],\"contourcarpet\":[{\"type\":\"contourcarpet\",\"colorbar\":{\"outlinewidth\":0,\"ticks\":\"\"}}],\"contour\":[{\"type\":\"contour\",\"colorbar\":{\"outlinewidth\":0,\"ticks\":\"\"},\"colorscale\":[[0.0,\"#0d0887\"],[0.1111111111111111,\"#46039f\"],[0.2222222222222222,\"#7201a8\"],[0.3333333333333333,\"#9c179e\"],[0.4444444444444444,\"#bd3786\"],[0.5555555555555556,\"#d8576b\"],[0.6666666666666666,\"#ed7953\"],[0.7777777777777778,\"#fb9f3a\"],[0.8888888888888888,\"#fdca26\"],[1.0,\"#f0f921\"]]}],\"surface\":[{\"type\":\"surface\",\"colorbar\":{\"outlinewidth\":0,\"ticks\":\"\"},\"colorscale\":[[0.0,\"#0d0887\"],[0.1111111111111111,\"#46039f\"],[0.2222222222222222,\"#7201a8\"],[0.3333333333333333,\"#9c179e\"],[0.4444444444444444,\"#bd3786\"],[0.5555555555555556,\"#d8576b\"],[0.6666666666666666,\"#ed7953\"],[0.7777777777777778,\"#fb9f3a\"],[0.8888888888888888,\"#fdca26\"],[1.0,\"#f0f921\"]]}],\"mesh3d\":[{\"type\":\"mesh3d\",\"colorbar\":{\"outlinewidth\":0,\"ticks\":\"\"}}],\"scatter\":[{\"fillpattern\":{\"fillmode\":\"overlay\",\"size\":10,\"solidity\":0.2},\"type\":\"scatter\"}],\"parcoords\":[{\"type\":\"parcoords\",\"line\":{\"colorbar\":{\"outlinewidth\":0,\"ticks\":\"\"}}}],\"scatterpolargl\":[{\"type\":\"scatterpolargl\",\"marker\":{\"colorbar\":{\"outlinewidth\":0,\"ticks\":\"\"}}}],\"bar\":[{\"error_x\":{\"color\":\"#2a3f5f\"},\"error_y\":{\"color\":\"#2a3f5f\"},\"marker\":{\"line\":{\"color\":\"#E5ECF6\",\"width\":0.5},\"pattern\":{\"fillmode\":\"overlay\",\"size\":10,\"solidity\":0.2}},\"type\":\"bar\"}],\"scattergeo\":[{\"type\":\"scattergeo\",\"marker\":{\"colorbar\":{\"outlinewidth\":0,\"ticks\":\"\"}}}],\"scatterpolar\":[{\"type\":\"scatterpolar\",\"marker\":{\"colorbar\":{\"outlinewidth\":0,\"ticks\":\"\"}}}],\"histogram\":[{\"marker\":{\"pattern\":{\"fillmode\":\"overlay\",\"size\":10,\"solidity\":0.2}},\"type\":\"histogram\"}],\"scattergl\":[{\"type\":\"scattergl\",\"marker\":{\"colorbar\":{\"outlinewidth\":0,\"ticks\":\"\"}}}],\"scatter3d\":[{\"type\":\"scatter3d\",\"line\":{\"colorbar\":{\"outlinewidth\":0,\"ticks\":\"\"}},\"marker\":{\"colorbar\":{\"outlinewidth\":0,\"ticks\":\"\"}}}],\"scattermapbox\":[{\"type\":\"scattermapbox\",\"marker\":{\"colorbar\":{\"outlinewidth\":0,\"ticks\":\"\"}}}],\"scatterternary\":[{\"type\":\"scatterternary\",\"marker\":{\"colorbar\":{\"outlinewidth\":0,\"ticks\":\"\"}}}],\"scattercarpet\":[{\"type\":\"scattercarpet\",\"marker\":{\"colorbar\":{\"outlinewidth\":0,\"ticks\":\"\"}}}],\"carpet\":[{\"aaxis\":{\"endlinecolor\":\"#2a3f5f\",\"gridcolor\":\"white\",\"linecolor\":\"white\",\"minorgridcolor\":\"white\",\"startlinecolor\":\"#2a3f5f\"},\"baxis\":{\"endlinecolor\":\"#2a3f5f\",\"gridcolor\":\"white\",\"linecolor\":\"white\",\"minorgridcolor\":\"white\",\"startlinecolor\":\"#2a3f5f\"},\"type\":\"carpet\"}],\"table\":[{\"cells\":{\"fill\":{\"color\":\"#EBF0F8\"},\"line\":{\"color\":\"white\"}},\"header\":{\"fill\":{\"color\":\"#C8D4E3\"},\"line\":{\"color\":\"white\"}},\"type\":\"table\"}],\"barpolar\":[{\"marker\":{\"line\":{\"color\":\"#E5ECF6\",\"width\":0.5},\"pattern\":{\"fillmode\":\"overlay\",\"size\":10,\"solidity\":0.2}},\"type\":\"barpolar\"}],\"pie\":[{\"automargin\":true,\"type\":\"pie\"}]},\"layout\":{\"autotypenumbers\":\"strict\",\"colorway\":[\"#636efa\",\"#EF553B\",\"#00cc96\",\"#ab63fa\",\"#FFA15A\",\"#19d3f3\",\"#FF6692\",\"#B6E880\",\"#FF97FF\",\"#FECB52\"],\"font\":{\"color\":\"#2a3f5f\"},\"hovermode\":\"closest\",\"hoverlabel\":{\"align\":\"left\"},\"paper_bgcolor\":\"white\",\"plot_bgcolor\":\"#E5ECF6\",\"polar\":{\"bgcolor\":\"#E5ECF6\",\"angularaxis\":{\"gridcolor\":\"white\",\"linecolor\":\"white\",\"ticks\":\"\"},\"radialaxis\":{\"gridcolor\":\"white\",\"linecolor\":\"white\",\"ticks\":\"\"}},\"ternary\":{\"bgcolor\":\"#E5ECF6\",\"aaxis\":{\"gridcolor\":\"white\",\"linecolor\":\"white\",\"ticks\":\"\"},\"baxis\":{\"gridcolor\":\"white\",\"linecolor\":\"white\",\"ticks\":\"\"},\"caxis\":{\"gridcolor\":\"white\",\"linecolor\":\"white\",\"ticks\":\"\"}},\"coloraxis\":{\"colorbar\":{\"outlinewidth\":0,\"ticks\":\"\"}},\"colorscale\":{\"sequential\":[[0.0,\"#0d0887\"],[0.1111111111111111,\"#46039f\"],[0.2222222222222222,\"#7201a8\"],[0.3333333333333333,\"#9c179e\"],[0.4444444444444444,\"#bd3786\"],[0.5555555555555556,\"#d8576b\"],[0.6666666666666666,\"#ed7953\"],[0.7777777777777778,\"#fb9f3a\"],[0.8888888888888888,\"#fdca26\"],[1.0,\"#f0f921\"]],\"sequentialminus\":[[0.0,\"#0d0887\"],[0.1111111111111111,\"#46039f\"],[0.2222222222222222,\"#7201a8\"],[0.3333333333333333,\"#9c179e\"],[0.4444444444444444,\"#bd3786\"],[0.5555555555555556,\"#d8576b\"],[0.6666666666666666,\"#ed7953\"],[0.7777777777777778,\"#fb9f3a\"],[0.8888888888888888,\"#fdca26\"],[1.0,\"#f0f921\"]],\"diverging\":[[0,\"#8e0152\"],[0.1,\"#c51b7d\"],[0.2,\"#de77ae\"],[0.3,\"#f1b6da\"],[0.4,\"#fde0ef\"],[0.5,\"#f7f7f7\"],[0.6,\"#e6f5d0\"],[0.7,\"#b8e186\"],[0.8,\"#7fbc41\"],[0.9,\"#4d9221\"],[1,\"#276419\"]]},\"xaxis\":{\"gridcolor\":\"white\",\"linecolor\":\"white\",\"ticks\":\"\",\"title\":{\"standoff\":15},\"zerolinecolor\":\"white\",\"automargin\":true,\"zerolinewidth\":2},\"yaxis\":{\"gridcolor\":\"white\",\"linecolor\":\"white\",\"ticks\":\"\",\"title\":{\"standoff\":15},\"zerolinecolor\":\"white\",\"automargin\":true,\"zerolinewidth\":2},\"scene\":{\"xaxis\":{\"backgroundcolor\":\"#E5ECF6\",\"gridcolor\":\"white\",\"linecolor\":\"white\",\"showbackground\":true,\"ticks\":\"\",\"zerolinecolor\":\"white\",\"gridwidth\":2},\"yaxis\":{\"backgroundcolor\":\"#E5ECF6\",\"gridcolor\":\"white\",\"linecolor\":\"white\",\"showbackground\":true,\"ticks\":\"\",\"zerolinecolor\":\"white\",\"gridwidth\":2},\"zaxis\":{\"backgroundcolor\":\"#E5ECF6\",\"gridcolor\":\"white\",\"linecolor\":\"white\",\"showbackground\":true,\"ticks\":\"\",\"zerolinecolor\":\"white\",\"gridwidth\":2}},\"shapedefaults\":{\"line\":{\"color\":\"#2a3f5f\"}},\"annotationdefaults\":{\"arrowcolor\":\"#2a3f5f\",\"arrowhead\":0,\"arrowwidth\":1},\"geo\":{\"bgcolor\":\"white\",\"landcolor\":\"#E5ECF6\",\"subunitcolor\":\"white\",\"showland\":true,\"showlakes\":true,\"lakecolor\":\"white\"},\"title\":{\"x\":0.05},\"mapbox\":{\"style\":\"light\"}}},\"xaxis\":{\"anchor\":\"y\",\"domain\":[0.0,1.0],\"title\":{\"text\":\"Submission target body part\"}},\"yaxis\":{\"anchor\":\"x\",\"domain\":[0.0,1.0],\"title\":{\"text\":\"Number of athletes\"}},\"legend\":{\"title\":{\"text\":\"Target\"},\"tracegroupgap\":0,\"orientation\":\"v\",\"yanchor\":\"bottom\",\"y\":0.84,\"xanchor\":\"right\",\"x\":1,\"bgcolor\":\"rgba(0, 0, 0, 0)\"},\"margin\":{\"t\":60},\"barmode\":\"relative\",\"height\":600,\"width\":800,\"title\":{\"text\":\"Top targets for submitting & getting submitted by athlete\",\"x\":0.47}},                        {\"responsive\": true}                    ).then(function(){\n",
       "                            \n",
       "var gd = document.getElementById('00dbc31b-a630-4314-9db2-a9bfe055d974');\n",
       "var x = new MutationObserver(function (mutations, observer) {{\n",
       "        var display = window.getComputedStyle(gd).display;\n",
       "        if (!display || display === 'none') {{\n",
       "            console.log([gd, 'removed!']);\n",
       "            Plotly.purge(gd);\n",
       "            observer.disconnect();\n",
       "        }}\n",
       "}});\n",
       "\n",
       "// Listen for the removal of the full notebook cells\n",
       "var notebookContainer = gd.closest('#notebook-container');\n",
       "if (notebookContainer) {{\n",
       "    x.observe(notebookContainer, {childList: true});\n",
       "}}\n",
       "\n",
       "// Listen for the clearing of the current output cell\n",
       "var outputEl = gd.closest('.output');\n",
       "if (outputEl) {{\n",
       "    x.observe(outputEl, {childList: true});\n",
       "}}\n",
       "\n",
       "                        })                };                });            </script>        </div>"
      ]
     },
     "metadata": {},
     "output_type": "display_data"
    }
   ],
   "source": [
    "fig = px.bar(targets, text_auto=True, width=800, height=600,\n",
    "             labels={'variable': 'Target'}, hover_name='variable',\n",
    "            color_discrete_map={\"Most frequent target when getting submitted\": \"indianred\",\n",
    "                                \"Most frequent target when submitting\": \"lightseagreen\"})\n",
    "fig.update_layout(legend=dict(\n",
    "    orientation=\"v\",\n",
    "    yanchor=\"bottom\",\n",
    "    y=0.84,\n",
    "    xanchor=\"right\",\n",
    "    x=1,\n",
    "    bgcolor='rgba(0, 0, 0, 0)'\n",
    "),\n",
    "    xaxis_title=\"Submission target body part\", yaxis_title=\"Number of athletes\",\n",
    "    title_text='Top targets for submitting & getting submitted by athlete',\n",
    "    title_x=0.47\n",
    ")\n",
    "\n",
    "\n",
    "\n",
    "fig.show()"
   ]
  },
  {
   "cell_type": "markdown",
   "id": "cbfe1149",
   "metadata": {
    "papermill": {
     "duration": 0.025223,
     "end_time": "2023-06-16T16:32:39.597343",
     "exception": false,
     "start_time": "2023-06-16T16:32:39.572120",
     "status": "completed"
    },
    "tags": []
   },
   "source": [
    "Since ADCC is a highly sought after prestigious event for elite grapplers for all over the world, the level of competition in the event is high enough that it's usually hard for them to submit each other.  \n",
    "Even with a ruleset specifically tweaked to increase submission rates, it's not uncommon for athletes to play defensively, given how much is at stake.  \n",
    "Because of that, we can see that most fighters don't have enough submission data (from ADCC boughts, at least) available for us to determine what their preferred target when submitting oponents is or where they are most vulnerable to being submitted.  \n",
    "  \n",
    "Still, it can be seen that wee have more leg specialists than arm specialists but even combined they are not as numerous as the athletes who get their most submissions by neck attacks."
   ]
  },
  {
   "cell_type": "code",
   "execution_count": 6,
   "id": "3f20dcbd",
   "metadata": {
    "_kg_hide-input": true,
    "execution": {
     "iopub.execute_input": "2023-06-16T16:32:39.643375Z",
     "iopub.status.busy": "2023-06-16T16:32:39.642999Z",
     "iopub.status.idle": "2023-06-16T16:32:39.648319Z",
     "shell.execute_reply": "2023-06-16T16:32:39.647478Z"
    },
    "papermill": {
     "duration": 0.030848,
     "end_time": "2023-06-16T16:32:39.650330",
     "exception": false,
     "start_time": "2023-06-16T16:32:39.619482",
     "status": "completed"
    },
    "tags": []
   },
   "outputs": [],
   "source": [
    "# Creates a dataframe containing only athletes who fought in finals or superfights\n",
    "highlvl = df[df['highest_match_importance'] > 3].copy()"
   ]
  },
  {
   "cell_type": "markdown",
   "id": "e82226e9",
   "metadata": {
    "papermill": {
     "duration": 0.021835,
     "end_time": "2023-06-16T16:32:39.694740",
     "exception": false,
     "start_time": "2023-06-16T16:32:39.672905",
     "status": "completed"
    },
    "tags": []
   },
   "source": [
    "### How are win and submission rates distributted among the highest level athletes?\n",
    "The scatter plot below displays only data from the highest level fighters (who've competed in finals and/or superfights)"
   ]
  },
  {
   "cell_type": "code",
   "execution_count": 7,
   "id": "c30c1c80",
   "metadata": {
    "_kg_hide-input": true,
    "execution": {
     "iopub.execute_input": "2023-06-16T16:32:39.741435Z",
     "iopub.status.busy": "2023-06-16T16:32:39.740960Z",
     "iopub.status.idle": "2023-06-16T16:32:39.897963Z",
     "shell.execute_reply": "2023-06-16T16:32:39.896888Z"
    },
    "papermill": {
     "duration": 0.183009,
     "end_time": "2023-06-16T16:32:39.900290",
     "exception": false,
     "start_time": "2023-06-16T16:32:39.717281",
     "status": "completed"
    },
    "tags": []
   },
   "outputs": [
    {
     "data": {
      "text/html": [
       "<div>                            <div id=\"c10c35e5-2347-497e-9dda-0eb203a9d134\" class=\"plotly-graph-div\" style=\"height:800px; width:800px;\"></div>            <script type=\"text/javascript\">                require([\"plotly\"], function(Plotly) {                    window.PLOTLYENV=window.PLOTLYENV || {};                                    if (document.getElementById(\"c10c35e5-2347-497e-9dda-0eb203a9d134\")) {                    Plotly.newPlot(                        \"c10c35e5-2347-497e-9dda-0eb203a9d134\",                        [{\"hovertemplate\":\"<b>%{hovertext}</b><br><br>Number of titles=6<br>win_ratio=%{x}<br>sub_win_ratio=%{y}<br>total_wins=%{marker.size}<extra></extra>\",\"hovertext\":[\"Andre Galvao\"],\"legendgroup\":\"6\",\"marker\":{\"color\":\"#0d0887\",\"opacity\":0.6,\"size\":[22.0],\"sizemode\":\"area\",\"sizeref\":0.01875,\"symbol\":\"circle\"},\"mode\":\"markers\",\"name\":\"6\",\"orientation\":\"v\",\"showlegend\":true,\"x\":[0.8148148148148148],\"xaxis\":\"x\",\"y\":[0.1851851851851851],\"yaxis\":\"y\",\"type\":\"scatter\"},{\"hovertemplate\":\"<b>%{hovertext}</b><br><br>Number of titles=5<br>win_ratio=%{x}<br>sub_win_ratio=%{y}<br>total_wins=%{marker.size}<extra></extra>\",\"hovertext\":[\"Gabrielle Garcia\",\"Gordon Ryan\"],\"legendgroup\":\"5\",\"marker\":{\"color\":\"#46039f\",\"opacity\":0.6,\"size\":[14.0,20.0],\"sizemode\":\"area\",\"sizeref\":0.01875,\"symbol\":\"circle\"},\"mode\":\"markers\",\"name\":\"5\",\"orientation\":\"v\",\"showlegend\":true,\"x\":[0.875,0.9523809523809524],\"xaxis\":\"x\",\"y\":[0.4375,0.7142857142857143],\"yaxis\":\"y\",\"type\":\"scatter\"},{\"hovertemplate\":\"<b>%{hovertext}</b><br><br>Number of titles=4<br>win_ratio=%{x}<br>sub_win_ratio=%{y}<br>total_wins=%{marker.size}<extra></extra>\",\"hovertext\":[\"Marcelo Garcia\",\"Ricardo Arona\",\"Jose Mario Sperry\"],\"legendgroup\":\"4\",\"marker\":{\"color\":\"#7201a8\",\"opacity\":0.6,\"size\":[27.0,13.0,9.0],\"sizemode\":\"area\",\"sizeref\":0.01875,\"symbol\":\"circle\"},\"mode\":\"markers\",\"name\":\"4\",\"orientation\":\"v\",\"showlegend\":true,\"x\":[0.84375,1.0,0.8181818181818182],\"xaxis\":\"x\",\"y\":[0.71875,0.1538461538461538,0.2727272727272727],\"yaxis\":\"y\",\"type\":\"scatter\"},{\"hovertemplate\":\"<b>%{hovertext}</b><br><br>Number of titles=3<br>win_ratio=%{x}<br>sub_win_ratio=%{y}<br>total_wins=%{marker.size}<extra></extra>\",\"hovertext\":[\"Roger Gracie\",\"Yuri Simoes\",\"Dean Lister\",\"Braulio Estima\",\"Rubens Charles\",\"Royler Gracie\"],\"legendgroup\":\"3\",\"marker\":{\"color\":\"#9c179e\",\"opacity\":0.6,\"size\":[12.0,16.0,19.0,12.0,18.0,14.0],\"sizemode\":\"area\",\"sizeref\":0.01875,\"symbol\":\"circle\"},\"mode\":\"markers\",\"name\":\"3\",\"orientation\":\"v\",\"showlegend\":true,\"x\":[0.9230769230769232,0.8421052631578947,0.6785714285714286,0.75,0.9,0.9333333333333332],\"xaxis\":\"x\",\"y\":[0.6153846153846154,0.1052631578947368,0.5714285714285714,0.5,0.35,0.3333333333333333],\"yaxis\":\"y\",\"type\":\"scatter\"},{\"hovertemplate\":\"<b>%{hovertext}</b><br><br>Number of titles=2<br>win_ratio=%{x}<br>sub_win_ratio=%{y}<br>total_wins=%{marker.size}<extra></extra>\",\"hovertext\":[\"Jonathan Torres\",\"Alexandre Ribeiro\",\"Marcus Almeida\",\"Kaynan Duarte\",\"Leonardo Vieira\",\"Rafael Mendes\",\"Renzo Gracie\",\"Ronaldo Souza\",\"Saulo Ribeiro\",\"Mark Kerr\"],\"legendgroup\":\"2\",\"marker\":{\"color\":\"#bd3786\",\"opacity\":0.6,\"size\":[12.0,30.0,18.0,8.0,21.0,11.0,11.0,11.0,22.0,5.0],\"sizemode\":\"area\",\"sizeref\":0.01875,\"symbol\":\"circle\"},\"mode\":\"markers\",\"name\":\"2\",\"orientation\":\"v\",\"showlegend\":true,\"x\":[0.8,0.6976744186046512,0.8181818181818182,0.8888888888888888,0.7,0.9166666666666666,0.7333333333333333,0.7857142857142857,0.7333333333333333,0.8333333333333334],\"xaxis\":\"x\",\"y\":[0.0666666666666666,0.3023255813953488,0.3636363636363636,0.1111111111111111,0.2,0.5,0.2,0.4285714285714285,0.1333333333333333,0.0],\"yaxis\":\"y\",\"type\":\"scatter\"},{\"hovertemplate\":\"<b>%{hovertext}</b><br><br>Number of titles=1<br>win_ratio=%{x}<br>sub_win_ratio=%{y}<br>total_wins=%{marker.size}<extra></extra>\",\"hovertext\":[\"Bianca Basilio\",\"Jean Jacques Machado\",\"Joao Assis\",\"Roberto Traven\",\"Alexandre de Freitas\",\"Ricco Rodriguez\",\"Mackenzie Dern\",\"Kade Ruotolo\",\"Ffion Davies\",\"Rany Yahya\",\"Vinicius Magalhaes\",\"Marcio Cruz\",\"Sanae Kikuta\",\"Chael Sonnen\",\"Jeff Monson\",\"Robert Drysdale\",\"Felipe Pena\",\"Rodrigo Gracie\",\"Fabricio Werdum\",\"Rodolfo Vieira\",\"Demian Maia\",\"Diogo Reis\",\"Bianca Mesquita\",\"Giancarlo Bodoni\",\"Kron Gracie\",\"Claudio Calasans\",\"Davi Ramos\",\"Romulo Barral\",\"Matheus Diniz\",\"Roberto Abreu\",\"Marcio Feitosa\",\"Pablo Popovitch\",\"Orlando Sanchez\",\"Amy Campo\",\"Augusto Mendes\"],\"legendgroup\":\"1\",\"marker\":{\"color\":\"#d8576b\",\"opacity\":0.6,\"size\":[6.0,11.0,10.0,5.0,13.0,15.0,3.0,4.0,5.0,10.0,19.0,15.0,1.0,1.0,6.0,2.0,13.0,6.0,20.0,8.0,7.0,4.0,1.0,5.0,8.0,7.0,4.0,10.0,5.0,20.0,8.0,19.0,9.0,3.0,9.0],\"sizemode\":\"area\",\"sizeref\":0.01875,\"symbol\":\"circle\"},\"mode\":\"markers\",\"name\":\"1\",\"orientation\":\"v\",\"showlegend\":true,\"x\":[0.6666666666666666,0.7333333333333333,0.7142857142857143,0.7142857142857143,0.6842105263157895,0.625,0.75,1.0,0.8333333333333334,0.7692307692307693,0.6551724137931034,0.6818181818181818,0.5,0.5,0.4615384615384615,0.5,0.7222222222222222,0.75,0.7692307692307693,0.8,0.875,1.0,1.0,0.8333333333333334,0.8,0.5833333333333334,1.0,0.5555555555555556,0.8333333333333334,0.6896551724137931,0.7272727272727273,0.7307692307692307,0.6923076923076923,1.0,0.6923076923076923],\"xaxis\":\"x\",\"y\":[0.3333333333333333,0.6,0.3571428571428571,0.1428571428571428,0.4736842105263157,0.2916666666666667,0.25,1.0,0.3333333333333333,0.3846153846153846,0.3793103448275862,0.2272727272727272,0.0,0.0,0.0,0.5,0.2222222222222222,0.375,0.3076923076923077,0.4,0.125,0.0,1.0,0.6666666666666666,0.7,0.1666666666666666,0.75,0.3333333333333333,0.0,0.1034482758620689,0.0909090909090909,0.1153846153846153,0.1538461538461538,0.0,0.2307692307692307],\"yaxis\":\"y\",\"type\":\"scatter\"},{\"hovertemplate\":\"<b>%{hovertext}</b><br><br>Number of titles=0<br>win_ratio=%{x}<br>sub_win_ratio=%{y}<br>total_wins=%{marker.size}<extra></extra>\",\"hovertext\":[\"Sean Alvarez\",\"Otto Olsen\",\"Hanette Staack\",\"Ricardo Alves\",\"Jon Einemo\",\"Enson Inoe\",\"A. Cacareco\",\"Kareem Barkalev\",\"Fabio Gurgel\",\"Robin Gracie\",\"Hayato Sakurai\",\"Caol Uno\",\"Gerardi Rinaldi\",\"Michelle Nicolini\",\"Carina Santi\",\"Talita Treta\",\"Hannette Staack\",\"Fernanda Mazelli\",\"Nicholas Meregali\",\"Flavio Almeida\",\"Baret Yoshida\",\"Otavio Sousa\",\"Bruno Frazatto\",\"Craig Jones\",\"Brianna Ste-Marie\",\"Gabriel Sousa\",\"Keenan Cornelius\",\"Lucas Lepri\",\"Lucas Daniel Barbosa\",\"Jared Dopp\",\"AJ Agazarm\",\"Joao Gabriel Rocha\",\"Vinicius Ferreira\",\"Kennedy Maciel\",\"Nick Rodriguez\",\"Matt Serra\",\"Micael Galvao\",\"Rafael Lovato Jr\",\"Rafaela Guedes\",\"Ricardo Almeida\",\"Ricardo Liborio\",\"Rousimar Palhares\",\"Vagner Rocha\",\"Luis Brito\"],\"legendgroup\":\"0\",\"marker\":{\"color\":\"#ed7953\",\"opacity\":0.6,\"size\":[2.0,0.0,0.0,0.0,0.0,0.0,5.0,1.0,0.0,0.0,1.0,0.0,0.0,0.0,0.0,0.0,0.0,0.0,6.0,1.0,11.0,5.0,3.0,9.0,2.0,3.0,12.0,8.0,5.0,8.0,4.0,9.0,4.0,4.0,7.0,3.0,3.0,14.0,2.0,12.0,7.0,3.0,11.0,0.0],\"sizemode\":\"area\",\"sizeref\":0.01875,\"symbol\":\"circle\"},\"mode\":\"markers\",\"name\":\"0\",\"orientation\":\"v\",\"showlegend\":true,\"x\":[0.6666666666666666,0.0,0.0,0.0,0.0,0.0,0.3846153846153846,0.3333333333333333,0.0,0.0,0.3333333333333333,0.0,0.0,0.0,0.0,0.0,0.0,0.0,0.75,0.5,0.5,0.625,0.4285714285714285,0.6428571428571429,0.6666666666666666,0.75,0.75,0.6666666666666666,0.7142857142857143,0.5333333333333333,0.4444444444444444,0.6,0.5714285714285714,0.6666666666666666,0.7,0.75,0.75,0.5384615384615384,0.6666666666666666,0.631578947368421,0.7,0.75,0.6470588235294118,0.0],\"xaxis\":\"x\",\"y\":[0.0,0.0,0.0,0.0,0.0,0.0,0.2307692307692307,0.0,0.0,0.0,0.3333333333333333,0.0,0.0,0.0,0.0,0.0,0.0,0.0,0.125,0.0,0.4090909090909091,0.375,0.1428571428571428,0.5714285714285714,0.0,0.25,0.25,0.0833333333333333,0.0,0.0666666666666666,0.0,0.0666666666666666,0.0,0.5,0.1,0.5,0.25,0.2692307692307692,0.0,0.3684210526315789,0.2,0.75,0.1176470588235294,0.0],\"yaxis\":\"y\",\"type\":\"scatter\"}],                        {\"template\":{\"data\":{\"histogram2dcontour\":[{\"type\":\"histogram2dcontour\",\"colorbar\":{\"outlinewidth\":0,\"ticks\":\"\"},\"colorscale\":[[0.0,\"#0d0887\"],[0.1111111111111111,\"#46039f\"],[0.2222222222222222,\"#7201a8\"],[0.3333333333333333,\"#9c179e\"],[0.4444444444444444,\"#bd3786\"],[0.5555555555555556,\"#d8576b\"],[0.6666666666666666,\"#ed7953\"],[0.7777777777777778,\"#fb9f3a\"],[0.8888888888888888,\"#fdca26\"],[1.0,\"#f0f921\"]]}],\"choropleth\":[{\"type\":\"choropleth\",\"colorbar\":{\"outlinewidth\":0,\"ticks\":\"\"}}],\"histogram2d\":[{\"type\":\"histogram2d\",\"colorbar\":{\"outlinewidth\":0,\"ticks\":\"\"},\"colorscale\":[[0.0,\"#0d0887\"],[0.1111111111111111,\"#46039f\"],[0.2222222222222222,\"#7201a8\"],[0.3333333333333333,\"#9c179e\"],[0.4444444444444444,\"#bd3786\"],[0.5555555555555556,\"#d8576b\"],[0.6666666666666666,\"#ed7953\"],[0.7777777777777778,\"#fb9f3a\"],[0.8888888888888888,\"#fdca26\"],[1.0,\"#f0f921\"]]}],\"heatmap\":[{\"type\":\"heatmap\",\"colorbar\":{\"outlinewidth\":0,\"ticks\":\"\"},\"colorscale\":[[0.0,\"#0d0887\"],[0.1111111111111111,\"#46039f\"],[0.2222222222222222,\"#7201a8\"],[0.3333333333333333,\"#9c179e\"],[0.4444444444444444,\"#bd3786\"],[0.5555555555555556,\"#d8576b\"],[0.6666666666666666,\"#ed7953\"],[0.7777777777777778,\"#fb9f3a\"],[0.8888888888888888,\"#fdca26\"],[1.0,\"#f0f921\"]]}],\"heatmapgl\":[{\"type\":\"heatmapgl\",\"colorbar\":{\"outlinewidth\":0,\"ticks\":\"\"},\"colorscale\":[[0.0,\"#0d0887\"],[0.1111111111111111,\"#46039f\"],[0.2222222222222222,\"#7201a8\"],[0.3333333333333333,\"#9c179e\"],[0.4444444444444444,\"#bd3786\"],[0.5555555555555556,\"#d8576b\"],[0.6666666666666666,\"#ed7953\"],[0.7777777777777778,\"#fb9f3a\"],[0.8888888888888888,\"#fdca26\"],[1.0,\"#f0f921\"]]}],\"contourcarpet\":[{\"type\":\"contourcarpet\",\"colorbar\":{\"outlinewidth\":0,\"ticks\":\"\"}}],\"contour\":[{\"type\":\"contour\",\"colorbar\":{\"outlinewidth\":0,\"ticks\":\"\"},\"colorscale\":[[0.0,\"#0d0887\"],[0.1111111111111111,\"#46039f\"],[0.2222222222222222,\"#7201a8\"],[0.3333333333333333,\"#9c179e\"],[0.4444444444444444,\"#bd3786\"],[0.5555555555555556,\"#d8576b\"],[0.6666666666666666,\"#ed7953\"],[0.7777777777777778,\"#fb9f3a\"],[0.8888888888888888,\"#fdca26\"],[1.0,\"#f0f921\"]]}],\"surface\":[{\"type\":\"surface\",\"colorbar\":{\"outlinewidth\":0,\"ticks\":\"\"},\"colorscale\":[[0.0,\"#0d0887\"],[0.1111111111111111,\"#46039f\"],[0.2222222222222222,\"#7201a8\"],[0.3333333333333333,\"#9c179e\"],[0.4444444444444444,\"#bd3786\"],[0.5555555555555556,\"#d8576b\"],[0.6666666666666666,\"#ed7953\"],[0.7777777777777778,\"#fb9f3a\"],[0.8888888888888888,\"#fdca26\"],[1.0,\"#f0f921\"]]}],\"mesh3d\":[{\"type\":\"mesh3d\",\"colorbar\":{\"outlinewidth\":0,\"ticks\":\"\"}}],\"scatter\":[{\"fillpattern\":{\"fillmode\":\"overlay\",\"size\":10,\"solidity\":0.2},\"type\":\"scatter\"}],\"parcoords\":[{\"type\":\"parcoords\",\"line\":{\"colorbar\":{\"outlinewidth\":0,\"ticks\":\"\"}}}],\"scatterpolargl\":[{\"type\":\"scatterpolargl\",\"marker\":{\"colorbar\":{\"outlinewidth\":0,\"ticks\":\"\"}}}],\"bar\":[{\"error_x\":{\"color\":\"#2a3f5f\"},\"error_y\":{\"color\":\"#2a3f5f\"},\"marker\":{\"line\":{\"color\":\"#E5ECF6\",\"width\":0.5},\"pattern\":{\"fillmode\":\"overlay\",\"size\":10,\"solidity\":0.2}},\"type\":\"bar\"}],\"scattergeo\":[{\"type\":\"scattergeo\",\"marker\":{\"colorbar\":{\"outlinewidth\":0,\"ticks\":\"\"}}}],\"scatterpolar\":[{\"type\":\"scatterpolar\",\"marker\":{\"colorbar\":{\"outlinewidth\":0,\"ticks\":\"\"}}}],\"histogram\":[{\"marker\":{\"pattern\":{\"fillmode\":\"overlay\",\"size\":10,\"solidity\":0.2}},\"type\":\"histogram\"}],\"scattergl\":[{\"type\":\"scattergl\",\"marker\":{\"colorbar\":{\"outlinewidth\":0,\"ticks\":\"\"}}}],\"scatter3d\":[{\"type\":\"scatter3d\",\"line\":{\"colorbar\":{\"outlinewidth\":0,\"ticks\":\"\"}},\"marker\":{\"colorbar\":{\"outlinewidth\":0,\"ticks\":\"\"}}}],\"scattermapbox\":[{\"type\":\"scattermapbox\",\"marker\":{\"colorbar\":{\"outlinewidth\":0,\"ticks\":\"\"}}}],\"scatterternary\":[{\"type\":\"scatterternary\",\"marker\":{\"colorbar\":{\"outlinewidth\":0,\"ticks\":\"\"}}}],\"scattercarpet\":[{\"type\":\"scattercarpet\",\"marker\":{\"colorbar\":{\"outlinewidth\":0,\"ticks\":\"\"}}}],\"carpet\":[{\"aaxis\":{\"endlinecolor\":\"#2a3f5f\",\"gridcolor\":\"white\",\"linecolor\":\"white\",\"minorgridcolor\":\"white\",\"startlinecolor\":\"#2a3f5f\"},\"baxis\":{\"endlinecolor\":\"#2a3f5f\",\"gridcolor\":\"white\",\"linecolor\":\"white\",\"minorgridcolor\":\"white\",\"startlinecolor\":\"#2a3f5f\"},\"type\":\"carpet\"}],\"table\":[{\"cells\":{\"fill\":{\"color\":\"#EBF0F8\"},\"line\":{\"color\":\"white\"}},\"header\":{\"fill\":{\"color\":\"#C8D4E3\"},\"line\":{\"color\":\"white\"}},\"type\":\"table\"}],\"barpolar\":[{\"marker\":{\"line\":{\"color\":\"#E5ECF6\",\"width\":0.5},\"pattern\":{\"fillmode\":\"overlay\",\"size\":10,\"solidity\":0.2}},\"type\":\"barpolar\"}],\"pie\":[{\"automargin\":true,\"type\":\"pie\"}]},\"layout\":{\"autotypenumbers\":\"strict\",\"colorway\":[\"#636efa\",\"#EF553B\",\"#00cc96\",\"#ab63fa\",\"#FFA15A\",\"#19d3f3\",\"#FF6692\",\"#B6E880\",\"#FF97FF\",\"#FECB52\"],\"font\":{\"color\":\"#2a3f5f\"},\"hovermode\":\"closest\",\"hoverlabel\":{\"align\":\"left\"},\"paper_bgcolor\":\"white\",\"plot_bgcolor\":\"#E5ECF6\",\"polar\":{\"bgcolor\":\"#E5ECF6\",\"angularaxis\":{\"gridcolor\":\"white\",\"linecolor\":\"white\",\"ticks\":\"\"},\"radialaxis\":{\"gridcolor\":\"white\",\"linecolor\":\"white\",\"ticks\":\"\"}},\"ternary\":{\"bgcolor\":\"#E5ECF6\",\"aaxis\":{\"gridcolor\":\"white\",\"linecolor\":\"white\",\"ticks\":\"\"},\"baxis\":{\"gridcolor\":\"white\",\"linecolor\":\"white\",\"ticks\":\"\"},\"caxis\":{\"gridcolor\":\"white\",\"linecolor\":\"white\",\"ticks\":\"\"}},\"coloraxis\":{\"colorbar\":{\"outlinewidth\":0,\"ticks\":\"\"}},\"colorscale\":{\"sequential\":[[0.0,\"#0d0887\"],[0.1111111111111111,\"#46039f\"],[0.2222222222222222,\"#7201a8\"],[0.3333333333333333,\"#9c179e\"],[0.4444444444444444,\"#bd3786\"],[0.5555555555555556,\"#d8576b\"],[0.6666666666666666,\"#ed7953\"],[0.7777777777777778,\"#fb9f3a\"],[0.8888888888888888,\"#fdca26\"],[1.0,\"#f0f921\"]],\"sequentialminus\":[[0.0,\"#0d0887\"],[0.1111111111111111,\"#46039f\"],[0.2222222222222222,\"#7201a8\"],[0.3333333333333333,\"#9c179e\"],[0.4444444444444444,\"#bd3786\"],[0.5555555555555556,\"#d8576b\"],[0.6666666666666666,\"#ed7953\"],[0.7777777777777778,\"#fb9f3a\"],[0.8888888888888888,\"#fdca26\"],[1.0,\"#f0f921\"]],\"diverging\":[[0,\"#8e0152\"],[0.1,\"#c51b7d\"],[0.2,\"#de77ae\"],[0.3,\"#f1b6da\"],[0.4,\"#fde0ef\"],[0.5,\"#f7f7f7\"],[0.6,\"#e6f5d0\"],[0.7,\"#b8e186\"],[0.8,\"#7fbc41\"],[0.9,\"#4d9221\"],[1,\"#276419\"]]},\"xaxis\":{\"gridcolor\":\"white\",\"linecolor\":\"white\",\"ticks\":\"\",\"title\":{\"standoff\":15},\"zerolinecolor\":\"white\",\"automargin\":true,\"zerolinewidth\":2},\"yaxis\":{\"gridcolor\":\"white\",\"linecolor\":\"white\",\"ticks\":\"\",\"title\":{\"standoff\":15},\"zerolinecolor\":\"white\",\"automargin\":true,\"zerolinewidth\":2},\"scene\":{\"xaxis\":{\"backgroundcolor\":\"#E5ECF6\",\"gridcolor\":\"white\",\"linecolor\":\"white\",\"showbackground\":true,\"ticks\":\"\",\"zerolinecolor\":\"white\",\"gridwidth\":2},\"yaxis\":{\"backgroundcolor\":\"#E5ECF6\",\"gridcolor\":\"white\",\"linecolor\":\"white\",\"showbackground\":true,\"ticks\":\"\",\"zerolinecolor\":\"white\",\"gridwidth\":2},\"zaxis\":{\"backgroundcolor\":\"#E5ECF6\",\"gridcolor\":\"white\",\"linecolor\":\"white\",\"showbackground\":true,\"ticks\":\"\",\"zerolinecolor\":\"white\",\"gridwidth\":2}},\"shapedefaults\":{\"line\":{\"color\":\"#2a3f5f\"}},\"annotationdefaults\":{\"arrowcolor\":\"#2a3f5f\",\"arrowhead\":0,\"arrowwidth\":1},\"geo\":{\"bgcolor\":\"white\",\"landcolor\":\"#E5ECF6\",\"subunitcolor\":\"white\",\"showland\":true,\"showlakes\":true,\"lakecolor\":\"white\"},\"title\":{\"x\":0.05},\"mapbox\":{\"style\":\"light\"}}},\"xaxis\":{\"anchor\":\"y\",\"domain\":[0.0,1.0],\"title\":{\"text\":\"Win ratio\"}},\"yaxis\":{\"anchor\":\"x\",\"domain\":[0.0,1.0],\"title\":{\"text\":\"Submission ratio\"}},\"legend\":{\"title\":{\"text\":\"Number of titles\"},\"tracegroupgap\":0,\"itemsizing\":\"constant\"},\"margin\":{\"t\":60},\"height\":800,\"width\":800,\"title\":{\"text\":\"Win ratio vs Submission ratio\",\"y\":0.95,\"x\":0.5,\"xanchor\":\"center\",\"yanchor\":\"top\"},\"annotations\":[{\"font\":{\"size\":12},\"showarrow\":false,\"text\":\"(Bubble size proportional to total wins)\",\"x\":0.54,\"xref\":\"paper\",\"y\":0.99,\"yref\":\"paper\"}]},                        {\"responsive\": true}                    ).then(function(){\n",
       "                            \n",
       "var gd = document.getElementById('c10c35e5-2347-497e-9dda-0eb203a9d134');\n",
       "var x = new MutationObserver(function (mutations, observer) {{\n",
       "        var display = window.getComputedStyle(gd).display;\n",
       "        if (!display || display === 'none') {{\n",
       "            console.log([gd, 'removed!']);\n",
       "            Plotly.purge(gd);\n",
       "            observer.disconnect();\n",
       "        }}\n",
       "}});\n",
       "\n",
       "// Listen for the removal of the full notebook cells\n",
       "var notebookContainer = gd.closest('#notebook-container');\n",
       "if (notebookContainer) {{\n",
       "    x.observe(notebookContainer, {childList: true});\n",
       "}}\n",
       "\n",
       "// Listen for the clearing of the current output cell\n",
       "var outputEl = gd.closest('.output');\n",
       "if (outputEl) {{\n",
       "    x.observe(outputEl, {childList: true});\n",
       "}}\n",
       "\n",
       "                        })                };                });            </script>        </div>"
      ]
     },
     "metadata": {},
     "output_type": "display_data"
    }
   ],
   "source": [
    "# Plots the distribution between win rates and submission rates\n",
    "# For athletes who competed in finals or superfights\n",
    "highlvl.sort_values(by='n_titles', inplace=True, ascending=False)\n",
    "# Generates the chart object by instanciating a plotly express histogram\n",
    "fig = px.scatter(highlvl, x='win_ratio', y='sub_win_ratio', hover_name=\"name\",\n",
    "                color=highlvl['n_titles'].astype(str),\n",
    "                size='total_wins', size_max=40, opacity=0.6,\n",
    "                color_discrete_sequence=px.colors.sequential.Plasma,\n",
    "                labels={'color': 'Number of titles'},\n",
    "                width=800, height=800)\n",
    "\n",
    "\n",
    "fig.update_layout(\n",
    "    title={\n",
    "        'text': \"Win ratio vs Submission ratio\",\n",
    "        'y':0.95,\n",
    "        'x':0.5,\n",
    "        'xanchor': 'center',\n",
    "        'yanchor': 'top'\n",
    "    },\n",
    "    xaxis_title=\"Win ratio\", yaxis_title=\"Submission ratio\"\n",
    "\n",
    ")\n",
    "\n",
    "\n",
    "# Display observation under title explaining bubble size\n",
    "legend_annotations = [\n",
    "    dict(\n",
    "        x=0.54,\n",
    "        y=0.99,\n",
    "        xref=\"paper\",\n",
    "        yref=\"paper\",\n",
    "        text=f\"(Bubble size proportional to total wins)\",\n",
    "        showarrow=False,\n",
    "        font=dict(size=12),\n",
    "    )]\n",
    "\n",
    "fig.update_layout(annotations=legend_annotations)\n",
    "\n",
    "\n",
    "fig.show()"
   ]
  },
  {
   "cell_type": "markdown",
   "id": "92e559e0",
   "metadata": {
    "papermill": {
     "duration": 0.022916,
     "end_time": "2023-06-16T16:32:39.945935",
     "exception": false,
     "start_time": "2023-06-16T16:32:39.923019",
     "status": "completed"
    },
    "tags": []
   },
   "source": [
    "This type of chart showscases how impressive some athletes' achievements are, such as Ricardo Arona's undefeated status with 13 total wins and 4 titles.  \n",
    "The promise Kade Ruotolo showcased winning 4 matches by submission in his first appearance also stands out."
   ]
  },
  {
   "cell_type": "markdown",
   "id": "1ceef634",
   "metadata": {
    "papermill": {
     "duration": 0.022357,
     "end_time": "2023-06-16T16:32:39.991330",
     "exception": false,
     "start_time": "2023-06-16T16:32:39.968973",
     "status": "completed"
    },
    "tags": []
   },
   "source": [
    "### How does performance vary among different submission specialties?  \n",
    "***Custom Score*** is an engineered feature calculated using different metrics such as victories/losses at each competition level and number of appearances by the athlete."
   ]
  },
  {
   "cell_type": "code",
   "execution_count": 8,
   "id": "e1e5fbb9",
   "metadata": {
    "_kg_hide-input": true,
    "execution": {
     "iopub.execute_input": "2023-06-16T16:32:40.039226Z",
     "iopub.status.busy": "2023-06-16T16:32:40.038795Z",
     "iopub.status.idle": "2023-06-16T16:32:40.130571Z",
     "shell.execute_reply": "2023-06-16T16:32:40.129562Z"
    },
    "papermill": {
     "duration": 0.118463,
     "end_time": "2023-06-16T16:32:40.132950",
     "exception": false,
     "start_time": "2023-06-16T16:32:40.014487",
     "status": "completed"
    },
    "tags": []
   },
   "outputs": [
    {
     "data": {
      "text/html": [
       "<div>                            <div id=\"56f6d6fa-675e-4b0f-886b-ae4096f74ed6\" class=\"plotly-graph-div\" style=\"height:810px; width:900px;\"></div>            <script type=\"text/javascript\">                require([\"plotly\"], function(Plotly) {                    window.PLOTLYENV=window.PLOTLYENV || {};                                    if (document.getElementById(\"56f6d6fa-675e-4b0f-886b-ae4096f74ed6\")) {                    Plotly.newPlot(                        \"56f6d6fa-675e-4b0f-886b-ae4096f74ed6\",                        [{\"hovertemplate\":\"<b>%{hovertext}</b><br><br>Most frequent submission target=Leg<br>custom_score=%{x}<br>sub_win_ratio=%{y}<br>total_wins=%{marker.size}<extra></extra>\",\"hovertext\":[\"Andre Galvao\",\"Ricardo Arona\",\"Dean Lister\",\"Marcus Almeida\",\"Joao Assis\",\"Mackenzie Dern\",\"Vinicius Magalhaes\",\"Claudio Calasans\",\"Romulo Barral\",\"Augusto Mendes\",\"A. Cacareco\",\"Hayato Sakurai\",\"Keenan Cornelius\",\"Rousimar Palhares\"],\"legendgroup\":\"Leg\",\"marker\":{\"color\":\"rgb(127, 60, 141)\",\"size\":[22.0,13.0,19.0,18.0,10.0,3.0,19.0,7.0,10.0,9.0,5.0,1.0,12.0,3.0],\"sizemode\":\"area\",\"sizeref\":0.01875,\"symbol\":\"circle\"},\"mode\":\"markers\",\"name\":\"Leg\",\"orientation\":\"v\",\"showlegend\":true,\"x\":[3.2576866086694647,16.40523389473827,1.0218391777536946,2.232126960870493,0.6123433112856046,1.642907908563631,0.4417200335905673,0.9103653029929368,0.2956665078836152,0.4007704469437583,0.5713937246387958,0.9262901422444736,1.1810875702690629,0.8307411067352526],\"xaxis\":\"x\",\"y\":[0.1851851851851851,0.1538461538461538,0.5714285714285714,0.3636363636363636,0.3571428571428571,0.25,0.3793103448275862,0.1666666666666666,0.3333333333333333,0.2307692307692307,0.2307692307692307,0.3333333333333333,0.25,0.75],\"yaxis\":\"y\",\"type\":\"scatter\"},{\"hovertemplate\":\"<b>%{hovertext}</b><br><br>Most frequent submission target=Other/Unknown<br>custom_score=%{x}<br>sub_win_ratio=%{y}<br>total_wins=%{marker.size}<extra></extra>\",\"hovertext\":[\"Gabrielle Garcia\",\"Roberto Traven\"],\"legendgroup\":\"Other/Unknown\",\"marker\":{\"color\":\"rgb(17, 165, 121)\",\"size\":[14.0,5.0],\"sizemode\":\"area\",\"sizeref\":0.01875,\"symbol\":\"circle\"},\"mode\":\"markers\",\"name\":\"Other/Unknown\",\"orientation\":\"v\",\"showlegend\":true,\"x\":[2.6734725058416564,0.9581398207475472],\"xaxis\":\"x\",\"y\":[0.4375,0.1428571428571428],\"yaxis\":\"y\",\"type\":\"scatter\"},{\"hovertemplate\":\"<b>%{hovertext}</b><br><br>Most frequent submission target=Neck<br>custom_score=%{x}<br>sub_win_ratio=%{y}<br>total_wins=%{marker.size}<extra></extra>\",\"hovertext\":[\"Gordon Ryan\",\"Marcelo Garcia\",\"Roger Gracie\",\"Yuri Simoes\",\"Braulio Estima\",\"Rubens Charles\",\"Royler Gracie\",\"Jonathan Torres\",\"Kaynan Duarte\",\"Leonardo Vieira\",\"Rafael Mendes\",\"Renzo Gracie\",\"Saulo Ribeiro\",\"Bianca Basilio\",\"Jean Jacques Machado\",\"Alexandre de Freitas\",\"Rany Yahya\",\"Robert Drysdale\",\"Felipe Pena\",\"Rodrigo Gracie\",\"Rodolfo Vieira\",\"Bianca Mesquita\",\"Giancarlo Bodoni\",\"Kron Gracie\",\"Davi Ramos\",\"Pablo Popovitch\",\"Orlando Sanchez\",\"Baret Yoshida\",\"Otavio Sousa\",\"Bruno Frazatto\",\"Craig Jones\",\"Gabriel Sousa\",\"Lucas Lepri\",\"Jared Dopp\",\"Joao Gabriel Rocha\",\"Kennedy Maciel\",\"Nick Rodriguez\",\"Matt Serra\",\"Rafael Lovato Jr\",\"Ricardo Almeida\",\"Ricardo Liborio\"],\"legendgroup\":\"Neck\",\"marker\":{\"color\":\"rgb(57, 105, 172)\",\"size\":[20.0,27.0,12.0,16.0,12.0,18.0,14.0,12.0,8.0,21.0,11.0,11.0,22.0,6.0,11.0,13.0,10.0,2.0,13.0,6.0,8.0,1.0,5.0,8.0,4.0,19.0,9.0,11.0,5.0,3.0,9.0,3.0,8.0,8.0,9.0,4.0,7.0,3.0,14.0,12.0,7.0],\"sizemode\":\"area\",\"sizeref\":0.01875,\"symbol\":\"circle\"},\"mode\":\"markers\",\"name\":\"Neck\",\"orientation\":\"v\",\"showlegend\":true,\"x\":[5.417094811177859,2.2002772823674195,3.362790547729608,1.417685182006181,2.5346989066496928,2.0182791194927128,2.359525674882788,0.6874175534714212,2.263976639373567,0.7925214925315641,2.216202121618956,0.7670417497291053,0.8968904390108671,1.1747176345684482,1.4995843552997992,0.9050570232424244,0.6123433112856046,1.7862314618274622,1.3084862842813574,1.4040353197905784,0.8785156244898631,2.6461727814104505,1.642907908563631,0.868960720938941,3.60166313650266,0.8466659459867893,0.4246577058210635,0.1209482715238969,0.5679812590848949,0.2096723759253163,0.6714927142198844,0.8307411067352526,0.2335596348026216,0.3529959291891478,0.8880705280407851,0.2335596348026216,0.8546283656125578,0.8307411067352526,0.1960225137097133,0.6635302945941159,0.4007704469437583],\"xaxis\":\"x\",\"y\":[0.7142857142857143,0.71875,0.6153846153846154,0.1052631578947368,0.5,0.35,0.3333333333333333,0.0666666666666666,0.1111111111111111,0.2,0.5,0.2,0.1333333333333333,0.3333333333333333,0.6,0.4736842105263157,0.3846153846153846,0.5,0.2222222222222222,0.375,0.4,1.0,0.6666666666666666,0.7,0.75,0.1153846153846153,0.1538461538461538,0.4090909090909091,0.375,0.1428571428571428,0.5714285714285714,0.25,0.0833333333333333,0.0666666666666666,0.0666666666666666,0.5,0.1,0.5,0.2692307692307692,0.3684210526315789,0.2],\"yaxis\":\"y\",\"type\":\"scatter\"},{\"hovertemplate\":\"<b>%{hovertext}</b><br><br>Most frequent submission target=Arm<br>custom_score=%{x}<br>sub_win_ratio=%{y}<br>total_wins=%{marker.size}<extra></extra>\",\"hovertext\":[\"Jose Mario Sperry\",\"Alexandre Ribeiro\",\"Ronaldo Souza\",\"Ricco Rodriguez\",\"Kade Ruotolo\",\"Ffion Davies\",\"Marcio Cruz\",\"Fabricio Werdum\",\"Demian Maia\",\"Roberto Abreu\",\"Marcio Feitosa\",\"Nicholas Meregali\",\"Micael Galvao\",\"Vagner Rocha\"],\"legendgroup\":\"Arm\",\"marker\":{\"color\":\"rgb(242, 183, 1)\",\"size\":[9.0,30.0,11.0,15.0,4.0,5.0,15.0,20.0,7.0,20.0,8.0,6.0,3.0,11.0],\"sizemode\":\"area\",\"sizeref\":0.01875,\"symbol\":\"circle\"},\"mode\":\"markers\",\"name\":\"Arm\",\"orientation\":\"v\",\"showlegend\":true,\"x\":[3.20354215521424,1.1364980203647597,2.279901478625104,0.6396430357168107,3.60166313650266,1.7543817833243889,0.6205332286149665,1.2023206892711118,1.7543817833243889,0.8748406615856623,0.703342392722958,1.977329532845904,0.8307411067352526,0.395462167193246],\"xaxis\":\"x\",\"y\":[0.2727272727272727,0.3023255813953488,0.4285714285714285,0.2916666666666667,1.0,0.3333333333333333,0.2272727272727272,0.3076923076923077,0.125,0.1034482758620689,0.0909090909090909,0.125,0.25,0.1176470588235294],\"yaxis\":\"y\",\"type\":\"scatter\"},{\"hovertemplate\":\"<b>%{hovertext}</b><br><br>Most frequent submission target=No specific target<br>custom_score=%{x}<br>sub_win_ratio=%{y}<br>total_wins=%{marker.size}<extra></extra>\",\"hovertext\":[\"Mark Kerr\",\"Sanae Kikuta\",\"Chael Sonnen\",\"Jeff Monson\",\"Diogo Reis\",\"Matheus Diniz\",\"Amy Campo\",\"Sean Alvarez\",\"Otto Olsen\",\"Hanette Staack\",\"Ricardo Alves\",\"Jon Einemo\",\"Enson Inoe\",\"Kareem Barkalev\",\"Fabio Gurgel\",\"Robin Gracie\",\"Caol Uno\",\"Gerardi Rinaldi\",\"Michelle Nicolini\",\"Carina Santi\",\"Talita Treta\",\"Hannette Staack\",\"Fernanda Mazelli\",\"Flavio Almeida\",\"Brianna Ste-Marie\",\"Lucas Daniel Barbosa\",\"AJ Agazarm\",\"Vinicius Ferreira\",\"Rafaela Guedes\",\"Luis Brito\"],\"legendgroup\":\"No specific target\",\"marker\":{\"color\":\"rgb(231, 63, 116)\",\"size\":[5.0,1.0,1.0,6.0,4.0,5.0,3.0,2.0,0.0,0.0,0.0,0.0,0.0,1.0,0.0,0.0,0.0,0.0,0.0,0.0,0.0,0.0,0.0,1.0,2.0,5.0,4.0,4.0,2.0,0.0],\"sizemode\":\"area\",\"sizeref\":0.01875,\"symbol\":\"circle\"},\"mode\":\"markers\",\"name\":\"No specific target\",\"orientation\":\"v\",\"showlegend\":true,\"x\":[3.506114100993439,1.1173882132629154,1.977329532845904,0.5653271192096387,3.60166313650266,0.9581398207475472,3.60166313650266,0.2255972151768532,1.1173882132629154,1.1173882132629154,1.1173882132629154,1.977329532845904,1.977329532845904,0.1937475366737795,1.977329532845904,1.1173882132629154,1.1173882132629154,2.359525674882788,1.1173882132629154,1.1173882132629154,1.1173882132629154,1.1173882132629154,1.1173882132629154,0.7351920712260316,0.8307411067352526,0.3529959291891478,0.0185743049068744,0.2335596348026216,0.8307411067352526,1.1173882132629154],\"xaxis\":\"x\",\"y\":[0.0,0.0,0.0,0.0,0.0,0.0,0.0,0.0,0.0,0.0,0.0,0.0,0.0,0.0,0.0,0.0,0.0,0.0,0.0,0.0,0.0,0.0,0.0,0.0,0.0,0.0,0.0,0.0,0.0,0.0],\"yaxis\":\"y\",\"type\":\"scatter\"}],                        {\"template\":{\"data\":{\"histogram2dcontour\":[{\"type\":\"histogram2dcontour\",\"colorbar\":{\"outlinewidth\":0,\"ticks\":\"\"},\"colorscale\":[[0.0,\"#0d0887\"],[0.1111111111111111,\"#46039f\"],[0.2222222222222222,\"#7201a8\"],[0.3333333333333333,\"#9c179e\"],[0.4444444444444444,\"#bd3786\"],[0.5555555555555556,\"#d8576b\"],[0.6666666666666666,\"#ed7953\"],[0.7777777777777778,\"#fb9f3a\"],[0.8888888888888888,\"#fdca26\"],[1.0,\"#f0f921\"]]}],\"choropleth\":[{\"type\":\"choropleth\",\"colorbar\":{\"outlinewidth\":0,\"ticks\":\"\"}}],\"histogram2d\":[{\"type\":\"histogram2d\",\"colorbar\":{\"outlinewidth\":0,\"ticks\":\"\"},\"colorscale\":[[0.0,\"#0d0887\"],[0.1111111111111111,\"#46039f\"],[0.2222222222222222,\"#7201a8\"],[0.3333333333333333,\"#9c179e\"],[0.4444444444444444,\"#bd3786\"],[0.5555555555555556,\"#d8576b\"],[0.6666666666666666,\"#ed7953\"],[0.7777777777777778,\"#fb9f3a\"],[0.8888888888888888,\"#fdca26\"],[1.0,\"#f0f921\"]]}],\"heatmap\":[{\"type\":\"heatmap\",\"colorbar\":{\"outlinewidth\":0,\"ticks\":\"\"},\"colorscale\":[[0.0,\"#0d0887\"],[0.1111111111111111,\"#46039f\"],[0.2222222222222222,\"#7201a8\"],[0.3333333333333333,\"#9c179e\"],[0.4444444444444444,\"#bd3786\"],[0.5555555555555556,\"#d8576b\"],[0.6666666666666666,\"#ed7953\"],[0.7777777777777778,\"#fb9f3a\"],[0.8888888888888888,\"#fdca26\"],[1.0,\"#f0f921\"]]}],\"heatmapgl\":[{\"type\":\"heatmapgl\",\"colorbar\":{\"outlinewidth\":0,\"ticks\":\"\"},\"colorscale\":[[0.0,\"#0d0887\"],[0.1111111111111111,\"#46039f\"],[0.2222222222222222,\"#7201a8\"],[0.3333333333333333,\"#9c179e\"],[0.4444444444444444,\"#bd3786\"],[0.5555555555555556,\"#d8576b\"],[0.6666666666666666,\"#ed7953\"],[0.7777777777777778,\"#fb9f3a\"],[0.8888888888888888,\"#fdca26\"],[1.0,\"#f0f921\"]]}],\"contourcarpet\":[{\"type\":\"contourcarpet\",\"colorbar\":{\"outlinewidth\":0,\"ticks\":\"\"}}],\"contour\":[{\"type\":\"contour\",\"colorbar\":{\"outlinewidth\":0,\"ticks\":\"\"},\"colorscale\":[[0.0,\"#0d0887\"],[0.1111111111111111,\"#46039f\"],[0.2222222222222222,\"#7201a8\"],[0.3333333333333333,\"#9c179e\"],[0.4444444444444444,\"#bd3786\"],[0.5555555555555556,\"#d8576b\"],[0.6666666666666666,\"#ed7953\"],[0.7777777777777778,\"#fb9f3a\"],[0.8888888888888888,\"#fdca26\"],[1.0,\"#f0f921\"]]}],\"surface\":[{\"type\":\"surface\",\"colorbar\":{\"outlinewidth\":0,\"ticks\":\"\"},\"colorscale\":[[0.0,\"#0d0887\"],[0.1111111111111111,\"#46039f\"],[0.2222222222222222,\"#7201a8\"],[0.3333333333333333,\"#9c179e\"],[0.4444444444444444,\"#bd3786\"],[0.5555555555555556,\"#d8576b\"],[0.6666666666666666,\"#ed7953\"],[0.7777777777777778,\"#fb9f3a\"],[0.8888888888888888,\"#fdca26\"],[1.0,\"#f0f921\"]]}],\"mesh3d\":[{\"type\":\"mesh3d\",\"colorbar\":{\"outlinewidth\":0,\"ticks\":\"\"}}],\"scatter\":[{\"fillpattern\":{\"fillmode\":\"overlay\",\"size\":10,\"solidity\":0.2},\"type\":\"scatter\"}],\"parcoords\":[{\"type\":\"parcoords\",\"line\":{\"colorbar\":{\"outlinewidth\":0,\"ticks\":\"\"}}}],\"scatterpolargl\":[{\"type\":\"scatterpolargl\",\"marker\":{\"colorbar\":{\"outlinewidth\":0,\"ticks\":\"\"}}}],\"bar\":[{\"error_x\":{\"color\":\"#2a3f5f\"},\"error_y\":{\"color\":\"#2a3f5f\"},\"marker\":{\"line\":{\"color\":\"#E5ECF6\",\"width\":0.5},\"pattern\":{\"fillmode\":\"overlay\",\"size\":10,\"solidity\":0.2}},\"type\":\"bar\"}],\"scattergeo\":[{\"type\":\"scattergeo\",\"marker\":{\"colorbar\":{\"outlinewidth\":0,\"ticks\":\"\"}}}],\"scatterpolar\":[{\"type\":\"scatterpolar\",\"marker\":{\"colorbar\":{\"outlinewidth\":0,\"ticks\":\"\"}}}],\"histogram\":[{\"marker\":{\"pattern\":{\"fillmode\":\"overlay\",\"size\":10,\"solidity\":0.2}},\"type\":\"histogram\"}],\"scattergl\":[{\"type\":\"scattergl\",\"marker\":{\"colorbar\":{\"outlinewidth\":0,\"ticks\":\"\"}}}],\"scatter3d\":[{\"type\":\"scatter3d\",\"line\":{\"colorbar\":{\"outlinewidth\":0,\"ticks\":\"\"}},\"marker\":{\"colorbar\":{\"outlinewidth\":0,\"ticks\":\"\"}}}],\"scattermapbox\":[{\"type\":\"scattermapbox\",\"marker\":{\"colorbar\":{\"outlinewidth\":0,\"ticks\":\"\"}}}],\"scatterternary\":[{\"type\":\"scatterternary\",\"marker\":{\"colorbar\":{\"outlinewidth\":0,\"ticks\":\"\"}}}],\"scattercarpet\":[{\"type\":\"scattercarpet\",\"marker\":{\"colorbar\":{\"outlinewidth\":0,\"ticks\":\"\"}}}],\"carpet\":[{\"aaxis\":{\"endlinecolor\":\"#2a3f5f\",\"gridcolor\":\"white\",\"linecolor\":\"white\",\"minorgridcolor\":\"white\",\"startlinecolor\":\"#2a3f5f\"},\"baxis\":{\"endlinecolor\":\"#2a3f5f\",\"gridcolor\":\"white\",\"linecolor\":\"white\",\"minorgridcolor\":\"white\",\"startlinecolor\":\"#2a3f5f\"},\"type\":\"carpet\"}],\"table\":[{\"cells\":{\"fill\":{\"color\":\"#EBF0F8\"},\"line\":{\"color\":\"white\"}},\"header\":{\"fill\":{\"color\":\"#C8D4E3\"},\"line\":{\"color\":\"white\"}},\"type\":\"table\"}],\"barpolar\":[{\"marker\":{\"line\":{\"color\":\"#E5ECF6\",\"width\":0.5},\"pattern\":{\"fillmode\":\"overlay\",\"size\":10,\"solidity\":0.2}},\"type\":\"barpolar\"}],\"pie\":[{\"automargin\":true,\"type\":\"pie\"}]},\"layout\":{\"autotypenumbers\":\"strict\",\"colorway\":[\"#636efa\",\"#EF553B\",\"#00cc96\",\"#ab63fa\",\"#FFA15A\",\"#19d3f3\",\"#FF6692\",\"#B6E880\",\"#FF97FF\",\"#FECB52\"],\"font\":{\"color\":\"#2a3f5f\"},\"hovermode\":\"closest\",\"hoverlabel\":{\"align\":\"left\"},\"paper_bgcolor\":\"white\",\"plot_bgcolor\":\"#E5ECF6\",\"polar\":{\"bgcolor\":\"#E5ECF6\",\"angularaxis\":{\"gridcolor\":\"white\",\"linecolor\":\"white\",\"ticks\":\"\"},\"radialaxis\":{\"gridcolor\":\"white\",\"linecolor\":\"white\",\"ticks\":\"\"}},\"ternary\":{\"bgcolor\":\"#E5ECF6\",\"aaxis\":{\"gridcolor\":\"white\",\"linecolor\":\"white\",\"ticks\":\"\"},\"baxis\":{\"gridcolor\":\"white\",\"linecolor\":\"white\",\"ticks\":\"\"},\"caxis\":{\"gridcolor\":\"white\",\"linecolor\":\"white\",\"ticks\":\"\"}},\"coloraxis\":{\"colorbar\":{\"outlinewidth\":0,\"ticks\":\"\"}},\"colorscale\":{\"sequential\":[[0.0,\"#0d0887\"],[0.1111111111111111,\"#46039f\"],[0.2222222222222222,\"#7201a8\"],[0.3333333333333333,\"#9c179e\"],[0.4444444444444444,\"#bd3786\"],[0.5555555555555556,\"#d8576b\"],[0.6666666666666666,\"#ed7953\"],[0.7777777777777778,\"#fb9f3a\"],[0.8888888888888888,\"#fdca26\"],[1.0,\"#f0f921\"]],\"sequentialminus\":[[0.0,\"#0d0887\"],[0.1111111111111111,\"#46039f\"],[0.2222222222222222,\"#7201a8\"],[0.3333333333333333,\"#9c179e\"],[0.4444444444444444,\"#bd3786\"],[0.5555555555555556,\"#d8576b\"],[0.6666666666666666,\"#ed7953\"],[0.7777777777777778,\"#fb9f3a\"],[0.8888888888888888,\"#fdca26\"],[1.0,\"#f0f921\"]],\"diverging\":[[0,\"#8e0152\"],[0.1,\"#c51b7d\"],[0.2,\"#de77ae\"],[0.3,\"#f1b6da\"],[0.4,\"#fde0ef\"],[0.5,\"#f7f7f7\"],[0.6,\"#e6f5d0\"],[0.7,\"#b8e186\"],[0.8,\"#7fbc41\"],[0.9,\"#4d9221\"],[1,\"#276419\"]]},\"xaxis\":{\"gridcolor\":\"white\",\"linecolor\":\"white\",\"ticks\":\"\",\"title\":{\"standoff\":15},\"zerolinecolor\":\"white\",\"automargin\":true,\"zerolinewidth\":2},\"yaxis\":{\"gridcolor\":\"white\",\"linecolor\":\"white\",\"ticks\":\"\",\"title\":{\"standoff\":15},\"zerolinecolor\":\"white\",\"automargin\":true,\"zerolinewidth\":2},\"scene\":{\"xaxis\":{\"backgroundcolor\":\"#E5ECF6\",\"gridcolor\":\"white\",\"linecolor\":\"white\",\"showbackground\":true,\"ticks\":\"\",\"zerolinecolor\":\"white\",\"gridwidth\":2},\"yaxis\":{\"backgroundcolor\":\"#E5ECF6\",\"gridcolor\":\"white\",\"linecolor\":\"white\",\"showbackground\":true,\"ticks\":\"\",\"zerolinecolor\":\"white\",\"gridwidth\":2},\"zaxis\":{\"backgroundcolor\":\"#E5ECF6\",\"gridcolor\":\"white\",\"linecolor\":\"white\",\"showbackground\":true,\"ticks\":\"\",\"zerolinecolor\":\"white\",\"gridwidth\":2}},\"shapedefaults\":{\"line\":{\"color\":\"#2a3f5f\"}},\"annotationdefaults\":{\"arrowcolor\":\"#2a3f5f\",\"arrowhead\":0,\"arrowwidth\":1},\"geo\":{\"bgcolor\":\"white\",\"landcolor\":\"#E5ECF6\",\"subunitcolor\":\"white\",\"showland\":true,\"showlakes\":true,\"lakecolor\":\"white\"},\"title\":{\"x\":0.05},\"mapbox\":{\"style\":\"light\"}}},\"xaxis\":{\"anchor\":\"y\",\"domain\":[0.0,1.0],\"title\":{\"text\":\"Custom score\"},\"type\":\"log\"},\"yaxis\":{\"anchor\":\"x\",\"domain\":[0.0,1.0],\"title\":{\"text\":\"Submission ratio\"}},\"legend\":{\"title\":{\"text\":\"Most frequent submission target\"},\"tracegroupgap\":0,\"itemsizing\":\"constant\"},\"margin\":{\"t\":60},\"height\":810,\"width\":900,\"title\":{\"text\":\"Submission ratio by custom score\",\"y\":0.95,\"x\":0.42,\"xanchor\":\"center\",\"yanchor\":\"top\"},\"annotations\":[{\"font\":{\"size\":12},\"showarrow\":false,\"text\":\"(Bubble size proportional to Titles won)\",\"x\":0.52,\"xref\":\"paper\",\"y\":0.99,\"yref\":\"paper\"}]},                        {\"responsive\": true}                    ).then(function(){\n",
       "                            \n",
       "var gd = document.getElementById('56f6d6fa-675e-4b0f-886b-ae4096f74ed6');\n",
       "var x = new MutationObserver(function (mutations, observer) {{\n",
       "        var display = window.getComputedStyle(gd).display;\n",
       "        if (!display || display === 'none') {{\n",
       "            console.log([gd, 'removed!']);\n",
       "            Plotly.purge(gd);\n",
       "            observer.disconnect();\n",
       "        }}\n",
       "}});\n",
       "\n",
       "// Listen for the removal of the full notebook cells\n",
       "var notebookContainer = gd.closest('#notebook-container');\n",
       "if (notebookContainer) {{\n",
       "    x.observe(notebookContainer, {childList: true});\n",
       "}}\n",
       "\n",
       "// Listen for the clearing of the current output cell\n",
       "var outputEl = gd.closest('.output');\n",
       "if (outputEl) {{\n",
       "    x.observe(outputEl, {childList: true});\n",
       "}}\n",
       "\n",
       "                        })                };                });            </script>        </div>"
      ]
     },
     "metadata": {},
     "output_type": "display_data"
    }
   ],
   "source": [
    "# Plots the distribution between win rates and submission rates\n",
    "\n",
    "# Generates the chart object by instanciating a plotly express histogram\n",
    "fig = px.scatter(highlvl, x='custom_score', y='sub_win_ratio', hover_name=\"name\",\n",
    "                 color='favorite_target', labels={'favorite_target': 'Most frequent submission target'},\n",
    "                width=900, height=810, size='total_wins', log_x=True,\n",
    "                color_discrete_sequence=px.colors.qualitative.Bold, size_max=40)\n",
    "\n",
    "\n",
    "fig.update_layout(\n",
    "    title={\n",
    "        'text': \"Submission ratio by custom score\",\n",
    "        'y':0.95,\n",
    "        'x':0.42,\n",
    "        'xanchor': 'center',\n",
    "        'yanchor': 'top'\n",
    "    },\n",
    "    xaxis_title=\"Custom score\", yaxis_title=\"Submission ratio\"\n",
    "\n",
    ")\n",
    "\n",
    "\n",
    "# Display observation under title explaining bubble size\n",
    "legend_annotations = [\n",
    "    dict(\n",
    "        x=0.52,\n",
    "        y=0.99,\n",
    "        xref=\"paper\",\n",
    "        yref=\"paper\",\n",
    "        text=f\"(Bubble size proportional to Titles won)\",\n",
    "        showarrow=False,\n",
    "        font=dict(size=12),\n",
    "    )]\n",
    "\n",
    "fig.update_layout(annotations=legend_annotations)\n",
    "\n",
    "\n",
    "fig.show()"
   ]
  },
  {
   "cell_type": "markdown",
   "id": "2cc4c0e1",
   "metadata": {
    "papermill": {
     "duration": 0.023307,
     "end_time": "2023-06-16T16:32:40.179895",
     "exception": false,
     "start_time": "2023-06-16T16:32:40.156588",
     "status": "completed"
    },
    "tags": []
   },
   "source": [
    "This chart clearly displays the difference between those who never got to showcase their preferred target for submissions at the highest level and those who could.  \n",
    "It's also possible to see that Arm specialist in general displayed similar results with this metrics, so Fabricio Werdum, Ronaldo Souza, Alexandre Ribeiro and FFion Davies are packed in close proximity. Kade Ruotolo's an evident outlier from this group, as is Ricardo Arona for the Leg attackers.  \n",
    "Being the most common preferred target among athletes, Neck attackers are a more broadly distributted group here.\n"
   ]
  },
  {
   "cell_type": "markdown",
   "id": "a7dfa727",
   "metadata": {
    "papermill": {
     "duration": 0.022881,
     "end_time": "2023-06-16T16:32:40.227181",
     "exception": false,
     "start_time": "2023-06-16T16:32:40.204300",
     "status": "completed"
    },
    "tags": []
   },
   "source": [
    "### How is the *highest* level of competition an athlete has faced distributted?"
   ]
  },
  {
   "cell_type": "code",
   "execution_count": 9,
   "id": "2b72b521",
   "metadata": {
    "_kg_hide-input": true,
    "execution": {
     "iopub.execute_input": "2023-06-16T16:32:40.277010Z",
     "iopub.status.busy": "2023-06-16T16:32:40.276265Z",
     "iopub.status.idle": "2023-06-16T16:32:40.376482Z",
     "shell.execute_reply": "2023-06-16T16:32:40.375433Z"
    },
    "papermill": {
     "duration": 0.127419,
     "end_time": "2023-06-16T16:32:40.378781",
     "exception": false,
     "start_time": "2023-06-16T16:32:40.251362",
     "status": "completed"
    },
    "tags": []
   },
   "outputs": [
    {
     "data": {
      "text/html": [
       "<div>                            <div id=\"e2ad79d2-3f19-4604-9410-f713c9f4b4f1\" class=\"plotly-graph-div\" style=\"height:525px; width:100%;\"></div>            <script type=\"text/javascript\">                require([\"plotly\"], function(Plotly) {                    window.PLOTLYENV=window.PLOTLYENV || {};                                    if (document.getElementById(\"e2ad79d2-3f19-4604-9410-f713c9f4b4f1\")) {                    Plotly.newPlot(                        \"e2ad79d2-3f19-4604-9410-f713c9f4b4f1\",                        [{\"alignmentgroup\":\"True\",\"bingroup\":\"x\",\"hovertemplate\":\"x=%{x}<br>count=%{y}<extra></extra>\",\"legendgroup\":\"\",\"marker\":{\"color\":\"#636efa\",\"pattern\":{\"shape\":\"\"}},\"name\":\"\",\"offsetgroup\":\"\",\"orientation\":\"v\",\"showlegend\":false,\"x\":[3,4,4,4,4,3,4,3,3,1,5,1,3,4,3,5,4,5,2,1,5,1,5,4,4,4,3,4,3,4,3,4,2,5,1,1,4,3,4,1,3,5,3,4,4,4,4,4,1,4,4,4,1,3,3,1,1,4,3,4,3,1,1,4,4,4,5,4,4,1,1,4,4,5,3,1,3,5,3,4,4,3,5,3,3,4,4,4,4,1,3,3,5,4,4,1,4,4,4,4,4,5,4,5,4,1,4,4,4,1,4,1,3,4,1,1,4,4,3,4,1,3,1,1,1,1,3,4,4,1,1,1,4,1,4,1,3,1,1,1,2,2,3,1,1,1,4,4,1,1,1,1,1,2,4,3,1,4,0,3,2,0,4,5,2,2,2,1,4,3,0,1,5,3,4,2,4,1,5,2,1,3,2,3,0,2,2,2,1,3,4,0,1,1,1,1,3,4,0,0,0,0,0,0,0,0,0,0,0,0,0,0,0,0,0,0,0,0,0,0,0,1,0,0,0,0,0,0,0,0,0,0,1,0,0,0,0,0,0,0,0,1,0,4,3,1,1,0,1,1,0,0,1,2,1,4,1,0,2,0,0,0,0,0,1,2,1,0,1,0,1,0,0,0,0,0,0,0,0,0,1,1,0,0,4,1,2,4,1,3,4,1,2,4,0,3,0,0,0,0,0,0,0,0,0,0,0,0,1,2,0,0,4,0,1,0,0,0,0,1,0,0,0,1,0,0,0,0,0,0,0,0,0,0,2,2,0,0,0,0,0,0,0,1,2,4,0,1,2,0,0,1,0,0,1,3,0,0,1,0,1,0,0,0,0,0,1,0,1,0,0,0,0,1,0,1,1,0,1,3,1,0,0,1,2,1,0,3,0,0,0,3,0,1,1,0,0,1,1,1,1,0,0,0,0,0,0,1,0,0,0,5,0,1,0,0,1,2,1,2,5,0,0,1,3,0,0,1,1,0,0,0,2,1,2,0,0,0,1,1,0,0,0,0,1,2,0,0,0,2,0,0,0,1,0,0,0,1,0,0,0,0,0,1,0,0,0,1,0,0,0,0,0,1,0,0,0,0,0,0,1,2,1,3,0,0,0,0,1,1,1,1,1,0,0,0,1,1,0,1,0,0,0,0,0,1,0,1,0,0,0,1,2,1,0,0,5,0,0,0,1,0,3,1,0,0,0,2,2,0,1,0,0,1,0,0,0,1,1,1,1,0,0,0,0,0,1,0,0,0,1,0,0,0,0,1,4,2,1,4,1,0,1,0,0,1,0,0,1,0,0,1,4,0,0,0,1,1,4,0,0,0,0,0,0,0,0,1,1,0,0,0,1,0,1,0,0,0,0,0,0,1,0,0,0,0,0,0,0,0,1,0,0,1],\"xaxis\":\"x\",\"yaxis\":\"y\",\"type\":\"histogram\",\"text\":[\"44.63%\",\"25.08%\",\"13.19%\",\"7.82%\",\"6.03%\",\"3.26%\"],\"textposition\":\"auto\"}],                        {\"template\":{\"data\":{\"histogram2dcontour\":[{\"type\":\"histogram2dcontour\",\"colorbar\":{\"outlinewidth\":0,\"ticks\":\"\"},\"colorscale\":[[0.0,\"#0d0887\"],[0.1111111111111111,\"#46039f\"],[0.2222222222222222,\"#7201a8\"],[0.3333333333333333,\"#9c179e\"],[0.4444444444444444,\"#bd3786\"],[0.5555555555555556,\"#d8576b\"],[0.6666666666666666,\"#ed7953\"],[0.7777777777777778,\"#fb9f3a\"],[0.8888888888888888,\"#fdca26\"],[1.0,\"#f0f921\"]]}],\"choropleth\":[{\"type\":\"choropleth\",\"colorbar\":{\"outlinewidth\":0,\"ticks\":\"\"}}],\"histogram2d\":[{\"type\":\"histogram2d\",\"colorbar\":{\"outlinewidth\":0,\"ticks\":\"\"},\"colorscale\":[[0.0,\"#0d0887\"],[0.1111111111111111,\"#46039f\"],[0.2222222222222222,\"#7201a8\"],[0.3333333333333333,\"#9c179e\"],[0.4444444444444444,\"#bd3786\"],[0.5555555555555556,\"#d8576b\"],[0.6666666666666666,\"#ed7953\"],[0.7777777777777778,\"#fb9f3a\"],[0.8888888888888888,\"#fdca26\"],[1.0,\"#f0f921\"]]}],\"heatmap\":[{\"type\":\"heatmap\",\"colorbar\":{\"outlinewidth\":0,\"ticks\":\"\"},\"colorscale\":[[0.0,\"#0d0887\"],[0.1111111111111111,\"#46039f\"],[0.2222222222222222,\"#7201a8\"],[0.3333333333333333,\"#9c179e\"],[0.4444444444444444,\"#bd3786\"],[0.5555555555555556,\"#d8576b\"],[0.6666666666666666,\"#ed7953\"],[0.7777777777777778,\"#fb9f3a\"],[0.8888888888888888,\"#fdca26\"],[1.0,\"#f0f921\"]]}],\"heatmapgl\":[{\"type\":\"heatmapgl\",\"colorbar\":{\"outlinewidth\":0,\"ticks\":\"\"},\"colorscale\":[[0.0,\"#0d0887\"],[0.1111111111111111,\"#46039f\"],[0.2222222222222222,\"#7201a8\"],[0.3333333333333333,\"#9c179e\"],[0.4444444444444444,\"#bd3786\"],[0.5555555555555556,\"#d8576b\"],[0.6666666666666666,\"#ed7953\"],[0.7777777777777778,\"#fb9f3a\"],[0.8888888888888888,\"#fdca26\"],[1.0,\"#f0f921\"]]}],\"contourcarpet\":[{\"type\":\"contourcarpet\",\"colorbar\":{\"outlinewidth\":0,\"ticks\":\"\"}}],\"contour\":[{\"type\":\"contour\",\"colorbar\":{\"outlinewidth\":0,\"ticks\":\"\"},\"colorscale\":[[0.0,\"#0d0887\"],[0.1111111111111111,\"#46039f\"],[0.2222222222222222,\"#7201a8\"],[0.3333333333333333,\"#9c179e\"],[0.4444444444444444,\"#bd3786\"],[0.5555555555555556,\"#d8576b\"],[0.6666666666666666,\"#ed7953\"],[0.7777777777777778,\"#fb9f3a\"],[0.8888888888888888,\"#fdca26\"],[1.0,\"#f0f921\"]]}],\"surface\":[{\"type\":\"surface\",\"colorbar\":{\"outlinewidth\":0,\"ticks\":\"\"},\"colorscale\":[[0.0,\"#0d0887\"],[0.1111111111111111,\"#46039f\"],[0.2222222222222222,\"#7201a8\"],[0.3333333333333333,\"#9c179e\"],[0.4444444444444444,\"#bd3786\"],[0.5555555555555556,\"#d8576b\"],[0.6666666666666666,\"#ed7953\"],[0.7777777777777778,\"#fb9f3a\"],[0.8888888888888888,\"#fdca26\"],[1.0,\"#f0f921\"]]}],\"mesh3d\":[{\"type\":\"mesh3d\",\"colorbar\":{\"outlinewidth\":0,\"ticks\":\"\"}}],\"scatter\":[{\"fillpattern\":{\"fillmode\":\"overlay\",\"size\":10,\"solidity\":0.2},\"type\":\"scatter\"}],\"parcoords\":[{\"type\":\"parcoords\",\"line\":{\"colorbar\":{\"outlinewidth\":0,\"ticks\":\"\"}}}],\"scatterpolargl\":[{\"type\":\"scatterpolargl\",\"marker\":{\"colorbar\":{\"outlinewidth\":0,\"ticks\":\"\"}}}],\"bar\":[{\"error_x\":{\"color\":\"#2a3f5f\"},\"error_y\":{\"color\":\"#2a3f5f\"},\"marker\":{\"line\":{\"color\":\"#E5ECF6\",\"width\":0.5},\"pattern\":{\"fillmode\":\"overlay\",\"size\":10,\"solidity\":0.2}},\"type\":\"bar\"}],\"scattergeo\":[{\"type\":\"scattergeo\",\"marker\":{\"colorbar\":{\"outlinewidth\":0,\"ticks\":\"\"}}}],\"scatterpolar\":[{\"type\":\"scatterpolar\",\"marker\":{\"colorbar\":{\"outlinewidth\":0,\"ticks\":\"\"}}}],\"histogram\":[{\"marker\":{\"pattern\":{\"fillmode\":\"overlay\",\"size\":10,\"solidity\":0.2}},\"type\":\"histogram\"}],\"scattergl\":[{\"type\":\"scattergl\",\"marker\":{\"colorbar\":{\"outlinewidth\":0,\"ticks\":\"\"}}}],\"scatter3d\":[{\"type\":\"scatter3d\",\"line\":{\"colorbar\":{\"outlinewidth\":0,\"ticks\":\"\"}},\"marker\":{\"colorbar\":{\"outlinewidth\":0,\"ticks\":\"\"}}}],\"scattermapbox\":[{\"type\":\"scattermapbox\",\"marker\":{\"colorbar\":{\"outlinewidth\":0,\"ticks\":\"\"}}}],\"scatterternary\":[{\"type\":\"scatterternary\",\"marker\":{\"colorbar\":{\"outlinewidth\":0,\"ticks\":\"\"}}}],\"scattercarpet\":[{\"type\":\"scattercarpet\",\"marker\":{\"colorbar\":{\"outlinewidth\":0,\"ticks\":\"\"}}}],\"carpet\":[{\"aaxis\":{\"endlinecolor\":\"#2a3f5f\",\"gridcolor\":\"white\",\"linecolor\":\"white\",\"minorgridcolor\":\"white\",\"startlinecolor\":\"#2a3f5f\"},\"baxis\":{\"endlinecolor\":\"#2a3f5f\",\"gridcolor\":\"white\",\"linecolor\":\"white\",\"minorgridcolor\":\"white\",\"startlinecolor\":\"#2a3f5f\"},\"type\":\"carpet\"}],\"table\":[{\"cells\":{\"fill\":{\"color\":\"#EBF0F8\"},\"line\":{\"color\":\"white\"}},\"header\":{\"fill\":{\"color\":\"#C8D4E3\"},\"line\":{\"color\":\"white\"}},\"type\":\"table\"}],\"barpolar\":[{\"marker\":{\"line\":{\"color\":\"#E5ECF6\",\"width\":0.5},\"pattern\":{\"fillmode\":\"overlay\",\"size\":10,\"solidity\":0.2}},\"type\":\"barpolar\"}],\"pie\":[{\"automargin\":true,\"type\":\"pie\"}]},\"layout\":{\"autotypenumbers\":\"strict\",\"colorway\":[\"#636efa\",\"#EF553B\",\"#00cc96\",\"#ab63fa\",\"#FFA15A\",\"#19d3f3\",\"#FF6692\",\"#B6E880\",\"#FF97FF\",\"#FECB52\"],\"font\":{\"color\":\"#2a3f5f\"},\"hovermode\":\"closest\",\"hoverlabel\":{\"align\":\"left\"},\"paper_bgcolor\":\"white\",\"plot_bgcolor\":\"#E5ECF6\",\"polar\":{\"bgcolor\":\"#E5ECF6\",\"angularaxis\":{\"gridcolor\":\"white\",\"linecolor\":\"white\",\"ticks\":\"\"},\"radialaxis\":{\"gridcolor\":\"white\",\"linecolor\":\"white\",\"ticks\":\"\"}},\"ternary\":{\"bgcolor\":\"#E5ECF6\",\"aaxis\":{\"gridcolor\":\"white\",\"linecolor\":\"white\",\"ticks\":\"\"},\"baxis\":{\"gridcolor\":\"white\",\"linecolor\":\"white\",\"ticks\":\"\"},\"caxis\":{\"gridcolor\":\"white\",\"linecolor\":\"white\",\"ticks\":\"\"}},\"coloraxis\":{\"colorbar\":{\"outlinewidth\":0,\"ticks\":\"\"}},\"colorscale\":{\"sequential\":[[0.0,\"#0d0887\"],[0.1111111111111111,\"#46039f\"],[0.2222222222222222,\"#7201a8\"],[0.3333333333333333,\"#9c179e\"],[0.4444444444444444,\"#bd3786\"],[0.5555555555555556,\"#d8576b\"],[0.6666666666666666,\"#ed7953\"],[0.7777777777777778,\"#fb9f3a\"],[0.8888888888888888,\"#fdca26\"],[1.0,\"#f0f921\"]],\"sequentialminus\":[[0.0,\"#0d0887\"],[0.1111111111111111,\"#46039f\"],[0.2222222222222222,\"#7201a8\"],[0.3333333333333333,\"#9c179e\"],[0.4444444444444444,\"#bd3786\"],[0.5555555555555556,\"#d8576b\"],[0.6666666666666666,\"#ed7953\"],[0.7777777777777778,\"#fb9f3a\"],[0.8888888888888888,\"#fdca26\"],[1.0,\"#f0f921\"]],\"diverging\":[[0,\"#8e0152\"],[0.1,\"#c51b7d\"],[0.2,\"#de77ae\"],[0.3,\"#f1b6da\"],[0.4,\"#fde0ef\"],[0.5,\"#f7f7f7\"],[0.6,\"#e6f5d0\"],[0.7,\"#b8e186\"],[0.8,\"#7fbc41\"],[0.9,\"#4d9221\"],[1,\"#276419\"]]},\"xaxis\":{\"gridcolor\":\"white\",\"linecolor\":\"white\",\"ticks\":\"\",\"title\":{\"standoff\":15},\"zerolinecolor\":\"white\",\"automargin\":true,\"zerolinewidth\":2},\"yaxis\":{\"gridcolor\":\"white\",\"linecolor\":\"white\",\"ticks\":\"\",\"title\":{\"standoff\":15},\"zerolinecolor\":\"white\",\"automargin\":true,\"zerolinewidth\":2},\"scene\":{\"xaxis\":{\"backgroundcolor\":\"#E5ECF6\",\"gridcolor\":\"white\",\"linecolor\":\"white\",\"showbackground\":true,\"ticks\":\"\",\"zerolinecolor\":\"white\",\"gridwidth\":2},\"yaxis\":{\"backgroundcolor\":\"#E5ECF6\",\"gridcolor\":\"white\",\"linecolor\":\"white\",\"showbackground\":true,\"ticks\":\"\",\"zerolinecolor\":\"white\",\"gridwidth\":2},\"zaxis\":{\"backgroundcolor\":\"#E5ECF6\",\"gridcolor\":\"white\",\"linecolor\":\"white\",\"showbackground\":true,\"ticks\":\"\",\"zerolinecolor\":\"white\",\"gridwidth\":2}},\"shapedefaults\":{\"line\":{\"color\":\"#2a3f5f\"}},\"annotationdefaults\":{\"arrowcolor\":\"#2a3f5f\",\"arrowhead\":0,\"arrowwidth\":1},\"geo\":{\"bgcolor\":\"white\",\"landcolor\":\"#E5ECF6\",\"subunitcolor\":\"white\",\"showland\":true,\"showlakes\":true,\"lakecolor\":\"white\"},\"title\":{\"x\":0.05},\"mapbox\":{\"style\":\"light\"}}},\"xaxis\":{\"anchor\":\"y\",\"domain\":[0.0,1.0],\"title\":{\"text\":\"Match importance, 0 being the first round, 5 finals and 6 superfights\"},\"ticktext\":[\"Other\",\"Quarterfinals\",\"Semifinals\",\"3rd place\",\"Finals\",\"Superfight\"],\"tickvals\":[\"0\",\"1\",\"2\",\"3\",\"4\",\"5\"]},\"yaxis\":{\"anchor\":\"x\",\"domain\":[0.0,1.0],\"title\":{\"text\":\"Number of athletes\"}},\"legend\":{\"tracegroupgap\":0},\"margin\":{\"t\":60},\"barmode\":\"relative\",\"title\":{\"text\":\"Distribution of highest match importance fighter competed in\",\"y\":0.95,\"x\":0.5,\"xanchor\":\"center\",\"yanchor\":\"top\"}},                        {\"responsive\": true}                    ).then(function(){\n",
       "                            \n",
       "var gd = document.getElementById('e2ad79d2-3f19-4604-9410-f713c9f4b4f1');\n",
       "var x = new MutationObserver(function (mutations, observer) {{\n",
       "        var display = window.getComputedStyle(gd).display;\n",
       "        if (!display || display === 'none') {{\n",
       "            console.log([gd, 'removed!']);\n",
       "            Plotly.purge(gd);\n",
       "            observer.disconnect();\n",
       "        }}\n",
       "}});\n",
       "\n",
       "// Listen for the removal of the full notebook cells\n",
       "var notebookContainer = gd.closest('#notebook-container');\n",
       "if (notebookContainer) {{\n",
       "    x.observe(notebookContainer, {childList: true});\n",
       "}}\n",
       "\n",
       "// Listen for the clearing of the current output cell\n",
       "var outputEl = gd.closest('.output');\n",
       "if (outputEl) {{\n",
       "    x.observe(outputEl, {childList: true});\n",
       "}}\n",
       "\n",
       "                        })                };                });            </script>        </div>"
      ]
     },
     "metadata": {},
     "output_type": "display_data"
    }
   ],
   "source": [
    "# Plots the distribution of the values for most important match fighters competed in\n",
    "\n",
    "# Generates the chart object by instanciating a plotly express histogram \n",
    "fig = px.histogram(x=df['highest_match_importance'])\n",
    "fig.update_layout(\n",
    "    title={\n",
    "        'text': \"Distribution of highest match importance fighter competed in\",\n",
    "        'y':0.95,\n",
    "        'x':0.5,\n",
    "        'xanchor': 'center',\n",
    "        'yanchor': 'top'\n",
    "    },\n",
    "    xaxis_title=\"Match importance, 0 being the first round, 5 finals and 6 superfights\",\n",
    "    yaxis_title=\"Number of athletes\"\n",
    ")\n",
    "\n",
    "# Calculates the percentage for each value\n",
    "total_count = len(df['highest_match_importance'])\n",
    "percentages = df['highest_match_importance'].value_counts(normalize=True) * 100\n",
    "\n",
    "# Adds the percentage text on top of each bar\n",
    "fig.update_traces(text=percentages.round(2).astype(str) + '%', textposition='auto')\n",
    "\n",
    "# Modify the tick names in the x-axis\n",
    "custom_labels = {\n",
    "'0':'Other',\n",
    "'1':'Quarterfinals',\n",
    "'2':'Semifinals',\n",
    "'3':'3rd place',\n",
    "'4':'Finals',\n",
    "'5':'Superfight'\n",
    "}\n",
    "\n",
    "fig.update_xaxes(ticktext=list(custom_labels.values()),\n",
    "                 tickvals=list(custom_labels.keys()))\n",
    "\n",
    "\n",
    "fig.show()"
   ]
  },
  {
   "cell_type": "markdown",
   "id": "7b5553bd",
   "metadata": {
    "papermill": {
     "duration": 0.022768,
     "end_time": "2023-06-16T16:32:40.424677",
     "exception": false,
     "start_time": "2023-06-16T16:32:40.401909",
     "status": "completed"
    },
    "tags": []
   },
   "source": [
    "It makes sense to logically expect this chart to have decreasing heights from left to right on the bars, since more important bouts are fought by athletes who bested others in previous rounds, but that's not what can be seen here.  \n",
    "\n",
    "Since there's a lot of missing data in the original data source (BJJ Heroes ADCC bouts stats), this distribution might be explained by the probable trend that more important bouts are more likely to have data available on the website."
   ]
  },
  {
   "cell_type": "markdown",
   "id": "97e55241",
   "metadata": {
    "papermill": {
     "duration": 0.022529,
     "end_time": "2023-06-16T16:32:40.470787",
     "exception": false,
     "start_time": "2023-06-16T16:32:40.448258",
     "status": "completed"
    },
    "tags": []
   },
   "source": [
    "### How is the *average* level of competition an athlete has faced distributted?"
   ]
  },
  {
   "cell_type": "code",
   "execution_count": 10,
   "id": "b4238296",
   "metadata": {
    "_kg_hide-input": true,
    "execution": {
     "iopub.execute_input": "2023-06-16T16:32:40.519391Z",
     "iopub.status.busy": "2023-06-16T16:32:40.518453Z",
     "iopub.status.idle": "2023-06-16T16:32:40.585701Z",
     "shell.execute_reply": "2023-06-16T16:32:40.584806Z"
    },
    "papermill": {
     "duration": 0.093659,
     "end_time": "2023-06-16T16:32:40.587907",
     "exception": false,
     "start_time": "2023-06-16T16:32:40.494248",
     "status": "completed"
    },
    "tags": []
   },
   "outputs": [
    {
     "data": {
      "text/html": [
       "<div>                            <div id=\"b9875aea-df35-47eb-84ea-b115a21d813d\" class=\"plotly-graph-div\" style=\"height:525px; width:100%;\"></div>            <script type=\"text/javascript\">                require([\"plotly\"], function(Plotly) {                    window.PLOTLYENV=window.PLOTLYENV || {};                                    if (document.getElementById(\"b9875aea-df35-47eb-84ea-b115a21d813d\")) {                    Plotly.newPlot(                        \"b9875aea-df35-47eb-84ea-b115a21d813d\",                        [{\"alignmentgroup\":\"True\",\"bingroup\":\"x\",\"hovertemplate\":\"avg_match_importance=%{x}<br>count=%{y}<extra></extra>\",\"legendgroup\":\"\",\"marker\":{\"color\":\"#636efa\",\"pattern\":{\"shape\":\"\"}},\"name\":\"\",\"offsetgroup\":\"\",\"orientation\":\"v\",\"showlegend\":false,\"x\":[0.8181818181818182,1.625,1.5,1.625,1.2307692307692308,1.1666666666666667,1.5384615384615383,1.5,1.5,0.3333333333333333,1.4482758620689655,0.3333333333333333,1.5,1.3,0.875,1.9230769230769231,1.1666666666666667,2.2142857142857144,1.0,0.5,1.9375,0.4,1.5833333333333333,1.0,1.5,2.333333333333333,1.5,1.75,1.5,1.75,1.5,1.75,1.0,1.3214285714285714,0.4,0.5,1.75,0.8888888888888888,1.3333333333333333,0.3333333333333333,1.5,1.9047619047619049,1.0,1.625,1.4,1.3333333333333333,1.4285714285714286,1.3333333333333333,0.5,1.3636363636363635,1.681818181818182,1.75,0.5,1.0,1.125,0.5,0.4,1.368421052631579,0.875,1.2666666666666666,1.181818181818182,0.5,0.5,0.8888888888888888,1.4186046511627908,2.333333333333333,2.185185185185185,1.1538461538461535,1.0,0.3333333333333333,0.3333333333333333,1.4230769230769231,2.333333333333333,1.6666666666666667,1.1666666666666667,0.3333333333333333,1.2,1.8,1.5,1.4,1.2857142857142858,1.2,2.727272727272727,1.1666666666666667,1.5,1.2666666666666666,1.75,1.5555555555555556,1.3333333333333333,0.5,0.6666666666666666,1.3,1.5333333333333334,1.5625,1.2727272727272727,0.5,1.75,1.75,1.3076923076923077,2.333333333333333,1.3846153846153846,1.4,1.368421052631579,2.0,1.4,0.5,1.75,1.6666666666666667,1.75,0.5,1.4333333333333331,0.5,1.0,1.2352941176470589,0.5,0.5,1.1428571428571428,1.137931034482759,1.1428571428571428,2.2222222222222223,0.3333333333333333,1.0909090909090908,0.5,0.5,0.25,0.3333333333333333,1.0,2.4375,2.0,0.25,0.5,0.5,1.2083333333333333,0.25,1.736842105263158,0.5,1.5,0.5,0.3333333333333333,0.3333333333333333,0.8,1.5,1.2,0.5,0.2,0.5,1.1428571428571428,1.625,0.5,0.5,0.3333333333333333,0.5,0.3333333333333333,1.0,3.0,2.0,0.5,4.0,0.0,1.6666666666666667,2.0,0.0,2.0,3.0,2.0,1.5,1.0,0.5,1.7692307692307692,0.9090909090909092,0.0,1.0,3.25,1.6666666666666667,2.0,1.5,1.6153846153846154,0.3333333333333333,2.5,1.5,1.0,2.0,1.3333333333333333,1.3333333333333333,0.0,2.0,1.3333333333333333,2.0,0.5,2.0,2.0,0.0,0.3333333333333333,0.6666666666666666,1.0,0.5,1.4,2.6666666666666665,0.0,0.0,0.0,0.0,0.0,0.0,0.0,0.0,0.0,0.0,0.0,0.0,0.0,0.0,0.0,0.0,0.0,0.0,0.0,0.0,0.0,0.0,0.0,1.0,0.0,0.0,0.0,0.0,0.0,0.0,0.0,0.0,0.0,0.0,1.0,0.0,0.0,0.0,0.0,0.0,0.0,0.0,0.0,0.5,0.0,3.0,2.0,0.5,1.0,0.0,1.0,0.3333333333333333,0.0,0.0,1.0,2.0,1.0,4.0,1.0,0.0,2.0,0.0,0.0,0.0,0.0,0.0,0.3333333333333333,2.0,1.0,0.0,1.0,0.0,1.0,0.0,0.0,0.0,0.0,0.0,0.0,0.0,0.0,0.0,1.0,0.3333333333333333,0.0,0.0,4.0,1.0,2.0,4.0,1.0,3.0,4.0,1.0,2.0,4.0,0.0,2.5,0.0,0.0,0.0,0.0,0.0,0.0,0.0,0.0,0.0,0.0,0.0,0.0,1.0,2.0,0.0,0.0,2.0,0.0,1.0,0.0,0.0,0.0,0.0,1.0,0.0,0.0,0.0,0.3333333333333333,0.0,0.0,0.0,0.0,0.0,0.0,0.0,0.0,0.0,0.0,1.5,2.0,0.0,0.0,0.0,0.0,0.0,0.0,0.0,1.0,2.0,4.0,0.0,1.0,2.0,0.0,0.0,1.0,0.0,0.0,1.0,3.0,0.0,0.0,1.0,0.0,1.0,0.0,0.0,0.0,0.0,0.0,1.0,0.0,1.0,0.0,0.0,0.0,0.0,1.0,0.0,1.0,1.0,0.0,1.0,3.0,1.0,0.0,0.0,1.0,1.0,0.5,0.0,2.0,0.0,0.0,0.0,2.5,0.0,1.0,1.0,0.0,0.0,0.5,1.0,1.0,1.0,0.0,0.0,0.0,0.0,0.0,0.0,0.5,0.0,0.0,0.0,5.0,0.0,1.0,0.0,0.0,1.0,2.0,1.0,2.0,5.0,0.0,0.0,1.0,2.0,0.0,0.0,1.0,1.0,0.0,0.0,0.0,1.0,1.0,2.0,0.0,0.0,0.0,0.25,1.0,0.0,0.0,0.0,0.0,1.0,2.0,0.0,0.0,0.0,2.0,0.0,0.0,0.0,0.5,0.0,0.0,0.0,0.5,0.0,0.0,0.0,0.0,0.0,1.0,0.0,0.0,0.0,1.0,0.0,0.0,0.0,0.0,0.0,0.5,0.0,0.0,0.0,0.0,0.0,0.0,1.0,2.0,1.0,1.5,0.0,0.0,0.0,0.0,1.0,1.0,1.0,0.5,1.0,0.0,0.0,0.0,0.5,1.0,0.0,1.0,0.0,0.0,0.0,0.0,0.0,1.0,0.0,1.0,0.0,0.0,0.0,1.0,2.0,1.0,0.0,0.0,5.0,0.0,0.0,0.0,1.0,0.0,1.6666666666666667,1.0,0.0,0.0,0.0,2.0,2.0,0.0,1.0,0.0,0.0,1.0,0.0,0.0,0.0,1.0,1.0,1.0,0.3333333333333333,0.0,0.0,0.0,0.0,0.0,1.0,0.0,0.0,0.0,1.0,0.0,0.0,0.0,0.0,1.0,4.0,2.0,1.0,4.0,1.0,0.0,1.0,0.0,0.0,1.0,0.0,0.0,1.0,0.0,0.0,1.0,4.0,0.0,0.0,0.0,1.0,1.0,4.0,0.0,0.0,0.0,0.0,0.0,0.0,0.0,0.0,1.0,1.0,0.0,0.0,0.0,1.0,0.0,1.0,0.0,0.0,0.0,0.0,0.0,0.0,1.0,0.0,0.0,0.0,0.0,0.0,0.0,0.0,0.0,1.0,0.0,0.0,1.0],\"xaxis\":\"x\",\"yaxis\":\"y\",\"type\":\"histogram\",\"text\":[\"44.63%\",\"16.12%\",\"6.35%\",\"5.7%\",\"3.09%\",\"2.93%\",\"1.79%\",\"1.63%\",\"1.14%\",\"0.98%\",\"0.81%\",\"0.81%\",\"0.65%\",\"0.65%\",\"0.65%\",\"0.65%\",\"0.49%\",\"0.49%\",\"0.49%\",\"0.49%\",\"0.49%\",\"0.33%\",\"0.33%\",\"0.33%\",\"0.33%\",\"0.33%\",\"0.33%\",\"0.16%\",\"0.16%\",\"0.16%\",\"0.16%\",\"0.16%\",\"0.16%\",\"0.16%\",\"0.16%\",\"0.16%\",\"0.16%\",\"0.16%\",\"0.16%\",\"0.16%\",\"0.16%\",\"0.16%\",\"0.16%\",\"0.16%\",\"0.16%\",\"0.16%\",\"0.16%\",\"0.16%\",\"0.16%\",\"0.16%\",\"0.16%\",\"0.16%\",\"0.16%\",\"0.16%\",\"0.16%\",\"0.16%\",\"0.16%\",\"0.16%\",\"0.16%\",\"0.16%\",\"0.16%\",\"0.16%\",\"0.16%\",\"0.16%\",\"0.16%\",\"0.16%\",\"0.16%\",\"0.16%\",\"0.16%\",\"0.16%\"],\"textposition\":\"auto\"}],                        {\"template\":{\"data\":{\"histogram2dcontour\":[{\"type\":\"histogram2dcontour\",\"colorbar\":{\"outlinewidth\":0,\"ticks\":\"\"},\"colorscale\":[[0.0,\"#0d0887\"],[0.1111111111111111,\"#46039f\"],[0.2222222222222222,\"#7201a8\"],[0.3333333333333333,\"#9c179e\"],[0.4444444444444444,\"#bd3786\"],[0.5555555555555556,\"#d8576b\"],[0.6666666666666666,\"#ed7953\"],[0.7777777777777778,\"#fb9f3a\"],[0.8888888888888888,\"#fdca26\"],[1.0,\"#f0f921\"]]}],\"choropleth\":[{\"type\":\"choropleth\",\"colorbar\":{\"outlinewidth\":0,\"ticks\":\"\"}}],\"histogram2d\":[{\"type\":\"histogram2d\",\"colorbar\":{\"outlinewidth\":0,\"ticks\":\"\"},\"colorscale\":[[0.0,\"#0d0887\"],[0.1111111111111111,\"#46039f\"],[0.2222222222222222,\"#7201a8\"],[0.3333333333333333,\"#9c179e\"],[0.4444444444444444,\"#bd3786\"],[0.5555555555555556,\"#d8576b\"],[0.6666666666666666,\"#ed7953\"],[0.7777777777777778,\"#fb9f3a\"],[0.8888888888888888,\"#fdca26\"],[1.0,\"#f0f921\"]]}],\"heatmap\":[{\"type\":\"heatmap\",\"colorbar\":{\"outlinewidth\":0,\"ticks\":\"\"},\"colorscale\":[[0.0,\"#0d0887\"],[0.1111111111111111,\"#46039f\"],[0.2222222222222222,\"#7201a8\"],[0.3333333333333333,\"#9c179e\"],[0.4444444444444444,\"#bd3786\"],[0.5555555555555556,\"#d8576b\"],[0.6666666666666666,\"#ed7953\"],[0.7777777777777778,\"#fb9f3a\"],[0.8888888888888888,\"#fdca26\"],[1.0,\"#f0f921\"]]}],\"heatmapgl\":[{\"type\":\"heatmapgl\",\"colorbar\":{\"outlinewidth\":0,\"ticks\":\"\"},\"colorscale\":[[0.0,\"#0d0887\"],[0.1111111111111111,\"#46039f\"],[0.2222222222222222,\"#7201a8\"],[0.3333333333333333,\"#9c179e\"],[0.4444444444444444,\"#bd3786\"],[0.5555555555555556,\"#d8576b\"],[0.6666666666666666,\"#ed7953\"],[0.7777777777777778,\"#fb9f3a\"],[0.8888888888888888,\"#fdca26\"],[1.0,\"#f0f921\"]]}],\"contourcarpet\":[{\"type\":\"contourcarpet\",\"colorbar\":{\"outlinewidth\":0,\"ticks\":\"\"}}],\"contour\":[{\"type\":\"contour\",\"colorbar\":{\"outlinewidth\":0,\"ticks\":\"\"},\"colorscale\":[[0.0,\"#0d0887\"],[0.1111111111111111,\"#46039f\"],[0.2222222222222222,\"#7201a8\"],[0.3333333333333333,\"#9c179e\"],[0.4444444444444444,\"#bd3786\"],[0.5555555555555556,\"#d8576b\"],[0.6666666666666666,\"#ed7953\"],[0.7777777777777778,\"#fb9f3a\"],[0.8888888888888888,\"#fdca26\"],[1.0,\"#f0f921\"]]}],\"surface\":[{\"type\":\"surface\",\"colorbar\":{\"outlinewidth\":0,\"ticks\":\"\"},\"colorscale\":[[0.0,\"#0d0887\"],[0.1111111111111111,\"#46039f\"],[0.2222222222222222,\"#7201a8\"],[0.3333333333333333,\"#9c179e\"],[0.4444444444444444,\"#bd3786\"],[0.5555555555555556,\"#d8576b\"],[0.6666666666666666,\"#ed7953\"],[0.7777777777777778,\"#fb9f3a\"],[0.8888888888888888,\"#fdca26\"],[1.0,\"#f0f921\"]]}],\"mesh3d\":[{\"type\":\"mesh3d\",\"colorbar\":{\"outlinewidth\":0,\"ticks\":\"\"}}],\"scatter\":[{\"fillpattern\":{\"fillmode\":\"overlay\",\"size\":10,\"solidity\":0.2},\"type\":\"scatter\"}],\"parcoords\":[{\"type\":\"parcoords\",\"line\":{\"colorbar\":{\"outlinewidth\":0,\"ticks\":\"\"}}}],\"scatterpolargl\":[{\"type\":\"scatterpolargl\",\"marker\":{\"colorbar\":{\"outlinewidth\":0,\"ticks\":\"\"}}}],\"bar\":[{\"error_x\":{\"color\":\"#2a3f5f\"},\"error_y\":{\"color\":\"#2a3f5f\"},\"marker\":{\"line\":{\"color\":\"#E5ECF6\",\"width\":0.5},\"pattern\":{\"fillmode\":\"overlay\",\"size\":10,\"solidity\":0.2}},\"type\":\"bar\"}],\"scattergeo\":[{\"type\":\"scattergeo\",\"marker\":{\"colorbar\":{\"outlinewidth\":0,\"ticks\":\"\"}}}],\"scatterpolar\":[{\"type\":\"scatterpolar\",\"marker\":{\"colorbar\":{\"outlinewidth\":0,\"ticks\":\"\"}}}],\"histogram\":[{\"marker\":{\"pattern\":{\"fillmode\":\"overlay\",\"size\":10,\"solidity\":0.2}},\"type\":\"histogram\"}],\"scattergl\":[{\"type\":\"scattergl\",\"marker\":{\"colorbar\":{\"outlinewidth\":0,\"ticks\":\"\"}}}],\"scatter3d\":[{\"type\":\"scatter3d\",\"line\":{\"colorbar\":{\"outlinewidth\":0,\"ticks\":\"\"}},\"marker\":{\"colorbar\":{\"outlinewidth\":0,\"ticks\":\"\"}}}],\"scattermapbox\":[{\"type\":\"scattermapbox\",\"marker\":{\"colorbar\":{\"outlinewidth\":0,\"ticks\":\"\"}}}],\"scatterternary\":[{\"type\":\"scatterternary\",\"marker\":{\"colorbar\":{\"outlinewidth\":0,\"ticks\":\"\"}}}],\"scattercarpet\":[{\"type\":\"scattercarpet\",\"marker\":{\"colorbar\":{\"outlinewidth\":0,\"ticks\":\"\"}}}],\"carpet\":[{\"aaxis\":{\"endlinecolor\":\"#2a3f5f\",\"gridcolor\":\"white\",\"linecolor\":\"white\",\"minorgridcolor\":\"white\",\"startlinecolor\":\"#2a3f5f\"},\"baxis\":{\"endlinecolor\":\"#2a3f5f\",\"gridcolor\":\"white\",\"linecolor\":\"white\",\"minorgridcolor\":\"white\",\"startlinecolor\":\"#2a3f5f\"},\"type\":\"carpet\"}],\"table\":[{\"cells\":{\"fill\":{\"color\":\"#EBF0F8\"},\"line\":{\"color\":\"white\"}},\"header\":{\"fill\":{\"color\":\"#C8D4E3\"},\"line\":{\"color\":\"white\"}},\"type\":\"table\"}],\"barpolar\":[{\"marker\":{\"line\":{\"color\":\"#E5ECF6\",\"width\":0.5},\"pattern\":{\"fillmode\":\"overlay\",\"size\":10,\"solidity\":0.2}},\"type\":\"barpolar\"}],\"pie\":[{\"automargin\":true,\"type\":\"pie\"}]},\"layout\":{\"autotypenumbers\":\"strict\",\"colorway\":[\"#636efa\",\"#EF553B\",\"#00cc96\",\"#ab63fa\",\"#FFA15A\",\"#19d3f3\",\"#FF6692\",\"#B6E880\",\"#FF97FF\",\"#FECB52\"],\"font\":{\"color\":\"#2a3f5f\"},\"hovermode\":\"closest\",\"hoverlabel\":{\"align\":\"left\"},\"paper_bgcolor\":\"white\",\"plot_bgcolor\":\"#E5ECF6\",\"polar\":{\"bgcolor\":\"#E5ECF6\",\"angularaxis\":{\"gridcolor\":\"white\",\"linecolor\":\"white\",\"ticks\":\"\"},\"radialaxis\":{\"gridcolor\":\"white\",\"linecolor\":\"white\",\"ticks\":\"\"}},\"ternary\":{\"bgcolor\":\"#E5ECF6\",\"aaxis\":{\"gridcolor\":\"white\",\"linecolor\":\"white\",\"ticks\":\"\"},\"baxis\":{\"gridcolor\":\"white\",\"linecolor\":\"white\",\"ticks\":\"\"},\"caxis\":{\"gridcolor\":\"white\",\"linecolor\":\"white\",\"ticks\":\"\"}},\"coloraxis\":{\"colorbar\":{\"outlinewidth\":0,\"ticks\":\"\"}},\"colorscale\":{\"sequential\":[[0.0,\"#0d0887\"],[0.1111111111111111,\"#46039f\"],[0.2222222222222222,\"#7201a8\"],[0.3333333333333333,\"#9c179e\"],[0.4444444444444444,\"#bd3786\"],[0.5555555555555556,\"#d8576b\"],[0.6666666666666666,\"#ed7953\"],[0.7777777777777778,\"#fb9f3a\"],[0.8888888888888888,\"#fdca26\"],[1.0,\"#f0f921\"]],\"sequentialminus\":[[0.0,\"#0d0887\"],[0.1111111111111111,\"#46039f\"],[0.2222222222222222,\"#7201a8\"],[0.3333333333333333,\"#9c179e\"],[0.4444444444444444,\"#bd3786\"],[0.5555555555555556,\"#d8576b\"],[0.6666666666666666,\"#ed7953\"],[0.7777777777777778,\"#fb9f3a\"],[0.8888888888888888,\"#fdca26\"],[1.0,\"#f0f921\"]],\"diverging\":[[0,\"#8e0152\"],[0.1,\"#c51b7d\"],[0.2,\"#de77ae\"],[0.3,\"#f1b6da\"],[0.4,\"#fde0ef\"],[0.5,\"#f7f7f7\"],[0.6,\"#e6f5d0\"],[0.7,\"#b8e186\"],[0.8,\"#7fbc41\"],[0.9,\"#4d9221\"],[1,\"#276419\"]]},\"xaxis\":{\"gridcolor\":\"white\",\"linecolor\":\"white\",\"ticks\":\"\",\"title\":{\"standoff\":15},\"zerolinecolor\":\"white\",\"automargin\":true,\"zerolinewidth\":2},\"yaxis\":{\"gridcolor\":\"white\",\"linecolor\":\"white\",\"ticks\":\"\",\"title\":{\"standoff\":15},\"zerolinecolor\":\"white\",\"automargin\":true,\"zerolinewidth\":2},\"scene\":{\"xaxis\":{\"backgroundcolor\":\"#E5ECF6\",\"gridcolor\":\"white\",\"linecolor\":\"white\",\"showbackground\":true,\"ticks\":\"\",\"zerolinecolor\":\"white\",\"gridwidth\":2},\"yaxis\":{\"backgroundcolor\":\"#E5ECF6\",\"gridcolor\":\"white\",\"linecolor\":\"white\",\"showbackground\":true,\"ticks\":\"\",\"zerolinecolor\":\"white\",\"gridwidth\":2},\"zaxis\":{\"backgroundcolor\":\"#E5ECF6\",\"gridcolor\":\"white\",\"linecolor\":\"white\",\"showbackground\":true,\"ticks\":\"\",\"zerolinecolor\":\"white\",\"gridwidth\":2}},\"shapedefaults\":{\"line\":{\"color\":\"#2a3f5f\"}},\"annotationdefaults\":{\"arrowcolor\":\"#2a3f5f\",\"arrowhead\":0,\"arrowwidth\":1},\"geo\":{\"bgcolor\":\"white\",\"landcolor\":\"#E5ECF6\",\"subunitcolor\":\"white\",\"showland\":true,\"showlakes\":true,\"lakecolor\":\"white\"},\"title\":{\"x\":0.05},\"mapbox\":{\"style\":\"light\"}}},\"xaxis\":{\"anchor\":\"y\",\"domain\":[0.0,1.0],\"title\":{\"text\":\"Match importance, 0 being the first round, 5 finals and 6 superfights\"},\"ticktext\":[\"Other\",\"Quarterfinals\",\"Semifinals\",\"3rd place\",\"Finals\",\"Superfight\"],\"tickvals\":[\"0\",\"1\",\"2\",\"3\",\"4\",\"5\"]},\"yaxis\":{\"anchor\":\"x\",\"domain\":[0.0,1.0],\"title\":{\"text\":\"Number of athletes\"}},\"legend\":{\"tracegroupgap\":0},\"margin\":{\"t\":60},\"barmode\":\"relative\",\"title\":{\"text\":\"Distribution of avegrage match importance fighter competed in\",\"y\":0.95,\"x\":0.5,\"xanchor\":\"center\",\"yanchor\":\"top\"}},                        {\"responsive\": true}                    ).then(function(){\n",
       "                            \n",
       "var gd = document.getElementById('b9875aea-df35-47eb-84ea-b115a21d813d');\n",
       "var x = new MutationObserver(function (mutations, observer) {{\n",
       "        var display = window.getComputedStyle(gd).display;\n",
       "        if (!display || display === 'none') {{\n",
       "            console.log([gd, 'removed!']);\n",
       "            Plotly.purge(gd);\n",
       "            observer.disconnect();\n",
       "        }}\n",
       "}});\n",
       "\n",
       "// Listen for the removal of the full notebook cells\n",
       "var notebookContainer = gd.closest('#notebook-container');\n",
       "if (notebookContainer) {{\n",
       "    x.observe(notebookContainer, {childList: true});\n",
       "}}\n",
       "\n",
       "// Listen for the clearing of the current output cell\n",
       "var outputEl = gd.closest('.output');\n",
       "if (outputEl) {{\n",
       "    x.observe(outputEl, {childList: true});\n",
       "}}\n",
       "\n",
       "                        })                };                });            </script>        </div>"
      ]
     },
     "metadata": {},
     "output_type": "display_data"
    }
   ],
   "source": [
    "# Plots the distribution of the values for average match importance fighters competed in\n",
    "\n",
    "# Generates the chart object by instanciating a plotly express histogram \n",
    "fig = px.histogram(df, x='avg_match_importance')\n",
    "fig.update_layout(\n",
    "    title={\n",
    "        'text': \"Distribution of avegrage match importance fighter competed in\",\n",
    "        'y':0.95,\n",
    "        'x':0.5,\n",
    "        'xanchor': 'center',\n",
    "        'yanchor': 'top'\n",
    "    },\n",
    "    xaxis_title=\"Match importance, 0 being the first round, 5 finals and 6 superfights\",\n",
    "    yaxis_title=\"Number of athletes\"\n",
    ")\n",
    "\n",
    "# Calculates the percentage for each value\n",
    "total_count = len(df['avg_match_importance'])\n",
    "percentages = df['avg_match_importance'].value_counts(normalize=True) * 100\n",
    "\n",
    "# Modify the tick names in the x-axis\n",
    "custom_labels = {\n",
    "'0':'Other',\n",
    "'1':'Quarterfinals',\n",
    "'2':'Semifinals',\n",
    "'3':'3rd place',\n",
    "'4':'Finals',\n",
    "'5':'Superfight'\n",
    "}\n",
    "\n",
    "fig.update_xaxes(ticktext=list(custom_labels.values()),\n",
    "                 tickvals=list(custom_labels.keys()))\n",
    "\n",
    "# Add the percentage text on top of each bar\n",
    "fig.update_traces(text=percentages.round(2).astype(str) + '%', textposition='auto')\n",
    "\n",
    "fig.show()"
   ]
  },
  {
   "cell_type": "markdown",
   "id": "d6e7096e",
   "metadata": {
    "papermill": {
     "duration": 0.022792,
     "end_time": "2023-06-16T16:32:40.634051",
     "exception": false,
     "start_time": "2023-06-16T16:32:40.611259",
     "status": "completed"
    },
    "tags": []
   },
   "source": [
    "### How is the total number of wins distributted among athletes?"
   ]
  },
  {
   "cell_type": "code",
   "execution_count": 11,
   "id": "4fb8c258",
   "metadata": {
    "_kg_hide-input": true,
    "execution": {
     "iopub.execute_input": "2023-06-16T16:32:40.682808Z",
     "iopub.status.busy": "2023-06-16T16:32:40.682181Z",
     "iopub.status.idle": "2023-06-16T16:32:40.742449Z",
     "shell.execute_reply": "2023-06-16T16:32:40.741724Z"
    },
    "papermill": {
     "duration": 0.087175,
     "end_time": "2023-06-16T16:32:40.744590",
     "exception": false,
     "start_time": "2023-06-16T16:32:40.657415",
     "status": "completed"
    },
    "tags": []
   },
   "outputs": [
    {
     "data": {
      "text/html": [
       "<div>                            <div id=\"e9a360bc-0c67-4b5d-a3ca-020f0c1375b8\" class=\"plotly-graph-div\" style=\"height:525px; width:100%;\"></div>            <script type=\"text/javascript\">                require([\"plotly\"], function(Plotly) {                    window.PLOTLYENV=window.PLOTLYENV || {};                                    if (document.getElementById(\"e9a360bc-0c67-4b5d-a3ca-020f0c1375b8\")) {                    Plotly.newPlot(                        \"e9a360bc-0c67-4b5d-a3ca-020f0c1375b8\",                        [{\"alignmentgroup\":\"True\",\"bingroup\":\"x\",\"hovertemplate\":\"total_wins=%{x}<br>count=%{y}<extra></extra>\",\"legendgroup\":\"\",\"marker\":{\"color\":\"#636efa\",\"pattern\":{\"shape\":\"\"}},\"name\":\"\",\"offsetgroup\":\"\",\"orientation\":\"v\",\"showlegend\":false,\"x\":[5.0,6.0,7.0,5.0,9.0,3.0,19.0,2.0,6.0,1.0,20.0,1.0,5.0,8.0,3.0,12.0,10.0,11.0,2.0,1.0,12.0,2.0,7.0,3.0,9.0,2.0,5.0,4.0,3.0,7.0,3.0,4.0,2.0,19.0,2.0,1.0,3.0,8.0,5.0,1.0,3.0,20.0,5.0,12.0,8.0,8.0,5.0,5.0,1.0,8.0,18.0,11.0,2.0,3.0,4.0,3.0,2.0,16.0,3.0,8.0,5.0,1.0,1.0,4.0,30.0,3.0,22.0,9.0,11.0,1.0,1.0,20.0,5.0,13.0,4.0,1.0,3.0,11.0,2.0,9.0,10.0,2.0,9.0,4.0,2.0,12.0,4.0,8.0,4.0,1.0,3.0,5.0,21.0,27.0,15.0,2.0,3.0,3.0,14.0,2.0,10.0,11.0,12.0,13.0,7.0,1.0,3.0,14.0,18.0,1.0,22.0,2.0,5.0,11.0,2.0,3.0,4.0,19.0,4.0,6.0,1.0,6.0,1.0,1.0,1.0,1.0,5.0,14.0,3.0,1.0,1.0,2.0,15.0,1.0,13.0,1.0,3.0,1.0,1.0,1.0,3.0,1.0,3.0,1.0,1.0,1.0,5.0,6.0,1.0,1.0,1.0,1.0,1.0,2.0,1.0,2.0,1.0,1.0,1.0,1.0,1.0,1.0,2.0,5.0,1.0,1.0,3.0,2.0,5.0,4.0,1.0,1.0,2.0,1.0,1.0,1.0,6.0,1.0,1.0,1.0,1.0,2.0,1.0,2.0,1.0,1.0,2.0,1.0,1.0,1.0,1.0,1.0,1.0,1.0,1.0,1.0,1.0,1.0,0.0,0.0,0.0,0.0,0.0,0.0,0.0,0.0,0.0,0.0,0.0,0.0,0.0,0.0,0.0,0.0,0.0,0.0,0.0,0.0,0.0,0.0,0.0,0.0,0.0,0.0,0.0,0.0,0.0,0.0,0.0,0.0,0.0,0.0,0.0,0.0,0.0,0.0,0.0,0.0,0.0,0.0,0.0,0.0,0.0,0.0,0.0,0.0,0.0,0.0,0.0,0.0,0.0,0.0,0.0,0.0,0.0,0.0,0.0,0.0,0.0,0.0,0.0,0.0,0.0,0.0,0.0,0.0,0.0,0.0,0.0,0.0,0.0,0.0,0.0,0.0,0.0,0.0,0.0,0.0,0.0,0.0,0.0,0.0,0.0,0.0,0.0,0.0,0.0,0.0,0.0,0.0,0.0,0.0,0.0,0.0,0.0,0.0,0.0,0.0,0.0,0.0,0.0,0.0,0.0,0.0,0.0,0.0,0.0,0.0,0.0,0.0,0.0,0.0,0.0,0.0,0.0,0.0,0.0,0.0,0.0,0.0,0.0,0.0,0.0,0.0,0.0,0.0,0.0,0.0,0.0,0.0,0.0,0.0,0.0,0.0,0.0,0.0,0.0,0.0,0.0,0.0,0.0,0.0,0.0,0.0,0.0,0.0,0.0,0.0,0.0,0.0,0.0,0.0,0.0,0.0,0.0,0.0,0.0,0.0,0.0,0.0,0.0,0.0,0.0,0.0,0.0,0.0,0.0,0.0,0.0,0.0,0.0,0.0,0.0,0.0,0.0,0.0,0.0,0.0,0.0,0.0,0.0,0.0,0.0,0.0,0.0,0.0,0.0,0.0,0.0,0.0,0.0,0.0,0.0,0.0,0.0,0.0,0.0,0.0,0.0,0.0,0.0,0.0,0.0,0.0,0.0,0.0,0.0,0.0,0.0,0.0,0.0,0.0,0.0,0.0,0.0,0.0,0.0,0.0,0.0,0.0,0.0,0.0,0.0,0.0,0.0,0.0,0.0,0.0,0.0,0.0,0.0,0.0,0.0,0.0,0.0,0.0,0.0,0.0,0.0,0.0,0.0,0.0,0.0,0.0,0.0,0.0,0.0,0.0,0.0,0.0,0.0,0.0,0.0,0.0,0.0,0.0,0.0,0.0,0.0,0.0,0.0,0.0,0.0,0.0,0.0,0.0,0.0,0.0,0.0,0.0,0.0,0.0,0.0,0.0,0.0,0.0,0.0,0.0,0.0,0.0,0.0,0.0,0.0,0.0,0.0,0.0,0.0,0.0,0.0,0.0,0.0,0.0,0.0,0.0,0.0,0.0,0.0,0.0,0.0,0.0,0.0,0.0,0.0,0.0,0.0,0.0,0.0,0.0,0.0,0.0,0.0,0.0,0.0,0.0,0.0,0.0,0.0,0.0,0.0,0.0,0.0,0.0,0.0,0.0,0.0,0.0,0.0,0.0,0.0,0.0,0.0,0.0,0.0,0.0,0.0,0.0,0.0,0.0,0.0,0.0,0.0,0.0,0.0,0.0,0.0,0.0,0.0,0.0,0.0,0.0,0.0,0.0,0.0,0.0,0.0,0.0,0.0,0.0,0.0,0.0,0.0,0.0,0.0,0.0,0.0,0.0,0.0,0.0,0.0,0.0,0.0,0.0,0.0,0.0,0.0,0.0,0.0,0.0,0.0,0.0,0.0,0.0,0.0,0.0,0.0,0.0,0.0,0.0,0.0,0.0,0.0,0.0,0.0,0.0,0.0,0.0,0.0,0.0,0.0,0.0,0.0,0.0,0.0,0.0,0.0,0.0,0.0,0.0,0.0,0.0,0.0,0.0,0.0,0.0],\"xaxis\":\"x\",\"yaxis\":\"y\",\"type\":\"histogram\",\"text\":[\"67.75%\",\"10.91%\",\"3.91%\",\"3.58%\",\"2.61%\",\"1.79%\",\"1.14%\",\"0.98%\",\"0.98%\",\"0.81%\",\"0.81%\",\"0.65%\",\"0.49%\",\"0.49%\",\"0.49%\",\"0.49%\",\"0.49%\",\"0.33%\",\"0.33%\",\"0.33%\",\"0.16%\",\"0.16%\",\"0.16%\",\"0.16%\"],\"textposition\":\"auto\"}],                        {\"template\":{\"data\":{\"histogram2dcontour\":[{\"type\":\"histogram2dcontour\",\"colorbar\":{\"outlinewidth\":0,\"ticks\":\"\"},\"colorscale\":[[0.0,\"#0d0887\"],[0.1111111111111111,\"#46039f\"],[0.2222222222222222,\"#7201a8\"],[0.3333333333333333,\"#9c179e\"],[0.4444444444444444,\"#bd3786\"],[0.5555555555555556,\"#d8576b\"],[0.6666666666666666,\"#ed7953\"],[0.7777777777777778,\"#fb9f3a\"],[0.8888888888888888,\"#fdca26\"],[1.0,\"#f0f921\"]]}],\"choropleth\":[{\"type\":\"choropleth\",\"colorbar\":{\"outlinewidth\":0,\"ticks\":\"\"}}],\"histogram2d\":[{\"type\":\"histogram2d\",\"colorbar\":{\"outlinewidth\":0,\"ticks\":\"\"},\"colorscale\":[[0.0,\"#0d0887\"],[0.1111111111111111,\"#46039f\"],[0.2222222222222222,\"#7201a8\"],[0.3333333333333333,\"#9c179e\"],[0.4444444444444444,\"#bd3786\"],[0.5555555555555556,\"#d8576b\"],[0.6666666666666666,\"#ed7953\"],[0.7777777777777778,\"#fb9f3a\"],[0.8888888888888888,\"#fdca26\"],[1.0,\"#f0f921\"]]}],\"heatmap\":[{\"type\":\"heatmap\",\"colorbar\":{\"outlinewidth\":0,\"ticks\":\"\"},\"colorscale\":[[0.0,\"#0d0887\"],[0.1111111111111111,\"#46039f\"],[0.2222222222222222,\"#7201a8\"],[0.3333333333333333,\"#9c179e\"],[0.4444444444444444,\"#bd3786\"],[0.5555555555555556,\"#d8576b\"],[0.6666666666666666,\"#ed7953\"],[0.7777777777777778,\"#fb9f3a\"],[0.8888888888888888,\"#fdca26\"],[1.0,\"#f0f921\"]]}],\"heatmapgl\":[{\"type\":\"heatmapgl\",\"colorbar\":{\"outlinewidth\":0,\"ticks\":\"\"},\"colorscale\":[[0.0,\"#0d0887\"],[0.1111111111111111,\"#46039f\"],[0.2222222222222222,\"#7201a8\"],[0.3333333333333333,\"#9c179e\"],[0.4444444444444444,\"#bd3786\"],[0.5555555555555556,\"#d8576b\"],[0.6666666666666666,\"#ed7953\"],[0.7777777777777778,\"#fb9f3a\"],[0.8888888888888888,\"#fdca26\"],[1.0,\"#f0f921\"]]}],\"contourcarpet\":[{\"type\":\"contourcarpet\",\"colorbar\":{\"outlinewidth\":0,\"ticks\":\"\"}}],\"contour\":[{\"type\":\"contour\",\"colorbar\":{\"outlinewidth\":0,\"ticks\":\"\"},\"colorscale\":[[0.0,\"#0d0887\"],[0.1111111111111111,\"#46039f\"],[0.2222222222222222,\"#7201a8\"],[0.3333333333333333,\"#9c179e\"],[0.4444444444444444,\"#bd3786\"],[0.5555555555555556,\"#d8576b\"],[0.6666666666666666,\"#ed7953\"],[0.7777777777777778,\"#fb9f3a\"],[0.8888888888888888,\"#fdca26\"],[1.0,\"#f0f921\"]]}],\"surface\":[{\"type\":\"surface\",\"colorbar\":{\"outlinewidth\":0,\"ticks\":\"\"},\"colorscale\":[[0.0,\"#0d0887\"],[0.1111111111111111,\"#46039f\"],[0.2222222222222222,\"#7201a8\"],[0.3333333333333333,\"#9c179e\"],[0.4444444444444444,\"#bd3786\"],[0.5555555555555556,\"#d8576b\"],[0.6666666666666666,\"#ed7953\"],[0.7777777777777778,\"#fb9f3a\"],[0.8888888888888888,\"#fdca26\"],[1.0,\"#f0f921\"]]}],\"mesh3d\":[{\"type\":\"mesh3d\",\"colorbar\":{\"outlinewidth\":0,\"ticks\":\"\"}}],\"scatter\":[{\"fillpattern\":{\"fillmode\":\"overlay\",\"size\":10,\"solidity\":0.2},\"type\":\"scatter\"}],\"parcoords\":[{\"type\":\"parcoords\",\"line\":{\"colorbar\":{\"outlinewidth\":0,\"ticks\":\"\"}}}],\"scatterpolargl\":[{\"type\":\"scatterpolargl\",\"marker\":{\"colorbar\":{\"outlinewidth\":0,\"ticks\":\"\"}}}],\"bar\":[{\"error_x\":{\"color\":\"#2a3f5f\"},\"error_y\":{\"color\":\"#2a3f5f\"},\"marker\":{\"line\":{\"color\":\"#E5ECF6\",\"width\":0.5},\"pattern\":{\"fillmode\":\"overlay\",\"size\":10,\"solidity\":0.2}},\"type\":\"bar\"}],\"scattergeo\":[{\"type\":\"scattergeo\",\"marker\":{\"colorbar\":{\"outlinewidth\":0,\"ticks\":\"\"}}}],\"scatterpolar\":[{\"type\":\"scatterpolar\",\"marker\":{\"colorbar\":{\"outlinewidth\":0,\"ticks\":\"\"}}}],\"histogram\":[{\"marker\":{\"pattern\":{\"fillmode\":\"overlay\",\"size\":10,\"solidity\":0.2}},\"type\":\"histogram\"}],\"scattergl\":[{\"type\":\"scattergl\",\"marker\":{\"colorbar\":{\"outlinewidth\":0,\"ticks\":\"\"}}}],\"scatter3d\":[{\"type\":\"scatter3d\",\"line\":{\"colorbar\":{\"outlinewidth\":0,\"ticks\":\"\"}},\"marker\":{\"colorbar\":{\"outlinewidth\":0,\"ticks\":\"\"}}}],\"scattermapbox\":[{\"type\":\"scattermapbox\",\"marker\":{\"colorbar\":{\"outlinewidth\":0,\"ticks\":\"\"}}}],\"scatterternary\":[{\"type\":\"scatterternary\",\"marker\":{\"colorbar\":{\"outlinewidth\":0,\"ticks\":\"\"}}}],\"scattercarpet\":[{\"type\":\"scattercarpet\",\"marker\":{\"colorbar\":{\"outlinewidth\":0,\"ticks\":\"\"}}}],\"carpet\":[{\"aaxis\":{\"endlinecolor\":\"#2a3f5f\",\"gridcolor\":\"white\",\"linecolor\":\"white\",\"minorgridcolor\":\"white\",\"startlinecolor\":\"#2a3f5f\"},\"baxis\":{\"endlinecolor\":\"#2a3f5f\",\"gridcolor\":\"white\",\"linecolor\":\"white\",\"minorgridcolor\":\"white\",\"startlinecolor\":\"#2a3f5f\"},\"type\":\"carpet\"}],\"table\":[{\"cells\":{\"fill\":{\"color\":\"#EBF0F8\"},\"line\":{\"color\":\"white\"}},\"header\":{\"fill\":{\"color\":\"#C8D4E3\"},\"line\":{\"color\":\"white\"}},\"type\":\"table\"}],\"barpolar\":[{\"marker\":{\"line\":{\"color\":\"#E5ECF6\",\"width\":0.5},\"pattern\":{\"fillmode\":\"overlay\",\"size\":10,\"solidity\":0.2}},\"type\":\"barpolar\"}],\"pie\":[{\"automargin\":true,\"type\":\"pie\"}]},\"layout\":{\"autotypenumbers\":\"strict\",\"colorway\":[\"#636efa\",\"#EF553B\",\"#00cc96\",\"#ab63fa\",\"#FFA15A\",\"#19d3f3\",\"#FF6692\",\"#B6E880\",\"#FF97FF\",\"#FECB52\"],\"font\":{\"color\":\"#2a3f5f\"},\"hovermode\":\"closest\",\"hoverlabel\":{\"align\":\"left\"},\"paper_bgcolor\":\"white\",\"plot_bgcolor\":\"#E5ECF6\",\"polar\":{\"bgcolor\":\"#E5ECF6\",\"angularaxis\":{\"gridcolor\":\"white\",\"linecolor\":\"white\",\"ticks\":\"\"},\"radialaxis\":{\"gridcolor\":\"white\",\"linecolor\":\"white\",\"ticks\":\"\"}},\"ternary\":{\"bgcolor\":\"#E5ECF6\",\"aaxis\":{\"gridcolor\":\"white\",\"linecolor\":\"white\",\"ticks\":\"\"},\"baxis\":{\"gridcolor\":\"white\",\"linecolor\":\"white\",\"ticks\":\"\"},\"caxis\":{\"gridcolor\":\"white\",\"linecolor\":\"white\",\"ticks\":\"\"}},\"coloraxis\":{\"colorbar\":{\"outlinewidth\":0,\"ticks\":\"\"}},\"colorscale\":{\"sequential\":[[0.0,\"#0d0887\"],[0.1111111111111111,\"#46039f\"],[0.2222222222222222,\"#7201a8\"],[0.3333333333333333,\"#9c179e\"],[0.4444444444444444,\"#bd3786\"],[0.5555555555555556,\"#d8576b\"],[0.6666666666666666,\"#ed7953\"],[0.7777777777777778,\"#fb9f3a\"],[0.8888888888888888,\"#fdca26\"],[1.0,\"#f0f921\"]],\"sequentialminus\":[[0.0,\"#0d0887\"],[0.1111111111111111,\"#46039f\"],[0.2222222222222222,\"#7201a8\"],[0.3333333333333333,\"#9c179e\"],[0.4444444444444444,\"#bd3786\"],[0.5555555555555556,\"#d8576b\"],[0.6666666666666666,\"#ed7953\"],[0.7777777777777778,\"#fb9f3a\"],[0.8888888888888888,\"#fdca26\"],[1.0,\"#f0f921\"]],\"diverging\":[[0,\"#8e0152\"],[0.1,\"#c51b7d\"],[0.2,\"#de77ae\"],[0.3,\"#f1b6da\"],[0.4,\"#fde0ef\"],[0.5,\"#f7f7f7\"],[0.6,\"#e6f5d0\"],[0.7,\"#b8e186\"],[0.8,\"#7fbc41\"],[0.9,\"#4d9221\"],[1,\"#276419\"]]},\"xaxis\":{\"gridcolor\":\"white\",\"linecolor\":\"white\",\"ticks\":\"\",\"title\":{\"standoff\":15},\"zerolinecolor\":\"white\",\"automargin\":true,\"zerolinewidth\":2},\"yaxis\":{\"gridcolor\":\"white\",\"linecolor\":\"white\",\"ticks\":\"\",\"title\":{\"standoff\":15},\"zerolinecolor\":\"white\",\"automargin\":true,\"zerolinewidth\":2},\"scene\":{\"xaxis\":{\"backgroundcolor\":\"#E5ECF6\",\"gridcolor\":\"white\",\"linecolor\":\"white\",\"showbackground\":true,\"ticks\":\"\",\"zerolinecolor\":\"white\",\"gridwidth\":2},\"yaxis\":{\"backgroundcolor\":\"#E5ECF6\",\"gridcolor\":\"white\",\"linecolor\":\"white\",\"showbackground\":true,\"ticks\":\"\",\"zerolinecolor\":\"white\",\"gridwidth\":2},\"zaxis\":{\"backgroundcolor\":\"#E5ECF6\",\"gridcolor\":\"white\",\"linecolor\":\"white\",\"showbackground\":true,\"ticks\":\"\",\"zerolinecolor\":\"white\",\"gridwidth\":2}},\"shapedefaults\":{\"line\":{\"color\":\"#2a3f5f\"}},\"annotationdefaults\":{\"arrowcolor\":\"#2a3f5f\",\"arrowhead\":0,\"arrowwidth\":1},\"geo\":{\"bgcolor\":\"white\",\"landcolor\":\"#E5ECF6\",\"subunitcolor\":\"white\",\"showland\":true,\"showlakes\":true,\"lakecolor\":\"white\"},\"title\":{\"x\":0.05},\"mapbox\":{\"style\":\"light\"}}},\"xaxis\":{\"anchor\":\"y\",\"domain\":[0.0,1.0],\"title\":{\"text\":\"Total matches won by athlete\"}},\"yaxis\":{\"anchor\":\"x\",\"domain\":[0.0,1.0],\"title\":{\"text\":\"Number of athletes\"}},\"legend\":{\"tracegroupgap\":0},\"margin\":{\"t\":60},\"barmode\":\"relative\",\"title\":{\"text\":\"Distribution of total matches the athlete won\",\"y\":0.95,\"x\":0.5,\"xanchor\":\"center\",\"yanchor\":\"top\"}},                        {\"responsive\": true}                    ).then(function(){\n",
       "                            \n",
       "var gd = document.getElementById('e9a360bc-0c67-4b5d-a3ca-020f0c1375b8');\n",
       "var x = new MutationObserver(function (mutations, observer) {{\n",
       "        var display = window.getComputedStyle(gd).display;\n",
       "        if (!display || display === 'none') {{\n",
       "            console.log([gd, 'removed!']);\n",
       "            Plotly.purge(gd);\n",
       "            observer.disconnect();\n",
       "        }}\n",
       "}});\n",
       "\n",
       "// Listen for the removal of the full notebook cells\n",
       "var notebookContainer = gd.closest('#notebook-container');\n",
       "if (notebookContainer) {{\n",
       "    x.observe(notebookContainer, {childList: true});\n",
       "}}\n",
       "\n",
       "// Listen for the clearing of the current output cell\n",
       "var outputEl = gd.closest('.output');\n",
       "if (outputEl) {{\n",
       "    x.observe(outputEl, {childList: true});\n",
       "}}\n",
       "\n",
       "                        })                };                });            </script>        </div>"
      ]
     },
     "metadata": {},
     "output_type": "display_data"
    }
   ],
   "source": [
    "# Plots the distribution of total wins for athletes\n",
    "\n",
    "# Generates the chart object by instanciating a plotly express histogram \n",
    "fig = px.histogram(df, x='total_wins')\n",
    "fig.update_layout(\n",
    "    title={\n",
    "        'text': \"Distribution of total matches the athlete won\",\n",
    "        'y':0.95,\n",
    "        'x':0.5,\n",
    "        'xanchor': 'center',\n",
    "        'yanchor': 'top'\n",
    "    },\n",
    "    xaxis_title=\"Total matches won by athlete\",\n",
    "    yaxis_title=\"Number of athletes\"\n",
    ")\n",
    "\n",
    "# Calculates the percentage for each value\n",
    "total_count = len(df['total_wins'])\n",
    "percentages = df['total_wins'].value_counts(normalize=True) * 100\n",
    "\n",
    "# Add the percentage text on top of each bar\n",
    "fig.update_traces(text=percentages.round(2).astype(str) + '%', textposition='auto')\n",
    "\n",
    "fig.show()"
   ]
  },
  {
   "cell_type": "markdown",
   "id": "d3f13489",
   "metadata": {
    "papermill": {
     "duration": 0.023168,
     "end_time": "2023-06-16T16:32:40.791670",
     "exception": false,
     "start_time": "2023-06-16T16:32:40.768502",
     "status": "completed"
    },
    "tags": []
   },
   "source": [
    "This is closer to what one might expect from such graph. The distribution closely follows the logic that success in competitive sports can be visualized as a pyramid with the most successful athletes being a few at the top and many at the bottom with less success."
   ]
  },
  {
   "cell_type": "markdown",
   "id": "0d18cc6e",
   "metadata": {
    "papermill": {
     "duration": 0.023446,
     "end_time": "2023-06-16T16:32:40.838782",
     "exception": false,
     "start_time": "2023-06-16T16:32:40.815336",
     "status": "completed"
    },
    "tags": []
   },
   "source": [
    "### How many different submissions have athletes managed to use to end matches?"
   ]
  },
  {
   "cell_type": "code",
   "execution_count": 12,
   "id": "f3864073",
   "metadata": {
    "_kg_hide-input": true,
    "execution": {
     "iopub.execute_input": "2023-06-16T16:32:40.888222Z",
     "iopub.status.busy": "2023-06-16T16:32:40.887802Z",
     "iopub.status.idle": "2023-06-16T16:32:40.950740Z",
     "shell.execute_reply": "2023-06-16T16:32:40.949699Z"
    },
    "papermill": {
     "duration": 0.090368,
     "end_time": "2023-06-16T16:32:40.952980",
     "exception": false,
     "start_time": "2023-06-16T16:32:40.862612",
     "status": "completed"
    },
    "tags": []
   },
   "outputs": [
    {
     "data": {
      "text/html": [
       "<div>                            <div id=\"a908d458-6b4f-47f4-96b8-db02156b1cac\" class=\"plotly-graph-div\" style=\"height:525px; width:100%;\"></div>            <script type=\"text/javascript\">                require([\"plotly\"], function(Plotly) {                    window.PLOTLYENV=window.PLOTLYENV || {};                                    if (document.getElementById(\"a908d458-6b4f-47f4-96b8-db02156b1cac\")) {                    Plotly.newPlot(                        \"a908d458-6b4f-47f4-96b8-db02156b1cac\",                        [{\"alignmentgroup\":\"True\",\"bingroup\":\"x\",\"hovertemplate\":\"n_different_subs=%{x}<br>count=%{y}<extra></extra>\",\"legendgroup\":\"\",\"marker\":{\"color\":\"#636efa\",\"pattern\":{\"shape\":\"\"}},\"name\":\"\",\"offsetgroup\":\"\",\"orientation\":\"v\",\"showlegend\":false,\"x\":[1,1,1,2,2,0,2,0,0,1,2,1,1,4,0,4,4,4,1,0,5,0,2,1,6,0,1,2,1,1,2,0,2,8,0,0,1,3,4,0,1,7,0,4,3,1,0,0,0,1,5,5,0,0,1,1,0,2,1,1,1,0,0,0,6,0,4,3,4,0,0,4,2,3,0,0,1,4,2,1,4,1,3,2,1,1,2,1,2,0,1,1,5,7,4,1,1,1,4,0,4,2,6,2,2,0,1,4,4,0,4,1,2,2,0,1,0,5,1,3,1,4,0,0,0,1,0,5,1,1,0,1,3,1,4,1,2,0,1,1,0,1,1,0,0,1,1,3,0,1,0,1,0,0,0,1,0,1,1,0,0,0,0,0,0,0,1,0,3,2,0,1,2,0,0,0,0,1,0,0,1,0,0,0,0,0,0,0,0,1,0,1,0,1,0,0,0,1,0,0,0,0,0,0,0,0,0,0,0,0,0,0,0,0,0,0,0,0,0,0,0,0,0,0,0,0,0,0,0,0,0,0,0,0,0,0,0,0,0,0,0,0,0,0,0,0,0,0,0,0,0,0,0,0,0,0,0,0,0,0,0,0,0,0,0,0,0,0,0,0,0,0,0,0,0,0,0,0,0,0,0,0,0,0,0,0,0,0,0,0,0,0,0,0,0,0,0,0,0,0,0,0,0,0,0,0,0,0,0,0,0,0,0,0,0,0,0,0,0,0,0,0,0,0,0,0,0,0,0,0,0,0,0,0,0,0,0,0,0,0,0,0,0,0,0,0,0,0,0,0,0,0,0,0,0,0,0,0,0,0,0,0,0,0,0,0,0,0,0,0,0,0,0,0,0,0,0,0,0,0,0,0,0,0,0,0,0,0,0,0,0,0,0,0,0,0,0,0,0,0,0,0,0,0,0,0,0,0,0,0,0,0,0,0,0,0,0,0,0,0,0,0,0,0,0,0,0,0,0,0,0,0,0,0,0,0,0,0,0,0,0,0,0,0,0,0,0,0,0,0,0,0,0,0,0,0,0,0,0,0,0,0,0,0,0,0,0,0,0,0,0,0,0,0,0,0,0,0,0,0,0,0,0,0,0,0,0,0,0,0,0,0,0,0,0,0,0,0,0,0,0,0,0,0,0,0,0,0,0,0,0,0,0,0,0,0,0,0,0,0,0,0,0,0,0,0,0,0,0,0,0,0,0,0,0,0,0,0,0,0,0,0,0,0,0,0,0,0,0,0,0,0,0,0,0,0,0,0,0,0,0,0,0,0,0,0,0,0,0,0,0,0,0,0,0,0,0,0,0,0,0,0,0,0,0,0,0,0,0,0,0,0,0,0,0,0,0,0,0,0,0,0,0,0,0,0,0,0,0,0,0,0,0,0],\"xaxis\":\"x\",\"yaxis\":\"y\",\"type\":\"histogram\",\"text\":[\"79.97%\",\"9.93%\",\"3.58%\",\"3.09%\",\"1.47%\",\"0.98%\",\"0.49%\",\"0.33%\",\"0.16%\"],\"textposition\":\"auto\"}],                        {\"template\":{\"data\":{\"histogram2dcontour\":[{\"type\":\"histogram2dcontour\",\"colorbar\":{\"outlinewidth\":0,\"ticks\":\"\"},\"colorscale\":[[0.0,\"#0d0887\"],[0.1111111111111111,\"#46039f\"],[0.2222222222222222,\"#7201a8\"],[0.3333333333333333,\"#9c179e\"],[0.4444444444444444,\"#bd3786\"],[0.5555555555555556,\"#d8576b\"],[0.6666666666666666,\"#ed7953\"],[0.7777777777777778,\"#fb9f3a\"],[0.8888888888888888,\"#fdca26\"],[1.0,\"#f0f921\"]]}],\"choropleth\":[{\"type\":\"choropleth\",\"colorbar\":{\"outlinewidth\":0,\"ticks\":\"\"}}],\"histogram2d\":[{\"type\":\"histogram2d\",\"colorbar\":{\"outlinewidth\":0,\"ticks\":\"\"},\"colorscale\":[[0.0,\"#0d0887\"],[0.1111111111111111,\"#46039f\"],[0.2222222222222222,\"#7201a8\"],[0.3333333333333333,\"#9c179e\"],[0.4444444444444444,\"#bd3786\"],[0.5555555555555556,\"#d8576b\"],[0.6666666666666666,\"#ed7953\"],[0.7777777777777778,\"#fb9f3a\"],[0.8888888888888888,\"#fdca26\"],[1.0,\"#f0f921\"]]}],\"heatmap\":[{\"type\":\"heatmap\",\"colorbar\":{\"outlinewidth\":0,\"ticks\":\"\"},\"colorscale\":[[0.0,\"#0d0887\"],[0.1111111111111111,\"#46039f\"],[0.2222222222222222,\"#7201a8\"],[0.3333333333333333,\"#9c179e\"],[0.4444444444444444,\"#bd3786\"],[0.5555555555555556,\"#d8576b\"],[0.6666666666666666,\"#ed7953\"],[0.7777777777777778,\"#fb9f3a\"],[0.8888888888888888,\"#fdca26\"],[1.0,\"#f0f921\"]]}],\"heatmapgl\":[{\"type\":\"heatmapgl\",\"colorbar\":{\"outlinewidth\":0,\"ticks\":\"\"},\"colorscale\":[[0.0,\"#0d0887\"],[0.1111111111111111,\"#46039f\"],[0.2222222222222222,\"#7201a8\"],[0.3333333333333333,\"#9c179e\"],[0.4444444444444444,\"#bd3786\"],[0.5555555555555556,\"#d8576b\"],[0.6666666666666666,\"#ed7953\"],[0.7777777777777778,\"#fb9f3a\"],[0.8888888888888888,\"#fdca26\"],[1.0,\"#f0f921\"]]}],\"contourcarpet\":[{\"type\":\"contourcarpet\",\"colorbar\":{\"outlinewidth\":0,\"ticks\":\"\"}}],\"contour\":[{\"type\":\"contour\",\"colorbar\":{\"outlinewidth\":0,\"ticks\":\"\"},\"colorscale\":[[0.0,\"#0d0887\"],[0.1111111111111111,\"#46039f\"],[0.2222222222222222,\"#7201a8\"],[0.3333333333333333,\"#9c179e\"],[0.4444444444444444,\"#bd3786\"],[0.5555555555555556,\"#d8576b\"],[0.6666666666666666,\"#ed7953\"],[0.7777777777777778,\"#fb9f3a\"],[0.8888888888888888,\"#fdca26\"],[1.0,\"#f0f921\"]]}],\"surface\":[{\"type\":\"surface\",\"colorbar\":{\"outlinewidth\":0,\"ticks\":\"\"},\"colorscale\":[[0.0,\"#0d0887\"],[0.1111111111111111,\"#46039f\"],[0.2222222222222222,\"#7201a8\"],[0.3333333333333333,\"#9c179e\"],[0.4444444444444444,\"#bd3786\"],[0.5555555555555556,\"#d8576b\"],[0.6666666666666666,\"#ed7953\"],[0.7777777777777778,\"#fb9f3a\"],[0.8888888888888888,\"#fdca26\"],[1.0,\"#f0f921\"]]}],\"mesh3d\":[{\"type\":\"mesh3d\",\"colorbar\":{\"outlinewidth\":0,\"ticks\":\"\"}}],\"scatter\":[{\"fillpattern\":{\"fillmode\":\"overlay\",\"size\":10,\"solidity\":0.2},\"type\":\"scatter\"}],\"parcoords\":[{\"type\":\"parcoords\",\"line\":{\"colorbar\":{\"outlinewidth\":0,\"ticks\":\"\"}}}],\"scatterpolargl\":[{\"type\":\"scatterpolargl\",\"marker\":{\"colorbar\":{\"outlinewidth\":0,\"ticks\":\"\"}}}],\"bar\":[{\"error_x\":{\"color\":\"#2a3f5f\"},\"error_y\":{\"color\":\"#2a3f5f\"},\"marker\":{\"line\":{\"color\":\"#E5ECF6\",\"width\":0.5},\"pattern\":{\"fillmode\":\"overlay\",\"size\":10,\"solidity\":0.2}},\"type\":\"bar\"}],\"scattergeo\":[{\"type\":\"scattergeo\",\"marker\":{\"colorbar\":{\"outlinewidth\":0,\"ticks\":\"\"}}}],\"scatterpolar\":[{\"type\":\"scatterpolar\",\"marker\":{\"colorbar\":{\"outlinewidth\":0,\"ticks\":\"\"}}}],\"histogram\":[{\"marker\":{\"pattern\":{\"fillmode\":\"overlay\",\"size\":10,\"solidity\":0.2}},\"type\":\"histogram\"}],\"scattergl\":[{\"type\":\"scattergl\",\"marker\":{\"colorbar\":{\"outlinewidth\":0,\"ticks\":\"\"}}}],\"scatter3d\":[{\"type\":\"scatter3d\",\"line\":{\"colorbar\":{\"outlinewidth\":0,\"ticks\":\"\"}},\"marker\":{\"colorbar\":{\"outlinewidth\":0,\"ticks\":\"\"}}}],\"scattermapbox\":[{\"type\":\"scattermapbox\",\"marker\":{\"colorbar\":{\"outlinewidth\":0,\"ticks\":\"\"}}}],\"scatterternary\":[{\"type\":\"scatterternary\",\"marker\":{\"colorbar\":{\"outlinewidth\":0,\"ticks\":\"\"}}}],\"scattercarpet\":[{\"type\":\"scattercarpet\",\"marker\":{\"colorbar\":{\"outlinewidth\":0,\"ticks\":\"\"}}}],\"carpet\":[{\"aaxis\":{\"endlinecolor\":\"#2a3f5f\",\"gridcolor\":\"white\",\"linecolor\":\"white\",\"minorgridcolor\":\"white\",\"startlinecolor\":\"#2a3f5f\"},\"baxis\":{\"endlinecolor\":\"#2a3f5f\",\"gridcolor\":\"white\",\"linecolor\":\"white\",\"minorgridcolor\":\"white\",\"startlinecolor\":\"#2a3f5f\"},\"type\":\"carpet\"}],\"table\":[{\"cells\":{\"fill\":{\"color\":\"#EBF0F8\"},\"line\":{\"color\":\"white\"}},\"header\":{\"fill\":{\"color\":\"#C8D4E3\"},\"line\":{\"color\":\"white\"}},\"type\":\"table\"}],\"barpolar\":[{\"marker\":{\"line\":{\"color\":\"#E5ECF6\",\"width\":0.5},\"pattern\":{\"fillmode\":\"overlay\",\"size\":10,\"solidity\":0.2}},\"type\":\"barpolar\"}],\"pie\":[{\"automargin\":true,\"type\":\"pie\"}]},\"layout\":{\"autotypenumbers\":\"strict\",\"colorway\":[\"#636efa\",\"#EF553B\",\"#00cc96\",\"#ab63fa\",\"#FFA15A\",\"#19d3f3\",\"#FF6692\",\"#B6E880\",\"#FF97FF\",\"#FECB52\"],\"font\":{\"color\":\"#2a3f5f\"},\"hovermode\":\"closest\",\"hoverlabel\":{\"align\":\"left\"},\"paper_bgcolor\":\"white\",\"plot_bgcolor\":\"#E5ECF6\",\"polar\":{\"bgcolor\":\"#E5ECF6\",\"angularaxis\":{\"gridcolor\":\"white\",\"linecolor\":\"white\",\"ticks\":\"\"},\"radialaxis\":{\"gridcolor\":\"white\",\"linecolor\":\"white\",\"ticks\":\"\"}},\"ternary\":{\"bgcolor\":\"#E5ECF6\",\"aaxis\":{\"gridcolor\":\"white\",\"linecolor\":\"white\",\"ticks\":\"\"},\"baxis\":{\"gridcolor\":\"white\",\"linecolor\":\"white\",\"ticks\":\"\"},\"caxis\":{\"gridcolor\":\"white\",\"linecolor\":\"white\",\"ticks\":\"\"}},\"coloraxis\":{\"colorbar\":{\"outlinewidth\":0,\"ticks\":\"\"}},\"colorscale\":{\"sequential\":[[0.0,\"#0d0887\"],[0.1111111111111111,\"#46039f\"],[0.2222222222222222,\"#7201a8\"],[0.3333333333333333,\"#9c179e\"],[0.4444444444444444,\"#bd3786\"],[0.5555555555555556,\"#d8576b\"],[0.6666666666666666,\"#ed7953\"],[0.7777777777777778,\"#fb9f3a\"],[0.8888888888888888,\"#fdca26\"],[1.0,\"#f0f921\"]],\"sequentialminus\":[[0.0,\"#0d0887\"],[0.1111111111111111,\"#46039f\"],[0.2222222222222222,\"#7201a8\"],[0.3333333333333333,\"#9c179e\"],[0.4444444444444444,\"#bd3786\"],[0.5555555555555556,\"#d8576b\"],[0.6666666666666666,\"#ed7953\"],[0.7777777777777778,\"#fb9f3a\"],[0.8888888888888888,\"#fdca26\"],[1.0,\"#f0f921\"]],\"diverging\":[[0,\"#8e0152\"],[0.1,\"#c51b7d\"],[0.2,\"#de77ae\"],[0.3,\"#f1b6da\"],[0.4,\"#fde0ef\"],[0.5,\"#f7f7f7\"],[0.6,\"#e6f5d0\"],[0.7,\"#b8e186\"],[0.8,\"#7fbc41\"],[0.9,\"#4d9221\"],[1,\"#276419\"]]},\"xaxis\":{\"gridcolor\":\"white\",\"linecolor\":\"white\",\"ticks\":\"\",\"title\":{\"standoff\":15},\"zerolinecolor\":\"white\",\"automargin\":true,\"zerolinewidth\":2},\"yaxis\":{\"gridcolor\":\"white\",\"linecolor\":\"white\",\"ticks\":\"\",\"title\":{\"standoff\":15},\"zerolinecolor\":\"white\",\"automargin\":true,\"zerolinewidth\":2},\"scene\":{\"xaxis\":{\"backgroundcolor\":\"#E5ECF6\",\"gridcolor\":\"white\",\"linecolor\":\"white\",\"showbackground\":true,\"ticks\":\"\",\"zerolinecolor\":\"white\",\"gridwidth\":2},\"yaxis\":{\"backgroundcolor\":\"#E5ECF6\",\"gridcolor\":\"white\",\"linecolor\":\"white\",\"showbackground\":true,\"ticks\":\"\",\"zerolinecolor\":\"white\",\"gridwidth\":2},\"zaxis\":{\"backgroundcolor\":\"#E5ECF6\",\"gridcolor\":\"white\",\"linecolor\":\"white\",\"showbackground\":true,\"ticks\":\"\",\"zerolinecolor\":\"white\",\"gridwidth\":2}},\"shapedefaults\":{\"line\":{\"color\":\"#2a3f5f\"}},\"annotationdefaults\":{\"arrowcolor\":\"#2a3f5f\",\"arrowhead\":0,\"arrowwidth\":1},\"geo\":{\"bgcolor\":\"white\",\"landcolor\":\"#E5ECF6\",\"subunitcolor\":\"white\",\"showland\":true,\"showlakes\":true,\"lakecolor\":\"white\"},\"title\":{\"x\":0.05},\"mapbox\":{\"style\":\"light\"}}},\"xaxis\":{\"anchor\":\"y\",\"domain\":[0.0,1.0],\"title\":{\"text\":\"Amount of different submissions scored by the athlete\"}},\"yaxis\":{\"anchor\":\"x\",\"domain\":[0.0,1.0],\"title\":{\"text\":\"Number of athletes\"}},\"legend\":{\"tracegroupgap\":0},\"margin\":{\"t\":60},\"barmode\":\"relative\",\"title\":{\"text\":\"Distribution of number of different submissions\",\"y\":0.95,\"x\":0.5,\"xanchor\":\"center\",\"yanchor\":\"top\"}},                        {\"responsive\": true}                    ).then(function(){\n",
       "                            \n",
       "var gd = document.getElementById('a908d458-6b4f-47f4-96b8-db02156b1cac');\n",
       "var x = new MutationObserver(function (mutations, observer) {{\n",
       "        var display = window.getComputedStyle(gd).display;\n",
       "        if (!display || display === 'none') {{\n",
       "            console.log([gd, 'removed!']);\n",
       "            Plotly.purge(gd);\n",
       "            observer.disconnect();\n",
       "        }}\n",
       "}});\n",
       "\n",
       "// Listen for the removal of the full notebook cells\n",
       "var notebookContainer = gd.closest('#notebook-container');\n",
       "if (notebookContainer) {{\n",
       "    x.observe(notebookContainer, {childList: true});\n",
       "}}\n",
       "\n",
       "// Listen for the clearing of the current output cell\n",
       "var outputEl = gd.closest('.output');\n",
       "if (outputEl) {{\n",
       "    x.observe(outputEl, {childList: true});\n",
       "}}\n",
       "\n",
       "                        })                };                });            </script>        </div>"
      ]
     },
     "metadata": {},
     "output_type": "display_data"
    }
   ],
   "source": [
    "# Plots the distribution of total number of different submissions athletes have performed\n",
    "\n",
    "# Generates the chart object by instanciating a plotly express histogram \n",
    "fig = px.histogram(df, x='n_different_subs', hover_name=\"n_different_subs\")\n",
    "fig.update_layout(\n",
    "    title={\n",
    "        'text': \"Distribution of number of different submissions\",\n",
    "        'y':0.95,\n",
    "        'x':0.5,\n",
    "        'xanchor': 'center',\n",
    "        'yanchor': 'top'\n",
    "    },\n",
    "    xaxis_title=\"Amount of different submissions scored by the athlete\",\n",
    "    yaxis_title=\"Number of athletes\"\n",
    ")\n",
    "\n",
    "# Calculates the percentage for each value\n",
    "total_count = len(df['n_different_subs'])\n",
    "percentages = df['n_different_subs'].value_counts(normalize=True) * 100\n",
    "\n",
    "# Add the percentage text on top of each bar\n",
    "fig.update_traces(text=percentages.round(2).astype(str) + '%', textposition='auto')\n",
    "\n",
    "fig.show()"
   ]
  },
  {
   "cell_type": "markdown",
   "id": "5c495c3f",
   "metadata": {
    "papermill": {
     "duration": 0.023949,
     "end_time": "2023-06-16T16:32:41.000902",
     "exception": false,
     "start_time": "2023-06-16T16:32:40.976953",
     "status": "completed"
    },
    "tags": []
   },
   "source": [
    "The 0 bar shows that almost 80% of ADCC competitors have never submit an oponent in the event.  \n",
    "It's important to note that to display a higher value in this feature, the athlete most not only perform with higher technical level and adaptability but also achieve more opportunities to actually fight more matches."
   ]
  },
  {
   "cell_type": "markdown",
   "id": "0ba23f20",
   "metadata": {
    "papermill": {
     "duration": 0.023973,
     "end_time": "2023-06-16T16:32:41.048912",
     "exception": false,
     "start_time": "2023-06-16T16:32:41.024939",
     "status": "completed"
    },
    "tags": []
   },
   "source": [
    "### How does the average of points per match (scored and conceded) differ between athletes?  \n",
    "It's worth *pointing* out that ADCC is notorious for being a competition that encourages submissions over point scoring."
   ]
  },
  {
   "cell_type": "code",
   "execution_count": 13,
   "id": "3b06c17e",
   "metadata": {
    "_kg_hide-input": true,
    "execution": {
     "iopub.execute_input": "2023-06-16T16:32:41.098668Z",
     "iopub.status.busy": "2023-06-16T16:32:41.098285Z",
     "iopub.status.idle": "2023-06-16T16:32:41.170276Z",
     "shell.execute_reply": "2023-06-16T16:32:41.169095Z"
    },
    "papermill": {
     "duration": 0.099633,
     "end_time": "2023-06-16T16:32:41.172635",
     "exception": false,
     "start_time": "2023-06-16T16:32:41.073002",
     "status": "completed"
    },
    "tags": []
   },
   "outputs": [
    {
     "data": {
      "text/html": [
       "<div>                            <div id=\"e483c17f-8647-484a-98f0-15d251fe3152\" class=\"plotly-graph-div\" style=\"height:525px; width:100%;\"></div>            <script type=\"text/javascript\">                require([\"plotly\"], function(Plotly) {                    window.PLOTLYENV=window.PLOTLYENV || {};                                    if (document.getElementById(\"e483c17f-8647-484a-98f0-15d251fe3152\")) {                    Plotly.newPlot(                        \"e483c17f-8647-484a-98f0-15d251fe3152\",                        [{\"hovertemplate\":\"<b>%{hovertext}</b><br><br>Sex=0<br>suffered_points_per_fight=%{x}<br>scored_points_per_fight=%{y}<extra></extra>\",\"hovertext\":[\"Murilo Santana\",\"Nicholas Meregali\",\"Nick Rodriguez\",\"Otavio Sousa\",\"Orlando Sanchez\",\"Pablo Mantovani\",\"Pablo Popovitch\",\"Paul Schreiner\",\"Paulo Miyao\",\"Rida Haisam\",\"Roberto Abreu\",\"Roberto Jimenez\",\"Robson Moura\",\"Rodolfo Vieira\",\"Rodrigo Medeiros\",\"Roger Gracie\",\"Romulo Barral\",\"Ronaldo Souza\",\"Roosevelt Sousa\",\"Adam Wardzinski\",\"Braulio Estima\",\"Celso Vinicius\",\"Claudio Calasans\",\"Bruno Frazatto\",\"Craig Jones\",\"Dante Leon\",\"Davi Ramos\",\"David Terrell\",\"Demian Maia\",\"Diego Oliveira\",\"Diogo Reis\",\"Eddie Bravo\",\"Dean Lister\",\"DeAlonzio Jackson\",\"Gabriel Arges\",\"Gabriel Sousa\",\"Gary Tonon\",\"Giancarlo Bodoni\",\"Gianni Grippo\",\"Gilbert Burns\",\"Gordon Ryan\",\"Justin Rader\",\"Keenan Cornelius\",\"Kron Gracie\",\"Lucas Lepri\",\"Lucas Daniel Barbosa\",\"Matheus Diniz\",\"Matheus Gabriel Barros\",\"Marcio Feitosa\",\"Marcus Almeida\",\"Rafael Mendes\",\"Renato Forasieppi Canuto\",\"Ryan Hall\",\"Tye Ruotolo\",\"Tim Spriggs\",\"Patrick Gaudio\",\"Yuri Simoes\",\"Geovanny Martinez\",\"Jared Dopp\",\"Mahamed Aly\",\"Mansher Khera\",\"Abdurakhman Bilarov\",\"AJ Agazarm\",\"Alexandre Ribeiro\",\"Andre Galvao\",\"Augusto Mendes\",\"Baret Yoshida\",\"Elder Cruz\",\"Fabricio Andrey\",\"Fabricio Werdum\",\"Felipe Pena\",\"Jackson Sousa\",\"James Puopolo\",\"Jake Shields\",\"Jean Jacques Machado\",\"Joao Miyao\",\"Joao Gabriel Rocha\",\"Joao Assis\",\"Jon Blank\",\"Jose Mario Sperry\",\"Josh Hinger\",\"Joshua Cisneros\",\"Jonathan Torres\",\"Kade Ruotolo\",\"Kaynan Duarte\",\"Kennedy Maciel\",\"Kyle Boehm\",\"Lachlan Giles\",\"Leonardo Santos\",\"Leonardo Vieira\",\"Marcelo Garcia\",\"Marcio Cruz\",\"Mason Fowler\",\"Matt Serra\",\"Micael Galvao\",\"Rafael Lovato Jr\",\"Rany Yahya\",\"Renzo Gracie\",\"Ricardo Almeida\",\"Ricardo Arona\",\"Ricardo Liborio\",\"Richard Alarcon\",\"Rousimar Palhares\",\"Royler Gracie\",\"Rubens Charles\",\"Sam McNally\",\"Saulo Ribeiro\",\"Sergio Moraes\",\"Tarsis Humpreys\",\"Vagner Rocha\",\"Victor Estima\",\"Victor Hugo\",\"Vinicius Ferreira\",\"Vinicius Magalhaes\",\"Vitor Ribeiro\",\"Max Gimenis\",\"Jeff Glover\",\"Jeremy Skinner\",\"Marcelo Mafra\",\"Nicky Ryan\",\"Aaron Johnson\",\"Rigan Machado\",\"Antonio Braga Neto\",\"Lucas Leite\",\"Victor Honorio\",\"Ricco Rodriguez\",\"Dillon Danis\",\"Alexandre de Freitas\",\"Abraham Marte Messina\",\"Antonio Schembri\",\"Amaury Bitetti\",\"Eduardo Telles\",\"Ethan Crelinsten\",\"Jorge Patino\",\"Leonardo Nogueira\",\"Marcio Andre Barbosa Junior\",\"Pedro Marinho\",\"Ricardo Vieira\",\"Roberto Traven\",\"Rodrigo Gracie\",\"Cassio Francis\",\"Marcio Corleta\",\"Rodrigo Cavaca\",\"Edward Cummings\",\"Roberto Magalhaes\",\"Gregor Gracie\",\"Flavio Almeida\",\"Gabriel Rollo\",\"Vitor Viana\",\"Glover Teixeira\",\"Ruslam Chsiev\",\"Sean Alvarez\",\"Mark Kerr\",\"Mark Robinson\",\"Vitor Belfort\",\"Gabriel Napao\",\"John Hansen\",\"A. Cacareco\",\"David Avellan\",\"Eoghan OFlannagan\",\"Robert Drysdale\",\"Garth Taylor\",\"Kareem Barkalev\",\"Sasha Palvski\",\"Jeff Monson\",\"Kamil Uminski\",\"Chael Sonnen\",\"Rolles Gracie\",\"Eoghan Oflanagan\",\"Egan Inoue\",\"Murilo Bustamante\",\"Rustam Chsiev\",\"Matt Hughes\",\"Sasha Savko\",\"Olav Einemo\",\"Tito Ortiz\",\"Kyle Griffin\",\"Mike Fowler\",\"Sanae Kikuta\",\"Mateusz Szczecinski\",\"Nicolas Renier\",\"Oskar Piechota\",\"Kuba Witkowski\",\"Gunnar Nelson\",\"Hayato Sakurai\",\"Henrique Cardoso\",\"Andy Varela\",\"Thomas Halpin\",\"Tommy Langaker\",\"Michael Perez\",\"Enrico Cocco\",\"Edwin Najmi\",\"Gabriel Lucas\",\"Jonathan Satava\",\"Keith Krikorian\",\"Leonardo Saggioro\",\"John Combs\",\"Alec Baulding\",\"Ruan Alvarenga\",\"Isaque Bahiense\",\"Gabriel Marangoni\",\"Clark Gracie\",\"Perttu Tepponen\",\"Santeri Lilius\",\"Oliver Taza\",\"Alexandre Vieira\",\"Sergio Ardila-Ibarra\",\"John Salter\",\"Cole Abate\",\"Alexander Trans\",\"Roberto Alencar\",\"Paul Ardila-Ibarra\",\"Gabriel Almeida\",\"Ross Nicholls\",\"Eldar Rafigaev\",\"Devhonte Johnson\",\"Valdir Araujo Junior\",\"Alexandre Jesus\",\"Ashley Williams\",\"Yuta Shimada\",\"Kit Dale\",\"Felipe Cesar\",\"Shane Hill-Taylor\",\"Leandro Lo\",\"Joao Costa\",\"Servio Tulio\",\"James Brasco\",\"Jose Mario Queiroga\",\"Gerardi Rinaldi\",\"Antonio Peinado\",\"Shinya Aoki\",\"Christian Moriarty\",\"Ryan Gracie\",\"Mark Ramos\",\"Gustavo Dantas\",\"Augusto Ferrari\",\"Radoslaw Turek\",\"Carlos Machado\",\"Fellipe Andrew\",\"Igor Praporschchikov\",\"Tomas Szczerek\",\"Yuji Arai\",\"Janne-Pekka\",\"Daniel Strauss\",\"M. Perez\",\"Ben Dyson\",\"Magid Hage\",\"M. Szczecinski\",\"Young-Ahm\",\"Akira Shoji\",\"Marko Helen\",\"Yushin Okami\",\"M. Yano\",\"Ilir Lafiti\",\"Nate Marquardt\",\"Andreas Olsen\",\"Jia Jang\",\"Ezra Lenon\",\"Hideki Sekine\",\"Lee Hyoung\",\"Ricardo Mesquita\",\"Satori Kitaoka\",\"Eoghan OFlanagan\",\"Ben Hodgkinson\",\"Heikki Jussila\",\"Timo-Juhani\",\"Erza Lennon\",\"J. Urholin\",\"Piotr Frechowicz\",\"Erico Cocco\",\"Jason Manly\",\"Andy Wang\",\"Tero Pyylampi\",\"Gamrot Mateusz\",\"Osman Kasimov\",\"Rodrigo Dib\",\"Josh Hayden\",\"Caol Uno\",\"Peter Angerer\",\"F. Vasconcelos\",\"Urija Faber\",\"Jimmy Freidrich\",\"A. Zhanpeisov\",\"Y. Takahito\",\"Tetsu Suzuki\",\"Jeff Curran\",\"Tetsu Hadario\",\"J. Pietkainen\",\"Zbigniew Tyszka\",\"Hideki Shrek\",\"Elliot Marshal\",\"Luke Griffith\",\"Kamil Wilk\",\"Jesseray Childrey\",\"Amir Allam\",\"Abdulaev Ruslan\",\"Eliott Kelly\",\"Jon Hansen\",\"Yousef Elzien\",\"Ricardo Moraes\",\"Firas Nakdali\",\"Rocky Batastini\",\"Kim Mason\",\"Carlos Barreto\",\"Y. Yatso\",\"Halm Gocalli\",\"Y. Ozawa\",\"Juskowiak Mateusz\",\"Trevor Lally\",\"Marc\",\"Robin Gracie\",\"T. Hirono\",\"Sasha Plavski\",\"Joe Gilbert\",\"Y. Kinishi\",\"K. Hirate\",\"Joaquim Hansen\",\"Erik Paulson\",\"Michael Groth\",\"Jamal Peterson\",\"John Einimo\",\"Antoine Joude\",\"Yukissyu Ozawa\",\"Tim Carpenter\",\"Ilir Latifi\",\"Lucio Lagarto\",\"Yukiyasu Ozawa\",\"T. Pyylampi\",\"Wellington Dias\",\"Akira Shouji\",\"Chris Bright\",\"Mark Bocek\",\"Kassim Anan\",\"Chris Weidman\",\"Tom Bass\",\"Don Ortega\",\"Shinzo Ansai\",\"Akihiro Gono\",\"Alexander Savko\",\"Nicholas Renier\",\"N. Uematsu\",\"Mike Mrkulic\",\"Eddie Sanchez\",\"Yoshitomi Mishima\",\"Tetsu Suzuko\",\"Nicollas Renier\",\"T. Kosaka\",\"Jehad Hamdan\",\"Mike Van\",\"Matt Lindland\",\"Denis Roberts\",\"Daniel Simoes\",\"Reese Andy\",\"Mario Rinaldi\",\"Elvis Sinosic\",\"Darren Andy\",\"Rogent Lorent\",\"Tomasz Janiszewski\",\"Jimmy Friedrich\",\"Josh Saunders\",\"Paulo Pinto\",\"Diego Sanchez\",\"Cameron Earle\",\"Micah Pittman\",\"Mikey Burnet\",\"Serguei Onishuk\",\"Y. Kohsaka\",\"Jamie Ballard\",\"Daniel Hortegas\",\"James Poupolo\",\"Liu Wen\",\"Tomasz Narkun\",\"Michael Wilson\",\"Jason Lees\",\"Eduardo Rios\",\"Fabio Gurgel\",\"Karl Webber\",\"Egan Inoe\",\"Take Hanai\",\"Muhammad Saleh\",\"Larry Parker\",\"Renato Verissimo\",\"Oleg Taktarov\",\"Simon Siasi\",\"Enson Inoe\",\"Keita Iwamoto\",\"Owen Livesey\",\"Cristiano Lazzarini\",\"R. Alvarenga\",\"Alian Drueco\",\"Mikael Knutsson\",\"George St\",\"Yoshiyuki Yoshida\",\"Morris Clifoni\",\"Allan Teo\",\"T. Suzuki\",\"Joey Gilbert\",\"Rob Di\",\"D. Marinakis\",\"Sotaro Yamada\",\"Rodney Ellis\",\"Bruno Bastos\",\"Marcos Oliveira\",\"Anthony Perosh\",\"Kiuma Kunioku\",\"Mario Miranda\",\"George Sotiropoulos\",\"Kurt Pellegrino\",\"Keita Nakamura\",\"Robert Sabaruddin\",\"Van Arsdale\",\"Mike Whitehead\",\"Alex Negao\",\"Miodrag Petkovic\",\"J. Pietlainen\",\"Takanori Gomi\",\"Thomas DeBlass\",\"Jorge Britto\",\"Keller Sodhi\",\"Youngnam Noh\",\"Ben Henderson\",\"Kitner Mendoga\",\"H. Sekine\",\"Mateusz Juskowiak\",\"E. Elgland\",\"Eric Dahlberg\",\"Ben Askren\",\"Doorwang Jeon\",\"Janus Andrejczuk\",\"Kenta Iwamoto\",\"Wagnney Fabiano\",\"Jacob Rodriguez\",\"Tom Lawlor\",\"Jeon Doo\",\"Shinsho Anzai\",\"Hidemi Mihara\",\"Abdulkadirov Magomed\",\"Perttu Terpponnen\",\"Teemu Launis\",\"Mario Delgado\",\"Darrel Moodley\",\"Kouhei Yasumi\",\"Frank Trigg\",\"Rodrigo Modrias\",\"Fabiano Iha\",\"Israel Albuquerque\",\"Chris Brown\",\"G. Sotiropoulos\",\"Josh Barnet\",\"Y. Setsenko\",\"Marshurenko\",\"M. Van\",\"Andy Reese\",\"R. Babalu\",\"Roger Neff\",\"Luis Orlando\",\"Toshiyuki Oyama\",\"Yuta Sasaki\",\"Travis Lutter\",\"Jerry Bolander\",\"Pete Williams\",\"Yuki Ozawa\",\"Asa Fuller\",\"Sekine Hideki\",\"Mike Martelle\",\"Kamil Huminski\",\"Khazmat Stambulov\",\"Jurie Rachel\",\"Luis Roberto\",\"Hiroyuko Abe\",\"Joe Guilbert\",\"Greger Forsel\",\"Joseph Lee\",\"Adrian Serrano\",\"Carlos Newton\",\"Ahmad Faraj\",\"Gavin Kulper\",\"Nathan Marquardt\",\"Justin Garcia\",\"Jon Einemo\",\"Travers Grubb\",\"Kim Dong\",\"C. Jones\",\"Nieman Gracie\",\"David Bielkheden\",\"Dennis Hallman\",\"Joao Roque\",\"James Harbison\",\"Dan Schon\",\"Juan Valles\",\"Melchor M.\",\"A. Hamlet\",\"Martin Brown\",\"Mike Cardosa\",\"Charles Pearson\",\"Hiroshi Nakamura\",\"Joel Tudor\",\"David Marinakis\",\"Tezekbaev Rasul\",\"U. Zhakshylyk\",\"Vernon White\",\"Dave Menne\",\"R. Anderson\",\"T. Yano\",\"Yuki Sasaki\",\"L. Papadopoulis\",\"Kouji Kanechika\",\"Jorge Santiago\",\"I. Praporshchikov\",\"Jose Junior\",\"Milton Vieira\",\"Isaak Michel\",\"Sanshiro Nakamura\",\"Chris Wideman\",\"Luke Costello\",\"Wang Yan\",\"P. Ardilla\",\"Rumina Sato\",\"Fernando Vieira\",\"Akira Soji\",\"Otto Olsen\",\"Renan Sancar\",\"Mateusz Garmot\",\"Kaynan D.\",\"Jayson Patino\",\"Mraz Avdoyan\",\"Rodrigo Minotauro\",\"Tobias G\",\"Kari Petola\",\"Ryan Harvey\",\"Tom Barlow\",\"Janne Pietilainen\",\"Ricardo Alves\",\"Sim Go\",\"Jason White\",\"Damon Ramos\",\"Roan Jucao\",\"Bruno Chavez\",\"Luis Brito\",\"Fan Yi\",\"H. Kanehara\",\"R. Mashurenko\",\"Tamura\",\"Hudson Taylor\",\"F. Capoane\",\"Adam Sachnoff\",\"Genki Sudo\",\"Robert Sulski\",\"J. Wakabayashi\",\"D. Hemmings\",\"Takefuni Hanai\",\"Dan Manasoiu\",\"Roman Dolidze\",\"Hector Lombard\",\"Asadulaev Surkhay\",\"Marcio Cromado\",\"Bob Schirmer\",\"Chris Brennan\",\"Gao Hua\",\"Mourat Ozov\",\"Rodrigo Artilheiro\",\"K. Toida\",\"Davis Heart\",\"Davion Peterson\",\"Manu Garcia\",\"Dan Martinez\",\"Jason Brudvik\",\"Jason Ramsterrer\",\"Jesse Urholin\",\"Rodrigo Caporal\",\"William Tackett\"],\"legendgroup\":\"0\",\"marker\":{\"color\":\"#636efa\",\"symbol\":\"circle\"},\"mode\":\"markers\",\"name\":\"Male\",\"orientation\":\"v\",\"showlegend\":true,\"x\":[0.0,-0.375,-0.2,0.5,-0.4615384615384615,1.1666666666666667,-0.5769230769230769,-0.5,0.125,0.0,-0.2758620689655172,3.6666666666666665,-0.375,-0.4,1.25,-0.5384615384615384,-0.4444444444444444,-0.0714285714285714,-0.6666666666666666,-1.0,-0.9375,0.8,0.9166666666666666,1.1428571428571428,1.3571428571428572,-0.375,0.0,-1.0,-0.5,-0.75,0.0,4.666666666666667,0.1785714285714285,0.0,-0.5,0.25,0.3888888888888889,0.3333333333333333,2.333333333333333,-0.5,-0.5238095238095238,-0.875,-0.25,-0.6,0.3333333333333333,0.0,-0.3333333333333333,-1.0,-0.8181818181818182,-0.0909090909090909,-0.8333333333333334,-0.25,0.8,0.375,-0.6666666666666666,-0.6,-0.1052631578947368,1.0,-0.4666666666666667,-0.2727272727272727,-0.5,2.5,-0.3333333333333333,-0.3488372093023256,-0.3703703703703703,-0.7692307692307693,0.3636363636363636,2.333333333333333,-1.0,-0.1923076923076923,0.1666666666666666,-0.1666666666666666,0.3333333333333333,1.8,-0.6,-0.25,-0.6,0.2142857142857142,-0.2,-0.1818181818181818,1.6666666666666667,0.0,0.1333333333333333,0.0,-0.2222222222222222,-0.1666666666666666,-1.0,-0.1111111111111111,-0.7,-0.2333333333333333,-0.5625,-0.4090909090909091,-1.0,-1.0,-0.5,-0.5769230769230769,0.3846153846153846,0.6666666666666666,0.1052631578947368,0.0,-0.3,1.0,1.5,-0.4666666666666667,-0.65,-0.5,-0.2666666666666666,1.5,-1.0,-0.2941176470588235,0.25,2.0,-0.1428571428571428,-0.5517241379310345,-0.7142857142857143,-1.0,0.1818181818181818,-1.0,0.0,2.25,1.6666666666666667,-0.4,-0.25,-1.0,2.5,-0.5833333333333334,-0.75,0.4210526315789473,1.0,-1.0,1.0,-0.6666666666666666,0.0,1.8,-0.4,1.5,0.8,-1.0,0.1428571428571428,-0.375,-1.0,0.5,0.0,-1.0,7.0,0.6666666666666666,-1.0,1.5,0.0,-1.0,0.0,0.3333333333333333,-0.6666666666666666,0.0,1.5,-0.5,0.75,-0.1538461538461538,0.2727272727272727,0.0,1.25,1.3333333333333333,-0.6666666666666666,-0.5,-0.7692307692307693,0.3333333333333333,-1.0,-1.0,0.0,0.25,2.6666666666666665,-1.0,0.0,1.5,0.6666666666666666,1.0,-0.5,-1.0,-0.5,0.0,-1.0,2.0,-0.5,1.2,0.0,0.0,0.0,0.0,0.0,0.0,0.0,0.0,0.0,0.0,0.0,0.0,0.0,0.0,0.0,0.0,0.0,0.0,0.0,0.0,0.0,0.0,0.0,0.0,0.0,0.0,0.0,0.0,0.0,0.0,0.0,0.0,0.0,0.0,0.0,0.0,0.0,0.0,0.0,0.0,0.0,0.0,0.0,0.0,0.0,0.0,0.0,0.0,0.0,0.0,0.0,0.0,0.0,0.0,0.0,0.0,0.0,0.0,0.0,0.0,0.0,0.0,0.0,0.0,0.0,0.0,0.0,0.0,0.0,0.0,0.0,0.0,0.0,0.0,0.0,0.0,0.0,0.0,0.0,0.0,0.0,0.0,0.0,0.0,0.0,0.0,0.0,0.0,0.0,0.0,0.0,0.0,0.0,0.0,0.0,0.0,0.0,0.0,0.0,0.0,0.0,0.0,0.0,0.0,0.0,0.0,0.0,0.0,0.0,0.0,0.0,0.0,0.0,0.0,0.0,0.0,0.0,0.0,0.0,0.0,0.0,0.0,0.0,0.0,0.0,0.0,0.0,0.0,0.0,0.0,0.0,0.0,0.0,0.0,0.0,0.0,0.0,0.0,0.0,0.0,0.0,0.0,0.0,0.0,0.0,0.0,0.0,0.0,0.0,0.0,0.0,0.0,0.0,0.0,0.0,0.0,0.0,0.0,0.0,0.0,0.0,0.0,0.0,0.0,0.0,0.0,0.0,0.0,0.0,0.0,0.0,0.0,0.0,0.0,0.0,0.0,0.0,0.0,0.0,0.0,0.0,0.0,0.0,0.0,0.0,0.0,0.0,0.0,0.0,0.0,0.0,0.0,0.0,0.0,0.0,0.0,0.0,0.0,0.0,0.0,0.0,0.0,0.0,0.0,0.0,0.0,0.0,0.0,0.0,0.0,0.0,0.0,0.0,0.0,0.0,0.0,0.0,0.0,0.0,0.0,0.0,0.0,0.0,0.0,0.0,0.0,0.0,0.0,0.0,0.0,0.0,0.0,0.0,0.0,0.0,0.0,0.0,0.0,0.0,0.0,0.0,0.0,0.0,0.0,0.0,0.0,0.0,0.0,0.0,0.0,0.0,0.0,0.0,0.0,0.0,0.0,0.0,0.0,0.0,0.0,0.0,0.0,0.0,0.0,0.0,0.0,0.0,0.0,0.0,0.0,0.0,0.0,0.0,0.0,0.0,0.0,0.0,0.0,0.0,0.0,0.0,0.0,0.0,0.0,0.0,0.0,0.0,0.0,0.0,0.0,0.0,0.0,0.0,0.0,0.0,0.0,0.0,0.0,0.0,0.0,0.0,0.0,0.0,0.0,0.0,0.0,0.0,0.0,0.0,0.0,0.0,0.0,0.0,0.0,0.0,0.0,0.0,0.0,0.0,0.0,0.0,0.0,0.0,0.0,0.0,0.0,0.0,0.0,0.0,0.0,0.0,0.0,0.0,0.0,0.0,0.0,0.0,0.0,0.0,0.0,0.0,0.0,0.0,0.0,0.0,0.0,0.0,0.0,0.0,0.0,0.0,0.0,0.0,0.0,0.0,0.0,0.0,0.0,0.0,0.0,0.0,0.0,0.0,0.0,0.0,0.0,0.0,0.0,0.0,0.0,0.0,0.0,0.0,0.0,0.0,0.0,0.0,0.0,0.0,0.0,0.0,0.0,0.0,0.0,0.0,0.0,0.0],\"xaxis\":\"x\",\"y\":[-0.2727272727272727,0.125,2.3,-0.75,-0.3846153846153846,2.0,0.2692307692307692,1.25,4.75,-0.6666666666666666,0.1034482758620689,0.0,0.125,1.0,1.625,0.3076923076923077,-0.8333333333333334,1.2857142857142858,0.0,-1.0,-0.75,0.2,-0.6666666666666666,-0.1428571428571428,-0.7142857142857143,0.125,0.0,-1.0,0.25,-0.75,0.0,-0.6666666666666666,-0.4642857142857143,0.4,2.0,0.75,-0.4444444444444444,0.6666666666666666,0.6666666666666666,1.5,-0.2857142857142857,-0.5,1.6875,-0.8,1.5833333333333333,1.4285714285714286,1.8333333333333333,-1.0,-0.4545454545454545,0.5,-0.1666666666666666,1.5,0.4,0.0,0.3333333333333333,1.4,0.7894736842105263,0.75,-0.3333333333333333,-0.0909090909090909,0.5,2.5,-0.2222222222222222,0.0930232558139534,1.6296296296296295,0.0,-0.0909090909090909,0.3333333333333333,-1.0,0.3076923076923077,3.111111111111111,-0.6666666666666666,0.6666666666666666,1.6,0.0,-0.75,1.2666666666666666,0.8571428571428571,-0.8,0.3636363636363636,0.6666666666666666,-0.5,0.8666666666666667,0.0,3.0,-0.3333333333333333,-1.0,-0.6666666666666666,-0.2,1.4333333333333331,-0.5,-0.4545454545454545,-1.0,-1.0,1.25,-0.1153846153846153,-0.6153846153846154,0.6,-0.1052631578947368,0.0,2.8,2.0,0.25,3.733333333333333,0.4,1.0,1.3333333333333333,-0.5,-1.0,-0.1176470588235294,0.75,1.0,-0.1428571428571428,-0.1379310344827586,0.2857142857142857,-1.0,-0.8181818181818182,-1.0,1.0,0.5,-0.3333333333333333,0.6,-0.75,-1.0,0.75,-0.2083333333333333,-0.75,0.2105263157894736,-0.5,-1.0,2.5,-0.6666666666666666,-0.6666666666666666,6.8,-0.8,3.0,0.0,-1.0,1.8571428571428568,1.25,-1.0,-0.5,-0.6666666666666666,-1.0,3.0,0.6666666666666666,-1.0,4.0,0.0,-1.0,0.0,-0.6666666666666666,0.1666666666666666,0.0,1.0,0.0,-0.75,-0.0769230769230769,-0.7272727272727273,0.0,-0.75,0.3333333333333333,0.0,1.5,-0.2307692307692307,-0.6666666666666666,-1.0,-1.0,0.0,0.0,0.6666666666666666,-1.0,0.0,2.0,0.3333333333333333,1.0,0.5,-1.0,1.0,0.0,-1.0,-0.6666666666666666,-0.5,-0.4,-0.6666666666666666,0.0,0.0,0.0,0.0,0.0,0.0,0.0,0.0,0.0,0.0,0.0,0.0,0.0,0.0,0.0,0.0,0.0,0.0,0.0,0.0,0.0,0.0,0.0,0.0,0.0,0.0,0.0,0.0,0.0,0.0,0.0,0.0,0.0,0.0,0.0,0.0,0.0,0.0,0.0,0.0,0.0,0.0,0.0,0.0,0.0,0.0,0.0,0.0,0.0,0.0,0.0,0.0,0.0,0.0,0.0,0.0,0.0,0.0,0.0,0.0,0.0,0.0,0.0,0.0,0.0,0.0,0.0,0.0,0.0,0.0,0.0,0.0,0.0,0.0,0.0,0.0,0.0,0.0,0.0,0.0,0.0,0.0,0.0,0.0,0.0,0.0,0.0,0.0,0.0,0.0,0.0,0.0,0.0,0.0,0.0,0.0,0.0,0.0,0.0,0.0,0.0,0.0,0.0,0.0,0.0,0.0,0.0,0.0,0.0,0.0,0.0,0.0,0.0,0.0,0.0,0.0,0.0,0.0,0.0,0.0,0.0,0.0,0.0,0.0,0.0,0.0,0.0,0.0,0.0,0.0,0.0,0.0,0.0,0.0,0.0,0.0,0.0,0.0,0.0,0.0,0.0,0.0,0.0,0.0,0.0,0.0,0.0,0.0,0.0,0.0,0.0,0.0,0.0,0.0,0.0,0.0,0.0,0.0,0.0,0.0,0.0,0.0,0.0,0.0,0.0,0.0,0.0,0.0,0.0,0.0,0.0,0.0,0.0,0.0,0.0,0.0,0.0,0.0,0.0,0.0,0.0,0.0,0.0,0.0,0.0,0.0,0.0,0.0,0.0,0.0,0.0,0.0,0.0,0.0,0.0,0.0,0.0,0.0,0.0,0.0,0.0,0.0,0.0,0.0,0.0,0.0,0.0,0.0,0.0,0.0,0.0,0.0,0.0,0.0,0.0,0.0,0.0,0.0,0.0,0.0,0.0,0.0,0.0,0.0,0.0,0.0,0.0,0.0,0.0,0.0,0.0,0.0,0.0,0.0,0.0,0.0,0.0,0.0,0.0,0.0,0.0,0.0,0.0,0.0,0.0,0.0,0.0,0.0,0.0,0.0,0.0,0.0,0.0,0.0,0.0,0.0,0.0,0.0,0.0,0.0,0.0,0.0,0.0,0.0,0.0,0.0,0.0,0.0,0.0,0.0,0.0,0.0,0.0,0.0,0.0,0.0,0.0,0.0,0.0,0.0,0.0,0.0,0.0,0.0,0.0,0.0,0.0,0.0,0.0,0.0,0.0,0.0,0.0,0.0,0.0,0.0,0.0,0.0,0.0,0.0,0.0,0.0,0.0,0.0,0.0,0.0,0.0,0.0,0.0,0.0,0.0,0.0,0.0,0.0,0.0,0.0,0.0,0.0,0.0,0.0,0.0,0.0,0.0,0.0,0.0,0.0,0.0,0.0,0.0,0.0,0.0,0.0,0.0,0.0,0.0,0.0,0.0,0.0,0.0,0.0,0.0,0.0,0.0,0.0,0.0,0.0,0.0,0.0,0.0,0.0,0.0,0.0,0.0,0.0,0.0,0.0,0.0,0.0,0.0,0.0,0.0,0.0,0.0,0.0,0.0,0.0,0.0,0.0,0.0,0.0,0.0,0.0,0.0,0.0,0.0,0.0,0.0,0.0,0.0,0.0,0.0,0.0,0.0,0.0,0.0,0.0],\"yaxis\":\"y\",\"type\":\"scatter\"},{\"hovertemplate\":\"<b>%{hovertext}</b><br><br>Sex=1<br>suffered_points_per_fight=%{x}<br>scored_points_per_fight=%{y}<extra></extra>\",\"hovertext\":[\"Brianna Ste-Marie\",\"Amy Campo\",\"Ffion Davies\",\"Rafaela Guedes\",\"Bianca Basilio\",\"Gabrielle Garcia\",\"Mackenzie Dern\",\"Kendall Reusing\",\"Beatriz Mesquita\",\"Bianca Mesquita\",\"Jessica Oliveira\",\"Ana Carolina Vieira\",\"E. Karpinen\",\"Elisabeth Clay\",\"Eleftheria Christodoulou\",\"Talita Alencar\",\"Penny Thomas\",\"Amanda Alequin / Santana\",\"Michelle Nicolini\",\"E. Karppinen\",\"Elvira Karpinnen\",\"Julia Maele\",\"Elvira Karppinen\",\"Hannette Staack\",\"Yurika Nakakura\",\"Tammy Griego\",\"Fernanda Mazelli\",\"Alison Tremblay\",\"Amanda Santana\",\"Talita Treta\",\"Stefanie Egger\",\"Ana Carolina\",\"Carina Santi\",\"Kethe Engen\",\"Bia Mesquita\",\"Rikako Yuasa\",\"Giovanna Jara\",\"Hanette Staack\",\"Jessica Flowers\",\"Adele Fornarino\",\"Livia Giles\",\"Amanda Leve\",\"Mayssa Bastos\"],\"legendgroup\":\"1\",\"marker\":{\"color\":\"#EF553B\",\"symbol\":\"circle\"},\"mode\":\"markers\",\"name\":\"Female\",\"orientation\":\"v\",\"showlegend\":true,\"x\":[3.333333333333333,0.0,-0.5,0.6666666666666666,-0.3333333333333333,-0.625,1.5,-1.0,1.0,0.0,0.0,0.0,0.0,0.0,0.0,0.0,0.0,0.0,0.0,0.0,0.0,0.0,0.0,0.0,0.0,0.0,0.0,0.0,0.0,0.0,0.0,0.0,0.0,0.0,0.0,0.0,0.0,0.0,0.0,0.0,0.0,0.0,0.0],\"xaxis\":\"x\",\"y\":[2.333333333333333,0.0,4.166666666666667,1.3333333333333333,-0.5555555555555556,-0.375,1.0,-1.0,0.25,0.0,0.0,0.0,0.0,0.0,0.0,0.0,0.0,0.0,0.0,0.0,0.0,0.0,0.0,0.0,0.0,0.0,0.0,0.0,0.0,0.0,0.0,0.0,0.0,0.0,0.0,0.0,0.0,0.0,0.0,0.0,0.0,0.0,0.0],\"yaxis\":\"y\",\"type\":\"scatter\"}],                        {\"template\":{\"data\":{\"histogram2dcontour\":[{\"type\":\"histogram2dcontour\",\"colorbar\":{\"outlinewidth\":0,\"ticks\":\"\"},\"colorscale\":[[0.0,\"#0d0887\"],[0.1111111111111111,\"#46039f\"],[0.2222222222222222,\"#7201a8\"],[0.3333333333333333,\"#9c179e\"],[0.4444444444444444,\"#bd3786\"],[0.5555555555555556,\"#d8576b\"],[0.6666666666666666,\"#ed7953\"],[0.7777777777777778,\"#fb9f3a\"],[0.8888888888888888,\"#fdca26\"],[1.0,\"#f0f921\"]]}],\"choropleth\":[{\"type\":\"choropleth\",\"colorbar\":{\"outlinewidth\":0,\"ticks\":\"\"}}],\"histogram2d\":[{\"type\":\"histogram2d\",\"colorbar\":{\"outlinewidth\":0,\"ticks\":\"\"},\"colorscale\":[[0.0,\"#0d0887\"],[0.1111111111111111,\"#46039f\"],[0.2222222222222222,\"#7201a8\"],[0.3333333333333333,\"#9c179e\"],[0.4444444444444444,\"#bd3786\"],[0.5555555555555556,\"#d8576b\"],[0.6666666666666666,\"#ed7953\"],[0.7777777777777778,\"#fb9f3a\"],[0.8888888888888888,\"#fdca26\"],[1.0,\"#f0f921\"]]}],\"heatmap\":[{\"type\":\"heatmap\",\"colorbar\":{\"outlinewidth\":0,\"ticks\":\"\"},\"colorscale\":[[0.0,\"#0d0887\"],[0.1111111111111111,\"#46039f\"],[0.2222222222222222,\"#7201a8\"],[0.3333333333333333,\"#9c179e\"],[0.4444444444444444,\"#bd3786\"],[0.5555555555555556,\"#d8576b\"],[0.6666666666666666,\"#ed7953\"],[0.7777777777777778,\"#fb9f3a\"],[0.8888888888888888,\"#fdca26\"],[1.0,\"#f0f921\"]]}],\"heatmapgl\":[{\"type\":\"heatmapgl\",\"colorbar\":{\"outlinewidth\":0,\"ticks\":\"\"},\"colorscale\":[[0.0,\"#0d0887\"],[0.1111111111111111,\"#46039f\"],[0.2222222222222222,\"#7201a8\"],[0.3333333333333333,\"#9c179e\"],[0.4444444444444444,\"#bd3786\"],[0.5555555555555556,\"#d8576b\"],[0.6666666666666666,\"#ed7953\"],[0.7777777777777778,\"#fb9f3a\"],[0.8888888888888888,\"#fdca26\"],[1.0,\"#f0f921\"]]}],\"contourcarpet\":[{\"type\":\"contourcarpet\",\"colorbar\":{\"outlinewidth\":0,\"ticks\":\"\"}}],\"contour\":[{\"type\":\"contour\",\"colorbar\":{\"outlinewidth\":0,\"ticks\":\"\"},\"colorscale\":[[0.0,\"#0d0887\"],[0.1111111111111111,\"#46039f\"],[0.2222222222222222,\"#7201a8\"],[0.3333333333333333,\"#9c179e\"],[0.4444444444444444,\"#bd3786\"],[0.5555555555555556,\"#d8576b\"],[0.6666666666666666,\"#ed7953\"],[0.7777777777777778,\"#fb9f3a\"],[0.8888888888888888,\"#fdca26\"],[1.0,\"#f0f921\"]]}],\"surface\":[{\"type\":\"surface\",\"colorbar\":{\"outlinewidth\":0,\"ticks\":\"\"},\"colorscale\":[[0.0,\"#0d0887\"],[0.1111111111111111,\"#46039f\"],[0.2222222222222222,\"#7201a8\"],[0.3333333333333333,\"#9c179e\"],[0.4444444444444444,\"#bd3786\"],[0.5555555555555556,\"#d8576b\"],[0.6666666666666666,\"#ed7953\"],[0.7777777777777778,\"#fb9f3a\"],[0.8888888888888888,\"#fdca26\"],[1.0,\"#f0f921\"]]}],\"mesh3d\":[{\"type\":\"mesh3d\",\"colorbar\":{\"outlinewidth\":0,\"ticks\":\"\"}}],\"scatter\":[{\"fillpattern\":{\"fillmode\":\"overlay\",\"size\":10,\"solidity\":0.2},\"type\":\"scatter\"}],\"parcoords\":[{\"type\":\"parcoords\",\"line\":{\"colorbar\":{\"outlinewidth\":0,\"ticks\":\"\"}}}],\"scatterpolargl\":[{\"type\":\"scatterpolargl\",\"marker\":{\"colorbar\":{\"outlinewidth\":0,\"ticks\":\"\"}}}],\"bar\":[{\"error_x\":{\"color\":\"#2a3f5f\"},\"error_y\":{\"color\":\"#2a3f5f\"},\"marker\":{\"line\":{\"color\":\"#E5ECF6\",\"width\":0.5},\"pattern\":{\"fillmode\":\"overlay\",\"size\":10,\"solidity\":0.2}},\"type\":\"bar\"}],\"scattergeo\":[{\"type\":\"scattergeo\",\"marker\":{\"colorbar\":{\"outlinewidth\":0,\"ticks\":\"\"}}}],\"scatterpolar\":[{\"type\":\"scatterpolar\",\"marker\":{\"colorbar\":{\"outlinewidth\":0,\"ticks\":\"\"}}}],\"histogram\":[{\"marker\":{\"pattern\":{\"fillmode\":\"overlay\",\"size\":10,\"solidity\":0.2}},\"type\":\"histogram\"}],\"scattergl\":[{\"type\":\"scattergl\",\"marker\":{\"colorbar\":{\"outlinewidth\":0,\"ticks\":\"\"}}}],\"scatter3d\":[{\"type\":\"scatter3d\",\"line\":{\"colorbar\":{\"outlinewidth\":0,\"ticks\":\"\"}},\"marker\":{\"colorbar\":{\"outlinewidth\":0,\"ticks\":\"\"}}}],\"scattermapbox\":[{\"type\":\"scattermapbox\",\"marker\":{\"colorbar\":{\"outlinewidth\":0,\"ticks\":\"\"}}}],\"scatterternary\":[{\"type\":\"scatterternary\",\"marker\":{\"colorbar\":{\"outlinewidth\":0,\"ticks\":\"\"}}}],\"scattercarpet\":[{\"type\":\"scattercarpet\",\"marker\":{\"colorbar\":{\"outlinewidth\":0,\"ticks\":\"\"}}}],\"carpet\":[{\"aaxis\":{\"endlinecolor\":\"#2a3f5f\",\"gridcolor\":\"white\",\"linecolor\":\"white\",\"minorgridcolor\":\"white\",\"startlinecolor\":\"#2a3f5f\"},\"baxis\":{\"endlinecolor\":\"#2a3f5f\",\"gridcolor\":\"white\",\"linecolor\":\"white\",\"minorgridcolor\":\"white\",\"startlinecolor\":\"#2a3f5f\"},\"type\":\"carpet\"}],\"table\":[{\"cells\":{\"fill\":{\"color\":\"#EBF0F8\"},\"line\":{\"color\":\"white\"}},\"header\":{\"fill\":{\"color\":\"#C8D4E3\"},\"line\":{\"color\":\"white\"}},\"type\":\"table\"}],\"barpolar\":[{\"marker\":{\"line\":{\"color\":\"#E5ECF6\",\"width\":0.5},\"pattern\":{\"fillmode\":\"overlay\",\"size\":10,\"solidity\":0.2}},\"type\":\"barpolar\"}],\"pie\":[{\"automargin\":true,\"type\":\"pie\"}]},\"layout\":{\"autotypenumbers\":\"strict\",\"colorway\":[\"#636efa\",\"#EF553B\",\"#00cc96\",\"#ab63fa\",\"#FFA15A\",\"#19d3f3\",\"#FF6692\",\"#B6E880\",\"#FF97FF\",\"#FECB52\"],\"font\":{\"color\":\"#2a3f5f\"},\"hovermode\":\"closest\",\"hoverlabel\":{\"align\":\"left\"},\"paper_bgcolor\":\"white\",\"plot_bgcolor\":\"#E5ECF6\",\"polar\":{\"bgcolor\":\"#E5ECF6\",\"angularaxis\":{\"gridcolor\":\"white\",\"linecolor\":\"white\",\"ticks\":\"\"},\"radialaxis\":{\"gridcolor\":\"white\",\"linecolor\":\"white\",\"ticks\":\"\"}},\"ternary\":{\"bgcolor\":\"#E5ECF6\",\"aaxis\":{\"gridcolor\":\"white\",\"linecolor\":\"white\",\"ticks\":\"\"},\"baxis\":{\"gridcolor\":\"white\",\"linecolor\":\"white\",\"ticks\":\"\"},\"caxis\":{\"gridcolor\":\"white\",\"linecolor\":\"white\",\"ticks\":\"\"}},\"coloraxis\":{\"colorbar\":{\"outlinewidth\":0,\"ticks\":\"\"}},\"colorscale\":{\"sequential\":[[0.0,\"#0d0887\"],[0.1111111111111111,\"#46039f\"],[0.2222222222222222,\"#7201a8\"],[0.3333333333333333,\"#9c179e\"],[0.4444444444444444,\"#bd3786\"],[0.5555555555555556,\"#d8576b\"],[0.6666666666666666,\"#ed7953\"],[0.7777777777777778,\"#fb9f3a\"],[0.8888888888888888,\"#fdca26\"],[1.0,\"#f0f921\"]],\"sequentialminus\":[[0.0,\"#0d0887\"],[0.1111111111111111,\"#46039f\"],[0.2222222222222222,\"#7201a8\"],[0.3333333333333333,\"#9c179e\"],[0.4444444444444444,\"#bd3786\"],[0.5555555555555556,\"#d8576b\"],[0.6666666666666666,\"#ed7953\"],[0.7777777777777778,\"#fb9f3a\"],[0.8888888888888888,\"#fdca26\"],[1.0,\"#f0f921\"]],\"diverging\":[[0,\"#8e0152\"],[0.1,\"#c51b7d\"],[0.2,\"#de77ae\"],[0.3,\"#f1b6da\"],[0.4,\"#fde0ef\"],[0.5,\"#f7f7f7\"],[0.6,\"#e6f5d0\"],[0.7,\"#b8e186\"],[0.8,\"#7fbc41\"],[0.9,\"#4d9221\"],[1,\"#276419\"]]},\"xaxis\":{\"gridcolor\":\"white\",\"linecolor\":\"white\",\"ticks\":\"\",\"title\":{\"standoff\":15},\"zerolinecolor\":\"white\",\"automargin\":true,\"zerolinewidth\":2},\"yaxis\":{\"gridcolor\":\"white\",\"linecolor\":\"white\",\"ticks\":\"\",\"title\":{\"standoff\":15},\"zerolinecolor\":\"white\",\"automargin\":true,\"zerolinewidth\":2},\"scene\":{\"xaxis\":{\"backgroundcolor\":\"#E5ECF6\",\"gridcolor\":\"white\",\"linecolor\":\"white\",\"showbackground\":true,\"ticks\":\"\",\"zerolinecolor\":\"white\",\"gridwidth\":2},\"yaxis\":{\"backgroundcolor\":\"#E5ECF6\",\"gridcolor\":\"white\",\"linecolor\":\"white\",\"showbackground\":true,\"ticks\":\"\",\"zerolinecolor\":\"white\",\"gridwidth\":2},\"zaxis\":{\"backgroundcolor\":\"#E5ECF6\",\"gridcolor\":\"white\",\"linecolor\":\"white\",\"showbackground\":true,\"ticks\":\"\",\"zerolinecolor\":\"white\",\"gridwidth\":2}},\"shapedefaults\":{\"line\":{\"color\":\"#2a3f5f\"}},\"annotationdefaults\":{\"arrowcolor\":\"#2a3f5f\",\"arrowhead\":0,\"arrowwidth\":1},\"geo\":{\"bgcolor\":\"white\",\"landcolor\":\"#E5ECF6\",\"subunitcolor\":\"white\",\"showland\":true,\"showlakes\":true,\"lakecolor\":\"white\"},\"title\":{\"x\":0.05},\"mapbox\":{\"style\":\"light\"}}},\"xaxis\":{\"anchor\":\"y\",\"domain\":[0.0,1.0],\"title\":{\"text\":\"Average points conceded per fight\"}},\"yaxis\":{\"anchor\":\"x\",\"domain\":[0.0,1.0],\"title\":{\"text\":\"Average points scored per fight\"}},\"legend\":{\"title\":{\"text\":\"Sex\"},\"tracegroupgap\":0},\"margin\":{\"t\":60},\"title\":{\"text\":\"Average points Scored Vs. Average points Conceded\",\"y\":0.95,\"x\":0.5,\"xanchor\":\"center\",\"yanchor\":\"top\"}},                        {\"responsive\": true}                    ).then(function(){\n",
       "                            \n",
       "var gd = document.getElementById('e483c17f-8647-484a-98f0-15d251fe3152');\n",
       "var x = new MutationObserver(function (mutations, observer) {{\n",
       "        var display = window.getComputedStyle(gd).display;\n",
       "        if (!display || display === 'none') {{\n",
       "            console.log([gd, 'removed!']);\n",
       "            Plotly.purge(gd);\n",
       "            observer.disconnect();\n",
       "        }}\n",
       "}});\n",
       "\n",
       "// Listen for the removal of the full notebook cells\n",
       "var notebookContainer = gd.closest('#notebook-container');\n",
       "if (notebookContainer) {{\n",
       "    x.observe(notebookContainer, {childList: true});\n",
       "}}\n",
       "\n",
       "// Listen for the clearing of the current output cell\n",
       "var outputEl = gd.closest('.output');\n",
       "if (outputEl) {{\n",
       "    x.observe(outputEl, {childList: true});\n",
       "}}\n",
       "\n",
       "                        })                };                });            </script>        </div>"
      ]
     },
     "metadata": {},
     "output_type": "display_data"
    }
   ],
   "source": [
    "# Plots the distribution between averages for points conceded and points scored by fighters\n",
    "\n",
    "# Generates the chart object by instanciating a plotly express histogram \n",
    "fig = px.scatter(df, x='suffered_points_per_fight', y='scored_points_per_fight', hover_name=\"name\",\n",
    "                color=df['female'].astype(str), labels={'color': 'Sex'})\n",
    "\n",
    "\n",
    "fig.update_layout(\n",
    "    title={\n",
    "        'text': \"Average points Scored Vs. Average points Conceded\",\n",
    "        'y':0.95,\n",
    "        'x':0.5,\n",
    "        'xanchor': 'center',\n",
    "        'yanchor': 'top'\n",
    "    },\n",
    "    xaxis_title=\"Average points conceded per fight\", yaxis_title=\"Average points scored per fight\"\n",
    "\n",
    ")\n",
    "\n",
    "# Renames the legend labels for understandability\n",
    "newnames = {'0':'Male', '1': 'Female'}\n",
    "fig.for_each_trace(lambda t: t.update(name = newnames[t.name]))\n",
    "\n",
    "\n",
    "fig.show()"
   ]
  },
  {
   "cell_type": "markdown",
   "id": "a0987938",
   "metadata": {
    "papermill": {
     "duration": 0.024167,
     "end_time": "2023-06-16T16:32:41.221448",
     "exception": false,
     "start_time": "2023-06-16T16:32:41.197281",
     "status": "completed"
    },
    "tags": []
   },
   "source": [
    "Paulo Miyao, Royler Gracie and Ffion Davies stand out with great points differential (their total of points / their oponents')"
   ]
  },
  {
   "cell_type": "markdown",
   "id": "b9a8961e",
   "metadata": {
    "papermill": {
     "duration": 0.024105,
     "end_time": "2023-06-16T16:32:41.270447",
     "exception": false,
     "start_time": "2023-06-16T16:32:41.246342",
     "status": "completed"
    },
    "tags": []
   },
   "source": [
    "### Is weight class related to the target body part of successful submissions?"
   ]
  },
  {
   "cell_type": "code",
   "execution_count": 14,
   "id": "47b9114e",
   "metadata": {
    "_kg_hide-input": true,
    "execution": {
     "iopub.execute_input": "2023-06-16T16:32:41.321666Z",
     "iopub.status.busy": "2023-06-16T16:32:41.321277Z",
     "iopub.status.idle": "2023-06-16T16:32:41.414356Z",
     "shell.execute_reply": "2023-06-16T16:32:41.413548Z"
    },
    "papermill": {
     "duration": 0.12108,
     "end_time": "2023-06-16T16:32:41.416482",
     "exception": false,
     "start_time": "2023-06-16T16:32:41.295402",
     "status": "completed"
    },
    "tags": []
   },
   "outputs": [
    {
     "data": {
      "text/html": [
       "<div>                            <div id=\"63b445d8-81f8-4bd3-8550-4d727ffba54e\" class=\"plotly-graph-div\" style=\"height:600px; width:900px;\"></div>            <script type=\"text/javascript\">                require([\"plotly\"], function(Plotly) {                    window.PLOTLYENV=window.PLOTLYENV || {};                                    if (document.getElementById(\"63b445d8-81f8-4bd3-8550-4d727ffba54e\")) {                    Plotly.newPlot(                        \"63b445d8-81f8-4bd3-8550-4d727ffba54e\",                        [{\"alignmentgroup\":\"True\",\"bingroup\":\"x\",\"histfunc\":\"sum\",\"hovertemplate\":\"most_vulnerable=Arm<br>main_weight_class=%{x}<br>sum of proportion=%{y}<extra></extra>\",\"legendgroup\":\"Arm\",\"marker\":{\"color\":\"#636efa\",\"pattern\":{\"shape\":\"\"}},\"name\":\"Arm\",\"offsetgroup\":\"Arm\",\"orientation\":\"v\",\"showlegend\":true,\"x\":[0.0,1.0,2.0,3.0,4.0],\"xaxis\":\"x\",\"y\":[0.1,0.09230769230769231,0.09166666666666666,0.10679611650485436,0.16071428571428573],\"yaxis\":\"y\",\"type\":\"histogram\"},{\"alignmentgroup\":\"True\",\"bingroup\":\"x\",\"histfunc\":\"sum\",\"hovertemplate\":\"most_vulnerable=Leg<br>main_weight_class=%{x}<br>sum of proportion=%{y}<extra></extra>\",\"legendgroup\":\"Leg\",\"marker\":{\"color\":\"#EF553B\",\"pattern\":{\"shape\":\"\"}},\"name\":\"Leg\",\"offsetgroup\":\"Leg\",\"orientation\":\"v\",\"showlegend\":true,\"x\":[0.0,1.0,2.0,3.0,4.0],\"xaxis\":\"x\",\"y\":[0.08333333333333333,0.09230769230769231,0.1,0.14563106796116504,0.14285714285714285],\"yaxis\":\"y\",\"type\":\"histogram\"},{\"alignmentgroup\":\"True\",\"bingroup\":\"x\",\"histfunc\":\"sum\",\"hovertemplate\":\"most_vulnerable=Neck<br>main_weight_class=%{x}<br>sum of proportion=%{y}<extra></extra>\",\"legendgroup\":\"Neck\",\"marker\":{\"color\":\"#00cc96\",\"pattern\":{\"shape\":\"\"}},\"name\":\"Neck\",\"offsetgroup\":\"Neck\",\"orientation\":\"v\",\"showlegend\":true,\"x\":[0.0,1.0,2.0,3.0,4.0],\"xaxis\":\"x\",\"y\":[0.325,0.34615384615384615,0.26666666666666666,0.24271844660194175,0.16071428571428573],\"yaxis\":\"y\",\"type\":\"histogram\"},{\"alignmentgroup\":\"True\",\"bingroup\":\"x\",\"histfunc\":\"sum\",\"hovertemplate\":\"most_vulnerable=Other/Unknown<br>main_weight_class=%{x}<br>sum of proportion=%{y}<extra></extra>\",\"legendgroup\":\"Other/Unknown\",\"marker\":{\"color\":\"#ab63fa\",\"pattern\":{\"shape\":\"\"}},\"name\":\"Other/Unknown\",\"offsetgroup\":\"Other/Unknown\",\"orientation\":\"v\",\"showlegend\":true,\"x\":[0.0,1.0,2.0,3.0,4.0],\"xaxis\":\"x\",\"y\":[0.016666666666666666,0.038461538461538464,0.008333333333333333,0.02912621359223301,0.0625],\"yaxis\":\"y\",\"type\":\"histogram\"}],                        {\"template\":{\"data\":{\"histogram2dcontour\":[{\"type\":\"histogram2dcontour\",\"colorbar\":{\"outlinewidth\":0,\"ticks\":\"\"},\"colorscale\":[[0.0,\"#0d0887\"],[0.1111111111111111,\"#46039f\"],[0.2222222222222222,\"#7201a8\"],[0.3333333333333333,\"#9c179e\"],[0.4444444444444444,\"#bd3786\"],[0.5555555555555556,\"#d8576b\"],[0.6666666666666666,\"#ed7953\"],[0.7777777777777778,\"#fb9f3a\"],[0.8888888888888888,\"#fdca26\"],[1.0,\"#f0f921\"]]}],\"choropleth\":[{\"type\":\"choropleth\",\"colorbar\":{\"outlinewidth\":0,\"ticks\":\"\"}}],\"histogram2d\":[{\"type\":\"histogram2d\",\"colorbar\":{\"outlinewidth\":0,\"ticks\":\"\"},\"colorscale\":[[0.0,\"#0d0887\"],[0.1111111111111111,\"#46039f\"],[0.2222222222222222,\"#7201a8\"],[0.3333333333333333,\"#9c179e\"],[0.4444444444444444,\"#bd3786\"],[0.5555555555555556,\"#d8576b\"],[0.6666666666666666,\"#ed7953\"],[0.7777777777777778,\"#fb9f3a\"],[0.8888888888888888,\"#fdca26\"],[1.0,\"#f0f921\"]]}],\"heatmap\":[{\"type\":\"heatmap\",\"colorbar\":{\"outlinewidth\":0,\"ticks\":\"\"},\"colorscale\":[[0.0,\"#0d0887\"],[0.1111111111111111,\"#46039f\"],[0.2222222222222222,\"#7201a8\"],[0.3333333333333333,\"#9c179e\"],[0.4444444444444444,\"#bd3786\"],[0.5555555555555556,\"#d8576b\"],[0.6666666666666666,\"#ed7953\"],[0.7777777777777778,\"#fb9f3a\"],[0.8888888888888888,\"#fdca26\"],[1.0,\"#f0f921\"]]}],\"heatmapgl\":[{\"type\":\"heatmapgl\",\"colorbar\":{\"outlinewidth\":0,\"ticks\":\"\"},\"colorscale\":[[0.0,\"#0d0887\"],[0.1111111111111111,\"#46039f\"],[0.2222222222222222,\"#7201a8\"],[0.3333333333333333,\"#9c179e\"],[0.4444444444444444,\"#bd3786\"],[0.5555555555555556,\"#d8576b\"],[0.6666666666666666,\"#ed7953\"],[0.7777777777777778,\"#fb9f3a\"],[0.8888888888888888,\"#fdca26\"],[1.0,\"#f0f921\"]]}],\"contourcarpet\":[{\"type\":\"contourcarpet\",\"colorbar\":{\"outlinewidth\":0,\"ticks\":\"\"}}],\"contour\":[{\"type\":\"contour\",\"colorbar\":{\"outlinewidth\":0,\"ticks\":\"\"},\"colorscale\":[[0.0,\"#0d0887\"],[0.1111111111111111,\"#46039f\"],[0.2222222222222222,\"#7201a8\"],[0.3333333333333333,\"#9c179e\"],[0.4444444444444444,\"#bd3786\"],[0.5555555555555556,\"#d8576b\"],[0.6666666666666666,\"#ed7953\"],[0.7777777777777778,\"#fb9f3a\"],[0.8888888888888888,\"#fdca26\"],[1.0,\"#f0f921\"]]}],\"surface\":[{\"type\":\"surface\",\"colorbar\":{\"outlinewidth\":0,\"ticks\":\"\"},\"colorscale\":[[0.0,\"#0d0887\"],[0.1111111111111111,\"#46039f\"],[0.2222222222222222,\"#7201a8\"],[0.3333333333333333,\"#9c179e\"],[0.4444444444444444,\"#bd3786\"],[0.5555555555555556,\"#d8576b\"],[0.6666666666666666,\"#ed7953\"],[0.7777777777777778,\"#fb9f3a\"],[0.8888888888888888,\"#fdca26\"],[1.0,\"#f0f921\"]]}],\"mesh3d\":[{\"type\":\"mesh3d\",\"colorbar\":{\"outlinewidth\":0,\"ticks\":\"\"}}],\"scatter\":[{\"fillpattern\":{\"fillmode\":\"overlay\",\"size\":10,\"solidity\":0.2},\"type\":\"scatter\"}],\"parcoords\":[{\"type\":\"parcoords\",\"line\":{\"colorbar\":{\"outlinewidth\":0,\"ticks\":\"\"}}}],\"scatterpolargl\":[{\"type\":\"scatterpolargl\",\"marker\":{\"colorbar\":{\"outlinewidth\":0,\"ticks\":\"\"}}}],\"bar\":[{\"error_x\":{\"color\":\"#2a3f5f\"},\"error_y\":{\"color\":\"#2a3f5f\"},\"marker\":{\"line\":{\"color\":\"#E5ECF6\",\"width\":0.5},\"pattern\":{\"fillmode\":\"overlay\",\"size\":10,\"solidity\":0.2}},\"type\":\"bar\"}],\"scattergeo\":[{\"type\":\"scattergeo\",\"marker\":{\"colorbar\":{\"outlinewidth\":0,\"ticks\":\"\"}}}],\"scatterpolar\":[{\"type\":\"scatterpolar\",\"marker\":{\"colorbar\":{\"outlinewidth\":0,\"ticks\":\"\"}}}],\"histogram\":[{\"marker\":{\"pattern\":{\"fillmode\":\"overlay\",\"size\":10,\"solidity\":0.2}},\"type\":\"histogram\"}],\"scattergl\":[{\"type\":\"scattergl\",\"marker\":{\"colorbar\":{\"outlinewidth\":0,\"ticks\":\"\"}}}],\"scatter3d\":[{\"type\":\"scatter3d\",\"line\":{\"colorbar\":{\"outlinewidth\":0,\"ticks\":\"\"}},\"marker\":{\"colorbar\":{\"outlinewidth\":0,\"ticks\":\"\"}}}],\"scattermapbox\":[{\"type\":\"scattermapbox\",\"marker\":{\"colorbar\":{\"outlinewidth\":0,\"ticks\":\"\"}}}],\"scatterternary\":[{\"type\":\"scatterternary\",\"marker\":{\"colorbar\":{\"outlinewidth\":0,\"ticks\":\"\"}}}],\"scattercarpet\":[{\"type\":\"scattercarpet\",\"marker\":{\"colorbar\":{\"outlinewidth\":0,\"ticks\":\"\"}}}],\"carpet\":[{\"aaxis\":{\"endlinecolor\":\"#2a3f5f\",\"gridcolor\":\"white\",\"linecolor\":\"white\",\"minorgridcolor\":\"white\",\"startlinecolor\":\"#2a3f5f\"},\"baxis\":{\"endlinecolor\":\"#2a3f5f\",\"gridcolor\":\"white\",\"linecolor\":\"white\",\"minorgridcolor\":\"white\",\"startlinecolor\":\"#2a3f5f\"},\"type\":\"carpet\"}],\"table\":[{\"cells\":{\"fill\":{\"color\":\"#EBF0F8\"},\"line\":{\"color\":\"white\"}},\"header\":{\"fill\":{\"color\":\"#C8D4E3\"},\"line\":{\"color\":\"white\"}},\"type\":\"table\"}],\"barpolar\":[{\"marker\":{\"line\":{\"color\":\"#E5ECF6\",\"width\":0.5},\"pattern\":{\"fillmode\":\"overlay\",\"size\":10,\"solidity\":0.2}},\"type\":\"barpolar\"}],\"pie\":[{\"automargin\":true,\"type\":\"pie\"}]},\"layout\":{\"autotypenumbers\":\"strict\",\"colorway\":[\"#636efa\",\"#EF553B\",\"#00cc96\",\"#ab63fa\",\"#FFA15A\",\"#19d3f3\",\"#FF6692\",\"#B6E880\",\"#FF97FF\",\"#FECB52\"],\"font\":{\"color\":\"#2a3f5f\"},\"hovermode\":\"closest\",\"hoverlabel\":{\"align\":\"left\"},\"paper_bgcolor\":\"white\",\"plot_bgcolor\":\"#E5ECF6\",\"polar\":{\"bgcolor\":\"#E5ECF6\",\"angularaxis\":{\"gridcolor\":\"white\",\"linecolor\":\"white\",\"ticks\":\"\"},\"radialaxis\":{\"gridcolor\":\"white\",\"linecolor\":\"white\",\"ticks\":\"\"}},\"ternary\":{\"bgcolor\":\"#E5ECF6\",\"aaxis\":{\"gridcolor\":\"white\",\"linecolor\":\"white\",\"ticks\":\"\"},\"baxis\":{\"gridcolor\":\"white\",\"linecolor\":\"white\",\"ticks\":\"\"},\"caxis\":{\"gridcolor\":\"white\",\"linecolor\":\"white\",\"ticks\":\"\"}},\"coloraxis\":{\"colorbar\":{\"outlinewidth\":0,\"ticks\":\"\"}},\"colorscale\":{\"sequential\":[[0.0,\"#0d0887\"],[0.1111111111111111,\"#46039f\"],[0.2222222222222222,\"#7201a8\"],[0.3333333333333333,\"#9c179e\"],[0.4444444444444444,\"#bd3786\"],[0.5555555555555556,\"#d8576b\"],[0.6666666666666666,\"#ed7953\"],[0.7777777777777778,\"#fb9f3a\"],[0.8888888888888888,\"#fdca26\"],[1.0,\"#f0f921\"]],\"sequentialminus\":[[0.0,\"#0d0887\"],[0.1111111111111111,\"#46039f\"],[0.2222222222222222,\"#7201a8\"],[0.3333333333333333,\"#9c179e\"],[0.4444444444444444,\"#bd3786\"],[0.5555555555555556,\"#d8576b\"],[0.6666666666666666,\"#ed7953\"],[0.7777777777777778,\"#fb9f3a\"],[0.8888888888888888,\"#fdca26\"],[1.0,\"#f0f921\"]],\"diverging\":[[0,\"#8e0152\"],[0.1,\"#c51b7d\"],[0.2,\"#de77ae\"],[0.3,\"#f1b6da\"],[0.4,\"#fde0ef\"],[0.5,\"#f7f7f7\"],[0.6,\"#e6f5d0\"],[0.7,\"#b8e186\"],[0.8,\"#7fbc41\"],[0.9,\"#4d9221\"],[1,\"#276419\"]]},\"xaxis\":{\"gridcolor\":\"white\",\"linecolor\":\"white\",\"ticks\":\"\",\"title\":{\"standoff\":15},\"zerolinecolor\":\"white\",\"automargin\":true,\"zerolinewidth\":2},\"yaxis\":{\"gridcolor\":\"white\",\"linecolor\":\"white\",\"ticks\":\"\",\"title\":{\"standoff\":15},\"zerolinecolor\":\"white\",\"automargin\":true,\"zerolinewidth\":2},\"scene\":{\"xaxis\":{\"backgroundcolor\":\"#E5ECF6\",\"gridcolor\":\"white\",\"linecolor\":\"white\",\"showbackground\":true,\"ticks\":\"\",\"zerolinecolor\":\"white\",\"gridwidth\":2},\"yaxis\":{\"backgroundcolor\":\"#E5ECF6\",\"gridcolor\":\"white\",\"linecolor\":\"white\",\"showbackground\":true,\"ticks\":\"\",\"zerolinecolor\":\"white\",\"gridwidth\":2},\"zaxis\":{\"backgroundcolor\":\"#E5ECF6\",\"gridcolor\":\"white\",\"linecolor\":\"white\",\"showbackground\":true,\"ticks\":\"\",\"zerolinecolor\":\"white\",\"gridwidth\":2}},\"shapedefaults\":{\"line\":{\"color\":\"#2a3f5f\"}},\"annotationdefaults\":{\"arrowcolor\":\"#2a3f5f\",\"arrowhead\":0,\"arrowwidth\":1},\"geo\":{\"bgcolor\":\"white\",\"landcolor\":\"#E5ECF6\",\"subunitcolor\":\"white\",\"showland\":true,\"showlakes\":true,\"lakecolor\":\"white\"},\"title\":{\"x\":0.05},\"mapbox\":{\"style\":\"light\"}}},\"xaxis\":{\"anchor\":\"y\",\"domain\":[0.0,1.0],\"title\":{\"text\":\"Main Weight Class\"},\"ticktext\":[\"66kg (60kg for females)\",\"77kg\",\"88kg\",\"99kg\",\"+99kg (+60kg for females)\"],\"tickvals\":[\"0\",\"1\",\"2\",\"3\",\"4\"]},\"yaxis\":{\"anchor\":\"x\",\"domain\":[0.0,1.0],\"title\":{\"text\":\"Submission probability for body part\"}},\"legend\":{\"title\":{\"text\":\"Submission target\"},\"tracegroupgap\":0,\"x\":0.75,\"y\":0.99,\"bgcolor\":\"rgba(0, 0, 0, 0)\"},\"margin\":{\"t\":60},\"barmode\":\"group\",\"height\":600,\"width\":900,\"title\":{\"text\":\"Target body part of successful Submissions by Weight Class\",\"x\":0.47}},                        {\"responsive\": true}                    ).then(function(){\n",
       "                            \n",
       "var gd = document.getElementById('63b445d8-81f8-4bd3-8550-4d727ffba54e');\n",
       "var x = new MutationObserver(function (mutations, observer) {{\n",
       "        var display = window.getComputedStyle(gd).display;\n",
       "        if (!display || display === 'none') {{\n",
       "            console.log([gd, 'removed!']);\n",
       "            Plotly.purge(gd);\n",
       "            observer.disconnect();\n",
       "        }}\n",
       "}});\n",
       "\n",
       "// Listen for the removal of the full notebook cells\n",
       "var notebookContainer = gd.closest('#notebook-container');\n",
       "if (notebookContainer) {{\n",
       "    x.observe(notebookContainer, {childList: true});\n",
       "}}\n",
       "\n",
       "// Listen for the clearing of the current output cell\n",
       "var outputEl = gd.closest('.output');\n",
       "if (outputEl) {{\n",
       "    x.observe(outputEl, {childList: true});\n",
       "}}\n",
       "\n",
       "                        })                };                });            </script>        </div>"
      ]
     },
     "metadata": {},
     "output_type": "display_data"
    }
   ],
   "source": [
    "\n",
    "# Calculate the counts and proportions for each category in 'most_vulnerable_target' within each 'main_weight_class'\n",
    "df_grouped = df.groupby(['main_weight_class', 'most_vulnerable']).size().reset_index(name='count')\n",
    "df_grouped['proportion'] = df_grouped.groupby('main_weight_class')['count'].transform(lambda x: x / x.sum())\n",
    "df_grouped = df_grouped[df_grouped['most_vulnerable'] != 'No specific target']\n",
    "\n",
    "# Create a histogram chart using Plotly Express\n",
    "fig = px.histogram(df_grouped, x='main_weight_class', y='proportion',\n",
    "                   color='most_vulnerable', barmode='group',\n",
    "                  width=900, height=600, hover_name='most_vulnerable'\n",
    "                  )\n",
    "\n",
    "# Modify the tick names in the x-axis\n",
    "custom_labels = {\n",
    "'0':'66kg (60kg for females)',\n",
    "'1':'77kg',\n",
    "'2':'88kg',\n",
    "'3':'99kg',\n",
    "'4':'+99kg (+60kg for females)',\n",
    "}\n",
    "fig.update_xaxes(ticktext=list(custom_labels.values()), tickvals=list(custom_labels.keys()))\n",
    "\n",
    "\n",
    "\n",
    "# Update the layout of the chart\n",
    "fig.update_layout(title='Target body part of successful Submissions by Weight Class',\n",
    "                  xaxis_title='Main Weight Class',\n",
    "                  yaxis_title='Submission probability for body part',\n",
    "                  legend_title='Submission target',\n",
    "                 legend=dict(x=0.75, y=0.99,bgcolor='rgba(0, 0, 0, 0)')\n",
    "                 )\n",
    "\n",
    "fig.update_layout(title_x=0.47)\n",
    "\n",
    "fig.show()"
   ]
  },
  {
   "cell_type": "markdown",
   "id": "9aca8452",
   "metadata": {
    "papermill": {
     "duration": 0.025008,
     "end_time": "2023-06-16T16:32:41.466446",
     "exception": false,
     "start_time": "2023-06-16T16:32:41.441438",
     "status": "completed"
    },
    "tags": []
   },
   "source": [
    "The plot above shows that heavier athletes are less likely to submit oponents by using neck attacks. Despite having lower submission rates in general, these athletes tend to possess higher submission rates for legs and arms specifically."
   ]
  },
  {
   "cell_type": "markdown",
   "id": "8617b217",
   "metadata": {
    "papermill": {
     "duration": 0.024873,
     "end_time": "2023-06-16T16:32:41.516227",
     "exception": false,
     "start_time": "2023-06-16T16:32:41.491354",
     "status": "completed"
    },
    "tags": []
   },
   "source": [
    "### How are win rate and average match importance related?"
   ]
  },
  {
   "cell_type": "code",
   "execution_count": 15,
   "id": "61de2cea",
   "metadata": {
    "_kg_hide-input": true,
    "execution": {
     "iopub.execute_input": "2023-06-16T16:32:41.567700Z",
     "iopub.status.busy": "2023-06-16T16:32:41.567314Z",
     "iopub.status.idle": "2023-06-16T16:32:41.644480Z",
     "shell.execute_reply": "2023-06-16T16:32:41.643424Z"
    },
    "papermill": {
     "duration": 0.105818,
     "end_time": "2023-06-16T16:32:41.646936",
     "exception": false,
     "start_time": "2023-06-16T16:32:41.541118",
     "status": "completed"
    },
    "tags": []
   },
   "outputs": [
    {
     "data": {
      "text/html": [
       "<div>                            <div id=\"65147d63-023f-4821-ad54-a11446c4d7c0\" class=\"plotly-graph-div\" style=\"height:810px; width:900px;\"></div>            <script type=\"text/javascript\">                require([\"plotly\"], function(Plotly) {                    window.PLOTLYENV=window.PLOTLYENV || {};                                    if (document.getElementById(\"65147d63-023f-4821-ad54-a11446c4d7c0\")) {                    Plotly.newPlot(                        \"65147d63-023f-4821-ad54-a11446c4d7c0\",                        [{\"hovertemplate\":\"<b>%{hovertext}</b><br><br>Has title?=0<br>avg_match_importance=%{x}<br>win_ratio=%{y}<br>total_wins=%{marker.size}<extra></extra>\",\"hovertext\":[\"Murilo Santana\",\"Nicholas Meregali\",\"Nick Rodriguez\",\"Otavio Sousa\",\"Pablo Mantovani\",\"Paul Schreiner\",\"Paulo Miyao\",\"Rida Haisam\",\"Roberto Jimenez\",\"Robson Moura\",\"Rodrigo Medeiros\",\"Roosevelt Sousa\",\"Adam Wardzinski\",\"Celso Vinicius\",\"Bruno Frazatto\",\"Craig Jones\",\"Brianna Ste-Marie\",\"Dante Leon\",\"David Terrell\",\"Diego Oliveira\",\"Eddie Bravo\",\"DeAlonzio Jackson\",\"Gabriel Arges\",\"Gabriel Sousa\",\"Gary Tonon\",\"Gianni Grippo\",\"Gilbert Burns\",\"Justin Rader\",\"Keenan Cornelius\",\"Lucas Lepri\",\"Lucas Daniel Barbosa\",\"Matheus Gabriel Barros\",\"Renato Forasieppi Canuto\",\"Ryan Hall\",\"Tye Ruotolo\",\"Tim Spriggs\",\"Patrick Gaudio\",\"Geovanny Martinez\",\"Jared Dopp\",\"Mahamed Aly\",\"Mansher Khera\",\"Abdurakhman Bilarov\",\"AJ Agazarm\",\"Baret Yoshida\",\"Elder Cruz\",\"Fabricio Andrey\",\"Jackson Sousa\",\"James Puopolo\",\"Jake Shields\",\"Joao Miyao\",\"Joao Gabriel Rocha\",\"Jon Blank\",\"Josh Hinger\",\"Joshua Cisneros\",\"Kennedy Maciel\",\"Kyle Boehm\",\"Lachlan Giles\",\"Leonardo Santos\",\"Mason Fowler\",\"Matt Serra\",\"Micael Galvao\",\"Rafael Lovato Jr\",\"Rafaela Guedes\",\"Ricardo Almeida\",\"Ricardo Liborio\",\"Richard Alarcon\",\"Rousimar Palhares\",\"Sam McNally\",\"Sergio Moraes\",\"Tarsis Humpreys\",\"Vagner Rocha\",\"Victor Estima\",\"Victor Hugo\",\"Vinicius Ferreira\",\"Vitor Ribeiro\",\"Max Gimenis\",\"Jeff Glover\",\"Jeremy Skinner\",\"Marcelo Mafra\",\"Nicky Ryan\",\"Aaron Johnson\",\"Rigan Machado\",\"Antonio Braga Neto\",\"Lucas Leite\",\"Victor Honorio\",\"Dillon Danis\",\"Abraham Marte Messina\",\"Antonio Schembri\",\"Amaury Bitetti\",\"Eduardo Telles\",\"Ethan Crelinsten\",\"Jorge Patino\",\"Kendall Reusing\",\"Leonardo Nogueira\",\"Marcio Andre Barbosa Junior\",\"Pedro Marinho\",\"Ricardo Vieira\",\"Cassio Francis\",\"Marcio Corleta\",\"Rodrigo Cavaca\",\"Edward Cummings\",\"Roberto Magalhaes\",\"Gregor Gracie\",\"Flavio Almeida\",\"Beatriz Mesquita\",\"Gabriel Rollo\",\"Vitor Viana\",\"Glover Teixeira\",\"Jessica Oliveira\",\"Ruslam Chsiev\",\"Sean Alvarez\",\"Mark Robinson\",\"Vitor Belfort\",\"Gabriel Napao\",\"John Hansen\",\"A. Cacareco\",\"David Avellan\",\"Eoghan OFlannagan\",\"Ana Carolina Vieira\",\"Garth Taylor\",\"Kareem Barkalev\",\"Sasha Palvski\",\"Kamil Uminski\",\"Rolles Gracie\",\"Eoghan Oflanagan\",\"Egan Inoue\",\"Murilo Bustamante\",\"Rustam Chsiev\",\"Matt Hughes\",\"Sasha Savko\",\"Olav Einemo\",\"Tito Ortiz\",\"Kyle Griffin\",\"Mike Fowler\",\"Mateusz Szczecinski\",\"Nicolas Renier\",\"Oskar Piechota\",\"E. Karpinen\",\"Kuba Witkowski\",\"Gunnar Nelson\",\"Hayato Sakurai\",\"Henrique Cardoso\",\"Andy Varela\",\"Thomas Halpin\",\"Tommy Langaker\",\"Michael Perez\",\"Enrico Cocco\",\"Edwin Najmi\",\"Gabriel Lucas\",\"Jonathan Satava\",\"Keith Krikorian\",\"Leonardo Saggioro\",\"John Combs\",\"Alec Baulding\",\"Ruan Alvarenga\",\"Isaque Bahiense\",\"Gabriel Marangoni\",\"Clark Gracie\",\"Perttu Tepponen\",\"Santeri Lilius\",\"Oliver Taza\",\"Alexandre Vieira\",\"Sergio Ardila-Ibarra\",\"John Salter\",\"Elisabeth Clay\",\"Cole Abate\",\"Alexander Trans\",\"Roberto Alencar\",\"Paul Ardila-Ibarra\",\"Gabriel Almeida\",\"Ross Nicholls\",\"Eldar Rafigaev\",\"Devhonte Johnson\",\"Valdir Araujo Junior\",\"Alexandre Jesus\",\"Eleftheria Christodoulou\",\"Ashley Williams\",\"Yuta Shimada\",\"Kit Dale\",\"Felipe Cesar\",\"Shane Hill-Taylor\",\"Leandro Lo\",\"Joao Costa\",\"Servio Tulio\",\"James Brasco\",\"Jose Mario Queiroga\",\"Gerardi Rinaldi\",\"Antonio Peinado\",\"Shinya Aoki\",\"Christian Moriarty\",\"Ryan Gracie\",\"Talita Alencar\",\"Mark Ramos\",\"Gustavo Dantas\",\"Augusto Ferrari\",\"Radoslaw Turek\",\"Penny Thomas\",\"Amanda Alequin / Santana\",\"Michelle Nicolini\",\"Carlos Machado\",\"Fellipe Andrew\",\"E. Karppinen\",\"Igor Praporschchikov\",\"Tomas Szczerek\",\"Yuji Arai\",\"Janne-Pekka\",\"Daniel Strauss\",\"M. Perez\",\"Elvira Karpinnen\",\"Julia Maele\",\"Ben Dyson\",\"Elvira Karppinen\",\"Magid Hage\",\"M. Szczecinski\",\"Young-Ahm\",\"Akira Shoji\",\"Marko Helen\",\"Yushin Okami\",\"M. Yano\",\"Ilir Lafiti\",\"Nate Marquardt\",\"Andreas Olsen\",\"Jia Jang\",\"Ezra Lenon\",\"Hideki Sekine\",\"Lee Hyoung\",\"Ricardo Mesquita\",\"Hannette Staack\",\"Yurika Nakakura\",\"Tammy Griego\",\"Fernanda Mazelli\",\"Alison Tremblay\",\"Amanda Santana\",\"Talita Treta\",\"Stefanie Egger\",\"Ana Carolina\",\"Carina Santi\",\"Satori Kitaoka\",\"Eoghan OFlanagan\",\"Ben Hodgkinson\",\"Heikki Jussila\",\"Timo-Juhani\",\"Erza Lennon\",\"J. Urholin\",\"Piotr Frechowicz\",\"Erico Cocco\",\"Jason Manly\",\"Andy Wang\",\"Tero Pyylampi\",\"Gamrot Mateusz\",\"Osman Kasimov\",\"Kethe Engen\",\"Bia Mesquita\",\"Rodrigo Dib\",\"Josh Hayden\",\"Caol Uno\",\"Peter Angerer\",\"F. Vasconcelos\",\"Urija Faber\",\"Jimmy Freidrich\",\"A. Zhanpeisov\",\"Y. Takahito\",\"Tetsu Suzuki\",\"Jeff Curran\",\"Tetsu Hadario\",\"J. Pietkainen\",\"Zbigniew Tyszka\",\"Hideki Shrek\",\"Elliot Marshal\",\"Luke Griffith\",\"Kamil Wilk\",\"Jesseray Childrey\",\"Amir Allam\",\"Abdulaev Ruslan\",\"Eliott Kelly\",\"Jon Hansen\",\"Yousef Elzien\",\"Ricardo Moraes\",\"Firas Nakdali\",\"Rocky Batastini\",\"Kim Mason\",\"Carlos Barreto\",\"Y. Yatso\",\"Halm Gocalli\",\"Y. Ozawa\",\"Juskowiak Mateusz\",\"Trevor Lally\",\"Marc\",\"Robin Gracie\",\"T. Hirono\",\"Sasha Plavski\",\"Joe Gilbert\",\"Y. Kinishi\",\"K. Hirate\",\"Joaquim Hansen\",\"Erik Paulson\",\"Michael Groth\",\"Jamal Peterson\",\"John Einimo\",\"Antoine Joude\",\"Yukissyu Ozawa\",\"Tim Carpenter\",\"Ilir Latifi\",\"Lucio Lagarto\",\"Yukiyasu Ozawa\",\"T. Pyylampi\",\"Wellington Dias\",\"Akira Shouji\",\"Chris Bright\",\"Mark Bocek\",\"Kassim Anan\",\"Chris Weidman\",\"Tom Bass\",\"Don Ortega\",\"Shinzo Ansai\",\"Akihiro Gono\",\"Alexander Savko\",\"Nicholas Renier\",\"N. Uematsu\",\"Mike Mrkulic\",\"Eddie Sanchez\",\"Yoshitomi Mishima\",\"Tetsu Suzuko\",\"Rikako Yuasa\",\"Nicollas Renier\",\"T. Kosaka\",\"Jehad Hamdan\",\"Mike Van\",\"Matt Lindland\",\"Denis Roberts\",\"Daniel Simoes\",\"Reese Andy\",\"Mario Rinaldi\",\"Elvis Sinosic\",\"Darren Andy\",\"Rogent Lorent\",\"Tomasz Janiszewski\",\"Jimmy Friedrich\",\"Josh Saunders\",\"Paulo Pinto\",\"Diego Sanchez\",\"Cameron Earle\",\"Micah Pittman\",\"Mikey Burnet\",\"Serguei Onishuk\",\"Y. Kohsaka\",\"Jamie Ballard\",\"Daniel Hortegas\",\"James Poupolo\",\"Liu Wen\",\"Tomasz Narkun\",\"Michael Wilson\",\"Jason Lees\",\"Eduardo Rios\",\"Fabio Gurgel\",\"Karl Webber\",\"Egan Inoe\",\"Take Hanai\",\"Muhammad Saleh\",\"Larry Parker\",\"Renato Verissimo\",\"Oleg Taktarov\",\"Simon Siasi\",\"Enson Inoe\",\"Keita Iwamoto\",\"Owen Livesey\",\"Giovanna Jara\",\"Cristiano Lazzarini\",\"R. Alvarenga\",\"Alian Drueco\",\"Mikael Knutsson\",\"George St\",\"Yoshiyuki Yoshida\",\"Morris Clifoni\",\"Allan Teo\",\"T. Suzuki\",\"Joey Gilbert\",\"Rob Di\",\"D. Marinakis\",\"Sotaro Yamada\",\"Rodney Ellis\",\"Bruno Bastos\",\"Marcos Oliveira\",\"Anthony Perosh\",\"Kiuma Kunioku\",\"Mario Miranda\",\"George Sotiropoulos\",\"Kurt Pellegrino\",\"Keita Nakamura\",\"Robert Sabaruddin\",\"Van Arsdale\",\"Mike Whitehead\",\"Alex Negao\",\"Miodrag Petkovic\",\"J. Pietlainen\",\"Takanori Gomi\",\"Thomas DeBlass\",\"Jorge Britto\",\"Keller Sodhi\",\"Youngnam Noh\",\"Ben Henderson\",\"Kitner Mendoga\",\"H. Sekine\",\"Mateusz Juskowiak\",\"E. Elgland\",\"Eric Dahlberg\",\"Ben Askren\",\"Doorwang Jeon\",\"Janus Andrejczuk\",\"Kenta Iwamoto\",\"Wagnney Fabiano\",\"Jacob Rodriguez\",\"Tom Lawlor\",\"Jeon Doo\",\"Shinsho Anzai\",\"Hidemi Mihara\",\"Abdulkadirov Magomed\",\"Perttu Terpponnen\",\"Teemu Launis\",\"Mario Delgado\",\"Darrel Moodley\",\"Kouhei Yasumi\",\"Frank Trigg\",\"Rodrigo Modrias\",\"Fabiano Iha\",\"Israel Albuquerque\",\"Chris Brown\",\"G. Sotiropoulos\",\"Josh Barnet\",\"Y. Setsenko\",\"Marshurenko\",\"M. Van\",\"Andy Reese\",\"R. Babalu\",\"Roger Neff\",\"Luis Orlando\",\"Toshiyuki Oyama\",\"Yuta Sasaki\",\"Travis Lutter\",\"Jerry Bolander\",\"Pete Williams\",\"Yuki Ozawa\",\"Asa Fuller\",\"Sekine Hideki\",\"Mike Martelle\",\"Kamil Huminski\",\"Khazmat Stambulov\",\"Jurie Rachel\",\"Luis Roberto\",\"Hiroyuko Abe\",\"Joe Guilbert\",\"Greger Forsel\",\"Joseph Lee\",\"Adrian Serrano\",\"Carlos Newton\",\"Ahmad Faraj\",\"Gavin Kulper\",\"Nathan Marquardt\",\"Justin Garcia\",\"Jon Einemo\",\"Travers Grubb\",\"Kim Dong\",\"C. Jones\",\"Nieman Gracie\",\"David Bielkheden\",\"Dennis Hallman\",\"Joao Roque\",\"James Harbison\",\"Dan Schon\",\"Juan Valles\",\"Melchor M.\",\"A. Hamlet\",\"Martin Brown\",\"Mike Cardosa\",\"Charles Pearson\",\"Hiroshi Nakamura\",\"Joel Tudor\",\"David Marinakis\",\"Tezekbaev Rasul\",\"U. Zhakshylyk\",\"Vernon White\",\"Dave Menne\",\"R. Anderson\",\"T. Yano\",\"Yuki Sasaki\",\"L. Papadopoulis\",\"Kouji Kanechika\",\"Jorge Santiago\",\"I. Praporshchikov\",\"Jose Junior\",\"Milton Vieira\",\"Isaak Michel\",\"Sanshiro Nakamura\",\"Chris Wideman\",\"Luke Costello\",\"Wang Yan\",\"P. Ardilla\",\"Rumina Sato\",\"Fernando Vieira\",\"Hanette Staack\",\"Jessica Flowers\",\"Akira Soji\",\"Otto Olsen\",\"Renan Sancar\",\"Mateusz Garmot\",\"Kaynan D.\",\"Jayson Patino\",\"Mraz Avdoyan\",\"Rodrigo Minotauro\",\"Tobias G\",\"Kari Petola\",\"Adele Fornarino\",\"Ryan Harvey\",\"Tom Barlow\",\"Janne Pietilainen\",\"Ricardo Alves\",\"Sim Go\",\"Jason White\",\"Damon Ramos\",\"Roan Jucao\",\"Bruno Chavez\",\"Luis Brito\",\"Fan Yi\",\"H. Kanehara\",\"R. Mashurenko\",\"Tamura\",\"Hudson Taylor\",\"F. Capoane\",\"Adam Sachnoff\",\"Genki Sudo\",\"Robert Sulski\",\"J. Wakabayashi\",\"D. Hemmings\",\"Takefuni Hanai\",\"Dan Manasoiu\",\"Livia Giles\",\"Roman Dolidze\",\"Hector Lombard\",\"Asadulaev Surkhay\",\"Marcio Cromado\",\"Bob Schirmer\",\"Chris Brennan\",\"Gao Hua\",\"Mourat Ozov\",\"Rodrigo Artilheiro\",\"K. Toida\",\"Davis Heart\",\"Davion Peterson\",\"Manu Garcia\",\"Dan Martinez\",\"Jason Brudvik\",\"Jason Ramsterrer\",\"Jesse Urholin\",\"Amanda Leve\",\"Rodrigo Caporal\",\"William Tackett\",\"Mayssa Bastos\"],\"legendgroup\":\"0\",\"marker\":{\"color\":\"#636efa\",\"size\":[5.0,6.0,7.0,5.0,3.0,2.0,6.0,1.0,1.0,5.0,3.0,2.0,1.0,2.0,3.0,9.0,2.0,5.0,3.0,3.0,2.0,2.0,1.0,3.0,8.0,1.0,3.0,5.0,12.0,8.0,5.0,1.0,2.0,3.0,4.0,3.0,2.0,3.0,8.0,5.0,1.0,1.0,4.0,11.0,1.0,1.0,4.0,1.0,3.0,2.0,9.0,2.0,4.0,2.0,4.0,1.0,3.0,5.0,2.0,3.0,3.0,14.0,2.0,12.0,7.0,1.0,3.0,1.0,2.0,5.0,11.0,2.0,3.0,4.0,4.0,1.0,6.0,1.0,1.0,1.0,1.0,5.0,1.0,1.0,2.0,1.0,1.0,3.0,1.0,1.0,1.0,3.0,1.0,3.0,1.0,1.0,1.0,1.0,1.0,1.0,1.0,1.0,2.0,1.0,2.0,1.0,1.0,1.0,1.0,1.0,2.0,1.0,1.0,3.0,2.0,5.0,4.0,1.0,1.0,1.0,1.0,1.0,1.0,1.0,1.0,2.0,1.0,2.0,1.0,1.0,2.0,1.0,1.0,1.0,1.0,1.0,1.0,1.0,1.0,1.0,1.0,0.0,0.0,0.0,0.0,0.0,0.0,0.0,0.0,0.0,0.0,0.0,0.0,0.0,0.0,0.0,0.0,0.0,0.0,0.0,0.0,0.0,0.0,0.0,0.0,0.0,0.0,0.0,0.0,0.0,0.0,0.0,0.0,0.0,0.0,0.0,0.0,0.0,0.0,0.0,0.0,0.0,0.0,0.0,0.0,0.0,0.0,0.0,0.0,0.0,0.0,0.0,0.0,0.0,0.0,0.0,0.0,0.0,0.0,0.0,0.0,0.0,0.0,0.0,0.0,0.0,0.0,0.0,0.0,0.0,0.0,0.0,0.0,0.0,0.0,0.0,0.0,0.0,0.0,0.0,0.0,0.0,0.0,0.0,0.0,0.0,0.0,0.0,0.0,0.0,0.0,0.0,0.0,0.0,0.0,0.0,0.0,0.0,0.0,0.0,0.0,0.0,0.0,0.0,0.0,0.0,0.0,0.0,0.0,0.0,0.0,0.0,0.0,0.0,0.0,0.0,0.0,0.0,0.0,0.0,0.0,0.0,0.0,0.0,0.0,0.0,0.0,0.0,0.0,0.0,0.0,0.0,0.0,0.0,0.0,0.0,0.0,0.0,0.0,0.0,0.0,0.0,0.0,0.0,0.0,0.0,0.0,0.0,0.0,0.0,0.0,0.0,0.0,0.0,0.0,0.0,0.0,0.0,0.0,0.0,0.0,0.0,0.0,0.0,0.0,0.0,0.0,0.0,0.0,0.0,0.0,0.0,0.0,0.0,0.0,0.0,0.0,0.0,0.0,0.0,0.0,0.0,0.0,0.0,0.0,0.0,0.0,0.0,0.0,0.0,0.0,0.0,0.0,0.0,0.0,0.0,0.0,0.0,0.0,0.0,0.0,0.0,0.0,0.0,0.0,0.0,0.0,0.0,0.0,0.0,0.0,0.0,0.0,0.0,0.0,0.0,0.0,0.0,0.0,0.0,0.0,0.0,0.0,0.0,0.0,0.0,0.0,0.0,0.0,0.0,0.0,0.0,0.0,0.0,0.0,0.0,0.0,0.0,0.0,0.0,0.0,0.0,0.0,0.0,0.0,0.0,0.0,0.0,0.0,0.0,0.0,0.0,0.0,0.0,0.0,0.0,0.0,0.0,0.0,0.0,0.0,0.0,0.0,0.0,0.0,0.0,0.0,0.0,0.0,0.0,0.0,0.0,0.0,0.0,0.0,0.0,0.0,0.0,0.0,0.0,0.0,0.0,0.0,0.0,0.0,0.0,0.0,0.0,0.0,0.0,0.0,0.0,0.0,0.0,0.0,0.0,0.0,0.0,0.0,0.0,0.0,0.0,0.0,0.0,0.0,0.0,0.0,0.0,0.0,0.0,0.0,0.0,0.0,0.0,0.0,0.0,0.0,0.0,0.0,0.0,0.0,0.0,0.0,0.0,0.0,0.0,0.0,0.0,0.0,0.0,0.0,0.0,0.0,0.0,0.0,0.0,0.0,0.0,0.0,0.0,0.0,0.0,0.0,0.0,0.0,0.0,0.0,0.0,0.0,0.0,0.0,0.0,0.0,0.0,0.0,0.0,0.0,0.0,0.0,0.0,0.0,0.0,0.0,0.0,0.0,0.0,0.0,0.0,0.0,0.0,0.0,0.0,0.0,0.0,0.0,0.0,0.0,0.0,0.0,0.0,0.0,0.0,0.0,0.0,0.0,0.0,0.0,0.0,0.0,0.0,0.0,0.0,0.0,0.0,0.0,0.0,0.0,0.0,0.0,0.0,0.0,0.0,0.0,0.0,0.0,0.0,0.0,0.0,0.0,0.0,0.0,0.0,0.0,0.0,0.0,0.0,0.0],\"sizemode\":\"area\",\"sizeref\":0.03333333333333333,\"symbol\":\"circle\"},\"mode\":\"markers\",\"name\":\"No\",\"orientation\":\"v\",\"showlegend\":true,\"x\":[0.8181818181818182,1.625,1.5,1.625,1.1666666666666667,1.5,1.5,0.3333333333333333,0.3333333333333333,1.5,0.875,1.0,0.5,0.4,1.0,1.5,2.333333333333333,1.5,1.5,1.5,1.0,0.4,0.5,1.75,0.8888888888888888,0.3333333333333333,1.5,1.0,1.625,1.3333333333333333,1.4285714285714286,0.5,0.5,1.0,1.125,0.5,0.4,0.875,1.2666666666666666,1.181818181818182,0.5,0.5,0.8888888888888888,1.0,0.3333333333333333,0.3333333333333333,1.1666666666666667,0.3333333333333333,1.2,1.5,1.4,1.2,1.1666666666666667,1.5,1.3333333333333333,0.5,0.6666666666666666,1.3,0.5,1.75,1.75,1.3076923076923077,2.333333333333333,1.368421052631579,1.4,0.5,1.75,0.5,0.5,1.0,1.2352941176470589,0.5,0.5,1.1428571428571428,1.1428571428571428,0.3333333333333333,1.0909090909090908,0.5,0.5,0.25,0.3333333333333333,1.0,0.25,0.5,0.5,0.25,0.5,1.5,0.5,0.3333333333333333,0.3333333333333333,0.8,1.5,1.2,0.5,0.2,0.5,0.5,0.5,0.3333333333333333,0.5,0.3333333333333333,1.0,3.0,2.0,0.5,0.0,1.6666666666666667,2.0,0.0,2.0,2.0,1.5,1.0,0.5,1.7692307692307692,0.9090909090909092,0.0,1.0,1.6666666666666667,2.0,1.5,0.3333333333333333,1.5,1.0,2.0,1.3333333333333333,1.3333333333333333,0.0,2.0,1.3333333333333333,2.0,0.5,2.0,0.0,0.3333333333333333,0.6666666666666666,1.0,0.5,1.4,2.6666666666666665,0.0,0.0,0.0,0.0,0.0,0.0,0.0,0.0,0.0,0.0,0.0,0.0,0.0,0.0,0.0,0.0,0.0,0.0,0.0,0.0,0.0,0.0,0.0,1.0,0.0,0.0,0.0,0.0,0.0,0.0,0.0,0.0,0.0,0.0,1.0,0.0,0.0,0.0,0.0,0.0,0.0,0.0,0.0,0.5,0.0,3.0,2.0,0.5,1.0,0.0,1.0,0.3333333333333333,0.0,0.0,1.0,2.0,1.0,4.0,1.0,0.0,2.0,0.0,0.0,0.0,0.0,0.0,0.3333333333333333,2.0,1.0,0.0,1.0,0.0,1.0,0.0,0.0,0.0,0.0,0.0,0.0,0.0,0.0,0.0,1.0,0.3333333333333333,0.0,0.0,4.0,1.0,2.0,4.0,1.0,3.0,4.0,1.0,2.0,4.0,0.0,2.5,0.0,0.0,0.0,0.0,0.0,0.0,0.0,0.0,0.0,0.0,0.0,0.0,1.0,2.0,0.0,0.0,2.0,0.0,1.0,0.0,0.0,0.0,0.0,1.0,0.0,0.0,0.0,0.3333333333333333,0.0,0.0,0.0,0.0,0.0,0.0,0.0,0.0,0.0,0.0,1.5,2.0,0.0,0.0,0.0,0.0,0.0,0.0,0.0,1.0,2.0,4.0,0.0,1.0,2.0,0.0,0.0,1.0,0.0,0.0,1.0,3.0,0.0,0.0,1.0,0.0,1.0,0.0,0.0,0.0,0.0,0.0,1.0,0.0,1.0,0.0,0.0,0.0,0.0,1.0,0.0,1.0,1.0,0.0,1.0,3.0,1.0,0.0,0.0,1.0,1.0,0.5,0.0,2.0,0.0,0.0,0.0,2.5,0.0,1.0,1.0,0.0,0.0,0.5,1.0,1.0,1.0,0.0,0.0,0.0,0.0,0.0,0.0,0.5,0.0,0.0,0.0,5.0,0.0,1.0,0.0,0.0,1.0,2.0,1.0,2.0,5.0,0.0,0.0,1.0,2.0,0.0,0.0,1.0,1.0,0.0,0.0,0.0,1.0,1.0,2.0,0.0,0.0,0.0,0.25,1.0,0.0,0.0,0.0,0.0,1.0,2.0,0.0,0.0,0.0,2.0,0.0,0.0,0.0,0.5,0.0,0.0,0.0,0.5,0.0,0.0,0.0,0.0,0.0,1.0,0.0,0.0,0.0,1.0,0.0,0.0,0.0,0.0,0.0,0.5,0.0,0.0,0.0,0.0,0.0,0.0,1.0,2.0,1.0,1.5,0.0,0.0,0.0,0.0,1.0,1.0,1.0,0.5,1.0,0.0,0.0,0.0,0.5,1.0,0.0,1.0,0.0,0.0,0.0,0.0,0.0,1.0,0.0,1.0,0.0,0.0,0.0,1.0,2.0,1.0,0.0,0.0,5.0,0.0,0.0,0.0,1.0,0.0,1.6666666666666667,1.0,0.0,0.0,0.0,2.0,2.0,0.0,1.0,0.0,0.0,1.0,0.0,0.0,0.0,1.0,1.0,1.0,0.3333333333333333,0.0,0.0,0.0,0.0,0.0,1.0,0.0,0.0,0.0,1.0,0.0,0.0,0.0,0.0,1.0,4.0,2.0,1.0,4.0,1.0,0.0,1.0,0.0,0.0,1.0,0.0,0.0,1.0,0.0,0.0,1.0,4.0,0.0,0.0,0.0,1.0,1.0,4.0,0.0,0.0,0.0,0.0,0.0,0.0,0.0,0.0,1.0,1.0,0.0,0.0,0.0,1.0,0.0,1.0,0.0,0.0,0.0,0.0,0.0,0.0,1.0,0.0,0.0,0.0,0.0,0.0,0.0,0.0,0.0,1.0,0.0,0.0,1.0],\"xaxis\":\"x\",\"y\":[0.4545454545454545,0.75,0.7,0.625,0.5,0.5,0.75,0.3333333333333333,0.3333333333333333,0.625,0.375,0.6666666666666666,0.5,0.4,0.4285714285714285,0.6428571428571429,0.6666666666666666,0.625,0.75,0.75,0.6666666666666666,0.4,0.5,0.75,0.4444444444444444,0.3333333333333333,0.75,0.625,0.75,0.6666666666666666,0.7142857142857143,0.5,0.5,0.6,0.5,0.5,0.4,0.375,0.5333333333333333,0.4545454545454545,0.5,0.5,0.4444444444444444,0.5,0.3333333333333333,0.3333333333333333,0.6666666666666666,0.3333333333333333,0.6,0.5,0.6,0.4,0.6666666666666666,0.5,0.6666666666666666,0.5,0.3333333333333333,0.5,0.5,0.75,0.75,0.5384615384615384,0.6666666666666666,0.631578947368421,0.7,0.5,0.75,0.5,0.5,0.625,0.6470588235294118,0.5,0.5,0.5714285714285714,0.5714285714285714,0.3333333333333333,0.5454545454545454,0.5,0.5,0.25,0.3333333333333333,0.5,0.25,0.5,0.5,0.25,0.5,0.75,0.5,0.3333333333333333,0.3333333333333333,0.6,0.5,0.6,0.5,0.2,0.5,0.5,0.5,0.3333333333333333,0.5,0.3333333333333333,0.6666666666666666,0.5,0.5,0.5,1.0,0.3333333333333333,1.0,1.0,0.6666666666666666,1.0,0.5,0.75,0.5,0.3846153846153846,0.3636363636363636,1.0,1.0,0.3333333333333333,0.3333333333333333,0.5,0.3333333333333333,0.5,1.0,0.5,0.3333333333333333,0.3333333333333333,1.0,0.5,0.6666666666666666,0.5,0.5,0.3333333333333333,1.0,0.3333333333333333,0.3333333333333333,1.0,0.5,0.2,0.3333333333333333,0.0,0.0,0.0,0.0,0.0,0.0,0.0,0.0,0.0,0.0,0.0,0.0,0.0,0.0,0.0,0.0,0.0,0.0,0.0,0.0,0.0,0.0,0.0,0.0,0.0,0.0,0.0,0.0,0.0,0.0,0.0,0.0,0.0,0.0,0.0,0.0,0.0,0.0,0.0,0.0,0.0,0.0,0.0,0.0,0.0,0.0,0.0,0.0,0.0,0.0,0.0,0.0,0.0,0.0,0.0,0.0,0.0,0.0,0.0,0.0,0.0,0.0,0.0,0.0,0.0,0.0,0.0,0.0,0.0,0.0,0.0,0.0,0.0,0.0,0.0,0.0,0.0,0.0,0.0,0.0,0.0,0.0,0.0,0.0,0.0,0.0,0.0,0.0,0.0,0.0,0.0,0.0,0.0,0.0,0.0,0.0,0.0,0.0,0.0,0.0,0.0,0.0,0.0,0.0,0.0,0.0,0.0,0.0,0.0,0.0,0.0,0.0,0.0,0.0,0.0,0.0,0.0,0.0,0.0,0.0,0.0,0.0,0.0,0.0,0.0,0.0,0.0,0.0,0.0,0.0,0.0,0.0,0.0,0.0,0.0,0.0,0.0,0.0,0.0,0.0,0.0,0.0,0.0,0.0,0.0,0.0,0.0,0.0,0.0,0.0,0.0,0.0,0.0,0.0,0.0,0.0,0.0,0.0,0.0,0.0,0.0,0.0,0.0,0.0,0.0,0.0,0.0,0.0,0.0,0.0,0.0,0.0,0.0,0.0,0.0,0.0,0.0,0.0,0.0,0.0,0.0,0.0,0.0,0.0,0.0,0.0,0.0,0.0,0.0,0.0,0.0,0.0,0.0,0.0,0.0,0.0,0.0,0.0,0.0,0.0,0.0,0.0,0.0,0.0,0.0,0.0,0.0,0.0,0.0,0.0,0.0,0.0,0.0,0.0,0.0,0.0,0.0,0.0,0.0,0.0,0.0,0.0,0.0,0.0,0.0,0.0,0.0,0.0,0.0,0.0,0.0,0.0,0.0,0.0,0.0,0.0,0.0,0.0,0.0,0.0,0.0,0.0,0.0,0.0,0.0,0.0,0.0,0.0,0.0,0.0,0.0,0.0,0.0,0.0,0.0,0.0,0.0,0.0,0.0,0.0,0.0,0.0,0.0,0.0,0.0,0.0,0.0,0.0,0.0,0.0,0.0,0.0,0.0,0.0,0.0,0.0,0.0,0.0,0.0,0.0,0.0,0.0,0.0,0.0,0.0,0.0,0.0,0.0,0.0,0.0,0.0,0.0,0.0,0.0,0.0,0.0,0.0,0.0,0.0,0.0,0.0,0.0,0.0,0.0,0.0,0.0,0.0,0.0,0.0,0.0,0.0,0.0,0.0,0.0,0.0,0.0,0.0,0.0,0.0,0.0,0.0,0.0,0.0,0.0,0.0,0.0,0.0,0.0,0.0,0.0,0.0,0.0,0.0,0.0,0.0,0.0,0.0,0.0,0.0,0.0,0.0,0.0,0.0,0.0,0.0,0.0,0.0,0.0,0.0,0.0,0.0,0.0,0.0,0.0,0.0,0.0,0.0,0.0,0.0,0.0,0.0,0.0,0.0,0.0,0.0,0.0,0.0,0.0,0.0,0.0,0.0,0.0,0.0,0.0,0.0,0.0,0.0,0.0,0.0,0.0,0.0,0.0,0.0,0.0,0.0,0.0,0.0,0.0,0.0,0.0,0.0,0.0,0.0,0.0,0.0,0.0,0.0,0.0,0.0,0.0,0.0,0.0,0.0,0.0,0.0,0.0,0.0,0.0,0.0,0.0,0.0,0.0,0.0,0.0,0.0,0.0],\"yaxis\":\"y\",\"type\":\"scatter\"},{\"hovertemplate\":\"<b>%{hovertext}</b><br><br>Has title?=1<br>avg_match_importance=%{x}<br>win_ratio=%{y}<br>total_wins=%{marker.size}<extra></extra>\",\"hovertext\":[\"Orlando Sanchez\",\"Pablo Popovitch\",\"Roberto Abreu\",\"Rodolfo Vieira\",\"Roger Gracie\",\"Romulo Barral\",\"Ronaldo Souza\",\"Braulio Estima\",\"Claudio Calasans\",\"Davi Ramos\",\"Demian Maia\",\"Diogo Reis\",\"Dean Lister\",\"Giancarlo Bodoni\",\"Gordon Ryan\",\"Kron Gracie\",\"Matheus Diniz\",\"Marcio Feitosa\",\"Marcus Almeida\",\"Rafael Mendes\",\"Yuri Simoes\",\"Alexandre Ribeiro\",\"Amy Campo\",\"Andre Galvao\",\"Augusto Mendes\",\"Fabricio Werdum\",\"Ffion Davies\",\"Felipe Pena\",\"Jean Jacques Machado\",\"Joao Assis\",\"Jose Mario Sperry\",\"Jonathan Torres\",\"Kade Ruotolo\",\"Kaynan Duarte\",\"Leonardo Vieira\",\"Marcelo Garcia\",\"Marcio Cruz\",\"Rany Yahya\",\"Renzo Gracie\",\"Ricardo Arona\",\"Royler Gracie\",\"Rubens Charles\",\"Saulo Ribeiro\",\"Vinicius Magalhaes\",\"Bianca Basilio\",\"Gabrielle Garcia\",\"Mackenzie Dern\",\"Ricco Rodriguez\",\"Alexandre de Freitas\",\"Roberto Traven\",\"Rodrigo Gracie\",\"Bianca Mesquita\",\"Mark Kerr\",\"Robert Drysdale\",\"Jeff Monson\",\"Chael Sonnen\",\"Sanae Kikuta\"],\"legendgroup\":\"1\",\"marker\":{\"color\":\"#EF553B\",\"size\":[9.0,19.0,20.0,8.0,12.0,10.0,11.0,12.0,7.0,4.0,7.0,4.0,19.0,5.0,20.0,8.0,5.0,8.0,18.0,11.0,16.0,30.0,3.0,22.0,9.0,20.0,5.0,13.0,11.0,10.0,9.0,12.0,4.0,8.0,21.0,27.0,15.0,10.0,11.0,13.0,14.0,18.0,22.0,19.0,6.0,14.0,3.0,15.0,13.0,5.0,6.0,1.0,5.0,2.0,6.0,1.0,1.0],\"sizemode\":\"area\",\"sizeref\":0.03333333333333333,\"symbol\":\"circle\"},\"mode\":\"markers\",\"name\":\"Title winner\",\"orientation\":\"v\",\"showlegend\":true,\"x\":[1.2307692307692308,1.5384615384615383,1.4482758620689655,1.3,1.9230769230769231,1.1666666666666667,2.2142857142857144,1.9375,1.5833333333333333,1.75,1.75,1.75,1.3214285714285714,1.3333333333333333,1.9047619047619049,1.4,1.3333333333333333,1.3636363636363635,1.681818181818182,1.75,1.368421052631579,1.4186046511627908,2.333333333333333,2.185185185185185,1.1538461538461535,1.4230769230769231,2.333333333333333,1.6666666666666667,1.8,1.2857142857142858,2.727272727272727,1.2666666666666666,1.75,1.5555555555555556,1.5333333333333334,1.5625,1.2727272727272727,1.3846153846153846,1.4,2.0,1.6666666666666667,1.75,1.4333333333333331,1.137931034482759,2.2222222222222223,2.4375,2.0,1.2083333333333333,1.736842105263158,1.1428571428571428,1.625,4.0,3.0,3.25,1.6153846153846154,2.5,2.0],\"xaxis\":\"x\",\"y\":[0.6923076923076923,0.7307692307692307,0.6896551724137931,0.8,0.9230769230769232,0.5555555555555556,0.7857142857142857,0.75,0.5833333333333334,1.0,0.875,1.0,0.6785714285714286,0.8333333333333334,0.9523809523809524,0.8,0.8333333333333334,0.7272727272727273,0.8181818181818182,0.9166666666666666,0.8421052631578947,0.6976744186046512,1.0,0.8148148148148148,0.6923076923076923,0.7692307692307693,0.8333333333333334,0.7222222222222222,0.7333333333333333,0.7142857142857143,0.8181818181818182,0.8,1.0,0.8888888888888888,0.7,0.84375,0.6818181818181818,0.7692307692307693,0.7333333333333333,1.0,0.9333333333333332,0.9,0.7333333333333333,0.6551724137931034,0.6666666666666666,0.875,0.75,0.625,0.6842105263157895,0.7142857142857143,0.75,1.0,0.8333333333333334,0.5,0.4615384615384615,0.5,0.5],\"yaxis\":\"y\",\"type\":\"scatter\"}],                        {\"template\":{\"data\":{\"histogram2dcontour\":[{\"type\":\"histogram2dcontour\",\"colorbar\":{\"outlinewidth\":0,\"ticks\":\"\"},\"colorscale\":[[0.0,\"#0d0887\"],[0.1111111111111111,\"#46039f\"],[0.2222222222222222,\"#7201a8\"],[0.3333333333333333,\"#9c179e\"],[0.4444444444444444,\"#bd3786\"],[0.5555555555555556,\"#d8576b\"],[0.6666666666666666,\"#ed7953\"],[0.7777777777777778,\"#fb9f3a\"],[0.8888888888888888,\"#fdca26\"],[1.0,\"#f0f921\"]]}],\"choropleth\":[{\"type\":\"choropleth\",\"colorbar\":{\"outlinewidth\":0,\"ticks\":\"\"}}],\"histogram2d\":[{\"type\":\"histogram2d\",\"colorbar\":{\"outlinewidth\":0,\"ticks\":\"\"},\"colorscale\":[[0.0,\"#0d0887\"],[0.1111111111111111,\"#46039f\"],[0.2222222222222222,\"#7201a8\"],[0.3333333333333333,\"#9c179e\"],[0.4444444444444444,\"#bd3786\"],[0.5555555555555556,\"#d8576b\"],[0.6666666666666666,\"#ed7953\"],[0.7777777777777778,\"#fb9f3a\"],[0.8888888888888888,\"#fdca26\"],[1.0,\"#f0f921\"]]}],\"heatmap\":[{\"type\":\"heatmap\",\"colorbar\":{\"outlinewidth\":0,\"ticks\":\"\"},\"colorscale\":[[0.0,\"#0d0887\"],[0.1111111111111111,\"#46039f\"],[0.2222222222222222,\"#7201a8\"],[0.3333333333333333,\"#9c179e\"],[0.4444444444444444,\"#bd3786\"],[0.5555555555555556,\"#d8576b\"],[0.6666666666666666,\"#ed7953\"],[0.7777777777777778,\"#fb9f3a\"],[0.8888888888888888,\"#fdca26\"],[1.0,\"#f0f921\"]]}],\"heatmapgl\":[{\"type\":\"heatmapgl\",\"colorbar\":{\"outlinewidth\":0,\"ticks\":\"\"},\"colorscale\":[[0.0,\"#0d0887\"],[0.1111111111111111,\"#46039f\"],[0.2222222222222222,\"#7201a8\"],[0.3333333333333333,\"#9c179e\"],[0.4444444444444444,\"#bd3786\"],[0.5555555555555556,\"#d8576b\"],[0.6666666666666666,\"#ed7953\"],[0.7777777777777778,\"#fb9f3a\"],[0.8888888888888888,\"#fdca26\"],[1.0,\"#f0f921\"]]}],\"contourcarpet\":[{\"type\":\"contourcarpet\",\"colorbar\":{\"outlinewidth\":0,\"ticks\":\"\"}}],\"contour\":[{\"type\":\"contour\",\"colorbar\":{\"outlinewidth\":0,\"ticks\":\"\"},\"colorscale\":[[0.0,\"#0d0887\"],[0.1111111111111111,\"#46039f\"],[0.2222222222222222,\"#7201a8\"],[0.3333333333333333,\"#9c179e\"],[0.4444444444444444,\"#bd3786\"],[0.5555555555555556,\"#d8576b\"],[0.6666666666666666,\"#ed7953\"],[0.7777777777777778,\"#fb9f3a\"],[0.8888888888888888,\"#fdca26\"],[1.0,\"#f0f921\"]]}],\"surface\":[{\"type\":\"surface\",\"colorbar\":{\"outlinewidth\":0,\"ticks\":\"\"},\"colorscale\":[[0.0,\"#0d0887\"],[0.1111111111111111,\"#46039f\"],[0.2222222222222222,\"#7201a8\"],[0.3333333333333333,\"#9c179e\"],[0.4444444444444444,\"#bd3786\"],[0.5555555555555556,\"#d8576b\"],[0.6666666666666666,\"#ed7953\"],[0.7777777777777778,\"#fb9f3a\"],[0.8888888888888888,\"#fdca26\"],[1.0,\"#f0f921\"]]}],\"mesh3d\":[{\"type\":\"mesh3d\",\"colorbar\":{\"outlinewidth\":0,\"ticks\":\"\"}}],\"scatter\":[{\"fillpattern\":{\"fillmode\":\"overlay\",\"size\":10,\"solidity\":0.2},\"type\":\"scatter\"}],\"parcoords\":[{\"type\":\"parcoords\",\"line\":{\"colorbar\":{\"outlinewidth\":0,\"ticks\":\"\"}}}],\"scatterpolargl\":[{\"type\":\"scatterpolargl\",\"marker\":{\"colorbar\":{\"outlinewidth\":0,\"ticks\":\"\"}}}],\"bar\":[{\"error_x\":{\"color\":\"#2a3f5f\"},\"error_y\":{\"color\":\"#2a3f5f\"},\"marker\":{\"line\":{\"color\":\"#E5ECF6\",\"width\":0.5},\"pattern\":{\"fillmode\":\"overlay\",\"size\":10,\"solidity\":0.2}},\"type\":\"bar\"}],\"scattergeo\":[{\"type\":\"scattergeo\",\"marker\":{\"colorbar\":{\"outlinewidth\":0,\"ticks\":\"\"}}}],\"scatterpolar\":[{\"type\":\"scatterpolar\",\"marker\":{\"colorbar\":{\"outlinewidth\":0,\"ticks\":\"\"}}}],\"histogram\":[{\"marker\":{\"pattern\":{\"fillmode\":\"overlay\",\"size\":10,\"solidity\":0.2}},\"type\":\"histogram\"}],\"scattergl\":[{\"type\":\"scattergl\",\"marker\":{\"colorbar\":{\"outlinewidth\":0,\"ticks\":\"\"}}}],\"scatter3d\":[{\"type\":\"scatter3d\",\"line\":{\"colorbar\":{\"outlinewidth\":0,\"ticks\":\"\"}},\"marker\":{\"colorbar\":{\"outlinewidth\":0,\"ticks\":\"\"}}}],\"scattermapbox\":[{\"type\":\"scattermapbox\",\"marker\":{\"colorbar\":{\"outlinewidth\":0,\"ticks\":\"\"}}}],\"scatterternary\":[{\"type\":\"scatterternary\",\"marker\":{\"colorbar\":{\"outlinewidth\":0,\"ticks\":\"\"}}}],\"scattercarpet\":[{\"type\":\"scattercarpet\",\"marker\":{\"colorbar\":{\"outlinewidth\":0,\"ticks\":\"\"}}}],\"carpet\":[{\"aaxis\":{\"endlinecolor\":\"#2a3f5f\",\"gridcolor\":\"white\",\"linecolor\":\"white\",\"minorgridcolor\":\"white\",\"startlinecolor\":\"#2a3f5f\"},\"baxis\":{\"endlinecolor\":\"#2a3f5f\",\"gridcolor\":\"white\",\"linecolor\":\"white\",\"minorgridcolor\":\"white\",\"startlinecolor\":\"#2a3f5f\"},\"type\":\"carpet\"}],\"table\":[{\"cells\":{\"fill\":{\"color\":\"#EBF0F8\"},\"line\":{\"color\":\"white\"}},\"header\":{\"fill\":{\"color\":\"#C8D4E3\"},\"line\":{\"color\":\"white\"}},\"type\":\"table\"}],\"barpolar\":[{\"marker\":{\"line\":{\"color\":\"#E5ECF6\",\"width\":0.5},\"pattern\":{\"fillmode\":\"overlay\",\"size\":10,\"solidity\":0.2}},\"type\":\"barpolar\"}],\"pie\":[{\"automargin\":true,\"type\":\"pie\"}]},\"layout\":{\"autotypenumbers\":\"strict\",\"colorway\":[\"#636efa\",\"#EF553B\",\"#00cc96\",\"#ab63fa\",\"#FFA15A\",\"#19d3f3\",\"#FF6692\",\"#B6E880\",\"#FF97FF\",\"#FECB52\"],\"font\":{\"color\":\"#2a3f5f\"},\"hovermode\":\"closest\",\"hoverlabel\":{\"align\":\"left\"},\"paper_bgcolor\":\"white\",\"plot_bgcolor\":\"#E5ECF6\",\"polar\":{\"bgcolor\":\"#E5ECF6\",\"angularaxis\":{\"gridcolor\":\"white\",\"linecolor\":\"white\",\"ticks\":\"\"},\"radialaxis\":{\"gridcolor\":\"white\",\"linecolor\":\"white\",\"ticks\":\"\"}},\"ternary\":{\"bgcolor\":\"#E5ECF6\",\"aaxis\":{\"gridcolor\":\"white\",\"linecolor\":\"white\",\"ticks\":\"\"},\"baxis\":{\"gridcolor\":\"white\",\"linecolor\":\"white\",\"ticks\":\"\"},\"caxis\":{\"gridcolor\":\"white\",\"linecolor\":\"white\",\"ticks\":\"\"}},\"coloraxis\":{\"colorbar\":{\"outlinewidth\":0,\"ticks\":\"\"}},\"colorscale\":{\"sequential\":[[0.0,\"#0d0887\"],[0.1111111111111111,\"#46039f\"],[0.2222222222222222,\"#7201a8\"],[0.3333333333333333,\"#9c179e\"],[0.4444444444444444,\"#bd3786\"],[0.5555555555555556,\"#d8576b\"],[0.6666666666666666,\"#ed7953\"],[0.7777777777777778,\"#fb9f3a\"],[0.8888888888888888,\"#fdca26\"],[1.0,\"#f0f921\"]],\"sequentialminus\":[[0.0,\"#0d0887\"],[0.1111111111111111,\"#46039f\"],[0.2222222222222222,\"#7201a8\"],[0.3333333333333333,\"#9c179e\"],[0.4444444444444444,\"#bd3786\"],[0.5555555555555556,\"#d8576b\"],[0.6666666666666666,\"#ed7953\"],[0.7777777777777778,\"#fb9f3a\"],[0.8888888888888888,\"#fdca26\"],[1.0,\"#f0f921\"]],\"diverging\":[[0,\"#8e0152\"],[0.1,\"#c51b7d\"],[0.2,\"#de77ae\"],[0.3,\"#f1b6da\"],[0.4,\"#fde0ef\"],[0.5,\"#f7f7f7\"],[0.6,\"#e6f5d0\"],[0.7,\"#b8e186\"],[0.8,\"#7fbc41\"],[0.9,\"#4d9221\"],[1,\"#276419\"]]},\"xaxis\":{\"gridcolor\":\"white\",\"linecolor\":\"white\",\"ticks\":\"\",\"title\":{\"standoff\":15},\"zerolinecolor\":\"white\",\"automargin\":true,\"zerolinewidth\":2},\"yaxis\":{\"gridcolor\":\"white\",\"linecolor\":\"white\",\"ticks\":\"\",\"title\":{\"standoff\":15},\"zerolinecolor\":\"white\",\"automargin\":true,\"zerolinewidth\":2},\"scene\":{\"xaxis\":{\"backgroundcolor\":\"#E5ECF6\",\"gridcolor\":\"white\",\"linecolor\":\"white\",\"showbackground\":true,\"ticks\":\"\",\"zerolinecolor\":\"white\",\"gridwidth\":2},\"yaxis\":{\"backgroundcolor\":\"#E5ECF6\",\"gridcolor\":\"white\",\"linecolor\":\"white\",\"showbackground\":true,\"ticks\":\"\",\"zerolinecolor\":\"white\",\"gridwidth\":2},\"zaxis\":{\"backgroundcolor\":\"#E5ECF6\",\"gridcolor\":\"white\",\"linecolor\":\"white\",\"showbackground\":true,\"ticks\":\"\",\"zerolinecolor\":\"white\",\"gridwidth\":2}},\"shapedefaults\":{\"line\":{\"color\":\"#2a3f5f\"}},\"annotationdefaults\":{\"arrowcolor\":\"#2a3f5f\",\"arrowhead\":0,\"arrowwidth\":1},\"geo\":{\"bgcolor\":\"white\",\"landcolor\":\"#E5ECF6\",\"subunitcolor\":\"white\",\"showland\":true,\"showlakes\":true,\"lakecolor\":\"white\"},\"title\":{\"x\":0.05},\"mapbox\":{\"style\":\"light\"}}},\"xaxis\":{\"anchor\":\"y\",\"domain\":[0.0,1.0],\"title\":{\"text\":\"Average match importance, 0 being the first round, 5 finals and 6 superfights\"},\"type\":\"log\"},\"yaxis\":{\"anchor\":\"x\",\"domain\":[0.0,1.0],\"title\":{\"text\":\"Win ratio\"}},\"legend\":{\"title\":{\"text\":\"Has title?\"},\"tracegroupgap\":0,\"itemsizing\":\"constant\"},\"margin\":{\"t\":60},\"height\":810,\"width\":900,\"title\":{\"text\":\"Win ratio by average match importance for fighters\",\"y\":0.95,\"x\":0.5,\"xanchor\":\"center\",\"yanchor\":\"top\"},\"annotations\":[{\"font\":{\"size\":12},\"showarrow\":false,\"text\":\"(Bubble size proportional to total wins)\",\"x\":0.546,\"xref\":\"paper\",\"y\":1,\"yref\":\"paper\"}]},                        {\"responsive\": true}                    ).then(function(){\n",
       "                            \n",
       "var gd = document.getElementById('65147d63-023f-4821-ad54-a11446c4d7c0');\n",
       "var x = new MutationObserver(function (mutations, observer) {{\n",
       "        var display = window.getComputedStyle(gd).display;\n",
       "        if (!display || display === 'none') {{\n",
       "            console.log([gd, 'removed!']);\n",
       "            Plotly.purge(gd);\n",
       "            observer.disconnect();\n",
       "        }}\n",
       "}});\n",
       "\n",
       "// Listen for the removal of the full notebook cells\n",
       "var notebookContainer = gd.closest('#notebook-container');\n",
       "if (notebookContainer) {{\n",
       "    x.observe(notebookContainer, {childList: true});\n",
       "}}\n",
       "\n",
       "// Listen for the clearing of the current output cell\n",
       "var outputEl = gd.closest('.output');\n",
       "if (outputEl) {{\n",
       "    x.observe(outputEl, {childList: true});\n",
       "}}\n",
       "\n",
       "                        })                };                });            </script>        </div>"
      ]
     },
     "metadata": {},
     "output_type": "display_data"
    }
   ],
   "source": [
    "# Plots the distribution between average match importance and win rates\n",
    "\n",
    "# Generates the chart object by instanciating a plotly express histogram\n",
    "fig = px.scatter(df, x='avg_match_importance', y='win_ratio', hover_name=\"name\",\n",
    "                 color=df['champion'].astype(str), labels={'color': 'Has title?'},\n",
    "                size='total_wins', size_max=30, log_x=True,\n",
    "                width=900, height=810)\n",
    "\n",
    "\n",
    "fig.update_layout(\n",
    "    title={\n",
    "        'text': \"Win ratio by average match importance for fighters\",\n",
    "        'y':0.95,\n",
    "        'x':0.5,\n",
    "        'xanchor': 'center',\n",
    "        'yanchor': 'top'\n",
    "    },\n",
    "    xaxis_title=\"Average match importance, 0 being the first round, 5 finals and 6 superfights\", yaxis_title=\"Win ratio\"\n",
    "\n",
    ")\n",
    "\n",
    "# Display observation under title explaining bubble size\n",
    "legend_annotations = [\n",
    "    dict(\n",
    "        x=0.546,\n",
    "        y=1,\n",
    "        xref=\"paper\",\n",
    "        yref=\"paper\",\n",
    "        text=f\"(Bubble size proportional to total wins)\",\n",
    "        showarrow=False,\n",
    "        font=dict(size=12),\n",
    "    )]\n",
    "fig.update_layout(annotations=legend_annotations)\n",
    "\n",
    "# Renames the legend labels for understandability\n",
    "newnames = {'0':'No', '1': 'Title winner'}\n",
    "fig.for_each_trace(lambda t: t.update(name = newnames[t.name]))\n",
    "\n",
    "\n",
    "fig.show()"
   ]
  },
  {
   "cell_type": "markdown",
   "id": "b4562123",
   "metadata": {
    "papermill": {
     "duration": 0.025372,
     "end_time": "2023-06-16T16:32:41.697698",
     "exception": false,
     "start_time": "2023-06-16T16:32:41.672326",
     "status": "completed"
    },
    "tags": []
   },
   "source": [
    "It can be seen that the average match importance for fighters is not a good feature to differentiate them, since they all appear closely packed together in the above chart.  \n",
    "Still, setting the X-axis scale to logarithmic softens this effect.  \n",
    "The trend observed here (of positive correlation between match importance and average win rate) is to be expected since fighters advance to later stages (matches with higher importance) by winning matches with less importance.\n"
   ]
  },
  {
   "cell_type": "markdown",
   "id": "18f40180",
   "metadata": {
    "papermill": {
     "duration": 0.024889,
     "end_time": "2023-06-16T16:32:41.747664",
     "exception": false,
     "start_time": "2023-06-16T16:32:41.722775",
     "status": "completed"
    },
    "tags": []
   },
   "source": [
    "### How are winners and champions from each generation different?"
   ]
  },
  {
   "cell_type": "code",
   "execution_count": 16,
   "id": "51215076",
   "metadata": {
    "_kg_hide-input": true,
    "execution": {
     "iopub.execute_input": "2023-06-16T16:32:41.800548Z",
     "iopub.status.busy": "2023-06-16T16:32:41.799961Z",
     "iopub.status.idle": "2023-06-16T16:32:41.872141Z",
     "shell.execute_reply": "2023-06-16T16:32:41.871395Z"
    },
    "papermill": {
     "duration": 0.100548,
     "end_time": "2023-06-16T16:32:41.874019",
     "exception": false,
     "start_time": "2023-06-16T16:32:41.773471",
     "status": "completed"
    },
    "tags": []
   },
   "outputs": [
    {
     "data": {
      "text/html": [
       "<div>                            <div id=\"f699670e-7a5a-4407-b947-6fc9aced73b6\" class=\"plotly-graph-div\" style=\"height:525px; width:100%;\"></div>            <script type=\"text/javascript\">                require([\"plotly\"], function(Plotly) {                    window.PLOTLYENV=window.PLOTLYENV || {};                                    if (document.getElementById(\"f699670e-7a5a-4407-b947-6fc9aced73b6\")) {                    Plotly.newPlot(                        \"f699670e-7a5a-4407-b947-6fc9aced73b6\",                        [{\"hovertemplate\":\"<b>%{hovertext}</b><br><br>Has title?=0<br>debut_year=%{x}<br>total_wins=%{y}<br>sub_win_ratio=%{marker.size}<extra></extra>\",\"hovertext\":[\"Murilo Santana\",\"Nicholas Meregali\",\"Nick Rodriguez\",\"Otavio Sousa\",\"Pablo Mantovani\",\"Paul Schreiner\",\"Paulo Miyao\",\"Rida Haisam\",\"Roberto Jimenez\",\"Robson Moura\",\"Rodrigo Medeiros\",\"Roosevelt Sousa\",\"Adam Wardzinski\",\"Celso Vinicius\",\"Bruno Frazatto\",\"Craig Jones\",\"Brianna Ste-Marie\",\"Dante Leon\",\"David Terrell\",\"Diego Oliveira\",\"Eddie Bravo\",\"DeAlonzio Jackson\",\"Gabriel Arges\",\"Gabriel Sousa\",\"Gary Tonon\",\"Gianni Grippo\",\"Gilbert Burns\",\"Justin Rader\",\"Keenan Cornelius\",\"Lucas Lepri\",\"Lucas Daniel Barbosa\",\"Matheus Gabriel Barros\",\"Renato Forasieppi Canuto\",\"Ryan Hall\",\"Tye Ruotolo\",\"Tim Spriggs\",\"Patrick Gaudio\",\"Geovanny Martinez\",\"Jared Dopp\",\"Mahamed Aly\",\"Mansher Khera\",\"Abdurakhman Bilarov\",\"AJ Agazarm\",\"Baret Yoshida\",\"Elder Cruz\",\"Fabricio Andrey\",\"Jackson Sousa\",\"James Puopolo\",\"Jake Shields\",\"Joao Miyao\",\"Joao Gabriel Rocha\",\"Jon Blank\",\"Josh Hinger\",\"Joshua Cisneros\",\"Kennedy Maciel\",\"Kyle Boehm\",\"Lachlan Giles\",\"Leonardo Santos\",\"Mason Fowler\",\"Matt Serra\",\"Micael Galvao\",\"Rafael Lovato Jr\",\"Rafaela Guedes\",\"Ricardo Almeida\",\"Ricardo Liborio\",\"Richard Alarcon\",\"Rousimar Palhares\",\"Sam McNally\",\"Sergio Moraes\",\"Tarsis Humpreys\",\"Vagner Rocha\",\"Victor Estima\",\"Victor Hugo\",\"Vinicius Ferreira\",\"Vitor Ribeiro\",\"Max Gimenis\",\"Jeff Glover\",\"Jeremy Skinner\",\"Marcelo Mafra\",\"Nicky Ryan\",\"Aaron Johnson\",\"Rigan Machado\",\"Antonio Braga Neto\",\"Lucas Leite\",\"Victor Honorio\",\"Dillon Danis\",\"Abraham Marte Messina\",\"Antonio Schembri\",\"Amaury Bitetti\",\"Eduardo Telles\",\"Ethan Crelinsten\",\"Jorge Patino\",\"Kendall Reusing\",\"Leonardo Nogueira\",\"Marcio Andre Barbosa Junior\",\"Pedro Marinho\",\"Ricardo Vieira\",\"Cassio Francis\",\"Marcio Corleta\",\"Rodrigo Cavaca\",\"Edward Cummings\",\"Roberto Magalhaes\",\"Gregor Gracie\",\"Flavio Almeida\",\"Beatriz Mesquita\",\"Gabriel Rollo\",\"Vitor Viana\",\"Glover Teixeira\",\"Jessica Oliveira\",\"Ruslam Chsiev\",\"Sean Alvarez\",\"Mark Robinson\",\"Vitor Belfort\",\"Gabriel Napao\",\"John Hansen\",\"A. Cacareco\",\"David Avellan\",\"Eoghan OFlannagan\",\"Ana Carolina Vieira\",\"Garth Taylor\",\"Kareem Barkalev\",\"Sasha Palvski\",\"Kamil Uminski\",\"Rolles Gracie\",\"Eoghan Oflanagan\",\"Egan Inoue\",\"Murilo Bustamante\",\"Rustam Chsiev\",\"Matt Hughes\",\"Sasha Savko\",\"Olav Einemo\",\"Tito Ortiz\",\"Kyle Griffin\",\"Mike Fowler\",\"Mateusz Szczecinski\",\"Nicolas Renier\",\"Oskar Piechota\",\"E. Karpinen\",\"Kuba Witkowski\",\"Gunnar Nelson\",\"Hayato Sakurai\",\"Henrique Cardoso\",\"Andy Varela\",\"Thomas Halpin\",\"Tommy Langaker\",\"Michael Perez\",\"Enrico Cocco\",\"Edwin Najmi\",\"Gabriel Lucas\",\"Jonathan Satava\",\"Keith Krikorian\",\"Leonardo Saggioro\",\"John Combs\",\"Alec Baulding\",\"Ruan Alvarenga\",\"Isaque Bahiense\",\"Gabriel Marangoni\",\"Clark Gracie\",\"Perttu Tepponen\",\"Santeri Lilius\",\"Oliver Taza\",\"Alexandre Vieira\",\"Sergio Ardila-Ibarra\",\"John Salter\",\"Elisabeth Clay\",\"Cole Abate\",\"Alexander Trans\",\"Roberto Alencar\",\"Paul Ardila-Ibarra\",\"Gabriel Almeida\",\"Ross Nicholls\",\"Eldar Rafigaev\",\"Devhonte Johnson\",\"Valdir Araujo Junior\",\"Alexandre Jesus\",\"Eleftheria Christodoulou\",\"Ashley Williams\",\"Yuta Shimada\",\"Kit Dale\",\"Felipe Cesar\",\"Shane Hill-Taylor\",\"Leandro Lo\",\"Joao Costa\",\"Servio Tulio\",\"James Brasco\",\"Jose Mario Queiroga\",\"Gerardi Rinaldi\",\"Antonio Peinado\",\"Shinya Aoki\",\"Christian Moriarty\",\"Ryan Gracie\",\"Talita Alencar\",\"Mark Ramos\",\"Gustavo Dantas\",\"Augusto Ferrari\",\"Radoslaw Turek\",\"Penny Thomas\",\"Amanda Alequin / Santana\",\"Michelle Nicolini\",\"Carlos Machado\",\"Fellipe Andrew\",\"E. Karppinen\",\"Igor Praporschchikov\",\"Tomas Szczerek\",\"Yuji Arai\",\"Janne-Pekka\",\"Daniel Strauss\",\"M. Perez\",\"Elvira Karpinnen\",\"Julia Maele\",\"Ben Dyson\",\"Elvira Karppinen\",\"Magid Hage\",\"M. Szczecinski\",\"Young-Ahm\",\"Akira Shoji\",\"Marko Helen\",\"Yushin Okami\",\"M. Yano\",\"Ilir Lafiti\",\"Nate Marquardt\",\"Andreas Olsen\",\"Jia Jang\",\"Ezra Lenon\",\"Hideki Sekine\",\"Lee Hyoung\",\"Ricardo Mesquita\",\"Hannette Staack\",\"Yurika Nakakura\",\"Tammy Griego\",\"Fernanda Mazelli\",\"Alison Tremblay\",\"Amanda Santana\",\"Talita Treta\",\"Stefanie Egger\",\"Ana Carolina\",\"Carina Santi\",\"Satori Kitaoka\",\"Eoghan OFlanagan\",\"Ben Hodgkinson\",\"Heikki Jussila\",\"Timo-Juhani\",\"Erza Lennon\",\"J. Urholin\",\"Piotr Frechowicz\",\"Erico Cocco\",\"Jason Manly\",\"Andy Wang\",\"Tero Pyylampi\",\"Gamrot Mateusz\",\"Osman Kasimov\",\"Kethe Engen\",\"Bia Mesquita\",\"Rodrigo Dib\",\"Josh Hayden\",\"Caol Uno\",\"Peter Angerer\",\"F. Vasconcelos\",\"Urija Faber\",\"Jimmy Freidrich\",\"A. Zhanpeisov\",\"Y. Takahito\",\"Tetsu Suzuki\",\"Jeff Curran\",\"Tetsu Hadario\",\"J. Pietkainen\",\"Zbigniew Tyszka\",\"Hideki Shrek\",\"Elliot Marshal\",\"Luke Griffith\",\"Kamil Wilk\",\"Jesseray Childrey\",\"Amir Allam\",\"Abdulaev Ruslan\",\"Eliott Kelly\",\"Jon Hansen\",\"Yousef Elzien\",\"Ricardo Moraes\",\"Firas Nakdali\",\"Rocky Batastini\",\"Kim Mason\",\"Carlos Barreto\",\"Y. Yatso\",\"Halm Gocalli\",\"Y. Ozawa\",\"Juskowiak Mateusz\",\"Trevor Lally\",\"Marc\",\"Robin Gracie\",\"T. Hirono\",\"Sasha Plavski\",\"Joe Gilbert\",\"Y. Kinishi\",\"K. Hirate\",\"Joaquim Hansen\",\"Erik Paulson\",\"Michael Groth\",\"Jamal Peterson\",\"John Einimo\",\"Antoine Joude\",\"Yukissyu Ozawa\",\"Tim Carpenter\",\"Ilir Latifi\",\"Lucio Lagarto\",\"Yukiyasu Ozawa\",\"T. Pyylampi\",\"Wellington Dias\",\"Akira Shouji\",\"Chris Bright\",\"Mark Bocek\",\"Kassim Anan\",\"Chris Weidman\",\"Tom Bass\",\"Don Ortega\",\"Shinzo Ansai\",\"Akihiro Gono\",\"Alexander Savko\",\"Nicholas Renier\",\"N. Uematsu\",\"Mike Mrkulic\",\"Eddie Sanchez\",\"Yoshitomi Mishima\",\"Tetsu Suzuko\",\"Rikako Yuasa\",\"Nicollas Renier\",\"T. Kosaka\",\"Jehad Hamdan\",\"Mike Van\",\"Matt Lindland\",\"Denis Roberts\",\"Daniel Simoes\",\"Reese Andy\",\"Mario Rinaldi\",\"Elvis Sinosic\",\"Darren Andy\",\"Rogent Lorent\",\"Tomasz Janiszewski\",\"Jimmy Friedrich\",\"Josh Saunders\",\"Paulo Pinto\",\"Diego Sanchez\",\"Cameron Earle\",\"Micah Pittman\",\"Mikey Burnet\",\"Serguei Onishuk\",\"Y. Kohsaka\",\"Jamie Ballard\",\"Daniel Hortegas\",\"James Poupolo\",\"Liu Wen\",\"Tomasz Narkun\",\"Michael Wilson\",\"Jason Lees\",\"Eduardo Rios\",\"Fabio Gurgel\",\"Karl Webber\",\"Egan Inoe\",\"Take Hanai\",\"Muhammad Saleh\",\"Larry Parker\",\"Renato Verissimo\",\"Oleg Taktarov\",\"Simon Siasi\",\"Enson Inoe\",\"Keita Iwamoto\",\"Owen Livesey\",\"Giovanna Jara\",\"Cristiano Lazzarini\",\"R. Alvarenga\",\"Alian Drueco\",\"Mikael Knutsson\",\"George St\",\"Yoshiyuki Yoshida\",\"Morris Clifoni\",\"Allan Teo\",\"T. Suzuki\",\"Joey Gilbert\",\"Rob Di\",\"D. Marinakis\",\"Sotaro Yamada\",\"Rodney Ellis\",\"Bruno Bastos\",\"Marcos Oliveira\",\"Anthony Perosh\",\"Kiuma Kunioku\",\"Mario Miranda\",\"George Sotiropoulos\",\"Kurt Pellegrino\",\"Keita Nakamura\",\"Robert Sabaruddin\",\"Van Arsdale\",\"Mike Whitehead\",\"Alex Negao\",\"Miodrag Petkovic\",\"J. Pietlainen\",\"Takanori Gomi\",\"Thomas DeBlass\",\"Jorge Britto\",\"Keller Sodhi\",\"Youngnam Noh\",\"Ben Henderson\",\"Kitner Mendoga\",\"H. Sekine\",\"Mateusz Juskowiak\",\"E. Elgland\",\"Eric Dahlberg\",\"Ben Askren\",\"Doorwang Jeon\",\"Janus Andrejczuk\",\"Kenta Iwamoto\",\"Wagnney Fabiano\",\"Jacob Rodriguez\",\"Tom Lawlor\",\"Jeon Doo\",\"Shinsho Anzai\",\"Hidemi Mihara\",\"Abdulkadirov Magomed\",\"Perttu Terpponnen\",\"Teemu Launis\",\"Mario Delgado\",\"Darrel Moodley\",\"Kouhei Yasumi\",\"Frank Trigg\",\"Rodrigo Modrias\",\"Fabiano Iha\",\"Israel Albuquerque\",\"Chris Brown\",\"G. Sotiropoulos\",\"Josh Barnet\",\"Y. Setsenko\",\"Marshurenko\",\"M. Van\",\"Andy Reese\",\"R. Babalu\",\"Roger Neff\",\"Luis Orlando\",\"Toshiyuki Oyama\",\"Yuta Sasaki\",\"Travis Lutter\",\"Jerry Bolander\",\"Pete Williams\",\"Yuki Ozawa\",\"Asa Fuller\",\"Sekine Hideki\",\"Mike Martelle\",\"Kamil Huminski\",\"Khazmat Stambulov\",\"Jurie Rachel\",\"Luis Roberto\",\"Hiroyuko Abe\",\"Joe Guilbert\",\"Greger Forsel\",\"Joseph Lee\",\"Adrian Serrano\",\"Carlos Newton\",\"Ahmad Faraj\",\"Gavin Kulper\",\"Nathan Marquardt\",\"Justin Garcia\",\"Jon Einemo\",\"Travers Grubb\",\"Kim Dong\",\"C. Jones\",\"Nieman Gracie\",\"David Bielkheden\",\"Dennis Hallman\",\"Joao Roque\",\"James Harbison\",\"Dan Schon\",\"Juan Valles\",\"Melchor M.\",\"A. Hamlet\",\"Martin Brown\",\"Mike Cardosa\",\"Charles Pearson\",\"Hiroshi Nakamura\",\"Joel Tudor\",\"David Marinakis\",\"Tezekbaev Rasul\",\"U. Zhakshylyk\",\"Vernon White\",\"Dave Menne\",\"R. Anderson\",\"T. Yano\",\"Yuki Sasaki\",\"L. Papadopoulis\",\"Kouji Kanechika\",\"Jorge Santiago\",\"I. Praporshchikov\",\"Jose Junior\",\"Milton Vieira\",\"Isaak Michel\",\"Sanshiro Nakamura\",\"Chris Wideman\",\"Luke Costello\",\"Wang Yan\",\"P. Ardilla\",\"Rumina Sato\",\"Fernando Vieira\",\"Hanette Staack\",\"Jessica Flowers\",\"Akira Soji\",\"Otto Olsen\",\"Renan Sancar\",\"Mateusz Garmot\",\"Kaynan D.\",\"Jayson Patino\",\"Mraz Avdoyan\",\"Rodrigo Minotauro\",\"Tobias G\",\"Kari Petola\",\"Adele Fornarino\",\"Ryan Harvey\",\"Tom Barlow\",\"Janne Pietilainen\",\"Ricardo Alves\",\"Sim Go\",\"Jason White\",\"Damon Ramos\",\"Roan Jucao\",\"Bruno Chavez\",\"Luis Brito\",\"Fan Yi\",\"H. Kanehara\",\"R. Mashurenko\",\"Tamura\",\"Hudson Taylor\",\"F. Capoane\",\"Adam Sachnoff\",\"Genki Sudo\",\"Robert Sulski\",\"J. Wakabayashi\",\"D. Hemmings\",\"Takefuni Hanai\",\"Dan Manasoiu\",\"Livia Giles\",\"Roman Dolidze\",\"Hector Lombard\",\"Asadulaev Surkhay\",\"Marcio Cromado\",\"Bob Schirmer\",\"Chris Brennan\",\"Gao Hua\",\"Mourat Ozov\",\"Rodrigo Artilheiro\",\"K. Toida\",\"Davis Heart\",\"Davion Peterson\",\"Manu Garcia\",\"Dan Martinez\",\"Jason Brudvik\",\"Jason Ramsterrer\",\"Jesse Urholin\",\"Amanda Leve\",\"Rodrigo Caporal\",\"William Tackett\",\"Mayssa Bastos\"],\"legendgroup\":\"0\",\"marker\":{\"color\":\"#636efa\",\"size\":[0.1818181818181818,0.125,0.1,0.375,0.0,0.0,0.0,0.3333333333333333,0.3333333333333333,0.125,0.0,0.3333333333333333,0.0,0.0,0.1428571428571428,0.5714285714285714,0.0,0.25,0.25,0.5,0.6666666666666666,0.0,0.0,0.25,0.2777777777777778,0.0,0.25,0.0,0.25,0.0833333333333333,0.0,0.0,0.0,0.0,0.125,0.3333333333333333,0.0,0.125,0.0666666666666666,0.0909090909090909,0.0,0.0,0.0,0.4090909090909091,0.0,0.0,0.0,0.0,0.2,0.5,0.0666666666666666,0.2,0.3333333333333333,0.25,0.5,0.0,0.3333333333333333,0.1,0.25,0.5,0.25,0.2692307692307692,0.0,0.3684210526315789,0.2,0.0,0.75,0.0,0.25,0.25,0.1176470588235294,0.0,0.1666666666666666,0.0,0.1428571428571428,0.3333333333333333,0.3636363636363636,0.0,0.0,0.0,0.3333333333333333,0.0,0.25,0.0,0.25,0.25,0.5,0.5,0.0,0.3333333333333333,0.3333333333333333,0.0,0.5,0.2,0.0,0.0,0.5,0.5,0.5,0.0,0.5,0.0,0.0,0.0,0.25,0.0,1.0,0.0,0.0,0.0,0.0,0.0,0.0,0.25,0.0,0.2307692307692307,0.1818181818181818,0.0,1.0,0.0,0.0,0.0,0.3333333333333333,0.0,1.0,0.0,0.0,0.0,0.0,0.0,0.0,0.0,0.0,0.3333333333333333,1.0,0.0,0.3333333333333333,0.0,0.0,0.0,0.3333333333333333,0.0,0.0,0.0,0.0,0.0,0.0,0.0,0.0,0.0,0.0,0.0,0.0,0.0,0.0,0.0,0.0,0.0,0.0,0.0,0.0,0.0,0.0,0.0,0.0,0.0,0.0,0.0,0.0,0.0,0.0,0.0,0.0,0.0,0.0,0.0,0.0,0.0,0.0,0.0,0.0,0.0,0.0,0.0,0.0,0.0,0.0,0.0,0.0,0.0,0.0,0.0,0.0,0.0,0.0,0.0,0.0,0.0,0.0,0.0,0.0,0.0,0.0,0.0,0.0,0.0,0.0,0.0,0.0,0.0,0.0,0.0,0.0,0.0,0.0,0.0,0.0,0.0,0.0,0.0,0.0,0.0,0.0,0.0,0.0,0.0,0.0,0.0,0.0,0.0,0.0,0.0,0.0,0.0,0.0,0.0,0.0,0.0,0.0,0.0,0.0,0.0,0.0,0.0,0.0,0.0,0.0,0.0,0.0,0.0,0.0,0.0,0.0,0.0,0.0,0.0,0.0,0.0,0.0,0.0,0.0,0.0,0.0,0.0,0.0,0.0,0.0,0.0,0.0,0.0,0.0,0.0,0.0,0.0,0.0,0.0,0.0,0.0,0.0,0.0,0.0,0.0,0.0,0.0,0.0,0.0,0.0,0.0,0.0,0.0,0.0,0.0,0.0,0.0,0.0,0.0,0.0,0.0,0.0,0.0,0.0,0.0,0.0,0.0,0.0,0.0,0.0,0.0,0.0,0.0,0.0,0.0,0.0,0.0,0.0,0.0,0.0,0.0,0.0,0.0,0.0,0.0,0.0,0.0,0.0,0.0,0.0,0.0,0.0,0.0,0.0,0.0,0.0,0.0,0.0,0.0,0.0,0.0,0.0,0.0,0.0,0.0,0.0,0.0,0.0,0.0,0.0,0.0,0.0,0.0,0.0,0.0,0.0,0.0,0.0,0.0,0.0,0.0,0.0,0.0,0.0,0.0,0.0,0.0,0.0,0.0,0.0,0.0,0.0,0.0,0.0,0.0,0.0,0.0,0.0,0.0,0.0,0.0,0.0,0.0,0.0,0.0,0.0,0.0,0.0,0.0,0.0,0.0,0.0,0.0,0.0,0.0,0.0,0.0,0.0,0.0,0.0,0.0,0.0,0.0,0.0,0.0,0.0,0.0,0.0,0.0,0.0,0.0,0.0,0.0,0.0,0.0,0.0,0.0,0.0,0.0,0.0,0.0,0.0,0.0,0.0,0.0,0.0,0.0,0.0,0.0,0.0,0.0,0.0,0.0,0.0,0.0,0.0,0.0,0.0,0.0,0.0,0.0,0.0,0.0,0.0,0.0,0.0,0.0,0.0,0.0,0.0,0.0,0.0,0.0,0.0,0.0,0.0,0.0,0.0,0.0,0.0,0.0,0.0,0.0,0.0,0.0,0.0,0.0,0.0,0.0,0.0,0.0,0.0,0.0,0.0,0.0,0.0,0.0,0.0,0.0,0.0,0.0,0.0,0.0,0.0,0.0,0.0,0.0,0.0,0.0,0.0,0.0,0.0,0.0,0.0,0.0,0.0,0.0,0.0,0.0,0.0,0.0,0.0,0.0,0.0,0.0,0.0,0.0,0.0,0.0,0.0,0.0,0.0,0.0,0.0,0.0,0.0,0.0,0.0,0.0,0.0,0.0,0.0,0.0,0.0,0.0,0.0,0.0,0.0,0.0,0.0,0.0,0.0,0.0,0.0,0.0,0.0,0.0,0.0,0.0,0.0,0.0,0.0,0.0,0.0,0.0,0.0,0.0,0.0,0.0,0.0,0.0,0.0,0.0,0.0,0.0,0.0,0.0,0.0,0.0,0.0],\"sizemode\":\"area\",\"sizeref\":0.0025,\"symbol\":\"circle\"},\"mode\":\"markers\",\"name\":\"No\",\"orientation\":\"v\",\"showlegend\":true,\"x\":[2009,2022,2019,2013,2017,2022,2017,2022,2022,2001,2000,2022,2019,2017,2011,2017,2022,2019,2003,2022,2003,2013,2019,2022,2013,2015,2015,2009,2013,2013,2019,2019,2019,2009,2019,2017,2019,2015,2013,2017,2017,2017,2013,1999,2022,2022,2017,2013,2005,2013,2013,2019,2019,2022,2019,2022,2015,2001,2019,2001,2022,2007,2022,1999,1999,2019,2011,2022,2011,2007,2011,2011,2019,2019,2000,2019,2007,2022,2017,2017,2019,1999,2011,2013,2017,2015,2015,2001,1999,2005,2017,2000,2022,2013,2013,2019,2013,2015,2005,2009,2015,2000,2009,2007,2019,2015,2005,2009,2015,2017,1998,2001,2001,2005,2019,2001,2005,2022,2019,1999,1998,1999,2013,2007,2022,1999,1999,2013,2000,1999,2001,2000,2011,2007,2022,2011,2013,2017,2017,2009,1999,2022,2022,2019,2022,2019,2011,2019,2015,2019,2019,2017,2019,2019,2022,2022,2015,2011,2019,2022,2017,2015,2017,2017,2022,2022,2011,2015,2017,2019,2019,2019,2022,2019,2022,2022,2022,2017,2017,2017,2019,2017,2022,2019,2009,2000,2009,2011,2005,2007,2003,2017,2011,2001,2011,2009,2011,2017,2015,2000,2019,2017,2011,2007,2009,2009,2011,2015,2019,2022,2019,2022,2022,2022,2015,2003,2005,2007,2001,2003,2003,2009,2013,2013,2013,2015,2015,2011,2013,2013,2013,2015,2015,2017,2019,2019,2019,2013,2022,2019,2022,2009,2013,2015,2017,2009,2011,2013,2013,2015,2017,2015,2015,2022,2013,1999,2001,2001,2005,2013,2017,2013,2013,2009,2011,2017,2011,2015,2019,2022,2017,2017,2013,2017,2017,2019,1998,1998,1998,1999,1999,2000,2001,2005,2017,2015,1998,1998,1998,1999,2000,2000,2001,2003,2003,2003,2005,2005,2005,2005,2007,2007,2009,2011,2015,2017,1999,1999,2007,2007,2009,2009,2009,2009,2011,1999,2001,2015,2001,2003,2007,2007,2007,2019,2017,2003,2003,2003,2003,2005,2005,2005,2007,2007,2007,2009,2009,2015,2022,2019,2005,2005,1999,2000,2001,2001,2007,2015,2011,2013,2013,2013,2015,2013,2013,2000,2000,2005,1998,1998,1998,1998,1998,1999,2022,2022,2022,2007,2019,2013,2013,2005,2009,2001,2003,2005,2005,2005,2009,2013,2009,2009,2007,2009,2003,2007,2007,2007,2009,2013,2001,2003,2003,2005,2007,2001,2009,2011,2019,2013,2013,2013,2017,2019,2017,2007,2009,2013,2017,2019,2005,2022,2009,2011,2013,2015,2015,2022,2003,2005,2007,2009,1998,1998,1998,2000,2001,2003,2000,2001,2001,2001,2003,2001,2001,1999,2000,2013,2000,1999,2000,2003,2009,2011,2013,2013,2017,1999,1999,2001,2001,2011,2011,1998,1998,1998,2001,2003,2005,2007,2007,2013,2015,2015,2005,2000,1999,2011,2011,1999,1999,2000,2001,2001,2003,2009,2009,2011,2015,2017,1999,2000,2001,2000,2003,2005,2009,2007,2009,2011,2015,2022,2011,2009,2011,2013,2015,2000,2003,2011,2017,2003,2003,2015,2019,2017,2009,2019,2000,2015,2011,2022,1999,2011,2013,1998,2007,2005,2022,2005,2007,1998,1999,2000,2001,2001,2019,1999,2015,2001,2005,2000,2013,2007,2022,2019,2017,2015,2015,2000,2000,2005,1999,1999,2015,2003,2011,2003,2000,2019,2005,2003,2017,2019,2013,2022,2022],\"xaxis\":\"x\",\"y\":[5.0,6.0,7.0,5.0,3.0,2.0,6.0,1.0,1.0,5.0,3.0,2.0,1.0,2.0,3.0,9.0,2.0,5.0,3.0,3.0,2.0,2.0,1.0,3.0,8.0,1.0,3.0,5.0,12.0,8.0,5.0,1.0,2.0,3.0,4.0,3.0,2.0,3.0,8.0,5.0,1.0,1.0,4.0,11.0,1.0,1.0,4.0,1.0,3.0,2.0,9.0,2.0,4.0,2.0,4.0,1.0,3.0,5.0,2.0,3.0,3.0,14.0,2.0,12.0,7.0,1.0,3.0,1.0,2.0,5.0,11.0,2.0,3.0,4.0,4.0,1.0,6.0,1.0,1.0,1.0,1.0,5.0,1.0,1.0,2.0,1.0,1.0,3.0,1.0,1.0,1.0,3.0,1.0,3.0,1.0,1.0,1.0,1.0,1.0,1.0,1.0,1.0,2.0,1.0,2.0,1.0,1.0,1.0,1.0,1.0,2.0,1.0,1.0,3.0,2.0,5.0,4.0,1.0,1.0,1.0,1.0,1.0,1.0,1.0,1.0,2.0,1.0,2.0,1.0,1.0,2.0,1.0,1.0,1.0,1.0,1.0,1.0,1.0,1.0,1.0,1.0,0.0,0.0,0.0,0.0,0.0,0.0,0.0,0.0,0.0,0.0,0.0,0.0,0.0,0.0,0.0,0.0,0.0,0.0,0.0,0.0,0.0,0.0,0.0,0.0,0.0,0.0,0.0,0.0,0.0,0.0,0.0,0.0,0.0,0.0,0.0,0.0,0.0,0.0,0.0,0.0,0.0,0.0,0.0,0.0,0.0,0.0,0.0,0.0,0.0,0.0,0.0,0.0,0.0,0.0,0.0,0.0,0.0,0.0,0.0,0.0,0.0,0.0,0.0,0.0,0.0,0.0,0.0,0.0,0.0,0.0,0.0,0.0,0.0,0.0,0.0,0.0,0.0,0.0,0.0,0.0,0.0,0.0,0.0,0.0,0.0,0.0,0.0,0.0,0.0,0.0,0.0,0.0,0.0,0.0,0.0,0.0,0.0,0.0,0.0,0.0,0.0,0.0,0.0,0.0,0.0,0.0,0.0,0.0,0.0,0.0,0.0,0.0,0.0,0.0,0.0,0.0,0.0,0.0,0.0,0.0,0.0,0.0,0.0,0.0,0.0,0.0,0.0,0.0,0.0,0.0,0.0,0.0,0.0,0.0,0.0,0.0,0.0,0.0,0.0,0.0,0.0,0.0,0.0,0.0,0.0,0.0,0.0,0.0,0.0,0.0,0.0,0.0,0.0,0.0,0.0,0.0,0.0,0.0,0.0,0.0,0.0,0.0,0.0,0.0,0.0,0.0,0.0,0.0,0.0,0.0,0.0,0.0,0.0,0.0,0.0,0.0,0.0,0.0,0.0,0.0,0.0,0.0,0.0,0.0,0.0,0.0,0.0,0.0,0.0,0.0,0.0,0.0,0.0,0.0,0.0,0.0,0.0,0.0,0.0,0.0,0.0,0.0,0.0,0.0,0.0,0.0,0.0,0.0,0.0,0.0,0.0,0.0,0.0,0.0,0.0,0.0,0.0,0.0,0.0,0.0,0.0,0.0,0.0,0.0,0.0,0.0,0.0,0.0,0.0,0.0,0.0,0.0,0.0,0.0,0.0,0.0,0.0,0.0,0.0,0.0,0.0,0.0,0.0,0.0,0.0,0.0,0.0,0.0,0.0,0.0,0.0,0.0,0.0,0.0,0.0,0.0,0.0,0.0,0.0,0.0,0.0,0.0,0.0,0.0,0.0,0.0,0.0,0.0,0.0,0.0,0.0,0.0,0.0,0.0,0.0,0.0,0.0,0.0,0.0,0.0,0.0,0.0,0.0,0.0,0.0,0.0,0.0,0.0,0.0,0.0,0.0,0.0,0.0,0.0,0.0,0.0,0.0,0.0,0.0,0.0,0.0,0.0,0.0,0.0,0.0,0.0,0.0,0.0,0.0,0.0,0.0,0.0,0.0,0.0,0.0,0.0,0.0,0.0,0.0,0.0,0.0,0.0,0.0,0.0,0.0,0.0,0.0,0.0,0.0,0.0,0.0,0.0,0.0,0.0,0.0,0.0,0.0,0.0,0.0,0.0,0.0,0.0,0.0,0.0,0.0,0.0,0.0,0.0,0.0,0.0,0.0,0.0,0.0,0.0,0.0,0.0,0.0,0.0,0.0,0.0,0.0,0.0,0.0,0.0,0.0,0.0,0.0,0.0,0.0,0.0,0.0,0.0,0.0,0.0,0.0,0.0,0.0,0.0,0.0,0.0,0.0,0.0,0.0,0.0,0.0,0.0,0.0,0.0,0.0,0.0,0.0,0.0,0.0,0.0,0.0,0.0,0.0,0.0,0.0,0.0,0.0,0.0,0.0,0.0,0.0,0.0,0.0,0.0,0.0,0.0,0.0,0.0,0.0,0.0,0.0,0.0],\"yaxis\":\"y\",\"type\":\"scatter\"},{\"hovertemplate\":\"<b>%{hovertext}</b><br><br>Has title?=1<br>debut_year=%{x}<br>total_wins=%{y}<br>sub_win_ratio=%{marker.size}<extra></extra>\",\"hovertext\":[\"Orlando Sanchez\",\"Pablo Popovitch\",\"Roberto Abreu\",\"Rodolfo Vieira\",\"Roger Gracie\",\"Romulo Barral\",\"Ronaldo Souza\",\"Braulio Estima\",\"Claudio Calasans\",\"Davi Ramos\",\"Demian Maia\",\"Diogo Reis\",\"Dean Lister\",\"Giancarlo Bodoni\",\"Gordon Ryan\",\"Kron Gracie\",\"Matheus Diniz\",\"Marcio Feitosa\",\"Marcus Almeida\",\"Rafael Mendes\",\"Yuri Simoes\",\"Alexandre Ribeiro\",\"Amy Campo\",\"Andre Galvao\",\"Augusto Mendes\",\"Fabricio Werdum\",\"Ffion Davies\",\"Felipe Pena\",\"Jean Jacques Machado\",\"Joao Assis\",\"Jose Mario Sperry\",\"Jonathan Torres\",\"Kade Ruotolo\",\"Kaynan Duarte\",\"Leonardo Vieira\",\"Marcelo Garcia\",\"Marcio Cruz\",\"Rany Yahya\",\"Renzo Gracie\",\"Ricardo Arona\",\"Royler Gracie\",\"Rubens Charles\",\"Saulo Ribeiro\",\"Vinicius Magalhaes\",\"Bianca Basilio\",\"Gabrielle Garcia\",\"Mackenzie Dern\",\"Ricco Rodriguez\",\"Alexandre de Freitas\",\"Roberto Traven\",\"Rodrigo Gracie\",\"Bianca Mesquita\",\"Mark Kerr\",\"Robert Drysdale\",\"Jeff Monson\",\"Chael Sonnen\",\"Sanae Kikuta\"],\"legendgroup\":\"1\",\"marker\":{\"color\":\"#EF553B\",\"size\":[0.1538461538461538,0.1153846153846153,0.1034482758620689,0.4,0.6153846153846154,0.3333333333333333,0.4285714285714285,0.5,0.1666666666666666,0.75,0.125,0.0,0.5714285714285714,0.6666666666666666,0.7142857142857143,0.7,0.0,0.0909090909090909,0.3636363636363636,0.5,0.1052631578947368,0.3023255813953488,0.0,0.1851851851851851,0.2307692307692307,0.3076923076923077,0.3333333333333333,0.2222222222222222,0.6,0.3571428571428571,0.2727272727272727,0.0666666666666666,1.0,0.1111111111111111,0.2,0.71875,0.2272727272727272,0.3846153846153846,0.2,0.1538461538461538,0.3333333333333333,0.35,0.1333333333333333,0.3793103448275862,0.3333333333333333,0.4375,0.25,0.2916666666666667,0.4736842105263157,0.1428571428571428,0.375,1.0,0.0,0.5,0.0,0.0,0.0],\"sizemode\":\"area\",\"sizeref\":0.0025,\"symbol\":\"circle\"},\"mode\":\"markers\",\"name\":\"Title winner\",\"orientation\":\"v\",\"showlegend\":true,\"x\":[2013,2003,2009,2011,2003,2007,2003,2005,2011,2015,2005,2022,2001,2022,2017,2009,2019,2000,2013,2009,2015,2003,2022,2007,2011,2003,2019,2015,1999,2011,1998,2011,2022,2019,2000,2003,2001,2003,1998,2000,1999,2009,1999,1999,2017,2011,2015,1998,1998,1999,1998,2017,2000,2007,1999,2017,1999],\"xaxis\":\"x\",\"y\":[9.0,19.0,20.0,8.0,12.0,10.0,11.0,12.0,7.0,4.0,7.0,4.0,19.0,5.0,20.0,8.0,5.0,8.0,18.0,11.0,16.0,30.0,3.0,22.0,9.0,20.0,5.0,13.0,11.0,10.0,9.0,12.0,4.0,8.0,21.0,27.0,15.0,10.0,11.0,13.0,14.0,18.0,22.0,19.0,6.0,14.0,3.0,15.0,13.0,5.0,6.0,1.0,5.0,2.0,6.0,1.0,1.0],\"yaxis\":\"y\",\"type\":\"scatter\"}],                        {\"template\":{\"data\":{\"histogram2dcontour\":[{\"type\":\"histogram2dcontour\",\"colorbar\":{\"outlinewidth\":0,\"ticks\":\"\"},\"colorscale\":[[0.0,\"#0d0887\"],[0.1111111111111111,\"#46039f\"],[0.2222222222222222,\"#7201a8\"],[0.3333333333333333,\"#9c179e\"],[0.4444444444444444,\"#bd3786\"],[0.5555555555555556,\"#d8576b\"],[0.6666666666666666,\"#ed7953\"],[0.7777777777777778,\"#fb9f3a\"],[0.8888888888888888,\"#fdca26\"],[1.0,\"#f0f921\"]]}],\"choropleth\":[{\"type\":\"choropleth\",\"colorbar\":{\"outlinewidth\":0,\"ticks\":\"\"}}],\"histogram2d\":[{\"type\":\"histogram2d\",\"colorbar\":{\"outlinewidth\":0,\"ticks\":\"\"},\"colorscale\":[[0.0,\"#0d0887\"],[0.1111111111111111,\"#46039f\"],[0.2222222222222222,\"#7201a8\"],[0.3333333333333333,\"#9c179e\"],[0.4444444444444444,\"#bd3786\"],[0.5555555555555556,\"#d8576b\"],[0.6666666666666666,\"#ed7953\"],[0.7777777777777778,\"#fb9f3a\"],[0.8888888888888888,\"#fdca26\"],[1.0,\"#f0f921\"]]}],\"heatmap\":[{\"type\":\"heatmap\",\"colorbar\":{\"outlinewidth\":0,\"ticks\":\"\"},\"colorscale\":[[0.0,\"#0d0887\"],[0.1111111111111111,\"#46039f\"],[0.2222222222222222,\"#7201a8\"],[0.3333333333333333,\"#9c179e\"],[0.4444444444444444,\"#bd3786\"],[0.5555555555555556,\"#d8576b\"],[0.6666666666666666,\"#ed7953\"],[0.7777777777777778,\"#fb9f3a\"],[0.8888888888888888,\"#fdca26\"],[1.0,\"#f0f921\"]]}],\"heatmapgl\":[{\"type\":\"heatmapgl\",\"colorbar\":{\"outlinewidth\":0,\"ticks\":\"\"},\"colorscale\":[[0.0,\"#0d0887\"],[0.1111111111111111,\"#46039f\"],[0.2222222222222222,\"#7201a8\"],[0.3333333333333333,\"#9c179e\"],[0.4444444444444444,\"#bd3786\"],[0.5555555555555556,\"#d8576b\"],[0.6666666666666666,\"#ed7953\"],[0.7777777777777778,\"#fb9f3a\"],[0.8888888888888888,\"#fdca26\"],[1.0,\"#f0f921\"]]}],\"contourcarpet\":[{\"type\":\"contourcarpet\",\"colorbar\":{\"outlinewidth\":0,\"ticks\":\"\"}}],\"contour\":[{\"type\":\"contour\",\"colorbar\":{\"outlinewidth\":0,\"ticks\":\"\"},\"colorscale\":[[0.0,\"#0d0887\"],[0.1111111111111111,\"#46039f\"],[0.2222222222222222,\"#7201a8\"],[0.3333333333333333,\"#9c179e\"],[0.4444444444444444,\"#bd3786\"],[0.5555555555555556,\"#d8576b\"],[0.6666666666666666,\"#ed7953\"],[0.7777777777777778,\"#fb9f3a\"],[0.8888888888888888,\"#fdca26\"],[1.0,\"#f0f921\"]]}],\"surface\":[{\"type\":\"surface\",\"colorbar\":{\"outlinewidth\":0,\"ticks\":\"\"},\"colorscale\":[[0.0,\"#0d0887\"],[0.1111111111111111,\"#46039f\"],[0.2222222222222222,\"#7201a8\"],[0.3333333333333333,\"#9c179e\"],[0.4444444444444444,\"#bd3786\"],[0.5555555555555556,\"#d8576b\"],[0.6666666666666666,\"#ed7953\"],[0.7777777777777778,\"#fb9f3a\"],[0.8888888888888888,\"#fdca26\"],[1.0,\"#f0f921\"]]}],\"mesh3d\":[{\"type\":\"mesh3d\",\"colorbar\":{\"outlinewidth\":0,\"ticks\":\"\"}}],\"scatter\":[{\"fillpattern\":{\"fillmode\":\"overlay\",\"size\":10,\"solidity\":0.2},\"type\":\"scatter\"}],\"parcoords\":[{\"type\":\"parcoords\",\"line\":{\"colorbar\":{\"outlinewidth\":0,\"ticks\":\"\"}}}],\"scatterpolargl\":[{\"type\":\"scatterpolargl\",\"marker\":{\"colorbar\":{\"outlinewidth\":0,\"ticks\":\"\"}}}],\"bar\":[{\"error_x\":{\"color\":\"#2a3f5f\"},\"error_y\":{\"color\":\"#2a3f5f\"},\"marker\":{\"line\":{\"color\":\"#E5ECF6\",\"width\":0.5},\"pattern\":{\"fillmode\":\"overlay\",\"size\":10,\"solidity\":0.2}},\"type\":\"bar\"}],\"scattergeo\":[{\"type\":\"scattergeo\",\"marker\":{\"colorbar\":{\"outlinewidth\":0,\"ticks\":\"\"}}}],\"scatterpolar\":[{\"type\":\"scatterpolar\",\"marker\":{\"colorbar\":{\"outlinewidth\":0,\"ticks\":\"\"}}}],\"histogram\":[{\"marker\":{\"pattern\":{\"fillmode\":\"overlay\",\"size\":10,\"solidity\":0.2}},\"type\":\"histogram\"}],\"scattergl\":[{\"type\":\"scattergl\",\"marker\":{\"colorbar\":{\"outlinewidth\":0,\"ticks\":\"\"}}}],\"scatter3d\":[{\"type\":\"scatter3d\",\"line\":{\"colorbar\":{\"outlinewidth\":0,\"ticks\":\"\"}},\"marker\":{\"colorbar\":{\"outlinewidth\":0,\"ticks\":\"\"}}}],\"scattermapbox\":[{\"type\":\"scattermapbox\",\"marker\":{\"colorbar\":{\"outlinewidth\":0,\"ticks\":\"\"}}}],\"scatterternary\":[{\"type\":\"scatterternary\",\"marker\":{\"colorbar\":{\"outlinewidth\":0,\"ticks\":\"\"}}}],\"scattercarpet\":[{\"type\":\"scattercarpet\",\"marker\":{\"colorbar\":{\"outlinewidth\":0,\"ticks\":\"\"}}}],\"carpet\":[{\"aaxis\":{\"endlinecolor\":\"#2a3f5f\",\"gridcolor\":\"white\",\"linecolor\":\"white\",\"minorgridcolor\":\"white\",\"startlinecolor\":\"#2a3f5f\"},\"baxis\":{\"endlinecolor\":\"#2a3f5f\",\"gridcolor\":\"white\",\"linecolor\":\"white\",\"minorgridcolor\":\"white\",\"startlinecolor\":\"#2a3f5f\"},\"type\":\"carpet\"}],\"table\":[{\"cells\":{\"fill\":{\"color\":\"#EBF0F8\"},\"line\":{\"color\":\"white\"}},\"header\":{\"fill\":{\"color\":\"#C8D4E3\"},\"line\":{\"color\":\"white\"}},\"type\":\"table\"}],\"barpolar\":[{\"marker\":{\"line\":{\"color\":\"#E5ECF6\",\"width\":0.5},\"pattern\":{\"fillmode\":\"overlay\",\"size\":10,\"solidity\":0.2}},\"type\":\"barpolar\"}],\"pie\":[{\"automargin\":true,\"type\":\"pie\"}]},\"layout\":{\"autotypenumbers\":\"strict\",\"colorway\":[\"#636efa\",\"#EF553B\",\"#00cc96\",\"#ab63fa\",\"#FFA15A\",\"#19d3f3\",\"#FF6692\",\"#B6E880\",\"#FF97FF\",\"#FECB52\"],\"font\":{\"color\":\"#2a3f5f\"},\"hovermode\":\"closest\",\"hoverlabel\":{\"align\":\"left\"},\"paper_bgcolor\":\"white\",\"plot_bgcolor\":\"#E5ECF6\",\"polar\":{\"bgcolor\":\"#E5ECF6\",\"angularaxis\":{\"gridcolor\":\"white\",\"linecolor\":\"white\",\"ticks\":\"\"},\"radialaxis\":{\"gridcolor\":\"white\",\"linecolor\":\"white\",\"ticks\":\"\"}},\"ternary\":{\"bgcolor\":\"#E5ECF6\",\"aaxis\":{\"gridcolor\":\"white\",\"linecolor\":\"white\",\"ticks\":\"\"},\"baxis\":{\"gridcolor\":\"white\",\"linecolor\":\"white\",\"ticks\":\"\"},\"caxis\":{\"gridcolor\":\"white\",\"linecolor\":\"white\",\"ticks\":\"\"}},\"coloraxis\":{\"colorbar\":{\"outlinewidth\":0,\"ticks\":\"\"}},\"colorscale\":{\"sequential\":[[0.0,\"#0d0887\"],[0.1111111111111111,\"#46039f\"],[0.2222222222222222,\"#7201a8\"],[0.3333333333333333,\"#9c179e\"],[0.4444444444444444,\"#bd3786\"],[0.5555555555555556,\"#d8576b\"],[0.6666666666666666,\"#ed7953\"],[0.7777777777777778,\"#fb9f3a\"],[0.8888888888888888,\"#fdca26\"],[1.0,\"#f0f921\"]],\"sequentialminus\":[[0.0,\"#0d0887\"],[0.1111111111111111,\"#46039f\"],[0.2222222222222222,\"#7201a8\"],[0.3333333333333333,\"#9c179e\"],[0.4444444444444444,\"#bd3786\"],[0.5555555555555556,\"#d8576b\"],[0.6666666666666666,\"#ed7953\"],[0.7777777777777778,\"#fb9f3a\"],[0.8888888888888888,\"#fdca26\"],[1.0,\"#f0f921\"]],\"diverging\":[[0,\"#8e0152\"],[0.1,\"#c51b7d\"],[0.2,\"#de77ae\"],[0.3,\"#f1b6da\"],[0.4,\"#fde0ef\"],[0.5,\"#f7f7f7\"],[0.6,\"#e6f5d0\"],[0.7,\"#b8e186\"],[0.8,\"#7fbc41\"],[0.9,\"#4d9221\"],[1,\"#276419\"]]},\"xaxis\":{\"gridcolor\":\"white\",\"linecolor\":\"white\",\"ticks\":\"\",\"title\":{\"standoff\":15},\"zerolinecolor\":\"white\",\"automargin\":true,\"zerolinewidth\":2},\"yaxis\":{\"gridcolor\":\"white\",\"linecolor\":\"white\",\"ticks\":\"\",\"title\":{\"standoff\":15},\"zerolinecolor\":\"white\",\"automargin\":true,\"zerolinewidth\":2},\"scene\":{\"xaxis\":{\"backgroundcolor\":\"#E5ECF6\",\"gridcolor\":\"white\",\"linecolor\":\"white\",\"showbackground\":true,\"ticks\":\"\",\"zerolinecolor\":\"white\",\"gridwidth\":2},\"yaxis\":{\"backgroundcolor\":\"#E5ECF6\",\"gridcolor\":\"white\",\"linecolor\":\"white\",\"showbackground\":true,\"ticks\":\"\",\"zerolinecolor\":\"white\",\"gridwidth\":2},\"zaxis\":{\"backgroundcolor\":\"#E5ECF6\",\"gridcolor\":\"white\",\"linecolor\":\"white\",\"showbackground\":true,\"ticks\":\"\",\"zerolinecolor\":\"white\",\"gridwidth\":2}},\"shapedefaults\":{\"line\":{\"color\":\"#2a3f5f\"}},\"annotationdefaults\":{\"arrowcolor\":\"#2a3f5f\",\"arrowhead\":0,\"arrowwidth\":1},\"geo\":{\"bgcolor\":\"white\",\"landcolor\":\"#E5ECF6\",\"subunitcolor\":\"white\",\"showland\":true,\"showlakes\":true,\"lakecolor\":\"white\"},\"title\":{\"x\":0.05},\"mapbox\":{\"style\":\"light\"}}},\"xaxis\":{\"anchor\":\"y\",\"domain\":[0.0,1.0],\"title\":{\"text\":\"Debut year (edition of first appearance)\"}},\"yaxis\":{\"anchor\":\"x\",\"domain\":[0.0,1.0],\"title\":{\"text\":\"Total wins\"}},\"legend\":{\"title\":{\"text\":\"Has title?\"},\"tracegroupgap\":0,\"itemsizing\":\"constant\"},\"margin\":{\"t\":60},\"title\":{\"text\":\"Total wins by debut year\",\"y\":0.95,\"x\":0.5,\"xanchor\":\"center\",\"yanchor\":\"top\"},\"annotations\":[{\"font\":{\"size\":12},\"showarrow\":false,\"text\":\"(Bubble size proportional to submission rate)\",\"x\":0.546,\"xref\":\"paper\",\"y\":1.04,\"yref\":\"paper\"}]},                        {\"responsive\": true}                    ).then(function(){\n",
       "                            \n",
       "var gd = document.getElementById('f699670e-7a5a-4407-b947-6fc9aced73b6');\n",
       "var x = new MutationObserver(function (mutations, observer) {{\n",
       "        var display = window.getComputedStyle(gd).display;\n",
       "        if (!display || display === 'none') {{\n",
       "            console.log([gd, 'removed!']);\n",
       "            Plotly.purge(gd);\n",
       "            observer.disconnect();\n",
       "        }}\n",
       "}});\n",
       "\n",
       "// Listen for the removal of the full notebook cells\n",
       "var notebookContainer = gd.closest('#notebook-container');\n",
       "if (notebookContainer) {{\n",
       "    x.observe(notebookContainer, {childList: true});\n",
       "}}\n",
       "\n",
       "// Listen for the clearing of the current output cell\n",
       "var outputEl = gd.closest('.output');\n",
       "if (outputEl) {{\n",
       "    x.observe(outputEl, {childList: true});\n",
       "}}\n",
       "\n",
       "                        })                };                });            </script>        </div>"
      ]
     },
     "metadata": {},
     "output_type": "display_data"
    }
   ],
   "source": [
    "# Plots the distribution between total wins and year of debut (first appearance)\n",
    "\n",
    "# Generates the chart object by instanciating a plotly express histogram\n",
    "fig = px.scatter(df, x='debut_year', y='total_wins', hover_name=\"name\",\n",
    "                 color=df['champion'].astype(str), labels={'color': 'Has title?'},\n",
    "                size='sub_win_ratio')\n",
    "\n",
    "\n",
    "fig.update_layout(\n",
    "    title={\n",
    "        'text': \"Total wins by debut year\",\n",
    "        'y':0.95,\n",
    "        'x':0.5,\n",
    "        'xanchor': 'center',\n",
    "        'yanchor': 'top'\n",
    "    },\n",
    "    xaxis_title=\"Debut year (edition of first appearance)\", yaxis_title=\"Total wins\"\n",
    "\n",
    ")\n",
    "\n",
    "# Display observation under title explaining bubble size\n",
    "legend_annotations = [\n",
    "    dict(\n",
    "        x=0.546,\n",
    "        y=1.04,\n",
    "        xref=\"paper\",\n",
    "        yref=\"paper\",\n",
    "        text=f\"(Bubble size proportional to submission rate)\",\n",
    "        showarrow=False,\n",
    "        font=dict(size=12),\n",
    "    )]\n",
    "\n",
    "# Edits legend label for understandability\n",
    "newnames = {'0':'No', '1': 'Title winner'}\n",
    "fig.for_each_trace(lambda t: t.update(name = newnames[t.name]))\n",
    "\n",
    "fig.update_layout(annotations=legend_annotations)\n",
    "\n",
    "\n",
    "fig.show()"
   ]
  },
  {
   "cell_type": "markdown",
   "id": "3887fce5",
   "metadata": {
    "papermill": {
     "duration": 0.025155,
     "end_time": "2023-06-16T16:32:41.924730",
     "exception": false,
     "start_time": "2023-06-16T16:32:41.899575",
     "status": "completed"
    },
    "tags": []
   },
   "source": [
    "It's worth noting that a \"talent drought\" or shortage of capable fresh athletes was never experienced in ADCC, with fighters from all the different generations going on to achieve impressive and or unprecedented feats.  \n",
    "*Alexandre Ribeiro* had the most total wins among athletes who had their debut in the first decade (1998-2008) of the competition, *Andre Galvao* in the second decade (2008-2018)and *Gordon Ryan* in the third and current decade (2018-present)."
   ]
  },
  {
   "cell_type": "markdown",
   "id": "c24ff84c",
   "metadata": {
    "papermill": {
     "duration": 0.025295,
     "end_time": "2023-06-16T16:32:41.975830",
     "exception": false,
     "start_time": "2023-06-16T16:32:41.950535",
     "status": "completed"
    },
    "tags": []
   },
   "source": [
    "### How are win and submission rates related?"
   ]
  },
  {
   "cell_type": "code",
   "execution_count": 17,
   "id": "215249a7",
   "metadata": {
    "_kg_hide-input": true,
    "execution": {
     "iopub.execute_input": "2023-06-16T16:32:42.028983Z",
     "iopub.status.busy": "2023-06-16T16:32:42.028411Z",
     "iopub.status.idle": "2023-06-16T16:32:42.103605Z",
     "shell.execute_reply": "2023-06-16T16:32:42.102582Z"
    },
    "papermill": {
     "duration": 0.104329,
     "end_time": "2023-06-16T16:32:42.105946",
     "exception": false,
     "start_time": "2023-06-16T16:32:42.001617",
     "status": "completed"
    },
    "tags": []
   },
   "outputs": [
    {
     "data": {
      "text/html": [
       "<div>                            <div id=\"52f92b38-837f-4bf2-af0b-bf864fbc02e0\" class=\"plotly-graph-div\" style=\"height:800px; width:800px;\"></div>            <script type=\"text/javascript\">                require([\"plotly\"], function(Plotly) {                    window.PLOTLYENV=window.PLOTLYENV || {};                                    if (document.getElementById(\"52f92b38-837f-4bf2-af0b-bf864fbc02e0\")) {                    Plotly.newPlot(                        \"52f92b38-837f-4bf2-af0b-bf864fbc02e0\",                        [{\"hovertemplate\":\"<b>%{hovertext}</b><br><br>Has title?=0<br>win_ratio=%{x}<br>sub_win_ratio=%{y}<br>total_wins=%{marker.size}<extra></extra>\",\"hovertext\":[\"Murilo Santana\",\"Nicholas Meregali\",\"Nick Rodriguez\",\"Otavio Sousa\",\"Pablo Mantovani\",\"Paul Schreiner\",\"Paulo Miyao\",\"Rida Haisam\",\"Roberto Jimenez\",\"Robson Moura\",\"Rodrigo Medeiros\",\"Roosevelt Sousa\",\"Adam Wardzinski\",\"Celso Vinicius\",\"Bruno Frazatto\",\"Craig Jones\",\"Brianna Ste-Marie\",\"Dante Leon\",\"David Terrell\",\"Diego Oliveira\",\"Eddie Bravo\",\"DeAlonzio Jackson\",\"Gabriel Arges\",\"Gabriel Sousa\",\"Gary Tonon\",\"Gianni Grippo\",\"Gilbert Burns\",\"Justin Rader\",\"Keenan Cornelius\",\"Lucas Lepri\",\"Lucas Daniel Barbosa\",\"Matheus Gabriel Barros\",\"Renato Forasieppi Canuto\",\"Ryan Hall\",\"Tye Ruotolo\",\"Tim Spriggs\",\"Patrick Gaudio\",\"Geovanny Martinez\",\"Jared Dopp\",\"Mahamed Aly\",\"Mansher Khera\",\"Abdurakhman Bilarov\",\"AJ Agazarm\",\"Baret Yoshida\",\"Elder Cruz\",\"Fabricio Andrey\",\"Jackson Sousa\",\"James Puopolo\",\"Jake Shields\",\"Joao Miyao\",\"Joao Gabriel Rocha\",\"Jon Blank\",\"Josh Hinger\",\"Joshua Cisneros\",\"Kennedy Maciel\",\"Kyle Boehm\",\"Lachlan Giles\",\"Leonardo Santos\",\"Mason Fowler\",\"Matt Serra\",\"Micael Galvao\",\"Rafael Lovato Jr\",\"Rafaela Guedes\",\"Ricardo Almeida\",\"Ricardo Liborio\",\"Richard Alarcon\",\"Rousimar Palhares\",\"Sam McNally\",\"Sergio Moraes\",\"Tarsis Humpreys\",\"Vagner Rocha\",\"Victor Estima\",\"Victor Hugo\",\"Vinicius Ferreira\",\"Vitor Ribeiro\",\"Max Gimenis\",\"Jeff Glover\",\"Jeremy Skinner\",\"Marcelo Mafra\",\"Nicky Ryan\",\"Aaron Johnson\",\"Rigan Machado\",\"Antonio Braga Neto\",\"Lucas Leite\",\"Victor Honorio\",\"Dillon Danis\",\"Abraham Marte Messina\",\"Antonio Schembri\",\"Amaury Bitetti\",\"Eduardo Telles\",\"Ethan Crelinsten\",\"Jorge Patino\",\"Kendall Reusing\",\"Leonardo Nogueira\",\"Marcio Andre Barbosa Junior\",\"Pedro Marinho\",\"Ricardo Vieira\",\"Cassio Francis\",\"Marcio Corleta\",\"Rodrigo Cavaca\",\"Edward Cummings\",\"Roberto Magalhaes\",\"Gregor Gracie\",\"Flavio Almeida\",\"Beatriz Mesquita\",\"Gabriel Rollo\",\"Vitor Viana\",\"Glover Teixeira\",\"Jessica Oliveira\",\"Ruslam Chsiev\",\"Sean Alvarez\",\"Mark Robinson\",\"Vitor Belfort\",\"Gabriel Napao\",\"John Hansen\",\"A. Cacareco\",\"David Avellan\",\"Eoghan OFlannagan\",\"Ana Carolina Vieira\",\"Garth Taylor\",\"Kareem Barkalev\",\"Sasha Palvski\",\"Kamil Uminski\",\"Rolles Gracie\",\"Eoghan Oflanagan\",\"Egan Inoue\",\"Murilo Bustamante\",\"Rustam Chsiev\",\"Matt Hughes\",\"Sasha Savko\",\"Olav Einemo\",\"Tito Ortiz\",\"Kyle Griffin\",\"Mike Fowler\",\"Mateusz Szczecinski\",\"Nicolas Renier\",\"Oskar Piechota\",\"E. Karpinen\",\"Kuba Witkowski\",\"Gunnar Nelson\",\"Hayato Sakurai\",\"Henrique Cardoso\",\"Andy Varela\",\"Thomas Halpin\",\"Tommy Langaker\",\"Michael Perez\",\"Enrico Cocco\",\"Edwin Najmi\",\"Gabriel Lucas\",\"Jonathan Satava\",\"Keith Krikorian\",\"Leonardo Saggioro\",\"John Combs\",\"Alec Baulding\",\"Ruan Alvarenga\",\"Isaque Bahiense\",\"Gabriel Marangoni\",\"Clark Gracie\",\"Perttu Tepponen\",\"Santeri Lilius\",\"Oliver Taza\",\"Alexandre Vieira\",\"Sergio Ardila-Ibarra\",\"John Salter\",\"Elisabeth Clay\",\"Cole Abate\",\"Alexander Trans\",\"Roberto Alencar\",\"Paul Ardila-Ibarra\",\"Gabriel Almeida\",\"Ross Nicholls\",\"Eldar Rafigaev\",\"Devhonte Johnson\",\"Valdir Araujo Junior\",\"Alexandre Jesus\",\"Eleftheria Christodoulou\",\"Ashley Williams\",\"Yuta Shimada\",\"Kit Dale\",\"Felipe Cesar\",\"Shane Hill-Taylor\",\"Leandro Lo\",\"Joao Costa\",\"Servio Tulio\",\"James Brasco\",\"Jose Mario Queiroga\",\"Gerardi Rinaldi\",\"Antonio Peinado\",\"Shinya Aoki\",\"Christian Moriarty\",\"Ryan Gracie\",\"Talita Alencar\",\"Mark Ramos\",\"Gustavo Dantas\",\"Augusto Ferrari\",\"Radoslaw Turek\",\"Penny Thomas\",\"Amanda Alequin / Santana\",\"Michelle Nicolini\",\"Carlos Machado\",\"Fellipe Andrew\",\"E. Karppinen\",\"Igor Praporschchikov\",\"Tomas Szczerek\",\"Yuji Arai\",\"Janne-Pekka\",\"Daniel Strauss\",\"M. Perez\",\"Elvira Karpinnen\",\"Julia Maele\",\"Ben Dyson\",\"Elvira Karppinen\",\"Magid Hage\",\"M. Szczecinski\",\"Young-Ahm\",\"Akira Shoji\",\"Marko Helen\",\"Yushin Okami\",\"M. Yano\",\"Ilir Lafiti\",\"Nate Marquardt\",\"Andreas Olsen\",\"Jia Jang\",\"Ezra Lenon\",\"Hideki Sekine\",\"Lee Hyoung\",\"Ricardo Mesquita\",\"Hannette Staack\",\"Yurika Nakakura\",\"Tammy Griego\",\"Fernanda Mazelli\",\"Alison Tremblay\",\"Amanda Santana\",\"Talita Treta\",\"Stefanie Egger\",\"Ana Carolina\",\"Carina Santi\",\"Satori Kitaoka\",\"Eoghan OFlanagan\",\"Ben Hodgkinson\",\"Heikki Jussila\",\"Timo-Juhani\",\"Erza Lennon\",\"J. Urholin\",\"Piotr Frechowicz\",\"Erico Cocco\",\"Jason Manly\",\"Andy Wang\",\"Tero Pyylampi\",\"Gamrot Mateusz\",\"Osman Kasimov\",\"Kethe Engen\",\"Bia Mesquita\",\"Rodrigo Dib\",\"Josh Hayden\",\"Caol Uno\",\"Peter Angerer\",\"F. Vasconcelos\",\"Urija Faber\",\"Jimmy Freidrich\",\"A. Zhanpeisov\",\"Y. Takahito\",\"Tetsu Suzuki\",\"Jeff Curran\",\"Tetsu Hadario\",\"J. Pietkainen\",\"Zbigniew Tyszka\",\"Hideki Shrek\",\"Elliot Marshal\",\"Luke Griffith\",\"Kamil Wilk\",\"Jesseray Childrey\",\"Amir Allam\",\"Abdulaev Ruslan\",\"Eliott Kelly\",\"Jon Hansen\",\"Yousef Elzien\",\"Ricardo Moraes\",\"Firas Nakdali\",\"Rocky Batastini\",\"Kim Mason\",\"Carlos Barreto\",\"Y. Yatso\",\"Halm Gocalli\",\"Y. Ozawa\",\"Juskowiak Mateusz\",\"Trevor Lally\",\"Marc\",\"Robin Gracie\",\"T. Hirono\",\"Sasha Plavski\",\"Joe Gilbert\",\"Y. Kinishi\",\"K. Hirate\",\"Joaquim Hansen\",\"Erik Paulson\",\"Michael Groth\",\"Jamal Peterson\",\"John Einimo\",\"Antoine Joude\",\"Yukissyu Ozawa\",\"Tim Carpenter\",\"Ilir Latifi\",\"Lucio Lagarto\",\"Yukiyasu Ozawa\",\"T. Pyylampi\",\"Wellington Dias\",\"Akira Shouji\",\"Chris Bright\",\"Mark Bocek\",\"Kassim Anan\",\"Chris Weidman\",\"Tom Bass\",\"Don Ortega\",\"Shinzo Ansai\",\"Akihiro Gono\",\"Alexander Savko\",\"Nicholas Renier\",\"N. Uematsu\",\"Mike Mrkulic\",\"Eddie Sanchez\",\"Yoshitomi Mishima\",\"Tetsu Suzuko\",\"Rikako Yuasa\",\"Nicollas Renier\",\"T. Kosaka\",\"Jehad Hamdan\",\"Mike Van\",\"Matt Lindland\",\"Denis Roberts\",\"Daniel Simoes\",\"Reese Andy\",\"Mario Rinaldi\",\"Elvis Sinosic\",\"Darren Andy\",\"Rogent Lorent\",\"Tomasz Janiszewski\",\"Jimmy Friedrich\",\"Josh Saunders\",\"Paulo Pinto\",\"Diego Sanchez\",\"Cameron Earle\",\"Micah Pittman\",\"Mikey Burnet\",\"Serguei Onishuk\",\"Y. Kohsaka\",\"Jamie Ballard\",\"Daniel Hortegas\",\"James Poupolo\",\"Liu Wen\",\"Tomasz Narkun\",\"Michael Wilson\",\"Jason Lees\",\"Eduardo Rios\",\"Fabio Gurgel\",\"Karl Webber\",\"Egan Inoe\",\"Take Hanai\",\"Muhammad Saleh\",\"Larry Parker\",\"Renato Verissimo\",\"Oleg Taktarov\",\"Simon Siasi\",\"Enson Inoe\",\"Keita Iwamoto\",\"Owen Livesey\",\"Giovanna Jara\",\"Cristiano Lazzarini\",\"R. Alvarenga\",\"Alian Drueco\",\"Mikael Knutsson\",\"George St\",\"Yoshiyuki Yoshida\",\"Morris Clifoni\",\"Allan Teo\",\"T. Suzuki\",\"Joey Gilbert\",\"Rob Di\",\"D. Marinakis\",\"Sotaro Yamada\",\"Rodney Ellis\",\"Bruno Bastos\",\"Marcos Oliveira\",\"Anthony Perosh\",\"Kiuma Kunioku\",\"Mario Miranda\",\"George Sotiropoulos\",\"Kurt Pellegrino\",\"Keita Nakamura\",\"Robert Sabaruddin\",\"Van Arsdale\",\"Mike Whitehead\",\"Alex Negao\",\"Miodrag Petkovic\",\"J. Pietlainen\",\"Takanori Gomi\",\"Thomas DeBlass\",\"Jorge Britto\",\"Keller Sodhi\",\"Youngnam Noh\",\"Ben Henderson\",\"Kitner Mendoga\",\"H. Sekine\",\"Mateusz Juskowiak\",\"E. Elgland\",\"Eric Dahlberg\",\"Ben Askren\",\"Doorwang Jeon\",\"Janus Andrejczuk\",\"Kenta Iwamoto\",\"Wagnney Fabiano\",\"Jacob Rodriguez\",\"Tom Lawlor\",\"Jeon Doo\",\"Shinsho Anzai\",\"Hidemi Mihara\",\"Abdulkadirov Magomed\",\"Perttu Terpponnen\",\"Teemu Launis\",\"Mario Delgado\",\"Darrel Moodley\",\"Kouhei Yasumi\",\"Frank Trigg\",\"Rodrigo Modrias\",\"Fabiano Iha\",\"Israel Albuquerque\",\"Chris Brown\",\"G. Sotiropoulos\",\"Josh Barnet\",\"Y. Setsenko\",\"Marshurenko\",\"M. Van\",\"Andy Reese\",\"R. Babalu\",\"Roger Neff\",\"Luis Orlando\",\"Toshiyuki Oyama\",\"Yuta Sasaki\",\"Travis Lutter\",\"Jerry Bolander\",\"Pete Williams\",\"Yuki Ozawa\",\"Asa Fuller\",\"Sekine Hideki\",\"Mike Martelle\",\"Kamil Huminski\",\"Khazmat Stambulov\",\"Jurie Rachel\",\"Luis Roberto\",\"Hiroyuko Abe\",\"Joe Guilbert\",\"Greger Forsel\",\"Joseph Lee\",\"Adrian Serrano\",\"Carlos Newton\",\"Ahmad Faraj\",\"Gavin Kulper\",\"Nathan Marquardt\",\"Justin Garcia\",\"Jon Einemo\",\"Travers Grubb\",\"Kim Dong\",\"C. Jones\",\"Nieman Gracie\",\"David Bielkheden\",\"Dennis Hallman\",\"Joao Roque\",\"James Harbison\",\"Dan Schon\",\"Juan Valles\",\"Melchor M.\",\"A. Hamlet\",\"Martin Brown\",\"Mike Cardosa\",\"Charles Pearson\",\"Hiroshi Nakamura\",\"Joel Tudor\",\"David Marinakis\",\"Tezekbaev Rasul\",\"U. Zhakshylyk\",\"Vernon White\",\"Dave Menne\",\"R. Anderson\",\"T. Yano\",\"Yuki Sasaki\",\"L. Papadopoulis\",\"Kouji Kanechika\",\"Jorge Santiago\",\"I. Praporshchikov\",\"Jose Junior\",\"Milton Vieira\",\"Isaak Michel\",\"Sanshiro Nakamura\",\"Chris Wideman\",\"Luke Costello\",\"Wang Yan\",\"P. Ardilla\",\"Rumina Sato\",\"Fernando Vieira\",\"Hanette Staack\",\"Jessica Flowers\",\"Akira Soji\",\"Otto Olsen\",\"Renan Sancar\",\"Mateusz Garmot\",\"Kaynan D.\",\"Jayson Patino\",\"Mraz Avdoyan\",\"Rodrigo Minotauro\",\"Tobias G\",\"Kari Petola\",\"Adele Fornarino\",\"Ryan Harvey\",\"Tom Barlow\",\"Janne Pietilainen\",\"Ricardo Alves\",\"Sim Go\",\"Jason White\",\"Damon Ramos\",\"Roan Jucao\",\"Bruno Chavez\",\"Luis Brito\",\"Fan Yi\",\"H. Kanehara\",\"R. Mashurenko\",\"Tamura\",\"Hudson Taylor\",\"F. Capoane\",\"Adam Sachnoff\",\"Genki Sudo\",\"Robert Sulski\",\"J. Wakabayashi\",\"D. Hemmings\",\"Takefuni Hanai\",\"Dan Manasoiu\",\"Livia Giles\",\"Roman Dolidze\",\"Hector Lombard\",\"Asadulaev Surkhay\",\"Marcio Cromado\",\"Bob Schirmer\",\"Chris Brennan\",\"Gao Hua\",\"Mourat Ozov\",\"Rodrigo Artilheiro\",\"K. Toida\",\"Davis Heart\",\"Davion Peterson\",\"Manu Garcia\",\"Dan Martinez\",\"Jason Brudvik\",\"Jason Ramsterrer\",\"Jesse Urholin\",\"Amanda Leve\",\"Rodrigo Caporal\",\"William Tackett\",\"Mayssa Bastos\"],\"legendgroup\":\"0\",\"marker\":{\"color\":\"#636efa\",\"size\":[5.0,6.0,7.0,5.0,3.0,2.0,6.0,1.0,1.0,5.0,3.0,2.0,1.0,2.0,3.0,9.0,2.0,5.0,3.0,3.0,2.0,2.0,1.0,3.0,8.0,1.0,3.0,5.0,12.0,8.0,5.0,1.0,2.0,3.0,4.0,3.0,2.0,3.0,8.0,5.0,1.0,1.0,4.0,11.0,1.0,1.0,4.0,1.0,3.0,2.0,9.0,2.0,4.0,2.0,4.0,1.0,3.0,5.0,2.0,3.0,3.0,14.0,2.0,12.0,7.0,1.0,3.0,1.0,2.0,5.0,11.0,2.0,3.0,4.0,4.0,1.0,6.0,1.0,1.0,1.0,1.0,5.0,1.0,1.0,2.0,1.0,1.0,3.0,1.0,1.0,1.0,3.0,1.0,3.0,1.0,1.0,1.0,1.0,1.0,1.0,1.0,1.0,2.0,1.0,2.0,1.0,1.0,1.0,1.0,1.0,2.0,1.0,1.0,3.0,2.0,5.0,4.0,1.0,1.0,1.0,1.0,1.0,1.0,1.0,1.0,2.0,1.0,2.0,1.0,1.0,2.0,1.0,1.0,1.0,1.0,1.0,1.0,1.0,1.0,1.0,1.0,0.0,0.0,0.0,0.0,0.0,0.0,0.0,0.0,0.0,0.0,0.0,0.0,0.0,0.0,0.0,0.0,0.0,0.0,0.0,0.0,0.0,0.0,0.0,0.0,0.0,0.0,0.0,0.0,0.0,0.0,0.0,0.0,0.0,0.0,0.0,0.0,0.0,0.0,0.0,0.0,0.0,0.0,0.0,0.0,0.0,0.0,0.0,0.0,0.0,0.0,0.0,0.0,0.0,0.0,0.0,0.0,0.0,0.0,0.0,0.0,0.0,0.0,0.0,0.0,0.0,0.0,0.0,0.0,0.0,0.0,0.0,0.0,0.0,0.0,0.0,0.0,0.0,0.0,0.0,0.0,0.0,0.0,0.0,0.0,0.0,0.0,0.0,0.0,0.0,0.0,0.0,0.0,0.0,0.0,0.0,0.0,0.0,0.0,0.0,0.0,0.0,0.0,0.0,0.0,0.0,0.0,0.0,0.0,0.0,0.0,0.0,0.0,0.0,0.0,0.0,0.0,0.0,0.0,0.0,0.0,0.0,0.0,0.0,0.0,0.0,0.0,0.0,0.0,0.0,0.0,0.0,0.0,0.0,0.0,0.0,0.0,0.0,0.0,0.0,0.0,0.0,0.0,0.0,0.0,0.0,0.0,0.0,0.0,0.0,0.0,0.0,0.0,0.0,0.0,0.0,0.0,0.0,0.0,0.0,0.0,0.0,0.0,0.0,0.0,0.0,0.0,0.0,0.0,0.0,0.0,0.0,0.0,0.0,0.0,0.0,0.0,0.0,0.0,0.0,0.0,0.0,0.0,0.0,0.0,0.0,0.0,0.0,0.0,0.0,0.0,0.0,0.0,0.0,0.0,0.0,0.0,0.0,0.0,0.0,0.0,0.0,0.0,0.0,0.0,0.0,0.0,0.0,0.0,0.0,0.0,0.0,0.0,0.0,0.0,0.0,0.0,0.0,0.0,0.0,0.0,0.0,0.0,0.0,0.0,0.0,0.0,0.0,0.0,0.0,0.0,0.0,0.0,0.0,0.0,0.0,0.0,0.0,0.0,0.0,0.0,0.0,0.0,0.0,0.0,0.0,0.0,0.0,0.0,0.0,0.0,0.0,0.0,0.0,0.0,0.0,0.0,0.0,0.0,0.0,0.0,0.0,0.0,0.0,0.0,0.0,0.0,0.0,0.0,0.0,0.0,0.0,0.0,0.0,0.0,0.0,0.0,0.0,0.0,0.0,0.0,0.0,0.0,0.0,0.0,0.0,0.0,0.0,0.0,0.0,0.0,0.0,0.0,0.0,0.0,0.0,0.0,0.0,0.0,0.0,0.0,0.0,0.0,0.0,0.0,0.0,0.0,0.0,0.0,0.0,0.0,0.0,0.0,0.0,0.0,0.0,0.0,0.0,0.0,0.0,0.0,0.0,0.0,0.0,0.0,0.0,0.0,0.0,0.0,0.0,0.0,0.0,0.0,0.0,0.0,0.0,0.0,0.0,0.0,0.0,0.0,0.0,0.0,0.0,0.0,0.0,0.0,0.0,0.0,0.0,0.0,0.0,0.0,0.0,0.0,0.0,0.0,0.0,0.0,0.0,0.0,0.0,0.0,0.0,0.0,0.0,0.0,0.0,0.0,0.0,0.0,0.0,0.0,0.0,0.0,0.0,0.0,0.0,0.0,0.0,0.0,0.0,0.0,0.0,0.0,0.0,0.0,0.0,0.0,0.0,0.0,0.0,0.0,0.0,0.0,0.0,0.0,0.0,0.0,0.0,0.0,0.0,0.0,0.0,0.0,0.0,0.0,0.0,0.0,0.0,0.0,0.0,0.0,0.0,0.0,0.0,0.0],\"sizemode\":\"area\",\"sizeref\":0.075,\"symbol\":\"circle\"},\"mode\":\"markers\",\"name\":\"No\",\"orientation\":\"v\",\"showlegend\":true,\"x\":[0.4545454545454545,0.75,0.7,0.625,0.5,0.5,0.75,0.3333333333333333,0.3333333333333333,0.625,0.375,0.6666666666666666,0.5,0.4,0.4285714285714285,0.6428571428571429,0.6666666666666666,0.625,0.75,0.75,0.6666666666666666,0.4,0.5,0.75,0.4444444444444444,0.3333333333333333,0.75,0.625,0.75,0.6666666666666666,0.7142857142857143,0.5,0.5,0.6,0.5,0.5,0.4,0.375,0.5333333333333333,0.4545454545454545,0.5,0.5,0.4444444444444444,0.5,0.3333333333333333,0.3333333333333333,0.6666666666666666,0.3333333333333333,0.6,0.5,0.6,0.4,0.6666666666666666,0.5,0.6666666666666666,0.5,0.3333333333333333,0.5,0.5,0.75,0.75,0.5384615384615384,0.6666666666666666,0.631578947368421,0.7,0.5,0.75,0.5,0.5,0.625,0.6470588235294118,0.5,0.5,0.5714285714285714,0.5714285714285714,0.3333333333333333,0.5454545454545454,0.5,0.5,0.25,0.3333333333333333,0.5,0.25,0.5,0.5,0.25,0.5,0.75,0.5,0.3333333333333333,0.3333333333333333,0.6,0.5,0.6,0.5,0.2,0.5,0.5,0.5,0.3333333333333333,0.5,0.3333333333333333,0.6666666666666666,0.5,0.5,0.5,1.0,0.3333333333333333,1.0,1.0,0.6666666666666666,1.0,0.5,0.75,0.5,0.3846153846153846,0.3636363636363636,1.0,1.0,0.3333333333333333,0.3333333333333333,0.5,0.3333333333333333,0.5,1.0,0.5,0.3333333333333333,0.3333333333333333,1.0,0.5,0.6666666666666666,0.5,0.5,0.3333333333333333,1.0,0.3333333333333333,0.3333333333333333,1.0,0.5,0.2,0.3333333333333333,0.0,0.0,0.0,0.0,0.0,0.0,0.0,0.0,0.0,0.0,0.0,0.0,0.0,0.0,0.0,0.0,0.0,0.0,0.0,0.0,0.0,0.0,0.0,0.0,0.0,0.0,0.0,0.0,0.0,0.0,0.0,0.0,0.0,0.0,0.0,0.0,0.0,0.0,0.0,0.0,0.0,0.0,0.0,0.0,0.0,0.0,0.0,0.0,0.0,0.0,0.0,0.0,0.0,0.0,0.0,0.0,0.0,0.0,0.0,0.0,0.0,0.0,0.0,0.0,0.0,0.0,0.0,0.0,0.0,0.0,0.0,0.0,0.0,0.0,0.0,0.0,0.0,0.0,0.0,0.0,0.0,0.0,0.0,0.0,0.0,0.0,0.0,0.0,0.0,0.0,0.0,0.0,0.0,0.0,0.0,0.0,0.0,0.0,0.0,0.0,0.0,0.0,0.0,0.0,0.0,0.0,0.0,0.0,0.0,0.0,0.0,0.0,0.0,0.0,0.0,0.0,0.0,0.0,0.0,0.0,0.0,0.0,0.0,0.0,0.0,0.0,0.0,0.0,0.0,0.0,0.0,0.0,0.0,0.0,0.0,0.0,0.0,0.0,0.0,0.0,0.0,0.0,0.0,0.0,0.0,0.0,0.0,0.0,0.0,0.0,0.0,0.0,0.0,0.0,0.0,0.0,0.0,0.0,0.0,0.0,0.0,0.0,0.0,0.0,0.0,0.0,0.0,0.0,0.0,0.0,0.0,0.0,0.0,0.0,0.0,0.0,0.0,0.0,0.0,0.0,0.0,0.0,0.0,0.0,0.0,0.0,0.0,0.0,0.0,0.0,0.0,0.0,0.0,0.0,0.0,0.0,0.0,0.0,0.0,0.0,0.0,0.0,0.0,0.0,0.0,0.0,0.0,0.0,0.0,0.0,0.0,0.0,0.0,0.0,0.0,0.0,0.0,0.0,0.0,0.0,0.0,0.0,0.0,0.0,0.0,0.0,0.0,0.0,0.0,0.0,0.0,0.0,0.0,0.0,0.0,0.0,0.0,0.0,0.0,0.0,0.0,0.0,0.0,0.0,0.0,0.0,0.0,0.0,0.0,0.0,0.0,0.0,0.0,0.0,0.0,0.0,0.0,0.0,0.0,0.0,0.0,0.0,0.0,0.0,0.0,0.0,0.0,0.0,0.0,0.0,0.0,0.0,0.0,0.0,0.0,0.0,0.0,0.0,0.0,0.0,0.0,0.0,0.0,0.0,0.0,0.0,0.0,0.0,0.0,0.0,0.0,0.0,0.0,0.0,0.0,0.0,0.0,0.0,0.0,0.0,0.0,0.0,0.0,0.0,0.0,0.0,0.0,0.0,0.0,0.0,0.0,0.0,0.0,0.0,0.0,0.0,0.0,0.0,0.0,0.0,0.0,0.0,0.0,0.0,0.0,0.0,0.0,0.0,0.0,0.0,0.0,0.0,0.0,0.0,0.0,0.0,0.0,0.0,0.0,0.0,0.0,0.0,0.0,0.0,0.0,0.0,0.0,0.0,0.0,0.0,0.0,0.0,0.0,0.0,0.0,0.0,0.0,0.0,0.0,0.0,0.0,0.0,0.0,0.0,0.0,0.0,0.0,0.0,0.0,0.0,0.0,0.0,0.0,0.0,0.0,0.0,0.0,0.0,0.0,0.0,0.0,0.0,0.0,0.0,0.0,0.0,0.0,0.0,0.0,0.0,0.0,0.0,0.0,0.0,0.0,0.0,0.0,0.0,0.0,0.0,0.0,0.0,0.0,0.0,0.0,0.0,0.0,0.0,0.0,0.0,0.0,0.0,0.0,0.0,0.0,0.0],\"xaxis\":\"x\",\"y\":[0.1818181818181818,0.125,0.1,0.375,0.0,0.0,0.0,0.3333333333333333,0.3333333333333333,0.125,0.0,0.3333333333333333,0.0,0.0,0.1428571428571428,0.5714285714285714,0.0,0.25,0.25,0.5,0.6666666666666666,0.0,0.0,0.25,0.2777777777777778,0.0,0.25,0.0,0.25,0.0833333333333333,0.0,0.0,0.0,0.0,0.125,0.3333333333333333,0.0,0.125,0.0666666666666666,0.0909090909090909,0.0,0.0,0.0,0.4090909090909091,0.0,0.0,0.0,0.0,0.2,0.5,0.0666666666666666,0.2,0.3333333333333333,0.25,0.5,0.0,0.3333333333333333,0.1,0.25,0.5,0.25,0.2692307692307692,0.0,0.3684210526315789,0.2,0.0,0.75,0.0,0.25,0.25,0.1176470588235294,0.0,0.1666666666666666,0.0,0.1428571428571428,0.3333333333333333,0.3636363636363636,0.0,0.0,0.0,0.3333333333333333,0.0,0.25,0.0,0.25,0.25,0.5,0.5,0.0,0.3333333333333333,0.3333333333333333,0.0,0.5,0.2,0.0,0.0,0.5,0.5,0.5,0.0,0.5,0.0,0.0,0.0,0.25,0.0,1.0,0.0,0.0,0.0,0.0,0.0,0.0,0.25,0.0,0.2307692307692307,0.1818181818181818,0.0,1.0,0.0,0.0,0.0,0.3333333333333333,0.0,1.0,0.0,0.0,0.0,0.0,0.0,0.0,0.0,0.0,0.3333333333333333,1.0,0.0,0.3333333333333333,0.0,0.0,0.0,0.3333333333333333,0.0,0.0,0.0,0.0,0.0,0.0,0.0,0.0,0.0,0.0,0.0,0.0,0.0,0.0,0.0,0.0,0.0,0.0,0.0,0.0,0.0,0.0,0.0,0.0,0.0,0.0,0.0,0.0,0.0,0.0,0.0,0.0,0.0,0.0,0.0,0.0,0.0,0.0,0.0,0.0,0.0,0.0,0.0,0.0,0.0,0.0,0.0,0.0,0.0,0.0,0.0,0.0,0.0,0.0,0.0,0.0,0.0,0.0,0.0,0.0,0.0,0.0,0.0,0.0,0.0,0.0,0.0,0.0,0.0,0.0,0.0,0.0,0.0,0.0,0.0,0.0,0.0,0.0,0.0,0.0,0.0,0.0,0.0,0.0,0.0,0.0,0.0,0.0,0.0,0.0,0.0,0.0,0.0,0.0,0.0,0.0,0.0,0.0,0.0,0.0,0.0,0.0,0.0,0.0,0.0,0.0,0.0,0.0,0.0,0.0,0.0,0.0,0.0,0.0,0.0,0.0,0.0,0.0,0.0,0.0,0.0,0.0,0.0,0.0,0.0,0.0,0.0,0.0,0.0,0.0,0.0,0.0,0.0,0.0,0.0,0.0,0.0,0.0,0.0,0.0,0.0,0.0,0.0,0.0,0.0,0.0,0.0,0.0,0.0,0.0,0.0,0.0,0.0,0.0,0.0,0.0,0.0,0.0,0.0,0.0,0.0,0.0,0.0,0.0,0.0,0.0,0.0,0.0,0.0,0.0,0.0,0.0,0.0,0.0,0.0,0.0,0.0,0.0,0.0,0.0,0.0,0.0,0.0,0.0,0.0,0.0,0.0,0.0,0.0,0.0,0.0,0.0,0.0,0.0,0.0,0.0,0.0,0.0,0.0,0.0,0.0,0.0,0.0,0.0,0.0,0.0,0.0,0.0,0.0,0.0,0.0,0.0,0.0,0.0,0.0,0.0,0.0,0.0,0.0,0.0,0.0,0.0,0.0,0.0,0.0,0.0,0.0,0.0,0.0,0.0,0.0,0.0,0.0,0.0,0.0,0.0,0.0,0.0,0.0,0.0,0.0,0.0,0.0,0.0,0.0,0.0,0.0,0.0,0.0,0.0,0.0,0.0,0.0,0.0,0.0,0.0,0.0,0.0,0.0,0.0,0.0,0.0,0.0,0.0,0.0,0.0,0.0,0.0,0.0,0.0,0.0,0.0,0.0,0.0,0.0,0.0,0.0,0.0,0.0,0.0,0.0,0.0,0.0,0.0,0.0,0.0,0.0,0.0,0.0,0.0,0.0,0.0,0.0,0.0,0.0,0.0,0.0,0.0,0.0,0.0,0.0,0.0,0.0,0.0,0.0,0.0,0.0,0.0,0.0,0.0,0.0,0.0,0.0,0.0,0.0,0.0,0.0,0.0,0.0,0.0,0.0,0.0,0.0,0.0,0.0,0.0,0.0,0.0,0.0,0.0,0.0,0.0,0.0,0.0,0.0,0.0,0.0,0.0,0.0,0.0,0.0,0.0,0.0,0.0,0.0,0.0,0.0,0.0,0.0,0.0,0.0,0.0,0.0,0.0,0.0,0.0,0.0,0.0,0.0,0.0,0.0,0.0,0.0,0.0,0.0,0.0,0.0,0.0,0.0,0.0,0.0,0.0,0.0,0.0,0.0,0.0,0.0,0.0,0.0,0.0,0.0,0.0,0.0,0.0,0.0,0.0,0.0,0.0,0.0,0.0,0.0,0.0,0.0,0.0,0.0,0.0,0.0,0.0,0.0,0.0,0.0,0.0,0.0,0.0,0.0,0.0,0.0,0.0,0.0,0.0,0.0,0.0,0.0,0.0,0.0,0.0],\"yaxis\":\"y\",\"type\":\"scatter\"},{\"hovertemplate\":\"<b>%{hovertext}</b><br><br>Has title?=1<br>win_ratio=%{x}<br>sub_win_ratio=%{y}<br>total_wins=%{marker.size}<extra></extra>\",\"hovertext\":[\"Orlando Sanchez\",\"Pablo Popovitch\",\"Roberto Abreu\",\"Rodolfo Vieira\",\"Roger Gracie\",\"Romulo Barral\",\"Ronaldo Souza\",\"Braulio Estima\",\"Claudio Calasans\",\"Davi Ramos\",\"Demian Maia\",\"Diogo Reis\",\"Dean Lister\",\"Giancarlo Bodoni\",\"Gordon Ryan\",\"Kron Gracie\",\"Matheus Diniz\",\"Marcio Feitosa\",\"Marcus Almeida\",\"Rafael Mendes\",\"Yuri Simoes\",\"Alexandre Ribeiro\",\"Amy Campo\",\"Andre Galvao\",\"Augusto Mendes\",\"Fabricio Werdum\",\"Ffion Davies\",\"Felipe Pena\",\"Jean Jacques Machado\",\"Joao Assis\",\"Jose Mario Sperry\",\"Jonathan Torres\",\"Kade Ruotolo\",\"Kaynan Duarte\",\"Leonardo Vieira\",\"Marcelo Garcia\",\"Marcio Cruz\",\"Rany Yahya\",\"Renzo Gracie\",\"Ricardo Arona\",\"Royler Gracie\",\"Rubens Charles\",\"Saulo Ribeiro\",\"Vinicius Magalhaes\",\"Bianca Basilio\",\"Gabrielle Garcia\",\"Mackenzie Dern\",\"Ricco Rodriguez\",\"Alexandre de Freitas\",\"Roberto Traven\",\"Rodrigo Gracie\",\"Bianca Mesquita\",\"Mark Kerr\",\"Robert Drysdale\",\"Jeff Monson\",\"Chael Sonnen\",\"Sanae Kikuta\"],\"legendgroup\":\"1\",\"marker\":{\"color\":\"#EF553B\",\"size\":[9.0,19.0,20.0,8.0,12.0,10.0,11.0,12.0,7.0,4.0,7.0,4.0,19.0,5.0,20.0,8.0,5.0,8.0,18.0,11.0,16.0,30.0,3.0,22.0,9.0,20.0,5.0,13.0,11.0,10.0,9.0,12.0,4.0,8.0,21.0,27.0,15.0,10.0,11.0,13.0,14.0,18.0,22.0,19.0,6.0,14.0,3.0,15.0,13.0,5.0,6.0,1.0,5.0,2.0,6.0,1.0,1.0],\"sizemode\":\"area\",\"sizeref\":0.075,\"symbol\":\"circle\"},\"mode\":\"markers\",\"name\":\"Title winner\",\"orientation\":\"v\",\"showlegend\":true,\"x\":[0.6923076923076923,0.7307692307692307,0.6896551724137931,0.8,0.9230769230769232,0.5555555555555556,0.7857142857142857,0.75,0.5833333333333334,1.0,0.875,1.0,0.6785714285714286,0.8333333333333334,0.9523809523809524,0.8,0.8333333333333334,0.7272727272727273,0.8181818181818182,0.9166666666666666,0.8421052631578947,0.6976744186046512,1.0,0.8148148148148148,0.6923076923076923,0.7692307692307693,0.8333333333333334,0.7222222222222222,0.7333333333333333,0.7142857142857143,0.8181818181818182,0.8,1.0,0.8888888888888888,0.7,0.84375,0.6818181818181818,0.7692307692307693,0.7333333333333333,1.0,0.9333333333333332,0.9,0.7333333333333333,0.6551724137931034,0.6666666666666666,0.875,0.75,0.625,0.6842105263157895,0.7142857142857143,0.75,1.0,0.8333333333333334,0.5,0.4615384615384615,0.5,0.5],\"xaxis\":\"x\",\"y\":[0.1538461538461538,0.1153846153846153,0.1034482758620689,0.4,0.6153846153846154,0.3333333333333333,0.4285714285714285,0.5,0.1666666666666666,0.75,0.125,0.0,0.5714285714285714,0.6666666666666666,0.7142857142857143,0.7,0.0,0.0909090909090909,0.3636363636363636,0.5,0.1052631578947368,0.3023255813953488,0.0,0.1851851851851851,0.2307692307692307,0.3076923076923077,0.3333333333333333,0.2222222222222222,0.6,0.3571428571428571,0.2727272727272727,0.0666666666666666,1.0,0.1111111111111111,0.2,0.71875,0.2272727272727272,0.3846153846153846,0.2,0.1538461538461538,0.3333333333333333,0.35,0.1333333333333333,0.3793103448275862,0.3333333333333333,0.4375,0.25,0.2916666666666667,0.4736842105263157,0.1428571428571428,0.375,1.0,0.0,0.5,0.0,0.0,0.0],\"yaxis\":\"y\",\"type\":\"scatter\"}],                        {\"template\":{\"data\":{\"histogram2dcontour\":[{\"type\":\"histogram2dcontour\",\"colorbar\":{\"outlinewidth\":0,\"ticks\":\"\"},\"colorscale\":[[0.0,\"#0d0887\"],[0.1111111111111111,\"#46039f\"],[0.2222222222222222,\"#7201a8\"],[0.3333333333333333,\"#9c179e\"],[0.4444444444444444,\"#bd3786\"],[0.5555555555555556,\"#d8576b\"],[0.6666666666666666,\"#ed7953\"],[0.7777777777777778,\"#fb9f3a\"],[0.8888888888888888,\"#fdca26\"],[1.0,\"#f0f921\"]]}],\"choropleth\":[{\"type\":\"choropleth\",\"colorbar\":{\"outlinewidth\":0,\"ticks\":\"\"}}],\"histogram2d\":[{\"type\":\"histogram2d\",\"colorbar\":{\"outlinewidth\":0,\"ticks\":\"\"},\"colorscale\":[[0.0,\"#0d0887\"],[0.1111111111111111,\"#46039f\"],[0.2222222222222222,\"#7201a8\"],[0.3333333333333333,\"#9c179e\"],[0.4444444444444444,\"#bd3786\"],[0.5555555555555556,\"#d8576b\"],[0.6666666666666666,\"#ed7953\"],[0.7777777777777778,\"#fb9f3a\"],[0.8888888888888888,\"#fdca26\"],[1.0,\"#f0f921\"]]}],\"heatmap\":[{\"type\":\"heatmap\",\"colorbar\":{\"outlinewidth\":0,\"ticks\":\"\"},\"colorscale\":[[0.0,\"#0d0887\"],[0.1111111111111111,\"#46039f\"],[0.2222222222222222,\"#7201a8\"],[0.3333333333333333,\"#9c179e\"],[0.4444444444444444,\"#bd3786\"],[0.5555555555555556,\"#d8576b\"],[0.6666666666666666,\"#ed7953\"],[0.7777777777777778,\"#fb9f3a\"],[0.8888888888888888,\"#fdca26\"],[1.0,\"#f0f921\"]]}],\"heatmapgl\":[{\"type\":\"heatmapgl\",\"colorbar\":{\"outlinewidth\":0,\"ticks\":\"\"},\"colorscale\":[[0.0,\"#0d0887\"],[0.1111111111111111,\"#46039f\"],[0.2222222222222222,\"#7201a8\"],[0.3333333333333333,\"#9c179e\"],[0.4444444444444444,\"#bd3786\"],[0.5555555555555556,\"#d8576b\"],[0.6666666666666666,\"#ed7953\"],[0.7777777777777778,\"#fb9f3a\"],[0.8888888888888888,\"#fdca26\"],[1.0,\"#f0f921\"]]}],\"contourcarpet\":[{\"type\":\"contourcarpet\",\"colorbar\":{\"outlinewidth\":0,\"ticks\":\"\"}}],\"contour\":[{\"type\":\"contour\",\"colorbar\":{\"outlinewidth\":0,\"ticks\":\"\"},\"colorscale\":[[0.0,\"#0d0887\"],[0.1111111111111111,\"#46039f\"],[0.2222222222222222,\"#7201a8\"],[0.3333333333333333,\"#9c179e\"],[0.4444444444444444,\"#bd3786\"],[0.5555555555555556,\"#d8576b\"],[0.6666666666666666,\"#ed7953\"],[0.7777777777777778,\"#fb9f3a\"],[0.8888888888888888,\"#fdca26\"],[1.0,\"#f0f921\"]]}],\"surface\":[{\"type\":\"surface\",\"colorbar\":{\"outlinewidth\":0,\"ticks\":\"\"},\"colorscale\":[[0.0,\"#0d0887\"],[0.1111111111111111,\"#46039f\"],[0.2222222222222222,\"#7201a8\"],[0.3333333333333333,\"#9c179e\"],[0.4444444444444444,\"#bd3786\"],[0.5555555555555556,\"#d8576b\"],[0.6666666666666666,\"#ed7953\"],[0.7777777777777778,\"#fb9f3a\"],[0.8888888888888888,\"#fdca26\"],[1.0,\"#f0f921\"]]}],\"mesh3d\":[{\"type\":\"mesh3d\",\"colorbar\":{\"outlinewidth\":0,\"ticks\":\"\"}}],\"scatter\":[{\"fillpattern\":{\"fillmode\":\"overlay\",\"size\":10,\"solidity\":0.2},\"type\":\"scatter\"}],\"parcoords\":[{\"type\":\"parcoords\",\"line\":{\"colorbar\":{\"outlinewidth\":0,\"ticks\":\"\"}}}],\"scatterpolargl\":[{\"type\":\"scatterpolargl\",\"marker\":{\"colorbar\":{\"outlinewidth\":0,\"ticks\":\"\"}}}],\"bar\":[{\"error_x\":{\"color\":\"#2a3f5f\"},\"error_y\":{\"color\":\"#2a3f5f\"},\"marker\":{\"line\":{\"color\":\"#E5ECF6\",\"width\":0.5},\"pattern\":{\"fillmode\":\"overlay\",\"size\":10,\"solidity\":0.2}},\"type\":\"bar\"}],\"scattergeo\":[{\"type\":\"scattergeo\",\"marker\":{\"colorbar\":{\"outlinewidth\":0,\"ticks\":\"\"}}}],\"scatterpolar\":[{\"type\":\"scatterpolar\",\"marker\":{\"colorbar\":{\"outlinewidth\":0,\"ticks\":\"\"}}}],\"histogram\":[{\"marker\":{\"pattern\":{\"fillmode\":\"overlay\",\"size\":10,\"solidity\":0.2}},\"type\":\"histogram\"}],\"scattergl\":[{\"type\":\"scattergl\",\"marker\":{\"colorbar\":{\"outlinewidth\":0,\"ticks\":\"\"}}}],\"scatter3d\":[{\"type\":\"scatter3d\",\"line\":{\"colorbar\":{\"outlinewidth\":0,\"ticks\":\"\"}},\"marker\":{\"colorbar\":{\"outlinewidth\":0,\"ticks\":\"\"}}}],\"scattermapbox\":[{\"type\":\"scattermapbox\",\"marker\":{\"colorbar\":{\"outlinewidth\":0,\"ticks\":\"\"}}}],\"scatterternary\":[{\"type\":\"scatterternary\",\"marker\":{\"colorbar\":{\"outlinewidth\":0,\"ticks\":\"\"}}}],\"scattercarpet\":[{\"type\":\"scattercarpet\",\"marker\":{\"colorbar\":{\"outlinewidth\":0,\"ticks\":\"\"}}}],\"carpet\":[{\"aaxis\":{\"endlinecolor\":\"#2a3f5f\",\"gridcolor\":\"white\",\"linecolor\":\"white\",\"minorgridcolor\":\"white\",\"startlinecolor\":\"#2a3f5f\"},\"baxis\":{\"endlinecolor\":\"#2a3f5f\",\"gridcolor\":\"white\",\"linecolor\":\"white\",\"minorgridcolor\":\"white\",\"startlinecolor\":\"#2a3f5f\"},\"type\":\"carpet\"}],\"table\":[{\"cells\":{\"fill\":{\"color\":\"#EBF0F8\"},\"line\":{\"color\":\"white\"}},\"header\":{\"fill\":{\"color\":\"#C8D4E3\"},\"line\":{\"color\":\"white\"}},\"type\":\"table\"}],\"barpolar\":[{\"marker\":{\"line\":{\"color\":\"#E5ECF6\",\"width\":0.5},\"pattern\":{\"fillmode\":\"overlay\",\"size\":10,\"solidity\":0.2}},\"type\":\"barpolar\"}],\"pie\":[{\"automargin\":true,\"type\":\"pie\"}]},\"layout\":{\"autotypenumbers\":\"strict\",\"colorway\":[\"#636efa\",\"#EF553B\",\"#00cc96\",\"#ab63fa\",\"#FFA15A\",\"#19d3f3\",\"#FF6692\",\"#B6E880\",\"#FF97FF\",\"#FECB52\"],\"font\":{\"color\":\"#2a3f5f\"},\"hovermode\":\"closest\",\"hoverlabel\":{\"align\":\"left\"},\"paper_bgcolor\":\"white\",\"plot_bgcolor\":\"#E5ECF6\",\"polar\":{\"bgcolor\":\"#E5ECF6\",\"angularaxis\":{\"gridcolor\":\"white\",\"linecolor\":\"white\",\"ticks\":\"\"},\"radialaxis\":{\"gridcolor\":\"white\",\"linecolor\":\"white\",\"ticks\":\"\"}},\"ternary\":{\"bgcolor\":\"#E5ECF6\",\"aaxis\":{\"gridcolor\":\"white\",\"linecolor\":\"white\",\"ticks\":\"\"},\"baxis\":{\"gridcolor\":\"white\",\"linecolor\":\"white\",\"ticks\":\"\"},\"caxis\":{\"gridcolor\":\"white\",\"linecolor\":\"white\",\"ticks\":\"\"}},\"coloraxis\":{\"colorbar\":{\"outlinewidth\":0,\"ticks\":\"\"}},\"colorscale\":{\"sequential\":[[0.0,\"#0d0887\"],[0.1111111111111111,\"#46039f\"],[0.2222222222222222,\"#7201a8\"],[0.3333333333333333,\"#9c179e\"],[0.4444444444444444,\"#bd3786\"],[0.5555555555555556,\"#d8576b\"],[0.6666666666666666,\"#ed7953\"],[0.7777777777777778,\"#fb9f3a\"],[0.8888888888888888,\"#fdca26\"],[1.0,\"#f0f921\"]],\"sequentialminus\":[[0.0,\"#0d0887\"],[0.1111111111111111,\"#46039f\"],[0.2222222222222222,\"#7201a8\"],[0.3333333333333333,\"#9c179e\"],[0.4444444444444444,\"#bd3786\"],[0.5555555555555556,\"#d8576b\"],[0.6666666666666666,\"#ed7953\"],[0.7777777777777778,\"#fb9f3a\"],[0.8888888888888888,\"#fdca26\"],[1.0,\"#f0f921\"]],\"diverging\":[[0,\"#8e0152\"],[0.1,\"#c51b7d\"],[0.2,\"#de77ae\"],[0.3,\"#f1b6da\"],[0.4,\"#fde0ef\"],[0.5,\"#f7f7f7\"],[0.6,\"#e6f5d0\"],[0.7,\"#b8e186\"],[0.8,\"#7fbc41\"],[0.9,\"#4d9221\"],[1,\"#276419\"]]},\"xaxis\":{\"gridcolor\":\"white\",\"linecolor\":\"white\",\"ticks\":\"\",\"title\":{\"standoff\":15},\"zerolinecolor\":\"white\",\"automargin\":true,\"zerolinewidth\":2},\"yaxis\":{\"gridcolor\":\"white\",\"linecolor\":\"white\",\"ticks\":\"\",\"title\":{\"standoff\":15},\"zerolinecolor\":\"white\",\"automargin\":true,\"zerolinewidth\":2},\"scene\":{\"xaxis\":{\"backgroundcolor\":\"#E5ECF6\",\"gridcolor\":\"white\",\"linecolor\":\"white\",\"showbackground\":true,\"ticks\":\"\",\"zerolinecolor\":\"white\",\"gridwidth\":2},\"yaxis\":{\"backgroundcolor\":\"#E5ECF6\",\"gridcolor\":\"white\",\"linecolor\":\"white\",\"showbackground\":true,\"ticks\":\"\",\"zerolinecolor\":\"white\",\"gridwidth\":2},\"zaxis\":{\"backgroundcolor\":\"#E5ECF6\",\"gridcolor\":\"white\",\"linecolor\":\"white\",\"showbackground\":true,\"ticks\":\"\",\"zerolinecolor\":\"white\",\"gridwidth\":2}},\"shapedefaults\":{\"line\":{\"color\":\"#2a3f5f\"}},\"annotationdefaults\":{\"arrowcolor\":\"#2a3f5f\",\"arrowhead\":0,\"arrowwidth\":1},\"geo\":{\"bgcolor\":\"white\",\"landcolor\":\"#E5ECF6\",\"subunitcolor\":\"white\",\"showland\":true,\"showlakes\":true,\"lakecolor\":\"white\"},\"title\":{\"x\":0.05},\"mapbox\":{\"style\":\"light\"}}},\"xaxis\":{\"anchor\":\"y\",\"domain\":[0.0,1.0],\"title\":{\"text\":\"Win ratio\"}},\"yaxis\":{\"anchor\":\"x\",\"domain\":[0.0,1.0],\"title\":{\"text\":\"Submission ratio\"}},\"legend\":{\"title\":{\"text\":\"Has title?\"},\"tracegroupgap\":0,\"itemsizing\":\"constant\"},\"margin\":{\"t\":60},\"height\":800,\"width\":800,\"title\":{\"text\":\"Win ratio vs Submission ratio\",\"y\":0.95,\"x\":0.48,\"xanchor\":\"center\",\"yanchor\":\"top\"},\"annotations\":[{\"font\":{\"size\":12},\"showarrow\":false,\"text\":\"(Bubble size proportional to total wins)\",\"x\":0.52,\"xref\":\"paper\",\"y\":1,\"yref\":\"paper\"}]},                        {\"responsive\": true}                    ).then(function(){\n",
       "                            \n",
       "var gd = document.getElementById('52f92b38-837f-4bf2-af0b-bf864fbc02e0');\n",
       "var x = new MutationObserver(function (mutations, observer) {{\n",
       "        var display = window.getComputedStyle(gd).display;\n",
       "        if (!display || display === 'none') {{\n",
       "            console.log([gd, 'removed!']);\n",
       "            Plotly.purge(gd);\n",
       "            observer.disconnect();\n",
       "        }}\n",
       "}});\n",
       "\n",
       "// Listen for the removal of the full notebook cells\n",
       "var notebookContainer = gd.closest('#notebook-container');\n",
       "if (notebookContainer) {{\n",
       "    x.observe(notebookContainer, {childList: true});\n",
       "}}\n",
       "\n",
       "// Listen for the clearing of the current output cell\n",
       "var outputEl = gd.closest('.output');\n",
       "if (outputEl) {{\n",
       "    x.observe(outputEl, {childList: true});\n",
       "}}\n",
       "\n",
       "                        })                };                });            </script>        </div>"
      ]
     },
     "metadata": {},
     "output_type": "display_data"
    }
   ],
   "source": [
    "# Plots the distribution between win rates and submission rates\n",
    "\n",
    "# Generates the chart object by instanciating a plotly express histogram\n",
    "fig = px.scatter(df, x='win_ratio', y='sub_win_ratio', hover_name=\"name\",\n",
    "                 color=df['champion'].astype(str), labels={'color': 'Has title?'},\n",
    "                size='total_wins', width=800, height=800)\n",
    "\n",
    "\n",
    "fig.update_layout(\n",
    "    title={\n",
    "        'text': \"Win ratio vs Submission ratio\",\n",
    "        'y':0.95,\n",
    "        'x':0.48,\n",
    "        'xanchor': 'center',\n",
    "        'yanchor': 'top'\n",
    "    },\n",
    "    xaxis_title=\"Win ratio\", yaxis_title=\"Submission ratio\"\n",
    "\n",
    ")\n",
    "\n",
    "# Edit legend labels for understandability\n",
    "newnames = {'0':'No', '1': 'Title winner'}\n",
    "fig.for_each_trace(lambda t: t.update(name = newnames[t.name]))\n",
    "\n",
    "# Display observation under title explaining bubble size\n",
    "legend_annotations = [\n",
    "    dict(\n",
    "        x=0.52,\n",
    "        y=1,\n",
    "        xref=\"paper\",\n",
    "        yref=\"paper\",\n",
    "        text=f\"(Bubble size proportional to total wins)\",\n",
    "        showarrow=False,\n",
    "        font=dict(size=12),\n",
    "    )]\n",
    "\n",
    "fig.update_layout(annotations=legend_annotations)\n",
    "\n",
    "\n",
    "fig.show()"
   ]
  },
  {
   "cell_type": "markdown",
   "id": "218df82a",
   "metadata": {
    "papermill": {
     "duration": 0.025889,
     "end_time": "2023-06-16T16:32:42.158044",
     "exception": false,
     "start_time": "2023-06-16T16:32:42.132155",
     "status": "completed"
    },
    "tags": []
   },
   "source": [
    "Marcelo Garcia, Gordon Ryan and Roger Gracie standing out as usual, with both submission and win rates considerably higher than their peers'."
   ]
  },
  {
   "cell_type": "markdown",
   "id": "d0c7f0ca",
   "metadata": {
    "papermill": {
     "duration": 0.025502,
     "end_time": "2023-06-16T16:32:42.211178",
     "exception": false,
     "start_time": "2023-06-16T16:32:42.185676",
     "status": "completed"
    },
    "tags": []
   },
   "source": [
    "### How is performance related to total number of titles?"
   ]
  },
  {
   "cell_type": "code",
   "execution_count": 18,
   "id": "d69705c1",
   "metadata": {
    "_kg_hide-input": true,
    "execution": {
     "iopub.execute_input": "2023-06-16T16:32:42.264473Z",
     "iopub.status.busy": "2023-06-16T16:32:42.263781Z",
     "iopub.status.idle": "2023-06-16T16:32:42.360220Z",
     "shell.execute_reply": "2023-06-16T16:32:42.359332Z"
    },
    "papermill": {
     "duration": 0.125394,
     "end_time": "2023-06-16T16:32:42.362231",
     "exception": false,
     "start_time": "2023-06-16T16:32:42.236837",
     "status": "completed"
    },
    "tags": []
   },
   "outputs": [
    {
     "data": {
      "text/html": [
       "<div>                            <div id=\"2efac533-1d14-43e6-9ff4-501dea28cc92\" class=\"plotly-graph-div\" style=\"height:800px; width:800px;\"></div>            <script type=\"text/javascript\">                require([\"plotly\"], function(Plotly) {                    window.PLOTLYENV=window.PLOTLYENV || {};                                    if (document.getElementById(\"2efac533-1d14-43e6-9ff4-501dea28cc92\")) {                    Plotly.newPlot(                        \"2efac533-1d14-43e6-9ff4-501dea28cc92\",                        [{\"hovertemplate\":\"<b>%{hovertext}</b><br><br>Number of titles=0<br>custom_score=%{x}<br>sub_win_ratio=%{y}<br>total_wins=%{marker.size}<extra></extra>\",\"hovertext\":[\"Murilo Santana\",\"Nicholas Meregali\",\"Nick Rodriguez\",\"Otavio Sousa\",\"Pablo Mantovani\",\"Paul Schreiner\",\"Paulo Miyao\",\"Rida Haisam\",\"Roberto Jimenez\",\"Robson Moura\",\"Rodrigo Medeiros\",\"Roosevelt Sousa\",\"Adam Wardzinski\",\"Celso Vinicius\",\"Bruno Frazatto\",\"Craig Jones\",\"Brianna Ste-Marie\",\"Dante Leon\",\"David Terrell\",\"Diego Oliveira\",\"Eddie Bravo\",\"DeAlonzio Jackson\",\"Gabriel Arges\",\"Gabriel Sousa\",\"Gary Tonon\",\"Gianni Grippo\",\"Gilbert Burns\",\"Justin Rader\",\"Keenan Cornelius\",\"Lucas Lepri\",\"Lucas Daniel Barbosa\",\"Matheus Gabriel Barros\",\"Renato Forasieppi Canuto\",\"Ryan Hall\",\"Tye Ruotolo\",\"Tim Spriggs\",\"Patrick Gaudio\",\"Geovanny Martinez\",\"Jared Dopp\",\"Mahamed Aly\",\"Mansher Khera\",\"Abdurakhman Bilarov\",\"AJ Agazarm\",\"Baret Yoshida\",\"Elder Cruz\",\"Fabricio Andrey\",\"Jackson Sousa\",\"James Puopolo\",\"Jake Shields\",\"Joao Miyao\",\"Joao Gabriel Rocha\",\"Jon Blank\",\"Josh Hinger\",\"Joshua Cisneros\",\"Kennedy Maciel\",\"Kyle Boehm\",\"Lachlan Giles\",\"Leonardo Santos\",\"Mason Fowler\",\"Matt Serra\",\"Micael Galvao\",\"Rafael Lovato Jr\",\"Rafaela Guedes\",\"Ricardo Almeida\",\"Ricardo Liborio\",\"Richard Alarcon\",\"Rousimar Palhares\",\"Sam McNally\",\"Sergio Moraes\",\"Tarsis Humpreys\",\"Vagner Rocha\",\"Victor Estima\",\"Victor Hugo\",\"Vinicius Ferreira\",\"Vitor Ribeiro\",\"Max Gimenis\",\"Jeff Glover\",\"Jeremy Skinner\",\"Marcelo Mafra\",\"Nicky Ryan\",\"Aaron Johnson\",\"Rigan Machado\",\"Antonio Braga Neto\",\"Lucas Leite\",\"Victor Honorio\",\"Dillon Danis\",\"Abraham Marte Messina\",\"Antonio Schembri\",\"Amaury Bitetti\",\"Eduardo Telles\",\"Ethan Crelinsten\",\"Jorge Patino\",\"Kendall Reusing\",\"Leonardo Nogueira\",\"Marcio Andre Barbosa Junior\",\"Pedro Marinho\",\"Ricardo Vieira\",\"Cassio Francis\",\"Marcio Corleta\",\"Rodrigo Cavaca\",\"Edward Cummings\",\"Roberto Magalhaes\",\"Gregor Gracie\",\"Flavio Almeida\",\"Beatriz Mesquita\",\"Gabriel Rollo\",\"Vitor Viana\",\"Glover Teixeira\",\"Jessica Oliveira\",\"Ruslam Chsiev\",\"Sean Alvarez\",\"Mark Robinson\",\"Vitor Belfort\",\"Gabriel Napao\",\"John Hansen\",\"A. Cacareco\",\"David Avellan\",\"Eoghan OFlannagan\",\"Ana Carolina Vieira\",\"Garth Taylor\",\"Kareem Barkalev\",\"Sasha Palvski\",\"Kamil Uminski\",\"Rolles Gracie\",\"Eoghan Oflanagan\",\"Egan Inoue\",\"Murilo Bustamante\",\"Rustam Chsiev\",\"Matt Hughes\",\"Sasha Savko\",\"Olav Einemo\",\"Tito Ortiz\",\"Kyle Griffin\",\"Mike Fowler\",\"Mateusz Szczecinski\",\"Nicolas Renier\",\"Oskar Piechota\",\"E. Karpinen\",\"Kuba Witkowski\",\"Gunnar Nelson\",\"Hayato Sakurai\",\"Henrique Cardoso\",\"Andy Varela\",\"Thomas Halpin\",\"Tommy Langaker\",\"Michael Perez\",\"Enrico Cocco\",\"Edwin Najmi\",\"Gabriel Lucas\",\"Jonathan Satava\",\"Keith Krikorian\",\"Leonardo Saggioro\",\"John Combs\",\"Alec Baulding\",\"Ruan Alvarenga\",\"Isaque Bahiense\",\"Gabriel Marangoni\",\"Clark Gracie\",\"Perttu Tepponen\",\"Santeri Lilius\",\"Oliver Taza\",\"Alexandre Vieira\",\"Sergio Ardila-Ibarra\",\"John Salter\",\"Elisabeth Clay\",\"Cole Abate\",\"Alexander Trans\",\"Roberto Alencar\",\"Paul Ardila-Ibarra\",\"Gabriel Almeida\",\"Ross Nicholls\",\"Eldar Rafigaev\",\"Devhonte Johnson\",\"Valdir Araujo Junior\",\"Alexandre Jesus\",\"Eleftheria Christodoulou\",\"Ashley Williams\",\"Yuta Shimada\",\"Kit Dale\",\"Felipe Cesar\",\"Shane Hill-Taylor\",\"Leandro Lo\",\"Joao Costa\",\"Servio Tulio\",\"James Brasco\",\"Jose Mario Queiroga\",\"Gerardi Rinaldi\",\"Antonio Peinado\",\"Shinya Aoki\",\"Christian Moriarty\",\"Ryan Gracie\",\"Talita Alencar\",\"Mark Ramos\",\"Gustavo Dantas\",\"Augusto Ferrari\",\"Radoslaw Turek\",\"Penny Thomas\",\"Amanda Alequin / Santana\",\"Michelle Nicolini\",\"Carlos Machado\",\"Fellipe Andrew\",\"E. Karppinen\",\"Igor Praporschchikov\",\"Tomas Szczerek\",\"Yuji Arai\",\"Janne-Pekka\",\"Daniel Strauss\",\"M. Perez\",\"Elvira Karpinnen\",\"Julia Maele\",\"Ben Dyson\",\"Elvira Karppinen\",\"Magid Hage\",\"M. Szczecinski\",\"Young-Ahm\",\"Akira Shoji\",\"Marko Helen\",\"Yushin Okami\",\"M. Yano\",\"Ilir Lafiti\",\"Nate Marquardt\",\"Andreas Olsen\",\"Jia Jang\",\"Ezra Lenon\",\"Hideki Sekine\",\"Lee Hyoung\",\"Ricardo Mesquita\",\"Hannette Staack\",\"Yurika Nakakura\",\"Tammy Griego\",\"Fernanda Mazelli\",\"Alison Tremblay\",\"Amanda Santana\",\"Talita Treta\",\"Stefanie Egger\",\"Ana Carolina\",\"Carina Santi\",\"Satori Kitaoka\",\"Eoghan OFlanagan\",\"Ben Hodgkinson\",\"Heikki Jussila\",\"Timo-Juhani\",\"Erza Lennon\",\"J. Urholin\",\"Piotr Frechowicz\",\"Erico Cocco\",\"Jason Manly\",\"Andy Wang\",\"Tero Pyylampi\",\"Gamrot Mateusz\",\"Osman Kasimov\",\"Kethe Engen\",\"Bia Mesquita\",\"Rodrigo Dib\",\"Josh Hayden\",\"Caol Uno\",\"Peter Angerer\",\"F. Vasconcelos\",\"Urija Faber\",\"Jimmy Freidrich\",\"A. Zhanpeisov\",\"Y. Takahito\",\"Tetsu Suzuki\",\"Jeff Curran\",\"Tetsu Hadario\",\"J. Pietkainen\",\"Zbigniew Tyszka\",\"Hideki Shrek\",\"Elliot Marshal\",\"Luke Griffith\",\"Kamil Wilk\",\"Jesseray Childrey\",\"Amir Allam\",\"Abdulaev Ruslan\",\"Eliott Kelly\",\"Jon Hansen\",\"Yousef Elzien\",\"Ricardo Moraes\",\"Firas Nakdali\",\"Rocky Batastini\",\"Kim Mason\",\"Carlos Barreto\",\"Y. Yatso\",\"Halm Gocalli\",\"Y. Ozawa\",\"Juskowiak Mateusz\",\"Trevor Lally\",\"Marc\",\"Robin Gracie\",\"T. Hirono\",\"Sasha Plavski\",\"Joe Gilbert\",\"Y. Kinishi\",\"K. Hirate\",\"Joaquim Hansen\",\"Erik Paulson\",\"Michael Groth\",\"Jamal Peterson\",\"John Einimo\",\"Antoine Joude\",\"Yukissyu Ozawa\",\"Tim Carpenter\",\"Ilir Latifi\",\"Lucio Lagarto\",\"Yukiyasu Ozawa\",\"T. Pyylampi\",\"Wellington Dias\",\"Akira Shouji\",\"Chris Bright\",\"Mark Bocek\",\"Kassim Anan\",\"Chris Weidman\",\"Tom Bass\",\"Don Ortega\",\"Shinzo Ansai\",\"Akihiro Gono\",\"Alexander Savko\",\"Nicholas Renier\",\"N. Uematsu\",\"Mike Mrkulic\",\"Eddie Sanchez\",\"Yoshitomi Mishima\",\"Tetsu Suzuko\",\"Rikako Yuasa\",\"Nicollas Renier\",\"T. Kosaka\",\"Jehad Hamdan\",\"Mike Van\",\"Matt Lindland\",\"Denis Roberts\",\"Daniel Simoes\",\"Reese Andy\",\"Mario Rinaldi\",\"Elvis Sinosic\",\"Darren Andy\",\"Rogent Lorent\",\"Tomasz Janiszewski\",\"Jimmy Friedrich\",\"Josh Saunders\",\"Paulo Pinto\",\"Diego Sanchez\",\"Cameron Earle\",\"Micah Pittman\",\"Mikey Burnet\",\"Serguei Onishuk\",\"Y. Kohsaka\",\"Jamie Ballard\",\"Daniel Hortegas\",\"James Poupolo\",\"Liu Wen\",\"Tomasz Narkun\",\"Michael Wilson\",\"Jason Lees\",\"Eduardo Rios\",\"Fabio Gurgel\",\"Karl Webber\",\"Egan Inoe\",\"Take Hanai\",\"Muhammad Saleh\",\"Larry Parker\",\"Renato Verissimo\",\"Oleg Taktarov\",\"Simon Siasi\",\"Enson Inoe\",\"Keita Iwamoto\",\"Owen Livesey\",\"Giovanna Jara\",\"Cristiano Lazzarini\",\"R. Alvarenga\",\"Alian Drueco\",\"Mikael Knutsson\",\"George St\",\"Yoshiyuki Yoshida\",\"Morris Clifoni\",\"Allan Teo\",\"T. Suzuki\",\"Joey Gilbert\",\"Rob Di\",\"D. Marinakis\",\"Sotaro Yamada\",\"Rodney Ellis\",\"Bruno Bastos\",\"Marcos Oliveira\",\"Anthony Perosh\",\"Kiuma Kunioku\",\"Mario Miranda\",\"George Sotiropoulos\",\"Kurt Pellegrino\",\"Keita Nakamura\",\"Robert Sabaruddin\",\"Van Arsdale\",\"Mike Whitehead\",\"Alex Negao\",\"Miodrag Petkovic\",\"J. Pietlainen\",\"Takanori Gomi\",\"Thomas DeBlass\",\"Jorge Britto\",\"Keller Sodhi\",\"Youngnam Noh\",\"Ben Henderson\",\"Kitner Mendoga\",\"H. Sekine\",\"Mateusz Juskowiak\",\"E. Elgland\",\"Eric Dahlberg\",\"Ben Askren\",\"Doorwang Jeon\",\"Janus Andrejczuk\",\"Kenta Iwamoto\",\"Wagnney Fabiano\",\"Jacob Rodriguez\",\"Tom Lawlor\",\"Jeon Doo\",\"Shinsho Anzai\",\"Hidemi Mihara\",\"Abdulkadirov Magomed\",\"Perttu Terpponnen\",\"Teemu Launis\",\"Mario Delgado\",\"Darrel Moodley\",\"Kouhei Yasumi\",\"Frank Trigg\",\"Rodrigo Modrias\",\"Fabiano Iha\",\"Israel Albuquerque\",\"Chris Brown\",\"G. Sotiropoulos\",\"Josh Barnet\",\"Y. Setsenko\",\"Marshurenko\",\"M. Van\",\"Andy Reese\",\"R. Babalu\",\"Roger Neff\",\"Luis Orlando\",\"Toshiyuki Oyama\",\"Yuta Sasaki\",\"Travis Lutter\",\"Jerry Bolander\",\"Pete Williams\",\"Yuki Ozawa\",\"Asa Fuller\",\"Sekine Hideki\",\"Mike Martelle\",\"Kamil Huminski\",\"Khazmat Stambulov\",\"Jurie Rachel\",\"Luis Roberto\",\"Hiroyuko Abe\",\"Joe Guilbert\",\"Greger Forsel\",\"Joseph Lee\",\"Adrian Serrano\",\"Carlos Newton\",\"Ahmad Faraj\",\"Gavin Kulper\",\"Nathan Marquardt\",\"Justin Garcia\",\"Jon Einemo\",\"Travers Grubb\",\"Kim Dong\",\"C. Jones\",\"Nieman Gracie\",\"David Bielkheden\",\"Dennis Hallman\",\"Joao Roque\",\"James Harbison\",\"Dan Schon\",\"Juan Valles\",\"Melchor M.\",\"A. Hamlet\",\"Martin Brown\",\"Mike Cardosa\",\"Charles Pearson\",\"Hiroshi Nakamura\",\"Joel Tudor\",\"David Marinakis\",\"Tezekbaev Rasul\",\"U. Zhakshylyk\",\"Vernon White\",\"Dave Menne\",\"R. Anderson\",\"T. Yano\",\"Yuki Sasaki\",\"L. Papadopoulis\",\"Kouji Kanechika\",\"Jorge Santiago\",\"I. Praporshchikov\",\"Jose Junior\",\"Milton Vieira\",\"Isaak Michel\",\"Sanshiro Nakamura\",\"Chris Wideman\",\"Luke Costello\",\"Wang Yan\",\"P. Ardilla\",\"Rumina Sato\",\"Fernando Vieira\",\"Hanette Staack\",\"Jessica Flowers\",\"Akira Soji\",\"Otto Olsen\",\"Renan Sancar\",\"Mateusz Garmot\",\"Kaynan D.\",\"Jayson Patino\",\"Mraz Avdoyan\",\"Rodrigo Minotauro\",\"Tobias G\",\"Kari Petola\",\"Adele Fornarino\",\"Ryan Harvey\",\"Tom Barlow\",\"Janne Pietilainen\",\"Ricardo Alves\",\"Sim Go\",\"Jason White\",\"Damon Ramos\",\"Roan Jucao\",\"Bruno Chavez\",\"Luis Brito\",\"Fan Yi\",\"H. Kanehara\",\"R. Mashurenko\",\"Tamura\",\"Hudson Taylor\",\"F. Capoane\",\"Adam Sachnoff\",\"Genki Sudo\",\"Robert Sulski\",\"J. Wakabayashi\",\"D. Hemmings\",\"Takefuni Hanai\",\"Dan Manasoiu\",\"Livia Giles\",\"Roman Dolidze\",\"Hector Lombard\",\"Asadulaev Surkhay\",\"Marcio Cromado\",\"Bob Schirmer\",\"Chris Brennan\",\"Gao Hua\",\"Mourat Ozov\",\"Rodrigo Artilheiro\",\"K. Toida\",\"Davis Heart\",\"Davion Peterson\",\"Manu Garcia\",\"Dan Martinez\",\"Jason Brudvik\",\"Jason Ramsterrer\",\"Jesse Urholin\",\"Amanda Leve\",\"Rodrigo Caporal\",\"William Tackett\",\"Mayssa Bastos\"],\"legendgroup\":\"0\",\"marker\":{\"color\":\"rgb(252, 222, 156)\",\"size\":[5.0,6.0,7.0,5.0,3.0,2.0,6.0,1.0,1.0,5.0,3.0,2.0,1.0,2.0,3.0,9.0,2.0,5.0,3.0,3.0,2.0,2.0,1.0,3.0,8.0,1.0,3.0,5.0,12.0,8.0,5.0,1.0,2.0,3.0,4.0,3.0,2.0,3.0,8.0,5.0,1.0,1.0,4.0,11.0,1.0,1.0,4.0,1.0,3.0,2.0,9.0,2.0,4.0,2.0,4.0,1.0,3.0,5.0,2.0,3.0,3.0,14.0,2.0,12.0,7.0,1.0,3.0,1.0,2.0,5.0,11.0,2.0,3.0,4.0,4.0,1.0,6.0,1.0,1.0,1.0,1.0,5.0,1.0,1.0,2.0,1.0,1.0,3.0,1.0,1.0,1.0,3.0,1.0,3.0,1.0,1.0,1.0,1.0,1.0,1.0,1.0,1.0,2.0,1.0,2.0,1.0,1.0,1.0,1.0,1.0,2.0,1.0,1.0,3.0,2.0,5.0,4.0,1.0,1.0,1.0,1.0,1.0,1.0,1.0,1.0,2.0,1.0,2.0,1.0,1.0,2.0,1.0,1.0,1.0,1.0,1.0,1.0,1.0,1.0,1.0,1.0,0.0,0.0,0.0,0.0,0.0,0.0,0.0,0.0,0.0,0.0,0.0,0.0,0.0,0.0,0.0,0.0,0.0,0.0,0.0,0.0,0.0,0.0,0.0,0.0,0.0,0.0,0.0,0.0,0.0,0.0,0.0,0.0,0.0,0.0,0.0,0.0,0.0,0.0,0.0,0.0,0.0,0.0,0.0,0.0,0.0,0.0,0.0,0.0,0.0,0.0,0.0,0.0,0.0,0.0,0.0,0.0,0.0,0.0,0.0,0.0,0.0,0.0,0.0,0.0,0.0,0.0,0.0,0.0,0.0,0.0,0.0,0.0,0.0,0.0,0.0,0.0,0.0,0.0,0.0,0.0,0.0,0.0,0.0,0.0,0.0,0.0,0.0,0.0,0.0,0.0,0.0,0.0,0.0,0.0,0.0,0.0,0.0,0.0,0.0,0.0,0.0,0.0,0.0,0.0,0.0,0.0,0.0,0.0,0.0,0.0,0.0,0.0,0.0,0.0,0.0,0.0,0.0,0.0,0.0,0.0,0.0,0.0,0.0,0.0,0.0,0.0,0.0,0.0,0.0,0.0,0.0,0.0,0.0,0.0,0.0,0.0,0.0,0.0,0.0,0.0,0.0,0.0,0.0,0.0,0.0,0.0,0.0,0.0,0.0,0.0,0.0,0.0,0.0,0.0,0.0,0.0,0.0,0.0,0.0,0.0,0.0,0.0,0.0,0.0,0.0,0.0,0.0,0.0,0.0,0.0,0.0,0.0,0.0,0.0,0.0,0.0,0.0,0.0,0.0,0.0,0.0,0.0,0.0,0.0,0.0,0.0,0.0,0.0,0.0,0.0,0.0,0.0,0.0,0.0,0.0,0.0,0.0,0.0,0.0,0.0,0.0,0.0,0.0,0.0,0.0,0.0,0.0,0.0,0.0,0.0,0.0,0.0,0.0,0.0,0.0,0.0,0.0,0.0,0.0,0.0,0.0,0.0,0.0,0.0,0.0,0.0,0.0,0.0,0.0,0.0,0.0,0.0,0.0,0.0,0.0,0.0,0.0,0.0,0.0,0.0,0.0,0.0,0.0,0.0,0.0,0.0,0.0,0.0,0.0,0.0,0.0,0.0,0.0,0.0,0.0,0.0,0.0,0.0,0.0,0.0,0.0,0.0,0.0,0.0,0.0,0.0,0.0,0.0,0.0,0.0,0.0,0.0,0.0,0.0,0.0,0.0,0.0,0.0,0.0,0.0,0.0,0.0,0.0,0.0,0.0,0.0,0.0,0.0,0.0,0.0,0.0,0.0,0.0,0.0,0.0,0.0,0.0,0.0,0.0,0.0,0.0,0.0,0.0,0.0,0.0,0.0,0.0,0.0,0.0,0.0,0.0,0.0,0.0,0.0,0.0,0.0,0.0,0.0,0.0,0.0,0.0,0.0,0.0,0.0,0.0,0.0,0.0,0.0,0.0,0.0,0.0,0.0,0.0,0.0,0.0,0.0,0.0,0.0,0.0,0.0,0.0,0.0,0.0,0.0,0.0,0.0,0.0,0.0,0.0,0.0,0.0,0.0,0.0,0.0,0.0,0.0,0.0,0.0,0.0,0.0,0.0,0.0,0.0,0.0,0.0,0.0,0.0,0.0,0.0,0.0,0.0,0.0,0.0,0.0,0.0,0.0,0.0,0.0,0.0,0.0,0.0,0.0,0.0,0.0,0.0,0.0,0.0,0.0,0.0,0.0,0.0,0.0,0.0,0.0,0.0,0.0,0.0,0.0,0.0,0.0,0.0,0.0,0.0,0.0,0.0,0.0,0.0,0.0,0.0,0.0,0.0,0.0,0.0,0.0,0.0,0.0],\"sizemode\":\"area\",\"sizeref\":0.01875,\"symbol\":\"circle\"},\"mode\":\"markers\",\"name\":\"0\",\"orientation\":\"v\",\"showlegend\":true,\"x\":[-0.1656988350037659,1.977329532845904,0.8546283656125578,0.5679812590848949,-0.029200212847736,0.3052214114345373,0.7351920712260316,-0.3636218371300093,-0.3636218371300093,0.5202067413302844,-0.0530874717250412,-0.1247492483569569,-0.3636218371300093,-0.3636218371300093,0.2096723759253163,0.6714927142198844,0.8307411067352526,0.5202067413302844,0.7351920712260316,0.7351920712260316,-0.1247492483569569,-0.3731767406809314,-0.3636218371300093,0.8307411067352526,0.0451157036594358,-0.3795466763815461,0.7351920712260316,0.0026494656553376,1.1810875702690629,0.2335596348026216,0.3529959291891478,-0.3636218371300093,-0.3636218371300093,0.0663488226614849,0.0902360815387901,-0.3397345782527041,-0.3476969978784725,-0.1565989268600306,0.3529959291891478,0.3291086703118425,-0.3636218371300093,-0.3636218371300093,0.0185743049068744,0.1209482715238969,-0.3636218371300093,-0.3636218371300093,0.1857851170480111,-0.3795466763815461,0.3529959291891478,0.3052214114345373,0.8880705280407851,0.3052214114345373,0.1857851170480111,0.3052214114345373,0.2335596348026216,-0.3636218371300093,0.0472390155596407,0.2255972151768532,-0.3636218371300093,0.8307411067352526,0.8307411067352526,0.1960225137097133,0.8307411067352526,0.6635302945941159,0.4007704469437583,-0.3636218371300093,0.8307411067352526,-0.3636218371300093,-0.3158473193753989,0.2096723759253163,0.395462167193246,-0.3158473193753989,-0.3397345782527041,0.2335596348026216,0.2096723759253163,-0.3795466763815461,0.0185743049068744,-0.3636218371300093,-0.3636218371300093,-0.3875090960073146,-0.3636218371300093,-0.1110993861413539,-0.3795466763815461,-0.3636218371300093,-0.3158473193753989,-0.3795466763815461,-0.3636218371300093,0.7351920712260316,-0.3636218371300093,-0.3636218371300093,-0.3795466763815461,-0.2441855427434831,-0.1247492483569569,0.7351920712260316,-0.3636218371300093,-0.3795466763815461,-0.3636218371300093,-0.3636218371300093,-0.3636218371300093,-0.3795466763815461,-0.3636218371300093,-0.3636218371300093,-0.1247492483569569,0.7351920712260316,0.4803946432014425,-0.3636218371300093,-0.4113963548846198,-0.029200212847736,0.3529959291891478,-0.4113963548846198,0.2255972151768532,0.3529959291891478,-0.1247492483569569,0.1141233404160954,-0.3636218371300093,0.5713937246387958,-0.0769747306023464,-0.4113963548846198,-0.2202982838661779,0.2096723759253163,0.1937475366737795,-0.1247492483569569,-0.3795466763815461,0.0185743049068744,-0.2202982838661779,0.1141233404160954,-0.0769747306023464,0.0854586297633291,-0.4113963548846198,0.1618978581707059,-0.029200212847736,0.1618978581707059,-0.3636218371300093,0.3052214114345373,-0.4113963548846198,-0.3795466763815461,-0.3158473193753989,-0.2202982838661779,-0.3636218371300093,0.0663488226614849,0.9262901422444736,-0.4113963548846198,-0.4113963548846198,-0.4113963548846198,-0.4113963548846198,-0.4113963548846198,-0.4113963548846198,-0.4113963548846198,-0.4113963548846198,-0.4113963548846198,-0.4113963548846198,-0.4113963548846198,-0.4113963548846198,-0.4113963548846198,-0.4113963548846198,-0.4113963548846198,-0.4113963548846198,-0.4113963548846198,-0.4113963548846198,-0.4113963548846198,-0.4113963548846198,-0.4113963548846198,-0.4113963548846198,-0.4113963548846198,-0.3158473193753989,-0.4113963548846198,-0.4113963548846198,-0.4113963548846198,-0.4113963548846198,-0.4113963548846198,-0.4113963548846198,-0.4113963548846198,-0.4113963548846198,-0.4113963548846198,-0.4113963548846198,-0.3158473193753989,-0.4113963548846198,-0.4113963548846198,-0.4113963548846198,-0.4113963548846198,-0.4113963548846198,-0.4113963548846198,-0.4113963548846198,-0.4113963548846198,-0.3158473193753989,-0.4113963548846198,2.359525674882788,0.5440940002075897,-0.3158473193753989,-0.3158473193753989,-0.4113963548846198,-0.3158473193753989,-0.3158473193753989,-0.4113963548846198,-0.4113963548846198,-0.2202982838661779,-0.029200212847736,-0.3158473193753989,1.1173882132629154,-0.3158473193753989,-0.4113963548846198,-0.029200212847736,-0.4113963548846198,-0.4113963548846198,-0.4113963548846198,-0.4113963548846198,-0.4113963548846198,-0.3158473193753989,-0.029200212847736,-0.3158473193753989,-0.4113963548846198,-0.3158473193753989,-0.4113963548846198,-0.3158473193753989,-0.4113963548846198,-0.4113963548846198,-0.4113963548846198,-0.4113963548846198,-0.4113963548846198,-0.4113963548846198,-0.4113963548846198,-0.4113963548846198,-0.4113963548846198,-0.3158473193753989,-0.3158473193753989,-0.4113963548846198,-0.4113963548846198,1.1173882132629154,-0.3158473193753989,-0.029200212847736,1.1173882132629154,-0.3158473193753989,0.4485449646983687,1.1173882132629154,-0.3158473193753989,-0.029200212847736,1.1173882132629154,-0.4113963548846198,0.8307411067352526,-0.4113963548846198,-0.4113963548846198,-0.4113963548846198,-0.4113963548846198,-0.4113963548846198,-0.4113963548846198,-0.4113963548846198,-0.4113963548846198,-0.4113963548846198,-0.4113963548846198,-0.4113963548846198,-0.4113963548846198,-0.3158473193753989,-0.029200212847736,-0.4113963548846198,-0.4113963548846198,1.1173882132629154,-0.4113963548846198,-0.3158473193753989,-0.4113963548846198,-0.4113963548846198,-0.4113963548846198,-0.4113963548846198,-0.3158473193753989,-0.4113963548846198,-0.4113963548846198,-0.4113963548846198,-0.3158473193753989,-0.4113963548846198,-0.4113963548846198,-0.4113963548846198,-0.4113963548846198,-0.4113963548846198,-0.4113963548846198,-0.4113963548846198,-0.4113963548846198,-0.4113963548846198,-0.4113963548846198,0.0663488226614849,-0.029200212847736,-0.4113963548846198,-0.4113963548846198,-0.4113963548846198,-0.4113963548846198,-0.4113963548846198,-0.4113963548846198,-0.4113963548846198,-0.3158473193753989,-0.029200212847736,1.1173882132629154,-0.4113963548846198,-0.3158473193753989,-0.029200212847736,-0.4113963548846198,-0.4113963548846198,-0.3158473193753989,-0.4113963548846198,-0.4113963548846198,-0.3158473193753989,0.4485449646983687,-0.4113963548846198,-0.4113963548846198,-0.3158473193753989,-0.4113963548846198,-0.3158473193753989,-0.4113963548846198,-0.4113963548846198,-0.4113963548846198,-0.4113963548846198,-0.4113963548846198,-0.3158473193753989,-0.4113963548846198,-0.3158473193753989,-0.4113963548846198,-0.4113963548846198,-0.4113963548846198,-0.4113963548846198,-0.3158473193753989,-0.4113963548846198,-0.3158473193753989,-0.3158473193753989,-0.4113963548846198,-0.3158473193753989,0.4485449646983687,-0.3158473193753989,-0.4113963548846198,-0.4113963548846198,-0.3158473193753989,-0.029200212847736,-0.3158473193753989,-0.4113963548846198,0.5440940002075897,-0.4113963548846198,-0.4113963548846198,-0.4113963548846198,0.8307411067352526,-0.4113963548846198,-0.3158473193753989,-0.3158473193753989,-0.4113963548846198,-0.4113963548846198,-0.3158473193753989,-0.3158473193753989,-0.3158473193753989,-0.3158473193753989,-0.4113963548846198,-0.4113963548846198,-0.4113963548846198,-0.4113963548846198,-0.4113963548846198,-0.4113963548846198,-0.3158473193753989,-0.4113963548846198,-0.4113963548846198,-0.4113963548846198,1.977329532845904,-0.4113963548846198,-0.3158473193753989,-0.4113963548846198,-0.4113963548846198,-0.3158473193753989,-0.029200212847736,-0.3158473193753989,-0.029200212847736,1.977329532845904,-0.4113963548846198,-0.4113963548846198,-0.3158473193753989,0.9262901422444736,-0.4113963548846198,-0.4113963548846198,-0.3158473193753989,-0.3158473193753989,-0.4113963548846198,-0.4113963548846198,-0.4113963548846198,-0.029200212847736,-0.3158473193753989,-0.029200212847736,-0.4113963548846198,-0.4113963548846198,-0.4113963548846198,-0.3158473193753989,-0.3158473193753989,-0.4113963548846198,-0.4113963548846198,-0.4113963548846198,-0.4113963548846198,-0.3158473193753989,-0.029200212847736,-0.4113963548846198,-0.4113963548846198,-0.4113963548846198,-0.029200212847736,-0.4113963548846198,-0.4113963548846198,-0.4113963548846198,-0.3158473193753989,-0.4113963548846198,-0.4113963548846198,-0.4113963548846198,-0.3158473193753989,-0.4113963548846198,-0.4113963548846198,-0.4113963548846198,-0.4113963548846198,-0.4113963548846198,-0.3158473193753989,-0.4113963548846198,-0.4113963548846198,-0.4113963548846198,-0.3158473193753989,-0.4113963548846198,-0.4113963548846198,-0.4113963548846198,-0.4113963548846198,-0.4113963548846198,-0.3158473193753989,-0.4113963548846198,-0.4113963548846198,-0.4113963548846198,-0.4113963548846198,-0.4113963548846198,-0.4113963548846198,-0.3158473193753989,-0.029200212847736,-0.3158473193753989,0.4485449646983687,-0.4113963548846198,-0.4113963548846198,-0.4113963548846198,-0.4113963548846198,-0.3158473193753989,-0.3158473193753989,-0.3158473193753989,-0.3158473193753989,-0.3158473193753989,-0.4113963548846198,-0.4113963548846198,-0.4113963548846198,-0.3158473193753989,-0.3158473193753989,-0.4113963548846198,-0.3158473193753989,-0.4113963548846198,-0.4113963548846198,-0.4113963548846198,-0.4113963548846198,-0.4113963548846198,-0.3158473193753989,-0.4113963548846198,-0.3158473193753989,-0.4113963548846198,-0.4113963548846198,-0.4113963548846198,-0.3158473193753989,-0.029200212847736,-0.3158473193753989,-0.4113963548846198,-0.4113963548846198,1.977329532845904,-0.4113963548846198,-0.4113963548846198,-0.4113963548846198,-0.3158473193753989,-0.4113963548846198,0.8307411067352526,-0.3158473193753989,-0.4113963548846198,-0.4113963548846198,-0.4113963548846198,-0.029200212847736,-0.029200212847736,-0.4113963548846198,-0.3158473193753989,-0.4113963548846198,-0.4113963548846198,-0.3158473193753989,-0.4113963548846198,-0.4113963548846198,-0.4113963548846198,-0.3158473193753989,-0.3158473193753989,-0.3158473193753989,-0.3158473193753989,-0.4113963548846198,-0.4113963548846198,-0.4113963548846198,-0.4113963548846198,-0.4113963548846198,-0.3158473193753989,-0.4113963548846198,-0.4113963548846198,-0.4113963548846198,-0.3158473193753989,-0.4113963548846198,-0.4113963548846198,-0.4113963548846198,-0.4113963548846198,-0.3158473193753989,1.1173882132629154,-0.029200212847736,-0.3158473193753989,1.1173882132629154,-0.3158473193753989,-0.4113963548846198,-0.3158473193753989,-0.4113963548846198,-0.4113963548846198,-0.3158473193753989,-0.4113963548846198,-0.4113963548846198,-0.3158473193753989,-0.4113963548846198,-0.4113963548846198,-0.3158473193753989,1.1173882132629154,-0.4113963548846198,-0.4113963548846198,-0.4113963548846198,-0.3158473193753989,-0.3158473193753989,1.1173882132629154,-0.4113963548846198,-0.4113963548846198,-0.4113963548846198,-0.4113963548846198,-0.4113963548846198,-0.4113963548846198,-0.4113963548846198,-0.4113963548846198,-0.3158473193753989,-0.3158473193753989,-0.4113963548846198,-0.4113963548846198,-0.4113963548846198,-0.3158473193753989,-0.4113963548846198,-0.3158473193753989,-0.4113963548846198,-0.4113963548846198,-0.4113963548846198,-0.4113963548846198,-0.4113963548846198,-0.4113963548846198,-0.3158473193753989,-0.4113963548846198,-0.4113963548846198,-0.4113963548846198,-0.4113963548846198,-0.4113963548846198,-0.4113963548846198,-0.4113963548846198,-0.4113963548846198,-0.3158473193753989,-0.4113963548846198,-0.4113963548846198,-0.3158473193753989],\"xaxis\":\"x\",\"y\":[0.1818181818181818,0.125,0.1,0.375,0.0,0.0,0.0,0.3333333333333333,0.3333333333333333,0.125,0.0,0.3333333333333333,0.0,0.0,0.1428571428571428,0.5714285714285714,0.0,0.25,0.25,0.5,0.6666666666666666,0.0,0.0,0.25,0.2777777777777778,0.0,0.25,0.0,0.25,0.0833333333333333,0.0,0.0,0.0,0.0,0.125,0.3333333333333333,0.0,0.125,0.0666666666666666,0.0909090909090909,0.0,0.0,0.0,0.4090909090909091,0.0,0.0,0.0,0.0,0.2,0.5,0.0666666666666666,0.2,0.3333333333333333,0.25,0.5,0.0,0.3333333333333333,0.1,0.25,0.5,0.25,0.2692307692307692,0.0,0.3684210526315789,0.2,0.0,0.75,0.0,0.25,0.25,0.1176470588235294,0.0,0.1666666666666666,0.0,0.1428571428571428,0.3333333333333333,0.3636363636363636,0.0,0.0,0.0,0.3333333333333333,0.0,0.25,0.0,0.25,0.25,0.5,0.5,0.0,0.3333333333333333,0.3333333333333333,0.0,0.5,0.2,0.0,0.0,0.5,0.5,0.5,0.0,0.5,0.0,0.0,0.0,0.25,0.0,1.0,0.0,0.0,0.0,0.0,0.0,0.0,0.25,0.0,0.2307692307692307,0.1818181818181818,0.0,1.0,0.0,0.0,0.0,0.3333333333333333,0.0,1.0,0.0,0.0,0.0,0.0,0.0,0.0,0.0,0.0,0.3333333333333333,1.0,0.0,0.3333333333333333,0.0,0.0,0.0,0.3333333333333333,0.0,0.0,0.0,0.0,0.0,0.0,0.0,0.0,0.0,0.0,0.0,0.0,0.0,0.0,0.0,0.0,0.0,0.0,0.0,0.0,0.0,0.0,0.0,0.0,0.0,0.0,0.0,0.0,0.0,0.0,0.0,0.0,0.0,0.0,0.0,0.0,0.0,0.0,0.0,0.0,0.0,0.0,0.0,0.0,0.0,0.0,0.0,0.0,0.0,0.0,0.0,0.0,0.0,0.0,0.0,0.0,0.0,0.0,0.0,0.0,0.0,0.0,0.0,0.0,0.0,0.0,0.0,0.0,0.0,0.0,0.0,0.0,0.0,0.0,0.0,0.0,0.0,0.0,0.0,0.0,0.0,0.0,0.0,0.0,0.0,0.0,0.0,0.0,0.0,0.0,0.0,0.0,0.0,0.0,0.0,0.0,0.0,0.0,0.0,0.0,0.0,0.0,0.0,0.0,0.0,0.0,0.0,0.0,0.0,0.0,0.0,0.0,0.0,0.0,0.0,0.0,0.0,0.0,0.0,0.0,0.0,0.0,0.0,0.0,0.0,0.0,0.0,0.0,0.0,0.0,0.0,0.0,0.0,0.0,0.0,0.0,0.0,0.0,0.0,0.0,0.0,0.0,0.0,0.0,0.0,0.0,0.0,0.0,0.0,0.0,0.0,0.0,0.0,0.0,0.0,0.0,0.0,0.0,0.0,0.0,0.0,0.0,0.0,0.0,0.0,0.0,0.0,0.0,0.0,0.0,0.0,0.0,0.0,0.0,0.0,0.0,0.0,0.0,0.0,0.0,0.0,0.0,0.0,0.0,0.0,0.0,0.0,0.0,0.0,0.0,0.0,0.0,0.0,0.0,0.0,0.0,0.0,0.0,0.0,0.0,0.0,0.0,0.0,0.0,0.0,0.0,0.0,0.0,0.0,0.0,0.0,0.0,0.0,0.0,0.0,0.0,0.0,0.0,0.0,0.0,0.0,0.0,0.0,0.0,0.0,0.0,0.0,0.0,0.0,0.0,0.0,0.0,0.0,0.0,0.0,0.0,0.0,0.0,0.0,0.0,0.0,0.0,0.0,0.0,0.0,0.0,0.0,0.0,0.0,0.0,0.0,0.0,0.0,0.0,0.0,0.0,0.0,0.0,0.0,0.0,0.0,0.0,0.0,0.0,0.0,0.0,0.0,0.0,0.0,0.0,0.0,0.0,0.0,0.0,0.0,0.0,0.0,0.0,0.0,0.0,0.0,0.0,0.0,0.0,0.0,0.0,0.0,0.0,0.0,0.0,0.0,0.0,0.0,0.0,0.0,0.0,0.0,0.0,0.0,0.0,0.0,0.0,0.0,0.0,0.0,0.0,0.0,0.0,0.0,0.0,0.0,0.0,0.0,0.0,0.0,0.0,0.0,0.0,0.0,0.0,0.0,0.0,0.0,0.0,0.0,0.0,0.0,0.0,0.0,0.0,0.0,0.0,0.0,0.0,0.0,0.0,0.0,0.0,0.0,0.0,0.0,0.0,0.0,0.0,0.0,0.0,0.0,0.0,0.0,0.0,0.0,0.0,0.0,0.0,0.0,0.0,0.0,0.0,0.0,0.0,0.0,0.0,0.0,0.0,0.0,0.0,0.0,0.0,0.0,0.0,0.0,0.0,0.0,0.0,0.0,0.0,0.0,0.0,0.0,0.0,0.0,0.0,0.0,0.0,0.0,0.0,0.0,0.0,0.0,0.0,0.0,0.0,0.0,0.0,0.0,0.0,0.0,0.0,0.0,0.0,0.0,0.0,0.0,0.0,0.0,0.0,0.0,0.0,0.0,0.0,0.0,0.0,0.0,0.0,0.0,0.0],\"yaxis\":\"y\",\"type\":\"scatter\"},{\"hovertemplate\":\"<b>%{hovertext}</b><br><br>Number of titles=1<br>custom_score=%{x}<br>sub_win_ratio=%{y}<br>total_wins=%{marker.size}<extra></extra>\",\"hovertext\":[\"Orlando Sanchez\",\"Pablo Popovitch\",\"Roberto Abreu\",\"Rodolfo Vieira\",\"Romulo Barral\",\"Claudio Calasans\",\"Davi Ramos\",\"Demian Maia\",\"Diogo Reis\",\"Giancarlo Bodoni\",\"Kron Gracie\",\"Matheus Diniz\",\"Marcio Feitosa\",\"Amy Campo\",\"Augusto Mendes\",\"Fabricio Werdum\",\"Ffion Davies\",\"Felipe Pena\",\"Jean Jacques Machado\",\"Joao Assis\",\"Kade Ruotolo\",\"Marcio Cruz\",\"Rany Yahya\",\"Vinicius Magalhaes\",\"Bianca Basilio\",\"Mackenzie Dern\",\"Ricco Rodriguez\",\"Alexandre de Freitas\",\"Roberto Traven\",\"Rodrigo Gracie\",\"Bianca Mesquita\",\"Robert Drysdale\",\"Jeff Monson\",\"Chael Sonnen\",\"Sanae Kikuta\"],\"legendgroup\":\"1\",\"marker\":{\"color\":\"rgb(250, 164, 118)\",\"size\":[9.0,19.0,20.0,8.0,10.0,7.0,4.0,7.0,4.0,5.0,8.0,5.0,8.0,3.0,9.0,20.0,5.0,13.0,11.0,10.0,4.0,15.0,10.0,19.0,6.0,3.0,15.0,13.0,5.0,6.0,1.0,2.0,6.0,1.0,1.0],\"sizemode\":\"area\",\"sizeref\":0.01875,\"symbol\":\"circle\"},\"mode\":\"markers\",\"name\":\"1\",\"orientation\":\"v\",\"showlegend\":true,\"x\":[0.4246577058210635,0.8466659459867893,0.8748406615856623,0.8785156244898631,0.2956665078836152,0.9103653029929368,3.60166313650266,1.7543817833243889,3.60166313650266,1.642907908563631,0.868960720938941,0.9581398207475472,0.703342392722958,3.60166313650266,0.4007704469437583,1.2023206892711118,1.7543817833243889,1.3084862842813574,1.4995843552997992,0.6123433112856046,3.60166313650266,0.6205332286149665,0.6123433112856046,0.4417200335905673,1.1747176345684482,1.642907908563631,0.6396430357168107,0.9050570232424244,0.9581398207475472,1.4040353197905784,2.6461727814104505,1.7862314618274622,0.5653271192096387,1.977329532845904,1.1173882132629154],\"xaxis\":\"x\",\"y\":[0.1538461538461538,0.1153846153846153,0.1034482758620689,0.4,0.3333333333333333,0.1666666666666666,0.75,0.125,0.0,0.6666666666666666,0.7,0.0,0.0909090909090909,0.0,0.2307692307692307,0.3076923076923077,0.3333333333333333,0.2222222222222222,0.6,0.3571428571428571,1.0,0.2272727272727272,0.3846153846153846,0.3793103448275862,0.3333333333333333,0.25,0.2916666666666667,0.4736842105263157,0.1428571428571428,0.375,1.0,0.5,0.0,0.0,0.0],\"yaxis\":\"y\",\"type\":\"scatter\"},{\"hovertemplate\":\"<b>%{hovertext}</b><br><br>Number of titles=3<br>custom_score=%{x}<br>sub_win_ratio=%{y}<br>total_wins=%{marker.size}<extra></extra>\",\"hovertext\":[\"Roger Gracie\",\"Braulio Estima\",\"Dean Lister\",\"Yuri Simoes\",\"Royler Gracie\",\"Rubens Charles\"],\"legendgroup\":\"3\",\"marker\":{\"color\":\"rgb(240, 116, 110)\",\"size\":[12.0,12.0,19.0,16.0,14.0,18.0],\"sizemode\":\"area\",\"sizeref\":0.01875,\"symbol\":\"circle\"},\"mode\":\"markers\",\"name\":\"3\",\"orientation\":\"v\",\"showlegend\":true,\"x\":[3.362790547729608,2.5346989066496928,1.0218391777536946,1.417685182006181,2.359525674882788,2.0182791194927128],\"xaxis\":\"x\",\"y\":[0.6153846153846154,0.5,0.5714285714285714,0.1052631578947368,0.3333333333333333,0.35],\"yaxis\":\"y\",\"type\":\"scatter\"},{\"hovertemplate\":\"<b>%{hovertext}</b><br><br>Number of titles=2<br>custom_score=%{x}<br>sub_win_ratio=%{y}<br>total_wins=%{marker.size}<extra></extra>\",\"hovertext\":[\"Ronaldo Souza\",\"Marcus Almeida\",\"Rafael Mendes\",\"Alexandre Ribeiro\",\"Jonathan Torres\",\"Kaynan Duarte\",\"Leonardo Vieira\",\"Renzo Gracie\",\"Saulo Ribeiro\",\"Mark Kerr\"],\"legendgroup\":\"2\",\"marker\":{\"color\":\"rgb(227, 79, 111)\",\"size\":[11.0,18.0,11.0,30.0,12.0,8.0,21.0,11.0,22.0,5.0],\"sizemode\":\"area\",\"sizeref\":0.01875,\"symbol\":\"circle\"},\"mode\":\"markers\",\"name\":\"2\",\"orientation\":\"v\",\"showlegend\":true,\"x\":[2.279901478625104,2.232126960870493,2.216202121618956,1.1364980203647597,0.6874175534714212,2.263976639373567,0.7925214925315641,0.7670417497291053,0.8968904390108671,3.506114100993439],\"xaxis\":\"x\",\"y\":[0.4285714285714285,0.3636363636363636,0.5,0.3023255813953488,0.0666666666666666,0.1111111111111111,0.2,0.2,0.1333333333333333,0.0],\"yaxis\":\"y\",\"type\":\"scatter\"},{\"hovertemplate\":\"<b>%{hovertext}</b><br><br>Number of titles=5<br>custom_score=%{x}<br>sub_win_ratio=%{y}<br>total_wins=%{marker.size}<extra></extra>\",\"hovertext\":[\"Gordon Ryan\",\"Gabrielle Garcia\"],\"legendgroup\":\"5\",\"marker\":{\"color\":\"rgb(220, 57, 119)\",\"size\":[20.0,14.0],\"sizemode\":\"area\",\"sizeref\":0.01875,\"symbol\":\"circle\"},\"mode\":\"markers\",\"name\":\"5\",\"orientation\":\"v\",\"showlegend\":true,\"x\":[5.417094811177859,2.6734725058416564],\"xaxis\":\"x\",\"y\":[0.7142857142857143,0.4375],\"yaxis\":\"y\",\"type\":\"scatter\"},{\"hovertemplate\":\"<b>%{hovertext}</b><br><br>Number of titles=6<br>custom_score=%{x}<br>sub_win_ratio=%{y}<br>total_wins=%{marker.size}<extra></extra>\",\"hovertext\":[\"Andre Galvao\"],\"legendgroup\":\"6\",\"marker\":{\"color\":\"rgb(185, 37, 122)\",\"size\":[22.0],\"sizemode\":\"area\",\"sizeref\":0.01875,\"symbol\":\"circle\"},\"mode\":\"markers\",\"name\":\"6\",\"orientation\":\"v\",\"showlegend\":true,\"x\":[3.2576866086694647],\"xaxis\":\"x\",\"y\":[0.1851851851851851],\"yaxis\":\"y\",\"type\":\"scatter\"},{\"hovertemplate\":\"<b>%{hovertext}</b><br><br>Number of titles=4<br>custom_score=%{x}<br>sub_win_ratio=%{y}<br>total_wins=%{marker.size}<extra></extra>\",\"hovertext\":[\"Jose Mario Sperry\",\"Marcelo Garcia\",\"Ricardo Arona\"],\"legendgroup\":\"4\",\"marker\":{\"color\":\"rgb(124, 29, 111)\",\"size\":[9.0,27.0,13.0],\"sizemode\":\"area\",\"sizeref\":0.01875,\"symbol\":\"circle\"},\"mode\":\"markers\",\"name\":\"4\",\"orientation\":\"v\",\"showlegend\":true,\"x\":[3.20354215521424,2.2002772823674195,16.40523389473827],\"xaxis\":\"x\",\"y\":[0.2727272727272727,0.71875,0.1538461538461538],\"yaxis\":\"y\",\"type\":\"scatter\"}],                        {\"template\":{\"data\":{\"histogram2dcontour\":[{\"type\":\"histogram2dcontour\",\"colorbar\":{\"outlinewidth\":0,\"ticks\":\"\"},\"colorscale\":[[0.0,\"#0d0887\"],[0.1111111111111111,\"#46039f\"],[0.2222222222222222,\"#7201a8\"],[0.3333333333333333,\"#9c179e\"],[0.4444444444444444,\"#bd3786\"],[0.5555555555555556,\"#d8576b\"],[0.6666666666666666,\"#ed7953\"],[0.7777777777777778,\"#fb9f3a\"],[0.8888888888888888,\"#fdca26\"],[1.0,\"#f0f921\"]]}],\"choropleth\":[{\"type\":\"choropleth\",\"colorbar\":{\"outlinewidth\":0,\"ticks\":\"\"}}],\"histogram2d\":[{\"type\":\"histogram2d\",\"colorbar\":{\"outlinewidth\":0,\"ticks\":\"\"},\"colorscale\":[[0.0,\"#0d0887\"],[0.1111111111111111,\"#46039f\"],[0.2222222222222222,\"#7201a8\"],[0.3333333333333333,\"#9c179e\"],[0.4444444444444444,\"#bd3786\"],[0.5555555555555556,\"#d8576b\"],[0.6666666666666666,\"#ed7953\"],[0.7777777777777778,\"#fb9f3a\"],[0.8888888888888888,\"#fdca26\"],[1.0,\"#f0f921\"]]}],\"heatmap\":[{\"type\":\"heatmap\",\"colorbar\":{\"outlinewidth\":0,\"ticks\":\"\"},\"colorscale\":[[0.0,\"#0d0887\"],[0.1111111111111111,\"#46039f\"],[0.2222222222222222,\"#7201a8\"],[0.3333333333333333,\"#9c179e\"],[0.4444444444444444,\"#bd3786\"],[0.5555555555555556,\"#d8576b\"],[0.6666666666666666,\"#ed7953\"],[0.7777777777777778,\"#fb9f3a\"],[0.8888888888888888,\"#fdca26\"],[1.0,\"#f0f921\"]]}],\"heatmapgl\":[{\"type\":\"heatmapgl\",\"colorbar\":{\"outlinewidth\":0,\"ticks\":\"\"},\"colorscale\":[[0.0,\"#0d0887\"],[0.1111111111111111,\"#46039f\"],[0.2222222222222222,\"#7201a8\"],[0.3333333333333333,\"#9c179e\"],[0.4444444444444444,\"#bd3786\"],[0.5555555555555556,\"#d8576b\"],[0.6666666666666666,\"#ed7953\"],[0.7777777777777778,\"#fb9f3a\"],[0.8888888888888888,\"#fdca26\"],[1.0,\"#f0f921\"]]}],\"contourcarpet\":[{\"type\":\"contourcarpet\",\"colorbar\":{\"outlinewidth\":0,\"ticks\":\"\"}}],\"contour\":[{\"type\":\"contour\",\"colorbar\":{\"outlinewidth\":0,\"ticks\":\"\"},\"colorscale\":[[0.0,\"#0d0887\"],[0.1111111111111111,\"#46039f\"],[0.2222222222222222,\"#7201a8\"],[0.3333333333333333,\"#9c179e\"],[0.4444444444444444,\"#bd3786\"],[0.5555555555555556,\"#d8576b\"],[0.6666666666666666,\"#ed7953\"],[0.7777777777777778,\"#fb9f3a\"],[0.8888888888888888,\"#fdca26\"],[1.0,\"#f0f921\"]]}],\"surface\":[{\"type\":\"surface\",\"colorbar\":{\"outlinewidth\":0,\"ticks\":\"\"},\"colorscale\":[[0.0,\"#0d0887\"],[0.1111111111111111,\"#46039f\"],[0.2222222222222222,\"#7201a8\"],[0.3333333333333333,\"#9c179e\"],[0.4444444444444444,\"#bd3786\"],[0.5555555555555556,\"#d8576b\"],[0.6666666666666666,\"#ed7953\"],[0.7777777777777778,\"#fb9f3a\"],[0.8888888888888888,\"#fdca26\"],[1.0,\"#f0f921\"]]}],\"mesh3d\":[{\"type\":\"mesh3d\",\"colorbar\":{\"outlinewidth\":0,\"ticks\":\"\"}}],\"scatter\":[{\"fillpattern\":{\"fillmode\":\"overlay\",\"size\":10,\"solidity\":0.2},\"type\":\"scatter\"}],\"parcoords\":[{\"type\":\"parcoords\",\"line\":{\"colorbar\":{\"outlinewidth\":0,\"ticks\":\"\"}}}],\"scatterpolargl\":[{\"type\":\"scatterpolargl\",\"marker\":{\"colorbar\":{\"outlinewidth\":0,\"ticks\":\"\"}}}],\"bar\":[{\"error_x\":{\"color\":\"#2a3f5f\"},\"error_y\":{\"color\":\"#2a3f5f\"},\"marker\":{\"line\":{\"color\":\"#E5ECF6\",\"width\":0.5},\"pattern\":{\"fillmode\":\"overlay\",\"size\":10,\"solidity\":0.2}},\"type\":\"bar\"}],\"scattergeo\":[{\"type\":\"scattergeo\",\"marker\":{\"colorbar\":{\"outlinewidth\":0,\"ticks\":\"\"}}}],\"scatterpolar\":[{\"type\":\"scatterpolar\",\"marker\":{\"colorbar\":{\"outlinewidth\":0,\"ticks\":\"\"}}}],\"histogram\":[{\"marker\":{\"pattern\":{\"fillmode\":\"overlay\",\"size\":10,\"solidity\":0.2}},\"type\":\"histogram\"}],\"scattergl\":[{\"type\":\"scattergl\",\"marker\":{\"colorbar\":{\"outlinewidth\":0,\"ticks\":\"\"}}}],\"scatter3d\":[{\"type\":\"scatter3d\",\"line\":{\"colorbar\":{\"outlinewidth\":0,\"ticks\":\"\"}},\"marker\":{\"colorbar\":{\"outlinewidth\":0,\"ticks\":\"\"}}}],\"scattermapbox\":[{\"type\":\"scattermapbox\",\"marker\":{\"colorbar\":{\"outlinewidth\":0,\"ticks\":\"\"}}}],\"scatterternary\":[{\"type\":\"scatterternary\",\"marker\":{\"colorbar\":{\"outlinewidth\":0,\"ticks\":\"\"}}}],\"scattercarpet\":[{\"type\":\"scattercarpet\",\"marker\":{\"colorbar\":{\"outlinewidth\":0,\"ticks\":\"\"}}}],\"carpet\":[{\"aaxis\":{\"endlinecolor\":\"#2a3f5f\",\"gridcolor\":\"white\",\"linecolor\":\"white\",\"minorgridcolor\":\"white\",\"startlinecolor\":\"#2a3f5f\"},\"baxis\":{\"endlinecolor\":\"#2a3f5f\",\"gridcolor\":\"white\",\"linecolor\":\"white\",\"minorgridcolor\":\"white\",\"startlinecolor\":\"#2a3f5f\"},\"type\":\"carpet\"}],\"table\":[{\"cells\":{\"fill\":{\"color\":\"#EBF0F8\"},\"line\":{\"color\":\"white\"}},\"header\":{\"fill\":{\"color\":\"#C8D4E3\"},\"line\":{\"color\":\"white\"}},\"type\":\"table\"}],\"barpolar\":[{\"marker\":{\"line\":{\"color\":\"#E5ECF6\",\"width\":0.5},\"pattern\":{\"fillmode\":\"overlay\",\"size\":10,\"solidity\":0.2}},\"type\":\"barpolar\"}],\"pie\":[{\"automargin\":true,\"type\":\"pie\"}]},\"layout\":{\"autotypenumbers\":\"strict\",\"colorway\":[\"#636efa\",\"#EF553B\",\"#00cc96\",\"#ab63fa\",\"#FFA15A\",\"#19d3f3\",\"#FF6692\",\"#B6E880\",\"#FF97FF\",\"#FECB52\"],\"font\":{\"color\":\"#2a3f5f\"},\"hovermode\":\"closest\",\"hoverlabel\":{\"align\":\"left\"},\"paper_bgcolor\":\"white\",\"plot_bgcolor\":\"#E5ECF6\",\"polar\":{\"bgcolor\":\"#E5ECF6\",\"angularaxis\":{\"gridcolor\":\"white\",\"linecolor\":\"white\",\"ticks\":\"\"},\"radialaxis\":{\"gridcolor\":\"white\",\"linecolor\":\"white\",\"ticks\":\"\"}},\"ternary\":{\"bgcolor\":\"#E5ECF6\",\"aaxis\":{\"gridcolor\":\"white\",\"linecolor\":\"white\",\"ticks\":\"\"},\"baxis\":{\"gridcolor\":\"white\",\"linecolor\":\"white\",\"ticks\":\"\"},\"caxis\":{\"gridcolor\":\"white\",\"linecolor\":\"white\",\"ticks\":\"\"}},\"coloraxis\":{\"colorbar\":{\"outlinewidth\":0,\"ticks\":\"\"}},\"colorscale\":{\"sequential\":[[0.0,\"#0d0887\"],[0.1111111111111111,\"#46039f\"],[0.2222222222222222,\"#7201a8\"],[0.3333333333333333,\"#9c179e\"],[0.4444444444444444,\"#bd3786\"],[0.5555555555555556,\"#d8576b\"],[0.6666666666666666,\"#ed7953\"],[0.7777777777777778,\"#fb9f3a\"],[0.8888888888888888,\"#fdca26\"],[1.0,\"#f0f921\"]],\"sequentialminus\":[[0.0,\"#0d0887\"],[0.1111111111111111,\"#46039f\"],[0.2222222222222222,\"#7201a8\"],[0.3333333333333333,\"#9c179e\"],[0.4444444444444444,\"#bd3786\"],[0.5555555555555556,\"#d8576b\"],[0.6666666666666666,\"#ed7953\"],[0.7777777777777778,\"#fb9f3a\"],[0.8888888888888888,\"#fdca26\"],[1.0,\"#f0f921\"]],\"diverging\":[[0,\"#8e0152\"],[0.1,\"#c51b7d\"],[0.2,\"#de77ae\"],[0.3,\"#f1b6da\"],[0.4,\"#fde0ef\"],[0.5,\"#f7f7f7\"],[0.6,\"#e6f5d0\"],[0.7,\"#b8e186\"],[0.8,\"#7fbc41\"],[0.9,\"#4d9221\"],[1,\"#276419\"]]},\"xaxis\":{\"gridcolor\":\"white\",\"linecolor\":\"white\",\"ticks\":\"\",\"title\":{\"standoff\":15},\"zerolinecolor\":\"white\",\"automargin\":true,\"zerolinewidth\":2},\"yaxis\":{\"gridcolor\":\"white\",\"linecolor\":\"white\",\"ticks\":\"\",\"title\":{\"standoff\":15},\"zerolinecolor\":\"white\",\"automargin\":true,\"zerolinewidth\":2},\"scene\":{\"xaxis\":{\"backgroundcolor\":\"#E5ECF6\",\"gridcolor\":\"white\",\"linecolor\":\"white\",\"showbackground\":true,\"ticks\":\"\",\"zerolinecolor\":\"white\",\"gridwidth\":2},\"yaxis\":{\"backgroundcolor\":\"#E5ECF6\",\"gridcolor\":\"white\",\"linecolor\":\"white\",\"showbackground\":true,\"ticks\":\"\",\"zerolinecolor\":\"white\",\"gridwidth\":2},\"zaxis\":{\"backgroundcolor\":\"#E5ECF6\",\"gridcolor\":\"white\",\"linecolor\":\"white\",\"showbackground\":true,\"ticks\":\"\",\"zerolinecolor\":\"white\",\"gridwidth\":2}},\"shapedefaults\":{\"line\":{\"color\":\"#2a3f5f\"}},\"annotationdefaults\":{\"arrowcolor\":\"#2a3f5f\",\"arrowhead\":0,\"arrowwidth\":1},\"geo\":{\"bgcolor\":\"white\",\"landcolor\":\"#E5ECF6\",\"subunitcolor\":\"white\",\"showland\":true,\"showlakes\":true,\"lakecolor\":\"white\"},\"title\":{\"x\":0.05},\"mapbox\":{\"style\":\"light\"}}},\"xaxis\":{\"anchor\":\"y\",\"domain\":[0.0,1.0],\"title\":{\"text\":\"Custom score\"},\"type\":\"log\"},\"yaxis\":{\"anchor\":\"x\",\"domain\":[0.0,1.0],\"title\":{\"text\":\"Submission ratio\"}},\"legend\":{\"title\":{\"text\":\"Number of titles\"},\"tracegroupgap\":0,\"itemsizing\":\"constant\"},\"margin\":{\"t\":60},\"height\":800,\"width\":800,\"title\":{\"text\":\"Submission ratio by custom score\",\"y\":0.95,\"x\":0.5,\"xanchor\":\"center\",\"yanchor\":\"top\"},\"annotations\":[{\"font\":{\"size\":12},\"showarrow\":false,\"text\":\"(Bubble size proportional to total wins)\",\"x\":0.542,\"xref\":\"paper\",\"y\":1,\"yref\":\"paper\"}]},                        {\"responsive\": true}                    ).then(function(){\n",
       "                            \n",
       "var gd = document.getElementById('2efac533-1d14-43e6-9ff4-501dea28cc92');\n",
       "var x = new MutationObserver(function (mutations, observer) {{\n",
       "        var display = window.getComputedStyle(gd).display;\n",
       "        if (!display || display === 'none') {{\n",
       "            console.log([gd, 'removed!']);\n",
       "            Plotly.purge(gd);\n",
       "            observer.disconnect();\n",
       "        }}\n",
       "}});\n",
       "\n",
       "// Listen for the removal of the full notebook cells\n",
       "var notebookContainer = gd.closest('#notebook-container');\n",
       "if (notebookContainer) {{\n",
       "    x.observe(notebookContainer, {childList: true});\n",
       "}}\n",
       "\n",
       "// Listen for the clearing of the current output cell\n",
       "var outputEl = gd.closest('.output');\n",
       "if (outputEl) {{\n",
       "    x.observe(outputEl, {childList: true});\n",
       "}}\n",
       "\n",
       "                        })                };                });            </script>        </div>"
      ]
     },
     "metadata": {},
     "output_type": "display_data"
    }
   ],
   "source": [
    "# Plots the distribution between win rates and submission rates\n",
    "\n",
    "# Generates the chart object by instanciating a plotly express histogram\n",
    "fig = px.scatter(df, x='custom_score', y='sub_win_ratio', hover_name=\"name\",\n",
    "                 color=df['n_titles'].astype(str), labels={'color': 'Number of titles'},\n",
    "                width=800, height=800, size='total_wins', log_x=True,\n",
    "                color_discrete_sequence=px.colors.sequential.Sunsetdark, size_max=40)\n",
    "\n",
    "\n",
    "fig.update_layout(\n",
    "    title={\n",
    "        'text': \"Submission ratio by custom score\",\n",
    "        'y':0.95,\n",
    "        'x':0.5,\n",
    "        'xanchor': 'center',\n",
    "        'yanchor': 'top'\n",
    "    },\n",
    "    xaxis_title=\"Custom score\", yaxis_title=\"Submission ratio\"\n",
    "\n",
    ")\n",
    "\n",
    "\n",
    "# Display observation under title explaining bubble size\n",
    "legend_annotations = [\n",
    "    dict(\n",
    "        x=0.542,\n",
    "        y=1,\n",
    "        xref=\"paper\",\n",
    "        yref=\"paper\",\n",
    "        text=f\"(Bubble size proportional to total wins)\",\n",
    "        showarrow=False,\n",
    "        font=dict(size=12),\n",
    "    )]\n",
    "\n",
    "fig.update_layout(annotations=legend_annotations)\n",
    "\n",
    "\n",
    "fig.show()"
   ]
  },
  {
   "cell_type": "markdown",
   "id": "ed403ae6",
   "metadata": {
    "papermill": {
     "duration": 0.025871,
     "end_time": "2023-06-16T16:32:42.414598",
     "exception": false,
     "start_time": "2023-06-16T16:32:42.388727",
     "status": "completed"
    },
    "tags": []
   },
   "source": [
    "The plot above highlights some of the most memorable athletes who were never champions such as Rousimar Palhares and Craig Jones, and also Joao Miyao and Ricardo Almeida."
   ]
  },
  {
   "cell_type": "markdown",
   "id": "2194337b",
   "metadata": {
    "papermill": {
     "duration": 0.025954,
     "end_time": "2023-06-16T16:32:42.466764",
     "exception": false,
     "start_time": "2023-06-16T16:32:42.440810",
     "status": "completed"
    },
    "tags": []
   },
   "source": [
    "### Do athletes from different generations prefer different targets? Does that influence ***win*** rates?"
   ]
  },
  {
   "cell_type": "code",
   "execution_count": 19,
   "id": "d600a897",
   "metadata": {
    "_kg_hide-input": true,
    "execution": {
     "iopub.execute_input": "2023-06-16T16:32:42.524684Z",
     "iopub.status.busy": "2023-06-16T16:32:42.523558Z",
     "iopub.status.idle": "2023-06-16T16:32:42.613768Z",
     "shell.execute_reply": "2023-06-16T16:32:42.612920Z"
    },
    "papermill": {
     "duration": 0.123688,
     "end_time": "2023-06-16T16:32:42.616689",
     "exception": false,
     "start_time": "2023-06-16T16:32:42.493001",
     "status": "completed"
    },
    "tags": []
   },
   "outputs": [
    {
     "data": {
      "text/html": [
       "<div>                            <div id=\"533acb69-c93f-43b6-8ec7-dad0f76ec6f2\" class=\"plotly-graph-div\" style=\"height:525px; width:100%;\"></div>            <script type=\"text/javascript\">                require([\"plotly\"], function(Plotly) {                    window.PLOTLYENV=window.PLOTLYENV || {};                                    if (document.getElementById(\"533acb69-c93f-43b6-8ec7-dad0f76ec6f2\")) {                    Plotly.newPlot(                        \"533acb69-c93f-43b6-8ec7-dad0f76ec6f2\",                        [{\"hovertemplate\":\"<b>%{hovertext}</b><br><br>Favorite target=Arm<br>debut_year=%{x}<br>win_ratio=%{y}<br>total_wins=%{marker.size}<extra></extra>\",\"hovertext\":[\"Murilo Santana\",\"Nicholas Meregali\",\"Rida Haisam\",\"Roberto Abreu\",\"Ronaldo Souza\",\"Dante Leon\",\"Demian Maia\",\"Gilbert Burns\",\"Marcio Feitosa\",\"Geovanny Martinez\",\"Alexandre Ribeiro\",\"Fabricio Werdum\",\"Ffion Davies\",\"Jose Mario Sperry\",\"Joshua Cisneros\",\"Kade Ruotolo\",\"Leonardo Santos\",\"Marcio Cruz\",\"Micael Galvao\",\"Vagner Rocha\",\"Ricco Rodriguez\",\"Marcio Corleta\"],\"legendgroup\":\"Arm\",\"marker\":{\"color\":\"#636efa\",\"opacity\":0.6,\"size\":[5.0,6.0,1.0,20.0,11.0,5.0,7.0,3.0,8.0,3.0,30.0,20.0,5.0,9.0,2.0,4.0,5.0,15.0,3.0,11.0,15.0,1.0],\"sizemode\":\"area\",\"sizeref\":0.03333333333333333,\"symbol\":\"circle\"},\"mode\":\"markers\",\"name\":\"Arm\",\"orientation\":\"v\",\"showlegend\":true,\"x\":[2009,2022,2022,2009,2003,2019,2005,2015,2000,2015,2003,2003,2019,1998,2022,2022,2001,2001,2022,2011,1998,2005],\"xaxis\":\"x\",\"y\":[0.4545454545454545,0.75,0.3333333333333333,0.6896551724137931,0.7857142857142857,0.625,0.875,0.75,0.7272727272727273,0.375,0.6976744186046512,0.7692307692307693,0.8333333333333334,0.8181818181818182,0.5,1.0,0.5,0.6818181818181818,0.75,0.6470588235294118,0.625,0.5],\"yaxis\":\"y\",\"type\":\"scatter\"},{\"hovertemplate\":\"<b>%{hovertext}</b><br><br>Favorite target=Neck<br>debut_year=%{x}<br>win_ratio=%{y}<br>total_wins=%{marker.size}<extra></extra>\",\"hovertext\":[\"Nick Rodriguez\",\"Otavio Sousa\",\"Orlando Sanchez\",\"Pablo Popovitch\",\"Roberto Jimenez\",\"Robson Moura\",\"Rodolfo Vieira\",\"Roger Gracie\",\"Braulio Estima\",\"Bruno Frazatto\",\"Craig Jones\",\"Davi Ramos\",\"Eddie Bravo\",\"Gabriel Sousa\",\"Giancarlo Bodoni\",\"Gordon Ryan\",\"Kron Gracie\",\"Lucas Lepri\",\"Rafael Mendes\",\"Tye Ruotolo\",\"Tim Spriggs\",\"Yuri Simoes\",\"Jared Dopp\",\"Baret Yoshida\",\"Felipe Pena\",\"Jake Shields\",\"Jean Jacques Machado\",\"Joao Gabriel Rocha\",\"Josh Hinger\",\"Jonathan Torres\",\"Kaynan Duarte\",\"Kennedy Maciel\",\"Leonardo Vieira\",\"Marcelo Garcia\",\"Mason Fowler\",\"Matt Serra\",\"Rafael Lovato Jr\",\"Rany Yahya\",\"Renzo Gracie\",\"Ricardo Almeida\",\"Ricardo Liborio\",\"Royler Gracie\",\"Rubens Charles\",\"Saulo Ribeiro\",\"Victor Hugo\",\"Vitor Ribeiro\",\"Bianca Basilio\",\"Jeff Glover\",\"Antonio Braga Neto\",\"Dillon Danis\",\"Alexandre de Freitas\",\"Abraham Marte Messina\",\"Antonio Schembri\",\"Ethan Crelinsten\",\"Kendall Reusing\",\"Leonardo Nogueira\",\"Ricardo Vieira\",\"Rodrigo Gracie\",\"Beatriz Mesquita\",\"Bianca Mesquita\",\"Vitor Viana\",\"Ana Carolina Vieira\",\"Robert Drysdale\",\"Oskar Piechota\"],\"legendgroup\":\"Neck\",\"marker\":{\"color\":\"#EF553B\",\"opacity\":0.6,\"size\":[7.0,5.0,9.0,19.0,1.0,5.0,8.0,12.0,12.0,3.0,9.0,4.0,2.0,3.0,5.0,20.0,8.0,8.0,11.0,4.0,3.0,16.0,8.0,11.0,13.0,3.0,11.0,9.0,4.0,12.0,8.0,4.0,21.0,27.0,2.0,3.0,14.0,10.0,11.0,12.0,7.0,14.0,18.0,22.0,3.0,4.0,6.0,6.0,1.0,1.0,13.0,1.0,3.0,1.0,1.0,3.0,1.0,6.0,2.0,1.0,1.0,1.0,2.0,1.0],\"sizemode\":\"area\",\"sizeref\":0.03333333333333333,\"symbol\":\"circle\"},\"mode\":\"markers\",\"name\":\"Neck\",\"orientation\":\"v\",\"showlegend\":true,\"x\":[2019,2013,2013,2003,2022,2001,2011,2003,2005,2011,2017,2015,2003,2022,2022,2017,2009,2013,2009,2019,2017,2015,2013,1999,2015,2005,1999,2013,2019,2011,2019,2019,2000,2003,2019,2001,2007,2003,1998,1999,1999,1999,2009,1999,2019,2000,2017,2007,2011,2015,1998,2015,2001,2017,2022,2013,2013,1998,2019,2017,2005,2019,2007,2013],\"xaxis\":\"x\",\"y\":[0.7,0.625,0.6923076923076923,0.7307692307692307,0.3333333333333333,0.625,0.8,0.9230769230769232,0.75,0.4285714285714285,0.6428571428571429,1.0,0.6666666666666666,0.75,0.8333333333333334,0.9523809523809524,0.8,0.6666666666666666,0.9166666666666666,0.5,0.5,0.8421052631578947,0.5333333333333333,0.5,0.7222222222222222,0.6,0.7333333333333333,0.6,0.6666666666666666,0.8,0.8888888888888888,0.6666666666666666,0.7,0.84375,0.5,0.75,0.5384615384615384,0.7692307692307693,0.7333333333333333,0.631578947368421,0.7,0.9333333333333332,0.9,0.7333333333333333,0.5,0.5714285714285714,0.6666666666666666,0.5454545454545454,0.25,0.25,0.6842105263157895,0.5,0.75,0.3333333333333333,0.5,0.6,0.5,0.75,0.5,1.0,1.0,1.0,0.5,0.3333333333333333],\"yaxis\":\"y\",\"type\":\"scatter\"},{\"hovertemplate\":\"<b>%{hovertext}</b><br><br>Favorite target=No specific target<br>debut_year=%{x}<br>win_ratio=%{y}<br>total_wins=%{marker.size}<extra></extra>\",\"hovertext\":[\"Pablo Mantovani\",\"Paul Schreiner\",\"Paulo Miyao\",\"Rodrigo Medeiros\",\"Adam Wardzinski\",\"Celso Vinicius\",\"Brianna Ste-Marie\",\"Diogo Reis\",\"DeAlonzio Jackson\",\"Gabriel Arges\",\"Gianni Grippo\",\"Justin Rader\",\"Lucas Daniel Barbosa\",\"Matheus Diniz\",\"Matheus Gabriel Barros\",\"Renato Forasieppi Canuto\",\"Ryan Hall\",\"Patrick Gaudio\",\"Mansher Khera\",\"Abdurakhman Bilarov\",\"AJ Agazarm\",\"Amy Campo\",\"Elder Cruz\",\"Fabricio Andrey\",\"Jackson Sousa\",\"James Puopolo\",\"Kyle Boehm\",\"Rafaela Guedes\",\"Richard Alarcon\",\"Sam McNally\",\"Victor Estima\",\"Vinicius Ferreira\",\"Jeremy Skinner\",\"Marcelo Mafra\",\"Nicky Ryan\",\"Rigan Machado\",\"Lucas Leite\",\"Amaury Bitetti\",\"Jorge Patino\",\"Marcio Andre Barbosa Junior\",\"Pedro Marinho\",\"Cassio Francis\",\"Rodrigo Cavaca\",\"Roberto Magalhaes\",\"Gregor Gracie\",\"Flavio Almeida\",\"Gabriel Rollo\",\"Glover Teixeira\",\"Jessica Oliveira\",\"Ruslam Chsiev\",\"Sean Alvarez\",\"Mark Kerr\",\"Mark Robinson\",\"Vitor Belfort\",\"John Hansen\",\"Eoghan OFlannagan\",\"Garth Taylor\",\"Kareem Barkalev\",\"Sasha Palvski\",\"Jeff Monson\",\"Chael Sonnen\",\"Rolles Gracie\",\"Egan Inoue\",\"Murilo Bustamante\",\"Rustam Chsiev\",\"Matt Hughes\",\"Sasha Savko\",\"Olav Einemo\",\"Tito Ortiz\",\"Kyle Griffin\",\"Sanae Kikuta\",\"Nicolas Renier\",\"E. Karpinen\",\"Kuba Witkowski\",\"Gunnar Nelson\",\"Henrique Cardoso\",\"Andy Varela\",\"Thomas Halpin\",\"Tommy Langaker\",\"Michael Perez\",\"Enrico Cocco\",\"Edwin Najmi\",\"Gabriel Lucas\",\"Jonathan Satava\",\"Keith Krikorian\",\"Leonardo Saggioro\",\"John Combs\",\"Alec Baulding\",\"Ruan Alvarenga\",\"Isaque Bahiense\",\"Gabriel Marangoni\",\"Clark Gracie\",\"Perttu Tepponen\",\"Santeri Lilius\",\"Oliver Taza\",\"Alexandre Vieira\",\"Sergio Ardila-Ibarra\",\"John Salter\",\"Elisabeth Clay\",\"Cole Abate\",\"Alexander Trans\",\"Roberto Alencar\",\"Paul Ardila-Ibarra\",\"Gabriel Almeida\",\"Ross Nicholls\",\"Eldar Rafigaev\",\"Devhonte Johnson\",\"Valdir Araujo Junior\",\"Alexandre Jesus\",\"Eleftheria Christodoulou\",\"Ashley Williams\",\"Yuta Shimada\",\"Kit Dale\",\"Felipe Cesar\",\"Shane Hill-Taylor\",\"Leandro Lo\",\"Joao Costa\",\"Servio Tulio\",\"James Brasco\",\"Jose Mario Queiroga\",\"Gerardi Rinaldi\",\"Antonio Peinado\",\"Shinya Aoki\",\"Christian Moriarty\",\"Ryan Gracie\",\"Talita Alencar\",\"Mark Ramos\",\"Gustavo Dantas\",\"Augusto Ferrari\",\"Radoslaw Turek\",\"Penny Thomas\",\"Amanda Alequin / Santana\",\"Michelle Nicolini\",\"Carlos Machado\",\"Fellipe Andrew\",\"E. Karppinen\",\"Igor Praporschchikov\",\"Tomas Szczerek\",\"Yuji Arai\",\"Janne-Pekka\",\"Daniel Strauss\",\"M. Perez\",\"Elvira Karpinnen\",\"Julia Maele\",\"Ben Dyson\",\"Elvira Karppinen\",\"Magid Hage\",\"M. Szczecinski\",\"Young-Ahm\",\"Akira Shoji\",\"Marko Helen\",\"Yushin Okami\",\"M. Yano\",\"Ilir Lafiti\",\"Nate Marquardt\",\"Andreas Olsen\",\"Jia Jang\",\"Ezra Lenon\",\"Hideki Sekine\",\"Lee Hyoung\",\"Ricardo Mesquita\",\"Hannette Staack\",\"Yurika Nakakura\",\"Tammy Griego\",\"Fernanda Mazelli\",\"Alison Tremblay\",\"Amanda Santana\",\"Talita Treta\",\"Stefanie Egger\",\"Ana Carolina\",\"Carina Santi\",\"Satori Kitaoka\",\"Eoghan OFlanagan\",\"Ben Hodgkinson\",\"Heikki Jussila\",\"Timo-Juhani\",\"Erza Lennon\",\"J. Urholin\",\"Piotr Frechowicz\",\"Erico Cocco\",\"Jason Manly\",\"Andy Wang\",\"Tero Pyylampi\",\"Gamrot Mateusz\",\"Osman Kasimov\",\"Kethe Engen\",\"Bia Mesquita\",\"Rodrigo Dib\",\"Josh Hayden\",\"Caol Uno\",\"Peter Angerer\",\"F. Vasconcelos\",\"Urija Faber\",\"Jimmy Freidrich\",\"A. Zhanpeisov\",\"Y. Takahito\",\"Tetsu Suzuki\",\"Jeff Curran\",\"Tetsu Hadario\",\"J. Pietkainen\",\"Zbigniew Tyszka\",\"Hideki Shrek\",\"Elliot Marshal\",\"Luke Griffith\",\"Kamil Wilk\",\"Jesseray Childrey\",\"Amir Allam\",\"Abdulaev Ruslan\",\"Eliott Kelly\",\"Jon Hansen\",\"Yousef Elzien\",\"Ricardo Moraes\",\"Firas Nakdali\",\"Rocky Batastini\",\"Kim Mason\",\"Carlos Barreto\",\"Y. Yatso\",\"Halm Gocalli\",\"Y. Ozawa\",\"Juskowiak Mateusz\",\"Trevor Lally\",\"Marc\",\"Robin Gracie\",\"T. Hirono\",\"Sasha Plavski\",\"Joe Gilbert\",\"Y. Kinishi\",\"K. Hirate\",\"Joaquim Hansen\",\"Erik Paulson\",\"Michael Groth\",\"Jamal Peterson\",\"John Einimo\",\"Antoine Joude\",\"Yukissyu Ozawa\",\"Tim Carpenter\",\"Ilir Latifi\",\"Lucio Lagarto\",\"Yukiyasu Ozawa\",\"T. Pyylampi\",\"Wellington Dias\",\"Akira Shouji\",\"Chris Bright\",\"Mark Bocek\",\"Kassim Anan\",\"Chris Weidman\",\"Tom Bass\",\"Don Ortega\",\"Shinzo Ansai\",\"Akihiro Gono\",\"Alexander Savko\",\"Nicholas Renier\",\"N. Uematsu\",\"Mike Mrkulic\",\"Eddie Sanchez\",\"Yoshitomi Mishima\",\"Tetsu Suzuko\",\"Rikako Yuasa\",\"Nicollas Renier\",\"T. Kosaka\",\"Jehad Hamdan\",\"Mike Van\",\"Matt Lindland\",\"Denis Roberts\",\"Daniel Simoes\",\"Reese Andy\",\"Mario Rinaldi\",\"Elvis Sinosic\",\"Darren Andy\",\"Rogent Lorent\",\"Tomasz Janiszewski\",\"Jimmy Friedrich\",\"Josh Saunders\",\"Paulo Pinto\",\"Diego Sanchez\",\"Cameron Earle\",\"Micah Pittman\",\"Mikey Burnet\",\"Serguei Onishuk\",\"Y. Kohsaka\",\"Jamie Ballard\",\"Daniel Hortegas\",\"James Poupolo\",\"Liu Wen\",\"Tomasz Narkun\",\"Michael Wilson\",\"Jason Lees\",\"Eduardo Rios\",\"Fabio Gurgel\",\"Karl Webber\",\"Egan Inoe\",\"Take Hanai\",\"Muhammad Saleh\",\"Larry Parker\",\"Renato Verissimo\",\"Oleg Taktarov\",\"Simon Siasi\",\"Enson Inoe\",\"Keita Iwamoto\",\"Owen Livesey\",\"Giovanna Jara\",\"Cristiano Lazzarini\",\"R. Alvarenga\",\"Alian Drueco\",\"Mikael Knutsson\",\"George St\",\"Yoshiyuki Yoshida\",\"Morris Clifoni\",\"Allan Teo\",\"T. Suzuki\",\"Joey Gilbert\",\"Rob Di\",\"D. Marinakis\",\"Sotaro Yamada\",\"Rodney Ellis\",\"Bruno Bastos\",\"Marcos Oliveira\",\"Anthony Perosh\",\"Kiuma Kunioku\",\"Mario Miranda\",\"George Sotiropoulos\",\"Kurt Pellegrino\",\"Keita Nakamura\",\"Robert Sabaruddin\",\"Van Arsdale\",\"Mike Whitehead\",\"Alex Negao\",\"Miodrag Petkovic\",\"J. Pietlainen\",\"Takanori Gomi\",\"Thomas DeBlass\",\"Jorge Britto\",\"Keller Sodhi\",\"Youngnam Noh\",\"Ben Henderson\",\"Kitner Mendoga\",\"H. Sekine\",\"Mateusz Juskowiak\",\"E. Elgland\",\"Eric Dahlberg\",\"Ben Askren\",\"Doorwang Jeon\",\"Janus Andrejczuk\",\"Kenta Iwamoto\",\"Wagnney Fabiano\",\"Jacob Rodriguez\",\"Tom Lawlor\",\"Jeon Doo\",\"Shinsho Anzai\",\"Hidemi Mihara\",\"Abdulkadirov Magomed\",\"Perttu Terpponnen\",\"Teemu Launis\",\"Mario Delgado\",\"Darrel Moodley\",\"Kouhei Yasumi\",\"Frank Trigg\",\"Rodrigo Modrias\",\"Fabiano Iha\",\"Israel Albuquerque\",\"Chris Brown\",\"G. Sotiropoulos\",\"Josh Barnet\",\"Y. Setsenko\",\"Marshurenko\",\"M. Van\",\"Andy Reese\",\"R. Babalu\",\"Roger Neff\",\"Luis Orlando\",\"Toshiyuki Oyama\",\"Yuta Sasaki\",\"Travis Lutter\",\"Jerry Bolander\",\"Pete Williams\",\"Yuki Ozawa\",\"Asa Fuller\",\"Sekine Hideki\",\"Mike Martelle\",\"Kamil Huminski\",\"Khazmat Stambulov\",\"Jurie Rachel\",\"Luis Roberto\",\"Hiroyuko Abe\",\"Joe Guilbert\",\"Greger Forsel\",\"Joseph Lee\",\"Adrian Serrano\",\"Carlos Newton\",\"Ahmad Faraj\",\"Gavin Kulper\",\"Nathan Marquardt\",\"Justin Garcia\",\"Jon Einemo\",\"Travers Grubb\",\"Kim Dong\",\"C. Jones\",\"Nieman Gracie\",\"David Bielkheden\",\"Dennis Hallman\",\"Joao Roque\",\"James Harbison\",\"Dan Schon\",\"Juan Valles\",\"Melchor M.\",\"A. Hamlet\",\"Martin Brown\",\"Mike Cardosa\",\"Charles Pearson\",\"Hiroshi Nakamura\",\"Joel Tudor\",\"David Marinakis\",\"Tezekbaev Rasul\",\"U. Zhakshylyk\",\"Vernon White\",\"Dave Menne\",\"R. Anderson\",\"T. Yano\",\"Yuki Sasaki\",\"L. Papadopoulis\",\"Kouji Kanechika\",\"Jorge Santiago\",\"I. Praporshchikov\",\"Jose Junior\",\"Milton Vieira\",\"Isaak Michel\",\"Sanshiro Nakamura\",\"Chris Wideman\",\"Luke Costello\",\"Wang Yan\",\"P. Ardilla\",\"Rumina Sato\",\"Fernando Vieira\",\"Hanette Staack\",\"Jessica Flowers\",\"Akira Soji\",\"Otto Olsen\",\"Renan Sancar\",\"Mateusz Garmot\",\"Kaynan D.\",\"Jayson Patino\",\"Mraz Avdoyan\",\"Rodrigo Minotauro\",\"Tobias G\",\"Kari Petola\",\"Adele Fornarino\",\"Ryan Harvey\",\"Tom Barlow\",\"Janne Pietilainen\",\"Ricardo Alves\",\"Sim Go\",\"Jason White\",\"Damon Ramos\",\"Roan Jucao\",\"Bruno Chavez\",\"Luis Brito\",\"Fan Yi\",\"H. Kanehara\",\"R. Mashurenko\",\"Tamura\",\"Hudson Taylor\",\"F. Capoane\",\"Adam Sachnoff\",\"Genki Sudo\",\"Robert Sulski\",\"J. Wakabayashi\",\"D. Hemmings\",\"Takefuni Hanai\",\"Dan Manasoiu\",\"Livia Giles\",\"Roman Dolidze\",\"Hector Lombard\",\"Asadulaev Surkhay\",\"Marcio Cromado\",\"Bob Schirmer\",\"Chris Brennan\",\"Gao Hua\",\"Mourat Ozov\",\"Rodrigo Artilheiro\",\"K. Toida\",\"Davis Heart\",\"Davion Peterson\",\"Manu Garcia\",\"Dan Martinez\",\"Jason Brudvik\",\"Jason Ramsterrer\",\"Jesse Urholin\",\"Amanda Leve\",\"Rodrigo Caporal\",\"William Tackett\",\"Mayssa Bastos\"],\"legendgroup\":\"No specific target\",\"marker\":{\"color\":\"#00cc96\",\"opacity\":0.6,\"size\":[3.0,2.0,6.0,3.0,1.0,2.0,2.0,4.0,2.0,1.0,1.0,5.0,5.0,5.0,1.0,2.0,3.0,2.0,1.0,1.0,4.0,3.0,1.0,1.0,4.0,1.0,1.0,2.0,1.0,1.0,2.0,4.0,1.0,1.0,1.0,5.0,1.0,1.0,3.0,1.0,1.0,1.0,1.0,1.0,2.0,1.0,1.0,1.0,1.0,1.0,2.0,5.0,1.0,1.0,2.0,1.0,1.0,1.0,1.0,6.0,1.0,1.0,2.0,1.0,2.0,1.0,1.0,2.0,1.0,1.0,1.0,1.0,1.0,1.0,1.0,0.0,0.0,0.0,0.0,0.0,0.0,0.0,0.0,0.0,0.0,0.0,0.0,0.0,0.0,0.0,0.0,0.0,0.0,0.0,0.0,0.0,0.0,0.0,0.0,0.0,0.0,0.0,0.0,0.0,0.0,0.0,0.0,0.0,0.0,0.0,0.0,0.0,0.0,0.0,0.0,0.0,0.0,0.0,0.0,0.0,0.0,0.0,0.0,0.0,0.0,0.0,0.0,0.0,0.0,0.0,0.0,0.0,0.0,0.0,0.0,0.0,0.0,0.0,0.0,0.0,0.0,0.0,0.0,0.0,0.0,0.0,0.0,0.0,0.0,0.0,0.0,0.0,0.0,0.0,0.0,0.0,0.0,0.0,0.0,0.0,0.0,0.0,0.0,0.0,0.0,0.0,0.0,0.0,0.0,0.0,0.0,0.0,0.0,0.0,0.0,0.0,0.0,0.0,0.0,0.0,0.0,0.0,0.0,0.0,0.0,0.0,0.0,0.0,0.0,0.0,0.0,0.0,0.0,0.0,0.0,0.0,0.0,0.0,0.0,0.0,0.0,0.0,0.0,0.0,0.0,0.0,0.0,0.0,0.0,0.0,0.0,0.0,0.0,0.0,0.0,0.0,0.0,0.0,0.0,0.0,0.0,0.0,0.0,0.0,0.0,0.0,0.0,0.0,0.0,0.0,0.0,0.0,0.0,0.0,0.0,0.0,0.0,0.0,0.0,0.0,0.0,0.0,0.0,0.0,0.0,0.0,0.0,0.0,0.0,0.0,0.0,0.0,0.0,0.0,0.0,0.0,0.0,0.0,0.0,0.0,0.0,0.0,0.0,0.0,0.0,0.0,0.0,0.0,0.0,0.0,0.0,0.0,0.0,0.0,0.0,0.0,0.0,0.0,0.0,0.0,0.0,0.0,0.0,0.0,0.0,0.0,0.0,0.0,0.0,0.0,0.0,0.0,0.0,0.0,0.0,0.0,0.0,0.0,0.0,0.0,0.0,0.0,0.0,0.0,0.0,0.0,0.0,0.0,0.0,0.0,0.0,0.0,0.0,0.0,0.0,0.0,0.0,0.0,0.0,0.0,0.0,0.0,0.0,0.0,0.0,0.0,0.0,0.0,0.0,0.0,0.0,0.0,0.0,0.0,0.0,0.0,0.0,0.0,0.0,0.0,0.0,0.0,0.0,0.0,0.0,0.0,0.0,0.0,0.0,0.0,0.0,0.0,0.0,0.0,0.0,0.0,0.0,0.0,0.0,0.0,0.0,0.0,0.0,0.0,0.0,0.0,0.0,0.0,0.0,0.0,0.0,0.0,0.0,0.0,0.0,0.0,0.0,0.0,0.0,0.0,0.0,0.0,0.0,0.0,0.0,0.0,0.0,0.0,0.0,0.0,0.0,0.0,0.0,0.0,0.0,0.0,0.0,0.0,0.0,0.0,0.0,0.0,0.0,0.0,0.0,0.0,0.0,0.0,0.0,0.0,0.0,0.0,0.0,0.0,0.0,0.0,0.0,0.0,0.0,0.0,0.0,0.0,0.0,0.0,0.0,0.0,0.0,0.0,0.0,0.0,0.0,0.0,0.0,0.0,0.0,0.0,0.0,0.0,0.0,0.0,0.0,0.0,0.0,0.0,0.0,0.0,0.0,0.0,0.0,0.0,0.0,0.0,0.0,0.0,0.0,0.0,0.0,0.0,0.0,0.0,0.0,0.0,0.0,0.0,0.0,0.0,0.0,0.0,0.0,0.0,0.0,0.0,0.0,0.0,0.0,0.0,0.0,0.0,0.0,0.0,0.0,0.0,0.0,0.0,0.0,0.0,0.0,0.0,0.0,0.0,0.0],\"sizemode\":\"area\",\"sizeref\":0.03333333333333333,\"symbol\":\"circle\"},\"mode\":\"markers\",\"name\":\"No specific target\",\"orientation\":\"v\",\"showlegend\":true,\"x\":[2017,2022,2017,2000,2019,2017,2022,2022,2013,2019,2015,2009,2019,2019,2019,2019,2009,2019,2017,2017,2013,2022,2022,2022,2017,2013,2022,2022,2019,2022,2011,2019,2022,2017,2017,1999,2013,1999,2000,2013,2019,2015,2009,2000,2009,2007,2015,2009,2015,2017,1998,2000,2001,2001,2019,2022,1999,1998,1999,1999,2017,2007,1999,1999,2013,2000,1999,2001,2000,2011,1999,2011,2017,2017,2009,2022,2022,2019,2022,2019,2011,2019,2015,2019,2019,2017,2019,2019,2022,2022,2015,2011,2019,2022,2017,2015,2017,2017,2022,2022,2011,2015,2017,2019,2019,2019,2022,2019,2022,2022,2022,2017,2017,2017,2019,2017,2022,2019,2009,2000,2009,2011,2005,2007,2003,2017,2011,2001,2011,2009,2011,2017,2015,2000,2019,2017,2011,2007,2009,2009,2011,2015,2019,2022,2019,2022,2022,2022,2015,2003,2005,2007,2001,2003,2003,2009,2013,2013,2013,2015,2015,2011,2013,2013,2013,2015,2015,2017,2019,2019,2019,2013,2022,2019,2022,2009,2013,2015,2017,2009,2011,2013,2013,2015,2017,2015,2015,2022,2013,1999,2001,2001,2005,2013,2017,2013,2013,2009,2011,2017,2011,2015,2019,2022,2017,2017,2013,2017,2017,2019,1998,1998,1998,1999,1999,2000,2001,2005,2017,2015,1998,1998,1998,1999,2000,2000,2001,2003,2003,2003,2005,2005,2005,2005,2007,2007,2009,2011,2015,2017,1999,1999,2007,2007,2009,2009,2009,2009,2011,1999,2001,2015,2001,2003,2007,2007,2007,2019,2017,2003,2003,2003,2003,2005,2005,2005,2007,2007,2007,2009,2009,2015,2022,2019,2005,2005,1999,2000,2001,2001,2007,2015,2011,2013,2013,2013,2015,2013,2013,2000,2000,2005,1998,1998,1998,1998,1998,1999,2022,2022,2022,2007,2019,2013,2013,2005,2009,2001,2003,2005,2005,2005,2009,2013,2009,2009,2007,2009,2003,2007,2007,2007,2009,2013,2001,2003,2003,2005,2007,2001,2009,2011,2019,2013,2013,2013,2017,2019,2017,2007,2009,2013,2017,2019,2005,2022,2009,2011,2013,2015,2015,2022,2003,2005,2007,2009,1998,1998,1998,2000,2001,2003,2000,2001,2001,2001,2003,2001,2001,1999,2000,2013,2000,1999,2000,2003,2009,2011,2013,2013,2017,1999,1999,2001,2001,2011,2011,1998,1998,1998,2001,2003,2005,2007,2007,2013,2015,2015,2005,2000,1999,2011,2011,1999,1999,2000,2001,2001,2003,2009,2009,2011,2015,2017,1999,2000,2001,2000,2003,2005,2009,2007,2009,2011,2015,2022,2011,2009,2011,2013,2015,2000,2003,2011,2017,2003,2003,2015,2019,2017,2009,2019,2000,2015,2011,2022,1999,2011,2013,1998,2007,2005,2022,2005,2007,1998,1999,2000,2001,2001,2019,1999,2015,2001,2005,2000,2013,2007,2022,2019,2017,2015,2015,2000,2000,2005,1999,1999,2015,2003,2011,2003,2000,2019,2005,2003,2017,2019,2013,2022,2022],\"xaxis\":\"x\",\"y\":[0.5,0.5,0.75,0.375,0.5,0.4,0.6666666666666666,1.0,0.4,0.5,0.3333333333333333,0.625,0.7142857142857143,0.8333333333333334,0.5,0.5,0.6,0.4,0.5,0.5,0.4444444444444444,1.0,0.3333333333333333,0.3333333333333333,0.6666666666666666,0.3333333333333333,0.5,0.6666666666666666,0.5,0.5,0.5,0.5714285714285714,0.5,0.5,0.25,0.5,0.5,0.5,0.6,0.5,0.2,0.5,0.3333333333333333,0.3333333333333333,0.6666666666666666,0.5,0.5,0.3333333333333333,1.0,1.0,0.6666666666666666,0.8333333333333334,1.0,0.5,0.5,1.0,0.3333333333333333,0.3333333333333333,0.5,0.4615384615384615,0.5,0.5,0.5,0.3333333333333333,0.3333333333333333,1.0,0.5,0.6666666666666666,0.5,0.5,0.5,0.3333333333333333,1.0,0.5,0.2,0.0,0.0,0.0,0.0,0.0,0.0,0.0,0.0,0.0,0.0,0.0,0.0,0.0,0.0,0.0,0.0,0.0,0.0,0.0,0.0,0.0,0.0,0.0,0.0,0.0,0.0,0.0,0.0,0.0,0.0,0.0,0.0,0.0,0.0,0.0,0.0,0.0,0.0,0.0,0.0,0.0,0.0,0.0,0.0,0.0,0.0,0.0,0.0,0.0,0.0,0.0,0.0,0.0,0.0,0.0,0.0,0.0,0.0,0.0,0.0,0.0,0.0,0.0,0.0,0.0,0.0,0.0,0.0,0.0,0.0,0.0,0.0,0.0,0.0,0.0,0.0,0.0,0.0,0.0,0.0,0.0,0.0,0.0,0.0,0.0,0.0,0.0,0.0,0.0,0.0,0.0,0.0,0.0,0.0,0.0,0.0,0.0,0.0,0.0,0.0,0.0,0.0,0.0,0.0,0.0,0.0,0.0,0.0,0.0,0.0,0.0,0.0,0.0,0.0,0.0,0.0,0.0,0.0,0.0,0.0,0.0,0.0,0.0,0.0,0.0,0.0,0.0,0.0,0.0,0.0,0.0,0.0,0.0,0.0,0.0,0.0,0.0,0.0,0.0,0.0,0.0,0.0,0.0,0.0,0.0,0.0,0.0,0.0,0.0,0.0,0.0,0.0,0.0,0.0,0.0,0.0,0.0,0.0,0.0,0.0,0.0,0.0,0.0,0.0,0.0,0.0,0.0,0.0,0.0,0.0,0.0,0.0,0.0,0.0,0.0,0.0,0.0,0.0,0.0,0.0,0.0,0.0,0.0,0.0,0.0,0.0,0.0,0.0,0.0,0.0,0.0,0.0,0.0,0.0,0.0,0.0,0.0,0.0,0.0,0.0,0.0,0.0,0.0,0.0,0.0,0.0,0.0,0.0,0.0,0.0,0.0,0.0,0.0,0.0,0.0,0.0,0.0,0.0,0.0,0.0,0.0,0.0,0.0,0.0,0.0,0.0,0.0,0.0,0.0,0.0,0.0,0.0,0.0,0.0,0.0,0.0,0.0,0.0,0.0,0.0,0.0,0.0,0.0,0.0,0.0,0.0,0.0,0.0,0.0,0.0,0.0,0.0,0.0,0.0,0.0,0.0,0.0,0.0,0.0,0.0,0.0,0.0,0.0,0.0,0.0,0.0,0.0,0.0,0.0,0.0,0.0,0.0,0.0,0.0,0.0,0.0,0.0,0.0,0.0,0.0,0.0,0.0,0.0,0.0,0.0,0.0,0.0,0.0,0.0,0.0,0.0,0.0,0.0,0.0,0.0,0.0,0.0,0.0,0.0,0.0,0.0,0.0,0.0,0.0,0.0,0.0,0.0,0.0,0.0,0.0,0.0,0.0,0.0,0.0,0.0,0.0,0.0,0.0,0.0,0.0,0.0,0.0,0.0,0.0,0.0,0.0,0.0,0.0,0.0,0.0,0.0,0.0,0.0,0.0,0.0,0.0,0.0,0.0,0.0,0.0,0.0,0.0,0.0,0.0,0.0,0.0,0.0,0.0,0.0,0.0,0.0,0.0,0.0,0.0,0.0,0.0,0.0,0.0,0.0,0.0,0.0,0.0,0.0,0.0,0.0,0.0,0.0,0.0,0.0,0.0,0.0,0.0,0.0,0.0,0.0,0.0,0.0,0.0,0.0,0.0,0.0,0.0,0.0,0.0,0.0,0.0,0.0,0.0,0.0,0.0,0.0,0.0,0.0,0.0,0.0,0.0,0.0,0.0,0.0,0.0,0.0,0.0,0.0,0.0,0.0,0.0,0.0,0.0,0.0,0.0,0.0,0.0,0.0,0.0,0.0,0.0],\"yaxis\":\"y\",\"type\":\"scatter\"},{\"hovertemplate\":\"<b>%{hovertext}</b><br><br>Favorite target=Leg<br>debut_year=%{x}<br>win_ratio=%{y}<br>total_wins=%{marker.size}<extra></extra>\",\"hovertext\":[\"Romulo Barral\",\"Roosevelt Sousa\",\"Claudio Calasans\",\"David Terrell\",\"Diego Oliveira\",\"Dean Lister\",\"Gary Tonon\",\"Keenan Cornelius\",\"Marcus Almeida\",\"Mahamed Aly\",\"Andre Galvao\",\"Augusto Mendes\",\"Joao Miyao\",\"Joao Assis\",\"Jon Blank\",\"Lachlan Giles\",\"Ricardo Arona\",\"Rousimar Palhares\",\"Sergio Moraes\",\"Tarsis Humpreys\",\"Vinicius Magalhaes\",\"Aaron Johnson\",\"Mackenzie Dern\",\"Eduardo Telles\",\"Edward Cummings\",\"Gabriel Napao\",\"A. Cacareco\",\"David Avellan\",\"Kamil Uminski\",\"Eoghan Oflanagan\",\"Mike Fowler\",\"Mateusz Szczecinski\",\"Hayato Sakurai\"],\"legendgroup\":\"Leg\",\"marker\":{\"color\":\"#ab63fa\",\"opacity\":0.6,\"size\":[10.0,2.0,7.0,3.0,3.0,19.0,8.0,12.0,18.0,5.0,22.0,9.0,2.0,10.0,2.0,3.0,13.0,3.0,2.0,5.0,19.0,1.0,3.0,1.0,1.0,3.0,5.0,4.0,1.0,1.0,1.0,1.0,1.0],\"sizemode\":\"area\",\"sizeref\":0.03333333333333333,\"symbol\":\"circle\"},\"mode\":\"markers\",\"name\":\"Leg\",\"orientation\":\"v\",\"showlegend\":true,\"x\":[2007,2022,2011,2003,2022,2001,2013,2013,2013,2017,2007,2011,2013,2011,2019,2015,2000,2011,2011,2007,1999,2019,2015,2005,2015,2005,2001,2005,2013,2022,2007,2022,1999],\"xaxis\":\"x\",\"y\":[0.5555555555555556,0.6666666666666666,0.5833333333333334,0.75,0.75,0.6785714285714286,0.4444444444444444,0.75,0.8181818181818182,0.4545454545454545,0.8148148148148148,0.6923076923076923,0.5,0.7142857142857143,0.4,0.3333333333333333,1.0,0.75,0.5,0.625,0.6551724137931034,0.3333333333333333,0.75,0.3333333333333333,0.5,0.75,0.3846153846153846,0.3636363636363636,0.3333333333333333,1.0,0.3333333333333333,1.0,0.3333333333333333],\"yaxis\":\"y\",\"type\":\"scatter\"},{\"hovertemplate\":\"<b>%{hovertext}</b><br><br>Favorite target=Other/Unknown<br>debut_year=%{x}<br>win_ratio=%{y}<br>total_wins=%{marker.size}<extra></extra>\",\"hovertext\":[\"Max Gimenis\",\"Gabrielle Garcia\",\"Victor Honorio\",\"Roberto Traven\"],\"legendgroup\":\"Other/Unknown\",\"marker\":{\"color\":\"#FFA15A\",\"opacity\":0.6,\"size\":[1.0,14.0,2.0,5.0],\"sizemode\":\"area\",\"sizeref\":0.03333333333333333,\"symbol\":\"circle\"},\"mode\":\"markers\",\"name\":\"Other/Unknown\",\"orientation\":\"v\",\"showlegend\":true,\"x\":[2019,2011,2017,1999],\"xaxis\":\"x\",\"y\":[0.3333333333333333,0.875,0.5,0.7142857142857143],\"yaxis\":\"y\",\"type\":\"scatter\"}],                        {\"template\":{\"data\":{\"histogram2dcontour\":[{\"type\":\"histogram2dcontour\",\"colorbar\":{\"outlinewidth\":0,\"ticks\":\"\"},\"colorscale\":[[0.0,\"#0d0887\"],[0.1111111111111111,\"#46039f\"],[0.2222222222222222,\"#7201a8\"],[0.3333333333333333,\"#9c179e\"],[0.4444444444444444,\"#bd3786\"],[0.5555555555555556,\"#d8576b\"],[0.6666666666666666,\"#ed7953\"],[0.7777777777777778,\"#fb9f3a\"],[0.8888888888888888,\"#fdca26\"],[1.0,\"#f0f921\"]]}],\"choropleth\":[{\"type\":\"choropleth\",\"colorbar\":{\"outlinewidth\":0,\"ticks\":\"\"}}],\"histogram2d\":[{\"type\":\"histogram2d\",\"colorbar\":{\"outlinewidth\":0,\"ticks\":\"\"},\"colorscale\":[[0.0,\"#0d0887\"],[0.1111111111111111,\"#46039f\"],[0.2222222222222222,\"#7201a8\"],[0.3333333333333333,\"#9c179e\"],[0.4444444444444444,\"#bd3786\"],[0.5555555555555556,\"#d8576b\"],[0.6666666666666666,\"#ed7953\"],[0.7777777777777778,\"#fb9f3a\"],[0.8888888888888888,\"#fdca26\"],[1.0,\"#f0f921\"]]}],\"heatmap\":[{\"type\":\"heatmap\",\"colorbar\":{\"outlinewidth\":0,\"ticks\":\"\"},\"colorscale\":[[0.0,\"#0d0887\"],[0.1111111111111111,\"#46039f\"],[0.2222222222222222,\"#7201a8\"],[0.3333333333333333,\"#9c179e\"],[0.4444444444444444,\"#bd3786\"],[0.5555555555555556,\"#d8576b\"],[0.6666666666666666,\"#ed7953\"],[0.7777777777777778,\"#fb9f3a\"],[0.8888888888888888,\"#fdca26\"],[1.0,\"#f0f921\"]]}],\"heatmapgl\":[{\"type\":\"heatmapgl\",\"colorbar\":{\"outlinewidth\":0,\"ticks\":\"\"},\"colorscale\":[[0.0,\"#0d0887\"],[0.1111111111111111,\"#46039f\"],[0.2222222222222222,\"#7201a8\"],[0.3333333333333333,\"#9c179e\"],[0.4444444444444444,\"#bd3786\"],[0.5555555555555556,\"#d8576b\"],[0.6666666666666666,\"#ed7953\"],[0.7777777777777778,\"#fb9f3a\"],[0.8888888888888888,\"#fdca26\"],[1.0,\"#f0f921\"]]}],\"contourcarpet\":[{\"type\":\"contourcarpet\",\"colorbar\":{\"outlinewidth\":0,\"ticks\":\"\"}}],\"contour\":[{\"type\":\"contour\",\"colorbar\":{\"outlinewidth\":0,\"ticks\":\"\"},\"colorscale\":[[0.0,\"#0d0887\"],[0.1111111111111111,\"#46039f\"],[0.2222222222222222,\"#7201a8\"],[0.3333333333333333,\"#9c179e\"],[0.4444444444444444,\"#bd3786\"],[0.5555555555555556,\"#d8576b\"],[0.6666666666666666,\"#ed7953\"],[0.7777777777777778,\"#fb9f3a\"],[0.8888888888888888,\"#fdca26\"],[1.0,\"#f0f921\"]]}],\"surface\":[{\"type\":\"surface\",\"colorbar\":{\"outlinewidth\":0,\"ticks\":\"\"},\"colorscale\":[[0.0,\"#0d0887\"],[0.1111111111111111,\"#46039f\"],[0.2222222222222222,\"#7201a8\"],[0.3333333333333333,\"#9c179e\"],[0.4444444444444444,\"#bd3786\"],[0.5555555555555556,\"#d8576b\"],[0.6666666666666666,\"#ed7953\"],[0.7777777777777778,\"#fb9f3a\"],[0.8888888888888888,\"#fdca26\"],[1.0,\"#f0f921\"]]}],\"mesh3d\":[{\"type\":\"mesh3d\",\"colorbar\":{\"outlinewidth\":0,\"ticks\":\"\"}}],\"scatter\":[{\"fillpattern\":{\"fillmode\":\"overlay\",\"size\":10,\"solidity\":0.2},\"type\":\"scatter\"}],\"parcoords\":[{\"type\":\"parcoords\",\"line\":{\"colorbar\":{\"outlinewidth\":0,\"ticks\":\"\"}}}],\"scatterpolargl\":[{\"type\":\"scatterpolargl\",\"marker\":{\"colorbar\":{\"outlinewidth\":0,\"ticks\":\"\"}}}],\"bar\":[{\"error_x\":{\"color\":\"#2a3f5f\"},\"error_y\":{\"color\":\"#2a3f5f\"},\"marker\":{\"line\":{\"color\":\"#E5ECF6\",\"width\":0.5},\"pattern\":{\"fillmode\":\"overlay\",\"size\":10,\"solidity\":0.2}},\"type\":\"bar\"}],\"scattergeo\":[{\"type\":\"scattergeo\",\"marker\":{\"colorbar\":{\"outlinewidth\":0,\"ticks\":\"\"}}}],\"scatterpolar\":[{\"type\":\"scatterpolar\",\"marker\":{\"colorbar\":{\"outlinewidth\":0,\"ticks\":\"\"}}}],\"histogram\":[{\"marker\":{\"pattern\":{\"fillmode\":\"overlay\",\"size\":10,\"solidity\":0.2}},\"type\":\"histogram\"}],\"scattergl\":[{\"type\":\"scattergl\",\"marker\":{\"colorbar\":{\"outlinewidth\":0,\"ticks\":\"\"}}}],\"scatter3d\":[{\"type\":\"scatter3d\",\"line\":{\"colorbar\":{\"outlinewidth\":0,\"ticks\":\"\"}},\"marker\":{\"colorbar\":{\"outlinewidth\":0,\"ticks\":\"\"}}}],\"scattermapbox\":[{\"type\":\"scattermapbox\",\"marker\":{\"colorbar\":{\"outlinewidth\":0,\"ticks\":\"\"}}}],\"scatterternary\":[{\"type\":\"scatterternary\",\"marker\":{\"colorbar\":{\"outlinewidth\":0,\"ticks\":\"\"}}}],\"scattercarpet\":[{\"type\":\"scattercarpet\",\"marker\":{\"colorbar\":{\"outlinewidth\":0,\"ticks\":\"\"}}}],\"carpet\":[{\"aaxis\":{\"endlinecolor\":\"#2a3f5f\",\"gridcolor\":\"white\",\"linecolor\":\"white\",\"minorgridcolor\":\"white\",\"startlinecolor\":\"#2a3f5f\"},\"baxis\":{\"endlinecolor\":\"#2a3f5f\",\"gridcolor\":\"white\",\"linecolor\":\"white\",\"minorgridcolor\":\"white\",\"startlinecolor\":\"#2a3f5f\"},\"type\":\"carpet\"}],\"table\":[{\"cells\":{\"fill\":{\"color\":\"#EBF0F8\"},\"line\":{\"color\":\"white\"}},\"header\":{\"fill\":{\"color\":\"#C8D4E3\"},\"line\":{\"color\":\"white\"}},\"type\":\"table\"}],\"barpolar\":[{\"marker\":{\"line\":{\"color\":\"#E5ECF6\",\"width\":0.5},\"pattern\":{\"fillmode\":\"overlay\",\"size\":10,\"solidity\":0.2}},\"type\":\"barpolar\"}],\"pie\":[{\"automargin\":true,\"type\":\"pie\"}]},\"layout\":{\"autotypenumbers\":\"strict\",\"colorway\":[\"#636efa\",\"#EF553B\",\"#00cc96\",\"#ab63fa\",\"#FFA15A\",\"#19d3f3\",\"#FF6692\",\"#B6E880\",\"#FF97FF\",\"#FECB52\"],\"font\":{\"color\":\"#2a3f5f\"},\"hovermode\":\"closest\",\"hoverlabel\":{\"align\":\"left\"},\"paper_bgcolor\":\"white\",\"plot_bgcolor\":\"#E5ECF6\",\"polar\":{\"bgcolor\":\"#E5ECF6\",\"angularaxis\":{\"gridcolor\":\"white\",\"linecolor\":\"white\",\"ticks\":\"\"},\"radialaxis\":{\"gridcolor\":\"white\",\"linecolor\":\"white\",\"ticks\":\"\"}},\"ternary\":{\"bgcolor\":\"#E5ECF6\",\"aaxis\":{\"gridcolor\":\"white\",\"linecolor\":\"white\",\"ticks\":\"\"},\"baxis\":{\"gridcolor\":\"white\",\"linecolor\":\"white\",\"ticks\":\"\"},\"caxis\":{\"gridcolor\":\"white\",\"linecolor\":\"white\",\"ticks\":\"\"}},\"coloraxis\":{\"colorbar\":{\"outlinewidth\":0,\"ticks\":\"\"}},\"colorscale\":{\"sequential\":[[0.0,\"#0d0887\"],[0.1111111111111111,\"#46039f\"],[0.2222222222222222,\"#7201a8\"],[0.3333333333333333,\"#9c179e\"],[0.4444444444444444,\"#bd3786\"],[0.5555555555555556,\"#d8576b\"],[0.6666666666666666,\"#ed7953\"],[0.7777777777777778,\"#fb9f3a\"],[0.8888888888888888,\"#fdca26\"],[1.0,\"#f0f921\"]],\"sequentialminus\":[[0.0,\"#0d0887\"],[0.1111111111111111,\"#46039f\"],[0.2222222222222222,\"#7201a8\"],[0.3333333333333333,\"#9c179e\"],[0.4444444444444444,\"#bd3786\"],[0.5555555555555556,\"#d8576b\"],[0.6666666666666666,\"#ed7953\"],[0.7777777777777778,\"#fb9f3a\"],[0.8888888888888888,\"#fdca26\"],[1.0,\"#f0f921\"]],\"diverging\":[[0,\"#8e0152\"],[0.1,\"#c51b7d\"],[0.2,\"#de77ae\"],[0.3,\"#f1b6da\"],[0.4,\"#fde0ef\"],[0.5,\"#f7f7f7\"],[0.6,\"#e6f5d0\"],[0.7,\"#b8e186\"],[0.8,\"#7fbc41\"],[0.9,\"#4d9221\"],[1,\"#276419\"]]},\"xaxis\":{\"gridcolor\":\"white\",\"linecolor\":\"white\",\"ticks\":\"\",\"title\":{\"standoff\":15},\"zerolinecolor\":\"white\",\"automargin\":true,\"zerolinewidth\":2},\"yaxis\":{\"gridcolor\":\"white\",\"linecolor\":\"white\",\"ticks\":\"\",\"title\":{\"standoff\":15},\"zerolinecolor\":\"white\",\"automargin\":true,\"zerolinewidth\":2},\"scene\":{\"xaxis\":{\"backgroundcolor\":\"#E5ECF6\",\"gridcolor\":\"white\",\"linecolor\":\"white\",\"showbackground\":true,\"ticks\":\"\",\"zerolinecolor\":\"white\",\"gridwidth\":2},\"yaxis\":{\"backgroundcolor\":\"#E5ECF6\",\"gridcolor\":\"white\",\"linecolor\":\"white\",\"showbackground\":true,\"ticks\":\"\",\"zerolinecolor\":\"white\",\"gridwidth\":2},\"zaxis\":{\"backgroundcolor\":\"#E5ECF6\",\"gridcolor\":\"white\",\"linecolor\":\"white\",\"showbackground\":true,\"ticks\":\"\",\"zerolinecolor\":\"white\",\"gridwidth\":2}},\"shapedefaults\":{\"line\":{\"color\":\"#2a3f5f\"}},\"annotationdefaults\":{\"arrowcolor\":\"#2a3f5f\",\"arrowhead\":0,\"arrowwidth\":1},\"geo\":{\"bgcolor\":\"white\",\"landcolor\":\"#E5ECF6\",\"subunitcolor\":\"white\",\"showland\":true,\"showlakes\":true,\"lakecolor\":\"white\"},\"title\":{\"x\":0.05},\"mapbox\":{\"style\":\"light\"}}},\"xaxis\":{\"anchor\":\"y\",\"domain\":[0.0,1.0],\"title\":{\"text\":\"Year of first appearance\"}},\"yaxis\":{\"anchor\":\"x\",\"domain\":[0.0,1.0],\"title\":{\"text\":\"Win rate\"}},\"legend\":{\"title\":{\"text\":\"Favorite target\"},\"tracegroupgap\":0,\"itemsizing\":\"constant\"},\"margin\":{\"t\":60},\"title\":{\"text\":\"Win rate by debut year\",\"y\":0.95,\"x\":0.47,\"xanchor\":\"center\",\"yanchor\":\"top\"},\"annotations\":[{\"font\":{\"size\":12},\"showarrow\":false,\"text\":\"(Bubble size proportional to total wins)\",\"x\":0.53,\"xref\":\"paper\",\"y\":1.04,\"yref\":\"paper\"}]},                        {\"responsive\": true}                    ).then(function(){\n",
       "                            \n",
       "var gd = document.getElementById('533acb69-c93f-43b6-8ec7-dad0f76ec6f2');\n",
       "var x = new MutationObserver(function (mutations, observer) {{\n",
       "        var display = window.getComputedStyle(gd).display;\n",
       "        if (!display || display === 'none') {{\n",
       "            console.log([gd, 'removed!']);\n",
       "            Plotly.purge(gd);\n",
       "            observer.disconnect();\n",
       "        }}\n",
       "}});\n",
       "\n",
       "// Listen for the removal of the full notebook cells\n",
       "var notebookContainer = gd.closest('#notebook-container');\n",
       "if (notebookContainer) {{\n",
       "    x.observe(notebookContainer, {childList: true});\n",
       "}}\n",
       "\n",
       "// Listen for the clearing of the current output cell\n",
       "var outputEl = gd.closest('.output');\n",
       "if (outputEl) {{\n",
       "    x.observe(outputEl, {childList: true});\n",
       "}}\n",
       "\n",
       "                        })                };                });            </script>        </div>"
      ]
     },
     "metadata": {},
     "output_type": "display_data"
    }
   ],
   "source": [
    "# Plots the distribution between win rate and year of debut (first appearance)\n",
    "\n",
    "\n",
    "# Generates the chart object by instanciating a plotly express histogram\n",
    "fig = px.scatter(df, x='debut_year', y='win_ratio', hover_name=\"name\",\n",
    "                 color=df['favorite_target'].astype(str),\n",
    "                size='total_wins', size_max=30, opacity=0.6, labels={'color': 'Favorite target'})\n",
    "\n",
    "\n",
    "fig.update_layout(\n",
    "    title={\n",
    "        'text': \"Win rate by debut year\",\n",
    "        'y':0.95,\n",
    "        'x':0.47,\n",
    "        'xanchor': 'center',\n",
    "        'yanchor': 'top'\n",
    "    },\n",
    "    xaxis_title=\"Year of first appearance\", yaxis_title=\"Win rate\"\n",
    "\n",
    ")\n",
    "\n",
    "# Display observation under title explaining bubble size\n",
    "legend_annotations = [\n",
    "    dict(\n",
    "        x=0.53,\n",
    "        y=1.04,\n",
    "        xref=\"paper\",\n",
    "        yref=\"paper\",\n",
    "        text=f\"(Bubble size proportional to total wins)\",\n",
    "        showarrow=False,\n",
    "        font=dict(size=12),\n",
    "    )]\n",
    "\n",
    "fig.update_layout(annotations=legend_annotations)\n",
    "\n",
    "\n",
    "fig.show()"
   ]
  },
  {
   "cell_type": "markdown",
   "id": "aa3aa6c7",
   "metadata": {
    "papermill": {
     "duration": 0.033817,
     "end_time": "2023-06-16T16:32:42.686345",
     "exception": false,
     "start_time": "2023-06-16T16:32:42.652528",
     "status": "completed"
    },
    "tags": []
   },
   "source": [
    "### Do athletes from different generations prefer different targets? Does that influence ***submission*** rates?"
   ]
  },
  {
   "cell_type": "code",
   "execution_count": 20,
   "id": "c002766f",
   "metadata": {
    "_kg_hide-input": true,
    "execution": {
     "iopub.execute_input": "2023-06-16T16:32:42.744286Z",
     "iopub.status.busy": "2023-06-16T16:32:42.743190Z",
     "iopub.status.idle": "2023-06-16T16:32:42.834108Z",
     "shell.execute_reply": "2023-06-16T16:32:42.833218Z"
    },
    "papermill": {
     "duration": 0.12151,
     "end_time": "2023-06-16T16:32:42.836370",
     "exception": false,
     "start_time": "2023-06-16T16:32:42.714860",
     "status": "completed"
    },
    "tags": []
   },
   "outputs": [
    {
     "data": {
      "text/html": [
       "<div>                            <div id=\"548080de-bd16-48bc-a337-38b5aae4cc63\" class=\"plotly-graph-div\" style=\"height:525px; width:100%;\"></div>            <script type=\"text/javascript\">                require([\"plotly\"], function(Plotly) {                    window.PLOTLYENV=window.PLOTLYENV || {};                                    if (document.getElementById(\"548080de-bd16-48bc-a337-38b5aae4cc63\")) {                    Plotly.newPlot(                        \"548080de-bd16-48bc-a337-38b5aae4cc63\",                        [{\"hovertemplate\":\"<b>%{hovertext}</b><br><br>Favorite target=Arm<br>debut_year=%{x}<br>sub_win_ratio=%{y}<br>total_wins=%{marker.size}<extra></extra>\",\"hovertext\":[\"Murilo Santana\",\"Nicholas Meregali\",\"Rida Haisam\",\"Roberto Abreu\",\"Ronaldo Souza\",\"Dante Leon\",\"Demian Maia\",\"Gilbert Burns\",\"Marcio Feitosa\",\"Geovanny Martinez\",\"Alexandre Ribeiro\",\"Fabricio Werdum\",\"Ffion Davies\",\"Jose Mario Sperry\",\"Joshua Cisneros\",\"Kade Ruotolo\",\"Leonardo Santos\",\"Marcio Cruz\",\"Micael Galvao\",\"Vagner Rocha\",\"Ricco Rodriguez\",\"Marcio Corleta\"],\"legendgroup\":\"Arm\",\"marker\":{\"color\":\"#636efa\",\"opacity\":0.6,\"size\":[5.0,6.0,1.0,20.0,11.0,5.0,7.0,3.0,8.0,3.0,30.0,20.0,5.0,9.0,2.0,4.0,5.0,15.0,3.0,11.0,15.0,1.0],\"sizemode\":\"area\",\"sizeref\":0.03333333333333333,\"symbol\":\"circle\"},\"mode\":\"markers\",\"name\":\"Arm\",\"orientation\":\"v\",\"showlegend\":true,\"x\":[2009,2022,2022,2009,2003,2019,2005,2015,2000,2015,2003,2003,2019,1998,2022,2022,2001,2001,2022,2011,1998,2005],\"xaxis\":\"x\",\"y\":[0.1818181818181818,0.125,0.3333333333333333,0.1034482758620689,0.4285714285714285,0.25,0.125,0.25,0.0909090909090909,0.125,0.3023255813953488,0.3076923076923077,0.3333333333333333,0.2727272727272727,0.25,1.0,0.1,0.2272727272727272,0.25,0.1176470588235294,0.2916666666666667,0.5],\"yaxis\":\"y\",\"type\":\"scatter\"},{\"hovertemplate\":\"<b>%{hovertext}</b><br><br>Favorite target=Neck<br>debut_year=%{x}<br>sub_win_ratio=%{y}<br>total_wins=%{marker.size}<extra></extra>\",\"hovertext\":[\"Nick Rodriguez\",\"Otavio Sousa\",\"Orlando Sanchez\",\"Pablo Popovitch\",\"Roberto Jimenez\",\"Robson Moura\",\"Rodolfo Vieira\",\"Roger Gracie\",\"Braulio Estima\",\"Bruno Frazatto\",\"Craig Jones\",\"Davi Ramos\",\"Eddie Bravo\",\"Gabriel Sousa\",\"Giancarlo Bodoni\",\"Gordon Ryan\",\"Kron Gracie\",\"Lucas Lepri\",\"Rafael Mendes\",\"Tye Ruotolo\",\"Tim Spriggs\",\"Yuri Simoes\",\"Jared Dopp\",\"Baret Yoshida\",\"Felipe Pena\",\"Jake Shields\",\"Jean Jacques Machado\",\"Joao Gabriel Rocha\",\"Josh Hinger\",\"Jonathan Torres\",\"Kaynan Duarte\",\"Kennedy Maciel\",\"Leonardo Vieira\",\"Marcelo Garcia\",\"Mason Fowler\",\"Matt Serra\",\"Rafael Lovato Jr\",\"Rany Yahya\",\"Renzo Gracie\",\"Ricardo Almeida\",\"Ricardo Liborio\",\"Royler Gracie\",\"Rubens Charles\",\"Saulo Ribeiro\",\"Victor Hugo\",\"Vitor Ribeiro\",\"Bianca Basilio\",\"Jeff Glover\",\"Antonio Braga Neto\",\"Dillon Danis\",\"Alexandre de Freitas\",\"Abraham Marte Messina\",\"Antonio Schembri\",\"Ethan Crelinsten\",\"Kendall Reusing\",\"Leonardo Nogueira\",\"Ricardo Vieira\",\"Rodrigo Gracie\",\"Beatriz Mesquita\",\"Bianca Mesquita\",\"Vitor Viana\",\"Ana Carolina Vieira\",\"Robert Drysdale\",\"Oskar Piechota\"],\"legendgroup\":\"Neck\",\"marker\":{\"color\":\"#EF553B\",\"opacity\":0.6,\"size\":[7.0,5.0,9.0,19.0,1.0,5.0,8.0,12.0,12.0,3.0,9.0,4.0,2.0,3.0,5.0,20.0,8.0,8.0,11.0,4.0,3.0,16.0,8.0,11.0,13.0,3.0,11.0,9.0,4.0,12.0,8.0,4.0,21.0,27.0,2.0,3.0,14.0,10.0,11.0,12.0,7.0,14.0,18.0,22.0,3.0,4.0,6.0,6.0,1.0,1.0,13.0,1.0,3.0,1.0,1.0,3.0,1.0,6.0,2.0,1.0,1.0,1.0,2.0,1.0],\"sizemode\":\"area\",\"sizeref\":0.03333333333333333,\"symbol\":\"circle\"},\"mode\":\"markers\",\"name\":\"Neck\",\"orientation\":\"v\",\"showlegend\":true,\"x\":[2019,2013,2013,2003,2022,2001,2011,2003,2005,2011,2017,2015,2003,2022,2022,2017,2009,2013,2009,2019,2017,2015,2013,1999,2015,2005,1999,2013,2019,2011,2019,2019,2000,2003,2019,2001,2007,2003,1998,1999,1999,1999,2009,1999,2019,2000,2017,2007,2011,2015,1998,2015,2001,2017,2022,2013,2013,1998,2019,2017,2005,2019,2007,2013],\"xaxis\":\"x\",\"y\":[0.1,0.375,0.1538461538461538,0.1153846153846153,0.3333333333333333,0.125,0.4,0.6153846153846154,0.5,0.1428571428571428,0.5714285714285714,0.75,0.6666666666666666,0.25,0.6666666666666666,0.7142857142857143,0.7,0.0833333333333333,0.5,0.125,0.3333333333333333,0.1052631578947368,0.0666666666666666,0.4090909090909091,0.2222222222222222,0.2,0.6,0.0666666666666666,0.3333333333333333,0.0666666666666666,0.1111111111111111,0.5,0.2,0.71875,0.25,0.5,0.2692307692307692,0.3846153846153846,0.2,0.3684210526315789,0.2,0.3333333333333333,0.35,0.1333333333333333,0.1666666666666666,0.1428571428571428,0.3333333333333333,0.3636363636363636,0.25,0.25,0.4736842105263157,0.5,0.5,0.3333333333333333,0.5,0.2,0.5,0.375,0.25,1.0,1.0,1.0,0.5,0.3333333333333333],\"yaxis\":\"y\",\"type\":\"scatter\"},{\"hovertemplate\":\"<b>%{hovertext}</b><br><br>Favorite target=No specific target<br>debut_year=%{x}<br>sub_win_ratio=%{y}<br>total_wins=%{marker.size}<extra></extra>\",\"hovertext\":[\"Pablo Mantovani\",\"Paul Schreiner\",\"Paulo Miyao\",\"Rodrigo Medeiros\",\"Adam Wardzinski\",\"Celso Vinicius\",\"Brianna Ste-Marie\",\"Diogo Reis\",\"DeAlonzio Jackson\",\"Gabriel Arges\",\"Gianni Grippo\",\"Justin Rader\",\"Lucas Daniel Barbosa\",\"Matheus Diniz\",\"Matheus Gabriel Barros\",\"Renato Forasieppi Canuto\",\"Ryan Hall\",\"Patrick Gaudio\",\"Mansher Khera\",\"Abdurakhman Bilarov\",\"AJ Agazarm\",\"Amy Campo\",\"Elder Cruz\",\"Fabricio Andrey\",\"Jackson Sousa\",\"James Puopolo\",\"Kyle Boehm\",\"Rafaela Guedes\",\"Richard Alarcon\",\"Sam McNally\",\"Victor Estima\",\"Vinicius Ferreira\",\"Jeremy Skinner\",\"Marcelo Mafra\",\"Nicky Ryan\",\"Rigan Machado\",\"Lucas Leite\",\"Amaury Bitetti\",\"Jorge Patino\",\"Marcio Andre Barbosa Junior\",\"Pedro Marinho\",\"Cassio Francis\",\"Rodrigo Cavaca\",\"Roberto Magalhaes\",\"Gregor Gracie\",\"Flavio Almeida\",\"Gabriel Rollo\",\"Glover Teixeira\",\"Jessica Oliveira\",\"Ruslam Chsiev\",\"Sean Alvarez\",\"Mark Kerr\",\"Mark Robinson\",\"Vitor Belfort\",\"John Hansen\",\"Eoghan OFlannagan\",\"Garth Taylor\",\"Kareem Barkalev\",\"Sasha Palvski\",\"Jeff Monson\",\"Chael Sonnen\",\"Rolles Gracie\",\"Egan Inoue\",\"Murilo Bustamante\",\"Rustam Chsiev\",\"Matt Hughes\",\"Sasha Savko\",\"Olav Einemo\",\"Tito Ortiz\",\"Kyle Griffin\",\"Sanae Kikuta\",\"Nicolas Renier\",\"E. Karpinen\",\"Kuba Witkowski\",\"Gunnar Nelson\",\"Henrique Cardoso\",\"Andy Varela\",\"Thomas Halpin\",\"Tommy Langaker\",\"Michael Perez\",\"Enrico Cocco\",\"Edwin Najmi\",\"Gabriel Lucas\",\"Jonathan Satava\",\"Keith Krikorian\",\"Leonardo Saggioro\",\"John Combs\",\"Alec Baulding\",\"Ruan Alvarenga\",\"Isaque Bahiense\",\"Gabriel Marangoni\",\"Clark Gracie\",\"Perttu Tepponen\",\"Santeri Lilius\",\"Oliver Taza\",\"Alexandre Vieira\",\"Sergio Ardila-Ibarra\",\"John Salter\",\"Elisabeth Clay\",\"Cole Abate\",\"Alexander Trans\",\"Roberto Alencar\",\"Paul Ardila-Ibarra\",\"Gabriel Almeida\",\"Ross Nicholls\",\"Eldar Rafigaev\",\"Devhonte Johnson\",\"Valdir Araujo Junior\",\"Alexandre Jesus\",\"Eleftheria Christodoulou\",\"Ashley Williams\",\"Yuta Shimada\",\"Kit Dale\",\"Felipe Cesar\",\"Shane Hill-Taylor\",\"Leandro Lo\",\"Joao Costa\",\"Servio Tulio\",\"James Brasco\",\"Jose Mario Queiroga\",\"Gerardi Rinaldi\",\"Antonio Peinado\",\"Shinya Aoki\",\"Christian Moriarty\",\"Ryan Gracie\",\"Talita Alencar\",\"Mark Ramos\",\"Gustavo Dantas\",\"Augusto Ferrari\",\"Radoslaw Turek\",\"Penny Thomas\",\"Amanda Alequin / Santana\",\"Michelle Nicolini\",\"Carlos Machado\",\"Fellipe Andrew\",\"E. Karppinen\",\"Igor Praporschchikov\",\"Tomas Szczerek\",\"Yuji Arai\",\"Janne-Pekka\",\"Daniel Strauss\",\"M. Perez\",\"Elvira Karpinnen\",\"Julia Maele\",\"Ben Dyson\",\"Elvira Karppinen\",\"Magid Hage\",\"M. Szczecinski\",\"Young-Ahm\",\"Akira Shoji\",\"Marko Helen\",\"Yushin Okami\",\"M. Yano\",\"Ilir Lafiti\",\"Nate Marquardt\",\"Andreas Olsen\",\"Jia Jang\",\"Ezra Lenon\",\"Hideki Sekine\",\"Lee Hyoung\",\"Ricardo Mesquita\",\"Hannette Staack\",\"Yurika Nakakura\",\"Tammy Griego\",\"Fernanda Mazelli\",\"Alison Tremblay\",\"Amanda Santana\",\"Talita Treta\",\"Stefanie Egger\",\"Ana Carolina\",\"Carina Santi\",\"Satori Kitaoka\",\"Eoghan OFlanagan\",\"Ben Hodgkinson\",\"Heikki Jussila\",\"Timo-Juhani\",\"Erza Lennon\",\"J. Urholin\",\"Piotr Frechowicz\",\"Erico Cocco\",\"Jason Manly\",\"Andy Wang\",\"Tero Pyylampi\",\"Gamrot Mateusz\",\"Osman Kasimov\",\"Kethe Engen\",\"Bia Mesquita\",\"Rodrigo Dib\",\"Josh Hayden\",\"Caol Uno\",\"Peter Angerer\",\"F. Vasconcelos\",\"Urija Faber\",\"Jimmy Freidrich\",\"A. Zhanpeisov\",\"Y. Takahito\",\"Tetsu Suzuki\",\"Jeff Curran\",\"Tetsu Hadario\",\"J. Pietkainen\",\"Zbigniew Tyszka\",\"Hideki Shrek\",\"Elliot Marshal\",\"Luke Griffith\",\"Kamil Wilk\",\"Jesseray Childrey\",\"Amir Allam\",\"Abdulaev Ruslan\",\"Eliott Kelly\",\"Jon Hansen\",\"Yousef Elzien\",\"Ricardo Moraes\",\"Firas Nakdali\",\"Rocky Batastini\",\"Kim Mason\",\"Carlos Barreto\",\"Y. Yatso\",\"Halm Gocalli\",\"Y. Ozawa\",\"Juskowiak Mateusz\",\"Trevor Lally\",\"Marc\",\"Robin Gracie\",\"T. Hirono\",\"Sasha Plavski\",\"Joe Gilbert\",\"Y. Kinishi\",\"K. Hirate\",\"Joaquim Hansen\",\"Erik Paulson\",\"Michael Groth\",\"Jamal Peterson\",\"John Einimo\",\"Antoine Joude\",\"Yukissyu Ozawa\",\"Tim Carpenter\",\"Ilir Latifi\",\"Lucio Lagarto\",\"Yukiyasu Ozawa\",\"T. Pyylampi\",\"Wellington Dias\",\"Akira Shouji\",\"Chris Bright\",\"Mark Bocek\",\"Kassim Anan\",\"Chris Weidman\",\"Tom Bass\",\"Don Ortega\",\"Shinzo Ansai\",\"Akihiro Gono\",\"Alexander Savko\",\"Nicholas Renier\",\"N. Uematsu\",\"Mike Mrkulic\",\"Eddie Sanchez\",\"Yoshitomi Mishima\",\"Tetsu Suzuko\",\"Rikako Yuasa\",\"Nicollas Renier\",\"T. Kosaka\",\"Jehad Hamdan\",\"Mike Van\",\"Matt Lindland\",\"Denis Roberts\",\"Daniel Simoes\",\"Reese Andy\",\"Mario Rinaldi\",\"Elvis Sinosic\",\"Darren Andy\",\"Rogent Lorent\",\"Tomasz Janiszewski\",\"Jimmy Friedrich\",\"Josh Saunders\",\"Paulo Pinto\",\"Diego Sanchez\",\"Cameron Earle\",\"Micah Pittman\",\"Mikey Burnet\",\"Serguei Onishuk\",\"Y. Kohsaka\",\"Jamie Ballard\",\"Daniel Hortegas\",\"James Poupolo\",\"Liu Wen\",\"Tomasz Narkun\",\"Michael Wilson\",\"Jason Lees\",\"Eduardo Rios\",\"Fabio Gurgel\",\"Karl Webber\",\"Egan Inoe\",\"Take Hanai\",\"Muhammad Saleh\",\"Larry Parker\",\"Renato Verissimo\",\"Oleg Taktarov\",\"Simon Siasi\",\"Enson Inoe\",\"Keita Iwamoto\",\"Owen Livesey\",\"Giovanna Jara\",\"Cristiano Lazzarini\",\"R. Alvarenga\",\"Alian Drueco\",\"Mikael Knutsson\",\"George St\",\"Yoshiyuki Yoshida\",\"Morris Clifoni\",\"Allan Teo\",\"T. Suzuki\",\"Joey Gilbert\",\"Rob Di\",\"D. Marinakis\",\"Sotaro Yamada\",\"Rodney Ellis\",\"Bruno Bastos\",\"Marcos Oliveira\",\"Anthony Perosh\",\"Kiuma Kunioku\",\"Mario Miranda\",\"George Sotiropoulos\",\"Kurt Pellegrino\",\"Keita Nakamura\",\"Robert Sabaruddin\",\"Van Arsdale\",\"Mike Whitehead\",\"Alex Negao\",\"Miodrag Petkovic\",\"J. Pietlainen\",\"Takanori Gomi\",\"Thomas DeBlass\",\"Jorge Britto\",\"Keller Sodhi\",\"Youngnam Noh\",\"Ben Henderson\",\"Kitner Mendoga\",\"H. Sekine\",\"Mateusz Juskowiak\",\"E. Elgland\",\"Eric Dahlberg\",\"Ben Askren\",\"Doorwang Jeon\",\"Janus Andrejczuk\",\"Kenta Iwamoto\",\"Wagnney Fabiano\",\"Jacob Rodriguez\",\"Tom Lawlor\",\"Jeon Doo\",\"Shinsho Anzai\",\"Hidemi Mihara\",\"Abdulkadirov Magomed\",\"Perttu Terpponnen\",\"Teemu Launis\",\"Mario Delgado\",\"Darrel Moodley\",\"Kouhei Yasumi\",\"Frank Trigg\",\"Rodrigo Modrias\",\"Fabiano Iha\",\"Israel Albuquerque\",\"Chris Brown\",\"G. Sotiropoulos\",\"Josh Barnet\",\"Y. Setsenko\",\"Marshurenko\",\"M. Van\",\"Andy Reese\",\"R. Babalu\",\"Roger Neff\",\"Luis Orlando\",\"Toshiyuki Oyama\",\"Yuta Sasaki\",\"Travis Lutter\",\"Jerry Bolander\",\"Pete Williams\",\"Yuki Ozawa\",\"Asa Fuller\",\"Sekine Hideki\",\"Mike Martelle\",\"Kamil Huminski\",\"Khazmat Stambulov\",\"Jurie Rachel\",\"Luis Roberto\",\"Hiroyuko Abe\",\"Joe Guilbert\",\"Greger Forsel\",\"Joseph Lee\",\"Adrian Serrano\",\"Carlos Newton\",\"Ahmad Faraj\",\"Gavin Kulper\",\"Nathan Marquardt\",\"Justin Garcia\",\"Jon Einemo\",\"Travers Grubb\",\"Kim Dong\",\"C. Jones\",\"Nieman Gracie\",\"David Bielkheden\",\"Dennis Hallman\",\"Joao Roque\",\"James Harbison\",\"Dan Schon\",\"Juan Valles\",\"Melchor M.\",\"A. Hamlet\",\"Martin Brown\",\"Mike Cardosa\",\"Charles Pearson\",\"Hiroshi Nakamura\",\"Joel Tudor\",\"David Marinakis\",\"Tezekbaev Rasul\",\"U. Zhakshylyk\",\"Vernon White\",\"Dave Menne\",\"R. Anderson\",\"T. Yano\",\"Yuki Sasaki\",\"L. Papadopoulis\",\"Kouji Kanechika\",\"Jorge Santiago\",\"I. Praporshchikov\",\"Jose Junior\",\"Milton Vieira\",\"Isaak Michel\",\"Sanshiro Nakamura\",\"Chris Wideman\",\"Luke Costello\",\"Wang Yan\",\"P. Ardilla\",\"Rumina Sato\",\"Fernando Vieira\",\"Hanette Staack\",\"Jessica Flowers\",\"Akira Soji\",\"Otto Olsen\",\"Renan Sancar\",\"Mateusz Garmot\",\"Kaynan D.\",\"Jayson Patino\",\"Mraz Avdoyan\",\"Rodrigo Minotauro\",\"Tobias G\",\"Kari Petola\",\"Adele Fornarino\",\"Ryan Harvey\",\"Tom Barlow\",\"Janne Pietilainen\",\"Ricardo Alves\",\"Sim Go\",\"Jason White\",\"Damon Ramos\",\"Roan Jucao\",\"Bruno Chavez\",\"Luis Brito\",\"Fan Yi\",\"H. Kanehara\",\"R. Mashurenko\",\"Tamura\",\"Hudson Taylor\",\"F. Capoane\",\"Adam Sachnoff\",\"Genki Sudo\",\"Robert Sulski\",\"J. Wakabayashi\",\"D. Hemmings\",\"Takefuni Hanai\",\"Dan Manasoiu\",\"Livia Giles\",\"Roman Dolidze\",\"Hector Lombard\",\"Asadulaev Surkhay\",\"Marcio Cromado\",\"Bob Schirmer\",\"Chris Brennan\",\"Gao Hua\",\"Mourat Ozov\",\"Rodrigo Artilheiro\",\"K. Toida\",\"Davis Heart\",\"Davion Peterson\",\"Manu Garcia\",\"Dan Martinez\",\"Jason Brudvik\",\"Jason Ramsterrer\",\"Jesse Urholin\",\"Amanda Leve\",\"Rodrigo Caporal\",\"William Tackett\",\"Mayssa Bastos\"],\"legendgroup\":\"No specific target\",\"marker\":{\"color\":\"#00cc96\",\"opacity\":0.6,\"size\":[3.0,2.0,6.0,3.0,1.0,2.0,2.0,4.0,2.0,1.0,1.0,5.0,5.0,5.0,1.0,2.0,3.0,2.0,1.0,1.0,4.0,3.0,1.0,1.0,4.0,1.0,1.0,2.0,1.0,1.0,2.0,4.0,1.0,1.0,1.0,5.0,1.0,1.0,3.0,1.0,1.0,1.0,1.0,1.0,2.0,1.0,1.0,1.0,1.0,1.0,2.0,5.0,1.0,1.0,2.0,1.0,1.0,1.0,1.0,6.0,1.0,1.0,2.0,1.0,2.0,1.0,1.0,2.0,1.0,1.0,1.0,1.0,1.0,1.0,1.0,0.0,0.0,0.0,0.0,0.0,0.0,0.0,0.0,0.0,0.0,0.0,0.0,0.0,0.0,0.0,0.0,0.0,0.0,0.0,0.0,0.0,0.0,0.0,0.0,0.0,0.0,0.0,0.0,0.0,0.0,0.0,0.0,0.0,0.0,0.0,0.0,0.0,0.0,0.0,0.0,0.0,0.0,0.0,0.0,0.0,0.0,0.0,0.0,0.0,0.0,0.0,0.0,0.0,0.0,0.0,0.0,0.0,0.0,0.0,0.0,0.0,0.0,0.0,0.0,0.0,0.0,0.0,0.0,0.0,0.0,0.0,0.0,0.0,0.0,0.0,0.0,0.0,0.0,0.0,0.0,0.0,0.0,0.0,0.0,0.0,0.0,0.0,0.0,0.0,0.0,0.0,0.0,0.0,0.0,0.0,0.0,0.0,0.0,0.0,0.0,0.0,0.0,0.0,0.0,0.0,0.0,0.0,0.0,0.0,0.0,0.0,0.0,0.0,0.0,0.0,0.0,0.0,0.0,0.0,0.0,0.0,0.0,0.0,0.0,0.0,0.0,0.0,0.0,0.0,0.0,0.0,0.0,0.0,0.0,0.0,0.0,0.0,0.0,0.0,0.0,0.0,0.0,0.0,0.0,0.0,0.0,0.0,0.0,0.0,0.0,0.0,0.0,0.0,0.0,0.0,0.0,0.0,0.0,0.0,0.0,0.0,0.0,0.0,0.0,0.0,0.0,0.0,0.0,0.0,0.0,0.0,0.0,0.0,0.0,0.0,0.0,0.0,0.0,0.0,0.0,0.0,0.0,0.0,0.0,0.0,0.0,0.0,0.0,0.0,0.0,0.0,0.0,0.0,0.0,0.0,0.0,0.0,0.0,0.0,0.0,0.0,0.0,0.0,0.0,0.0,0.0,0.0,0.0,0.0,0.0,0.0,0.0,0.0,0.0,0.0,0.0,0.0,0.0,0.0,0.0,0.0,0.0,0.0,0.0,0.0,0.0,0.0,0.0,0.0,0.0,0.0,0.0,0.0,0.0,0.0,0.0,0.0,0.0,0.0,0.0,0.0,0.0,0.0,0.0,0.0,0.0,0.0,0.0,0.0,0.0,0.0,0.0,0.0,0.0,0.0,0.0,0.0,0.0,0.0,0.0,0.0,0.0,0.0,0.0,0.0,0.0,0.0,0.0,0.0,0.0,0.0,0.0,0.0,0.0,0.0,0.0,0.0,0.0,0.0,0.0,0.0,0.0,0.0,0.0,0.0,0.0,0.0,0.0,0.0,0.0,0.0,0.0,0.0,0.0,0.0,0.0,0.0,0.0,0.0,0.0,0.0,0.0,0.0,0.0,0.0,0.0,0.0,0.0,0.0,0.0,0.0,0.0,0.0,0.0,0.0,0.0,0.0,0.0,0.0,0.0,0.0,0.0,0.0,0.0,0.0,0.0,0.0,0.0,0.0,0.0,0.0,0.0,0.0,0.0,0.0,0.0,0.0,0.0,0.0,0.0,0.0,0.0,0.0,0.0,0.0,0.0,0.0,0.0,0.0,0.0,0.0,0.0,0.0,0.0,0.0,0.0,0.0,0.0,0.0,0.0,0.0,0.0,0.0,0.0,0.0,0.0,0.0,0.0,0.0,0.0,0.0,0.0,0.0,0.0,0.0,0.0,0.0,0.0,0.0,0.0,0.0,0.0,0.0,0.0,0.0,0.0,0.0,0.0,0.0,0.0,0.0,0.0,0.0,0.0,0.0,0.0,0.0,0.0,0.0,0.0,0.0,0.0,0.0,0.0,0.0,0.0,0.0,0.0,0.0,0.0,0.0,0.0,0.0,0.0,0.0,0.0],\"sizemode\":\"area\",\"sizeref\":0.03333333333333333,\"symbol\":\"circle\"},\"mode\":\"markers\",\"name\":\"No specific target\",\"orientation\":\"v\",\"showlegend\":true,\"x\":[2017,2022,2017,2000,2019,2017,2022,2022,2013,2019,2015,2009,2019,2019,2019,2019,2009,2019,2017,2017,2013,2022,2022,2022,2017,2013,2022,2022,2019,2022,2011,2019,2022,2017,2017,1999,2013,1999,2000,2013,2019,2015,2009,2000,2009,2007,2015,2009,2015,2017,1998,2000,2001,2001,2019,2022,1999,1998,1999,1999,2017,2007,1999,1999,2013,2000,1999,2001,2000,2011,1999,2011,2017,2017,2009,2022,2022,2019,2022,2019,2011,2019,2015,2019,2019,2017,2019,2019,2022,2022,2015,2011,2019,2022,2017,2015,2017,2017,2022,2022,2011,2015,2017,2019,2019,2019,2022,2019,2022,2022,2022,2017,2017,2017,2019,2017,2022,2019,2009,2000,2009,2011,2005,2007,2003,2017,2011,2001,2011,2009,2011,2017,2015,2000,2019,2017,2011,2007,2009,2009,2011,2015,2019,2022,2019,2022,2022,2022,2015,2003,2005,2007,2001,2003,2003,2009,2013,2013,2013,2015,2015,2011,2013,2013,2013,2015,2015,2017,2019,2019,2019,2013,2022,2019,2022,2009,2013,2015,2017,2009,2011,2013,2013,2015,2017,2015,2015,2022,2013,1999,2001,2001,2005,2013,2017,2013,2013,2009,2011,2017,2011,2015,2019,2022,2017,2017,2013,2017,2017,2019,1998,1998,1998,1999,1999,2000,2001,2005,2017,2015,1998,1998,1998,1999,2000,2000,2001,2003,2003,2003,2005,2005,2005,2005,2007,2007,2009,2011,2015,2017,1999,1999,2007,2007,2009,2009,2009,2009,2011,1999,2001,2015,2001,2003,2007,2007,2007,2019,2017,2003,2003,2003,2003,2005,2005,2005,2007,2007,2007,2009,2009,2015,2022,2019,2005,2005,1999,2000,2001,2001,2007,2015,2011,2013,2013,2013,2015,2013,2013,2000,2000,2005,1998,1998,1998,1998,1998,1999,2022,2022,2022,2007,2019,2013,2013,2005,2009,2001,2003,2005,2005,2005,2009,2013,2009,2009,2007,2009,2003,2007,2007,2007,2009,2013,2001,2003,2003,2005,2007,2001,2009,2011,2019,2013,2013,2013,2017,2019,2017,2007,2009,2013,2017,2019,2005,2022,2009,2011,2013,2015,2015,2022,2003,2005,2007,2009,1998,1998,1998,2000,2001,2003,2000,2001,2001,2001,2003,2001,2001,1999,2000,2013,2000,1999,2000,2003,2009,2011,2013,2013,2017,1999,1999,2001,2001,2011,2011,1998,1998,1998,2001,2003,2005,2007,2007,2013,2015,2015,2005,2000,1999,2011,2011,1999,1999,2000,2001,2001,2003,2009,2009,2011,2015,2017,1999,2000,2001,2000,2003,2005,2009,2007,2009,2011,2015,2022,2011,2009,2011,2013,2015,2000,2003,2011,2017,2003,2003,2015,2019,2017,2009,2019,2000,2015,2011,2022,1999,2011,2013,1998,2007,2005,2022,2005,2007,1998,1999,2000,2001,2001,2019,1999,2015,2001,2005,2000,2013,2007,2022,2019,2017,2015,2015,2000,2000,2005,1999,1999,2015,2003,2011,2003,2000,2019,2005,2003,2017,2019,2013,2022,2022],\"xaxis\":\"x\",\"y\":[0.0,0.0,0.0,0.0,0.0,0.0,0.0,0.0,0.0,0.0,0.0,0.0,0.0,0.0,0.0,0.0,0.0,0.0,0.0,0.0,0.0,0.0,0.0,0.0,0.0,0.0,0.0,0.0,0.0,0.0,0.0,0.0,0.0,0.0,0.0,0.0,0.0,0.0,0.0,0.0,0.0,0.5,0.0,0.0,0.0,0.0,0.0,0.0,0.0,0.0,0.0,0.0,0.0,0.0,0.0,0.0,0.0,0.0,0.0,0.0,0.0,0.0,0.0,0.0,0.0,0.0,0.0,0.0,0.0,0.0,0.0,0.0,0.0,0.0,0.0,0.0,0.0,0.0,0.0,0.0,0.0,0.0,0.0,0.0,0.0,0.0,0.0,0.0,0.0,0.0,0.0,0.0,0.0,0.0,0.0,0.0,0.0,0.0,0.0,0.0,0.0,0.0,0.0,0.0,0.0,0.0,0.0,0.0,0.0,0.0,0.0,0.0,0.0,0.0,0.0,0.0,0.0,0.0,0.0,0.0,0.0,0.0,0.0,0.0,0.0,0.0,0.0,0.0,0.0,0.0,0.0,0.0,0.0,0.0,0.0,0.0,0.0,0.0,0.0,0.0,0.0,0.0,0.0,0.0,0.0,0.0,0.0,0.0,0.0,0.0,0.0,0.0,0.0,0.0,0.0,0.0,0.0,0.0,0.0,0.0,0.0,0.0,0.0,0.0,0.0,0.0,0.0,0.0,0.0,0.0,0.0,0.0,0.0,0.0,0.0,0.0,0.0,0.0,0.0,0.0,0.0,0.0,0.0,0.0,0.0,0.0,0.0,0.0,0.0,0.0,0.0,0.0,0.0,0.0,0.0,0.0,0.0,0.0,0.0,0.0,0.0,0.0,0.0,0.0,0.0,0.0,0.0,0.0,0.0,0.0,0.0,0.0,0.0,0.0,0.0,0.0,0.0,0.0,0.0,0.0,0.0,0.0,0.0,0.0,0.0,0.0,0.0,0.0,0.0,0.0,0.0,0.0,0.0,0.0,0.0,0.0,0.0,0.0,0.0,0.0,0.0,0.0,0.0,0.0,0.0,0.0,0.0,0.0,0.0,0.0,0.0,0.0,0.0,0.0,0.0,0.0,0.0,0.0,0.0,0.0,0.0,0.0,0.0,0.0,0.0,0.0,0.0,0.0,0.0,0.0,0.0,0.0,0.0,0.0,0.0,0.0,0.0,0.0,0.0,0.0,0.0,0.0,0.0,0.0,0.0,0.0,0.0,0.0,0.0,0.0,0.0,0.0,0.0,0.0,0.0,0.0,0.0,0.0,0.0,0.0,0.0,0.0,0.0,0.0,0.0,0.0,0.0,0.0,0.0,0.0,0.0,0.0,0.0,0.0,0.0,0.0,0.0,0.0,0.0,0.0,0.0,0.0,0.0,0.0,0.0,0.0,0.0,0.0,0.0,0.0,0.0,0.0,0.0,0.0,0.0,0.0,0.0,0.0,0.0,0.0,0.0,0.0,0.0,0.0,0.0,0.0,0.0,0.0,0.0,0.0,0.0,0.0,0.0,0.0,0.0,0.0,0.0,0.0,0.0,0.0,0.0,0.0,0.0,0.0,0.0,0.0,0.0,0.0,0.0,0.0,0.0,0.0,0.0,0.0,0.0,0.0,0.0,0.0,0.0,0.0,0.0,0.0,0.0,0.0,0.0,0.0,0.0,0.0,0.0,0.0,0.0,0.0,0.0,0.0,0.0,0.0,0.0,0.0,0.0,0.0,0.0,0.0,0.0,0.0,0.0,0.0,0.0,0.0,0.0,0.0,0.0,0.0,0.0,0.0,0.0,0.0,0.0,0.0,0.0,0.0,0.0,0.0,0.0,0.0,0.0,0.0,0.0,0.0,0.0,0.0,0.0,0.0,0.0,0.0,0.0,0.0,0.0,0.0,0.0,0.0,0.0,0.0,0.0,0.0,0.0,0.0,0.0,0.0,0.0,0.0,0.0,0.0,0.0,0.0,0.0,0.0,0.0,0.0,0.0,0.0,0.0,0.0,0.0,0.0,0.0,0.0,0.0,0.0,0.0,0.0,0.0,0.0,0.0,0.0,0.0,0.0,0.0,0.0,0.0,0.0,0.0,0.0,0.0,0.0,0.0,0.0,0.0,0.0,0.0,0.0,0.0],\"yaxis\":\"y\",\"type\":\"scatter\"},{\"hovertemplate\":\"<b>%{hovertext}</b><br><br>Favorite target=Leg<br>debut_year=%{x}<br>sub_win_ratio=%{y}<br>total_wins=%{marker.size}<extra></extra>\",\"hovertext\":[\"Romulo Barral\",\"Roosevelt Sousa\",\"Claudio Calasans\",\"David Terrell\",\"Diego Oliveira\",\"Dean Lister\",\"Gary Tonon\",\"Keenan Cornelius\",\"Marcus Almeida\",\"Mahamed Aly\",\"Andre Galvao\",\"Augusto Mendes\",\"Joao Miyao\",\"Joao Assis\",\"Jon Blank\",\"Lachlan Giles\",\"Ricardo Arona\",\"Rousimar Palhares\",\"Sergio Moraes\",\"Tarsis Humpreys\",\"Vinicius Magalhaes\",\"Aaron Johnson\",\"Mackenzie Dern\",\"Eduardo Telles\",\"Edward Cummings\",\"Gabriel Napao\",\"A. Cacareco\",\"David Avellan\",\"Kamil Uminski\",\"Eoghan Oflanagan\",\"Mike Fowler\",\"Mateusz Szczecinski\",\"Hayato Sakurai\"],\"legendgroup\":\"Leg\",\"marker\":{\"color\":\"#ab63fa\",\"opacity\":0.6,\"size\":[10.0,2.0,7.0,3.0,3.0,19.0,8.0,12.0,18.0,5.0,22.0,9.0,2.0,10.0,2.0,3.0,13.0,3.0,2.0,5.0,19.0,1.0,3.0,1.0,1.0,3.0,5.0,4.0,1.0,1.0,1.0,1.0,1.0],\"sizemode\":\"area\",\"sizeref\":0.03333333333333333,\"symbol\":\"circle\"},\"mode\":\"markers\",\"name\":\"Leg\",\"orientation\":\"v\",\"showlegend\":true,\"x\":[2007,2022,2011,2003,2022,2001,2013,2013,2013,2017,2007,2011,2013,2011,2019,2015,2000,2011,2011,2007,1999,2019,2015,2005,2015,2005,2001,2005,2013,2022,2007,2022,1999],\"xaxis\":\"x\",\"y\":[0.3333333333333333,0.3333333333333333,0.1666666666666666,0.25,0.5,0.5714285714285714,0.2777777777777778,0.25,0.3636363636363636,0.0909090909090909,0.1851851851851851,0.2307692307692307,0.5,0.3571428571428571,0.2,0.3333333333333333,0.1538461538461538,0.75,0.25,0.25,0.3793103448275862,0.3333333333333333,0.25,0.3333333333333333,0.5,0.25,0.2307692307692307,0.1818181818181818,0.3333333333333333,1.0,0.3333333333333333,1.0,0.3333333333333333],\"yaxis\":\"y\",\"type\":\"scatter\"},{\"hovertemplate\":\"<b>%{hovertext}</b><br><br>Favorite target=Other/Unknown<br>debut_year=%{x}<br>sub_win_ratio=%{y}<br>total_wins=%{marker.size}<extra></extra>\",\"hovertext\":[\"Max Gimenis\",\"Gabrielle Garcia\",\"Victor Honorio\",\"Roberto Traven\"],\"legendgroup\":\"Other/Unknown\",\"marker\":{\"color\":\"#FFA15A\",\"opacity\":0.6,\"size\":[1.0,14.0,2.0,5.0],\"sizemode\":\"area\",\"sizeref\":0.03333333333333333,\"symbol\":\"circle\"},\"mode\":\"markers\",\"name\":\"Other/Unknown\",\"orientation\":\"v\",\"showlegend\":true,\"x\":[2019,2011,2017,1999],\"xaxis\":\"x\",\"y\":[0.3333333333333333,0.4375,0.25,0.1428571428571428],\"yaxis\":\"y\",\"type\":\"scatter\"}],                        {\"template\":{\"data\":{\"histogram2dcontour\":[{\"type\":\"histogram2dcontour\",\"colorbar\":{\"outlinewidth\":0,\"ticks\":\"\"},\"colorscale\":[[0.0,\"#0d0887\"],[0.1111111111111111,\"#46039f\"],[0.2222222222222222,\"#7201a8\"],[0.3333333333333333,\"#9c179e\"],[0.4444444444444444,\"#bd3786\"],[0.5555555555555556,\"#d8576b\"],[0.6666666666666666,\"#ed7953\"],[0.7777777777777778,\"#fb9f3a\"],[0.8888888888888888,\"#fdca26\"],[1.0,\"#f0f921\"]]}],\"choropleth\":[{\"type\":\"choropleth\",\"colorbar\":{\"outlinewidth\":0,\"ticks\":\"\"}}],\"histogram2d\":[{\"type\":\"histogram2d\",\"colorbar\":{\"outlinewidth\":0,\"ticks\":\"\"},\"colorscale\":[[0.0,\"#0d0887\"],[0.1111111111111111,\"#46039f\"],[0.2222222222222222,\"#7201a8\"],[0.3333333333333333,\"#9c179e\"],[0.4444444444444444,\"#bd3786\"],[0.5555555555555556,\"#d8576b\"],[0.6666666666666666,\"#ed7953\"],[0.7777777777777778,\"#fb9f3a\"],[0.8888888888888888,\"#fdca26\"],[1.0,\"#f0f921\"]]}],\"heatmap\":[{\"type\":\"heatmap\",\"colorbar\":{\"outlinewidth\":0,\"ticks\":\"\"},\"colorscale\":[[0.0,\"#0d0887\"],[0.1111111111111111,\"#46039f\"],[0.2222222222222222,\"#7201a8\"],[0.3333333333333333,\"#9c179e\"],[0.4444444444444444,\"#bd3786\"],[0.5555555555555556,\"#d8576b\"],[0.6666666666666666,\"#ed7953\"],[0.7777777777777778,\"#fb9f3a\"],[0.8888888888888888,\"#fdca26\"],[1.0,\"#f0f921\"]]}],\"heatmapgl\":[{\"type\":\"heatmapgl\",\"colorbar\":{\"outlinewidth\":0,\"ticks\":\"\"},\"colorscale\":[[0.0,\"#0d0887\"],[0.1111111111111111,\"#46039f\"],[0.2222222222222222,\"#7201a8\"],[0.3333333333333333,\"#9c179e\"],[0.4444444444444444,\"#bd3786\"],[0.5555555555555556,\"#d8576b\"],[0.6666666666666666,\"#ed7953\"],[0.7777777777777778,\"#fb9f3a\"],[0.8888888888888888,\"#fdca26\"],[1.0,\"#f0f921\"]]}],\"contourcarpet\":[{\"type\":\"contourcarpet\",\"colorbar\":{\"outlinewidth\":0,\"ticks\":\"\"}}],\"contour\":[{\"type\":\"contour\",\"colorbar\":{\"outlinewidth\":0,\"ticks\":\"\"},\"colorscale\":[[0.0,\"#0d0887\"],[0.1111111111111111,\"#46039f\"],[0.2222222222222222,\"#7201a8\"],[0.3333333333333333,\"#9c179e\"],[0.4444444444444444,\"#bd3786\"],[0.5555555555555556,\"#d8576b\"],[0.6666666666666666,\"#ed7953\"],[0.7777777777777778,\"#fb9f3a\"],[0.8888888888888888,\"#fdca26\"],[1.0,\"#f0f921\"]]}],\"surface\":[{\"type\":\"surface\",\"colorbar\":{\"outlinewidth\":0,\"ticks\":\"\"},\"colorscale\":[[0.0,\"#0d0887\"],[0.1111111111111111,\"#46039f\"],[0.2222222222222222,\"#7201a8\"],[0.3333333333333333,\"#9c179e\"],[0.4444444444444444,\"#bd3786\"],[0.5555555555555556,\"#d8576b\"],[0.6666666666666666,\"#ed7953\"],[0.7777777777777778,\"#fb9f3a\"],[0.8888888888888888,\"#fdca26\"],[1.0,\"#f0f921\"]]}],\"mesh3d\":[{\"type\":\"mesh3d\",\"colorbar\":{\"outlinewidth\":0,\"ticks\":\"\"}}],\"scatter\":[{\"fillpattern\":{\"fillmode\":\"overlay\",\"size\":10,\"solidity\":0.2},\"type\":\"scatter\"}],\"parcoords\":[{\"type\":\"parcoords\",\"line\":{\"colorbar\":{\"outlinewidth\":0,\"ticks\":\"\"}}}],\"scatterpolargl\":[{\"type\":\"scatterpolargl\",\"marker\":{\"colorbar\":{\"outlinewidth\":0,\"ticks\":\"\"}}}],\"bar\":[{\"error_x\":{\"color\":\"#2a3f5f\"},\"error_y\":{\"color\":\"#2a3f5f\"},\"marker\":{\"line\":{\"color\":\"#E5ECF6\",\"width\":0.5},\"pattern\":{\"fillmode\":\"overlay\",\"size\":10,\"solidity\":0.2}},\"type\":\"bar\"}],\"scattergeo\":[{\"type\":\"scattergeo\",\"marker\":{\"colorbar\":{\"outlinewidth\":0,\"ticks\":\"\"}}}],\"scatterpolar\":[{\"type\":\"scatterpolar\",\"marker\":{\"colorbar\":{\"outlinewidth\":0,\"ticks\":\"\"}}}],\"histogram\":[{\"marker\":{\"pattern\":{\"fillmode\":\"overlay\",\"size\":10,\"solidity\":0.2}},\"type\":\"histogram\"}],\"scattergl\":[{\"type\":\"scattergl\",\"marker\":{\"colorbar\":{\"outlinewidth\":0,\"ticks\":\"\"}}}],\"scatter3d\":[{\"type\":\"scatter3d\",\"line\":{\"colorbar\":{\"outlinewidth\":0,\"ticks\":\"\"}},\"marker\":{\"colorbar\":{\"outlinewidth\":0,\"ticks\":\"\"}}}],\"scattermapbox\":[{\"type\":\"scattermapbox\",\"marker\":{\"colorbar\":{\"outlinewidth\":0,\"ticks\":\"\"}}}],\"scatterternary\":[{\"type\":\"scatterternary\",\"marker\":{\"colorbar\":{\"outlinewidth\":0,\"ticks\":\"\"}}}],\"scattercarpet\":[{\"type\":\"scattercarpet\",\"marker\":{\"colorbar\":{\"outlinewidth\":0,\"ticks\":\"\"}}}],\"carpet\":[{\"aaxis\":{\"endlinecolor\":\"#2a3f5f\",\"gridcolor\":\"white\",\"linecolor\":\"white\",\"minorgridcolor\":\"white\",\"startlinecolor\":\"#2a3f5f\"},\"baxis\":{\"endlinecolor\":\"#2a3f5f\",\"gridcolor\":\"white\",\"linecolor\":\"white\",\"minorgridcolor\":\"white\",\"startlinecolor\":\"#2a3f5f\"},\"type\":\"carpet\"}],\"table\":[{\"cells\":{\"fill\":{\"color\":\"#EBF0F8\"},\"line\":{\"color\":\"white\"}},\"header\":{\"fill\":{\"color\":\"#C8D4E3\"},\"line\":{\"color\":\"white\"}},\"type\":\"table\"}],\"barpolar\":[{\"marker\":{\"line\":{\"color\":\"#E5ECF6\",\"width\":0.5},\"pattern\":{\"fillmode\":\"overlay\",\"size\":10,\"solidity\":0.2}},\"type\":\"barpolar\"}],\"pie\":[{\"automargin\":true,\"type\":\"pie\"}]},\"layout\":{\"autotypenumbers\":\"strict\",\"colorway\":[\"#636efa\",\"#EF553B\",\"#00cc96\",\"#ab63fa\",\"#FFA15A\",\"#19d3f3\",\"#FF6692\",\"#B6E880\",\"#FF97FF\",\"#FECB52\"],\"font\":{\"color\":\"#2a3f5f\"},\"hovermode\":\"closest\",\"hoverlabel\":{\"align\":\"left\"},\"paper_bgcolor\":\"white\",\"plot_bgcolor\":\"#E5ECF6\",\"polar\":{\"bgcolor\":\"#E5ECF6\",\"angularaxis\":{\"gridcolor\":\"white\",\"linecolor\":\"white\",\"ticks\":\"\"},\"radialaxis\":{\"gridcolor\":\"white\",\"linecolor\":\"white\",\"ticks\":\"\"}},\"ternary\":{\"bgcolor\":\"#E5ECF6\",\"aaxis\":{\"gridcolor\":\"white\",\"linecolor\":\"white\",\"ticks\":\"\"},\"baxis\":{\"gridcolor\":\"white\",\"linecolor\":\"white\",\"ticks\":\"\"},\"caxis\":{\"gridcolor\":\"white\",\"linecolor\":\"white\",\"ticks\":\"\"}},\"coloraxis\":{\"colorbar\":{\"outlinewidth\":0,\"ticks\":\"\"}},\"colorscale\":{\"sequential\":[[0.0,\"#0d0887\"],[0.1111111111111111,\"#46039f\"],[0.2222222222222222,\"#7201a8\"],[0.3333333333333333,\"#9c179e\"],[0.4444444444444444,\"#bd3786\"],[0.5555555555555556,\"#d8576b\"],[0.6666666666666666,\"#ed7953\"],[0.7777777777777778,\"#fb9f3a\"],[0.8888888888888888,\"#fdca26\"],[1.0,\"#f0f921\"]],\"sequentialminus\":[[0.0,\"#0d0887\"],[0.1111111111111111,\"#46039f\"],[0.2222222222222222,\"#7201a8\"],[0.3333333333333333,\"#9c179e\"],[0.4444444444444444,\"#bd3786\"],[0.5555555555555556,\"#d8576b\"],[0.6666666666666666,\"#ed7953\"],[0.7777777777777778,\"#fb9f3a\"],[0.8888888888888888,\"#fdca26\"],[1.0,\"#f0f921\"]],\"diverging\":[[0,\"#8e0152\"],[0.1,\"#c51b7d\"],[0.2,\"#de77ae\"],[0.3,\"#f1b6da\"],[0.4,\"#fde0ef\"],[0.5,\"#f7f7f7\"],[0.6,\"#e6f5d0\"],[0.7,\"#b8e186\"],[0.8,\"#7fbc41\"],[0.9,\"#4d9221\"],[1,\"#276419\"]]},\"xaxis\":{\"gridcolor\":\"white\",\"linecolor\":\"white\",\"ticks\":\"\",\"title\":{\"standoff\":15},\"zerolinecolor\":\"white\",\"automargin\":true,\"zerolinewidth\":2},\"yaxis\":{\"gridcolor\":\"white\",\"linecolor\":\"white\",\"ticks\":\"\",\"title\":{\"standoff\":15},\"zerolinecolor\":\"white\",\"automargin\":true,\"zerolinewidth\":2},\"scene\":{\"xaxis\":{\"backgroundcolor\":\"#E5ECF6\",\"gridcolor\":\"white\",\"linecolor\":\"white\",\"showbackground\":true,\"ticks\":\"\",\"zerolinecolor\":\"white\",\"gridwidth\":2},\"yaxis\":{\"backgroundcolor\":\"#E5ECF6\",\"gridcolor\":\"white\",\"linecolor\":\"white\",\"showbackground\":true,\"ticks\":\"\",\"zerolinecolor\":\"white\",\"gridwidth\":2},\"zaxis\":{\"backgroundcolor\":\"#E5ECF6\",\"gridcolor\":\"white\",\"linecolor\":\"white\",\"showbackground\":true,\"ticks\":\"\",\"zerolinecolor\":\"white\",\"gridwidth\":2}},\"shapedefaults\":{\"line\":{\"color\":\"#2a3f5f\"}},\"annotationdefaults\":{\"arrowcolor\":\"#2a3f5f\",\"arrowhead\":0,\"arrowwidth\":1},\"geo\":{\"bgcolor\":\"white\",\"landcolor\":\"#E5ECF6\",\"subunitcolor\":\"white\",\"showland\":true,\"showlakes\":true,\"lakecolor\":\"white\"},\"title\":{\"x\":0.05},\"mapbox\":{\"style\":\"light\"}}},\"xaxis\":{\"anchor\":\"y\",\"domain\":[0.0,1.0],\"title\":{\"text\":\"Year of first appearance\"}},\"yaxis\":{\"anchor\":\"x\",\"domain\":[0.0,1.0],\"title\":{\"text\":\"Submission rate\"}},\"legend\":{\"title\":{\"text\":\"Favorite target\"},\"tracegroupgap\":0,\"itemsizing\":\"constant\"},\"margin\":{\"t\":60},\"title\":{\"text\":\"Submission rate by debut year\",\"y\":0.95,\"x\":0.47,\"xanchor\":\"center\",\"yanchor\":\"top\"},\"annotations\":[{\"font\":{\"size\":12},\"showarrow\":false,\"text\":\"(Bubble size proportional to total wins)\",\"x\":0.53,\"xref\":\"paper\",\"y\":1.04,\"yref\":\"paper\"}]},                        {\"responsive\": true}                    ).then(function(){\n",
       "                            \n",
       "var gd = document.getElementById('548080de-bd16-48bc-a337-38b5aae4cc63');\n",
       "var x = new MutationObserver(function (mutations, observer) {{\n",
       "        var display = window.getComputedStyle(gd).display;\n",
       "        if (!display || display === 'none') {{\n",
       "            console.log([gd, 'removed!']);\n",
       "            Plotly.purge(gd);\n",
       "            observer.disconnect();\n",
       "        }}\n",
       "}});\n",
       "\n",
       "// Listen for the removal of the full notebook cells\n",
       "var notebookContainer = gd.closest('#notebook-container');\n",
       "if (notebookContainer) {{\n",
       "    x.observe(notebookContainer, {childList: true});\n",
       "}}\n",
       "\n",
       "// Listen for the clearing of the current output cell\n",
       "var outputEl = gd.closest('.output');\n",
       "if (outputEl) {{\n",
       "    x.observe(outputEl, {childList: true});\n",
       "}}\n",
       "\n",
       "                        })                };                });            </script>        </div>"
      ]
     },
     "metadata": {},
     "output_type": "display_data"
    }
   ],
   "source": [
    "# Plots the distribution between submission rate and year of debut (first appearance)\n",
    "\n",
    "# Generates the chart object by instanciating a plotly express histogram\n",
    "fig = px.scatter(df, x='debut_year', y='sub_win_ratio', hover_name=\"name\",\n",
    "                 color=df['favorite_target'].astype(str),\n",
    "                size='total_wins', size_max=30, opacity=0.6, labels={'color': 'Favorite target'})\n",
    "\n",
    "\n",
    "fig.update_layout(\n",
    "    title={\n",
    "        'text': \"Submission rate by debut year\",\n",
    "        'y':0.95,\n",
    "        'x':0.47,\n",
    "        'xanchor': 'center',\n",
    "        'yanchor': 'top'\n",
    "    },\n",
    "    xaxis_title=\"Year of first appearance\", yaxis_title=\"Submission rate\"\n",
    "\n",
    ")\n",
    "\n",
    "# Display observation under title explaining bubble size\n",
    "legend_annotations = [\n",
    "    dict(\n",
    "        x=0.53,\n",
    "        y=1.04,\n",
    "        xref=\"paper\",\n",
    "        yref=\"paper\",\n",
    "        text=f\"(Bubble size proportional to total wins)\",\n",
    "        showarrow=False,\n",
    "        font=dict(size=12),\n",
    "    )]\n",
    "\n",
    "fig.update_layout(annotations=legend_annotations)\n",
    "\n",
    "\n",
    "fig.show()"
   ]
  },
  {
   "cell_type": "markdown",
   "id": "d4940f1d",
   "metadata": {
    "papermill": {
     "duration": 0.026837,
     "end_time": "2023-06-16T16:32:42.890596",
     "exception": false,
     "start_time": "2023-06-16T16:32:42.863759",
     "status": "completed"
    },
    "tags": []
   },
   "source": [
    "This plot highlights the impressive achievements of different athletes than the previous ones, since there's a comparison being made within athletes of the same \"generation\". Examples are Jean Jaques Machado, Dean Lister, Kade Ruotolo, Kron Gracie and Rousimar Palhares.  \n",
    "Bianca Mesquita and Ana Carolina Vieira are also considerably ahead of their peers."
   ]
  },
  {
   "cell_type": "markdown",
   "id": "40756253",
   "metadata": {
    "papermill": {
     "duration": 0.027033,
     "end_time": "2023-06-16T16:32:42.945020",
     "exception": false,
     "start_time": "2023-06-16T16:32:42.917987",
     "status": "completed"
    },
    "tags": []
   },
   "source": [
    "# Data preparation for unsupervised clustering<a id=\"section4\"></a>"
   ]
  },
  {
   "cell_type": "code",
   "execution_count": 21,
   "id": "e8a36142",
   "metadata": {
    "_kg_hide-input": true,
    "execution": {
     "iopub.execute_input": "2023-06-16T16:32:43.003213Z",
     "iopub.status.busy": "2023-06-16T16:32:43.002095Z",
     "iopub.status.idle": "2023-06-16T16:32:43.034643Z",
     "shell.execute_reply": "2023-06-16T16:32:43.033420Z"
    },
    "papermill": {
     "duration": 0.065136,
     "end_time": "2023-06-16T16:32:43.037208",
     "exception": false,
     "start_time": "2023-06-16T16:32:42.972072",
     "status": "completed"
    },
    "tags": []
   },
   "outputs": [
    {
     "data": {
      "text/html": [
       "<div>\n",
       "<style scoped>\n",
       "    .dataframe tbody tr th:only-of-type {\n",
       "        vertical-align: middle;\n",
       "    }\n",
       "\n",
       "    .dataframe tbody tr th {\n",
       "        vertical-align: top;\n",
       "    }\n",
       "\n",
       "    .dataframe thead th {\n",
       "        text-align: right;\n",
       "    }\n",
       "</style>\n",
       "<table border=\"1\" class=\"dataframe\">\n",
       "  <thead>\n",
       "    <tr style=\"text-align: right;\">\n",
       "      <th></th>\n",
       "      <th>win_ratio</th>\n",
       "      <th>total_fights</th>\n",
       "      <th>sub_win_ratio</th>\n",
       "      <th>point_win_ratio</th>\n",
       "      <th>decision_win_ratio</th>\n",
       "      <th>n_editions_competed</th>\n",
       "      <th>scored_points_per_fight</th>\n",
       "      <th>suffered_points_per_fight</th>\n",
       "      <th>fights_per_edition</th>\n",
       "      <th>n_weight_classes</th>\n",
       "      <th>...</th>\n",
       "      <th>favorite_target_Arm</th>\n",
       "      <th>favorite_target_Leg</th>\n",
       "      <th>favorite_target_Neck</th>\n",
       "      <th>favorite_target_No specific target</th>\n",
       "      <th>favorite_target_Other/Unknown</th>\n",
       "      <th>most_vulnerable_Arm</th>\n",
       "      <th>most_vulnerable_Leg</th>\n",
       "      <th>most_vulnerable_Neck</th>\n",
       "      <th>most_vulnerable_No specific target</th>\n",
       "      <th>most_vulnerable_Other/Unknown</th>\n",
       "    </tr>\n",
       "  </thead>\n",
       "  <tbody>\n",
       "    <tr>\n",
       "      <th>0</th>\n",
       "      <td>0.454545</td>\n",
       "      <td>11.0</td>\n",
       "      <td>0.181818</td>\n",
       "      <td>0.181818</td>\n",
       "      <td>0.090909</td>\n",
       "      <td>7.0</td>\n",
       "      <td>-0.272727</td>\n",
       "      <td>0.000000</td>\n",
       "      <td>1.571429</td>\n",
       "      <td>2</td>\n",
       "      <td>...</td>\n",
       "      <td>1.0</td>\n",
       "      <td>0.0</td>\n",
       "      <td>0.0</td>\n",
       "      <td>0.0</td>\n",
       "      <td>0.0</td>\n",
       "      <td>0.0</td>\n",
       "      <td>0.0</td>\n",
       "      <td>1.0</td>\n",
       "      <td>0.0</td>\n",
       "      <td>0.0</td>\n",
       "    </tr>\n",
       "    <tr>\n",
       "      <th>1</th>\n",
       "      <td>0.750000</td>\n",
       "      <td>8.0</td>\n",
       "      <td>0.125000</td>\n",
       "      <td>0.250000</td>\n",
       "      <td>0.250000</td>\n",
       "      <td>2.0</td>\n",
       "      <td>0.125000</td>\n",
       "      <td>-0.375000</td>\n",
       "      <td>4.000000</td>\n",
       "      <td>1</td>\n",
       "      <td>...</td>\n",
       "      <td>1.0</td>\n",
       "      <td>0.0</td>\n",
       "      <td>0.0</td>\n",
       "      <td>0.0</td>\n",
       "      <td>0.0</td>\n",
       "      <td>0.0</td>\n",
       "      <td>0.0</td>\n",
       "      <td>0.0</td>\n",
       "      <td>1.0</td>\n",
       "      <td>0.0</td>\n",
       "    </tr>\n",
       "    <tr>\n",
       "      <th>2</th>\n",
       "      <td>0.700000</td>\n",
       "      <td>10.0</td>\n",
       "      <td>0.100000</td>\n",
       "      <td>0.400000</td>\n",
       "      <td>0.200000</td>\n",
       "      <td>4.0</td>\n",
       "      <td>2.300000</td>\n",
       "      <td>-0.200000</td>\n",
       "      <td>2.500000</td>\n",
       "      <td>1</td>\n",
       "      <td>...</td>\n",
       "      <td>0.0</td>\n",
       "      <td>0.0</td>\n",
       "      <td>1.0</td>\n",
       "      <td>0.0</td>\n",
       "      <td>0.0</td>\n",
       "      <td>0.0</td>\n",
       "      <td>1.0</td>\n",
       "      <td>0.0</td>\n",
       "      <td>0.0</td>\n",
       "      <td>0.0</td>\n",
       "    </tr>\n",
       "    <tr>\n",
       "      <th>3</th>\n",
       "      <td>0.625000</td>\n",
       "      <td>8.0</td>\n",
       "      <td>0.375000</td>\n",
       "      <td>0.125000</td>\n",
       "      <td>0.125000</td>\n",
       "      <td>4.0</td>\n",
       "      <td>-0.750000</td>\n",
       "      <td>0.500000</td>\n",
       "      <td>2.000000</td>\n",
       "      <td>1</td>\n",
       "      <td>...</td>\n",
       "      <td>0.0</td>\n",
       "      <td>0.0</td>\n",
       "      <td>1.0</td>\n",
       "      <td>0.0</td>\n",
       "      <td>0.0</td>\n",
       "      <td>0.0</td>\n",
       "      <td>0.0</td>\n",
       "      <td>1.0</td>\n",
       "      <td>0.0</td>\n",
       "      <td>0.0</td>\n",
       "    </tr>\n",
       "    <tr>\n",
       "      <th>4</th>\n",
       "      <td>0.692308</td>\n",
       "      <td>13.0</td>\n",
       "      <td>0.153846</td>\n",
       "      <td>0.153846</td>\n",
       "      <td>0.384615</td>\n",
       "      <td>8.0</td>\n",
       "      <td>-0.384615</td>\n",
       "      <td>-0.461538</td>\n",
       "      <td>1.625000</td>\n",
       "      <td>1</td>\n",
       "      <td>...</td>\n",
       "      <td>0.0</td>\n",
       "      <td>0.0</td>\n",
       "      <td>1.0</td>\n",
       "      <td>0.0</td>\n",
       "      <td>0.0</td>\n",
       "      <td>0.0</td>\n",
       "      <td>0.0</td>\n",
       "      <td>0.0</td>\n",
       "      <td>0.0</td>\n",
       "      <td>1.0</td>\n",
       "    </tr>\n",
       "  </tbody>\n",
       "</table>\n",
       "<p>5 rows × 31 columns</p>\n",
       "</div>"
      ],
      "text/plain": [
       "   win_ratio  total_fights  sub_win_ratio  point_win_ratio  \\\n",
       "0   0.454545          11.0       0.181818         0.181818   \n",
       "1   0.750000           8.0       0.125000         0.250000   \n",
       "2   0.700000          10.0       0.100000         0.400000   \n",
       "3   0.625000           8.0       0.375000         0.125000   \n",
       "4   0.692308          13.0       0.153846         0.153846   \n",
       "\n",
       "   decision_win_ratio  n_editions_competed  scored_points_per_fight  \\\n",
       "0            0.090909                  7.0                -0.272727   \n",
       "1            0.250000                  2.0                 0.125000   \n",
       "2            0.200000                  4.0                 2.300000   \n",
       "3            0.125000                  4.0                -0.750000   \n",
       "4            0.384615                  8.0                -0.384615   \n",
       "\n",
       "   suffered_points_per_fight  fights_per_edition  n_weight_classes  ...  \\\n",
       "0                   0.000000            1.571429                 2  ...   \n",
       "1                  -0.375000            4.000000                 1  ...   \n",
       "2                  -0.200000            2.500000                 1  ...   \n",
       "3                   0.500000            2.000000                 1  ...   \n",
       "4                  -0.461538            1.625000                 1  ...   \n",
       "\n",
       "   favorite_target_Arm  favorite_target_Leg  favorite_target_Neck  \\\n",
       "0                  1.0                  0.0                   0.0   \n",
       "1                  1.0                  0.0                   0.0   \n",
       "2                  0.0                  0.0                   1.0   \n",
       "3                  0.0                  0.0                   1.0   \n",
       "4                  0.0                  0.0                   1.0   \n",
       "\n",
       "   favorite_target_No specific target  favorite_target_Other/Unknown  \\\n",
       "0                                 0.0                            0.0   \n",
       "1                                 0.0                            0.0   \n",
       "2                                 0.0                            0.0   \n",
       "3                                 0.0                            0.0   \n",
       "4                                 0.0                            0.0   \n",
       "\n",
       "   most_vulnerable_Arm  most_vulnerable_Leg  most_vulnerable_Neck  \\\n",
       "0                  0.0                  0.0                   1.0   \n",
       "1                  0.0                  0.0                   0.0   \n",
       "2                  0.0                  1.0                   0.0   \n",
       "3                  0.0                  0.0                   1.0   \n",
       "4                  0.0                  0.0                   0.0   \n",
       "\n",
       "   most_vulnerable_No specific target  most_vulnerable_Other/Unknown  \n",
       "0                                 0.0                            0.0  \n",
       "1                                 1.0                            0.0  \n",
       "2                                 0.0                            0.0  \n",
       "3                                 0.0                            0.0  \n",
       "4                                 0.0                            1.0  \n",
       "\n",
       "[5 rows x 31 columns]"
      ]
     },
     "execution_count": 21,
     "metadata": {},
     "output_type": "execute_result"
    }
   ],
   "source": [
    "# Generates dummy columns for non numeric features, using pandas native\n",
    "# implementation of one-hot encoding\n",
    "\n",
    "dummies = pd.get_dummies(df[['favorite_target', 'most_vulnerable']], dtype=float)\n",
    "\n",
    "# Creates a new dataframe\n",
    "sdf = pd.concat([df, dummies], axis=1)\n",
    "sdf.drop(columns=['name', 'favorite_target', 'most_vulnerable', 'main_weight_class'], inplace=True)\n",
    "sdf.head()"
   ]
  },
  {
   "cell_type": "code",
   "execution_count": 22,
   "id": "78b35ca3",
   "metadata": {
    "_kg_hide-input": true,
    "execution": {
     "iopub.execute_input": "2023-06-16T16:32:43.094169Z",
     "iopub.status.busy": "2023-06-16T16:32:43.093777Z",
     "iopub.status.idle": "2023-06-16T16:32:43.105157Z",
     "shell.execute_reply": "2023-06-16T16:32:43.104166Z"
    },
    "papermill": {
     "duration": 0.042623,
     "end_time": "2023-06-16T16:32:43.107438",
     "exception": false,
     "start_time": "2023-06-16T16:32:43.064815",
     "status": "completed"
    },
    "tags": []
   },
   "outputs": [],
   "source": [
    "# Scales the data to the 0,1 range to prevent distortions and improve training\n",
    "\n",
    "scaler = MinMaxScaler()\n",
    "scaled_data = scaler.fit_transform(sdf)\n",
    "sdf = pd.DataFrame(scaled_data, columns=sdf.columns)"
   ]
  },
  {
   "cell_type": "markdown",
   "id": "8ada6505",
   "metadata": {
    "papermill": {
     "duration": 0.027399,
     "end_time": "2023-06-16T16:32:43.163081",
     "exception": false,
     "start_time": "2023-06-16T16:32:43.135682",
     "status": "completed"
    },
    "tags": []
   },
   "source": [
    "**Principal Component Analysis (PCA)** is a technique commonly used in data problems to simplify complex datasets by **reducing their dimensionality**.  \n",
    "\n",
    "The goal of **PCA** is to do so while capturing the **maximum amount of information** from the original dataset and **minimizing the loss of important patterns, trends, etc**.\n",
    "By reducing the dimensionality, data can be better visualized and interpreted, and the use of some machine learning techniques can be simplified.  \n",
    "\n",
    "**PCA** works by calculating **eigenvectors and eigenvalues** from the **covariance matrix** of dataset. This can determine the \"directions\" of maximum variance among the data points, which in turn can define new axis (artificial features calculated from the original ones) called **Principal Components** onto which the **data points are projected**."
   ]
  },
  {
   "cell_type": "code",
   "execution_count": 23,
   "id": "4eaf737b",
   "metadata": {
    "_kg_hide-input": true,
    "execution": {
     "iopub.execute_input": "2023-06-16T16:32:43.220360Z",
     "iopub.status.busy": "2023-06-16T16:32:43.219716Z",
     "iopub.status.idle": "2023-06-16T16:32:43.251380Z",
     "shell.execute_reply": "2023-06-16T16:32:43.249712Z"
    },
    "papermill": {
     "duration": 0.063803,
     "end_time": "2023-06-16T16:32:43.254471",
     "exception": false,
     "start_time": "2023-06-16T16:32:43.190668",
     "status": "completed"
    },
    "tags": []
   },
   "outputs": [
    {
     "name": "stdout",
     "output_type": "stream",
     "text": [
      "Explained Variance Ratio for Component 1: 0.2741\n",
      "Explained Variance Ratio for Component 2: 0.2040\n",
      "Explained Variance Ratio for Component 3: 0.0978\n"
     ]
    }
   ],
   "source": [
    "# Creates three new features based on transformations from the original ones\n",
    "# Principal component analysis (PCA) minimizes loss of variation when reducing dimensions\n",
    "\n",
    "three_pca = PCA(n_components=3)\n",
    "three_pca_data = three_pca.fit_transform(sdf)\n",
    "\n",
    "explained_var = three_pca.explained_variance_ratio_\n",
    "\n",
    "# Displays the amount of variation each principal component accounts for\n",
    "for i, ratio in enumerate(explained_var):\n",
    "    print(f\"Explained Variance Ratio for Component {i+1}: {ratio:.4f}\")"
   ]
  },
  {
   "cell_type": "markdown",
   "id": "1d2442e1",
   "metadata": {
    "papermill": {
     "duration": 0.04876,
     "end_time": "2023-06-16T16:32:43.352066",
     "exception": false,
     "start_time": "2023-06-16T16:32:43.303306",
     "status": "completed"
    },
    "tags": []
   },
   "source": [
    "The results above indicate how much of the dataset's variance can be accounted for by each of the Principal Components generated"
   ]
  },
  {
   "cell_type": "markdown",
   "id": "3c41c187",
   "metadata": {
    "papermill": {
     "duration": 0.028408,
     "end_time": "2023-06-16T16:32:43.411477",
     "exception": false,
     "start_time": "2023-06-16T16:32:43.383069",
     "status": "completed"
    },
    "tags": []
   },
   "source": [
    "# Clustering <a id=\"section5\"></a>"
   ]
  },
  {
   "cell_type": "markdown",
   "id": "aeb6b78f",
   "metadata": {
    "papermill": {
     "duration": 0.02939,
     "end_time": "2023-06-16T16:32:43.469015",
     "exception": false,
     "start_time": "2023-06-16T16:32:43.439625",
     "status": "completed"
    },
    "tags": []
   },
   "source": [
    "***K-Means*** is a popular algorithm used for **unsupervised** learning in data science. It's purpose is to partition a dataset into distinct groups (called **clusters**) based on similarity of data points. These similarities are not always obvious when dealing only with traditional statistical analysis.  \n",
    "\n",
    "The algorithm works in successive iterations to **minimize within cluster (intra-cluster) variance while maximizing inter-cluster variance.  \n",
    "\n",
    "\n",
    "The **initialization** of K-Means consists of **randomly electing K cluster centroids**. **K** is its **main parameter**, which must be chosen in a separate analysis.  \n",
    "\n",
    "At each iteration of **K-Means**, data points are assigned to the cluster of their **nearest centroid**. The most common distance metric for this is Euclidian distance. This assigned is followed by an **update on centroids positions**, which are calculated as the **means of centroid members**.\n",
    "After the update on centroids, another iteration of the **assignment-update loop** begins. This process is repeated until centroid positions stop changing or after a number of iterations previously specified.  \n",
    "\n",
    "It's worth noting that the results of **K-Means** are sensitive to the **random initialization** centroid positions. In order to mitigate this, it's important to repeat the process several times with ***different starting conditions."
   ]
  },
  {
   "cell_type": "markdown",
   "id": "8b7aecbe",
   "metadata": {
    "papermill": {
     "duration": 0.027832,
     "end_time": "2023-06-16T16:32:43.524724",
     "exception": false,
     "start_time": "2023-06-16T16:32:43.496892",
     "status": "completed"
    },
    "tags": []
   },
   "source": [
    "**WCSS** is a common metric to statistically evaluate KMeans. It's calculated as the ***Within Cluster Sum of Squares***. By minimizing WCSS, KMeans can find clusters with elements who are 'closer' to each other.\n"
   ]
  },
  {
   "cell_type": "code",
   "execution_count": 24,
   "id": "dbed7655",
   "metadata": {
    "_kg_hide-input": true,
    "execution": {
     "iopub.execute_input": "2023-06-16T16:32:43.582580Z",
     "iopub.status.busy": "2023-06-16T16:32:43.582221Z",
     "iopub.status.idle": "2023-06-16T16:32:43.811426Z",
     "shell.execute_reply": "2023-06-16T16:32:43.810510Z"
    },
    "papermill": {
     "duration": 0.260242,
     "end_time": "2023-06-16T16:32:43.813549",
     "exception": false,
     "start_time": "2023-06-16T16:32:43.553307",
     "status": "completed"
    },
    "tags": []
   },
   "outputs": [
    {
     "data": {
      "text/html": [
       "<div>                            <div id=\"a1435b8d-8f0c-45ca-9763-bae8289ceece\" class=\"plotly-graph-div\" style=\"height:525px; width:100%;\"></div>            <script type=\"text/javascript\">                require([\"plotly\"], function(Plotly) {                    window.PLOTLYENV=window.PLOTLYENV || {};                                    if (document.getElementById(\"a1435b8d-8f0c-45ca-9763-bae8289ceece\")) {                    Plotly.newPlot(                        \"a1435b8d-8f0c-45ca-9763-bae8289ceece\",                        [{\"x\":[1,2,3,4,5,6,7,8,9,10],\"y\":[622.109355533812,369.9074482994965,203.89165504814477,118.0955059712775,75.27644105865063,48.36314335138907,38.535114720064236,31.339111519535795,25.050533971546244],\"type\":\"scatter\"}],                        {\"template\":{\"data\":{\"histogram2dcontour\":[{\"type\":\"histogram2dcontour\",\"colorbar\":{\"outlinewidth\":0,\"ticks\":\"\"},\"colorscale\":[[0.0,\"#0d0887\"],[0.1111111111111111,\"#46039f\"],[0.2222222222222222,\"#7201a8\"],[0.3333333333333333,\"#9c179e\"],[0.4444444444444444,\"#bd3786\"],[0.5555555555555556,\"#d8576b\"],[0.6666666666666666,\"#ed7953\"],[0.7777777777777778,\"#fb9f3a\"],[0.8888888888888888,\"#fdca26\"],[1.0,\"#f0f921\"]]}],\"choropleth\":[{\"type\":\"choropleth\",\"colorbar\":{\"outlinewidth\":0,\"ticks\":\"\"}}],\"histogram2d\":[{\"type\":\"histogram2d\",\"colorbar\":{\"outlinewidth\":0,\"ticks\":\"\"},\"colorscale\":[[0.0,\"#0d0887\"],[0.1111111111111111,\"#46039f\"],[0.2222222222222222,\"#7201a8\"],[0.3333333333333333,\"#9c179e\"],[0.4444444444444444,\"#bd3786\"],[0.5555555555555556,\"#d8576b\"],[0.6666666666666666,\"#ed7953\"],[0.7777777777777778,\"#fb9f3a\"],[0.8888888888888888,\"#fdca26\"],[1.0,\"#f0f921\"]]}],\"heatmap\":[{\"type\":\"heatmap\",\"colorbar\":{\"outlinewidth\":0,\"ticks\":\"\"},\"colorscale\":[[0.0,\"#0d0887\"],[0.1111111111111111,\"#46039f\"],[0.2222222222222222,\"#7201a8\"],[0.3333333333333333,\"#9c179e\"],[0.4444444444444444,\"#bd3786\"],[0.5555555555555556,\"#d8576b\"],[0.6666666666666666,\"#ed7953\"],[0.7777777777777778,\"#fb9f3a\"],[0.8888888888888888,\"#fdca26\"],[1.0,\"#f0f921\"]]}],\"heatmapgl\":[{\"type\":\"heatmapgl\",\"colorbar\":{\"outlinewidth\":0,\"ticks\":\"\"},\"colorscale\":[[0.0,\"#0d0887\"],[0.1111111111111111,\"#46039f\"],[0.2222222222222222,\"#7201a8\"],[0.3333333333333333,\"#9c179e\"],[0.4444444444444444,\"#bd3786\"],[0.5555555555555556,\"#d8576b\"],[0.6666666666666666,\"#ed7953\"],[0.7777777777777778,\"#fb9f3a\"],[0.8888888888888888,\"#fdca26\"],[1.0,\"#f0f921\"]]}],\"contourcarpet\":[{\"type\":\"contourcarpet\",\"colorbar\":{\"outlinewidth\":0,\"ticks\":\"\"}}],\"contour\":[{\"type\":\"contour\",\"colorbar\":{\"outlinewidth\":0,\"ticks\":\"\"},\"colorscale\":[[0.0,\"#0d0887\"],[0.1111111111111111,\"#46039f\"],[0.2222222222222222,\"#7201a8\"],[0.3333333333333333,\"#9c179e\"],[0.4444444444444444,\"#bd3786\"],[0.5555555555555556,\"#d8576b\"],[0.6666666666666666,\"#ed7953\"],[0.7777777777777778,\"#fb9f3a\"],[0.8888888888888888,\"#fdca26\"],[1.0,\"#f0f921\"]]}],\"surface\":[{\"type\":\"surface\",\"colorbar\":{\"outlinewidth\":0,\"ticks\":\"\"},\"colorscale\":[[0.0,\"#0d0887\"],[0.1111111111111111,\"#46039f\"],[0.2222222222222222,\"#7201a8\"],[0.3333333333333333,\"#9c179e\"],[0.4444444444444444,\"#bd3786\"],[0.5555555555555556,\"#d8576b\"],[0.6666666666666666,\"#ed7953\"],[0.7777777777777778,\"#fb9f3a\"],[0.8888888888888888,\"#fdca26\"],[1.0,\"#f0f921\"]]}],\"mesh3d\":[{\"type\":\"mesh3d\",\"colorbar\":{\"outlinewidth\":0,\"ticks\":\"\"}}],\"scatter\":[{\"fillpattern\":{\"fillmode\":\"overlay\",\"size\":10,\"solidity\":0.2},\"type\":\"scatter\"}],\"parcoords\":[{\"type\":\"parcoords\",\"line\":{\"colorbar\":{\"outlinewidth\":0,\"ticks\":\"\"}}}],\"scatterpolargl\":[{\"type\":\"scatterpolargl\",\"marker\":{\"colorbar\":{\"outlinewidth\":0,\"ticks\":\"\"}}}],\"bar\":[{\"error_x\":{\"color\":\"#2a3f5f\"},\"error_y\":{\"color\":\"#2a3f5f\"},\"marker\":{\"line\":{\"color\":\"#E5ECF6\",\"width\":0.5},\"pattern\":{\"fillmode\":\"overlay\",\"size\":10,\"solidity\":0.2}},\"type\":\"bar\"}],\"scattergeo\":[{\"type\":\"scattergeo\",\"marker\":{\"colorbar\":{\"outlinewidth\":0,\"ticks\":\"\"}}}],\"scatterpolar\":[{\"type\":\"scatterpolar\",\"marker\":{\"colorbar\":{\"outlinewidth\":0,\"ticks\":\"\"}}}],\"histogram\":[{\"marker\":{\"pattern\":{\"fillmode\":\"overlay\",\"size\":10,\"solidity\":0.2}},\"type\":\"histogram\"}],\"scattergl\":[{\"type\":\"scattergl\",\"marker\":{\"colorbar\":{\"outlinewidth\":0,\"ticks\":\"\"}}}],\"scatter3d\":[{\"type\":\"scatter3d\",\"line\":{\"colorbar\":{\"outlinewidth\":0,\"ticks\":\"\"}},\"marker\":{\"colorbar\":{\"outlinewidth\":0,\"ticks\":\"\"}}}],\"scattermapbox\":[{\"type\":\"scattermapbox\",\"marker\":{\"colorbar\":{\"outlinewidth\":0,\"ticks\":\"\"}}}],\"scatterternary\":[{\"type\":\"scatterternary\",\"marker\":{\"colorbar\":{\"outlinewidth\":0,\"ticks\":\"\"}}}],\"scattercarpet\":[{\"type\":\"scattercarpet\",\"marker\":{\"colorbar\":{\"outlinewidth\":0,\"ticks\":\"\"}}}],\"carpet\":[{\"aaxis\":{\"endlinecolor\":\"#2a3f5f\",\"gridcolor\":\"white\",\"linecolor\":\"white\",\"minorgridcolor\":\"white\",\"startlinecolor\":\"#2a3f5f\"},\"baxis\":{\"endlinecolor\":\"#2a3f5f\",\"gridcolor\":\"white\",\"linecolor\":\"white\",\"minorgridcolor\":\"white\",\"startlinecolor\":\"#2a3f5f\"},\"type\":\"carpet\"}],\"table\":[{\"cells\":{\"fill\":{\"color\":\"#EBF0F8\"},\"line\":{\"color\":\"white\"}},\"header\":{\"fill\":{\"color\":\"#C8D4E3\"},\"line\":{\"color\":\"white\"}},\"type\":\"table\"}],\"barpolar\":[{\"marker\":{\"line\":{\"color\":\"#E5ECF6\",\"width\":0.5},\"pattern\":{\"fillmode\":\"overlay\",\"size\":10,\"solidity\":0.2}},\"type\":\"barpolar\"}],\"pie\":[{\"automargin\":true,\"type\":\"pie\"}]},\"layout\":{\"autotypenumbers\":\"strict\",\"colorway\":[\"#636efa\",\"#EF553B\",\"#00cc96\",\"#ab63fa\",\"#FFA15A\",\"#19d3f3\",\"#FF6692\",\"#B6E880\",\"#FF97FF\",\"#FECB52\"],\"font\":{\"color\":\"#2a3f5f\"},\"hovermode\":\"closest\",\"hoverlabel\":{\"align\":\"left\"},\"paper_bgcolor\":\"white\",\"plot_bgcolor\":\"#E5ECF6\",\"polar\":{\"bgcolor\":\"#E5ECF6\",\"angularaxis\":{\"gridcolor\":\"white\",\"linecolor\":\"white\",\"ticks\":\"\"},\"radialaxis\":{\"gridcolor\":\"white\",\"linecolor\":\"white\",\"ticks\":\"\"}},\"ternary\":{\"bgcolor\":\"#E5ECF6\",\"aaxis\":{\"gridcolor\":\"white\",\"linecolor\":\"white\",\"ticks\":\"\"},\"baxis\":{\"gridcolor\":\"white\",\"linecolor\":\"white\",\"ticks\":\"\"},\"caxis\":{\"gridcolor\":\"white\",\"linecolor\":\"white\",\"ticks\":\"\"}},\"coloraxis\":{\"colorbar\":{\"outlinewidth\":0,\"ticks\":\"\"}},\"colorscale\":{\"sequential\":[[0.0,\"#0d0887\"],[0.1111111111111111,\"#46039f\"],[0.2222222222222222,\"#7201a8\"],[0.3333333333333333,\"#9c179e\"],[0.4444444444444444,\"#bd3786\"],[0.5555555555555556,\"#d8576b\"],[0.6666666666666666,\"#ed7953\"],[0.7777777777777778,\"#fb9f3a\"],[0.8888888888888888,\"#fdca26\"],[1.0,\"#f0f921\"]],\"sequentialminus\":[[0.0,\"#0d0887\"],[0.1111111111111111,\"#46039f\"],[0.2222222222222222,\"#7201a8\"],[0.3333333333333333,\"#9c179e\"],[0.4444444444444444,\"#bd3786\"],[0.5555555555555556,\"#d8576b\"],[0.6666666666666666,\"#ed7953\"],[0.7777777777777778,\"#fb9f3a\"],[0.8888888888888888,\"#fdca26\"],[1.0,\"#f0f921\"]],\"diverging\":[[0,\"#8e0152\"],[0.1,\"#c51b7d\"],[0.2,\"#de77ae\"],[0.3,\"#f1b6da\"],[0.4,\"#fde0ef\"],[0.5,\"#f7f7f7\"],[0.6,\"#e6f5d0\"],[0.7,\"#b8e186\"],[0.8,\"#7fbc41\"],[0.9,\"#4d9221\"],[1,\"#276419\"]]},\"xaxis\":{\"gridcolor\":\"white\",\"linecolor\":\"white\",\"ticks\":\"\",\"title\":{\"standoff\":15},\"zerolinecolor\":\"white\",\"automargin\":true,\"zerolinewidth\":2},\"yaxis\":{\"gridcolor\":\"white\",\"linecolor\":\"white\",\"ticks\":\"\",\"title\":{\"standoff\":15},\"zerolinecolor\":\"white\",\"automargin\":true,\"zerolinewidth\":2},\"scene\":{\"xaxis\":{\"backgroundcolor\":\"#E5ECF6\",\"gridcolor\":\"white\",\"linecolor\":\"white\",\"showbackground\":true,\"ticks\":\"\",\"zerolinecolor\":\"white\",\"gridwidth\":2},\"yaxis\":{\"backgroundcolor\":\"#E5ECF6\",\"gridcolor\":\"white\",\"linecolor\":\"white\",\"showbackground\":true,\"ticks\":\"\",\"zerolinecolor\":\"white\",\"gridwidth\":2},\"zaxis\":{\"backgroundcolor\":\"#E5ECF6\",\"gridcolor\":\"white\",\"linecolor\":\"white\",\"showbackground\":true,\"ticks\":\"\",\"zerolinecolor\":\"white\",\"gridwidth\":2}},\"shapedefaults\":{\"line\":{\"color\":\"#2a3f5f\"}},\"annotationdefaults\":{\"arrowcolor\":\"#2a3f5f\",\"arrowhead\":0,\"arrowwidth\":1},\"geo\":{\"bgcolor\":\"white\",\"landcolor\":\"#E5ECF6\",\"subunitcolor\":\"white\",\"showland\":true,\"showlakes\":true,\"lakecolor\":\"white\"},\"title\":{\"x\":0.05},\"mapbox\":{\"style\":\"light\"}}},\"title\":{\"text\":\"WCSS vs. Number of clusters\",\"x\":0.49},\"xaxis\":{\"title\":{\"text\":\"Clusters\"}},\"yaxis\":{\"title\":{\"text\":\"WCSS\"}}},                        {\"responsive\": true}                    ).then(function(){\n",
       "                            \n",
       "var gd = document.getElementById('a1435b8d-8f0c-45ca-9763-bae8289ceece');\n",
       "var x = new MutationObserver(function (mutations, observer) {{\n",
       "        var display = window.getComputedStyle(gd).display;\n",
       "        if (!display || display === 'none') {{\n",
       "            console.log([gd, 'removed!']);\n",
       "            Plotly.purge(gd);\n",
       "            observer.disconnect();\n",
       "        }}\n",
       "}});\n",
       "\n",
       "// Listen for the removal of the full notebook cells\n",
       "var notebookContainer = gd.closest('#notebook-container');\n",
       "if (notebookContainer) {{\n",
       "    x.observe(notebookContainer, {childList: true});\n",
       "}}\n",
       "\n",
       "// Listen for the clearing of the current output cell\n",
       "var outputEl = gd.closest('.output');\n",
       "if (outputEl) {{\n",
       "    x.observe(outputEl, {childList: true});\n",
       "}}\n",
       "\n",
       "                        })                };                });            </script>        </div>"
      ]
     },
     "metadata": {},
     "output_type": "display_data"
    }
   ],
   "source": [
    "# Tests several values for the amount of clusters generated\n",
    "# Plots the WCSS for each of these clusters number\n",
    "\n",
    "wcss = []\n",
    "for i in range(1, 10):\n",
    "    kmeans = KMeans(n_clusters = i, init = \"k-means++\", max_iter = 500, n_init = 10, random_state = 123)\n",
    "    kmeans.fit(three_pca_data)\n",
    "    wcss.append(kmeans.inertia_)\n",
    "    \n",
    "fig = go.Figure(data = go.Scatter(x = [1,2,3,4,5,6,7,8,9,10], y = wcss))\n",
    "\n",
    "\n",
    "fig.update_layout(title='WCSS vs. Number of clusters',\n",
    "                   xaxis_title='Clusters',\n",
    "                   yaxis_title='WCSS')\n",
    "\n",
    "fig.update_layout(title_x=0.49)\n",
    "\n",
    "fig.show()"
   ]
  },
  {
   "cell_type": "markdown",
   "id": "ed6c297e",
   "metadata": {
    "papermill": {
     "duration": 0.027899,
     "end_time": "2023-06-16T16:32:43.869453",
     "exception": false,
     "start_time": "2023-06-16T16:32:43.841554",
     "status": "completed"
    },
    "tags": []
   },
   "source": [
    "Since there are no easily identifiable \"*elbows*\" in the chart above, another metric is used to determine the optimal number of clusters."
   ]
  },
  {
   "cell_type": "markdown",
   "id": "93e252e1",
   "metadata": {
    "papermill": {
     "duration": 0.027842,
     "end_time": "2023-06-16T16:32:43.925299",
     "exception": false,
     "start_time": "2023-06-16T16:32:43.897457",
     "status": "completed"
    },
    "tags": []
   },
   "source": [
    "The **Silhouette** score represents how well data points are 'fitted' to their cluster. Negative values represent elements in the 'wrong' cluster. It's calculated using the distance between the resulting clusters. By maximizing distance between different clusters, data tends to be better grouped."
   ]
  },
  {
   "cell_type": "code",
   "execution_count": 25,
   "id": "6987c48b",
   "metadata": {
    "_kg_hide-input": true,
    "execution": {
     "iopub.execute_input": "2023-06-16T16:32:43.984099Z",
     "iopub.status.busy": "2023-06-16T16:32:43.983437Z",
     "iopub.status.idle": "2023-06-16T16:32:45.796170Z",
     "shell.execute_reply": "2023-06-16T16:32:45.794898Z"
    },
    "papermill": {
     "duration": 1.845555,
     "end_time": "2023-06-16T16:32:45.799495",
     "exception": false,
     "start_time": "2023-06-16T16:32:43.953940",
     "status": "completed"
    },
    "tags": []
   },
   "outputs": [
    {
     "data": {
      "text/html": [
       "<div>                            <div id=\"de15d4b0-d127-4f68-8189-5f77e9c07cd5\" class=\"plotly-graph-div\" style=\"height:525px; width:100%;\"></div>            <script type=\"text/javascript\">                require([\"plotly\"], function(Plotly) {                    window.PLOTLYENV=window.PLOTLYENV || {};                                    if (document.getElementById(\"de15d4b0-d127-4f68-8189-5f77e9c07cd5\")) {                    Plotly.newPlot(                        \"de15d4b0-d127-4f68-8189-5f77e9c07cd5\",                        [{\"mode\":\"lines\",\"name\":\"Silhouette Score\",\"x\":[2,3,4,5,6,7,8,9],\"y\":[0.48648346031784956,0.5686746306097046,0.69182855558374,0.7227435843629163,0.7549032956273316,0.7474475600394972,0.7220664818467696,0.720521388995937],\"type\":\"scatter\"}],                        {\"template\":{\"data\":{\"histogram2dcontour\":[{\"type\":\"histogram2dcontour\",\"colorbar\":{\"outlinewidth\":0,\"ticks\":\"\"},\"colorscale\":[[0.0,\"#0d0887\"],[0.1111111111111111,\"#46039f\"],[0.2222222222222222,\"#7201a8\"],[0.3333333333333333,\"#9c179e\"],[0.4444444444444444,\"#bd3786\"],[0.5555555555555556,\"#d8576b\"],[0.6666666666666666,\"#ed7953\"],[0.7777777777777778,\"#fb9f3a\"],[0.8888888888888888,\"#fdca26\"],[1.0,\"#f0f921\"]]}],\"choropleth\":[{\"type\":\"choropleth\",\"colorbar\":{\"outlinewidth\":0,\"ticks\":\"\"}}],\"histogram2d\":[{\"type\":\"histogram2d\",\"colorbar\":{\"outlinewidth\":0,\"ticks\":\"\"},\"colorscale\":[[0.0,\"#0d0887\"],[0.1111111111111111,\"#46039f\"],[0.2222222222222222,\"#7201a8\"],[0.3333333333333333,\"#9c179e\"],[0.4444444444444444,\"#bd3786\"],[0.5555555555555556,\"#d8576b\"],[0.6666666666666666,\"#ed7953\"],[0.7777777777777778,\"#fb9f3a\"],[0.8888888888888888,\"#fdca26\"],[1.0,\"#f0f921\"]]}],\"heatmap\":[{\"type\":\"heatmap\",\"colorbar\":{\"outlinewidth\":0,\"ticks\":\"\"},\"colorscale\":[[0.0,\"#0d0887\"],[0.1111111111111111,\"#46039f\"],[0.2222222222222222,\"#7201a8\"],[0.3333333333333333,\"#9c179e\"],[0.4444444444444444,\"#bd3786\"],[0.5555555555555556,\"#d8576b\"],[0.6666666666666666,\"#ed7953\"],[0.7777777777777778,\"#fb9f3a\"],[0.8888888888888888,\"#fdca26\"],[1.0,\"#f0f921\"]]}],\"heatmapgl\":[{\"type\":\"heatmapgl\",\"colorbar\":{\"outlinewidth\":0,\"ticks\":\"\"},\"colorscale\":[[0.0,\"#0d0887\"],[0.1111111111111111,\"#46039f\"],[0.2222222222222222,\"#7201a8\"],[0.3333333333333333,\"#9c179e\"],[0.4444444444444444,\"#bd3786\"],[0.5555555555555556,\"#d8576b\"],[0.6666666666666666,\"#ed7953\"],[0.7777777777777778,\"#fb9f3a\"],[0.8888888888888888,\"#fdca26\"],[1.0,\"#f0f921\"]]}],\"contourcarpet\":[{\"type\":\"contourcarpet\",\"colorbar\":{\"outlinewidth\":0,\"ticks\":\"\"}}],\"contour\":[{\"type\":\"contour\",\"colorbar\":{\"outlinewidth\":0,\"ticks\":\"\"},\"colorscale\":[[0.0,\"#0d0887\"],[0.1111111111111111,\"#46039f\"],[0.2222222222222222,\"#7201a8\"],[0.3333333333333333,\"#9c179e\"],[0.4444444444444444,\"#bd3786\"],[0.5555555555555556,\"#d8576b\"],[0.6666666666666666,\"#ed7953\"],[0.7777777777777778,\"#fb9f3a\"],[0.8888888888888888,\"#fdca26\"],[1.0,\"#f0f921\"]]}],\"surface\":[{\"type\":\"surface\",\"colorbar\":{\"outlinewidth\":0,\"ticks\":\"\"},\"colorscale\":[[0.0,\"#0d0887\"],[0.1111111111111111,\"#46039f\"],[0.2222222222222222,\"#7201a8\"],[0.3333333333333333,\"#9c179e\"],[0.4444444444444444,\"#bd3786\"],[0.5555555555555556,\"#d8576b\"],[0.6666666666666666,\"#ed7953\"],[0.7777777777777778,\"#fb9f3a\"],[0.8888888888888888,\"#fdca26\"],[1.0,\"#f0f921\"]]}],\"mesh3d\":[{\"type\":\"mesh3d\",\"colorbar\":{\"outlinewidth\":0,\"ticks\":\"\"}}],\"scatter\":[{\"fillpattern\":{\"fillmode\":\"overlay\",\"size\":10,\"solidity\":0.2},\"type\":\"scatter\"}],\"parcoords\":[{\"type\":\"parcoords\",\"line\":{\"colorbar\":{\"outlinewidth\":0,\"ticks\":\"\"}}}],\"scatterpolargl\":[{\"type\":\"scatterpolargl\",\"marker\":{\"colorbar\":{\"outlinewidth\":0,\"ticks\":\"\"}}}],\"bar\":[{\"error_x\":{\"color\":\"#2a3f5f\"},\"error_y\":{\"color\":\"#2a3f5f\"},\"marker\":{\"line\":{\"color\":\"#E5ECF6\",\"width\":0.5},\"pattern\":{\"fillmode\":\"overlay\",\"size\":10,\"solidity\":0.2}},\"type\":\"bar\"}],\"scattergeo\":[{\"type\":\"scattergeo\",\"marker\":{\"colorbar\":{\"outlinewidth\":0,\"ticks\":\"\"}}}],\"scatterpolar\":[{\"type\":\"scatterpolar\",\"marker\":{\"colorbar\":{\"outlinewidth\":0,\"ticks\":\"\"}}}],\"histogram\":[{\"marker\":{\"pattern\":{\"fillmode\":\"overlay\",\"size\":10,\"solidity\":0.2}},\"type\":\"histogram\"}],\"scattergl\":[{\"type\":\"scattergl\",\"marker\":{\"colorbar\":{\"outlinewidth\":0,\"ticks\":\"\"}}}],\"scatter3d\":[{\"type\":\"scatter3d\",\"line\":{\"colorbar\":{\"outlinewidth\":0,\"ticks\":\"\"}},\"marker\":{\"colorbar\":{\"outlinewidth\":0,\"ticks\":\"\"}}}],\"scattermapbox\":[{\"type\":\"scattermapbox\",\"marker\":{\"colorbar\":{\"outlinewidth\":0,\"ticks\":\"\"}}}],\"scatterternary\":[{\"type\":\"scatterternary\",\"marker\":{\"colorbar\":{\"outlinewidth\":0,\"ticks\":\"\"}}}],\"scattercarpet\":[{\"type\":\"scattercarpet\",\"marker\":{\"colorbar\":{\"outlinewidth\":0,\"ticks\":\"\"}}}],\"carpet\":[{\"aaxis\":{\"endlinecolor\":\"#2a3f5f\",\"gridcolor\":\"white\",\"linecolor\":\"white\",\"minorgridcolor\":\"white\",\"startlinecolor\":\"#2a3f5f\"},\"baxis\":{\"endlinecolor\":\"#2a3f5f\",\"gridcolor\":\"white\",\"linecolor\":\"white\",\"minorgridcolor\":\"white\",\"startlinecolor\":\"#2a3f5f\"},\"type\":\"carpet\"}],\"table\":[{\"cells\":{\"fill\":{\"color\":\"#EBF0F8\"},\"line\":{\"color\":\"white\"}},\"header\":{\"fill\":{\"color\":\"#C8D4E3\"},\"line\":{\"color\":\"white\"}},\"type\":\"table\"}],\"barpolar\":[{\"marker\":{\"line\":{\"color\":\"#E5ECF6\",\"width\":0.5},\"pattern\":{\"fillmode\":\"overlay\",\"size\":10,\"solidity\":0.2}},\"type\":\"barpolar\"}],\"pie\":[{\"automargin\":true,\"type\":\"pie\"}]},\"layout\":{\"autotypenumbers\":\"strict\",\"colorway\":[\"#636efa\",\"#EF553B\",\"#00cc96\",\"#ab63fa\",\"#FFA15A\",\"#19d3f3\",\"#FF6692\",\"#B6E880\",\"#FF97FF\",\"#FECB52\"],\"font\":{\"color\":\"#2a3f5f\"},\"hovermode\":\"closest\",\"hoverlabel\":{\"align\":\"left\"},\"paper_bgcolor\":\"white\",\"plot_bgcolor\":\"#E5ECF6\",\"polar\":{\"bgcolor\":\"#E5ECF6\",\"angularaxis\":{\"gridcolor\":\"white\",\"linecolor\":\"white\",\"ticks\":\"\"},\"radialaxis\":{\"gridcolor\":\"white\",\"linecolor\":\"white\",\"ticks\":\"\"}},\"ternary\":{\"bgcolor\":\"#E5ECF6\",\"aaxis\":{\"gridcolor\":\"white\",\"linecolor\":\"white\",\"ticks\":\"\"},\"baxis\":{\"gridcolor\":\"white\",\"linecolor\":\"white\",\"ticks\":\"\"},\"caxis\":{\"gridcolor\":\"white\",\"linecolor\":\"white\",\"ticks\":\"\"}},\"coloraxis\":{\"colorbar\":{\"outlinewidth\":0,\"ticks\":\"\"}},\"colorscale\":{\"sequential\":[[0.0,\"#0d0887\"],[0.1111111111111111,\"#46039f\"],[0.2222222222222222,\"#7201a8\"],[0.3333333333333333,\"#9c179e\"],[0.4444444444444444,\"#bd3786\"],[0.5555555555555556,\"#d8576b\"],[0.6666666666666666,\"#ed7953\"],[0.7777777777777778,\"#fb9f3a\"],[0.8888888888888888,\"#fdca26\"],[1.0,\"#f0f921\"]],\"sequentialminus\":[[0.0,\"#0d0887\"],[0.1111111111111111,\"#46039f\"],[0.2222222222222222,\"#7201a8\"],[0.3333333333333333,\"#9c179e\"],[0.4444444444444444,\"#bd3786\"],[0.5555555555555556,\"#d8576b\"],[0.6666666666666666,\"#ed7953\"],[0.7777777777777778,\"#fb9f3a\"],[0.8888888888888888,\"#fdca26\"],[1.0,\"#f0f921\"]],\"diverging\":[[0,\"#8e0152\"],[0.1,\"#c51b7d\"],[0.2,\"#de77ae\"],[0.3,\"#f1b6da\"],[0.4,\"#fde0ef\"],[0.5,\"#f7f7f7\"],[0.6,\"#e6f5d0\"],[0.7,\"#b8e186\"],[0.8,\"#7fbc41\"],[0.9,\"#4d9221\"],[1,\"#276419\"]]},\"xaxis\":{\"gridcolor\":\"white\",\"linecolor\":\"white\",\"ticks\":\"\",\"title\":{\"standoff\":15},\"zerolinecolor\":\"white\",\"automargin\":true,\"zerolinewidth\":2},\"yaxis\":{\"gridcolor\":\"white\",\"linecolor\":\"white\",\"ticks\":\"\",\"title\":{\"standoff\":15},\"zerolinecolor\":\"white\",\"automargin\":true,\"zerolinewidth\":2},\"scene\":{\"xaxis\":{\"backgroundcolor\":\"#E5ECF6\",\"gridcolor\":\"white\",\"linecolor\":\"white\",\"showbackground\":true,\"ticks\":\"\",\"zerolinecolor\":\"white\",\"gridwidth\":2},\"yaxis\":{\"backgroundcolor\":\"#E5ECF6\",\"gridcolor\":\"white\",\"linecolor\":\"white\",\"showbackground\":true,\"ticks\":\"\",\"zerolinecolor\":\"white\",\"gridwidth\":2},\"zaxis\":{\"backgroundcolor\":\"#E5ECF6\",\"gridcolor\":\"white\",\"linecolor\":\"white\",\"showbackground\":true,\"ticks\":\"\",\"zerolinecolor\":\"white\",\"gridwidth\":2}},\"shapedefaults\":{\"line\":{\"color\":\"#2a3f5f\"}},\"annotationdefaults\":{\"arrowcolor\":\"#2a3f5f\",\"arrowhead\":0,\"arrowwidth\":1},\"geo\":{\"bgcolor\":\"white\",\"landcolor\":\"#E5ECF6\",\"subunitcolor\":\"white\",\"showland\":true,\"showlakes\":true,\"lakecolor\":\"white\"},\"title\":{\"x\":0.05},\"mapbox\":{\"style\":\"light\"}}},\"title\":{\"text\":\"Silhouette Score vs. Number of clusters\",\"x\":0.49},\"xaxis\":{\"title\":{\"text\":\"Number of Clusters\"}},\"yaxis\":{\"title\":{\"text\":\"Score\"}}},                        {\"responsive\": true}                    ).then(function(){\n",
       "                            \n",
       "var gd = document.getElementById('de15d4b0-d127-4f68-8189-5f77e9c07cd5');\n",
       "var x = new MutationObserver(function (mutations, observer) {{\n",
       "        var display = window.getComputedStyle(gd).display;\n",
       "        if (!display || display === 'none') {{\n",
       "            console.log([gd, 'removed!']);\n",
       "            Plotly.purge(gd);\n",
       "            observer.disconnect();\n",
       "        }}\n",
       "}});\n",
       "\n",
       "// Listen for the removal of the full notebook cells\n",
       "var notebookContainer = gd.closest('#notebook-container');\n",
       "if (notebookContainer) {{\n",
       "    x.observe(notebookContainer, {childList: true});\n",
       "}}\n",
       "\n",
       "// Listen for the clearing of the current output cell\n",
       "var outputEl = gd.closest('.output');\n",
       "if (outputEl) {{\n",
       "    x.observe(outputEl, {childList: true});\n",
       "}}\n",
       "\n",
       "                        })                };                });            </script>        </div>"
      ]
     },
     "metadata": {},
     "output_type": "display_data"
    }
   ],
   "source": [
    "# Tests several numbers of clusters and scores them using the silhouette score metric.\n",
    "# Plots the silhouette score for different numbers of clusters\n",
    "\n",
    "silhouette_scores = []\n",
    "\n",
    "for i in range(2, 10):\n",
    "    kmeans = KMeans(n_clusters=i, init=\"k-means++\", max_iter=500, n_init=10, random_state=123)\n",
    "    kmeans.fit(three_pca_data)\n",
    "    labels = kmeans.labels_\n",
    "    silhouette_avg = silhouette_score(three_pca_data, labels)\n",
    "    silhouette_scores.append(silhouette_avg)\n",
    "\n",
    "\n",
    "fig = go.Figure()\n",
    "fig.add_trace(go.Scatter(x=list(range(2, 10)), y=silhouette_scores, mode='lines', name='Silhouette Score'))\n",
    "\n",
    "fig.update_layout(\n",
    "    title='Silhouette Score vs. Number of clusters',\n",
    "    xaxis_title='Number of Clusters',\n",
    "    yaxis_title='Score'\n",
    ")\n",
    "\n",
    "fig.update_layout(title_x=0.49)\n",
    "\n",
    "fig.show()"
   ]
  },
  {
   "cell_type": "markdown",
   "id": "934d3a93",
   "metadata": {
    "papermill": {
     "duration": 0.045637,
     "end_time": "2023-06-16T16:32:45.892929",
     "exception": false,
     "start_time": "2023-06-16T16:32:45.847292",
     "status": "completed"
    },
    "tags": []
   },
   "source": [
    "Since the maximum Silhouette score was found for ***n_clusters = 6***, that's the number of clusters used to train and use the model."
   ]
  },
  {
   "cell_type": "code",
   "execution_count": 26,
   "id": "5009ce4e",
   "metadata": {
    "_kg_hide-input": true,
    "execution": {
     "iopub.execute_input": "2023-06-16T16:32:45.951840Z",
     "iopub.status.busy": "2023-06-16T16:32:45.951205Z",
     "iopub.status.idle": "2023-06-16T16:32:45.985771Z",
     "shell.execute_reply": "2023-06-16T16:32:45.984906Z"
    },
    "papermill": {
     "duration": 0.06707,
     "end_time": "2023-06-16T16:32:45.988390",
     "exception": false,
     "start_time": "2023-06-16T16:32:45.921320",
     "status": "completed"
    },
    "tags": []
   },
   "outputs": [],
   "source": [
    "# Trains the model by fitting it to the data\n",
    "kmeans = KMeans(n_clusters = 6, init=\"k-means++\", max_iter = 500, n_init = 10)\n",
    "identified_clusters = kmeans.fit_predict(three_pca_data)\n",
    "\n",
    "# Creates a dataframe containing the cluster label\n",
    "data_with_clusters = df.copy()\n",
    "data_with_clusters['Cluster'] = identified_clusters"
   ]
  },
  {
   "cell_type": "code",
   "execution_count": 27,
   "id": "f6f9d78c",
   "metadata": {
    "_kg_hide-input": true,
    "execution": {
     "iopub.execute_input": "2023-06-16T16:32:46.047879Z",
     "iopub.status.busy": "2023-06-16T16:32:46.046788Z",
     "iopub.status.idle": "2023-06-16T16:32:46.054618Z",
     "shell.execute_reply": "2023-06-16T16:32:46.053577Z"
    },
    "papermill": {
     "duration": 0.039765,
     "end_time": "2023-06-16T16:32:46.056986",
     "exception": false,
     "start_time": "2023-06-16T16:32:46.017221",
     "status": "completed"
    },
    "tags": []
   },
   "outputs": [],
   "source": [
    "three_pca_df = pd.DataFrame(\n",
    "    data=three_pca_data, \n",
    "    columns=['PC1', 'PC2', 'PC3'])\n",
    "\n",
    "# Adds the artificial features generated by PCA to the new dataframe\n",
    "for col in three_pca_df.columns:\n",
    "    data_with_clusters[col] = three_pca_df[col]"
   ]
  },
  {
   "cell_type": "markdown",
   "id": "0912d816",
   "metadata": {
    "papermill": {
     "duration": 0.027804,
     "end_time": "2023-06-16T16:32:46.113442",
     "exception": false,
     "start_time": "2023-06-16T16:32:46.085638",
     "status": "completed"
    },
    "tags": []
   },
   "source": [
    "### How are the clusters distributted along the 3 axis generated by PCA?"
   ]
  },
  {
   "cell_type": "code",
   "execution_count": 28,
   "id": "4c70387f",
   "metadata": {
    "_kg_hide-input": false,
    "execution": {
     "iopub.execute_input": "2023-06-16T16:32:46.172728Z",
     "iopub.status.busy": "2023-06-16T16:32:46.172329Z",
     "iopub.status.idle": "2023-06-16T16:32:46.310299Z",
     "shell.execute_reply": "2023-06-16T16:32:46.309269Z"
    },
    "papermill": {
     "duration": 0.169885,
     "end_time": "2023-06-16T16:32:46.312666",
     "exception": false,
     "start_time": "2023-06-16T16:32:46.142781",
     "status": "completed"
    },
    "tags": []
   },
   "outputs": [
    {
     "data": {
      "text/html": [
       "<div>                            <div id=\"0b0ab105-24d9-4bea-85d1-914016e5be96\" class=\"plotly-graph-div\" style=\"height:800px; width:800px;\"></div>            <script type=\"text/javascript\">                require([\"plotly\"], function(Plotly) {                    window.PLOTLYENV=window.PLOTLYENV || {};                                    if (document.getElementById(\"0b0ab105-24d9-4bea-85d1-914016e5be96\")) {                    Plotly.newPlot(                        \"0b0ab105-24d9-4bea-85d1-914016e5be96\",                        [{\"hovertemplate\":\"<b>%{hovertext}</b><br><br>Cluster=0<br>PC1=%{x}<br>PC2=%{y}<br>PC3=%{z}<extra></extra>\",\"hovertext\":[\"Murilo Santana\",\"Otavio Sousa\",\"Robson Moura\",\"Romulo Barral\",\"Ronaldo Souza\",\"Braulio Estima\",\"Claudio Calasans\",\"Craig Jones\",\"Gary Tonon\",\"Gilbert Burns\",\"Keenan Cornelius\",\"Kron Gracie\",\"Matheus Diniz\",\"Marcio Feitosa\",\"Marcus Almeida\",\"Tye Ruotolo\",\"Tim Spriggs\",\"Jared Dopp\",\"Alexandre Ribeiro\",\"Andre Galvao\",\"Fabricio Werdum\",\"Jon Blank\",\"Leonardo Santos\",\"Leonardo Vieira\",\"Marcelo Garcia\",\"Mason Fowler\",\"Royler Gracie\",\"Tarsis Humpreys\",\"Vitor Ribeiro\",\"Bianca Basilio\",\"Gabriel Napao\",\"A. Cacareco\",\"David Avellan\",\"Mike Fowler\",\"Oskar Piechota\",\"Hayato Sakurai\"],\"legendgroup\":\"0\",\"marker\":{\"color\":\"rgb(27,158,119)\",\"opacity\":0.8,\"symbol\":\"circle\"},\"mode\":\"markers\",\"name\":\"0\",\"scene\":\"scene\",\"showlegend\":true,\"x\":[0.9381042467661604,1.257919805339589,1.1676029105396457,1.5844989875713493,1.7636931155611368,2.000835701448754,1.5260611377162412,1.4591319575422206,1.0601519937302488,0.9897137979232211,1.3198610056721973,1.7587560591966922,0.7911967742515819,1.4830016400278379,1.8076611917712189,1.1101346525838145,0.9498117475988798,1.2696384081511802,1.9880160076160893,2.051033964448612,1.759750978454806,0.7937245431944845,0.942346254652143,2.137747432130267,2.1944434657892016,0.8521470051330716,1.9656930634876004,1.027022344424105,1.1464916067434943,1.6628618037890435,0.9683017881898847,1.1063422763118447,0.9119909783537326,0.7892901285763885,0.7950934485758483,0.9361567374725449],\"y\":[-0.749471677061781,-0.6390544872406629,-0.6814122176575741,-0.6791847056564962,-0.6395307227233104,-0.6039153332640452,-0.6632845179641254,-0.6303239865962911,-0.7268568489159501,-0.6652560099236795,-0.6661954156309218,-0.5901812411086557,-0.6238265811572742,-0.671752032235298,-0.6209189702068382,-0.661684668296985,-0.6877945985667084,-0.6608861666215388,-0.6912910405251559,-0.6240537107027674,-0.6672732008370884,-0.7116524902117133,-0.748517727071788,-0.627087076884953,-0.6086658471073708,-0.6862369322834513,-0.579558775282076,-0.7162103500696546,-0.6923868483949744,-0.5237092154342539,-0.7142039794220953,-0.7549616543924976,-0.7637285499789422,-0.7356378320260176,-0.7062860612933954,-0.7525294692419197],\"z\":[-0.3791127914641297,-0.41003142964668965,-0.411342238747724,-0.5028793524955544,-0.42767305184990634,-0.39476101142459397,-0.46394965636681745,-0.3977047544118599,-0.4534709721398112,-0.44334932475343564,-0.4860968201648897,-0.434650012723021,-0.48751071585912076,-0.45930271679261075,-0.4773847567084011,-0.3485722356053495,-0.34714680944833226,-0.3835259879693352,-0.4217322745357539,-0.4850877820654007,-0.43019509051604315,-0.45654337918086196,-0.4194343246556985,-0.42768949140860213,-0.4116963933944646,-0.38160727140180234,-0.4581126358729766,-0.47335191411775157,-0.39154905054405426,-0.4559890588226377,-0.45181416223068804,-0.4161287482953758,-0.4508197460418025,-0.48550037776883953,-0.34221396789596326,-0.42061798692160474],\"type\":\"scatter3d\"},{\"hovertemplate\":\"<b>%{hovertext}</b><br><br>Cluster=4<br>PC1=%{x}<br>PC2=%{y}<br>PC3=%{z}<extra></extra>\",\"hovertext\":[\"Nicholas Meregali\",\"Roger Gracie\",\"Bruno Frazatto\",\"Davi Ramos\",\"David Terrell\",\"Demian Maia\",\"Diego Oliveira\",\"Diogo Reis\",\"Eddie Bravo\",\"Dean Lister\",\"Gabriel Sousa\",\"Giancarlo Bodoni\",\"Gordon Ryan\",\"Rafael Mendes\",\"Yuri Simoes\",\"Amy Campo\",\"Baret Yoshida\",\"Felipe Pena\",\"Jake Shields\",\"Jean Jacques Machado\",\"Joao Miyao\",\"Jose Mario Sperry\",\"Josh Hinger\",\"Joshua Cisneros\",\"Kade Ruotolo\",\"Matt Serra\",\"Renzo Gracie\",\"Ricardo Arona\",\"Ricardo Liborio\",\"Rousimar Palhares\",\"Rubens Charles\",\"Sergio Moraes\",\"Victor Hugo\",\"Vinicius Magalhaes\",\"Jeff Glover\",\"Aaron Johnson\",\"Gabrielle Garcia\",\"Mackenzie Dern\",\"Victor Honorio\",\"Abraham Marte Messina\",\"Antonio Schembri\",\"Kendall Reusing\",\"Roberto Traven\",\"Rodrigo Gracie\",\"Marcio Corleta\",\"Edward Cummings\",\"Bianca Mesquita\",\"Vitor Viana\",\"Mark Kerr\",\"Ana Carolina Vieira\",\"Robert Drysdale\",\"Kamil Uminski\",\"Eoghan Oflanagan\",\"Sanae Kikuta\",\"Mateusz Szczecinski\"],\"legendgroup\":\"4\",\"marker\":{\"color\":\"rgb(217,95,2)\",\"opacity\":0.8,\"symbol\":\"circle\"},\"mode\":\"markers\",\"name\":\"4\",\"scene\":\"scene\",\"showlegend\":true,\"x\":[0.937036264710343,1.8937822299875502,0.9606776965040295,1.6338340067881936,0.8836312918174558,1.3827003225888985,0.8924053899638352,0.7128449895237139,0.9385938191702305,1.8605607502022323,1.0927455139658986,1.6064932318518235,2.111857604310802,1.7688114469760052,1.7804216054309594,0.7626902229032015,1.323618628120445,1.7755623639066924,0.9851553058902156,1.7721010143307205,0.756940242712701,1.6398822106834776,1.0506033558862533,0.659951532467393,1.4262443941765266,1.1481603780256937,1.7538717092606826,1.7765795878016366,1.2135563901593296,0.9667892582418293,1.8427010714316208,0.588059577794573,0.783865791404418,1.685851111412423,1.1154266214492914,0.4865880131703878,1.5880222671267157,1.2690397131928879,0.47593164349257466,0.714938889506527,1.0887439681405688,0.8241150355763084,1.237646720529732,1.5867605140644065,0.5194873909075979,0.5385137217128811,1.644480181296784,0.9038273847124505,0.87624829518529,1.0057506817286965,1.5240509530620177,0.4580589086722374,0.8126185511149857,0.473313352944134,0.710897938576093],\"y\":[0.6995419048043726,0.7899571726814064,0.6904993902056356,0.8303591155414598,0.6661681270338192,0.7357182055854161,0.717721479650055,0.7714761619327375,0.6998498436692393,0.6913798659157017,0.7674161318945637,0.8181392256067987,0.8247248828152688,0.7989849404734845,0.7800468683867808,0.8471551409173917,0.6570365355808968,0.7885330587757724,0.7050716722146481,0.7460143962969579,0.6640928315622772,0.716862233501473,0.745911259825081,0.672817183855693,0.8000201885526285,0.7127660077409519,0.7437117401982647,0.7718861753686371,0.7008606506387777,0.707551487375265,0.7906879414687036,0.6262423720386868,0.6950797461538585,0.6654184523873656,0.6851946248211033,0.6225001780393893,0.8314773964516755,0.8153143380435058,0.6584844102087524,0.6871289905321051,0.701960095500518,0.7769802566084573,0.7012699423237423,0.7489505781212392,0.6111413222747701,0.638566043304332,0.9123825390328744,0.7066832296413668,0.7045366480963032,0.822266149164581,0.7504439483261498,0.6152544123599925,0.7282272704818421,0.6584127950056595,0.7104455099362031],\"z\":[-0.08302927970709768,-0.11677538420151179,-0.07892636269590145,-0.1489933610632347,-0.21468977686058188,-0.17090201472049502,-0.20569398805497607,-0.20045097957133176,-0.11682270907400703,-0.1878717166915688,-0.1129931017617823,-0.09606078780091842,-0.1151808802698296,-0.1504560257187994,-0.09330618922560942,-0.2386186600830575,-0.09555636000040701,-0.08501816808440917,-0.11041111860604413,-0.10432126125371503,-0.19452045490513223,-0.12454909208272764,-0.1072077439210267,-0.12131531831045075,-0.174863592152092,-0.1265402201311936,-0.1306839755947863,-0.22481366274661232,-0.12095737844987617,-0.21704604396604402,-0.1485075531865926,-0.12896850861461773,-0.04858644460430578,-0.18967114951718325,-0.10476231829122194,-0.094108075786207,-0.2452570268377581,-0.2569374294194122,-0.08919817535828149,-0.08983823490469621,-0.12407350872662867,-0.12511019127662307,-0.10830442470486991,-0.1399311280889338,-0.1247097294446847,-0.18210517938623996,-0.1880564733646468,-0.1254969853299956,-0.13622267624405385,-0.15811301594026111,-0.040866150688307464,-0.17163627253263594,-0.21538114946309872,-0.1812884813634226,-0.20924717786527403],\"type\":\"scatter3d\"},{\"hovertemplate\":\"<b>%{hovertext}</b><br><br>Cluster=5<br>PC1=%{x}<br>PC2=%{y}<br>PC3=%{z}<extra></extra>\",\"hovertext\":[\"Nick Rodriguez\",\"Orlando Sanchez\",\"Pablo Popovitch\",\"Rida Haisam\",\"Roberto Abreu\",\"Roberto Jimenez\",\"Rodolfo Vieira\",\"Roosevelt Sousa\",\"Dante Leon\",\"Lucas Lepri\",\"Geovanny Martinez\",\"Mahamed Aly\",\"Augusto Mendes\",\"Ffion Davies\",\"Joao Gabriel Rocha\",\"Joao Assis\",\"Jonathan Torres\",\"Kaynan Duarte\",\"Kennedy Maciel\",\"Lachlan Giles\",\"Marcio Cruz\",\"Micael Galvao\",\"Rafael Lovato Jr\",\"Rany Yahya\",\"Ricardo Almeida\",\"Saulo Ribeiro\",\"Vagner Rocha\",\"Antonio Braga Neto\",\"Ricco Rodriguez\",\"Dillon Danis\",\"Alexandre de Freitas\",\"Eduardo Telles\",\"Ethan Crelinsten\",\"Leonardo Nogueira\",\"Ricardo Vieira\",\"Beatriz Mesquita\",\"Jeff Monson\",\"Chael Sonnen\"],\"legendgroup\":\"5\",\"marker\":{\"color\":\"rgb(117,112,179)\",\"opacity\":0.8,\"symbol\":\"circle\"},\"mode\":\"markers\",\"name\":\"5\",\"scene\":\"scene\",\"showlegend\":true,\"x\":[1.3107904321192907,1.5990423524052528,1.8722548691448626,0.5127638179712665,1.7009943889954453,0.7936183786056197,1.7867648915960241,0.8783512018183232,0.9634432426979357,1.238469401851634,0.8391780575329817,0.9684665803115782,1.575063532196339,1.5455003650019519,1.332190031497233,1.6082246068223442,1.6905892383151426,1.764618187730965,1.3082231708243601,0.7693218381571245,1.70736989862506,1.0799219421052098,1.5510381156137578,1.7232349997710419,1.56636067428044,2.093387497512184,1.2028129935701237,0.7663499343327341,1.535760863655194,0.7799700139754278,1.8616505496253446,0.5326358601788019,0.6858713743364966,1.1359652852061075,0.8737671464390495,0.9947896855122693,0.681414176875623,0.6985584889169794],\"y\":[-0.12572341437680232,-0.057048892857037584,-0.07495380214365817,-0.18406950923349977,-0.18993728704414162,-0.18775450154134973,-0.09726246406735412,-0.17829685420432337,-0.19125398977657207,-0.1665571470139874,-0.22972578398927967,-0.2250782777799618,-0.16139693742438346,-0.0302700546580875,-0.15992849704836098,-0.1466270300212274,-0.11505097006148773,-0.05680887951794276,-0.1284715222613055,-0.2677141044026497,-0.19866936446240835,-0.14500567242859344,-0.19399458558054944,-0.13633132442526763,-0.19707222993546725,-0.15164961606207183,-0.2228299223650714,-0.2407713917273591,-0.23632965496278197,-0.23719103503924313,-0.1402318487583077,-0.30763809954420407,-0.22637064127505407,-0.16276694055679286,-0.19914296039236043,-0.1012100327002268,-0.2640297499940213,-0.20270939568179197],\"z\":[0.7308900275237826,0.2772963355200722,0.2847496183163467,0.3307250309277576,0.6917931969990109,0.7800458122319746,0.7170975944710752,0.6242507057796107,0.6867866586655121,0.7018753022736057,0.7031757080214169,0.7156966752372125,0.6026398442026776,0.6190661159758296,0.757153464178092,0.6052863897344996,0.679611304624625,0.6951602183894977,0.7086087737733373,0.6970427590926477,0.6905654800570926,0.6742487732996315,0.7230263584212083,0.6731937007343806,0.7374972775639749,0.698467443964628,0.695233329728044,0.7736605058582714,0.6932009189348682,0.8047302333803716,0.6832747507502984,0.671469451860535,0.7346593102635708,0.7360822081255706,0.7283855098082594,0.6779226008217751,0.655292711385291,0.7600607316411742],\"type\":\"scatter3d\"},{\"hovertemplate\":\"<b>%{hovertext}</b><br><br>Cluster=1<br>PC1=%{x}<br>PC2=%{y}<br>PC3=%{z}<extra></extra>\",\"hovertext\":[\"Pablo Mantovani\",\"Paulo Miyao\",\"Celso Vinicius\",\"Brianna Ste-Marie\",\"DeAlonzio Jackson\",\"Gabriel Arges\",\"Gianni Grippo\",\"Matheus Gabriel Barros\",\"Mansher Khera\",\"Abdurakhman Bilarov\",\"Elder Cruz\",\"Jackson Sousa\",\"Rafaela Guedes\",\"Richard Alarcon\",\"Sam McNally\",\"Marcelo Mafra\",\"Nicky Ryan\",\"Lucas Leite\",\"Amaury Bitetti\",\"Jorge Patino\",\"Marcio Andre Barbosa Junior\",\"Roberto Magalhaes\",\"Gregor Gracie\",\"Gabriel Rollo\",\"Jessica Oliveira\",\"Ruslam Chsiev\",\"Sean Alvarez\",\"Mark Robinson\",\"Vitor Belfort\",\"Eoghan OFlannagan\",\"Garth Taylor\",\"Kareem Barkalev\",\"Egan Inoue\",\"Murilo Bustamante\",\"Matt Hughes\",\"Sasha Savko\",\"Olav Einemo\",\"Tito Ortiz\",\"E. Karpinen\",\"Thomas Halpin\",\"Tommy Langaker\",\"Michael Perez\",\"Enrico Cocco\",\"Gabriel Lucas\",\"Jonathan Satava\",\"Leonardo Saggioro\",\"John Combs\",\"Alec Baulding\",\"Ruan Alvarenga\",\"Isaque Bahiense\",\"Gabriel Marangoni\",\"Clark Gracie\",\"Perttu Tepponen\",\"Santeri Lilius\",\"Oliver Taza\",\"Sergio Ardila-Ibarra\",\"Elisabeth Clay\",\"Cole Abate\",\"Alexander Trans\",\"Roberto Alencar\",\"Paul Ardila-Ibarra\",\"Ross Nicholls\",\"Devhonte Johnson\",\"Valdir Araujo Junior\",\"Eleftheria Christodoulou\",\"Ashley Williams\",\"Yuta Shimada\",\"Felipe Cesar\",\"Shane Hill-Taylor\",\"James Brasco\",\"Jose Mario Queiroga\",\"Antonio Peinado\",\"Ryan Gracie\",\"Talita Alencar\",\"Augusto Ferrari\",\"Michelle Nicolini\",\"Carlos Machado\",\"E. Karppinen\",\"M. Perez\",\"Elvira Karpinnen\",\"Elvira Karppinen\",\"M. Szczecinski\",\"Akira Shoji\",\"Yushin Okami\",\"Hannette Staack\",\"Tammy Griego\",\"Fernanda Mazelli\",\"Amanda Santana\",\"Stefanie Egger\",\"Ana Carolina\",\"Timo-Juhani\",\"J. Urholin\",\"Piotr Frechowicz\",\"Tero Pyylampi\",\"Gamrot Mateusz\",\"Bia Mesquita\",\"Rodrigo Dib\",\"Josh Hayden\",\"F. Vasconcelos\",\"Urija Faber\",\"Jeff Curran\",\"Tetsu Hadario\",\"J. Pietkainen\",\"Hideki Shrek\",\"Luke Griffith\",\"Kamil Wilk\",\"Jesseray Childrey\",\"Amir Allam\",\"Eliott Kelly\",\"Ricardo Moraes\",\"Kim Mason\",\"Carlos Barreto\",\"Sasha Plavski\",\"K. Hirate\",\"Erik Paulson\",\"Jamal Peterson\",\"John Einimo\",\"Ilir Latifi\",\"Akira Shouji\",\"Kassim Anan\",\"Chris Weidman\",\"Tom Bass\",\"Nicholas Renier\",\"Tetsu Suzuko\",\"Rikako Yuasa\",\"T. Kosaka\",\"Jehad Hamdan\",\"Daniel Simoes\",\"Darren Andy\",\"Tomasz Janiszewski\",\"Josh Saunders\",\"Paulo Pinto\",\"Cameron Earle\",\"Liu Wen\",\"Tomasz Narkun\",\"Jason Lees\",\"Fabio Gurgel\",\"Karl Webber\",\"Egan Inoe\",\"Take Hanai\",\"Muhammad Saleh\",\"Oleg Taktarov\",\"Enson Inoe\",\"Keita Iwamoto\",\"Owen Livesey\",\"Mikael Knutsson\",\"Yoshiyuki Yoshida\",\"T. Suzuki\",\"D. Marinakis\",\"Sotaro Yamada\",\"Marcos Oliveira\",\"Anthony Perosh\",\"Robert Sabaruddin\",\"Mike Whitehead\",\"Thomas DeBlass\",\"Keller Sodhi\",\"H. Sekine\",\"Mateusz Juskowiak\",\"E. Elgland\",\"Eric Dahlberg\",\"Doorwang Jeon\",\"Janus Andrejczuk\",\"Kenta Iwamoto\",\"Wagnney Fabiano\",\"Jacob Rodriguez\",\"Tom Lawlor\",\"Hidemi Mihara\",\"Abdulkadirov Magomed\",\"Frank Trigg\",\"Rodrigo Modrias\",\"Fabiano Iha\",\"Israel Albuquerque\",\"Chris Brown\",\"G. Sotiropoulos\",\"Marshurenko\",\"Andy Reese\",\"R. Babalu\",\"Luis Orlando\",\"Travis Lutter\",\"Jerry Bolander\",\"Pete Williams\",\"Yuki Ozawa\",\"Asa Fuller\",\"Kamil Huminski\",\"Khazmat Stambulov\",\"Luis Roberto\",\"Joe Guilbert\",\"Greger Forsel\",\"Carlos Newton\",\"Nathan Marquardt\",\"Jon Einemo\",\"Travers Grubb\",\"Joao Roque\",\"James Harbison\",\"Melchor M.\",\"A. Hamlet\",\"U. Zhakshylyk\",\"Vernon White\",\"R. Anderson\",\"Yuki Sasaki\",\"L. Papadopoulis\",\"Kouji Kanechika\",\"Jorge Santiago\",\"I. Praporshchikov\",\"Milton Vieira\",\"Isaak Michel\",\"Sanshiro Nakamura\",\"Luke Costello\",\"Rumina Sato\",\"Fernando Vieira\",\"Hanette Staack\",\"Jessica Flowers\",\"Renan Sancar\",\"Mraz Avdoyan\",\"Tobias G\",\"Kari Petola\",\"Tom Barlow\",\"Janne Pietilainen\",\"Ricardo Alves\",\"Sim Go\",\"Damon Ramos\",\"Roan Jucao\",\"Bruno Chavez\",\"R. Mashurenko\",\"Hudson Taylor\",\"F. Capoane\",\"Genki Sudo\",\"J. Wakabayashi\",\"Dan Manasoiu\",\"Roman Dolidze\",\"Hector Lombard\",\"Chris Brennan\",\"Manu Garcia\",\"Dan Martinez\",\"Jason Brudvik\",\"Jesse Urholin\",\"Rodrigo Caporal\",\"Mayssa Bastos\"],\"legendgroup\":\"1\",\"marker\":{\"color\":\"rgb(231,41,138)\",\"opacity\":0.8,\"symbol\":\"circle\"},\"mode\":\"markers\",\"name\":\"1\",\"scene\":\"scene\",\"showlegend\":true,\"x\":[0.06269304997360868,0.26603982078729166,-0.1672015869599276,0.2505988182258313,-0.16406731627450447,-0.1358822137527449,-0.21655106378115135,-0.21071278261262874,-0.13733212443378823,-0.1353463567418691,-0.2576988177879935,0.109405107114721,0.19514177434046545,-0.13710913586454193,-0.14092171709388862,-0.13663119549217562,-0.25004943674397395,-0.13649326282197488,-0.11720125032974937,0.07681610289889024,-0.12965890917727677,-0.18919856208769686,0.060482678852973114,-0.12931890147511144,0.1129149024928677,-0.10694788901724585,0.255627216994573,0.24987246806327312,0.04693125143487535,0.02551286539153469,0.04198667734600985,0.07004924278057283,0.07244318013947881,-0.08787803202191044,0.04619064620304028,-0.0026489097058237394,0.03180230678927197,0.028541763479111415,0.1452942458358996,-0.524166541915673,-0.5269862392990601,-0.4822983282969821,-0.500793730122369,-0.47853873178579925,-0.524166541915673,-0.5222867436600813,-0.524166541915673,-0.524166541915673,-0.5269862392990601,-0.5269862392990601,-0.52040694540449,-0.5087205395078379,-0.524166541915673,-0.5269862392990601,-0.5064331248891432,-0.5222867436600813,-0.4121994784712348,-0.5269862392990601,-0.5166473488933071,-0.52040694540449,-0.5064331248891432,-0.524166541915673,-0.5269862392990601,-0.524166541915673,-0.4121994784712348,-0.5269862392990601,-0.5222867436600813,-0.5222867436600813,-0.524166541915673,-0.41873292387062894,-0.5063084584875545,-0.22901354834034474,-0.5091281558709416,-0.407499982832256,-0.5166473488933071,-0.09780223116193934,-0.4048829699262228,-0.3054842463158028,-0.3982571301563575,-0.3073640445713944,-0.4121994784712348,-0.4255607507377284,-0.5091281558709416,-0.5128877523821246,-0.09404263465075652,-0.3017246498046201,-0.09592243290634808,-0.20099846358863616,-0.40937978108784767,-0.3073640445713944,-0.5068407412522467,-0.52040694540449,-0.5222867436600813,-0.5106003377634296,-0.52040694540449,-0.3036044480602113,-0.5269862392990601,-0.5185271471488987,-0.40582286905401854,-0.5110079541265328,-0.5147675506377156,-0.5166473488933071,-0.5222867436600813,-0.45252413693804633,-0.5269862392990601,-0.5222867436600813,-0.5222867436600813,-0.5185271471488987,-0.4804185300413905,-0.30608317297086185,-0.4374857508933148,-0.5063084584875545,-0.4048829699262228,-0.5091281558709416,-0.5091281558709416,-0.40958246556520117,-0.20496074457717253,-0.5147675506377156,-0.5053685593597586,-0.5147675506377156,-0.4133420620763841,-0.44688474217127205,-0.52040694540449,-0.20684054283276412,-0.40937978108784767,-0.5091281558709416,-0.4077026673096099,-0.22337415357357043,-0.2110509087167658,-0.4133420620763841,-0.5269862392990601,-0.524166541915673,-0.40958246556520117,-0.5185271471488987,-0.4224925203818119,-0.52040694540449,0.062385583675420575,-0.5063084584875545,-0.4048829699262228,-0.5110079541265328,-0.504428660231963,-0.33512036320418764,0.07554417146456076,-0.5269862392990601,-0.5269862392990601,-0.4171016585875671,-0.5147675506377156,-0.32627526202270646,-0.5147675506377156,-0.5185271471488987,-0.41146226382079276,-0.5147675506377156,-0.5185271471488987,-0.5091281558709416,-0.41873292387062894,-0.524166541915673,-0.5222867436600813,-0.524166541915673,-0.5222867436600813,-0.5128877523821246,-0.5185271471488987,-0.5222867436600813,-0.524166541915673,-0.40958246556520117,-0.5269862392990601,-0.5147675506377156,-0.52040694540449,-0.39043091440418143,-0.504428660231963,-0.4030031716706315,-0.3009874351541779,-0.4048829699262228,-0.23322735221966268,-0.5091281558709416,-0.4393655491489065,-0.4077026673096099,-0.40582286905401854,-0.403943070798427,-0.4983816491020853,-0.40933393259267176,-0.4048829699262228,-0.5091281558709416,-0.4133420620763841,-0.45064433868245496,-0.5222867436600813,-0.3360602623319832,-0.40582286905401854,-0.5166473488933071,-0.4030031716706315,-0.5091281558709416,0.06802497844219493,-0.5128877523821246,-0.403943070798427,-0.5166473488933071,-0.3019273342819736,-0.30286723340976934,-0.5222867436600813,-0.403943070798427,-0.40582286905401854,-0.5091281558709416,-0.5110079541265328,-0.5147675506377156,-0.5128877523821246,-0.5147675506377156,-0.52040694540449,-0.5269862392990601,-0.5166473488933071,-0.5166473488933071,-0.5063084584875545,-0.4077026673096099,-0.09404263465075652,-0.3054842463158028,-0.4189814568431584,-0.524166541915673,-0.52040694540449,-0.5166473488933071,-0.5166473488933071,-0.4171016585875671,-0.09518521825590603,-0.5128877523821246,-0.5269862392990601,-0.40958246556520117,-0.41146226382079276,-0.5072483576153501,-0.524166541915673,-0.4374857508933148,-0.5072483576153501,-0.4048829699262228,-0.5269862392990601,-0.5222867436600813,-0.4189814568431584,-0.5110079541265328,-0.5063084584875545,-0.524166541915673,-0.5110079541265328,-0.5222867436600813,-0.5185271471488987,-0.4121994784712348],\"y\":[0.6461402341594713,0.6907122791926453,0.5971838880501131,0.7776509514194228,0.5878897878246963,0.6322190187316679,0.6031161586495134,0.6025713248035711,0.623070991177882,0.6370451265889581,0.6011302230029076,0.6424435507080053,0.7533077714621452,0.6366478707101912,0.6376268589495478,0.6258263830342304,0.5953142930353352,0.6071359756679928,0.5848199389410662,0.6219555571777541,0.6247502585402573,0.5769775471150431,0.6398377596785895,0.632619178230535,0.7231923961088936,0.6319929136706965,0.632149384250042,0.6663847626397413,0.5833323491294409,0.6862631990872775,0.5661394317835831,0.5897292855574909,0.5945275166924966,0.5734204328969216,0.627845455491382,0.6072147516568619,0.6053176758487534,0.5947060694274985,0.7513944309594902,0.5547506052634962,0.5627166612083907,0.543695261406703,0.533656170679135,0.5330738534801763,0.5547506052634962,0.5494399013002322,0.5547506052634962,0.5547506052634962,0.5627166612083907,0.5627166612083907,0.5441291973369693,0.5335819800447887,0.5547506052634962,0.5627166612083907,0.5495882825689247,0.5494399013002322,0.6410445444699,0.5627166612083907,0.5335077894104427,0.5441291973369693,0.5495882825689247,0.5547506052634962,0.5627166612083907,0.5547506052634962,0.6410445444699,0.5627166612083907,0.5494399013002322,0.5494399013002322,0.5547506052634962,0.5418374318834983,0.5042989176124952,0.5789767033075457,0.5122649735573904,0.6277677845617414,0.5335077894104427,0.6765233389051569,0.522000569639272,0.645629653626243,0.5490455460052727,0.6509403575895067,0.6410445444699,0.5804183132351678,0.5122649735573904,0.5228863814839168,0.6659019309786304,0.635008245699717,0.671212634941894,0.658341035765206,0.6330784885250051,0.6509403575895067,0.528271276081526,0.5441291973369693,0.5494399013002322,0.5388926840080526,0.5441291973369693,0.6403189496629796,0.5627166612083907,0.5388184933737064,0.5246559216209041,0.5175756775206531,0.5281970854471794,0.5335077894104427,0.5494399013002322,0.5218701283546908,0.5627166612083907,0.5494399013002322,0.5494399013002322,0.5388184933737064,0.5383845574434392,0.5305705376689145,0.4793844966485848,0.5042989176124952,0.522000569639272,0.5122649735573904,0.5122649735573904,0.5352773295474299,0.5711612847141574,0.5281970854471794,0.5016435656308634,0.5281970854471794,0.5458987374739563,0.5059380164649012,0.5441291973369693,0.5764719886774213,0.6330784885250051,0.5122649735573904,0.5299666255841671,0.5630445914177564,0.572731117162412,0.5458987374739563,0.5627166612083907,0.5547506052634962,0.5352773295474299,0.5388184933737064,0.5524588398100244,0.5441291973369693,0.6066698549025586,0.5042989176124952,0.522000569639272,0.5175756775206531,0.4989882136492323,0.4944307966937308,0.5694949271597155,0.5627166612083907,0.5627166612083907,0.5565201454004833,0.5281970854471794,0.5449423967966678,0.5281970854471794,0.5388184933737064,0.5405880335106936,0.5281970854471794,0.5388184933737064,0.5122649735573904,0.5418374318834983,0.5547506052634962,0.5494399013002322,0.5547506052634962,0.5494399013002322,0.5228863814839168,0.5388184933737064,0.5494399013002322,0.5547506052634962,0.5352773295474299,0.5627166612083907,0.5281970854471794,0.5441291973369693,0.5466400092821483,0.4989882136492323,0.5166898656760094,0.5345517347405107,0.522000569639272,0.5482075787475633,0.5122649735573904,0.48469520061184873,0.5299666255841671,0.5246559216209041,0.5193452176576404,0.5043731082468415,0.5152839120671816,0.522000569639272,0.5122649735573904,0.5458987374739563,0.5165594243914277,0.5494399013002322,0.49708614867536166,0.5246559216209041,0.5335077894104427,0.5166898656760094,0.5122649735573904,0.5907377430127689,0.5228863814839168,0.5193452176576404,0.5335077894104427,0.5372070867221419,0.5398624387037738,0.5494399013002322,0.5193452176576404,0.5246559216209041,0.5122649735573904,0.5175756775206531,0.5281970854471794,0.5228863814839168,0.5281970854471794,0.5441291973369693,0.5627166612083907,0.5335077894104427,0.5335077894104427,0.5042989176124952,0.5299666255841671,0.6659019309786304,0.645629653626243,0.5618308493637463,0.5547506052634962,0.5441291973369693,0.5335077894104427,0.5335077894104427,0.5565201454004833,0.5707561239826876,0.5228863814839168,0.5627166612083907,0.5352773295474299,0.5405880335106936,0.5069542695941271,0.5547506052634962,0.4793844966485848,0.5069542695941271,0.522000569639272,0.5627166612083907,0.5494399013002322,0.5618308493637463,0.5175756775206531,0.5042989176124952,0.5547506052634962,0.5175756775206531,0.5494399013002322,0.5388184933737064,0.6410445444699],\"z\":[-0.15432344291868974,-0.17357984049703598,-0.11564686487303615,-0.20807758807176074,-0.13951609051794744,-0.14624588186792484,-0.13808982482789867,-0.14177779727634357,-0.14711851380040358,-0.14959922400911005,-0.09440039167796643,-0.16175561110283543,-0.20039154685760596,-0.1472835483347811,-0.1442781958973416,-0.1475657469414374,-0.13035922436846137,-0.14882192179932077,-0.15915154154077113,-0.16935274420339919,-0.15136212046073588,-0.11345525739979109,-0.168347032320161,-0.15038814420950877,-0.21773496672637355,-0.16939165933635428,-0.18282126442619828,-0.19828116742754207,-0.05069116668546512,-0.17347825682815338,-0.044225946473261384,-0.16016230690267003,-0.1658707450177101,-0.1167519146793786,-0.18642157060411904,-0.1672327800480567,-0.1677636138302072,-0.10935485229918061,-0.2172726038812985,-0.10935293010162181,-0.10758793276853561,-0.05253698543157572,-0.11390973600588943,-0.05489031520902404,-0.10935293010162181,-0.11052959499034608,-0.10935293010162181,-0.10935293010162181,-0.10758793276853561,-0.10758793276853561,-0.11170625987907021,-0.11398466283120393,-0.10935293010162181,-0.10758793276853561,-0.11037974133971691,-0.11052959499034608,-0.1483956210818363,-0.10758793276853561,-0.11405958965651854,-0.11170625987907021,-0.11037974133971691,-0.10935293010162181,-0.10758793276853561,-0.10935293010162181,-0.1483956210818363,-0.10758793276853561,-0.11052959499034608,-0.11052959499034608,-0.10935293010162181,-0.11970506820691346,-0.12053124654450113,-0.12947609451120323,-0.11876624921141499,-0.15133728330364674,-0.11405958965651854,-0.17132083164815037,-0.12662022162429182,-0.15751625141950537,-0.07775772328800365,-0.15633958653078103,-0.1483956210818363,-0.11367690784832622,-0.11876624921141499,-0.11641291943396663,-0.17367416142559883,-0.15986958119695346,-0.17249749653687454,-0.16496187746015598,-0.15016061841492245,-0.15633958653078103,-0.11516132771992801,-0.11170625987907021,-0.11052959499034608,-0.1128079979424796,-0.11170625987907021,-0.15869291630822935,-0.10758793276853561,-0.11288292476779425,-0.1260318891799297,-0.11758958432269087,-0.11523625454524254,-0.11405958965651854,-0.11052959499034608,0.0017757758103930637,-0.10758793276853561,-0.11052959499034608,-0.11052959499034608,-0.11288292476779425,-0.05371365032029996,-0.13240068972878868,-0.007637543299400115,-0.12053124654450113,-0.12662022162429182,-0.11876624921141499,-0.11876624921141499,-0.12367855940248154,-0.13612648867026658,-0.11523625454524254,-0.12111957898886336,-0.11523625454524254,-0.12132522962503324,-0.0017542188557793932,-0.11170625987907021,-0.13494982378154236,-0.15016061841492245,-0.11876624921141499,-0.1248552242912056,-0.13300608917737566,-0.13350964843555846,-0.12132522962503324,-0.10758793276853561,-0.10935293010162181,-0.12367855940248154,-0.11288292476779425,-0.11735173842946506,-0.11170625987907021,-0.030745694837963675,-0.12053124654450113,-0.12662022162429182,-0.11758958432269087,-0.12170791143322528,-0.014314850823552687,-0.03898234905903288,-0.10758793276853561,-0.10758793276853561,-0.11897189984758488,-0.11523625454524254,-0.1266921315074152,-0.11523625454524254,-0.11288292476779425,-0.12250189451375727,-0.11523625454524254,-0.11288292476779425,-0.11876624921141499,-0.11970506820691346,-0.10935293010162181,-0.11052959499034608,-0.10935293010162181,-0.11052959499034608,-0.11641291943396663,-0.11288292476779425,-0.11052959499034608,-0.10935293010162181,-0.12367855940248154,-0.10758793276853561,-0.11523625454524254,-0.11170625987907021,-0.05943405569600945,-0.12170791143322528,-0.12779688651301593,-0.13397585462887446,-0.12662022162429182,-0.13376918784398456,-0.11876624921141499,-0.006460878410675879,-0.1248552242912056,-0.1260318891799297,-0.12720855406865397,-0.12045631971918663,-0.12558839265053423,-0.12662022162429182,-0.11876624921141499,-0.12132522962503324,0.0005991109216689663,-0.11052959499034608,-0.013726518379190778,-0.1260318891799297,-0.11405958965651854,-0.12779688651301593,-0.11876624921141499,-0.034275689504136,-0.11641291943396663,-0.12720855406865397,-0.11405958965651854,-0.13338752218451252,-0.13279918974015043,-0.11052959499034608,-0.12720855406865397,-0.1260318891799297,-0.11876624921141499,-0.11758958432269087,-0.11523625454524254,-0.11641291943396663,-0.11523625454524254,-0.11170625987907021,-0.10758793276853561,-0.11405958965651854,-0.11405958965651854,-0.12053124654450113,-0.1248552242912056,-0.17367416142559883,-0.15751625141950537,-0.11779523495886074,-0.10935293010162181,-0.11170625987907021,-0.11405958965651854,-0.11405958965651854,-0.11897189984758488,-0.14660376996879546,-0.11641291943396663,-0.10758793276853561,-0.12367855940248154,-0.12250189451375727,-0.11994291410013909,-0.10935293010162181,-0.007637543299400115,-0.11994291410013909,-0.12662022162429182,-0.10758793276853561,-0.11052959499034608,-0.11779523495886074,-0.11758958432269087,-0.12053124654450113,-0.10935293010162181,-0.11758958432269087,-0.11052959499034608,-0.11288292476779424,-0.1483956210818363],\"type\":\"scatter3d\"},{\"hovertemplate\":\"<b>%{hovertext}</b><br><br>Cluster=3<br>PC1=%{x}<br>PC2=%{y}<br>PC3=%{z}<extra></extra>\",\"hovertext\":[\"Paul Schreiner\",\"Renato Forasieppi Canuto\",\"Patrick Gaudio\",\"James Puopolo\",\"Pedro Marinho\",\"Rodrigo Cavaca\",\"Flavio Almeida\",\"Glover Teixeira\",\"Rolles Gracie\",\"Rustam Chsiev\",\"Kuba Witkowski\",\"Gunnar Nelson\",\"Henrique Cardoso\",\"Edwin Najmi\",\"Keith Krikorian\",\"Alexandre Vieira\",\"John Salter\",\"Joao Costa\",\"Servio Tulio\",\"Gerardi Rinaldi\",\"Shinya Aoki\",\"Christian Moriarty\",\"Radoslaw Turek\",\"Penny Thomas\",\"Amanda Alequin / Santana\",\"Tomas Szczerek\",\"Janne-Pekka\",\"Daniel Strauss\",\"Ben Dyson\",\"Magid Hage\",\"Marko Helen\",\"Nate Marquardt\",\"Jia Jang\",\"Ezra Lenon\",\"Hideki Sekine\",\"Lee Hyoung\",\"Ricardo Mesquita\",\"Alison Tremblay\",\"Talita Treta\",\"Carina Santi\",\"Eoghan OFlanagan\",\"Erza Lennon\",\"Kethe Engen\",\"Peter Angerer\",\"Jimmy Freidrich\",\"Y. Takahito\",\"Tetsu Suzuki\",\"Elliot Marshal\",\"Jon Hansen\",\"Yousef Elzien\",\"Firas Nakdali\",\"Rocky Batastini\",\"Y. Yatso\",\"Halm Gocalli\",\"Trevor Lally\",\"Marc\",\"T. Hirono\",\"Michael Groth\",\"Antoine Joude\",\"Yukissyu Ozawa\",\"Tim Carpenter\",\"Yukiyasu Ozawa\",\"T. Pyylampi\",\"Wellington Dias\",\"Chris Bright\",\"Mark Bocek\",\"Alexander Savko\",\"Mike Van\",\"Matt Lindland\",\"Denis Roberts\",\"Reese Andy\",\"Mario Rinaldi\",\"Elvis Sinosic\",\"Rogent Lorent\",\"Diego Sanchez\",\"Y. Kohsaka\",\"Daniel Hortegas\",\"James Poupolo\",\"Larry Parker\",\"Simon Siasi\",\"George St\",\"Allan Teo\",\"Van Arsdale\",\"J. Pietlainen\",\"Jorge Britto\",\"Ben Henderson\",\"Ben Askren\",\"Teemu Launis\",\"Darrel Moodley\",\"M. Van\",\"Roger Neff\",\"Sekine Hideki\",\"Mike Martelle\",\"Jurie Rachel\",\"Joseph Lee\",\"Ahmad Faraj\",\"Gavin Kulper\",\"Kim Dong\",\"C. Jones\",\"Nieman Gracie\",\"David Bielkheden\",\"Dennis Hallman\",\"Dan Schon\",\"Mike Cardosa\",\"Hiroshi Nakamura\",\"Jose Junior\",\"Chris Wideman\",\"Wang Yan\",\"P. Ardilla\",\"Akira Soji\",\"Kaynan D.\",\"Rodrigo Minotauro\",\"Jason White\",\"Fan Yi\",\"H. Kanehara\",\"Tamura\",\"Takefuni Hanai\",\"Asadulaev Surkhay\",\"Gao Hua\",\"Rodrigo Artilheiro\",\"William Tackett\"],\"legendgroup\":\"3\",\"marker\":{\"color\":\"rgb(102,166,30)\",\"opacity\":0.8,\"symbol\":\"circle\"},\"mode\":\"markers\",\"name\":\"3\",\"scene\":\"scene\",\"showlegend\":true,\"x\":[0.10855414665303678,-0.04439648295279322,0.02105680984227175,-0.05661290386975046,-0.10345456991730398,-0.10126048262665235,0.21696173211178219,0.028049355336880404,0.05974664852546983,0.11498723831966341,-0.08520367853811066,0.11421214364293242,-0.4726379874456259,-0.3258758627902354,-0.3292628548158402,-0.4660586935510558,-0.46793849180664704,-0.4726379874456259,-0.4698182900622387,0.04395324496488922,-0.22460945761947734,-0.255039798314046,-0.24869766320660736,-0.22053675506392675,-0.25107751732550926,-0.4585395005286904,-0.3993104743690479,-0.36022488338656045,-0.36774407640892615,-0.4726379874456259,-0.41817848068001257,-0.38689709555106366,-0.3621046816421519,-0.26067919308082016,-0.23995486639401947,-0.4660586935510558,-0.3221162662790523,-0.35127193272323065,-0.02037393293242897,-0.047213575819688186,-0.06872693012695445,-0.2942218731757082,-0.24919771906991803,-0.45290010576191597,-0.3621046816421519,-0.4641788952954644,-0.36275340673413287,-0.4698182900622387,-0.2998612679424824,-0.4251205637468613,-0.24663918330074378,-0.45102030750632427,-0.45290010576191597,-0.431699857641431,-0.34865491981719726,-0.24663918330074378,-0.45102030750632427,-0.4566597022730987,-0.31271727500109503,-0.4335796558970227,-0.3571140119673586,-0.4660586935510558,-0.4000556833402036,-0.45102030750632427,-0.4335796558970227,-0.255039798314046,-0.35147461720058426,-0.23610580768045908,-0.3248038730171987,-0.34665867923431704,-0.28670268015334227,-0.365696847430579,-0.4585395005286904,-0.46041929878428167,-0.32668367127279013,-0.3850172972954723,-0.36398447989774324,-0.36022488338656045,-0.34865491981719726,-0.07668216118098739,-0.35523421371176694,-0.42982005938583995,-0.3508258921086034,-0.4585395005286904,-0.4622990970398728,-0.3342028642951559,-0.2569195965696372,-0.42982005938583995,-0.4335796558970227,-0.28359180873414064,-0.2208498611082948,-0.4622990970398728,-0.4641788952954644,-0.4260604628746569,-0.4622990970398728,-0.24663918330074378,-0.3265147725689167,-0.3621046816421519,-0.4660586935510558,-0.3646332049897242,-0.4566597022730987,-0.16439267221614887,-0.36022488338656045,-0.24940040354727167,-0.46041929878428167,-0.2587993948252286,-0.2911110017565062,-0.3621046816421519,-0.36398447989774324,-0.2854716069897319,-0.26443878959200273,-0.24846050441947587,-0.4566597022730987,-0.4260604628746569,-0.34988599298080764,-0.45290010576191597,-0.4335796558970227,-0.36398447989774324,-0.4260604628746569,-0.3396733603580565,-0.37056377379231326],\"y\":[-0.22708354589355456,-0.2639051317113331,-0.26726375282774567,-0.28187668441144503,-0.29305881944168527,-0.31055774447202605,-0.25178672958185405,-0.2895396917449035,-0.29462466875548493,-0.27951683116129306,-0.27212820017504563,-0.2993580931366138,-0.32992431441752207,-0.3300817417196277,-0.32629770625490173,-0.34851177828894353,-0.3432010743256807,-0.32992431441752207,-0.3378903703624168,-0.2808932077814027,-0.3536905136604987,-0.333188969615637,-0.3277239664991656,-0.17990504486833817,-0.2460092185645893,-0.3697545941419961,-0.3791348882315598,-0.3402692137158882,-0.3190263978628346,-0.32992431441752207,-0.3823366064973268,-0.4026350710508013,-0.33495850975262426,-0.31725685772584755,-0.33004216108432094,-0.34851177828894353,-0.3407031496461545,-0.27018389502743445,-0.12776854373637164,-0.20549622879422924,-0.2612156062394448,-0.35721757873490284,-0.2513199225278523,-0.3856867060317856,-0.33495850975262426,-0.35382248225220636,-0.3361208302254296,-0.3378903703624168,-0.34128546684511324,-0.31061437295555905,-0.35808924088540206,-0.3909974099950493,-0.3856867060317856,-0.2920269090841384,-0.37595110994990355,-0.35808924088540206,-0.3909974099950493,-0.3750652981052598,-0.3672566694624707,-0.28671620512087465,-0.35205294211521915,-0.34851177828894353,-0.3654601433079592,-0.3909974099950493,-0.28671620512087465,-0.333188969615637,-0.3679850540050087,-0.364138817283647,-0.3778651901233438,-0.3561271349713314,-0.37846039458795616,-0.3089752741031532,-0.3697545941419961,-0.36444389017873324,-0.37255448616008086,-0.4079457750140641,-0.3296478057893614,-0.3402692137158882,-0.37595110994990355,-0.3614843373680985,-0.3573636460784831,-0.2973376130474013,-0.36682273353220335,-0.3697545941419961,-0.35913318621547025,-0.3513116703070274,-0.3278782656523742,-0.2973376130474013,-0.28671620512087465,-0.3902441229872872,-0.36431192158702447,-0.35913318621547025,-0.35382248225220636,-0.30795902097392797,-0.35913318621547025,-0.35808924088540206,-0.2849466649838874,-0.33495850975262426,-0.34851177828894353,-0.3308101262621666,-0.3750652981052598,-0.3453156254085841,-0.3402692137158882,-0.34912108150542653,-0.36444389017873324,-0.3225675616891112,-0.3690013071342348,-0.33495850975262426,-0.3296478057893614,-0.38493341902402434,-0.3066354497993215,-0.35177643348705856,-0.3750652981052598,-0.30795902097392797,-0.3694780855138353,-0.3856867060317856,-0.28671620512087465,-0.3296478057893614,-0.30795902097392797,-0.2477717372410453,-0.3110603419179399],\"z\":[0.65626625487307,0.6649082163091808,0.724793415120365,0.6800325755663085,0.7380684865325379,0.680522843091583,0.6405037388657858,0.6607911051988967,0.7081249531264802,0.6757468228175304,0.6630439912182279,0.7675567752360228,0.7023718836125986,0.7653785245622141,0.746539778772618,0.6982535565020638,0.6994302213907878,0.7023718836125986,0.7006068862795125,0.6804387650147747,0.7525981298541595,0.6954136154800326,0.6966202106760372,0.23421089773412404,0.6665782266901429,0.6935468969471674,0.7705281059461626,0.7038559203372712,0.708562579892168,0.7023718836125986,0.7303474309388933,0.8046756028591824,0.7050325852259951,0.6989436101462049,0.7389811218170618,0.6982535565020638,0.7630251947847658,0.6574458681887633,0.22511297706037542,0.6409923145104321,0.6932308482236623,0.8185146209154588,0.6654015618014189,0.690016902280995,0.7050325852259951,0.6970768916133399,0.6909879165335493,0.7006068862795125,0.8220446155816309,0.2735492323865765,0.6759839617522597,0.688840237392271,0.690016902280995,0.27766755949711075,0.6821629298681183,0.6759839617522597,0.688840237392271,0.6923702320584434,0.7571418703411447,0.2788442243858351,0.6874579218673769,0.6982535565020638,0.8129122570802513,0.688840237392271,0.2788442243858351,0.6954136154800326,0.6839279272012044,0.7388320378297264,0.74346577135278,0.7004008524964134,0.8138079613605619,0.3923262600752982,0.6935468969471674,0.6947235618358917,0.744642436241504,0.8034989379704583,0.7062092501147194,0.7038559203372712,0.6821629298681183,0.7974216910543782,0.6862812569786525,0.27649089460838683,0.6979725958936506,0.6935468969471674,0.6959002267246158,0.7493490957964006,0.6965902803687565,0.27649089460838683,0.2788442243858351,0.7974099628906677,0.7502448000767111,0.6959002267246158,0.6970768916133399,0.2741375648309384,0.6959002267246158,0.6759839617522597,0.269225254639872,0.7050325852259951,0.6982535565020638,0.6921645814222737,0.6923702320584434,0.6749821586483642,0.7038559203372712,0.69188362081386,0.6947235618358917,0.6977669452574805,0.8021166224455644,0.7050325852259951,0.7062092501147194,0.7985866277793916,0.701296939923653,0.6912952883694977,0.6923702320584434,0.2741375648309384,0.6973842634492885,0.690016902280995,0.2788442243858351,0.7062092501147194,0.2741375648309384,0.277461908860941,0.7103275772252541],\"type\":\"scatter3d\"},{\"hovertemplate\":\"<b>%{hovertext}</b><br><br>Cluster=2<br>PC1=%{x}<br>PC2=%{y}<br>PC3=%{z}<extra></extra>\",\"hovertext\":[\"Rodrigo Medeiros\",\"Adam Wardzinski\",\"Justin Rader\",\"Lucas Daniel Barbosa\",\"Ryan Hall\",\"AJ Agazarm\",\"Fabricio Andrey\",\"Kyle Boehm\",\"Victor Estima\",\"Vinicius Ferreira\",\"Max Gimenis\",\"Jeremy Skinner\",\"Rigan Machado\",\"Cassio Francis\",\"John Hansen\",\"Sasha Palvski\",\"Kyle Griffin\",\"Nicolas Renier\",\"Andy Varela\",\"Gabriel Almeida\",\"Eldar Rafigaev\",\"Alexandre Jesus\",\"Kit Dale\",\"Leandro Lo\",\"Mark Ramos\",\"Gustavo Dantas\",\"Fellipe Andrew\",\"Igor Praporschchikov\",\"Yuji Arai\",\"Julia Maele\",\"Young-Ahm\",\"M. Yano\",\"Ilir Lafiti\",\"Andreas Olsen\",\"Yurika Nakakura\",\"Satori Kitaoka\",\"Ben Hodgkinson\",\"Heikki Jussila\",\"Erico Cocco\",\"Jason Manly\",\"Andy Wang\",\"Osman Kasimov\",\"Caol Uno\",\"A. Zhanpeisov\",\"Zbigniew Tyszka\",\"Abdulaev Ruslan\",\"Y. Ozawa\",\"Juskowiak Mateusz\",\"Robin Gracie\",\"Joe Gilbert\",\"Y. Kinishi\",\"Joaquim Hansen\",\"Lucio Lagarto\",\"Don Ortega\",\"Shinzo Ansai\",\"Akihiro Gono\",\"N. Uematsu\",\"Mike Mrkulic\",\"Eddie Sanchez\",\"Yoshitomi Mishima\",\"Nicollas Renier\",\"Jimmy Friedrich\",\"Micah Pittman\",\"Mikey Burnet\",\"Serguei Onishuk\",\"Jamie Ballard\",\"Michael Wilson\",\"Eduardo Rios\",\"Renato Verissimo\",\"Giovanna Jara\",\"Cristiano Lazzarini\",\"R. Alvarenga\",\"Alian Drueco\",\"Morris Clifoni\",\"Joey Gilbert\",\"Rob Di\",\"Rodney Ellis\",\"Bruno Bastos\",\"Kiuma Kunioku\",\"Mario Miranda\",\"George Sotiropoulos\",\"Kurt Pellegrino\",\"Keita Nakamura\",\"Alex Negao\",\"Miodrag Petkovic\",\"Takanori Gomi\",\"Youngnam Noh\",\"Kitner Mendoga\",\"Jeon Doo\",\"Shinsho Anzai\",\"Perttu Terpponnen\",\"Mario Delgado\",\"Kouhei Yasumi\",\"Josh Barnet\",\"Y. Setsenko\",\"Toshiyuki Oyama\",\"Yuta Sasaki\",\"Hiroyuko Abe\",\"Adrian Serrano\",\"Justin Garcia\",\"Juan Valles\",\"Martin Brown\",\"Charles Pearson\",\"Joel Tudor\",\"David Marinakis\",\"Tezekbaev Rasul\",\"Dave Menne\",\"T. Yano\",\"Otto Olsen\",\"Mateusz Garmot\",\"Jayson Patino\",\"Adele Fornarino\",\"Ryan Harvey\",\"Luis Brito\",\"Adam Sachnoff\",\"Robert Sulski\",\"D. Hemmings\",\"Livia Giles\",\"Marcio Cromado\",\"Bob Schirmer\",\"Mourat Ozov\",\"K. Toida\",\"Davis Heart\",\"Davion Peterson\",\"Jason Ramsterrer\",\"Amanda Leve\"],\"legendgroup\":\"2\",\"marker\":{\"color\":\"rgb(230,171,2)\",\"opacity\":0.8,\"symbol\":\"circle\"},\"mode\":\"markers\",\"name\":\"2\",\"scene\":\"scene\",\"showlegend\":true,\"x\":[0.22814695966671494,-0.07018372488011855,0.33976123254464635,0.42005431318742614,0.27627850204942916,0.3020415514867059,-0.11740300775072122,-0.07300342226350592,0.05974819047405103,0.3344215244586033,0.4848538848435414,-0.07300342226350592,0.3200955100953665,0.01065428704905515,-0.039882075659910636,0.12420309808447434,0.008836328065496236,-0.07323559255194823,-0.344588967947859,-0.3836374841831628,-0.3836374841831628,-0.38645718156655,-0.381757685927571,-0.381757685927571,-0.2765960787348123,-0.35879249049737094,-0.3836374841831628,-0.37611829116079704,-0.37423849290520556,-0.2716704207387248,-0.37987788767197994,-0.36671929988284,-0.3267308845197404,-0.37423849290520556,-0.2632113285885634,-0.37799808941638857,-0.3836374841831628,-0.38645718156655,-0.37423849290520556,-0.37611829116079704,-0.37799808941638857,-0.381757685927571,-0.0009399349845780784,-0.33988947230888017,-0.2765960787348123,-0.381757685927571,-0.33988947230888017,-0.37987788767197994,0.0453438394766042,-0.1623381756772592,-0.36671929988284,-0.26717360957709985,-0.27469280259946527,-0.3663116835197367,-0.30823548269435325,-0.35691269224177946,-0.26529381132150837,-0.26717360957709985,-0.37235869464961435,-0.27093320608828264,-0.381757685927571,-0.2784523991106482,-0.2634140130659168,-0.2643539121937125,-0.36671929988284,-0.37235869464961435,-0.37799808941638857,-0.37799808941638857,-0.1604583774216678,-0.2716704207387248,-0.07561758880093944,-0.3836374841831628,-0.37799808941638857,-0.36671929988284,-0.2690534078326909,-0.16703767131623753,-0.37423849290520556,-0.23506767872381573,-0.3685990981384315,-0.3044758861831706,-0.37235869464961435,-0.27093320608828264,-0.17079726782742044,-0.16515787306064625,-0.37047889639402265,-0.36671929988284,-0.37799808941638857,-0.37799808941638857,-0.37611829116079704,-0.37799808941638857,-0.38645718156655,-0.37047889639402265,-0.37423849290520556,-0.29789659228860055,-0.36671929988284,-0.36577940075504417,-0.37799808941638857,-0.36671929988284,-0.36389960249945297,-0.37047889639402265,-0.3648395016272482,-0.36671929988284,-0.3685990981384315,-0.27281300434387373,-0.37611829116079704,-0.37987788767197994,-0.2643539121937125,-0.24362958550691163,0.04064434383762561,-0.3836374841831628,-0.37423849290520556,-0.2716704207387248,-0.3648395016272482,0.0453438394766042,-0.37987788767197994,-0.2690534078326909,-0.37799808941638857,-0.2688507233553376,-0.36577940075504417,-0.36577940075504417,-0.3648395016272482,-0.3685990981384315,-0.37611829116079704,-0.3685990981384315,-0.3685990981384315,-0.26885072335533766],\"y\":[-0.7895889511628815,-0.7620096981886081,-0.7421110222580816,-0.687637459412791,-0.7267873443837879,-0.7496625664334804,-0.7767036475775654,-0.754043642243713,-0.7659194813619786,-0.7067116731744294,-0.7280244059964865,-0.754043642243713,-0.7765436317964403,-0.7540713961850741,-0.7593305650561384,-0.7689263369515811,-0.7574421437040874,-0.7861918584331584,-0.8129197056405818,-0.8098304177286834,-0.8098304177286834,-0.8018643617837887,-0.8151411216919474,-0.8151411216919474,-0.8187371952526743,-0.8575525627637061,-0.8098304177286834,-0.8310732335817368,-0.8363839375449997,-0.7235364785222794,-0.82045182565521,-0.8576267533980522,-0.8633713932915826,-0.8363839375449997,-0.7474346463569638,-0.8257625296184731,-0.8098304177286834,-0.8018643617837887,-0.8363839375449997,-0.8310732335817368,-0.8257625296184731,-0.8151411216919474,-0.8076373412927338,-0.82619646554874,-0.8187371952526743,-0.8151411216919474,-0.82619646554874,-0.82045182565521,-0.7938248990094917,-0.8247185842884058,-0.8576267533980522,-0.8346143974080121,-0.8133715815549598,-0.8363097469106534,-0.8533323025640153,-0.8628632667269697,-0.8399251013712754,-0.8346143974080121,-0.8416946415082623,-0.8239929894814857,-0.8151411216919474,-0.8027501736284334,-0.8452358053345391,-0.8425804533529075,-0.8576267533980522,-0.8416946415082623,-0.8257625296184731,-0.8257625296184731,-0.8300292882516689,-0.7235364785222794,-0.7958311029013638,-0.8098304177286834,-0.8257625296184731,-0.8576267533980522,-0.8293036934447496,-0.8114418243802483,-0.8363839375449997,-0.8357924924435308,-0.8523160494347894,-0.8639537104905411,-0.8416946415082623,-0.8239929894814857,-0.8008204164537216,-0.816752528343511,-0.8470053454715264,-0.8576267533980522,-0.8257625296184731,-0.8257625296184731,-0.8310732335817368,-0.8257625296184731,-0.8018643617837887,-0.8470053454715264,-0.8363839375449997,-0.8825411743619626,-0.8576267533980522,-0.8602821053796841,-0.8257625296184731,-0.8576267533980522,-0.8655928093429469,-0.8470053454715264,-0.8629374573613161,-0.8576267533980522,-0.8523160494347894,-0.8186822855182229,-0.8310732335817368,-0.82045182565521,-0.8425804533529075,-0.8553657567113809,-0.780548139101334,-0.8098304177286834,-0.8363839375449997,-0.7235364785222794,-0.8629374573613161,-0.7938248990094917,-0.82045182565521,-0.8293036934447496,-0.8257625296184731,-0.7315025344671744,-0.8602821053796841,-0.8602821053796841,-0.8629374573613161,-0.8523160494347894,-0.8310732335817368,-0.8523160494347894,-0.8523160494347894,-0.7315025344671743],\"z\":[-0.39841319908395323,-0.44106250925629514,-0.46296669580774485,-0.4686457465372472,-0.46507132115641914,-0.43825911552165786,-0.3911089266593528,-0.439297511923209,-0.3938364361408225,-0.4428668110434158,-0.4292155797428822,-0.439297511923209,-0.4612274391080363,-0.4482389674520257,-0.4385860161903531,-0.46335236827321113,-0.4499332204465277,-0.4370841267075675,-0.35005670007844103,-0.4086376420815735,-0.4086376420815735,-0.4068726447484872,-0.4098143069702976,-0.4098143069702976,-0.4172231102752245,-0.4191526992547763,-0.4086376420815735,-0.41334430163647007,-0.41452096652519416,-0.4476803330617878,-0.41099097185902184,-0.4192276260800904,-0.36123501652132034,-0.41452096652519416,-0.4529753250610466,-0.41216763674774587,-0.4086376420815735,-0.4068726447484872,-0.41452096652519416,-0.41334430163647007,-0.41216763674774587,-0.4098143069702976,-0.43904428430784975,-0.3529983623002515,-0.4172231102752245,-0.4098143069702976,-0.3529983623002515,-0.41099097185902184,-0.44588848194874703,-0.4320839017201021,-0.4192276260800904,-0.42413993627115726,-0.41943327671626074,-0.41444603969987964,-0.2998622659470069,-0.4203293641435003,-0.42531660115988107,-0.42413993627115726,-0.4156976314139182,-0.42178660649370875,-0.4098143069702976,-0.4170799469388123,-0.4264932660486056,-0.4259049336042435,-0.4192276260800904,-0.4156976314139182,-0.41216763674774587,-0.41216763674774587,-0.4332605666088261,-0.4476803330617878,-0.43121919551542426,-0.4086376420815735,-0.41216763674774587,-0.4192276260800904,-0.42296327138243306,-0.4291422394982916,-0.41452096652519416,-0.36132629139510186,-0.4180509611913665,-0.30221559572445494,-0.4156976314139182,-0.42178660649370875,-0.4267889097208433,-0.4303189043870158,-0.41687429630264244,-0.4192276260800904,-0.41216763674774587,-0.41216763674774587,-0.41334430163647007,-0.41216763674774587,-0.4068726447484872,-0.41687429630264244,-0.41452096652519416,-0.30633392283498945,-0.4192276260800904,-0.41981595852445275,-0.41216763674774587,-0.4192276260800904,-0.42099262341317695,-0.41687429630264244,-0.42040429096881476,-0.4192276260800904,-0.4180509611913665,-0.42060994160498477,-0.41334430163647007,-0.41099097185902184,-0.4259049336042435,-0.3858674219333862,-0.44294681972693684,-0.4086376420815735,-0.41452096652519416,-0.4476803330617878,-0.42040429096881476,-0.44588848194874703,-0.41099097185902184,-0.42296327138243306,-0.41216763674774587,-0.44944533039487367,-0.41981595852445275,-0.41981595852445275,-0.42040429096881476,-0.4180509611913665,-0.41334430163647007,-0.4180509611913665,-0.4180509611913665,-0.4494453303948737],\"type\":\"scatter3d\"}],                        {\"template\":{\"data\":{\"histogram2dcontour\":[{\"type\":\"histogram2dcontour\",\"colorbar\":{\"outlinewidth\":0,\"ticks\":\"\"},\"colorscale\":[[0.0,\"#0d0887\"],[0.1111111111111111,\"#46039f\"],[0.2222222222222222,\"#7201a8\"],[0.3333333333333333,\"#9c179e\"],[0.4444444444444444,\"#bd3786\"],[0.5555555555555556,\"#d8576b\"],[0.6666666666666666,\"#ed7953\"],[0.7777777777777778,\"#fb9f3a\"],[0.8888888888888888,\"#fdca26\"],[1.0,\"#f0f921\"]]}],\"choropleth\":[{\"type\":\"choropleth\",\"colorbar\":{\"outlinewidth\":0,\"ticks\":\"\"}}],\"histogram2d\":[{\"type\":\"histogram2d\",\"colorbar\":{\"outlinewidth\":0,\"ticks\":\"\"},\"colorscale\":[[0.0,\"#0d0887\"],[0.1111111111111111,\"#46039f\"],[0.2222222222222222,\"#7201a8\"],[0.3333333333333333,\"#9c179e\"],[0.4444444444444444,\"#bd3786\"],[0.5555555555555556,\"#d8576b\"],[0.6666666666666666,\"#ed7953\"],[0.7777777777777778,\"#fb9f3a\"],[0.8888888888888888,\"#fdca26\"],[1.0,\"#f0f921\"]]}],\"heatmap\":[{\"type\":\"heatmap\",\"colorbar\":{\"outlinewidth\":0,\"ticks\":\"\"},\"colorscale\":[[0.0,\"#0d0887\"],[0.1111111111111111,\"#46039f\"],[0.2222222222222222,\"#7201a8\"],[0.3333333333333333,\"#9c179e\"],[0.4444444444444444,\"#bd3786\"],[0.5555555555555556,\"#d8576b\"],[0.6666666666666666,\"#ed7953\"],[0.7777777777777778,\"#fb9f3a\"],[0.8888888888888888,\"#fdca26\"],[1.0,\"#f0f921\"]]}],\"heatmapgl\":[{\"type\":\"heatmapgl\",\"colorbar\":{\"outlinewidth\":0,\"ticks\":\"\"},\"colorscale\":[[0.0,\"#0d0887\"],[0.1111111111111111,\"#46039f\"],[0.2222222222222222,\"#7201a8\"],[0.3333333333333333,\"#9c179e\"],[0.4444444444444444,\"#bd3786\"],[0.5555555555555556,\"#d8576b\"],[0.6666666666666666,\"#ed7953\"],[0.7777777777777778,\"#fb9f3a\"],[0.8888888888888888,\"#fdca26\"],[1.0,\"#f0f921\"]]}],\"contourcarpet\":[{\"type\":\"contourcarpet\",\"colorbar\":{\"outlinewidth\":0,\"ticks\":\"\"}}],\"contour\":[{\"type\":\"contour\",\"colorbar\":{\"outlinewidth\":0,\"ticks\":\"\"},\"colorscale\":[[0.0,\"#0d0887\"],[0.1111111111111111,\"#46039f\"],[0.2222222222222222,\"#7201a8\"],[0.3333333333333333,\"#9c179e\"],[0.4444444444444444,\"#bd3786\"],[0.5555555555555556,\"#d8576b\"],[0.6666666666666666,\"#ed7953\"],[0.7777777777777778,\"#fb9f3a\"],[0.8888888888888888,\"#fdca26\"],[1.0,\"#f0f921\"]]}],\"surface\":[{\"type\":\"surface\",\"colorbar\":{\"outlinewidth\":0,\"ticks\":\"\"},\"colorscale\":[[0.0,\"#0d0887\"],[0.1111111111111111,\"#46039f\"],[0.2222222222222222,\"#7201a8\"],[0.3333333333333333,\"#9c179e\"],[0.4444444444444444,\"#bd3786\"],[0.5555555555555556,\"#d8576b\"],[0.6666666666666666,\"#ed7953\"],[0.7777777777777778,\"#fb9f3a\"],[0.8888888888888888,\"#fdca26\"],[1.0,\"#f0f921\"]]}],\"mesh3d\":[{\"type\":\"mesh3d\",\"colorbar\":{\"outlinewidth\":0,\"ticks\":\"\"}}],\"scatter\":[{\"fillpattern\":{\"fillmode\":\"overlay\",\"size\":10,\"solidity\":0.2},\"type\":\"scatter\"}],\"parcoords\":[{\"type\":\"parcoords\",\"line\":{\"colorbar\":{\"outlinewidth\":0,\"ticks\":\"\"}}}],\"scatterpolargl\":[{\"type\":\"scatterpolargl\",\"marker\":{\"colorbar\":{\"outlinewidth\":0,\"ticks\":\"\"}}}],\"bar\":[{\"error_x\":{\"color\":\"#2a3f5f\"},\"error_y\":{\"color\":\"#2a3f5f\"},\"marker\":{\"line\":{\"color\":\"#E5ECF6\",\"width\":0.5},\"pattern\":{\"fillmode\":\"overlay\",\"size\":10,\"solidity\":0.2}},\"type\":\"bar\"}],\"scattergeo\":[{\"type\":\"scattergeo\",\"marker\":{\"colorbar\":{\"outlinewidth\":0,\"ticks\":\"\"}}}],\"scatterpolar\":[{\"type\":\"scatterpolar\",\"marker\":{\"colorbar\":{\"outlinewidth\":0,\"ticks\":\"\"}}}],\"histogram\":[{\"marker\":{\"pattern\":{\"fillmode\":\"overlay\",\"size\":10,\"solidity\":0.2}},\"type\":\"histogram\"}],\"scattergl\":[{\"type\":\"scattergl\",\"marker\":{\"colorbar\":{\"outlinewidth\":0,\"ticks\":\"\"}}}],\"scatter3d\":[{\"type\":\"scatter3d\",\"line\":{\"colorbar\":{\"outlinewidth\":0,\"ticks\":\"\"}},\"marker\":{\"colorbar\":{\"outlinewidth\":0,\"ticks\":\"\"}}}],\"scattermapbox\":[{\"type\":\"scattermapbox\",\"marker\":{\"colorbar\":{\"outlinewidth\":0,\"ticks\":\"\"}}}],\"scatterternary\":[{\"type\":\"scatterternary\",\"marker\":{\"colorbar\":{\"outlinewidth\":0,\"ticks\":\"\"}}}],\"scattercarpet\":[{\"type\":\"scattercarpet\",\"marker\":{\"colorbar\":{\"outlinewidth\":0,\"ticks\":\"\"}}}],\"carpet\":[{\"aaxis\":{\"endlinecolor\":\"#2a3f5f\",\"gridcolor\":\"white\",\"linecolor\":\"white\",\"minorgridcolor\":\"white\",\"startlinecolor\":\"#2a3f5f\"},\"baxis\":{\"endlinecolor\":\"#2a3f5f\",\"gridcolor\":\"white\",\"linecolor\":\"white\",\"minorgridcolor\":\"white\",\"startlinecolor\":\"#2a3f5f\"},\"type\":\"carpet\"}],\"table\":[{\"cells\":{\"fill\":{\"color\":\"#EBF0F8\"},\"line\":{\"color\":\"white\"}},\"header\":{\"fill\":{\"color\":\"#C8D4E3\"},\"line\":{\"color\":\"white\"}},\"type\":\"table\"}],\"barpolar\":[{\"marker\":{\"line\":{\"color\":\"#E5ECF6\",\"width\":0.5},\"pattern\":{\"fillmode\":\"overlay\",\"size\":10,\"solidity\":0.2}},\"type\":\"barpolar\"}],\"pie\":[{\"automargin\":true,\"type\":\"pie\"}]},\"layout\":{\"autotypenumbers\":\"strict\",\"colorway\":[\"#636efa\",\"#EF553B\",\"#00cc96\",\"#ab63fa\",\"#FFA15A\",\"#19d3f3\",\"#FF6692\",\"#B6E880\",\"#FF97FF\",\"#FECB52\"],\"font\":{\"color\":\"#2a3f5f\"},\"hovermode\":\"closest\",\"hoverlabel\":{\"align\":\"left\"},\"paper_bgcolor\":\"white\",\"plot_bgcolor\":\"#E5ECF6\",\"polar\":{\"bgcolor\":\"#E5ECF6\",\"angularaxis\":{\"gridcolor\":\"white\",\"linecolor\":\"white\",\"ticks\":\"\"},\"radialaxis\":{\"gridcolor\":\"white\",\"linecolor\":\"white\",\"ticks\":\"\"}},\"ternary\":{\"bgcolor\":\"#E5ECF6\",\"aaxis\":{\"gridcolor\":\"white\",\"linecolor\":\"white\",\"ticks\":\"\"},\"baxis\":{\"gridcolor\":\"white\",\"linecolor\":\"white\",\"ticks\":\"\"},\"caxis\":{\"gridcolor\":\"white\",\"linecolor\":\"white\",\"ticks\":\"\"}},\"coloraxis\":{\"colorbar\":{\"outlinewidth\":0,\"ticks\":\"\"}},\"colorscale\":{\"sequential\":[[0.0,\"#0d0887\"],[0.1111111111111111,\"#46039f\"],[0.2222222222222222,\"#7201a8\"],[0.3333333333333333,\"#9c179e\"],[0.4444444444444444,\"#bd3786\"],[0.5555555555555556,\"#d8576b\"],[0.6666666666666666,\"#ed7953\"],[0.7777777777777778,\"#fb9f3a\"],[0.8888888888888888,\"#fdca26\"],[1.0,\"#f0f921\"]],\"sequentialminus\":[[0.0,\"#0d0887\"],[0.1111111111111111,\"#46039f\"],[0.2222222222222222,\"#7201a8\"],[0.3333333333333333,\"#9c179e\"],[0.4444444444444444,\"#bd3786\"],[0.5555555555555556,\"#d8576b\"],[0.6666666666666666,\"#ed7953\"],[0.7777777777777778,\"#fb9f3a\"],[0.8888888888888888,\"#fdca26\"],[1.0,\"#f0f921\"]],\"diverging\":[[0,\"#8e0152\"],[0.1,\"#c51b7d\"],[0.2,\"#de77ae\"],[0.3,\"#f1b6da\"],[0.4,\"#fde0ef\"],[0.5,\"#f7f7f7\"],[0.6,\"#e6f5d0\"],[0.7,\"#b8e186\"],[0.8,\"#7fbc41\"],[0.9,\"#4d9221\"],[1,\"#276419\"]]},\"xaxis\":{\"gridcolor\":\"white\",\"linecolor\":\"white\",\"ticks\":\"\",\"title\":{\"standoff\":15},\"zerolinecolor\":\"white\",\"automargin\":true,\"zerolinewidth\":2},\"yaxis\":{\"gridcolor\":\"white\",\"linecolor\":\"white\",\"ticks\":\"\",\"title\":{\"standoff\":15},\"zerolinecolor\":\"white\",\"automargin\":true,\"zerolinewidth\":2},\"scene\":{\"xaxis\":{\"backgroundcolor\":\"#E5ECF6\",\"gridcolor\":\"white\",\"linecolor\":\"white\",\"showbackground\":true,\"ticks\":\"\",\"zerolinecolor\":\"white\",\"gridwidth\":2},\"yaxis\":{\"backgroundcolor\":\"#E5ECF6\",\"gridcolor\":\"white\",\"linecolor\":\"white\",\"showbackground\":true,\"ticks\":\"\",\"zerolinecolor\":\"white\",\"gridwidth\":2},\"zaxis\":{\"backgroundcolor\":\"#E5ECF6\",\"gridcolor\":\"white\",\"linecolor\":\"white\",\"showbackground\":true,\"ticks\":\"\",\"zerolinecolor\":\"white\",\"gridwidth\":2}},\"shapedefaults\":{\"line\":{\"color\":\"#2a3f5f\"}},\"annotationdefaults\":{\"arrowcolor\":\"#2a3f5f\",\"arrowhead\":0,\"arrowwidth\":1},\"geo\":{\"bgcolor\":\"white\",\"landcolor\":\"#E5ECF6\",\"subunitcolor\":\"white\",\"showland\":true,\"showlakes\":true,\"lakecolor\":\"white\"},\"title\":{\"x\":0.05},\"mapbox\":{\"style\":\"light\"}}},\"scene\":{\"domain\":{\"x\":[0.0,1.0],\"y\":[0.0,1.0]},\"xaxis\":{\"title\":{\"text\":\"PC1\"}},\"yaxis\":{\"title\":{\"text\":\"PC2\"}},\"zaxis\":{\"title\":{\"text\":\"PC3\"}}},\"legend\":{\"title\":{\"text\":\"Cluster\"},\"tracegroupgap\":0},\"margin\":{\"t\":60},\"height\":800,\"width\":800},                        {\"responsive\": true}                    ).then(function(){\n",
       "                            \n",
       "var gd = document.getElementById('0b0ab105-24d9-4bea-85d1-914016e5be96');\n",
       "var x = new MutationObserver(function (mutations, observer) {{\n",
       "        var display = window.getComputedStyle(gd).display;\n",
       "        if (!display || display === 'none') {{\n",
       "            console.log([gd, 'removed!']);\n",
       "            Plotly.purge(gd);\n",
       "            observer.disconnect();\n",
       "        }}\n",
       "}});\n",
       "\n",
       "// Listen for the removal of the full notebook cells\n",
       "var notebookContainer = gd.closest('#notebook-container');\n",
       "if (notebookContainer) {{\n",
       "    x.observe(notebookContainer, {childList: true});\n",
       "}}\n",
       "\n",
       "// Listen for the clearing of the current output cell\n",
       "var outputEl = gd.closest('.output');\n",
       "if (outputEl) {{\n",
       "    x.observe(outputEl, {childList: true});\n",
       "}}\n",
       "\n",
       "                        })                };                });            </script>        </div>"
      ]
     },
     "metadata": {},
     "output_type": "display_data"
    }
   ],
   "source": [
    "# Plots the points (athletes) on the 3D space defined by the 3 PCA features\n",
    "\n",
    "fig = px.scatter_3d(data_with_clusters, x='PC1', y='PC2', z='PC3', labels={'color': 'Cluster'},\n",
    "                    hover_name=\"name\", opacity=0.8, size_max=40, width=800, height=800,\n",
    "                   color=data_with_clusters['Cluster'].astype(str),\n",
    "                    color_discrete_sequence=px.colors.qualitative.Dark2, \n",
    "                   )\n",
    "fig.show()"
   ]
  },
  {
   "cell_type": "markdown",
   "id": "1cc4b5f9",
   "metadata": {
    "papermill": {
     "duration": 0.029236,
     "end_time": "2023-06-16T16:32:46.371016",
     "exception": false,
     "start_time": "2023-06-16T16:32:46.341780",
     "status": "completed"
    },
    "tags": []
   },
   "source": [
    "The graph above allow for clear visualization of the distribution of athletes among the PCA features. This is the 3D space that maximizes the variability of the data set and makes it easier to visualize clusters.  \n",
    "This kind of visualization, with such clear identification of clusters, could be built thanks to the use of PCA."
   ]
  },
  {
   "cell_type": "markdown",
   "id": "0f6b6625",
   "metadata": {
    "papermill": {
     "duration": 0.043936,
     "end_time": "2023-06-16T16:32:46.446677",
     "exception": false,
     "start_time": "2023-06-16T16:32:46.402741",
     "status": "completed"
    },
    "tags": []
   },
   "source": [
    "### How are athletes distributted among the KMeans clusters?"
   ]
  },
  {
   "cell_type": "code",
   "execution_count": 29,
   "id": "dc73eb05",
   "metadata": {
    "_kg_hide-input": true,
    "execution": {
     "iopub.execute_input": "2023-06-16T16:32:46.508302Z",
     "iopub.status.busy": "2023-06-16T16:32:46.507875Z",
     "iopub.status.idle": "2023-06-16T16:32:46.608188Z",
     "shell.execute_reply": "2023-06-16T16:32:46.606895Z"
    },
    "papermill": {
     "duration": 0.133147,
     "end_time": "2023-06-16T16:32:46.610656",
     "exception": false,
     "start_time": "2023-06-16T16:32:46.477509",
     "status": "completed"
    },
    "tags": []
   },
   "outputs": [
    {
     "data": {
      "text/html": [
       "<div>                            <div id=\"0fcca1f9-24b3-49e2-9956-b7b45a3fe98b\" class=\"plotly-graph-div\" style=\"height:525px; width:100%;\"></div>            <script type=\"text/javascript\">                require([\"plotly\"], function(Plotly) {                    window.PLOTLYENV=window.PLOTLYENV || {};                                    if (document.getElementById(\"0fcca1f9-24b3-49e2-9956-b7b45a3fe98b\")) {                    Plotly.newPlot(                        \"0fcca1f9-24b3-49e2-9956-b7b45a3fe98b\",                        [{\"alignmentgroup\":\"True\",\"hovertemplate\":\"Cluster %{x}: %{y} Athletes<br>Total: %{y}\",\"legendgroup\":\"5\",\"marker\":{\"color\":\"rgb(27,158,119)\",\"pattern\":{\"shape\":\"\"}},\"name\":\"5\",\"offsetgroup\":\"5\",\"orientation\":\"v\",\"showlegend\":true,\"textposition\":\"auto\",\"x\":[5],\"xaxis\":\"x\",\"y\":[38],\"yaxis\":\"y\",\"type\":\"bar\"},{\"alignmentgroup\":\"True\",\"hovertemplate\":\"Cluster %{x}: %{y} Athletes<br>Total: %{y}\",\"legendgroup\":\"4\",\"marker\":{\"color\":\"rgb(217,95,2)\",\"pattern\":{\"shape\":\"\"}},\"name\":\"4\",\"offsetgroup\":\"4\",\"orientation\":\"v\",\"showlegend\":true,\"textposition\":\"auto\",\"x\":[4],\"xaxis\":\"x\",\"y\":[55],\"yaxis\":\"y\",\"type\":\"bar\"},{\"alignmentgroup\":\"True\",\"hovertemplate\":\"Cluster %{x}: %{y} Athletes<br>Total: %{y}\",\"legendgroup\":\"3\",\"marker\":{\"color\":\"rgb(117,112,179)\",\"pattern\":{\"shape\":\"\"}},\"name\":\"3\",\"offsetgroup\":\"3\",\"orientation\":\"v\",\"showlegend\":true,\"textposition\":\"auto\",\"x\":[3],\"xaxis\":\"x\",\"y\":[121],\"yaxis\":\"y\",\"type\":\"bar\"},{\"alignmentgroup\":\"True\",\"hovertemplate\":\"Cluster %{x}: %{y} Athletes<br>Total: %{y}\",\"legendgroup\":\"2\",\"marker\":{\"color\":\"rgb(231,41,138)\",\"pattern\":{\"shape\":\"\"}},\"name\":\"2\",\"offsetgroup\":\"2\",\"orientation\":\"v\",\"showlegend\":true,\"textposition\":\"auto\",\"x\":[2],\"xaxis\":\"x\",\"y\":[126],\"yaxis\":\"y\",\"type\":\"bar\"},{\"alignmentgroup\":\"True\",\"hovertemplate\":\"Cluster %{x}: %{y} Athletes<br>Total: %{y}\",\"legendgroup\":\"1\",\"marker\":{\"color\":\"rgb(102,166,30)\",\"pattern\":{\"shape\":\"\"}},\"name\":\"1\",\"offsetgroup\":\"1\",\"orientation\":\"v\",\"showlegend\":true,\"textposition\":\"auto\",\"x\":[1],\"xaxis\":\"x\",\"y\":[238],\"yaxis\":\"y\",\"type\":\"bar\"},{\"alignmentgroup\":\"True\",\"hovertemplate\":\"Cluster %{x}: %{y} Athletes<br>Total: %{y}\",\"legendgroup\":\"0\",\"marker\":{\"color\":\"rgb(230,171,2)\",\"pattern\":{\"shape\":\"\"}},\"name\":\"0\",\"offsetgroup\":\"0\",\"orientation\":\"v\",\"showlegend\":true,\"textposition\":\"auto\",\"x\":[0],\"xaxis\":\"x\",\"y\":[36],\"yaxis\":\"y\",\"type\":\"bar\"}],                        {\"template\":{\"data\":{\"histogram2dcontour\":[{\"type\":\"histogram2dcontour\",\"colorbar\":{\"outlinewidth\":0,\"ticks\":\"\"},\"colorscale\":[[0.0,\"#0d0887\"],[0.1111111111111111,\"#46039f\"],[0.2222222222222222,\"#7201a8\"],[0.3333333333333333,\"#9c179e\"],[0.4444444444444444,\"#bd3786\"],[0.5555555555555556,\"#d8576b\"],[0.6666666666666666,\"#ed7953\"],[0.7777777777777778,\"#fb9f3a\"],[0.8888888888888888,\"#fdca26\"],[1.0,\"#f0f921\"]]}],\"choropleth\":[{\"type\":\"choropleth\",\"colorbar\":{\"outlinewidth\":0,\"ticks\":\"\"}}],\"histogram2d\":[{\"type\":\"histogram2d\",\"colorbar\":{\"outlinewidth\":0,\"ticks\":\"\"},\"colorscale\":[[0.0,\"#0d0887\"],[0.1111111111111111,\"#46039f\"],[0.2222222222222222,\"#7201a8\"],[0.3333333333333333,\"#9c179e\"],[0.4444444444444444,\"#bd3786\"],[0.5555555555555556,\"#d8576b\"],[0.6666666666666666,\"#ed7953\"],[0.7777777777777778,\"#fb9f3a\"],[0.8888888888888888,\"#fdca26\"],[1.0,\"#f0f921\"]]}],\"heatmap\":[{\"type\":\"heatmap\",\"colorbar\":{\"outlinewidth\":0,\"ticks\":\"\"},\"colorscale\":[[0.0,\"#0d0887\"],[0.1111111111111111,\"#46039f\"],[0.2222222222222222,\"#7201a8\"],[0.3333333333333333,\"#9c179e\"],[0.4444444444444444,\"#bd3786\"],[0.5555555555555556,\"#d8576b\"],[0.6666666666666666,\"#ed7953\"],[0.7777777777777778,\"#fb9f3a\"],[0.8888888888888888,\"#fdca26\"],[1.0,\"#f0f921\"]]}],\"heatmapgl\":[{\"type\":\"heatmapgl\",\"colorbar\":{\"outlinewidth\":0,\"ticks\":\"\"},\"colorscale\":[[0.0,\"#0d0887\"],[0.1111111111111111,\"#46039f\"],[0.2222222222222222,\"#7201a8\"],[0.3333333333333333,\"#9c179e\"],[0.4444444444444444,\"#bd3786\"],[0.5555555555555556,\"#d8576b\"],[0.6666666666666666,\"#ed7953\"],[0.7777777777777778,\"#fb9f3a\"],[0.8888888888888888,\"#fdca26\"],[1.0,\"#f0f921\"]]}],\"contourcarpet\":[{\"type\":\"contourcarpet\",\"colorbar\":{\"outlinewidth\":0,\"ticks\":\"\"}}],\"contour\":[{\"type\":\"contour\",\"colorbar\":{\"outlinewidth\":0,\"ticks\":\"\"},\"colorscale\":[[0.0,\"#0d0887\"],[0.1111111111111111,\"#46039f\"],[0.2222222222222222,\"#7201a8\"],[0.3333333333333333,\"#9c179e\"],[0.4444444444444444,\"#bd3786\"],[0.5555555555555556,\"#d8576b\"],[0.6666666666666666,\"#ed7953\"],[0.7777777777777778,\"#fb9f3a\"],[0.8888888888888888,\"#fdca26\"],[1.0,\"#f0f921\"]]}],\"surface\":[{\"type\":\"surface\",\"colorbar\":{\"outlinewidth\":0,\"ticks\":\"\"},\"colorscale\":[[0.0,\"#0d0887\"],[0.1111111111111111,\"#46039f\"],[0.2222222222222222,\"#7201a8\"],[0.3333333333333333,\"#9c179e\"],[0.4444444444444444,\"#bd3786\"],[0.5555555555555556,\"#d8576b\"],[0.6666666666666666,\"#ed7953\"],[0.7777777777777778,\"#fb9f3a\"],[0.8888888888888888,\"#fdca26\"],[1.0,\"#f0f921\"]]}],\"mesh3d\":[{\"type\":\"mesh3d\",\"colorbar\":{\"outlinewidth\":0,\"ticks\":\"\"}}],\"scatter\":[{\"fillpattern\":{\"fillmode\":\"overlay\",\"size\":10,\"solidity\":0.2},\"type\":\"scatter\"}],\"parcoords\":[{\"type\":\"parcoords\",\"line\":{\"colorbar\":{\"outlinewidth\":0,\"ticks\":\"\"}}}],\"scatterpolargl\":[{\"type\":\"scatterpolargl\",\"marker\":{\"colorbar\":{\"outlinewidth\":0,\"ticks\":\"\"}}}],\"bar\":[{\"error_x\":{\"color\":\"#2a3f5f\"},\"error_y\":{\"color\":\"#2a3f5f\"},\"marker\":{\"line\":{\"color\":\"#E5ECF6\",\"width\":0.5},\"pattern\":{\"fillmode\":\"overlay\",\"size\":10,\"solidity\":0.2}},\"type\":\"bar\"}],\"scattergeo\":[{\"type\":\"scattergeo\",\"marker\":{\"colorbar\":{\"outlinewidth\":0,\"ticks\":\"\"}}}],\"scatterpolar\":[{\"type\":\"scatterpolar\",\"marker\":{\"colorbar\":{\"outlinewidth\":0,\"ticks\":\"\"}}}],\"histogram\":[{\"marker\":{\"pattern\":{\"fillmode\":\"overlay\",\"size\":10,\"solidity\":0.2}},\"type\":\"histogram\"}],\"scattergl\":[{\"type\":\"scattergl\",\"marker\":{\"colorbar\":{\"outlinewidth\":0,\"ticks\":\"\"}}}],\"scatter3d\":[{\"type\":\"scatter3d\",\"line\":{\"colorbar\":{\"outlinewidth\":0,\"ticks\":\"\"}},\"marker\":{\"colorbar\":{\"outlinewidth\":0,\"ticks\":\"\"}}}],\"scattermapbox\":[{\"type\":\"scattermapbox\",\"marker\":{\"colorbar\":{\"outlinewidth\":0,\"ticks\":\"\"}}}],\"scatterternary\":[{\"type\":\"scatterternary\",\"marker\":{\"colorbar\":{\"outlinewidth\":0,\"ticks\":\"\"}}}],\"scattercarpet\":[{\"type\":\"scattercarpet\",\"marker\":{\"colorbar\":{\"outlinewidth\":0,\"ticks\":\"\"}}}],\"carpet\":[{\"aaxis\":{\"endlinecolor\":\"#2a3f5f\",\"gridcolor\":\"white\",\"linecolor\":\"white\",\"minorgridcolor\":\"white\",\"startlinecolor\":\"#2a3f5f\"},\"baxis\":{\"endlinecolor\":\"#2a3f5f\",\"gridcolor\":\"white\",\"linecolor\":\"white\",\"minorgridcolor\":\"white\",\"startlinecolor\":\"#2a3f5f\"},\"type\":\"carpet\"}],\"table\":[{\"cells\":{\"fill\":{\"color\":\"#EBF0F8\"},\"line\":{\"color\":\"white\"}},\"header\":{\"fill\":{\"color\":\"#C8D4E3\"},\"line\":{\"color\":\"white\"}},\"type\":\"table\"}],\"barpolar\":[{\"marker\":{\"line\":{\"color\":\"#E5ECF6\",\"width\":0.5},\"pattern\":{\"fillmode\":\"overlay\",\"size\":10,\"solidity\":0.2}},\"type\":\"barpolar\"}],\"pie\":[{\"automargin\":true,\"type\":\"pie\"}]},\"layout\":{\"autotypenumbers\":\"strict\",\"colorway\":[\"#636efa\",\"#EF553B\",\"#00cc96\",\"#ab63fa\",\"#FFA15A\",\"#19d3f3\",\"#FF6692\",\"#B6E880\",\"#FF97FF\",\"#FECB52\"],\"font\":{\"color\":\"#2a3f5f\"},\"hovermode\":\"closest\",\"hoverlabel\":{\"align\":\"left\"},\"paper_bgcolor\":\"white\",\"plot_bgcolor\":\"#E5ECF6\",\"polar\":{\"bgcolor\":\"#E5ECF6\",\"angularaxis\":{\"gridcolor\":\"white\",\"linecolor\":\"white\",\"ticks\":\"\"},\"radialaxis\":{\"gridcolor\":\"white\",\"linecolor\":\"white\",\"ticks\":\"\"}},\"ternary\":{\"bgcolor\":\"#E5ECF6\",\"aaxis\":{\"gridcolor\":\"white\",\"linecolor\":\"white\",\"ticks\":\"\"},\"baxis\":{\"gridcolor\":\"white\",\"linecolor\":\"white\",\"ticks\":\"\"},\"caxis\":{\"gridcolor\":\"white\",\"linecolor\":\"white\",\"ticks\":\"\"}},\"coloraxis\":{\"colorbar\":{\"outlinewidth\":0,\"ticks\":\"\"}},\"colorscale\":{\"sequential\":[[0.0,\"#0d0887\"],[0.1111111111111111,\"#46039f\"],[0.2222222222222222,\"#7201a8\"],[0.3333333333333333,\"#9c179e\"],[0.4444444444444444,\"#bd3786\"],[0.5555555555555556,\"#d8576b\"],[0.6666666666666666,\"#ed7953\"],[0.7777777777777778,\"#fb9f3a\"],[0.8888888888888888,\"#fdca26\"],[1.0,\"#f0f921\"]],\"sequentialminus\":[[0.0,\"#0d0887\"],[0.1111111111111111,\"#46039f\"],[0.2222222222222222,\"#7201a8\"],[0.3333333333333333,\"#9c179e\"],[0.4444444444444444,\"#bd3786\"],[0.5555555555555556,\"#d8576b\"],[0.6666666666666666,\"#ed7953\"],[0.7777777777777778,\"#fb9f3a\"],[0.8888888888888888,\"#fdca26\"],[1.0,\"#f0f921\"]],\"diverging\":[[0,\"#8e0152\"],[0.1,\"#c51b7d\"],[0.2,\"#de77ae\"],[0.3,\"#f1b6da\"],[0.4,\"#fde0ef\"],[0.5,\"#f7f7f7\"],[0.6,\"#e6f5d0\"],[0.7,\"#b8e186\"],[0.8,\"#7fbc41\"],[0.9,\"#4d9221\"],[1,\"#276419\"]]},\"xaxis\":{\"gridcolor\":\"white\",\"linecolor\":\"white\",\"ticks\":\"\",\"title\":{\"standoff\":15},\"zerolinecolor\":\"white\",\"automargin\":true,\"zerolinewidth\":2},\"yaxis\":{\"gridcolor\":\"white\",\"linecolor\":\"white\",\"ticks\":\"\",\"title\":{\"standoff\":15},\"zerolinecolor\":\"white\",\"automargin\":true,\"zerolinewidth\":2},\"scene\":{\"xaxis\":{\"backgroundcolor\":\"#E5ECF6\",\"gridcolor\":\"white\",\"linecolor\":\"white\",\"showbackground\":true,\"ticks\":\"\",\"zerolinecolor\":\"white\",\"gridwidth\":2},\"yaxis\":{\"backgroundcolor\":\"#E5ECF6\",\"gridcolor\":\"white\",\"linecolor\":\"white\",\"showbackground\":true,\"ticks\":\"\",\"zerolinecolor\":\"white\",\"gridwidth\":2},\"zaxis\":{\"backgroundcolor\":\"#E5ECF6\",\"gridcolor\":\"white\",\"linecolor\":\"white\",\"showbackground\":true,\"ticks\":\"\",\"zerolinecolor\":\"white\",\"gridwidth\":2}},\"shapedefaults\":{\"line\":{\"color\":\"#2a3f5f\"}},\"annotationdefaults\":{\"arrowcolor\":\"#2a3f5f\",\"arrowhead\":0,\"arrowwidth\":1},\"geo\":{\"bgcolor\":\"white\",\"landcolor\":\"#E5ECF6\",\"subunitcolor\":\"white\",\"showland\":true,\"showlakes\":true,\"lakecolor\":\"white\"},\"title\":{\"x\":0.05},\"mapbox\":{\"style\":\"light\"}}},\"xaxis\":{\"anchor\":\"y\",\"domain\":[0.0,1.0],\"title\":{\"text\":\"Cluster\"}},\"yaxis\":{\"anchor\":\"x\",\"domain\":[0.0,1.0],\"title\":{\"text\":\"Number of athletes\"}},\"legend\":{\"title\":{\"text\":\"color\"},\"tracegroupgap\":0},\"margin\":{\"t\":60},\"barmode\":\"relative\",\"annotations\":[{\"font\":{\"color\":\"black\",\"size\":12},\"showarrow\":false,\"text\":\"6.19%\",\"x\":5,\"y\":38,\"yshift\":10},{\"font\":{\"color\":\"black\",\"size\":12},\"showarrow\":false,\"text\":\"8.96%\",\"x\":4,\"y\":55,\"yshift\":10},{\"font\":{\"color\":\"black\",\"size\":12},\"showarrow\":false,\"text\":\"19.71%\",\"x\":3,\"y\":121,\"yshift\":10},{\"font\":{\"color\":\"black\",\"size\":12},\"showarrow\":false,\"text\":\"20.52%\",\"x\":2,\"y\":126,\"yshift\":10},{\"font\":{\"color\":\"black\",\"size\":12},\"showarrow\":false,\"text\":\"38.76%\",\"x\":1,\"y\":238,\"yshift\":10},{\"font\":{\"color\":\"black\",\"size\":12},\"showarrow\":false,\"text\":\"5.86%\",\"x\":0,\"y\":36,\"yshift\":10}],\"title\":{\"text\":\"Number of athletes in each cluster\",\"x\":0.49},\"showlegend\":false},                        {\"responsive\": true}                    ).then(function(){\n",
       "                            \n",
       "var gd = document.getElementById('0fcca1f9-24b3-49e2-9956-b7b45a3fe98b');\n",
       "var x = new MutationObserver(function (mutations, observer) {{\n",
       "        var display = window.getComputedStyle(gd).display;\n",
       "        if (!display || display === 'none') {{\n",
       "            console.log([gd, 'removed!']);\n",
       "            Plotly.purge(gd);\n",
       "            observer.disconnect();\n",
       "        }}\n",
       "}});\n",
       "\n",
       "// Listen for the removal of the full notebook cells\n",
       "var notebookContainer = gd.closest('#notebook-container');\n",
       "if (notebookContainer) {{\n",
       "    x.observe(notebookContainer, {childList: true});\n",
       "}}\n",
       "\n",
       "// Listen for the clearing of the current output cell\n",
       "var outputEl = gd.closest('.output');\n",
       "if (outputEl) {{\n",
       "    x.observe(outputEl, {childList: true});\n",
       "}}\n",
       "\n",
       "                        })                };                });            </script>        </div>"
      ]
     },
     "metadata": {},
     "output_type": "display_data"
    }
   ],
   "source": [
    "# Calculate the number of athletes in each cluster\n",
    "cluster_counts = data_with_clusters['Cluster'].value_counts()\n",
    "\n",
    "total_athletes = len(data_with_clusters)\n",
    "\n",
    "# Calculate the percentage of total for each cluster\n",
    "percentage_total = cluster_counts / total_athletes * 100\n",
    "\n",
    "# Sort cluster counts and percentage total in descending order\n",
    "cluster_counts = cluster_counts.sort_index(ascending=False)\n",
    "percentage_total = percentage_total.sort_index(ascending=False)\n",
    "\n",
    "fig = px.bar(x=cluster_counts.index, y=cluster_counts.values,\n",
    "             color=cluster_counts.index.astype(str),\n",
    "             color_discrete_sequence=px.colors.qualitative.Dark2)\n",
    "\n",
    "fig.update_traces(hovertemplate='Cluster %{x}: %{y} Athletes<br>Total: %{y}')\n",
    "# Add percentage of total as static text inside each bar\n",
    "for x, y, text in zip(cluster_counts.index, cluster_counts.values, percentage_total.values):\n",
    "    fig.add_annotation(\n",
    "        x=x,\n",
    "        y=y,\n",
    "        text=f'{text:.2f}%',\n",
    "        showarrow=False,\n",
    "        font=dict(color='black', size=12),\n",
    "        yshift=10\n",
    "    )\n",
    "\n",
    "# Customize the chart layout\n",
    "fig.update_layout(\n",
    "    title='Number of athletes in each cluster',\n",
    "    xaxis_title='Cluster',\n",
    "    yaxis_title='Number of athletes',\n",
    "    showlegend=False\n",
    ")\n",
    "\n",
    "fig.update_layout(title_x=0.49)\n",
    "\n",
    "\n",
    "\n",
    "fig.show()"
   ]
  },
  {
   "cell_type": "markdown",
   "id": "2ed97574",
   "metadata": {
    "papermill": {
     "duration": 0.02855,
     "end_time": "2023-06-16T16:32:46.668535",
     "exception": false,
     "start_time": "2023-06-16T16:32:46.639985",
     "status": "completed"
    },
    "tags": []
   },
   "source": [
    "The bar plot above shows that the clusters are not balanced, with vastly overrrepresented and underrepresented clusters."
   ]
  },
  {
   "cell_type": "markdown",
   "id": "dd500e2d",
   "metadata": {
    "_kg_hide-input": true,
    "papermill": {
     "duration": 0.028683,
     "end_time": "2023-06-16T16:32:46.726118",
     "exception": false,
     "start_time": "2023-06-16T16:32:46.697435",
     "status": "completed"
    },
    "tags": []
   },
   "source": [
    "### How do athletes from different clusters perform?"
   ]
  },
  {
   "cell_type": "code",
   "execution_count": 30,
   "id": "d92df621",
   "metadata": {
    "_kg_hide-input": true,
    "execution": {
     "iopub.execute_input": "2023-06-16T16:32:46.785696Z",
     "iopub.status.busy": "2023-06-16T16:32:46.785323Z",
     "iopub.status.idle": "2023-06-16T16:32:46.884329Z",
     "shell.execute_reply": "2023-06-16T16:32:46.883205Z"
    },
    "papermill": {
     "duration": 0.131645,
     "end_time": "2023-06-16T16:32:46.886808",
     "exception": false,
     "start_time": "2023-06-16T16:32:46.755163",
     "status": "completed"
    },
    "tags": []
   },
   "outputs": [
    {
     "data": {
      "text/html": [
       "<div>                            <div id=\"01c44b38-7fc5-4de8-8e7a-2f8025cb9c55\" class=\"plotly-graph-div\" style=\"height:525px; width:100%;\"></div>            <script type=\"text/javascript\">                require([\"plotly\"], function(Plotly) {                    window.PLOTLYENV=window.PLOTLYENV || {};                                    if (document.getElementById(\"01c44b38-7fc5-4de8-8e7a-2f8025cb9c55\")) {                    Plotly.newPlot(                        \"01c44b38-7fc5-4de8-8e7a-2f8025cb9c55\",                        [{\"hovertemplate\":\"<b>%{hovertext}</b><br><br>Cluster=0<br>avg_match_importance=%{x}<br>win_ratio=%{y}<br>total_wins=%{marker.size}<extra></extra>\",\"hovertext\":[\"Murilo Santana\",\"Craig Jones\",\"Hayato Sakurai\",\"Tim Spriggs\",\"Oskar Piechota\",\"Tye Ruotolo\",\"Mike Fowler\",\"Mason Fowler\",\"Fabricio Werdum\",\"Gary Tonon\",\"Marcelo Garcia\",\"Leonardo Vieira\",\"Gilbert Burns\",\"Leonardo Santos\",\"Marcus Almeida\",\"Keenan Cornelius\",\"Kron Gracie\",\"Marcio Feitosa\",\"Claudio Calasans\",\"Jared Dopp\",\"Jon Blank\",\"Matheus Diniz\",\"A. Cacareco\",\"Alexandre Ribeiro\",\"Braulio Estima\",\"Robson Moura\",\"Gabriel Napao\",\"David Avellan\",\"Tarsis Humpreys\",\"Andre Galvao\",\"Otavio Sousa\",\"Romulo Barral\",\"Ronaldo Souza\",\"Vitor Ribeiro\",\"Bianca Basilio\",\"Royler Gracie\"],\"legendgroup\":\"0\",\"marker\":{\"color\":\"#636efa\",\"opacity\":0.6,\"size\":[5.0,9.0,1.0,3.0,1.0,4.0,1.0,2.0,20.0,8.0,27.0,21.0,3.0,5.0,18.0,12.0,8.0,8.0,7.0,8.0,2.0,5.0,5.0,30.0,12.0,5.0,3.0,4.0,5.0,22.0,5.0,10.0,11.0,4.0,6.0,14.0],\"sizemode\":\"area\",\"sizeref\":0.01875,\"symbol\":\"circle\"},\"mode\":\"markers\",\"name\":\"0\",\"orientation\":\"v\",\"showlegend\":true,\"x\":[0.8181818181818182,1.5,2.6666666666666665,0.5,0.6666666666666666,1.125,2.0,0.5,1.4230769230769231,0.8888888888888888,1.5625,1.5333333333333334,1.5,1.3,1.681818181818182,1.625,1.4,1.3636363636363635,1.5833333333333333,1.2666666666666666,1.2,1.3333333333333333,1.7692307692307692,1.4186046511627908,1.9375,1.5,1.0,0.9090909090909092,1.0,2.185185185185185,1.625,1.1666666666666667,2.2142857142857144,1.1428571428571428,2.2222222222222223,1.6666666666666667],\"xaxis\":\"x\",\"y\":[0.4545454545454545,0.6428571428571429,0.3333333333333333,0.5,0.3333333333333333,0.5,0.3333333333333333,0.5,0.7692307692307693,0.4444444444444444,0.84375,0.7,0.75,0.5,0.8181818181818182,0.75,0.8,0.7272727272727273,0.5833333333333334,0.5333333333333333,0.4,0.8333333333333334,0.3846153846153846,0.6976744186046512,0.75,0.625,0.75,0.3636363636363636,0.625,0.8148148148148148,0.625,0.5555555555555556,0.7857142857142857,0.5714285714285714,0.6666666666666666,0.9333333333333332],\"yaxis\":\"y\",\"type\":\"scatter\"},{\"hovertemplate\":\"<b>%{hovertext}</b><br><br>Cluster=1<br>avg_match_importance=%{x}<br>win_ratio=%{y}<br>total_wins=%{marker.size}<extra></extra>\",\"hovertext\":[\"Jesseray Childrey\",\"Eliott Kelly\",\"Amir Allam\",\"Carlos Barreto\",\"Erik Paulson\",\"Ricardo Moraes\",\"K. Hirate\",\"Sasha Plavski\",\"Ilir Latifi\",\"Kim Mason\",\"Jamal Peterson\",\"John Einimo\",\"Tom Bass\",\"Kassim Anan\",\"Oleg Taktarov\",\"Muhammad Saleh\",\"Take Hanai\",\"Egan Inoe\",\"Karl Webber\",\"Fabio Gurgel\",\"Jason Lees\",\"Tomasz Narkun\",\"Liu Wen\",\"Cameron Earle\",\"Paulo Pinto\",\"Josh Saunders\",\"Tomasz Janiszewski\",\"Darren Andy\",\"Daniel Simoes\",\"Jehad Hamdan\",\"T. Kosaka\",\"Rikako Yuasa\",\"Tetsu Suzuko\",\"Nicholas Renier\",\"Chris Weidman\",\"Akira Shouji\",\"Kamil Wilk\",\"Josh Hayden\",\"Hideki Shrek\",\"Carlos Machado\",\"Michelle Nicolini\",\"Augusto Ferrari\",\"Talita Alencar\",\"Ryan Gracie\",\"Antonio Peinado\",\"Jose Mario Queiroga\",\"James Brasco\",\"Shane Hill-Taylor\",\"E. Karppinen\",\"Felipe Cesar\",\"Ashley Williams\",\"Eleftheria Christodoulou\",\"Valdir Araujo Junior\",\"Devhonte Johnson\",\"Ross Nicholls\",\"Paul Ardila-Ibarra\",\"Roberto Alencar\",\"Alexander Trans\",\"Cole Abate\",\"Yuta Shimada\",\"M. Perez\",\"Elvira Karpinnen\",\"Elvira Karppinen\",\"J. Pietkainen\",\"Tetsu Hadario\",\"Jeff Curran\",\"Urija Faber\",\"F. Vasconcelos\",\"Enson Inoe\",\"Rodrigo Dib\",\"Bia Mesquita\",\"Tero Pyylampi\",\"Piotr Frechowicz\",\"J. Urholin\",\"Timo-Juhani\",\"Ana Carolina\",\"Stefanie Egger\",\"Amanda Santana\",\"Fernanda Mazelli\",\"Tammy Griego\",\"Hannette Staack\",\"Yushin Okami\",\"Akira Shoji\",\"M. Szczecinski\",\"Luke Griffith\",\"Keita Iwamoto\",\"Keller Sodhi\",\"Mikael Knutsson\",\"Renan Sancar\",\"Jessica Flowers\",\"Hanette Staack\",\"Fernando Vieira\",\"Rumina Sato\",\"Luke Costello\",\"Sanshiro Nakamura\",\"Isaak Michel\",\"Milton Vieira\",\"I. Praporshchikov\",\"Jorge Santiago\",\"Kouji Kanechika\",\"L. Papadopoulis\",\"Yuki Sasaki\",\"R. Anderson\",\"Vernon White\",\"U. Zhakshylyk\",\"A. Hamlet\",\"Melchor M.\",\"Mraz Avdoyan\",\"Tobias G\",\"Kari Petola\",\"Tom Barlow\",\"Rodrigo Caporal\",\"Jesse Urholin\",\"Jason Brudvik\",\"Dan Martinez\",\"Manu Garcia\",\"Chris Brennan\",\"Hector Lombard\",\"Roman Dolidze\",\"Dan Manasoiu\",\"James Harbison\",\"J. Wakabayashi\",\"F. Capoane\",\"Hudson Taylor\",\"R. Mashurenko\",\"Bruno Chavez\",\"Roan Jucao\",\"Damon Ramos\",\"Sim Go\",\"Ricardo Alves\",\"Janne Pietilainen\",\"Genki Sudo\",\"Joao Roque\",\"Travers Grubb\",\"Jon Einemo\",\"Tom Lawlor\",\"Jacob Rodriguez\",\"Wagnney Fabiano\",\"Kenta Iwamoto\",\"Janus Andrejczuk\",\"Doorwang Jeon\",\"Eric Dahlberg\",\"E. Elgland\",\"Mateusz Juskowiak\",\"Hidemi Mihara\",\"H. Sekine\",\"Thomas DeBlass\",\"Mike Whitehead\",\"Robert Sabaruddin\",\"Anthony Perosh\",\"Marcos Oliveira\",\"Sotaro Yamada\",\"D. Marinakis\",\"T. Suzuki\",\"Yoshiyuki Yoshida\",\"Elisabeth Clay\",\"Owen Livesey\",\"Abdulkadirov Magomed\",\"Rodrigo Modrias\",\"Nathan Marquardt\",\"Carlos Newton\",\"Greger Forsel\",\"Joe Guilbert\",\"Luis Roberto\",\"Khazmat Stambulov\",\"Kamil Huminski\",\"Asa Fuller\",\"Yuki Ozawa\",\"Frank Trigg\",\"Pete Williams\",\"Travis Lutter\",\"Luis Orlando\",\"R. Babalu\",\"Andy Reese\",\"Marshurenko\",\"G. Sotiropoulos\",\"Chris Brown\",\"Israel Albuquerque\",\"Fabiano Iha\",\"Jerry Bolander\",\"Sergio Ardila-Ibarra\",\"Gamrot Mateusz\",\"Mayssa Bastos\",\"E. Karpinen\",\"Lucas Leite\",\"DeAlonzio Jackson\",\"Gabriel Arges\",\"Gianni Grippo\",\"Oliver Taza\",\"Matheus Gabriel Barros\",\"Nicky Ryan\",\"Marcelo Mafra\",\"Tito Ortiz\",\"Olav Einemo\",\"Sasha Savko\",\"Jessica Oliveira\",\"Ruslam Chsiev\",\"Brianna Ste-Marie\",\"Mansher Khera\",\"Sean Alvarez\",\"Elder Cruz\",\"Matt Hughes\",\"Mark Robinson\",\"Jackson Sousa\",\"Murilo Bustamante\",\"Vitor Belfort\",\"Egan Inoue\",\"Eoghan OFlannagan\",\"Rafaela Guedes\",\"Richard Alarcon\",\"Garth Taylor\",\"Sam McNally\",\"Kareem Barkalev\",\"Abdurakhman Bilarov\",\"Celso Vinicius\",\"Gabriel Rollo\",\"John Combs\",\"Gabriel Lucas\",\"Jonathan Satava\",\"Gregor Gracie\",\"Isaque Bahiense\",\"Leonardo Saggioro\",\"Paulo Miyao\",\"Michael Perez\",\"Ruan Alvarenga\",\"Tommy Langaker\",\"Enrico Cocco\",\"Marcio Andre Barbosa Junior\",\"Thomas Halpin\",\"Gabriel Marangoni\",\"Jorge Patino\",\"Amaury Bitetti\",\"Clark Gracie\",\"Alec Baulding\",\"Perttu Tepponen\",\"Pablo Mantovani\",\"Santeri Lilius\",\"Roberto Magalhaes\"],\"legendgroup\":\"1\",\"marker\":{\"color\":\"#EF553B\",\"opacity\":0.6,\"size\":[0.0,0.0,0.0,0.0,0.0,0.0,0.0,0.0,0.0,0.0,0.0,0.0,0.0,0.0,0.0,0.0,0.0,0.0,0.0,0.0,0.0,0.0,0.0,0.0,0.0,0.0,0.0,0.0,0.0,0.0,0.0,0.0,0.0,0.0,0.0,0.0,0.0,0.0,0.0,0.0,0.0,0.0,0.0,0.0,0.0,0.0,0.0,0.0,0.0,0.0,0.0,0.0,0.0,0.0,0.0,0.0,0.0,0.0,0.0,0.0,0.0,0.0,0.0,0.0,0.0,0.0,0.0,0.0,0.0,0.0,0.0,0.0,0.0,0.0,0.0,0.0,0.0,0.0,0.0,0.0,0.0,0.0,0.0,0.0,0.0,0.0,0.0,0.0,0.0,0.0,0.0,0.0,0.0,0.0,0.0,0.0,0.0,0.0,0.0,0.0,0.0,0.0,0.0,0.0,0.0,0.0,0.0,0.0,0.0,0.0,0.0,0.0,0.0,0.0,0.0,0.0,0.0,0.0,0.0,0.0,0.0,0.0,0.0,0.0,0.0,0.0,0.0,0.0,0.0,0.0,0.0,0.0,0.0,0.0,0.0,0.0,0.0,0.0,0.0,0.0,0.0,0.0,0.0,0.0,0.0,0.0,0.0,0.0,0.0,0.0,0.0,0.0,0.0,0.0,0.0,0.0,0.0,0.0,0.0,0.0,0.0,0.0,0.0,0.0,0.0,0.0,0.0,0.0,0.0,0.0,0.0,0.0,0.0,0.0,0.0,0.0,0.0,0.0,0.0,0.0,0.0,0.0,0.0,1.0,1.0,2.0,1.0,1.0,0.0,1.0,1.0,1.0,1.0,2.0,1.0,1.0,1.0,2.0,1.0,2.0,1.0,1.0,1.0,4.0,1.0,1.0,2.0,1.0,2.0,1.0,1.0,1.0,1.0,1.0,2.0,1.0,0.0,0.0,0.0,2.0,0.0,0.0,6.0,0.0,0.0,0.0,0.0,1.0,0.0,0.0,3.0,1.0,0.0,0.0,0.0,3.0,0.0,1.0],\"sizemode\":\"area\",\"sizeref\":0.01875,\"symbol\":\"circle\"},\"mode\":\"markers\",\"name\":\"1\",\"orientation\":\"v\",\"showlegend\":true,\"x\":[0.0,0.0,0.0,0.0,0.0,1.5,0.0,1.0,0.0,0.0,1.0,3.0,0.0,0.0,1.0,0.0,0.0,1.0,0.0,5.0,0.0,0.5,0.0,1.0,0.0,0.0,1.0,2.5,2.0,1.0,0.0,1.0,3.0,0.0,1.0,0.0,0.0,0.0,0.0,1.0,4.0,0.0,1.0,0.0,2.0,0.0,0.5,0.0,2.0,0.0,0.0,1.0,0.0,0.0,0.0,0.0,0.0,0.0,0.0,0.0,0.3333333333333333,2.0,1.0,0.0,0.0,0.0,0.0,1.0,5.0,0.0,2.0,0.0,0.0,0.0,0.0,2.0,1.0,3.0,4.0,2.0,4.0,0.0,0.0,1.0,0.0,0.0,0.0,1.0,1.0,2.0,4.0,1.0,0.0,0.0,0.0,0.0,0.0,0.0,0.0,0.0,0.0,0.0,1.0,1.0,0.0,2.0,2.0,0.0,0.0,0.0,0.0,0.0,0.0,0.0,0.0,0.0,0.0,1.0,0.0,0.0,0.0,1.0,0.0,0.0,0.0,1.0,1.0,0.0,0.0,4.0,1.0,0.0,1.0,0.0,5.0,0.0,0.0,1.0,0.0,0.0,0.0,0.0,0.0,0.0,0.0,0.0,0.5,0.0,0.0,0.0,1.0,0.0,0.0,1.0,0.0,1.0,0.0,0.5,1.0,0.0,1.0,0.0,1.0,1.0,0.0,0.0,1.0,0.0,0.0,1.0,0.0,1.0,1.0,1.0,0.0,0.0,1.5,1.0,2.0,0.5,0.0,0.0,1.0,1.0,0.5,0.4,0.5,0.3333333333333333,0.0,0.5,0.25,0.5,2.0,1.3333333333333333,2.0,2.0,0.0,2.333333333333333,0.5,2.0,0.3333333333333333,0.0,2.0,1.1666666666666667,1.3333333333333333,1.5,2.0,0.0,2.333333333333333,0.5,1.6666666666666667,0.5,2.0,0.5,0.4,0.5,0.0,0.0,0.0,1.0,0.0,0.0,1.5,0.0,0.0,0.0,0.0,0.5,0.0,0.0,0.8,0.5,0.0,0.0,0.0,1.1666666666666667,0.0,0.3333333333333333],\"xaxis\":\"x\",\"y\":[0.0,0.0,0.0,0.0,0.0,0.0,0.0,0.0,0.0,0.0,0.0,0.0,0.0,0.0,0.0,0.0,0.0,0.0,0.0,0.0,0.0,0.0,0.0,0.0,0.0,0.0,0.0,0.0,0.0,0.0,0.0,0.0,0.0,0.0,0.0,0.0,0.0,0.0,0.0,0.0,0.0,0.0,0.0,0.0,0.0,0.0,0.0,0.0,0.0,0.0,0.0,0.0,0.0,0.0,0.0,0.0,0.0,0.0,0.0,0.0,0.0,0.0,0.0,0.0,0.0,0.0,0.0,0.0,0.0,0.0,0.0,0.0,0.0,0.0,0.0,0.0,0.0,0.0,0.0,0.0,0.0,0.0,0.0,0.0,0.0,0.0,0.0,0.0,0.0,0.0,0.0,0.0,0.0,0.0,0.0,0.0,0.0,0.0,0.0,0.0,0.0,0.0,0.0,0.0,0.0,0.0,0.0,0.0,0.0,0.0,0.0,0.0,0.0,0.0,0.0,0.0,0.0,0.0,0.0,0.0,0.0,0.0,0.0,0.0,0.0,0.0,0.0,0.0,0.0,0.0,0.0,0.0,0.0,0.0,0.0,0.0,0.0,0.0,0.0,0.0,0.0,0.0,0.0,0.0,0.0,0.0,0.0,0.0,0.0,0.0,0.0,0.0,0.0,0.0,0.0,0.0,0.0,0.0,0.0,0.0,0.0,0.0,0.0,0.0,0.0,0.0,0.0,0.0,0.0,0.0,0.0,0.0,0.0,0.0,0.0,0.0,0.0,0.0,0.0,0.0,0.0,0.0,0.0,1.0,0.5,0.4,0.5,0.3333333333333333,0.0,0.5,0.25,0.5,0.5,0.6666666666666666,0.5,1.0,1.0,0.6666666666666666,0.5,0.6666666666666666,0.3333333333333333,1.0,1.0,0.6666666666666666,0.3333333333333333,0.5,0.5,1.0,0.6666666666666666,0.5,0.3333333333333333,0.5,0.3333333333333333,0.5,0.4,0.5,0.0,0.0,0.0,0.6666666666666666,0.0,0.0,0.75,0.0,0.0,0.0,0.0,0.5,0.0,0.0,0.6,0.5,0.0,0.0,0.0,0.5,0.0,0.3333333333333333],\"yaxis\":\"y\",\"type\":\"scatter\"},{\"hovertemplate\":\"<b>%{hovertext}</b><br><br>Cluster=2<br>avg_match_importance=%{x}<br>win_ratio=%{y}<br>total_wins=%{marker.size}<extra></extra>\",\"hovertext\":[\"Joey Gilbert\",\"Akihiro Gono\",\"Micah Pittman\",\"Vinicius Ferreira\",\"Rodney Ellis\",\"Bruno Bastos\",\"Kiuma Kunioku\",\"Mario Miranda\",\"George Sotiropoulos\",\"Shinzo Ansai\",\"Rob Di\",\"Victor Estima\",\"Mike Mrkulic\",\"N. Uematsu\",\"Serguei Onishuk\",\"Jamie Ballard\",\"Michael Wilson\",\"Jimmy Friedrich\",\"Eduardo Rios\",\"Nicollas Renier\",\"Kurt Pellegrino\",\"Renato Verissimo\",\"Jeremy Skinner\",\"Giovanna Jara\",\"Cristiano Lazzarini\",\"Yoshitomi Mishima\",\"R. Alvarenga\",\"Eddie Sanchez\",\"Mikey Burnet\",\"Alian Drueco\",\"Max Gimenis\",\"Morris Clifoni\",\"Keita Nakamura\",\"Yuta Sasaki\",\"Miodrag Petkovic\",\"Lucas Daniel Barbosa\",\"Justin Rader\",\"Otto Olsen\",\"Mateusz Garmot\",\"Jayson Patino\",\"Adele Fornarino\",\"Ryan Harvey\",\"Adam Wardzinski\",\"Luis Brito\",\"Rodrigo Medeiros\",\"T. Yano\",\"Adam Sachnoff\",\"D. Hemmings\",\"Livia Giles\",\"Marcio Cromado\",\"Bob Schirmer\",\"Mourat Ozov\",\"K. Toida\",\"Davis Heart\",\"Davion Peterson\",\"Jason Ramsterrer\",\"Amanda Leve\",\"Robert Sulski\",\"Ryan Hall\",\"Dave Menne\",\"Tezekbaev Rasul\",\"Takanori Gomi\",\"Youngnam Noh\",\"Kitner Mendoga\",\"Jeon Doo\",\"Shinsho Anzai\",\"Perttu Terpponnen\",\"Mario Delgado\",\"Kouhei Yasumi\",\"Kyle Boehm\",\"Josh Barnet\",\"Y. Setsenko\",\"Toshiyuki Oyama\",\"Don Ortega\",\"Hiroyuko Abe\",\"Fabricio Andrey\",\"Adrian Serrano\",\"Justin Garcia\",\"AJ Agazarm\",\"Juan Valles\",\"Martin Brown\",\"Charles Pearson\",\"Joel Tudor\",\"David Marinakis\",\"Alex Negao\",\"Cassio Francis\",\"Rigan Machado\",\"Heikki Jussila\",\"Gustavo Dantas\",\"Sasha Palvski\",\"Ilir Lafiti\",\"Robin Gracie\",\"Osman Kasimov\",\"Fellipe Andrew\",\"Nicolas Renier\",\"Juskowiak Mateusz\",\"Caol Uno\",\"Y. Ozawa\",\"Igor Praporschchikov\",\"Yuji Arai\",\"A. Zhanpeisov\",\"Julia Maele\",\"Ben Hodgkinson\",\"John Hansen\",\"Kyle Griffin\",\"Young-Ahm\",\"Zbigniew Tyszka\",\"M. Yano\",\"Abdulaev Ruslan\",\"Mark Ramos\",\"Andy Wang\",\"Yurika Nakakura\",\"Andreas Olsen\",\"Jason Manly\",\"Leandro Lo\",\"Lucio Lagarto\",\"Satori Kitaoka\",\"Kit Dale\",\"Joaquim Hansen\",\"Y. Kinishi\",\"Alexandre Jesus\",\"Eldar Rafigaev\",\"Joe Gilbert\",\"Gabriel Almeida\",\"Andy Varela\",\"Erico Cocco\"],\"legendgroup\":\"2\",\"marker\":{\"color\":\"#00cc96\",\"opacity\":0.6,\"size\":[0.0,0.0,0.0,4.0,0.0,0.0,0.0,0.0,0.0,0.0,0.0,2.0,0.0,0.0,0.0,0.0,0.0,0.0,0.0,0.0,0.0,0.0,1.0,0.0,0.0,0.0,0.0,0.0,0.0,0.0,1.0,0.0,0.0,0.0,0.0,5.0,5.0,0.0,0.0,0.0,0.0,0.0,1.0,0.0,3.0,0.0,0.0,0.0,0.0,0.0,0.0,0.0,0.0,0.0,0.0,0.0,0.0,0.0,3.0,0.0,0.0,0.0,0.0,0.0,0.0,0.0,0.0,0.0,0.0,1.0,0.0,0.0,0.0,0.0,0.0,1.0,0.0,0.0,4.0,0.0,0.0,0.0,0.0,0.0,0.0,1.0,5.0,0.0,0.0,1.0,0.0,0.0,0.0,0.0,1.0,0.0,0.0,0.0,0.0,0.0,0.0,0.0,0.0,2.0,1.0,0.0,0.0,0.0,0.0,0.0,0.0,0.0,0.0,0.0,0.0,0.0,0.0,0.0,0.0,0.0,0.0,0.0,0.0,0.0,0.0,0.0],\"sizemode\":\"area\",\"sizeref\":0.01875,\"symbol\":\"circle\"},\"mode\":\"markers\",\"name\":\"2\",\"orientation\":\"v\",\"showlegend\":true,\"x\":[1.0,0.0,1.0,1.1428571428571428,0.0,0.25,0.0,0.0,0.0,0.0,2.0,0.5,1.0,1.0,0.0,0.0,0.0,1.0,0.0,0.0,1.0,2.0,0.5,1.0,2.0,1.0,0.0,0.0,1.0,0.0,0.3333333333333333,0.0,2.0,0.0,0.0,1.4285714285714286,1.0,4.0,0.0,0.0,1.0,0.0,0.5,4.0,0.875,0.3333333333333333,0.0,0.0,1.0,0.0,0.0,0.0,0.0,0.0,0.0,0.0,1.0,1.0,1.0,1.0,0.0,0.0,0.0,0.0,0.0,0.0,0.0,0.0,0.0,0.5,0.0,0.0,0.0,0.0,0.0,0.3333333333333333,0.0,0.0,0.8888888888888888,0.0,0.0,0.0,1.0,0.0,2.0,0.5,1.0,0.0,0.0,1.5,0.0,4.0,0.0,0.0,0.3333333333333333,0.0,2.0,0.0,0.0,0.0,0.0,1.0,0.0,0.5,0.5,0.0,0.3333333333333333,0.0,0.0,0.3333333333333333,0.0,1.0,0.0,0.0,0.0,1.0,0.0,0.0,1.0,0.0,0.0,0.0,2.0,0.0,0.0,0.0],\"xaxis\":\"x\",\"y\":[0.0,0.0,0.0,0.5714285714285714,0.0,0.0,0.0,0.0,0.0,0.0,0.0,0.5,0.0,0.0,0.0,0.0,0.0,0.0,0.0,0.0,0.0,0.0,0.5,0.0,0.0,0.0,0.0,0.0,0.0,0.0,0.3333333333333333,0.0,0.0,0.0,0.0,0.7142857142857143,0.625,0.0,0.0,0.0,0.0,0.0,0.5,0.0,0.375,0.0,0.0,0.0,0.0,0.0,0.0,0.0,0.0,0.0,0.0,0.0,0.0,0.0,0.6,0.0,0.0,0.0,0.0,0.0,0.0,0.0,0.0,0.0,0.0,0.5,0.0,0.0,0.0,0.0,0.0,0.3333333333333333,0.0,0.0,0.4444444444444444,0.0,0.0,0.0,0.0,0.0,0.0,0.5,0.5,0.0,0.0,0.5,0.0,0.0,0.0,0.0,0.3333333333333333,0.0,0.0,0.0,0.0,0.0,0.0,0.0,0.0,0.5,0.5,0.0,0.0,0.0,0.0,0.0,0.0,0.0,0.0,0.0,0.0,0.0,0.0,0.0,0.0,0.0,0.0,0.0,0.0,0.0,0.0,0.0],\"yaxis\":\"y\",\"type\":\"scatter\"},{\"hovertemplate\":\"<b>%{hovertext}</b><br><br>Cluster=3<br>avg_match_importance=%{x}<br>win_ratio=%{y}<br>total_wins=%{marker.size}<extra></extra>\",\"hovertext\":[\"David Bielkheden\",\"Jia Jang\",\"Nieman Gracie\",\"Eoghan OFlanagan\",\"Dennis Hallman\",\"Darrel Moodley\",\"C. Jones\",\"Teemu Launis\",\"Kim Dong\",\"Carina Santi\",\"Sekine Hideki\",\"Ezra Lenon\",\"Gavin Kulper\",\"Hideki Sekine\",\"M. Van\",\"Roger Neff\",\"Talita Treta\",\"Alison Tremblay\",\"Joseph Lee\",\"Lee Hyoung\",\"Ricardo Mesquita\",\"Jurie Rachel\",\"Rustam Chsiev\",\"James Puopolo\",\"Mike Martelle\",\"Rolles Gracie\",\"Ahmad Faraj\",\"Yukiyasu Ozawa\",\"Dan Schon\",\"Fan Yi\",\"H. Kanehara\",\"Tamura\",\"Henrique Cardoso\",\"Christian Moriarty\",\"Shinya Aoki\",\"Takefuni Hanai\",\"Gerardi Rinaldi\",\"Servio Tulio\",\"Asadulaev Surkhay\",\"Joao Costa\",\"Paul Schreiner\",\"Gao Hua\",\"Edwin Najmi\",\"Rodrigo Artilheiro\",\"Keith Krikorian\",\"John Salter\",\"Gunnar Nelson\",\"Jason White\",\"Radoslaw Turek\",\"Penny Thomas\",\"Mike Cardosa\",\"Marko Helen\",\"Hiroshi Nakamura\",\"Magid Hage\",\"Patrick Gaudio\",\"Renato Forasieppi Canuto\",\"Daniel Strauss\",\"Jose Junior\",\"Nate Marquardt\",\"Janne-Pekka\",\"Wang Yan\",\"P. Ardilla\",\"Tomas Szczerek\",\"Akira Soji\",\"Kaynan D.\",\"Kuba Witkowski\",\"Rodrigo Minotauro\",\"Amanda Alequin / Santana\",\"Chris Wideman\",\"Ben Dyson\",\"Alexandre Vieira\",\"Van Arsdale\",\"William Tackett\",\"Rogent Lorent\",\"Kethe Engen\",\"T. Hirono\",\"Peter Angerer\",\"Jimmy Freidrich\",\"Diego Sanchez\",\"Y. Takahito\",\"Tetsu Suzuki\",\"Marc\",\"Allan Teo\",\"George St\",\"Trevor Lally\",\"Elliot Marshal\",\"Glover Teixeira\",\"Y. Kohsaka\",\"Daniel Hortegas\",\"Jon Hansen\",\"Yousef Elzien\",\"James Poupolo\",\"Simon Siasi\",\"Firas Nakdali\",\"Larry Parker\",\"Rocky Batastini\",\"Halm Gocalli\",\"J. Pietlainen\",\"Jorge Britto\",\"Y. Yatso\",\"Mario Rinaldi\",\"T. Pyylampi\",\"Wellington Dias\",\"Erza Lennon\",\"Chris Bright\",\"Mark Bocek\",\"Ben Askren\",\"Tim Carpenter\",\"Yukissyu Ozawa\",\"Antoine Joude\",\"Alexander Savko\",\"Elvis Sinosic\",\"Rodrigo Cavaca\",\"Michael Groth\",\"Flavio Almeida\",\"Pedro Marinho\",\"Reese Andy\",\"Denis Roberts\",\"Mike Van\",\"Ben Henderson\",\"Matt Lindland\"],\"legendgroup\":\"3\",\"marker\":{\"color\":\"#ab63fa\",\"opacity\":0.6,\"size\":[0.0,0.0,0.0,0.0,0.0,0.0,0.0,0.0,0.0,0.0,0.0,0.0,0.0,0.0,0.0,0.0,0.0,0.0,0.0,0.0,0.0,0.0,2.0,1.0,0.0,1.0,0.0,0.0,0.0,0.0,0.0,0.0,0.0,0.0,0.0,0.0,0.0,0.0,0.0,0.0,2.0,0.0,0.0,0.0,0.0,0.0,1.0,0.0,0.0,0.0,0.0,0.0,0.0,0.0,2.0,2.0,0.0,0.0,0.0,0.0,0.0,0.0,0.0,0.0,0.0,1.0,0.0,0.0,0.0,0.0,0.0,0.0,0.0,0.0,0.0,0.0,0.0,0.0,0.0,0.0,0.0,0.0,0.0,0.0,0.0,0.0,1.0,0.0,0.0,0.0,0.0,0.0,0.0,0.0,0.0,0.0,0.0,0.0,0.0,0.0,0.0,0.0,0.0,0.0,0.0,0.0,0.0,0.0,0.0,0.0,0.0,0.0,1.0,0.0,1.0,1.0,0.0,0.0,0.0,0.0,0.0],\"sizemode\":\"area\",\"sizeref\":0.01875,\"symbol\":\"circle\"},\"mode\":\"markers\",\"name\":\"3\",\"orientation\":\"v\",\"showlegend\":true,\"x\":[0.0,0.0,1.0,2.5,1.6666666666666667,0.0,0.0,0.0,0.0,4.0,0.0,1.0,1.0,0.3333333333333333,1.0,0.5,4.0,1.0,0.0,0.0,0.0,0.0,1.3333333333333333,0.3333333333333333,0.0,1.5,2.0,0.0,0.0,0.0,0.0,0.0,0.0,1.0,0.5,0.0,3.0,0.0,0.0,0.0,1.5,0.0,0.0,1.0,0.0,0.0,1.4,0.0,1.0,2.0,1.0,0.0,0.0,0.0,0.4,0.5,0.0,1.0,0.0,0.0,0.0,0.0,0.0,1.0,1.0,0.5,1.0,1.0,1.0,0.0,0.0,0.0,0.0,0.0,1.0,0.0,0.0,0.0,0.5,0.0,1.0,2.0,0.0,1.0,1.0,0.0,1.6666666666666667,0.0,0.0,0.0,0.0,0.0,2.0,2.0,1.0,0.0,0.0,0.0,0.0,0.0,0.0,0.0,0.0,0.0,0.0,1.0,1.0,1.0,0.0,0.0,1.0,0.0,0.3333333333333333,0.0,3.0,0.2,0.0,0.0,1.0,0.5,0.5],\"xaxis\":\"x\",\"y\":[0.0,0.0,0.0,0.0,0.0,0.0,0.0,0.0,0.0,0.0,0.0,0.0,0.0,0.0,0.0,0.0,0.0,0.0,0.0,0.0,0.0,0.0,0.3333333333333333,0.3333333333333333,0.0,0.5,0.0,0.0,0.0,0.0,0.0,0.0,0.0,0.0,0.0,0.0,0.0,0.0,0.0,0.0,0.5,0.0,0.0,0.0,0.0,0.0,0.2,0.0,0.0,0.0,0.0,0.0,0.0,0.0,0.4,0.5,0.0,0.0,0.0,0.0,0.0,0.0,0.0,0.0,0.0,0.5,0.0,0.0,0.0,0.0,0.0,0.0,0.0,0.0,0.0,0.0,0.0,0.0,0.0,0.0,0.0,0.0,0.0,0.0,0.0,0.0,0.3333333333333333,0.0,0.0,0.0,0.0,0.0,0.0,0.0,0.0,0.0,0.0,0.0,0.0,0.0,0.0,0.0,0.0,0.0,0.0,0.0,0.0,0.0,0.0,0.0,0.0,0.0,0.3333333333333333,0.0,0.5,0.2,0.0,0.0,0.0,0.0,0.0],\"yaxis\":\"y\",\"type\":\"scatter\"},{\"hovertemplate\":\"<b>%{hovertext}</b><br><br>Cluster=4<br>avg_match_importance=%{x}<br>win_ratio=%{y}<br>total_wins=%{marker.size}<extra></extra>\",\"hovertext\":[\"Diogo Reis\",\"Victor Honorio\",\"Nicholas Meregali\",\"Giancarlo Bodoni\",\"Bruno Frazatto\",\"Gabriel Sousa\",\"Marcio Corleta\",\"Davi Ramos\",\"Rodrigo Gracie\",\"Gordon Ryan\",\"Dean Lister\",\"Roberto Traven\",\"David Terrell\",\"Roger Gracie\",\"Eddie Bravo\",\"Antonio Schembri\",\"Demian Maia\",\"Edward Cummings\",\"Diego Oliveira\",\"Kendall Reusing\",\"Abraham Marte Messina\",\"Rafael Mendes\",\"Joshua Cisneros\",\"Jean Jacques Machado\",\"Baret Yoshida\",\"Robert Drysdale\",\"Sergio Moraes\",\"Kade Ruotolo\",\"Felipe Pena\",\"Rubens Charles\",\"Jake Shields\",\"Mateusz Szczecinski\",\"Joao Miyao\",\"Ricardo Arona\",\"Eoghan Oflanagan\",\"Ricardo Liborio\",\"Rousimar Palhares\",\"Kamil Uminski\",\"Jose Mario Sperry\",\"Amy Campo\",\"Victor Hugo\",\"Ana Carolina Vieira\",\"Vinicius Magalhaes\",\"Matt Serra\",\"Mackenzie Dern\",\"Sanae Kikuta\",\"Gabrielle Garcia\",\"Yuri Simoes\",\"Renzo Gracie\",\"Bianca Mesquita\",\"Vitor Viana\",\"Aaron Johnson\",\"Josh Hinger\",\"Mark Kerr\",\"Jeff Glover\"],\"legendgroup\":\"4\",\"marker\":{\"color\":\"#FFA15A\",\"opacity\":0.6,\"size\":[4.0,2.0,6.0,5.0,3.0,3.0,1.0,4.0,6.0,20.0,19.0,5.0,3.0,12.0,2.0,3.0,7.0,1.0,3.0,1.0,1.0,11.0,2.0,11.0,11.0,2.0,2.0,4.0,13.0,18.0,3.0,1.0,2.0,13.0,1.0,7.0,3.0,1.0,9.0,3.0,3.0,1.0,19.0,3.0,3.0,1.0,14.0,16.0,11.0,1.0,1.0,1.0,4.0,5.0,6.0],\"sizemode\":\"area\",\"sizeref\":0.01875,\"symbol\":\"circle\"},\"mode\":\"markers\",\"name\":\"4\",\"orientation\":\"v\",\"showlegend\":true,\"x\":[1.75,0.5,1.625,1.3333333333333333,1.0,1.75,0.5,1.75,1.625,1.9047619047619049,1.3214285714285714,1.1428571428571428,1.5,1.9230769230769231,1.0,1.5,1.75,0.5,1.5,1.5,0.5,1.75,1.5,1.8,1.0,3.25,0.5,1.75,1.6666666666666667,1.75,1.2,0.0,1.5,2.0,1.0,1.4,1.75,0.3333333333333333,2.727272727272727,2.333333333333333,0.5,1.0,1.137931034482759,1.75,2.0,2.0,2.4375,1.368421052631579,1.4,4.0,0.0,0.3333333333333333,1.1666666666666667,3.0,1.0909090909090908],\"xaxis\":\"x\",\"y\":[1.0,0.5,0.75,0.8333333333333334,0.4285714285714285,0.75,0.5,1.0,0.75,0.9523809523809524,0.6785714285714286,0.7142857142857143,0.75,0.9230769230769232,0.6666666666666666,0.75,0.875,0.5,0.75,0.5,0.5,0.9166666666666666,0.5,0.7333333333333333,0.5,0.5,0.5,1.0,0.7222222222222222,0.9,0.6,1.0,0.5,1.0,1.0,0.7,0.75,0.3333333333333333,0.8181818181818182,1.0,0.5,1.0,0.6551724137931034,0.75,0.75,0.5,0.875,0.8421052631578947,0.7333333333333333,1.0,1.0,0.3333333333333333,0.6666666666666666,0.8333333333333334,0.5454545454545454],\"yaxis\":\"y\",\"type\":\"scatter\"},{\"hovertemplate\":\"<b>%{hovertext}</b><br><br>Cluster=5<br>avg_match_importance=%{x}<br>win_ratio=%{y}<br>total_wins=%{marker.size}<extra></extra>\",\"hovertext\":[\"Marcio Cruz\",\"Nick Rodriguez\",\"Rida Haisam\",\"Ricardo Almeida\",\"Roberto Abreu\",\"Kaynan Duarte\",\"Jonathan Torres\",\"Rafael Lovato Jr\",\"Orlando Sanchez\",\"Pablo Popovitch\",\"Rany Yahya\",\"Kennedy Maciel\",\"Ricardo Vieira\",\"Lachlan Giles\",\"Antonio Braga Neto\",\"Roberto Jimenez\",\"Lucas Lepri\",\"Beatriz Mesquita\",\"Chael Sonnen\",\"Ricco Rodriguez\",\"Dillon Danis\",\"Geovanny Martinez\",\"Mahamed Aly\",\"Alexandre de Freitas\",\"Augusto Mendes\",\"Leonardo Nogueira\",\"Vagner Rocha\",\"Dante Leon\",\"Saulo Ribeiro\",\"Eduardo Telles\",\"Ethan Crelinsten\",\"Roosevelt Sousa\",\"Joao Gabriel Rocha\",\"Jeff Monson\",\"Joao Assis\",\"Rodolfo Vieira\",\"Ffion Davies\",\"Micael Galvao\"],\"legendgroup\":\"5\",\"marker\":{\"color\":\"#19d3f3\",\"opacity\":0.6,\"size\":[15.0,7.0,1.0,12.0,20.0,8.0,12.0,14.0,9.0,19.0,10.0,4.0,1.0,3.0,1.0,1.0,8.0,2.0,1.0,15.0,1.0,3.0,5.0,13.0,9.0,3.0,11.0,5.0,22.0,1.0,1.0,2.0,9.0,6.0,10.0,8.0,5.0,3.0],\"sizemode\":\"area\",\"sizeref\":0.01875,\"symbol\":\"circle\"},\"mode\":\"markers\",\"name\":\"5\",\"orientation\":\"v\",\"showlegend\":true,\"x\":[1.2727272727272727,1.5,0.3333333333333333,1.368421052631579,1.4482758620689655,1.5555555555555556,1.2666666666666666,1.3076923076923077,1.2307692307692308,1.5384615384615383,1.3846153846153846,1.3333333333333333,0.5,0.6666666666666666,0.25,0.3333333333333333,1.3333333333333333,2.0,2.5,1.2083333333333333,0.25,0.875,1.181818181818182,1.736842105263158,1.1538461538461535,1.2,1.2352941176470589,1.5,1.4333333333333331,0.3333333333333333,0.3333333333333333,1.0,1.4,1.6153846153846154,1.2857142857142858,1.3,2.333333333333333,1.75],\"xaxis\":\"x\",\"y\":[0.6818181818181818,0.7,0.3333333333333333,0.631578947368421,0.6896551724137931,0.8888888888888888,0.8,0.5384615384615384,0.6923076923076923,0.7307692307692307,0.7692307692307693,0.6666666666666666,0.5,0.3333333333333333,0.25,0.3333333333333333,0.6666666666666666,0.5,0.5,0.625,0.25,0.375,0.4545454545454545,0.6842105263157895,0.6923076923076923,0.6,0.6470588235294118,0.625,0.7333333333333333,0.3333333333333333,0.3333333333333333,0.6666666666666666,0.6,0.4615384615384615,0.7142857142857143,0.8,0.8333333333333334,0.75],\"yaxis\":\"y\",\"type\":\"scatter\"}],                        {\"template\":{\"data\":{\"histogram2dcontour\":[{\"type\":\"histogram2dcontour\",\"colorbar\":{\"outlinewidth\":0,\"ticks\":\"\"},\"colorscale\":[[0.0,\"#0d0887\"],[0.1111111111111111,\"#46039f\"],[0.2222222222222222,\"#7201a8\"],[0.3333333333333333,\"#9c179e\"],[0.4444444444444444,\"#bd3786\"],[0.5555555555555556,\"#d8576b\"],[0.6666666666666666,\"#ed7953\"],[0.7777777777777778,\"#fb9f3a\"],[0.8888888888888888,\"#fdca26\"],[1.0,\"#f0f921\"]]}],\"choropleth\":[{\"type\":\"choropleth\",\"colorbar\":{\"outlinewidth\":0,\"ticks\":\"\"}}],\"histogram2d\":[{\"type\":\"histogram2d\",\"colorbar\":{\"outlinewidth\":0,\"ticks\":\"\"},\"colorscale\":[[0.0,\"#0d0887\"],[0.1111111111111111,\"#46039f\"],[0.2222222222222222,\"#7201a8\"],[0.3333333333333333,\"#9c179e\"],[0.4444444444444444,\"#bd3786\"],[0.5555555555555556,\"#d8576b\"],[0.6666666666666666,\"#ed7953\"],[0.7777777777777778,\"#fb9f3a\"],[0.8888888888888888,\"#fdca26\"],[1.0,\"#f0f921\"]]}],\"heatmap\":[{\"type\":\"heatmap\",\"colorbar\":{\"outlinewidth\":0,\"ticks\":\"\"},\"colorscale\":[[0.0,\"#0d0887\"],[0.1111111111111111,\"#46039f\"],[0.2222222222222222,\"#7201a8\"],[0.3333333333333333,\"#9c179e\"],[0.4444444444444444,\"#bd3786\"],[0.5555555555555556,\"#d8576b\"],[0.6666666666666666,\"#ed7953\"],[0.7777777777777778,\"#fb9f3a\"],[0.8888888888888888,\"#fdca26\"],[1.0,\"#f0f921\"]]}],\"heatmapgl\":[{\"type\":\"heatmapgl\",\"colorbar\":{\"outlinewidth\":0,\"ticks\":\"\"},\"colorscale\":[[0.0,\"#0d0887\"],[0.1111111111111111,\"#46039f\"],[0.2222222222222222,\"#7201a8\"],[0.3333333333333333,\"#9c179e\"],[0.4444444444444444,\"#bd3786\"],[0.5555555555555556,\"#d8576b\"],[0.6666666666666666,\"#ed7953\"],[0.7777777777777778,\"#fb9f3a\"],[0.8888888888888888,\"#fdca26\"],[1.0,\"#f0f921\"]]}],\"contourcarpet\":[{\"type\":\"contourcarpet\",\"colorbar\":{\"outlinewidth\":0,\"ticks\":\"\"}}],\"contour\":[{\"type\":\"contour\",\"colorbar\":{\"outlinewidth\":0,\"ticks\":\"\"},\"colorscale\":[[0.0,\"#0d0887\"],[0.1111111111111111,\"#46039f\"],[0.2222222222222222,\"#7201a8\"],[0.3333333333333333,\"#9c179e\"],[0.4444444444444444,\"#bd3786\"],[0.5555555555555556,\"#d8576b\"],[0.6666666666666666,\"#ed7953\"],[0.7777777777777778,\"#fb9f3a\"],[0.8888888888888888,\"#fdca26\"],[1.0,\"#f0f921\"]]}],\"surface\":[{\"type\":\"surface\",\"colorbar\":{\"outlinewidth\":0,\"ticks\":\"\"},\"colorscale\":[[0.0,\"#0d0887\"],[0.1111111111111111,\"#46039f\"],[0.2222222222222222,\"#7201a8\"],[0.3333333333333333,\"#9c179e\"],[0.4444444444444444,\"#bd3786\"],[0.5555555555555556,\"#d8576b\"],[0.6666666666666666,\"#ed7953\"],[0.7777777777777778,\"#fb9f3a\"],[0.8888888888888888,\"#fdca26\"],[1.0,\"#f0f921\"]]}],\"mesh3d\":[{\"type\":\"mesh3d\",\"colorbar\":{\"outlinewidth\":0,\"ticks\":\"\"}}],\"scatter\":[{\"fillpattern\":{\"fillmode\":\"overlay\",\"size\":10,\"solidity\":0.2},\"type\":\"scatter\"}],\"parcoords\":[{\"type\":\"parcoords\",\"line\":{\"colorbar\":{\"outlinewidth\":0,\"ticks\":\"\"}}}],\"scatterpolargl\":[{\"type\":\"scatterpolargl\",\"marker\":{\"colorbar\":{\"outlinewidth\":0,\"ticks\":\"\"}}}],\"bar\":[{\"error_x\":{\"color\":\"#2a3f5f\"},\"error_y\":{\"color\":\"#2a3f5f\"},\"marker\":{\"line\":{\"color\":\"#E5ECF6\",\"width\":0.5},\"pattern\":{\"fillmode\":\"overlay\",\"size\":10,\"solidity\":0.2}},\"type\":\"bar\"}],\"scattergeo\":[{\"type\":\"scattergeo\",\"marker\":{\"colorbar\":{\"outlinewidth\":0,\"ticks\":\"\"}}}],\"scatterpolar\":[{\"type\":\"scatterpolar\",\"marker\":{\"colorbar\":{\"outlinewidth\":0,\"ticks\":\"\"}}}],\"histogram\":[{\"marker\":{\"pattern\":{\"fillmode\":\"overlay\",\"size\":10,\"solidity\":0.2}},\"type\":\"histogram\"}],\"scattergl\":[{\"type\":\"scattergl\",\"marker\":{\"colorbar\":{\"outlinewidth\":0,\"ticks\":\"\"}}}],\"scatter3d\":[{\"type\":\"scatter3d\",\"line\":{\"colorbar\":{\"outlinewidth\":0,\"ticks\":\"\"}},\"marker\":{\"colorbar\":{\"outlinewidth\":0,\"ticks\":\"\"}}}],\"scattermapbox\":[{\"type\":\"scattermapbox\",\"marker\":{\"colorbar\":{\"outlinewidth\":0,\"ticks\":\"\"}}}],\"scatterternary\":[{\"type\":\"scatterternary\",\"marker\":{\"colorbar\":{\"outlinewidth\":0,\"ticks\":\"\"}}}],\"scattercarpet\":[{\"type\":\"scattercarpet\",\"marker\":{\"colorbar\":{\"outlinewidth\":0,\"ticks\":\"\"}}}],\"carpet\":[{\"aaxis\":{\"endlinecolor\":\"#2a3f5f\",\"gridcolor\":\"white\",\"linecolor\":\"white\",\"minorgridcolor\":\"white\",\"startlinecolor\":\"#2a3f5f\"},\"baxis\":{\"endlinecolor\":\"#2a3f5f\",\"gridcolor\":\"white\",\"linecolor\":\"white\",\"minorgridcolor\":\"white\",\"startlinecolor\":\"#2a3f5f\"},\"type\":\"carpet\"}],\"table\":[{\"cells\":{\"fill\":{\"color\":\"#EBF0F8\"},\"line\":{\"color\":\"white\"}},\"header\":{\"fill\":{\"color\":\"#C8D4E3\"},\"line\":{\"color\":\"white\"}},\"type\":\"table\"}],\"barpolar\":[{\"marker\":{\"line\":{\"color\":\"#E5ECF6\",\"width\":0.5},\"pattern\":{\"fillmode\":\"overlay\",\"size\":10,\"solidity\":0.2}},\"type\":\"barpolar\"}],\"pie\":[{\"automargin\":true,\"type\":\"pie\"}]},\"layout\":{\"autotypenumbers\":\"strict\",\"colorway\":[\"#636efa\",\"#EF553B\",\"#00cc96\",\"#ab63fa\",\"#FFA15A\",\"#19d3f3\",\"#FF6692\",\"#B6E880\",\"#FF97FF\",\"#FECB52\"],\"font\":{\"color\":\"#2a3f5f\"},\"hovermode\":\"closest\",\"hoverlabel\":{\"align\":\"left\"},\"paper_bgcolor\":\"white\",\"plot_bgcolor\":\"#E5ECF6\",\"polar\":{\"bgcolor\":\"#E5ECF6\",\"angularaxis\":{\"gridcolor\":\"white\",\"linecolor\":\"white\",\"ticks\":\"\"},\"radialaxis\":{\"gridcolor\":\"white\",\"linecolor\":\"white\",\"ticks\":\"\"}},\"ternary\":{\"bgcolor\":\"#E5ECF6\",\"aaxis\":{\"gridcolor\":\"white\",\"linecolor\":\"white\",\"ticks\":\"\"},\"baxis\":{\"gridcolor\":\"white\",\"linecolor\":\"white\",\"ticks\":\"\"},\"caxis\":{\"gridcolor\":\"white\",\"linecolor\":\"white\",\"ticks\":\"\"}},\"coloraxis\":{\"colorbar\":{\"outlinewidth\":0,\"ticks\":\"\"}},\"colorscale\":{\"sequential\":[[0.0,\"#0d0887\"],[0.1111111111111111,\"#46039f\"],[0.2222222222222222,\"#7201a8\"],[0.3333333333333333,\"#9c179e\"],[0.4444444444444444,\"#bd3786\"],[0.5555555555555556,\"#d8576b\"],[0.6666666666666666,\"#ed7953\"],[0.7777777777777778,\"#fb9f3a\"],[0.8888888888888888,\"#fdca26\"],[1.0,\"#f0f921\"]],\"sequentialminus\":[[0.0,\"#0d0887\"],[0.1111111111111111,\"#46039f\"],[0.2222222222222222,\"#7201a8\"],[0.3333333333333333,\"#9c179e\"],[0.4444444444444444,\"#bd3786\"],[0.5555555555555556,\"#d8576b\"],[0.6666666666666666,\"#ed7953\"],[0.7777777777777778,\"#fb9f3a\"],[0.8888888888888888,\"#fdca26\"],[1.0,\"#f0f921\"]],\"diverging\":[[0,\"#8e0152\"],[0.1,\"#c51b7d\"],[0.2,\"#de77ae\"],[0.3,\"#f1b6da\"],[0.4,\"#fde0ef\"],[0.5,\"#f7f7f7\"],[0.6,\"#e6f5d0\"],[0.7,\"#b8e186\"],[0.8,\"#7fbc41\"],[0.9,\"#4d9221\"],[1,\"#276419\"]]},\"xaxis\":{\"gridcolor\":\"white\",\"linecolor\":\"white\",\"ticks\":\"\",\"title\":{\"standoff\":15},\"zerolinecolor\":\"white\",\"automargin\":true,\"zerolinewidth\":2},\"yaxis\":{\"gridcolor\":\"white\",\"linecolor\":\"white\",\"ticks\":\"\",\"title\":{\"standoff\":15},\"zerolinecolor\":\"white\",\"automargin\":true,\"zerolinewidth\":2},\"scene\":{\"xaxis\":{\"backgroundcolor\":\"#E5ECF6\",\"gridcolor\":\"white\",\"linecolor\":\"white\",\"showbackground\":true,\"ticks\":\"\",\"zerolinecolor\":\"white\",\"gridwidth\":2},\"yaxis\":{\"backgroundcolor\":\"#E5ECF6\",\"gridcolor\":\"white\",\"linecolor\":\"white\",\"showbackground\":true,\"ticks\":\"\",\"zerolinecolor\":\"white\",\"gridwidth\":2},\"zaxis\":{\"backgroundcolor\":\"#E5ECF6\",\"gridcolor\":\"white\",\"linecolor\":\"white\",\"showbackground\":true,\"ticks\":\"\",\"zerolinecolor\":\"white\",\"gridwidth\":2}},\"shapedefaults\":{\"line\":{\"color\":\"#2a3f5f\"}},\"annotationdefaults\":{\"arrowcolor\":\"#2a3f5f\",\"arrowhead\":0,\"arrowwidth\":1},\"geo\":{\"bgcolor\":\"white\",\"landcolor\":\"#E5ECF6\",\"subunitcolor\":\"white\",\"showland\":true,\"showlakes\":true,\"lakecolor\":\"white\"},\"title\":{\"x\":0.05},\"mapbox\":{\"style\":\"light\"}}},\"xaxis\":{\"anchor\":\"y\",\"domain\":[0.0,1.0],\"title\":{\"text\":\"Match importance, 0 being the first round, 5 finals and 6 superfights\"},\"ticktext\":[\"Other\",\"Quarterfinals\",\"Semifinals\",\"3rd place\",\"Finals\",\"Superfight\"],\"tickvals\":[\"0\",\"1\",\"2\",\"3\",\"4\",\"5\"]},\"yaxis\":{\"anchor\":\"x\",\"domain\":[0.0,1.0],\"title\":{\"text\":\"Win ratio\"}},\"legend\":{\"title\":{\"text\":\"Cluster\"},\"tracegroupgap\":0,\"itemsizing\":\"constant\"},\"margin\":{\"t\":60},\"title\":{\"text\":\"Win ratio by average match importance for fighters\",\"y\":0.95,\"x\":0.5,\"xanchor\":\"center\",\"yanchor\":\"top\"},\"annotations\":[{\"font\":{\"size\":12},\"showarrow\":false,\"text\":\"(Bubble size proportional to total wins)\",\"x\":0.546,\"xref\":\"paper\",\"y\":1.04,\"yref\":\"paper\"}]},                        {\"responsive\": true}                    ).then(function(){\n",
       "                            \n",
       "var gd = document.getElementById('01c44b38-7fc5-4de8-8e7a-2f8025cb9c55');\n",
       "var x = new MutationObserver(function (mutations, observer) {{\n",
       "        var display = window.getComputedStyle(gd).display;\n",
       "        if (!display || display === 'none') {{\n",
       "            console.log([gd, 'removed!']);\n",
       "            Plotly.purge(gd);\n",
       "            observer.disconnect();\n",
       "        }}\n",
       "}});\n",
       "\n",
       "// Listen for the removal of the full notebook cells\n",
       "var notebookContainer = gd.closest('#notebook-container');\n",
       "if (notebookContainer) {{\n",
       "    x.observe(notebookContainer, {childList: true});\n",
       "}}\n",
       "\n",
       "// Listen for the clearing of the current output cell\n",
       "var outputEl = gd.closest('.output');\n",
       "if (outputEl) {{\n",
       "    x.observe(outputEl, {childList: true});\n",
       "}}\n",
       "\n",
       "                        })                };                });            </script>        </div>"
      ]
     },
     "metadata": {},
     "output_type": "display_data"
    }
   ],
   "source": [
    "# Plots the distribution between win ratio and match importance for different clusters\n",
    "data_with_clusters.sort_values(by='Cluster', inplace=True)\n",
    "fig = px.scatter(data_with_clusters, x='avg_match_importance', y='win_ratio', hover_name=\"name\",\n",
    "                 color=data_with_clusters['Cluster'].astype(str), labels={'color': 'Cluster'},\n",
    "                size='total_wins', size_max=40, opacity=0.6)\n",
    "\n",
    "\n",
    "fig.update_layout(\n",
    "    title={\n",
    "        'text': \"Win ratio by average match importance for fighters\",\n",
    "        'y':0.95,\n",
    "        'x':0.5,\n",
    "        'xanchor': 'center',\n",
    "        'yanchor': 'top'\n",
    "    },\n",
    "    xaxis_title=\"Match importance, 0 being the first round, 5 finals and 6 superfights\", yaxis_title=\"Win ratio\"\n",
    "\n",
    ")\n",
    "\n",
    "legend_annotations = [\n",
    "    dict(\n",
    "        x=0.546,\n",
    "        y=1.04,\n",
    "        xref=\"paper\",\n",
    "        yref=\"paper\",\n",
    "        text=f\"(Bubble size proportional to total wins)\",\n",
    "        showarrow=False,\n",
    "        font=dict(size=12),\n",
    "    )]\n",
    "fig.update_layout(annotations=legend_annotations)\n",
    "\n",
    "# Modify the tick names in the x-axis\n",
    "custom_labels = {\n",
    "'0':'Other',\n",
    "'1':'Quarterfinals',\n",
    "'2':'Semifinals',\n",
    "'3':'3rd place',\n",
    "'4':'Finals',\n",
    "'5':'Superfight'\n",
    "}\n",
    "\n",
    "fig.update_xaxes(ticktext=list(custom_labels.values()),\n",
    "                 tickvals=list(custom_labels.keys()))\n",
    "\n",
    "\n",
    "fig.show()"
   ]
  },
  {
   "cell_type": "code",
   "execution_count": 31,
   "id": "c4d7f811",
   "metadata": {
    "_kg_hide-input": true,
    "execution": {
     "iopub.execute_input": "2023-06-16T16:32:46.947690Z",
     "iopub.status.busy": "2023-06-16T16:32:46.946963Z",
     "iopub.status.idle": "2023-06-16T16:32:47.039589Z",
     "shell.execute_reply": "2023-06-16T16:32:47.038491Z"
    },
    "papermill": {
     "duration": 0.125433,
     "end_time": "2023-06-16T16:32:47.041834",
     "exception": false,
     "start_time": "2023-06-16T16:32:46.916401",
     "status": "completed"
    },
    "tags": []
   },
   "outputs": [
    {
     "data": {
      "text/html": [
       "<div>                            <div id=\"8febba5e-ee7f-4de2-b379-035abd70acbe\" class=\"plotly-graph-div\" style=\"height:525px; width:100%;\"></div>            <script type=\"text/javascript\">                require([\"plotly\"], function(Plotly) {                    window.PLOTLYENV=window.PLOTLYENV || {};                                    if (document.getElementById(\"8febba5e-ee7f-4de2-b379-035abd70acbe\")) {                    Plotly.newPlot(                        \"8febba5e-ee7f-4de2-b379-035abd70acbe\",                        [{\"alignmentgroup\":\"True\",\"hovertemplate\":\"<b>%{hovertext}</b><br><br>color=0.0<br>Cluster=%{x}<br>n_titles=%{y}<extra></extra>\",\"hovertext\":[31.0],\"legendgroup\":\"0.0\",\"marker\":{\"color\":\"rgb(27,158,119)\",\"pattern\":{\"shape\":\"\"}},\"name\":\"0.0\",\"offsetgroup\":\"0.0\",\"orientation\":\"v\",\"showlegend\":true,\"textposition\":\"auto\",\"x\":[0.0],\"xaxis\":\"x\",\"y\":[31],\"yaxis\":\"y\",\"type\":\"bar\"},{\"alignmentgroup\":\"True\",\"hovertemplate\":\"<b>%{hovertext}</b><br><br>color=1.0<br>Cluster=%{x}<br>n_titles=%{y}<extra></extra>\",\"hovertext\":[0.0],\"legendgroup\":\"1.0\",\"marker\":{\"color\":\"rgb(217,95,2)\",\"pattern\":{\"shape\":\"\"}},\"name\":\"1.0\",\"offsetgroup\":\"1.0\",\"orientation\":\"v\",\"showlegend\":true,\"textposition\":\"auto\",\"x\":[1.0],\"xaxis\":\"x\",\"y\":[0],\"yaxis\":\"y\",\"type\":\"bar\"},{\"alignmentgroup\":\"True\",\"hovertemplate\":\"<b>%{hovertext}</b><br><br>color=2.0<br>Cluster=%{x}<br>n_titles=%{y}<extra></extra>\",\"hovertext\":[0.0],\"legendgroup\":\"2.0\",\"marker\":{\"color\":\"rgb(117,112,179)\",\"pattern\":{\"shape\":\"\"}},\"name\":\"2.0\",\"offsetgroup\":\"2.0\",\"orientation\":\"v\",\"showlegend\":true,\"textposition\":\"auto\",\"x\":[2.0],\"xaxis\":\"x\",\"y\":[0],\"yaxis\":\"y\",\"type\":\"bar\"},{\"alignmentgroup\":\"True\",\"hovertemplate\":\"<b>%{hovertext}</b><br><br>color=3.0<br>Cluster=%{x}<br>n_titles=%{y}<extra></extra>\",\"hovertext\":[0.0],\"legendgroup\":\"3.0\",\"marker\":{\"color\":\"rgb(231,41,138)\",\"pattern\":{\"shape\":\"\"}},\"name\":\"3.0\",\"offsetgroup\":\"3.0\",\"orientation\":\"v\",\"showlegend\":true,\"textposition\":\"auto\",\"x\":[3.0],\"xaxis\":\"x\",\"y\":[0],\"yaxis\":\"y\",\"type\":\"bar\"},{\"alignmentgroup\":\"True\",\"hovertemplate\":\"<b>%{hovertext}</b><br><br>color=4.0<br>Cluster=%{x}<br>n_titles=%{y}<extra></extra>\",\"hovertext\":[51.0],\"legendgroup\":\"4.0\",\"marker\":{\"color\":\"rgb(102,166,30)\",\"pattern\":{\"shape\":\"\"}},\"name\":\"4.0\",\"offsetgroup\":\"4.0\",\"orientation\":\"v\",\"showlegend\":true,\"textposition\":\"auto\",\"x\":[4.0],\"xaxis\":\"x\",\"y\":[51],\"yaxis\":\"y\",\"type\":\"bar\"},{\"alignmentgroup\":\"True\",\"hovertemplate\":\"<b>%{hovertext}</b><br><br>color=5.0<br>Cluster=%{x}<br>n_titles=%{y}<extra></extra>\",\"hovertext\":[19.0],\"legendgroup\":\"5.0\",\"marker\":{\"color\":\"rgb(230,171,2)\",\"pattern\":{\"shape\":\"\"}},\"name\":\"5.0\",\"offsetgroup\":\"5.0\",\"orientation\":\"v\",\"showlegend\":true,\"textposition\":\"auto\",\"x\":[5.0],\"xaxis\":\"x\",\"y\":[19],\"yaxis\":\"y\",\"type\":\"bar\"}],                        {\"template\":{\"data\":{\"histogram2dcontour\":[{\"type\":\"histogram2dcontour\",\"colorbar\":{\"outlinewidth\":0,\"ticks\":\"\"},\"colorscale\":[[0.0,\"#0d0887\"],[0.1111111111111111,\"#46039f\"],[0.2222222222222222,\"#7201a8\"],[0.3333333333333333,\"#9c179e\"],[0.4444444444444444,\"#bd3786\"],[0.5555555555555556,\"#d8576b\"],[0.6666666666666666,\"#ed7953\"],[0.7777777777777778,\"#fb9f3a\"],[0.8888888888888888,\"#fdca26\"],[1.0,\"#f0f921\"]]}],\"choropleth\":[{\"type\":\"choropleth\",\"colorbar\":{\"outlinewidth\":0,\"ticks\":\"\"}}],\"histogram2d\":[{\"type\":\"histogram2d\",\"colorbar\":{\"outlinewidth\":0,\"ticks\":\"\"},\"colorscale\":[[0.0,\"#0d0887\"],[0.1111111111111111,\"#46039f\"],[0.2222222222222222,\"#7201a8\"],[0.3333333333333333,\"#9c179e\"],[0.4444444444444444,\"#bd3786\"],[0.5555555555555556,\"#d8576b\"],[0.6666666666666666,\"#ed7953\"],[0.7777777777777778,\"#fb9f3a\"],[0.8888888888888888,\"#fdca26\"],[1.0,\"#f0f921\"]]}],\"heatmap\":[{\"type\":\"heatmap\",\"colorbar\":{\"outlinewidth\":0,\"ticks\":\"\"},\"colorscale\":[[0.0,\"#0d0887\"],[0.1111111111111111,\"#46039f\"],[0.2222222222222222,\"#7201a8\"],[0.3333333333333333,\"#9c179e\"],[0.4444444444444444,\"#bd3786\"],[0.5555555555555556,\"#d8576b\"],[0.6666666666666666,\"#ed7953\"],[0.7777777777777778,\"#fb9f3a\"],[0.8888888888888888,\"#fdca26\"],[1.0,\"#f0f921\"]]}],\"heatmapgl\":[{\"type\":\"heatmapgl\",\"colorbar\":{\"outlinewidth\":0,\"ticks\":\"\"},\"colorscale\":[[0.0,\"#0d0887\"],[0.1111111111111111,\"#46039f\"],[0.2222222222222222,\"#7201a8\"],[0.3333333333333333,\"#9c179e\"],[0.4444444444444444,\"#bd3786\"],[0.5555555555555556,\"#d8576b\"],[0.6666666666666666,\"#ed7953\"],[0.7777777777777778,\"#fb9f3a\"],[0.8888888888888888,\"#fdca26\"],[1.0,\"#f0f921\"]]}],\"contourcarpet\":[{\"type\":\"contourcarpet\",\"colorbar\":{\"outlinewidth\":0,\"ticks\":\"\"}}],\"contour\":[{\"type\":\"contour\",\"colorbar\":{\"outlinewidth\":0,\"ticks\":\"\"},\"colorscale\":[[0.0,\"#0d0887\"],[0.1111111111111111,\"#46039f\"],[0.2222222222222222,\"#7201a8\"],[0.3333333333333333,\"#9c179e\"],[0.4444444444444444,\"#bd3786\"],[0.5555555555555556,\"#d8576b\"],[0.6666666666666666,\"#ed7953\"],[0.7777777777777778,\"#fb9f3a\"],[0.8888888888888888,\"#fdca26\"],[1.0,\"#f0f921\"]]}],\"surface\":[{\"type\":\"surface\",\"colorbar\":{\"outlinewidth\":0,\"ticks\":\"\"},\"colorscale\":[[0.0,\"#0d0887\"],[0.1111111111111111,\"#46039f\"],[0.2222222222222222,\"#7201a8\"],[0.3333333333333333,\"#9c179e\"],[0.4444444444444444,\"#bd3786\"],[0.5555555555555556,\"#d8576b\"],[0.6666666666666666,\"#ed7953\"],[0.7777777777777778,\"#fb9f3a\"],[0.8888888888888888,\"#fdca26\"],[1.0,\"#f0f921\"]]}],\"mesh3d\":[{\"type\":\"mesh3d\",\"colorbar\":{\"outlinewidth\":0,\"ticks\":\"\"}}],\"scatter\":[{\"fillpattern\":{\"fillmode\":\"overlay\",\"size\":10,\"solidity\":0.2},\"type\":\"scatter\"}],\"parcoords\":[{\"type\":\"parcoords\",\"line\":{\"colorbar\":{\"outlinewidth\":0,\"ticks\":\"\"}}}],\"scatterpolargl\":[{\"type\":\"scatterpolargl\",\"marker\":{\"colorbar\":{\"outlinewidth\":0,\"ticks\":\"\"}}}],\"bar\":[{\"error_x\":{\"color\":\"#2a3f5f\"},\"error_y\":{\"color\":\"#2a3f5f\"},\"marker\":{\"line\":{\"color\":\"#E5ECF6\",\"width\":0.5},\"pattern\":{\"fillmode\":\"overlay\",\"size\":10,\"solidity\":0.2}},\"type\":\"bar\"}],\"scattergeo\":[{\"type\":\"scattergeo\",\"marker\":{\"colorbar\":{\"outlinewidth\":0,\"ticks\":\"\"}}}],\"scatterpolar\":[{\"type\":\"scatterpolar\",\"marker\":{\"colorbar\":{\"outlinewidth\":0,\"ticks\":\"\"}}}],\"histogram\":[{\"marker\":{\"pattern\":{\"fillmode\":\"overlay\",\"size\":10,\"solidity\":0.2}},\"type\":\"histogram\"}],\"scattergl\":[{\"type\":\"scattergl\",\"marker\":{\"colorbar\":{\"outlinewidth\":0,\"ticks\":\"\"}}}],\"scatter3d\":[{\"type\":\"scatter3d\",\"line\":{\"colorbar\":{\"outlinewidth\":0,\"ticks\":\"\"}},\"marker\":{\"colorbar\":{\"outlinewidth\":0,\"ticks\":\"\"}}}],\"scattermapbox\":[{\"type\":\"scattermapbox\",\"marker\":{\"colorbar\":{\"outlinewidth\":0,\"ticks\":\"\"}}}],\"scatterternary\":[{\"type\":\"scatterternary\",\"marker\":{\"colorbar\":{\"outlinewidth\":0,\"ticks\":\"\"}}}],\"scattercarpet\":[{\"type\":\"scattercarpet\",\"marker\":{\"colorbar\":{\"outlinewidth\":0,\"ticks\":\"\"}}}],\"carpet\":[{\"aaxis\":{\"endlinecolor\":\"#2a3f5f\",\"gridcolor\":\"white\",\"linecolor\":\"white\",\"minorgridcolor\":\"white\",\"startlinecolor\":\"#2a3f5f\"},\"baxis\":{\"endlinecolor\":\"#2a3f5f\",\"gridcolor\":\"white\",\"linecolor\":\"white\",\"minorgridcolor\":\"white\",\"startlinecolor\":\"#2a3f5f\"},\"type\":\"carpet\"}],\"table\":[{\"cells\":{\"fill\":{\"color\":\"#EBF0F8\"},\"line\":{\"color\":\"white\"}},\"header\":{\"fill\":{\"color\":\"#C8D4E3\"},\"line\":{\"color\":\"white\"}},\"type\":\"table\"}],\"barpolar\":[{\"marker\":{\"line\":{\"color\":\"#E5ECF6\",\"width\":0.5},\"pattern\":{\"fillmode\":\"overlay\",\"size\":10,\"solidity\":0.2}},\"type\":\"barpolar\"}],\"pie\":[{\"automargin\":true,\"type\":\"pie\"}]},\"layout\":{\"autotypenumbers\":\"strict\",\"colorway\":[\"#636efa\",\"#EF553B\",\"#00cc96\",\"#ab63fa\",\"#FFA15A\",\"#19d3f3\",\"#FF6692\",\"#B6E880\",\"#FF97FF\",\"#FECB52\"],\"font\":{\"color\":\"#2a3f5f\"},\"hovermode\":\"closest\",\"hoverlabel\":{\"align\":\"left\"},\"paper_bgcolor\":\"white\",\"plot_bgcolor\":\"#E5ECF6\",\"polar\":{\"bgcolor\":\"#E5ECF6\",\"angularaxis\":{\"gridcolor\":\"white\",\"linecolor\":\"white\",\"ticks\":\"\"},\"radialaxis\":{\"gridcolor\":\"white\",\"linecolor\":\"white\",\"ticks\":\"\"}},\"ternary\":{\"bgcolor\":\"#E5ECF6\",\"aaxis\":{\"gridcolor\":\"white\",\"linecolor\":\"white\",\"ticks\":\"\"},\"baxis\":{\"gridcolor\":\"white\",\"linecolor\":\"white\",\"ticks\":\"\"},\"caxis\":{\"gridcolor\":\"white\",\"linecolor\":\"white\",\"ticks\":\"\"}},\"coloraxis\":{\"colorbar\":{\"outlinewidth\":0,\"ticks\":\"\"}},\"colorscale\":{\"sequential\":[[0.0,\"#0d0887\"],[0.1111111111111111,\"#46039f\"],[0.2222222222222222,\"#7201a8\"],[0.3333333333333333,\"#9c179e\"],[0.4444444444444444,\"#bd3786\"],[0.5555555555555556,\"#d8576b\"],[0.6666666666666666,\"#ed7953\"],[0.7777777777777778,\"#fb9f3a\"],[0.8888888888888888,\"#fdca26\"],[1.0,\"#f0f921\"]],\"sequentialminus\":[[0.0,\"#0d0887\"],[0.1111111111111111,\"#46039f\"],[0.2222222222222222,\"#7201a8\"],[0.3333333333333333,\"#9c179e\"],[0.4444444444444444,\"#bd3786\"],[0.5555555555555556,\"#d8576b\"],[0.6666666666666666,\"#ed7953\"],[0.7777777777777778,\"#fb9f3a\"],[0.8888888888888888,\"#fdca26\"],[1.0,\"#f0f921\"]],\"diverging\":[[0,\"#8e0152\"],[0.1,\"#c51b7d\"],[0.2,\"#de77ae\"],[0.3,\"#f1b6da\"],[0.4,\"#fde0ef\"],[0.5,\"#f7f7f7\"],[0.6,\"#e6f5d0\"],[0.7,\"#b8e186\"],[0.8,\"#7fbc41\"],[0.9,\"#4d9221\"],[1,\"#276419\"]]},\"xaxis\":{\"gridcolor\":\"white\",\"linecolor\":\"white\",\"ticks\":\"\",\"title\":{\"standoff\":15},\"zerolinecolor\":\"white\",\"automargin\":true,\"zerolinewidth\":2},\"yaxis\":{\"gridcolor\":\"white\",\"linecolor\":\"white\",\"ticks\":\"\",\"title\":{\"standoff\":15},\"zerolinecolor\":\"white\",\"automargin\":true,\"zerolinewidth\":2},\"scene\":{\"xaxis\":{\"backgroundcolor\":\"#E5ECF6\",\"gridcolor\":\"white\",\"linecolor\":\"white\",\"showbackground\":true,\"ticks\":\"\",\"zerolinecolor\":\"white\",\"gridwidth\":2},\"yaxis\":{\"backgroundcolor\":\"#E5ECF6\",\"gridcolor\":\"white\",\"linecolor\":\"white\",\"showbackground\":true,\"ticks\":\"\",\"zerolinecolor\":\"white\",\"gridwidth\":2},\"zaxis\":{\"backgroundcolor\":\"#E5ECF6\",\"gridcolor\":\"white\",\"linecolor\":\"white\",\"showbackground\":true,\"ticks\":\"\",\"zerolinecolor\":\"white\",\"gridwidth\":2}},\"shapedefaults\":{\"line\":{\"color\":\"#2a3f5f\"}},\"annotationdefaults\":{\"arrowcolor\":\"#2a3f5f\",\"arrowhead\":0,\"arrowwidth\":1},\"geo\":{\"bgcolor\":\"white\",\"landcolor\":\"#E5ECF6\",\"subunitcolor\":\"white\",\"showland\":true,\"showlakes\":true,\"lakecolor\":\"white\"},\"title\":{\"x\":0.05},\"mapbox\":{\"style\":\"light\"}}},\"xaxis\":{\"anchor\":\"y\",\"domain\":[0.0,1.0],\"title\":{\"text\":\"Cluster\"}},\"yaxis\":{\"anchor\":\"x\",\"domain\":[0.0,1.0],\"title\":{\"text\":\"Number of titles\"}},\"legend\":{\"title\":{\"text\":\"color\"},\"tracegroupgap\":0},\"margin\":{\"t\":60},\"barmode\":\"relative\",\"title\":{\"text\":\"Total of titles in each cluster\",\"x\":0.49},\"showlegend\":false},                        {\"responsive\": true}                    ).then(function(){\n",
       "                            \n",
       "var gd = document.getElementById('8febba5e-ee7f-4de2-b379-035abd70acbe');\n",
       "var x = new MutationObserver(function (mutations, observer) {{\n",
       "        var display = window.getComputedStyle(gd).display;\n",
       "        if (!display || display === 'none') {{\n",
       "            console.log([gd, 'removed!']);\n",
       "            Plotly.purge(gd);\n",
       "            observer.disconnect();\n",
       "        }}\n",
       "}});\n",
       "\n",
       "// Listen for the removal of the full notebook cells\n",
       "var notebookContainer = gd.closest('#notebook-container');\n",
       "if (notebookContainer) {{\n",
       "    x.observe(notebookContainer, {childList: true});\n",
       "}}\n",
       "\n",
       "// Listen for the clearing of the current output cell\n",
       "var outputEl = gd.closest('.output');\n",
       "if (outputEl) {{\n",
       "    x.observe(outputEl, {childList: true});\n",
       "}}\n",
       "\n",
       "                        })                };                });            </script>        </div>"
      ]
     },
     "metadata": {},
     "output_type": "display_data"
    }
   ],
   "source": [
    "\n",
    "# Calculate the sum of 'n_titles' for each cluster\n",
    "sum_n_titles = data_with_clusters.groupby('Cluster')['n_titles'].sum().reset_index()\n",
    "\n",
    "\n",
    "# Add missing clusters with sum of n_titles equal to 0\n",
    "all_clusters = data_with_clusters['Cluster'].unique()\n",
    "missing_clusters = list(set(all_clusters) - set(sum_n_titles['Cluster']))\n",
    "\n",
    "missing_data = pd.DataFrame({'Cluster': missing_clusters, 'n_titles': 0})\n",
    "sum_n_titles = pd.concat([sum_n_titles, missing_data])\n",
    "\n",
    "# Sort the DataFrame by cluster values\n",
    "sum_n_titles = sum_n_titles.sort_values('Cluster')\n",
    "\n",
    "fig = px.bar(sum_n_titles, x='Cluster', y='n_titles', color=sum_n_titles['Cluster'].astype(str),\n",
    "             color_discrete_sequence=px.colors.qualitative.Dark2,\n",
    "            hover_name=sum_n_titles['n_titles'])\n",
    "\n",
    "\n",
    "# Customize the chart layout\n",
    "fig.update_layout(\n",
    "    title='Total of titles in each cluster',\n",
    "    xaxis_title='Cluster',\n",
    "    yaxis_title='Number of titles',\n",
    "    showlegend=False\n",
    ")\n",
    "\n",
    "\n",
    "# Hide redundant legend since it displays the same information as x axis\n",
    "fig.update_layout(showlegend=False)\n",
    "fig.update_layout(title_x=0.49)\n",
    "\n",
    "\n",
    "\n",
    "fig.show()"
   ]
  },
  {
   "cell_type": "markdown",
   "id": "7263d271",
   "metadata": {
    "papermill": {
     "duration": 0.029472,
     "end_time": "2023-06-16T16:32:47.100983",
     "exception": false,
     "start_time": "2023-06-16T16:32:47.071511",
     "status": "completed"
    },
    "tags": []
   },
   "source": [
    "It can be seen above that 3 of the clusters a total of 0 titles combined. Further investigation could determine which (if any) specific fighter stats are strongly related to this and thus to title winning in general."
   ]
  },
  {
   "cell_type": "markdown",
   "id": "69412d0a",
   "metadata": {
    "papermill": {
     "duration": 0.029758,
     "end_time": "2023-06-16T16:32:47.160680",
     "exception": false,
     "start_time": "2023-06-16T16:32:47.130922",
     "status": "completed"
    },
    "tags": []
   },
   "source": [
    "# Matches dataset visualization<a id=\"section6\"></a>"
   ]
  },
  {
   "cell_type": "markdown",
   "id": "a37f2de0",
   "metadata": {
    "papermill": {
     "duration": 0.029462,
     "end_time": "2023-06-16T16:32:47.220054",
     "exception": false,
     "start_time": "2023-06-16T16:32:47.190592",
     "status": "completed"
    },
    "tags": []
   },
   "source": [
    "Here another dataset crafted from the same original data source is imported. This data is organized differently, with each recorded match being a row and features being stats on individual matches.  \n",
    "\n",
    "It's available at https://www.kaggle.com/datasets/albucathecoder/adcc-matches  \n",
    "\n",
    "From this point forward the analysis and visualizations will be focused on this dataset."
   ]
  },
  {
   "cell_type": "code",
   "execution_count": 32,
   "id": "9ac0cad3",
   "metadata": {
    "_kg_hide-input": true,
    "execution": {
     "iopub.execute_input": "2023-06-16T16:32:47.282787Z",
     "iopub.status.busy": "2023-06-16T16:32:47.282035Z",
     "iopub.status.idle": "2023-06-16T16:32:47.319890Z",
     "shell.execute_reply": "2023-06-16T16:32:47.318806Z"
    },
    "papermill": {
     "duration": 0.072107,
     "end_time": "2023-06-16T16:32:47.322249",
     "exception": false,
     "start_time": "2023-06-16T16:32:47.250142",
     "status": "completed"
    },
    "tags": []
   },
   "outputs": [
    {
     "data": {
      "text/html": [
       "<div>\n",
       "<style scoped>\n",
       "    .dataframe tbody tr th:only-of-type {\n",
       "        vertical-align: middle;\n",
       "    }\n",
       "\n",
       "    .dataframe tbody tr th {\n",
       "        vertical-align: top;\n",
       "    }\n",
       "\n",
       "    .dataframe thead th {\n",
       "        text-align: right;\n",
       "    }\n",
       "</style>\n",
       "<table border=\"1\" class=\"dataframe\">\n",
       "  <thead>\n",
       "    <tr style=\"text-align: right;\">\n",
       "      <th></th>\n",
       "      <th>victory_method</th>\n",
       "      <th>submission</th>\n",
       "      <th>winner_points</th>\n",
       "      <th>loser_points</th>\n",
       "      <th>female</th>\n",
       "      <th>year</th>\n",
       "      <th>absolute</th>\n",
       "      <th>weight_class</th>\n",
       "      <th>importance</th>\n",
       "      <th>total_points</th>\n",
       "      <th>submission_target</th>\n",
       "      <th>winner_name</th>\n",
       "      <th>loser_name</th>\n",
       "    </tr>\n",
       "  </thead>\n",
       "  <tbody>\n",
       "    <tr>\n",
       "      <th>0</th>\n",
       "      <td>DECISION</td>\n",
       "      <td>NaN</td>\n",
       "      <td>-1</td>\n",
       "      <td>-1</td>\n",
       "      <td>0</td>\n",
       "      <td>2011</td>\n",
       "      <td>1</td>\n",
       "      <td>NaN</td>\n",
       "      <td>1</td>\n",
       "      <td>2</td>\n",
       "      <td>NaN</td>\n",
       "      <td>Murilo Santana</td>\n",
       "      <td>Vinicius Magalhaes</td>\n",
       "    </tr>\n",
       "    <tr>\n",
       "      <th>1</th>\n",
       "      <td>SUBMISSION</td>\n",
       "      <td>Kimura</td>\n",
       "      <td>-1</td>\n",
       "      <td>-1</td>\n",
       "      <td>0</td>\n",
       "      <td>2022</td>\n",
       "      <td>0</td>\n",
       "      <td>3.0</td>\n",
       "      <td>0</td>\n",
       "      <td>2</td>\n",
       "      <td>Arm</td>\n",
       "      <td>Nicholas Meregali</td>\n",
       "      <td>Henrique Cardoso</td>\n",
       "    </tr>\n",
       "    <tr>\n",
       "      <th>2</th>\n",
       "      <td>DECISION</td>\n",
       "      <td>NaN</td>\n",
       "      <td>-1</td>\n",
       "      <td>-1</td>\n",
       "      <td>0</td>\n",
       "      <td>2022</td>\n",
       "      <td>0</td>\n",
       "      <td>3.0</td>\n",
       "      <td>1</td>\n",
       "      <td>2</td>\n",
       "      <td>NaN</td>\n",
       "      <td>Nicholas Meregali</td>\n",
       "      <td>Yuri Simoes</td>\n",
       "    </tr>\n",
       "    <tr>\n",
       "      <th>3</th>\n",
       "      <td>POINTS</td>\n",
       "      <td>NaN</td>\n",
       "      <td>0</td>\n",
       "      <td>0</td>\n",
       "      <td>0</td>\n",
       "      <td>2022</td>\n",
       "      <td>0</td>\n",
       "      <td>3.0</td>\n",
       "      <td>3</td>\n",
       "      <td>0</td>\n",
       "      <td>NaN</td>\n",
       "      <td>Nicholas Meregali</td>\n",
       "      <td>Rafael Lovato Jr</td>\n",
       "    </tr>\n",
       "    <tr>\n",
       "      <th>4</th>\n",
       "      <td>POINTS</td>\n",
       "      <td>NaN</td>\n",
       "      <td>6</td>\n",
       "      <td>2</td>\n",
       "      <td>0</td>\n",
       "      <td>2022</td>\n",
       "      <td>1</td>\n",
       "      <td>NaN</td>\n",
       "      <td>1</td>\n",
       "      <td>8</td>\n",
       "      <td>NaN</td>\n",
       "      <td>Nicholas Meregali</td>\n",
       "      <td>Giancarlo Bodoni</td>\n",
       "    </tr>\n",
       "  </tbody>\n",
       "</table>\n",
       "</div>"
      ],
      "text/plain": [
       "  victory_method submission  winner_points  loser_points  female  year  \\\n",
       "0       DECISION        NaN             -1            -1       0  2011   \n",
       "1     SUBMISSION     Kimura             -1            -1       0  2022   \n",
       "2       DECISION        NaN             -1            -1       0  2022   \n",
       "3         POINTS        NaN              0             0       0  2022   \n",
       "4         POINTS        NaN              6             2       0  2022   \n",
       "\n",
       "   absolute  weight_class  importance  total_points submission_target  \\\n",
       "0         1           NaN           1             2               NaN   \n",
       "1         0           3.0           0             2               Arm   \n",
       "2         0           3.0           1             2               NaN   \n",
       "3         0           3.0           3             0               NaN   \n",
       "4         1           NaN           1             8               NaN   \n",
       "\n",
       "         winner_name          loser_name  \n",
       "0     Murilo Santana  Vinicius Magalhaes  \n",
       "1  Nicholas Meregali    Henrique Cardoso  \n",
       "2  Nicholas Meregali         Yuri Simoes  \n",
       "3  Nicholas Meregali    Rafael Lovato Jr  \n",
       "4  Nicholas Meregali    Giancarlo Bodoni  "
      ]
     },
     "execution_count": 32,
     "metadata": {},
     "output_type": "execute_result"
    }
   ],
   "source": [
    "mdf = pd.read_csv('/kaggle/input/adcc-matches/adcc_matches.csv')\n",
    "mdf.head()"
   ]
  },
  {
   "cell_type": "markdown",
   "id": "f578902c",
   "metadata": {
    "papermill": {
     "duration": 0.029828,
     "end_time": "2023-06-16T16:32:47.382776",
     "exception": false,
     "start_time": "2023-06-16T16:32:47.352948",
     "status": "completed"
    },
    "tags": []
   },
   "source": [
    "### Does the way matches are won change over the years?"
   ]
  },
  {
   "cell_type": "code",
   "execution_count": 33,
   "id": "a4b3a28d",
   "metadata": {
    "_kg_hide-input": true,
    "execution": {
     "iopub.execute_input": "2023-06-16T16:32:47.447817Z",
     "iopub.status.busy": "2023-06-16T16:32:47.447457Z",
     "iopub.status.idle": "2023-06-16T16:32:47.552909Z",
     "shell.execute_reply": "2023-06-16T16:32:47.551949Z"
    },
    "papermill": {
     "duration": 0.142083,
     "end_time": "2023-06-16T16:32:47.555369",
     "exception": false,
     "start_time": "2023-06-16T16:32:47.413286",
     "status": "completed"
    },
    "tags": []
   },
   "outputs": [
    {
     "data": {
      "text/html": [
       "<div>                            <div id=\"b7eb7379-f1d1-4860-9371-2a4a190a03e2\" class=\"plotly-graph-div\" style=\"height:525px; width:100%;\"></div>            <script type=\"text/javascript\">                require([\"plotly\"], function(Plotly) {                    window.PLOTLYENV=window.PLOTLYENV || {};                                    if (document.getElementById(\"b7eb7379-f1d1-4860-9371-2a4a190a03e2\")) {                    Plotly.newPlot(                        \"b7eb7379-f1d1-4860-9371-2a4a190a03e2\",                        [{\"hovertemplate\":\"<b>%{hovertext}</b><br><br>victory_method=DECISION<br>year=%{x}<br>likelihood=%{y}<extra></extra>\",\"hovertext\":[\"DECISION\",\"DECISION\",\"DECISION\",\"DECISION\",\"DECISION\",\"DECISION\",\"DECISION\",\"DECISION\",\"DECISION\",\"DECISION\",\"DECISION\"],\"legendgroup\":\"DECISION\",\"line\":{\"color\":\"rgb(229, 134, 6)\",\"dash\":\"solid\"},\"marker\":{\"symbol\":\"circle\"},\"mode\":\"lines\",\"name\":\"DECISION\",\"orientation\":\"v\",\"showlegend\":true,\"x\":[1998,2000,2001,2003,2007,2011,2013,2015,2017,2019,2022],\"xaxis\":\"x\",\"y\":[4.761904761904762,3.9215686274509802,3.125,3.0303030303030303,3.389830508474576,2.247191011235955,6.896551724137931,22.58064516129032,21.568627450980394,18.269230769230766,16.51376146788991],\"yaxis\":\"y\",\"type\":\"scatter\"},{\"hovertemplate\":\"<b>%{hovertext}</b><br><br>victory_method=POINTS<br>year=%{x}<br>likelihood=%{y}<extra></extra>\",\"hovertext\":[\"POINTS\",\"POINTS\",\"POINTS\",\"POINTS\",\"POINTS\",\"POINTS\",\"POINTS\",\"POINTS\",\"POINTS\",\"POINTS\",\"POINTS\",\"POINTS\",\"POINTS\",\"POINTS\"],\"legendgroup\":\"POINTS\",\"line\":{\"color\":\"rgb(93, 105, 177)\",\"dash\":\"solid\"},\"marker\":{\"symbol\":\"circle\"},\"mode\":\"lines\",\"name\":\"POINTS\",\"orientation\":\"v\",\"showlegend\":true,\"x\":[1998,1999,2000,2001,2003,2005,2007,2009,2011,2013,2015,2017,2019,2022],\"xaxis\":\"x\",\"y\":[42.857142857142854,64.44444444444444,72.54901960784314,53.125,57.57575757575758,45.45454545454545,44.06779661016949,52.77777777777778,53.93258426966292,48.275862068965516,43.01075268817204,50.0,48.07692307692308,44.03669724770643],\"yaxis\":\"y\",\"type\":\"scatter\"},{\"hovertemplate\":\"<b>%{hovertext}</b><br><br>victory_method=SUBMISSION<br>year=%{x}<br>likelihood=%{y}<extra></extra>\",\"hovertext\":[\"SUBMISSION\",\"SUBMISSION\",\"SUBMISSION\",\"SUBMISSION\",\"SUBMISSION\",\"SUBMISSION\",\"SUBMISSION\",\"SUBMISSION\",\"SUBMISSION\",\"SUBMISSION\",\"SUBMISSION\",\"SUBMISSION\",\"SUBMISSION\",\"SUBMISSION\"],\"legendgroup\":\"SUBMISSION\",\"line\":{\"color\":\"rgb(82, 188, 163)\",\"dash\":\"solid\"},\"marker\":{\"symbol\":\"circle\"},\"mode\":\"lines\",\"name\":\"SUBMISSION\",\"orientation\":\"v\",\"showlegend\":true,\"x\":[1998,1999,2000,2001,2003,2005,2007,2009,2011,2013,2015,2017,2019,2022],\"xaxis\":\"x\",\"y\":[52.38095238095239,35.55555555555556,21.568627450980394,42.1875,39.39393939393939,53.03030303030303,52.54237288135594,45.83333333333333,42.69662921348314,44.827586206896555,33.33333333333333,28.431372549019606,33.65384615384615,36.69724770642202],\"yaxis\":\"y\",\"type\":\"scatter\"},{\"hovertemplate\":\"<b>%{hovertext}</b><br><br>victory_method=INJURY<br>year=%{x}<br>likelihood=%{y}<extra></extra>\",\"hovertext\":[\"INJURY\",\"INJURY\",\"INJURY\",\"INJURY\",\"INJURY\",\"INJURY\"],\"legendgroup\":\"INJURY\",\"line\":{\"color\":\"rgb(153, 201, 69)\",\"dash\":\"solid\"},\"marker\":{\"symbol\":\"circle\"},\"mode\":\"lines\",\"name\":\"INJURY\",\"orientation\":\"v\",\"showlegend\":true,\"x\":[2000,2001,2005,2009,2015,2022],\"xaxis\":\"x\",\"y\":[1.9607843137254901,1.5625,1.5151515151515151,1.3888888888888888,1.0752688172043012,2.7522935779816518],\"yaxis\":\"y\",\"type\":\"scatter\"},{\"hovertemplate\":\"<b>%{hovertext}</b><br><br>victory_method=DESQUALIFICATION<br>year=%{x}<br>likelihood=%{y}<extra></extra>\",\"hovertext\":[\"DESQUALIFICATION\"],\"legendgroup\":\"DESQUALIFICATION\",\"line\":{\"color\":\"rgb(204, 97, 176)\",\"dash\":\"solid\"},\"marker\":{\"symbol\":\"circle\"},\"mode\":\"lines\",\"name\":\"DESQUALIFICATION\",\"orientation\":\"v\",\"showlegend\":true,\"x\":[2011],\"xaxis\":\"x\",\"y\":[1.1235955056179776],\"yaxis\":\"y\",\"type\":\"scatter\"}],                        {\"template\":{\"data\":{\"histogram2dcontour\":[{\"type\":\"histogram2dcontour\",\"colorbar\":{\"outlinewidth\":0,\"ticks\":\"\"},\"colorscale\":[[0.0,\"#0d0887\"],[0.1111111111111111,\"#46039f\"],[0.2222222222222222,\"#7201a8\"],[0.3333333333333333,\"#9c179e\"],[0.4444444444444444,\"#bd3786\"],[0.5555555555555556,\"#d8576b\"],[0.6666666666666666,\"#ed7953\"],[0.7777777777777778,\"#fb9f3a\"],[0.8888888888888888,\"#fdca26\"],[1.0,\"#f0f921\"]]}],\"choropleth\":[{\"type\":\"choropleth\",\"colorbar\":{\"outlinewidth\":0,\"ticks\":\"\"}}],\"histogram2d\":[{\"type\":\"histogram2d\",\"colorbar\":{\"outlinewidth\":0,\"ticks\":\"\"},\"colorscale\":[[0.0,\"#0d0887\"],[0.1111111111111111,\"#46039f\"],[0.2222222222222222,\"#7201a8\"],[0.3333333333333333,\"#9c179e\"],[0.4444444444444444,\"#bd3786\"],[0.5555555555555556,\"#d8576b\"],[0.6666666666666666,\"#ed7953\"],[0.7777777777777778,\"#fb9f3a\"],[0.8888888888888888,\"#fdca26\"],[1.0,\"#f0f921\"]]}],\"heatmap\":[{\"type\":\"heatmap\",\"colorbar\":{\"outlinewidth\":0,\"ticks\":\"\"},\"colorscale\":[[0.0,\"#0d0887\"],[0.1111111111111111,\"#46039f\"],[0.2222222222222222,\"#7201a8\"],[0.3333333333333333,\"#9c179e\"],[0.4444444444444444,\"#bd3786\"],[0.5555555555555556,\"#d8576b\"],[0.6666666666666666,\"#ed7953\"],[0.7777777777777778,\"#fb9f3a\"],[0.8888888888888888,\"#fdca26\"],[1.0,\"#f0f921\"]]}],\"heatmapgl\":[{\"type\":\"heatmapgl\",\"colorbar\":{\"outlinewidth\":0,\"ticks\":\"\"},\"colorscale\":[[0.0,\"#0d0887\"],[0.1111111111111111,\"#46039f\"],[0.2222222222222222,\"#7201a8\"],[0.3333333333333333,\"#9c179e\"],[0.4444444444444444,\"#bd3786\"],[0.5555555555555556,\"#d8576b\"],[0.6666666666666666,\"#ed7953\"],[0.7777777777777778,\"#fb9f3a\"],[0.8888888888888888,\"#fdca26\"],[1.0,\"#f0f921\"]]}],\"contourcarpet\":[{\"type\":\"contourcarpet\",\"colorbar\":{\"outlinewidth\":0,\"ticks\":\"\"}}],\"contour\":[{\"type\":\"contour\",\"colorbar\":{\"outlinewidth\":0,\"ticks\":\"\"},\"colorscale\":[[0.0,\"#0d0887\"],[0.1111111111111111,\"#46039f\"],[0.2222222222222222,\"#7201a8\"],[0.3333333333333333,\"#9c179e\"],[0.4444444444444444,\"#bd3786\"],[0.5555555555555556,\"#d8576b\"],[0.6666666666666666,\"#ed7953\"],[0.7777777777777778,\"#fb9f3a\"],[0.8888888888888888,\"#fdca26\"],[1.0,\"#f0f921\"]]}],\"surface\":[{\"type\":\"surface\",\"colorbar\":{\"outlinewidth\":0,\"ticks\":\"\"},\"colorscale\":[[0.0,\"#0d0887\"],[0.1111111111111111,\"#46039f\"],[0.2222222222222222,\"#7201a8\"],[0.3333333333333333,\"#9c179e\"],[0.4444444444444444,\"#bd3786\"],[0.5555555555555556,\"#d8576b\"],[0.6666666666666666,\"#ed7953\"],[0.7777777777777778,\"#fb9f3a\"],[0.8888888888888888,\"#fdca26\"],[1.0,\"#f0f921\"]]}],\"mesh3d\":[{\"type\":\"mesh3d\",\"colorbar\":{\"outlinewidth\":0,\"ticks\":\"\"}}],\"scatter\":[{\"fillpattern\":{\"fillmode\":\"overlay\",\"size\":10,\"solidity\":0.2},\"type\":\"scatter\"}],\"parcoords\":[{\"type\":\"parcoords\",\"line\":{\"colorbar\":{\"outlinewidth\":0,\"ticks\":\"\"}}}],\"scatterpolargl\":[{\"type\":\"scatterpolargl\",\"marker\":{\"colorbar\":{\"outlinewidth\":0,\"ticks\":\"\"}}}],\"bar\":[{\"error_x\":{\"color\":\"#2a3f5f\"},\"error_y\":{\"color\":\"#2a3f5f\"},\"marker\":{\"line\":{\"color\":\"#E5ECF6\",\"width\":0.5},\"pattern\":{\"fillmode\":\"overlay\",\"size\":10,\"solidity\":0.2}},\"type\":\"bar\"}],\"scattergeo\":[{\"type\":\"scattergeo\",\"marker\":{\"colorbar\":{\"outlinewidth\":0,\"ticks\":\"\"}}}],\"scatterpolar\":[{\"type\":\"scatterpolar\",\"marker\":{\"colorbar\":{\"outlinewidth\":0,\"ticks\":\"\"}}}],\"histogram\":[{\"marker\":{\"pattern\":{\"fillmode\":\"overlay\",\"size\":10,\"solidity\":0.2}},\"type\":\"histogram\"}],\"scattergl\":[{\"type\":\"scattergl\",\"marker\":{\"colorbar\":{\"outlinewidth\":0,\"ticks\":\"\"}}}],\"scatter3d\":[{\"type\":\"scatter3d\",\"line\":{\"colorbar\":{\"outlinewidth\":0,\"ticks\":\"\"}},\"marker\":{\"colorbar\":{\"outlinewidth\":0,\"ticks\":\"\"}}}],\"scattermapbox\":[{\"type\":\"scattermapbox\",\"marker\":{\"colorbar\":{\"outlinewidth\":0,\"ticks\":\"\"}}}],\"scatterternary\":[{\"type\":\"scatterternary\",\"marker\":{\"colorbar\":{\"outlinewidth\":0,\"ticks\":\"\"}}}],\"scattercarpet\":[{\"type\":\"scattercarpet\",\"marker\":{\"colorbar\":{\"outlinewidth\":0,\"ticks\":\"\"}}}],\"carpet\":[{\"aaxis\":{\"endlinecolor\":\"#2a3f5f\",\"gridcolor\":\"white\",\"linecolor\":\"white\",\"minorgridcolor\":\"white\",\"startlinecolor\":\"#2a3f5f\"},\"baxis\":{\"endlinecolor\":\"#2a3f5f\",\"gridcolor\":\"white\",\"linecolor\":\"white\",\"minorgridcolor\":\"white\",\"startlinecolor\":\"#2a3f5f\"},\"type\":\"carpet\"}],\"table\":[{\"cells\":{\"fill\":{\"color\":\"#EBF0F8\"},\"line\":{\"color\":\"white\"}},\"header\":{\"fill\":{\"color\":\"#C8D4E3\"},\"line\":{\"color\":\"white\"}},\"type\":\"table\"}],\"barpolar\":[{\"marker\":{\"line\":{\"color\":\"#E5ECF6\",\"width\":0.5},\"pattern\":{\"fillmode\":\"overlay\",\"size\":10,\"solidity\":0.2}},\"type\":\"barpolar\"}],\"pie\":[{\"automargin\":true,\"type\":\"pie\"}]},\"layout\":{\"autotypenumbers\":\"strict\",\"colorway\":[\"#636efa\",\"#EF553B\",\"#00cc96\",\"#ab63fa\",\"#FFA15A\",\"#19d3f3\",\"#FF6692\",\"#B6E880\",\"#FF97FF\",\"#FECB52\"],\"font\":{\"color\":\"#2a3f5f\"},\"hovermode\":\"closest\",\"hoverlabel\":{\"align\":\"left\"},\"paper_bgcolor\":\"white\",\"plot_bgcolor\":\"#E5ECF6\",\"polar\":{\"bgcolor\":\"#E5ECF6\",\"angularaxis\":{\"gridcolor\":\"white\",\"linecolor\":\"white\",\"ticks\":\"\"},\"radialaxis\":{\"gridcolor\":\"white\",\"linecolor\":\"white\",\"ticks\":\"\"}},\"ternary\":{\"bgcolor\":\"#E5ECF6\",\"aaxis\":{\"gridcolor\":\"white\",\"linecolor\":\"white\",\"ticks\":\"\"},\"baxis\":{\"gridcolor\":\"white\",\"linecolor\":\"white\",\"ticks\":\"\"},\"caxis\":{\"gridcolor\":\"white\",\"linecolor\":\"white\",\"ticks\":\"\"}},\"coloraxis\":{\"colorbar\":{\"outlinewidth\":0,\"ticks\":\"\"}},\"colorscale\":{\"sequential\":[[0.0,\"#0d0887\"],[0.1111111111111111,\"#46039f\"],[0.2222222222222222,\"#7201a8\"],[0.3333333333333333,\"#9c179e\"],[0.4444444444444444,\"#bd3786\"],[0.5555555555555556,\"#d8576b\"],[0.6666666666666666,\"#ed7953\"],[0.7777777777777778,\"#fb9f3a\"],[0.8888888888888888,\"#fdca26\"],[1.0,\"#f0f921\"]],\"sequentialminus\":[[0.0,\"#0d0887\"],[0.1111111111111111,\"#46039f\"],[0.2222222222222222,\"#7201a8\"],[0.3333333333333333,\"#9c179e\"],[0.4444444444444444,\"#bd3786\"],[0.5555555555555556,\"#d8576b\"],[0.6666666666666666,\"#ed7953\"],[0.7777777777777778,\"#fb9f3a\"],[0.8888888888888888,\"#fdca26\"],[1.0,\"#f0f921\"]],\"diverging\":[[0,\"#8e0152\"],[0.1,\"#c51b7d\"],[0.2,\"#de77ae\"],[0.3,\"#f1b6da\"],[0.4,\"#fde0ef\"],[0.5,\"#f7f7f7\"],[0.6,\"#e6f5d0\"],[0.7,\"#b8e186\"],[0.8,\"#7fbc41\"],[0.9,\"#4d9221\"],[1,\"#276419\"]]},\"xaxis\":{\"gridcolor\":\"white\",\"linecolor\":\"white\",\"ticks\":\"\",\"title\":{\"standoff\":15},\"zerolinecolor\":\"white\",\"automargin\":true,\"zerolinewidth\":2},\"yaxis\":{\"gridcolor\":\"white\",\"linecolor\":\"white\",\"ticks\":\"\",\"title\":{\"standoff\":15},\"zerolinecolor\":\"white\",\"automargin\":true,\"zerolinewidth\":2},\"scene\":{\"xaxis\":{\"backgroundcolor\":\"#E5ECF6\",\"gridcolor\":\"white\",\"linecolor\":\"white\",\"showbackground\":true,\"ticks\":\"\",\"zerolinecolor\":\"white\",\"gridwidth\":2},\"yaxis\":{\"backgroundcolor\":\"#E5ECF6\",\"gridcolor\":\"white\",\"linecolor\":\"white\",\"showbackground\":true,\"ticks\":\"\",\"zerolinecolor\":\"white\",\"gridwidth\":2},\"zaxis\":{\"backgroundcolor\":\"#E5ECF6\",\"gridcolor\":\"white\",\"linecolor\":\"white\",\"showbackground\":true,\"ticks\":\"\",\"zerolinecolor\":\"white\",\"gridwidth\":2}},\"shapedefaults\":{\"line\":{\"color\":\"#2a3f5f\"}},\"annotationdefaults\":{\"arrowcolor\":\"#2a3f5f\",\"arrowhead\":0,\"arrowwidth\":1},\"geo\":{\"bgcolor\":\"white\",\"landcolor\":\"#E5ECF6\",\"subunitcolor\":\"white\",\"showland\":true,\"showlakes\":true,\"lakecolor\":\"white\"},\"title\":{\"x\":0.05},\"mapbox\":{\"style\":\"light\"}}},\"xaxis\":{\"anchor\":\"y\",\"domain\":[0.0,1.0],\"title\":{\"text\":\"Year\"}},\"yaxis\":{\"anchor\":\"x\",\"domain\":[0.0,1.0],\"title\":{\"text\":\"Victory method (%)\"}},\"legend\":{\"title\":{\"text\":\"Win by\"},\"tracegroupgap\":0,\"x\":0.75,\"y\":0.99,\"bgcolor\":\"rgba(0, 0, 0, 0)\"},\"margin\":{\"t\":60},\"title\":{\"x\":0.49,\"text\":\"Probability of each victory type over the years\"}},                        {\"responsive\": true}                    ).then(function(){\n",
       "                            \n",
       "var gd = document.getElementById('b7eb7379-f1d1-4860-9371-2a4a190a03e2');\n",
       "var x = new MutationObserver(function (mutations, observer) {{\n",
       "        var display = window.getComputedStyle(gd).display;\n",
       "        if (!display || display === 'none') {{\n",
       "            console.log([gd, 'removed!']);\n",
       "            Plotly.purge(gd);\n",
       "            observer.disconnect();\n",
       "        }}\n",
       "}});\n",
       "\n",
       "// Listen for the removal of the full notebook cells\n",
       "var notebookContainer = gd.closest('#notebook-container');\n",
       "if (notebookContainer) {{\n",
       "    x.observe(notebookContainer, {childList: true});\n",
       "}}\n",
       "\n",
       "// Listen for the clearing of the current output cell\n",
       "var outputEl = gd.closest('.output');\n",
       "if (outputEl) {{\n",
       "    x.observe(outputEl, {childList: true});\n",
       "}}\n",
       "\n",
       "                        })                };                });            </script>        </div>"
      ]
     },
     "metadata": {},
     "output_type": "display_data"
    }
   ],
   "source": [
    "# Calculate likelihood for each victory type\n",
    "likelihood_mdf = mdf.groupby(['year', 'victory_method']).size().div(mdf.groupby('year').size(), level='year').reset_index(name='likelihood')\n",
    "likelihood_mdf['likelihood'] *= 100\n",
    "\n",
    "# Plotlines using plotly express\n",
    "fig = px.line(likelihood_mdf, x='year', y='likelihood', color='victory_method',\n",
    "              hover_name='victory_method',\n",
    "              color_discrete_sequence=px.colors.qualitative.Vivid)\n",
    "\n",
    "\n",
    "fig.update_yaxes(title_text='Victory method (%)')\n",
    "fig.update_xaxes(title_text='Year')\n",
    "\n",
    "fig.update_layout(\n",
    "    legend=dict(x=0.75, y=0.99,bgcolor='rgba(0, 0, 0, 0)'),\n",
    "    legend_title_text=\"Win by\", title_x=0.49,\n",
    "    title_text='Probability of each victory type over the years'\n",
    "\n",
    ")\n",
    "\n",
    "\n",
    "fig.show()"
   ]
  },
  {
   "cell_type": "markdown",
   "id": "97144dbd",
   "metadata": {
    "papermill": {
     "duration": 0.030018,
     "end_time": "2023-06-16T16:32:47.615713",
     "exception": false,
     "start_time": "2023-06-16T16:32:47.585695",
     "status": "completed"
    },
    "tags": []
   },
   "source": [
    "Only 1998, 2005 and 2007 editions had the most of its matches ended by submission, which is commonly associated with the most exciting matches to watch.  \n",
    "Decision victory (when there's no submission and no points difference between the fighters) had a surge from 2011 to 2015 and it's been since stable at a considerable likelihood level.  \n",
    "2000 edition standout with more than 70% of matches being decided by points."
   ]
  },
  {
   "cell_type": "code",
   "execution_count": 34,
   "id": "25de4e12",
   "metadata": {
    "_kg_hide-input": true,
    "execution": {
     "iopub.execute_input": "2023-06-16T16:32:47.678542Z",
     "iopub.status.busy": "2023-06-16T16:32:47.677883Z",
     "iopub.status.idle": "2023-06-16T16:32:47.768304Z",
     "shell.execute_reply": "2023-06-16T16:32:47.767196Z"
    },
    "papermill": {
     "duration": 0.124545,
     "end_time": "2023-06-16T16:32:47.770566",
     "exception": false,
     "start_time": "2023-06-16T16:32:47.646021",
     "status": "completed"
    },
    "tags": []
   },
   "outputs": [
    {
     "data": {
      "text/html": [
       "<div>                            <div id=\"79acb6c6-51ea-4bb3-945b-a0830f5d9eee\" class=\"plotly-graph-div\" style=\"height:525px; width:100%;\"></div>            <script type=\"text/javascript\">                require([\"plotly\"], function(Plotly) {                    window.PLOTLYENV=window.PLOTLYENV || {};                                    if (document.getElementById(\"79acb6c6-51ea-4bb3-945b-a0830f5d9eee\")) {                    Plotly.newPlot(                        \"79acb6c6-51ea-4bb3-945b-a0830f5d9eee\",                        [{\"alignmentgroup\":\"True\",\"customdata\":[[\"DECISION\"],[\"DECISION\"],[\"DECISION\"],[\"DECISION\"],[\"DECISION\"],[\"DECISION\"],[\"DECISION\"],[\"DECISION\"],[\"DECISION\"],[\"DECISION\"],[\"DECISION\"]],\"hovertemplate\":\"Victory Method=%{customdata[0]}<br>Year=%{x}<br>Probability (%)=%{y:.2f}<extra></extra>\",\"legendgroup\":\"DECISION\",\"marker\":{\"color\":\"rgb(127, 60, 141)\",\"pattern\":{\"shape\":\"\"}},\"name\":\"DECISION\",\"offsetgroup\":\"DECISION\",\"orientation\":\"v\",\"showlegend\":true,\"textposition\":\"auto\",\"x\":[1998,2000,2001,2003,2007,2011,2013,2015,2017,2019,2022],\"xaxis\":\"x\",\"y\":[4.761904761904762,3.9215686274509802,3.125,3.0303030303030303,3.389830508474576,2.247191011235955,6.896551724137931,22.58064516129032,21.568627450980394,18.269230769230766,16.51376146788991],\"yaxis\":\"y\",\"type\":\"bar\"},{\"alignmentgroup\":\"True\",\"customdata\":[[\"POINTS\"],[\"POINTS\"],[\"POINTS\"],[\"POINTS\"],[\"POINTS\"],[\"POINTS\"],[\"POINTS\"],[\"POINTS\"],[\"POINTS\"],[\"POINTS\"],[\"POINTS\"],[\"POINTS\"],[\"POINTS\"],[\"POINTS\"]],\"hovertemplate\":\"Victory Method=%{customdata[0]}<br>Year=%{x}<br>Probability (%)=%{y:.2f}<extra></extra>\",\"legendgroup\":\"POINTS\",\"marker\":{\"color\":\"rgb(17, 165, 121)\",\"pattern\":{\"shape\":\"\"}},\"name\":\"POINTS\",\"offsetgroup\":\"POINTS\",\"orientation\":\"v\",\"showlegend\":true,\"textposition\":\"auto\",\"x\":[1998,1999,2000,2001,2003,2005,2007,2009,2011,2013,2015,2017,2019,2022],\"xaxis\":\"x\",\"y\":[42.857142857142854,64.44444444444444,72.54901960784314,53.125,57.57575757575758,45.45454545454545,44.06779661016949,52.77777777777778,53.93258426966292,48.275862068965516,43.01075268817204,50.0,48.07692307692308,44.03669724770643],\"yaxis\":\"y\",\"type\":\"bar\"},{\"alignmentgroup\":\"True\",\"customdata\":[[\"SUBMISSION\"],[\"SUBMISSION\"],[\"SUBMISSION\"],[\"SUBMISSION\"],[\"SUBMISSION\"],[\"SUBMISSION\"],[\"SUBMISSION\"],[\"SUBMISSION\"],[\"SUBMISSION\"],[\"SUBMISSION\"],[\"SUBMISSION\"],[\"SUBMISSION\"],[\"SUBMISSION\"],[\"SUBMISSION\"]],\"hovertemplate\":\"Victory Method=%{customdata[0]}<br>Year=%{x}<br>Probability (%)=%{y:.2f}<extra></extra>\",\"legendgroup\":\"SUBMISSION\",\"marker\":{\"color\":\"rgb(57, 105, 172)\",\"pattern\":{\"shape\":\"\"}},\"name\":\"SUBMISSION\",\"offsetgroup\":\"SUBMISSION\",\"orientation\":\"v\",\"showlegend\":true,\"textposition\":\"auto\",\"x\":[1998,1999,2000,2001,2003,2005,2007,2009,2011,2013,2015,2017,2019,2022],\"xaxis\":\"x\",\"y\":[52.38095238095239,35.55555555555556,21.568627450980394,42.1875,39.39393939393939,53.03030303030303,52.54237288135594,45.83333333333333,42.69662921348314,44.827586206896555,33.33333333333333,28.431372549019606,33.65384615384615,36.69724770642202],\"yaxis\":\"y\",\"type\":\"bar\"},{\"alignmentgroup\":\"True\",\"customdata\":[[\"INJURY\"],[\"INJURY\"],[\"INJURY\"],[\"INJURY\"],[\"INJURY\"],[\"INJURY\"]],\"hovertemplate\":\"Victory Method=%{customdata[0]}<br>Year=%{x}<br>Probability (%)=%{y:.2f}<extra></extra>\",\"legendgroup\":\"INJURY\",\"marker\":{\"color\":\"rgb(242, 183, 1)\",\"pattern\":{\"shape\":\"\"}},\"name\":\"INJURY\",\"offsetgroup\":\"INJURY\",\"orientation\":\"v\",\"showlegend\":true,\"textposition\":\"auto\",\"x\":[2000,2001,2005,2009,2015,2022],\"xaxis\":\"x\",\"y\":[1.9607843137254901,1.5625,1.5151515151515151,1.3888888888888888,1.0752688172043012,2.7522935779816518],\"yaxis\":\"y\",\"type\":\"bar\"},{\"alignmentgroup\":\"True\",\"customdata\":[[\"DESQUALIFICATION\"]],\"hovertemplate\":\"Victory Method=%{customdata[0]}<br>Year=%{x}<br>Probability (%)=%{y:.2f}<extra></extra>\",\"legendgroup\":\"DESQUALIFICATION\",\"marker\":{\"color\":\"rgb(231, 63, 116)\",\"pattern\":{\"shape\":\"\"}},\"name\":\"DESQUALIFICATION\",\"offsetgroup\":\"DESQUALIFICATION\",\"orientation\":\"v\",\"showlegend\":true,\"textposition\":\"auto\",\"x\":[2011],\"xaxis\":\"x\",\"y\":[1.1235955056179776],\"yaxis\":\"y\",\"type\":\"bar\"}],                        {\"template\":{\"data\":{\"histogram2dcontour\":[{\"type\":\"histogram2dcontour\",\"colorbar\":{\"outlinewidth\":0,\"ticks\":\"\"},\"colorscale\":[[0.0,\"#0d0887\"],[0.1111111111111111,\"#46039f\"],[0.2222222222222222,\"#7201a8\"],[0.3333333333333333,\"#9c179e\"],[0.4444444444444444,\"#bd3786\"],[0.5555555555555556,\"#d8576b\"],[0.6666666666666666,\"#ed7953\"],[0.7777777777777778,\"#fb9f3a\"],[0.8888888888888888,\"#fdca26\"],[1.0,\"#f0f921\"]]}],\"choropleth\":[{\"type\":\"choropleth\",\"colorbar\":{\"outlinewidth\":0,\"ticks\":\"\"}}],\"histogram2d\":[{\"type\":\"histogram2d\",\"colorbar\":{\"outlinewidth\":0,\"ticks\":\"\"},\"colorscale\":[[0.0,\"#0d0887\"],[0.1111111111111111,\"#46039f\"],[0.2222222222222222,\"#7201a8\"],[0.3333333333333333,\"#9c179e\"],[0.4444444444444444,\"#bd3786\"],[0.5555555555555556,\"#d8576b\"],[0.6666666666666666,\"#ed7953\"],[0.7777777777777778,\"#fb9f3a\"],[0.8888888888888888,\"#fdca26\"],[1.0,\"#f0f921\"]]}],\"heatmap\":[{\"type\":\"heatmap\",\"colorbar\":{\"outlinewidth\":0,\"ticks\":\"\"},\"colorscale\":[[0.0,\"#0d0887\"],[0.1111111111111111,\"#46039f\"],[0.2222222222222222,\"#7201a8\"],[0.3333333333333333,\"#9c179e\"],[0.4444444444444444,\"#bd3786\"],[0.5555555555555556,\"#d8576b\"],[0.6666666666666666,\"#ed7953\"],[0.7777777777777778,\"#fb9f3a\"],[0.8888888888888888,\"#fdca26\"],[1.0,\"#f0f921\"]]}],\"heatmapgl\":[{\"type\":\"heatmapgl\",\"colorbar\":{\"outlinewidth\":0,\"ticks\":\"\"},\"colorscale\":[[0.0,\"#0d0887\"],[0.1111111111111111,\"#46039f\"],[0.2222222222222222,\"#7201a8\"],[0.3333333333333333,\"#9c179e\"],[0.4444444444444444,\"#bd3786\"],[0.5555555555555556,\"#d8576b\"],[0.6666666666666666,\"#ed7953\"],[0.7777777777777778,\"#fb9f3a\"],[0.8888888888888888,\"#fdca26\"],[1.0,\"#f0f921\"]]}],\"contourcarpet\":[{\"type\":\"contourcarpet\",\"colorbar\":{\"outlinewidth\":0,\"ticks\":\"\"}}],\"contour\":[{\"type\":\"contour\",\"colorbar\":{\"outlinewidth\":0,\"ticks\":\"\"},\"colorscale\":[[0.0,\"#0d0887\"],[0.1111111111111111,\"#46039f\"],[0.2222222222222222,\"#7201a8\"],[0.3333333333333333,\"#9c179e\"],[0.4444444444444444,\"#bd3786\"],[0.5555555555555556,\"#d8576b\"],[0.6666666666666666,\"#ed7953\"],[0.7777777777777778,\"#fb9f3a\"],[0.8888888888888888,\"#fdca26\"],[1.0,\"#f0f921\"]]}],\"surface\":[{\"type\":\"surface\",\"colorbar\":{\"outlinewidth\":0,\"ticks\":\"\"},\"colorscale\":[[0.0,\"#0d0887\"],[0.1111111111111111,\"#46039f\"],[0.2222222222222222,\"#7201a8\"],[0.3333333333333333,\"#9c179e\"],[0.4444444444444444,\"#bd3786\"],[0.5555555555555556,\"#d8576b\"],[0.6666666666666666,\"#ed7953\"],[0.7777777777777778,\"#fb9f3a\"],[0.8888888888888888,\"#fdca26\"],[1.0,\"#f0f921\"]]}],\"mesh3d\":[{\"type\":\"mesh3d\",\"colorbar\":{\"outlinewidth\":0,\"ticks\":\"\"}}],\"scatter\":[{\"fillpattern\":{\"fillmode\":\"overlay\",\"size\":10,\"solidity\":0.2},\"type\":\"scatter\"}],\"parcoords\":[{\"type\":\"parcoords\",\"line\":{\"colorbar\":{\"outlinewidth\":0,\"ticks\":\"\"}}}],\"scatterpolargl\":[{\"type\":\"scatterpolargl\",\"marker\":{\"colorbar\":{\"outlinewidth\":0,\"ticks\":\"\"}}}],\"bar\":[{\"error_x\":{\"color\":\"#2a3f5f\"},\"error_y\":{\"color\":\"#2a3f5f\"},\"marker\":{\"line\":{\"color\":\"#E5ECF6\",\"width\":0.5},\"pattern\":{\"fillmode\":\"overlay\",\"size\":10,\"solidity\":0.2}},\"type\":\"bar\"}],\"scattergeo\":[{\"type\":\"scattergeo\",\"marker\":{\"colorbar\":{\"outlinewidth\":0,\"ticks\":\"\"}}}],\"scatterpolar\":[{\"type\":\"scatterpolar\",\"marker\":{\"colorbar\":{\"outlinewidth\":0,\"ticks\":\"\"}}}],\"histogram\":[{\"marker\":{\"pattern\":{\"fillmode\":\"overlay\",\"size\":10,\"solidity\":0.2}},\"type\":\"histogram\"}],\"scattergl\":[{\"type\":\"scattergl\",\"marker\":{\"colorbar\":{\"outlinewidth\":0,\"ticks\":\"\"}}}],\"scatter3d\":[{\"type\":\"scatter3d\",\"line\":{\"colorbar\":{\"outlinewidth\":0,\"ticks\":\"\"}},\"marker\":{\"colorbar\":{\"outlinewidth\":0,\"ticks\":\"\"}}}],\"scattermapbox\":[{\"type\":\"scattermapbox\",\"marker\":{\"colorbar\":{\"outlinewidth\":0,\"ticks\":\"\"}}}],\"scatterternary\":[{\"type\":\"scatterternary\",\"marker\":{\"colorbar\":{\"outlinewidth\":0,\"ticks\":\"\"}}}],\"scattercarpet\":[{\"type\":\"scattercarpet\",\"marker\":{\"colorbar\":{\"outlinewidth\":0,\"ticks\":\"\"}}}],\"carpet\":[{\"aaxis\":{\"endlinecolor\":\"#2a3f5f\",\"gridcolor\":\"white\",\"linecolor\":\"white\",\"minorgridcolor\":\"white\",\"startlinecolor\":\"#2a3f5f\"},\"baxis\":{\"endlinecolor\":\"#2a3f5f\",\"gridcolor\":\"white\",\"linecolor\":\"white\",\"minorgridcolor\":\"white\",\"startlinecolor\":\"#2a3f5f\"},\"type\":\"carpet\"}],\"table\":[{\"cells\":{\"fill\":{\"color\":\"#EBF0F8\"},\"line\":{\"color\":\"white\"}},\"header\":{\"fill\":{\"color\":\"#C8D4E3\"},\"line\":{\"color\":\"white\"}},\"type\":\"table\"}],\"barpolar\":[{\"marker\":{\"line\":{\"color\":\"#E5ECF6\",\"width\":0.5},\"pattern\":{\"fillmode\":\"overlay\",\"size\":10,\"solidity\":0.2}},\"type\":\"barpolar\"}],\"pie\":[{\"automargin\":true,\"type\":\"pie\"}]},\"layout\":{\"autotypenumbers\":\"strict\",\"colorway\":[\"#636efa\",\"#EF553B\",\"#00cc96\",\"#ab63fa\",\"#FFA15A\",\"#19d3f3\",\"#FF6692\",\"#B6E880\",\"#FF97FF\",\"#FECB52\"],\"font\":{\"color\":\"#2a3f5f\"},\"hovermode\":\"closest\",\"hoverlabel\":{\"align\":\"left\"},\"paper_bgcolor\":\"white\",\"plot_bgcolor\":\"#E5ECF6\",\"polar\":{\"bgcolor\":\"#E5ECF6\",\"angularaxis\":{\"gridcolor\":\"white\",\"linecolor\":\"white\",\"ticks\":\"\"},\"radialaxis\":{\"gridcolor\":\"white\",\"linecolor\":\"white\",\"ticks\":\"\"}},\"ternary\":{\"bgcolor\":\"#E5ECF6\",\"aaxis\":{\"gridcolor\":\"white\",\"linecolor\":\"white\",\"ticks\":\"\"},\"baxis\":{\"gridcolor\":\"white\",\"linecolor\":\"white\",\"ticks\":\"\"},\"caxis\":{\"gridcolor\":\"white\",\"linecolor\":\"white\",\"ticks\":\"\"}},\"coloraxis\":{\"colorbar\":{\"outlinewidth\":0,\"ticks\":\"\"}},\"colorscale\":{\"sequential\":[[0.0,\"#0d0887\"],[0.1111111111111111,\"#46039f\"],[0.2222222222222222,\"#7201a8\"],[0.3333333333333333,\"#9c179e\"],[0.4444444444444444,\"#bd3786\"],[0.5555555555555556,\"#d8576b\"],[0.6666666666666666,\"#ed7953\"],[0.7777777777777778,\"#fb9f3a\"],[0.8888888888888888,\"#fdca26\"],[1.0,\"#f0f921\"]],\"sequentialminus\":[[0.0,\"#0d0887\"],[0.1111111111111111,\"#46039f\"],[0.2222222222222222,\"#7201a8\"],[0.3333333333333333,\"#9c179e\"],[0.4444444444444444,\"#bd3786\"],[0.5555555555555556,\"#d8576b\"],[0.6666666666666666,\"#ed7953\"],[0.7777777777777778,\"#fb9f3a\"],[0.8888888888888888,\"#fdca26\"],[1.0,\"#f0f921\"]],\"diverging\":[[0,\"#8e0152\"],[0.1,\"#c51b7d\"],[0.2,\"#de77ae\"],[0.3,\"#f1b6da\"],[0.4,\"#fde0ef\"],[0.5,\"#f7f7f7\"],[0.6,\"#e6f5d0\"],[0.7,\"#b8e186\"],[0.8,\"#7fbc41\"],[0.9,\"#4d9221\"],[1,\"#276419\"]]},\"xaxis\":{\"gridcolor\":\"white\",\"linecolor\":\"white\",\"ticks\":\"\",\"title\":{\"standoff\":15},\"zerolinecolor\":\"white\",\"automargin\":true,\"zerolinewidth\":2},\"yaxis\":{\"gridcolor\":\"white\",\"linecolor\":\"white\",\"ticks\":\"\",\"title\":{\"standoff\":15},\"zerolinecolor\":\"white\",\"automargin\":true,\"zerolinewidth\":2},\"scene\":{\"xaxis\":{\"backgroundcolor\":\"#E5ECF6\",\"gridcolor\":\"white\",\"linecolor\":\"white\",\"showbackground\":true,\"ticks\":\"\",\"zerolinecolor\":\"white\",\"gridwidth\":2},\"yaxis\":{\"backgroundcolor\":\"#E5ECF6\",\"gridcolor\":\"white\",\"linecolor\":\"white\",\"showbackground\":true,\"ticks\":\"\",\"zerolinecolor\":\"white\",\"gridwidth\":2},\"zaxis\":{\"backgroundcolor\":\"#E5ECF6\",\"gridcolor\":\"white\",\"linecolor\":\"white\",\"showbackground\":true,\"ticks\":\"\",\"zerolinecolor\":\"white\",\"gridwidth\":2}},\"shapedefaults\":{\"line\":{\"color\":\"#2a3f5f\"}},\"annotationdefaults\":{\"arrowcolor\":\"#2a3f5f\",\"arrowhead\":0,\"arrowwidth\":1},\"geo\":{\"bgcolor\":\"white\",\"landcolor\":\"#E5ECF6\",\"subunitcolor\":\"white\",\"showland\":true,\"showlakes\":true,\"lakecolor\":\"white\"},\"title\":{\"x\":0.05},\"mapbox\":{\"style\":\"light\"}}},\"xaxis\":{\"anchor\":\"y\",\"domain\":[0.0,1.0],\"title\":{\"text\":\"Year\"}},\"yaxis\":{\"anchor\":\"x\",\"domain\":[0.0,1.0],\"title\":{\"text\":\"Probability (%)\"}},\"legend\":{\"title\":{\"text\":\"Victory Method\"},\"tracegroupgap\":0},\"title\":{\"text\":\"Proportion of Victory Methods over the Years\",\"x\":0.49},\"barmode\":\"stack\"},                        {\"responsive\": true}                    ).then(function(){\n",
       "                            \n",
       "var gd = document.getElementById('79acb6c6-51ea-4bb3-945b-a0830f5d9eee');\n",
       "var x = new MutationObserver(function (mutations, observer) {{\n",
       "        var display = window.getComputedStyle(gd).display;\n",
       "        if (!display || display === 'none') {{\n",
       "            console.log([gd, 'removed!']);\n",
       "            Plotly.purge(gd);\n",
       "            observer.disconnect();\n",
       "        }}\n",
       "}});\n",
       "\n",
       "// Listen for the removal of the full notebook cells\n",
       "var notebookContainer = gd.closest('#notebook-container');\n",
       "if (notebookContainer) {{\n",
       "    x.observe(notebookContainer, {childList: true});\n",
       "}}\n",
       "\n",
       "// Listen for the clearing of the current output cell\n",
       "var outputEl = gd.closest('.output');\n",
       "if (outputEl) {{\n",
       "    x.observe(outputEl, {childList: true});\n",
       "}}\n",
       "\n",
       "                        })                };                });            </script>        </div>"
      ]
     },
     "metadata": {},
     "output_type": "display_data"
    }
   ],
   "source": [
    "# Calculate likelihood for each category over the years and convert to percentages\n",
    "likelihood_mdf = mdf.groupby(['year', 'victory_method']).size().div(mdf.groupby('year').size(), level='year').reset_index(name='likelihood')\n",
    "likelihood_mdf['likelihood'] *= 100\n",
    "\n",
    "# Create stacked bar chart using plotly express\n",
    "fig = px.bar(likelihood_mdf, x='year', y='likelihood', color='victory_method',\n",
    "            labels={'year': 'Year', 'likelihood': 'Probability (%)', 'victory_method': 'Victory Method'},\n",
    "            title='Proportion of Victory Methods over the Years',\n",
    "            hover_data={'year': True, 'likelihood': ':.2f', 'victory_method': True},\n",
    "            barmode='stack',\n",
    "            color_discrete_sequence=px.colors.qualitative.Bold\n",
    "            )\n",
    "\n",
    "fig.update_layout(title_x=0.49)\n",
    "\n",
    "\n",
    "fig.show()"
   ]
  },
  {
   "cell_type": "markdown",
   "id": "d122087c",
   "metadata": {
    "papermill": {
     "duration": 0.030282,
     "end_time": "2023-06-16T16:32:47.831388",
     "exception": false,
     "start_time": "2023-06-16T16:32:47.801106",
     "status": "completed"
    },
    "tags": []
   },
   "source": [
    "The plot above is an alternative way of visualizing the same information from the previous one.  \n",
    "It shows that up to 2011, the proportions of submission and points victories was going back and forth against one another.  \n",
    "With the rise of decision victories, this got more complex."
   ]
  },
  {
   "cell_type": "markdown",
   "id": "c0aa5d8b",
   "metadata": {
    "papermill": {
     "duration": 0.030072,
     "end_time": "2023-06-16T16:32:47.891885",
     "exception": false,
     "start_time": "2023-06-16T16:32:47.861813",
     "status": "completed"
    },
    "tags": []
   },
   "source": [
    "### Do athletes targets for submissions change over the years?"
   ]
  },
  {
   "cell_type": "code",
   "execution_count": 35,
   "id": "257e05b1",
   "metadata": {
    "_kg_hide-input": true,
    "execution": {
     "iopub.execute_input": "2023-06-16T16:32:47.957981Z",
     "iopub.status.busy": "2023-06-16T16:32:47.956955Z",
     "iopub.status.idle": "2023-06-16T16:32:48.041195Z",
     "shell.execute_reply": "2023-06-16T16:32:48.040101Z"
    },
    "papermill": {
     "duration": 0.120734,
     "end_time": "2023-06-16T16:32:48.043727",
     "exception": false,
     "start_time": "2023-06-16T16:32:47.922993",
     "status": "completed"
    },
    "tags": []
   },
   "outputs": [
    {
     "data": {
      "text/html": [
       "<div>                            <div id=\"ca0c9cf6-2146-42f4-8e2d-c32caa947f90\" class=\"plotly-graph-div\" style=\"height:525px; width:100%;\"></div>            <script type=\"text/javascript\">                require([\"plotly\"], function(Plotly) {                    window.PLOTLYENV=window.PLOTLYENV || {};                                    if (document.getElementById(\"ca0c9cf6-2146-42f4-8e2d-c32caa947f90\")) {                    Plotly.newPlot(                        \"ca0c9cf6-2146-42f4-8e2d-c32caa947f90\",                        [{\"hovertemplate\":\"<b>%{hovertext}</b><br><br>submission_target=Arm<br>year=%{x}<br>likelihood=%{y}<extra></extra>\",\"hovertext\":[\"Arm\",\"Arm\",\"Arm\",\"Arm\",\"Arm\",\"Arm\",\"Arm\",\"Arm\",\"Arm\",\"Arm\",\"Arm\",\"Arm\",\"Arm\"],\"legendgroup\":\"Arm\",\"line\":{\"color\":\"#636efa\",\"dash\":\"solid\"},\"marker\":{\"symbol\":\"circle\"},\"mode\":\"lines\",\"name\":\"Arm\",\"orientation\":\"v\",\"showlegend\":true,\"x\":[1998,1999,2001,2003,2005,2007,2009,2011,2013,2015,2017,2019,2022],\"xaxis\":\"x\",\"y\":[23.809523809523807,6.666666666666667,10.9375,7.575757575757576,15.151515151515152,11.864406779661017,11.11111111111111,5.617977528089887,6.896551724137931,10.75268817204301,4.901960784313726,4.807692307692308,8.256880733944955],\"yaxis\":\"y\",\"type\":\"scatter\"},{\"hovertemplate\":\"<b>%{hovertext}</b><br><br>submission_target=Leg<br>year=%{x}<br>likelihood=%{y}<extra></extra>\",\"hovertext\":[\"Leg\",\"Leg\",\"Leg\",\"Leg\",\"Leg\",\"Leg\",\"Leg\",\"Leg\",\"Leg\",\"Leg\",\"Leg\",\"Leg\",\"Leg\",\"Leg\"],\"legendgroup\":\"Leg\",\"line\":{\"color\":\"#EF553B\",\"dash\":\"solid\"},\"marker\":{\"symbol\":\"circle\"},\"mode\":\"lines\",\"name\":\"Leg\",\"orientation\":\"v\",\"showlegend\":true,\"x\":[1998,1999,2000,2001,2003,2005,2007,2009,2011,2013,2015,2017,2019,2022],\"xaxis\":\"x\",\"y\":[4.761904761904762,4.444444444444445,5.88235294117647,10.9375,6.0606060606060606,12.121212121212121,6.779661016949152,6.944444444444445,17.97752808988764,16.091954022988507,8.60215053763441,7.8431372549019605,10.576923076923077,10.091743119266056],\"yaxis\":\"y\",\"type\":\"scatter\"},{\"hovertemplate\":\"<b>%{hovertext}</b><br><br>submission_target=Neck<br>year=%{x}<br>likelihood=%{y}<extra></extra>\",\"hovertext\":[\"Neck\",\"Neck\",\"Neck\",\"Neck\",\"Neck\",\"Neck\",\"Neck\",\"Neck\",\"Neck\",\"Neck\",\"Neck\",\"Neck\",\"Neck\",\"Neck\"],\"legendgroup\":\"Neck\",\"line\":{\"color\":\"#00cc96\",\"dash\":\"solid\"},\"marker\":{\"symbol\":\"circle\"},\"mode\":\"lines\",\"name\":\"Neck\",\"orientation\":\"v\",\"showlegend\":true,\"x\":[1998,1999,2000,2001,2003,2005,2007,2009,2011,2013,2015,2017,2019,2022],\"xaxis\":\"x\",\"y\":[19.047619047619047,17.77777777777778,15.686274509803921,18.75,22.727272727272727,22.727272727272727,25.423728813559322,26.38888888888889,17.97752808988764,19.54022988505747,11.827956989247312,13.725490196078432,18.269230769230766,16.51376146788991],\"yaxis\":\"y\",\"type\":\"scatter\"},{\"hovertemplate\":\"<b>%{hovertext}</b><br><br>submission_target=Other/Unknown<br>year=%{x}<br>likelihood=%{y}<extra></extra>\",\"hovertext\":[\"Other/Unknown\",\"Other/Unknown\",\"Other/Unknown\",\"Other/Unknown\",\"Other/Unknown\",\"Other/Unknown\",\"Other/Unknown\",\"Other/Unknown\",\"Other/Unknown\",\"Other/Unknown\",\"Other/Unknown\",\"Other/Unknown\"],\"legendgroup\":\"Other/Unknown\",\"line\":{\"color\":\"#ab63fa\",\"dash\":\"solid\"},\"marker\":{\"symbol\":\"circle\"},\"mode\":\"lines\",\"name\":\"Other/Unknown\",\"orientation\":\"v\",\"showlegend\":true,\"x\":[1998,1999,2001,2003,2005,2007,2009,2011,2013,2015,2017,2022],\"xaxis\":\"x\",\"y\":[4.761904761904762,6.666666666666667,1.5625,3.0303030303030303,3.0303030303030303,8.47457627118644,1.3888888888888888,1.1235955056179776,1.1494252873563218,1.0752688172043012,1.9607843137254901,1.834862385321101],\"yaxis\":\"y\",\"type\":\"scatter\"}],                        {\"template\":{\"data\":{\"histogram2dcontour\":[{\"type\":\"histogram2dcontour\",\"colorbar\":{\"outlinewidth\":0,\"ticks\":\"\"},\"colorscale\":[[0.0,\"#0d0887\"],[0.1111111111111111,\"#46039f\"],[0.2222222222222222,\"#7201a8\"],[0.3333333333333333,\"#9c179e\"],[0.4444444444444444,\"#bd3786\"],[0.5555555555555556,\"#d8576b\"],[0.6666666666666666,\"#ed7953\"],[0.7777777777777778,\"#fb9f3a\"],[0.8888888888888888,\"#fdca26\"],[1.0,\"#f0f921\"]]}],\"choropleth\":[{\"type\":\"choropleth\",\"colorbar\":{\"outlinewidth\":0,\"ticks\":\"\"}}],\"histogram2d\":[{\"type\":\"histogram2d\",\"colorbar\":{\"outlinewidth\":0,\"ticks\":\"\"},\"colorscale\":[[0.0,\"#0d0887\"],[0.1111111111111111,\"#46039f\"],[0.2222222222222222,\"#7201a8\"],[0.3333333333333333,\"#9c179e\"],[0.4444444444444444,\"#bd3786\"],[0.5555555555555556,\"#d8576b\"],[0.6666666666666666,\"#ed7953\"],[0.7777777777777778,\"#fb9f3a\"],[0.8888888888888888,\"#fdca26\"],[1.0,\"#f0f921\"]]}],\"heatmap\":[{\"type\":\"heatmap\",\"colorbar\":{\"outlinewidth\":0,\"ticks\":\"\"},\"colorscale\":[[0.0,\"#0d0887\"],[0.1111111111111111,\"#46039f\"],[0.2222222222222222,\"#7201a8\"],[0.3333333333333333,\"#9c179e\"],[0.4444444444444444,\"#bd3786\"],[0.5555555555555556,\"#d8576b\"],[0.6666666666666666,\"#ed7953\"],[0.7777777777777778,\"#fb9f3a\"],[0.8888888888888888,\"#fdca26\"],[1.0,\"#f0f921\"]]}],\"heatmapgl\":[{\"type\":\"heatmapgl\",\"colorbar\":{\"outlinewidth\":0,\"ticks\":\"\"},\"colorscale\":[[0.0,\"#0d0887\"],[0.1111111111111111,\"#46039f\"],[0.2222222222222222,\"#7201a8\"],[0.3333333333333333,\"#9c179e\"],[0.4444444444444444,\"#bd3786\"],[0.5555555555555556,\"#d8576b\"],[0.6666666666666666,\"#ed7953\"],[0.7777777777777778,\"#fb9f3a\"],[0.8888888888888888,\"#fdca26\"],[1.0,\"#f0f921\"]]}],\"contourcarpet\":[{\"type\":\"contourcarpet\",\"colorbar\":{\"outlinewidth\":0,\"ticks\":\"\"}}],\"contour\":[{\"type\":\"contour\",\"colorbar\":{\"outlinewidth\":0,\"ticks\":\"\"},\"colorscale\":[[0.0,\"#0d0887\"],[0.1111111111111111,\"#46039f\"],[0.2222222222222222,\"#7201a8\"],[0.3333333333333333,\"#9c179e\"],[0.4444444444444444,\"#bd3786\"],[0.5555555555555556,\"#d8576b\"],[0.6666666666666666,\"#ed7953\"],[0.7777777777777778,\"#fb9f3a\"],[0.8888888888888888,\"#fdca26\"],[1.0,\"#f0f921\"]]}],\"surface\":[{\"type\":\"surface\",\"colorbar\":{\"outlinewidth\":0,\"ticks\":\"\"},\"colorscale\":[[0.0,\"#0d0887\"],[0.1111111111111111,\"#46039f\"],[0.2222222222222222,\"#7201a8\"],[0.3333333333333333,\"#9c179e\"],[0.4444444444444444,\"#bd3786\"],[0.5555555555555556,\"#d8576b\"],[0.6666666666666666,\"#ed7953\"],[0.7777777777777778,\"#fb9f3a\"],[0.8888888888888888,\"#fdca26\"],[1.0,\"#f0f921\"]]}],\"mesh3d\":[{\"type\":\"mesh3d\",\"colorbar\":{\"outlinewidth\":0,\"ticks\":\"\"}}],\"scatter\":[{\"fillpattern\":{\"fillmode\":\"overlay\",\"size\":10,\"solidity\":0.2},\"type\":\"scatter\"}],\"parcoords\":[{\"type\":\"parcoords\",\"line\":{\"colorbar\":{\"outlinewidth\":0,\"ticks\":\"\"}}}],\"scatterpolargl\":[{\"type\":\"scatterpolargl\",\"marker\":{\"colorbar\":{\"outlinewidth\":0,\"ticks\":\"\"}}}],\"bar\":[{\"error_x\":{\"color\":\"#2a3f5f\"},\"error_y\":{\"color\":\"#2a3f5f\"},\"marker\":{\"line\":{\"color\":\"#E5ECF6\",\"width\":0.5},\"pattern\":{\"fillmode\":\"overlay\",\"size\":10,\"solidity\":0.2}},\"type\":\"bar\"}],\"scattergeo\":[{\"type\":\"scattergeo\",\"marker\":{\"colorbar\":{\"outlinewidth\":0,\"ticks\":\"\"}}}],\"scatterpolar\":[{\"type\":\"scatterpolar\",\"marker\":{\"colorbar\":{\"outlinewidth\":0,\"ticks\":\"\"}}}],\"histogram\":[{\"marker\":{\"pattern\":{\"fillmode\":\"overlay\",\"size\":10,\"solidity\":0.2}},\"type\":\"histogram\"}],\"scattergl\":[{\"type\":\"scattergl\",\"marker\":{\"colorbar\":{\"outlinewidth\":0,\"ticks\":\"\"}}}],\"scatter3d\":[{\"type\":\"scatter3d\",\"line\":{\"colorbar\":{\"outlinewidth\":0,\"ticks\":\"\"}},\"marker\":{\"colorbar\":{\"outlinewidth\":0,\"ticks\":\"\"}}}],\"scattermapbox\":[{\"type\":\"scattermapbox\",\"marker\":{\"colorbar\":{\"outlinewidth\":0,\"ticks\":\"\"}}}],\"scatterternary\":[{\"type\":\"scatterternary\",\"marker\":{\"colorbar\":{\"outlinewidth\":0,\"ticks\":\"\"}}}],\"scattercarpet\":[{\"type\":\"scattercarpet\",\"marker\":{\"colorbar\":{\"outlinewidth\":0,\"ticks\":\"\"}}}],\"carpet\":[{\"aaxis\":{\"endlinecolor\":\"#2a3f5f\",\"gridcolor\":\"white\",\"linecolor\":\"white\",\"minorgridcolor\":\"white\",\"startlinecolor\":\"#2a3f5f\"},\"baxis\":{\"endlinecolor\":\"#2a3f5f\",\"gridcolor\":\"white\",\"linecolor\":\"white\",\"minorgridcolor\":\"white\",\"startlinecolor\":\"#2a3f5f\"},\"type\":\"carpet\"}],\"table\":[{\"cells\":{\"fill\":{\"color\":\"#EBF0F8\"},\"line\":{\"color\":\"white\"}},\"header\":{\"fill\":{\"color\":\"#C8D4E3\"},\"line\":{\"color\":\"white\"}},\"type\":\"table\"}],\"barpolar\":[{\"marker\":{\"line\":{\"color\":\"#E5ECF6\",\"width\":0.5},\"pattern\":{\"fillmode\":\"overlay\",\"size\":10,\"solidity\":0.2}},\"type\":\"barpolar\"}],\"pie\":[{\"automargin\":true,\"type\":\"pie\"}]},\"layout\":{\"autotypenumbers\":\"strict\",\"colorway\":[\"#636efa\",\"#EF553B\",\"#00cc96\",\"#ab63fa\",\"#FFA15A\",\"#19d3f3\",\"#FF6692\",\"#B6E880\",\"#FF97FF\",\"#FECB52\"],\"font\":{\"color\":\"#2a3f5f\"},\"hovermode\":\"closest\",\"hoverlabel\":{\"align\":\"left\"},\"paper_bgcolor\":\"white\",\"plot_bgcolor\":\"#E5ECF6\",\"polar\":{\"bgcolor\":\"#E5ECF6\",\"angularaxis\":{\"gridcolor\":\"white\",\"linecolor\":\"white\",\"ticks\":\"\"},\"radialaxis\":{\"gridcolor\":\"white\",\"linecolor\":\"white\",\"ticks\":\"\"}},\"ternary\":{\"bgcolor\":\"#E5ECF6\",\"aaxis\":{\"gridcolor\":\"white\",\"linecolor\":\"white\",\"ticks\":\"\"},\"baxis\":{\"gridcolor\":\"white\",\"linecolor\":\"white\",\"ticks\":\"\"},\"caxis\":{\"gridcolor\":\"white\",\"linecolor\":\"white\",\"ticks\":\"\"}},\"coloraxis\":{\"colorbar\":{\"outlinewidth\":0,\"ticks\":\"\"}},\"colorscale\":{\"sequential\":[[0.0,\"#0d0887\"],[0.1111111111111111,\"#46039f\"],[0.2222222222222222,\"#7201a8\"],[0.3333333333333333,\"#9c179e\"],[0.4444444444444444,\"#bd3786\"],[0.5555555555555556,\"#d8576b\"],[0.6666666666666666,\"#ed7953\"],[0.7777777777777778,\"#fb9f3a\"],[0.8888888888888888,\"#fdca26\"],[1.0,\"#f0f921\"]],\"sequentialminus\":[[0.0,\"#0d0887\"],[0.1111111111111111,\"#46039f\"],[0.2222222222222222,\"#7201a8\"],[0.3333333333333333,\"#9c179e\"],[0.4444444444444444,\"#bd3786\"],[0.5555555555555556,\"#d8576b\"],[0.6666666666666666,\"#ed7953\"],[0.7777777777777778,\"#fb9f3a\"],[0.8888888888888888,\"#fdca26\"],[1.0,\"#f0f921\"]],\"diverging\":[[0,\"#8e0152\"],[0.1,\"#c51b7d\"],[0.2,\"#de77ae\"],[0.3,\"#f1b6da\"],[0.4,\"#fde0ef\"],[0.5,\"#f7f7f7\"],[0.6,\"#e6f5d0\"],[0.7,\"#b8e186\"],[0.8,\"#7fbc41\"],[0.9,\"#4d9221\"],[1,\"#276419\"]]},\"xaxis\":{\"gridcolor\":\"white\",\"linecolor\":\"white\",\"ticks\":\"\",\"title\":{\"standoff\":15},\"zerolinecolor\":\"white\",\"automargin\":true,\"zerolinewidth\":2},\"yaxis\":{\"gridcolor\":\"white\",\"linecolor\":\"white\",\"ticks\":\"\",\"title\":{\"standoff\":15},\"zerolinecolor\":\"white\",\"automargin\":true,\"zerolinewidth\":2},\"scene\":{\"xaxis\":{\"backgroundcolor\":\"#E5ECF6\",\"gridcolor\":\"white\",\"linecolor\":\"white\",\"showbackground\":true,\"ticks\":\"\",\"zerolinecolor\":\"white\",\"gridwidth\":2},\"yaxis\":{\"backgroundcolor\":\"#E5ECF6\",\"gridcolor\":\"white\",\"linecolor\":\"white\",\"showbackground\":true,\"ticks\":\"\",\"zerolinecolor\":\"white\",\"gridwidth\":2},\"zaxis\":{\"backgroundcolor\":\"#E5ECF6\",\"gridcolor\":\"white\",\"linecolor\":\"white\",\"showbackground\":true,\"ticks\":\"\",\"zerolinecolor\":\"white\",\"gridwidth\":2}},\"shapedefaults\":{\"line\":{\"color\":\"#2a3f5f\"}},\"annotationdefaults\":{\"arrowcolor\":\"#2a3f5f\",\"arrowhead\":0,\"arrowwidth\":1},\"geo\":{\"bgcolor\":\"white\",\"landcolor\":\"#E5ECF6\",\"subunitcolor\":\"white\",\"showland\":true,\"showlakes\":true,\"lakecolor\":\"white\"},\"title\":{\"x\":0.05},\"mapbox\":{\"style\":\"light\"}}},\"xaxis\":{\"anchor\":\"y\",\"domain\":[0.0,1.0],\"title\":{\"text\":\"Year\"}},\"yaxis\":{\"anchor\":\"x\",\"domain\":[0.0,1.0],\"title\":{\"text\":\"Submission ratio (%)\"}},\"legend\":{\"title\":{\"text\":\"Target\"},\"tracegroupgap\":0,\"x\":0.75,\"y\":0.99,\"bgcolor\":\"rgba(0, 0, 0, 0)\"},\"margin\":{\"t\":60},\"title\":{\"x\":0.47,\"text\":\"Submission ratio for each target body part over the years\"}},                        {\"responsive\": true}                    ).then(function(){\n",
       "                            \n",
       "var gd = document.getElementById('ca0c9cf6-2146-42f4-8e2d-c32caa947f90');\n",
       "var x = new MutationObserver(function (mutations, observer) {{\n",
       "        var display = window.getComputedStyle(gd).display;\n",
       "        if (!display || display === 'none') {{\n",
       "            console.log([gd, 'removed!']);\n",
       "            Plotly.purge(gd);\n",
       "            observer.disconnect();\n",
       "        }}\n",
       "}});\n",
       "\n",
       "// Listen for the removal of the full notebook cells\n",
       "var notebookContainer = gd.closest('#notebook-container');\n",
       "if (notebookContainer) {{\n",
       "    x.observe(notebookContainer, {childList: true});\n",
       "}}\n",
       "\n",
       "// Listen for the clearing of the current output cell\n",
       "var outputEl = gd.closest('.output');\n",
       "if (outputEl) {{\n",
       "    x.observe(outputEl, {childList: true});\n",
       "}}\n",
       "\n",
       "                        })                };                });            </script>        </div>"
      ]
     },
     "metadata": {},
     "output_type": "display_data"
    }
   ],
   "source": [
    "# Calculate likelihood for each category over the years and convert to percentages\n",
    "likelihood_mdf = mdf.groupby(['year', 'submission_target']).size().div(mdf.groupby('year').size(), level='year').reset_index(name='likelihood')\n",
    "likelihood_mdf['likelihood'] *= 100\n",
    "\n",
    "# Create line chart using plotly express\n",
    "fig = px.line(likelihood_mdf, x='year', y='likelihood', color='submission_target',\n",
    "              hover_name='submission_target')\n",
    "\n",
    "\n",
    "fig.update_yaxes(title_text='Submission ratio (%)')\n",
    "fig.update_xaxes(title_text='Year')\n",
    "\n",
    "fig.update_layout(\n",
    "    legend=dict(x=0.75, y=0.99,bgcolor='rgba(0, 0, 0, 0)'),\n",
    "    legend_title_text=\"Target\", title_x=0.47,\n",
    "    title_text='Submission ratio for each target body part over the years'\n",
    ")\n",
    "\n",
    "\n",
    "fig.show()"
   ]
  },
  {
   "cell_type": "markdown",
   "id": "58e2b2dc",
   "metadata": {
    "papermill": {
     "duration": 0.030718,
     "end_time": "2023-06-16T16:32:48.105488",
     "exception": false,
     "start_time": "2023-06-16T16:32:48.074770",
     "status": "completed"
    },
    "tags": []
   },
   "source": [
    "Since the 1998 ADCC, arm submissions are becoming more rare.  \n",
    "With the exception of this year and 2011, neck attacks have always been the most common way to end matches prematurely.  \n",
    "Over the years there were wild changes in the way leg attacks are used in submission grappling.  \n",
    "As one group of fighters popularizes certain systems of leg attack, the general athlete pool pick up on the new trends and the playing field eventually gets levelled.  \n",
    "  \n",
    "  \n",
    "In a way, the evolution of submission attacks over subsequent ADCC editions can be seen as an arms race of sorts, with constant development of techniques and systems to specifically counters what has recently been successful."
   ]
  },
  {
   "cell_type": "markdown",
   "id": "028e8f2e",
   "metadata": {
    "papermill": {
     "duration": 0.030846,
     "end_time": "2023-06-16T16:32:48.167410",
     "exception": false,
     "start_time": "2023-06-16T16:32:48.136564",
     "status": "completed"
    },
    "tags": []
   },
   "source": [
    "### How did the popularity of heel hooks changed?"
   ]
  },
  {
   "cell_type": "code",
   "execution_count": 36,
   "id": "3861a37b",
   "metadata": {
    "_kg_hide-input": true,
    "execution": {
     "iopub.execute_input": "2023-06-16T16:32:48.231910Z",
     "iopub.status.busy": "2023-06-16T16:32:48.231240Z",
     "iopub.status.idle": "2023-06-16T16:32:48.292997Z",
     "shell.execute_reply": "2023-06-16T16:32:48.291829Z"
    },
    "papermill": {
     "duration": 0.096455,
     "end_time": "2023-06-16T16:32:48.295156",
     "exception": false,
     "start_time": "2023-06-16T16:32:48.198701",
     "status": "completed"
    },
    "tags": []
   },
   "outputs": [
    {
     "data": {
      "text/html": [
       "<div>                            <div id=\"f07a7bd3-a5ab-43e8-9b64-420e4aa2aa86\" class=\"plotly-graph-div\" style=\"height:525px; width:100%;\"></div>            <script type=\"text/javascript\">                require([\"plotly\"], function(Plotly) {                    window.PLOTLYENV=window.PLOTLYENV || {};                                    if (document.getElementById(\"f07a7bd3-a5ab-43e8-9b64-420e4aa2aa86\")) {                    Plotly.newPlot(                        \"f07a7bd3-a5ab-43e8-9b64-420e4aa2aa86\",                        [{\"alignmentgroup\":\"True\",\"hovertemplate\":\"Year=%{x}<br>Number of Heel Hooks=%{y}<extra></extra>\",\"legendgroup\":\"\",\"marker\":{\"color\":\"#636efa\",\"pattern\":{\"shape\":\"\"}},\"name\":\"\",\"offsetgroup\":\"\",\"orientation\":\"v\",\"showlegend\":false,\"textposition\":\"auto\",\"x\":[1999,2003,2005,2007,2009,2011,2013,2015,2017,2019,2022],\"xaxis\":\"x\",\"y\":[1,1,3,2,1,8,10,6,6,9,5],\"yaxis\":\"y\",\"type\":\"bar\"}],                        {\"template\":{\"data\":{\"histogram2dcontour\":[{\"type\":\"histogram2dcontour\",\"colorbar\":{\"outlinewidth\":0,\"ticks\":\"\"},\"colorscale\":[[0.0,\"#0d0887\"],[0.1111111111111111,\"#46039f\"],[0.2222222222222222,\"#7201a8\"],[0.3333333333333333,\"#9c179e\"],[0.4444444444444444,\"#bd3786\"],[0.5555555555555556,\"#d8576b\"],[0.6666666666666666,\"#ed7953\"],[0.7777777777777778,\"#fb9f3a\"],[0.8888888888888888,\"#fdca26\"],[1.0,\"#f0f921\"]]}],\"choropleth\":[{\"type\":\"choropleth\",\"colorbar\":{\"outlinewidth\":0,\"ticks\":\"\"}}],\"histogram2d\":[{\"type\":\"histogram2d\",\"colorbar\":{\"outlinewidth\":0,\"ticks\":\"\"},\"colorscale\":[[0.0,\"#0d0887\"],[0.1111111111111111,\"#46039f\"],[0.2222222222222222,\"#7201a8\"],[0.3333333333333333,\"#9c179e\"],[0.4444444444444444,\"#bd3786\"],[0.5555555555555556,\"#d8576b\"],[0.6666666666666666,\"#ed7953\"],[0.7777777777777778,\"#fb9f3a\"],[0.8888888888888888,\"#fdca26\"],[1.0,\"#f0f921\"]]}],\"heatmap\":[{\"type\":\"heatmap\",\"colorbar\":{\"outlinewidth\":0,\"ticks\":\"\"},\"colorscale\":[[0.0,\"#0d0887\"],[0.1111111111111111,\"#46039f\"],[0.2222222222222222,\"#7201a8\"],[0.3333333333333333,\"#9c179e\"],[0.4444444444444444,\"#bd3786\"],[0.5555555555555556,\"#d8576b\"],[0.6666666666666666,\"#ed7953\"],[0.7777777777777778,\"#fb9f3a\"],[0.8888888888888888,\"#fdca26\"],[1.0,\"#f0f921\"]]}],\"heatmapgl\":[{\"type\":\"heatmapgl\",\"colorbar\":{\"outlinewidth\":0,\"ticks\":\"\"},\"colorscale\":[[0.0,\"#0d0887\"],[0.1111111111111111,\"#46039f\"],[0.2222222222222222,\"#7201a8\"],[0.3333333333333333,\"#9c179e\"],[0.4444444444444444,\"#bd3786\"],[0.5555555555555556,\"#d8576b\"],[0.6666666666666666,\"#ed7953\"],[0.7777777777777778,\"#fb9f3a\"],[0.8888888888888888,\"#fdca26\"],[1.0,\"#f0f921\"]]}],\"contourcarpet\":[{\"type\":\"contourcarpet\",\"colorbar\":{\"outlinewidth\":0,\"ticks\":\"\"}}],\"contour\":[{\"type\":\"contour\",\"colorbar\":{\"outlinewidth\":0,\"ticks\":\"\"},\"colorscale\":[[0.0,\"#0d0887\"],[0.1111111111111111,\"#46039f\"],[0.2222222222222222,\"#7201a8\"],[0.3333333333333333,\"#9c179e\"],[0.4444444444444444,\"#bd3786\"],[0.5555555555555556,\"#d8576b\"],[0.6666666666666666,\"#ed7953\"],[0.7777777777777778,\"#fb9f3a\"],[0.8888888888888888,\"#fdca26\"],[1.0,\"#f0f921\"]]}],\"surface\":[{\"type\":\"surface\",\"colorbar\":{\"outlinewidth\":0,\"ticks\":\"\"},\"colorscale\":[[0.0,\"#0d0887\"],[0.1111111111111111,\"#46039f\"],[0.2222222222222222,\"#7201a8\"],[0.3333333333333333,\"#9c179e\"],[0.4444444444444444,\"#bd3786\"],[0.5555555555555556,\"#d8576b\"],[0.6666666666666666,\"#ed7953\"],[0.7777777777777778,\"#fb9f3a\"],[0.8888888888888888,\"#fdca26\"],[1.0,\"#f0f921\"]]}],\"mesh3d\":[{\"type\":\"mesh3d\",\"colorbar\":{\"outlinewidth\":0,\"ticks\":\"\"}}],\"scatter\":[{\"fillpattern\":{\"fillmode\":\"overlay\",\"size\":10,\"solidity\":0.2},\"type\":\"scatter\"}],\"parcoords\":[{\"type\":\"parcoords\",\"line\":{\"colorbar\":{\"outlinewidth\":0,\"ticks\":\"\"}}}],\"scatterpolargl\":[{\"type\":\"scatterpolargl\",\"marker\":{\"colorbar\":{\"outlinewidth\":0,\"ticks\":\"\"}}}],\"bar\":[{\"error_x\":{\"color\":\"#2a3f5f\"},\"error_y\":{\"color\":\"#2a3f5f\"},\"marker\":{\"line\":{\"color\":\"#E5ECF6\",\"width\":0.5},\"pattern\":{\"fillmode\":\"overlay\",\"size\":10,\"solidity\":0.2}},\"type\":\"bar\"}],\"scattergeo\":[{\"type\":\"scattergeo\",\"marker\":{\"colorbar\":{\"outlinewidth\":0,\"ticks\":\"\"}}}],\"scatterpolar\":[{\"type\":\"scatterpolar\",\"marker\":{\"colorbar\":{\"outlinewidth\":0,\"ticks\":\"\"}}}],\"histogram\":[{\"marker\":{\"pattern\":{\"fillmode\":\"overlay\",\"size\":10,\"solidity\":0.2}},\"type\":\"histogram\"}],\"scattergl\":[{\"type\":\"scattergl\",\"marker\":{\"colorbar\":{\"outlinewidth\":0,\"ticks\":\"\"}}}],\"scatter3d\":[{\"type\":\"scatter3d\",\"line\":{\"colorbar\":{\"outlinewidth\":0,\"ticks\":\"\"}},\"marker\":{\"colorbar\":{\"outlinewidth\":0,\"ticks\":\"\"}}}],\"scattermapbox\":[{\"type\":\"scattermapbox\",\"marker\":{\"colorbar\":{\"outlinewidth\":0,\"ticks\":\"\"}}}],\"scatterternary\":[{\"type\":\"scatterternary\",\"marker\":{\"colorbar\":{\"outlinewidth\":0,\"ticks\":\"\"}}}],\"scattercarpet\":[{\"type\":\"scattercarpet\",\"marker\":{\"colorbar\":{\"outlinewidth\":0,\"ticks\":\"\"}}}],\"carpet\":[{\"aaxis\":{\"endlinecolor\":\"#2a3f5f\",\"gridcolor\":\"white\",\"linecolor\":\"white\",\"minorgridcolor\":\"white\",\"startlinecolor\":\"#2a3f5f\"},\"baxis\":{\"endlinecolor\":\"#2a3f5f\",\"gridcolor\":\"white\",\"linecolor\":\"white\",\"minorgridcolor\":\"white\",\"startlinecolor\":\"#2a3f5f\"},\"type\":\"carpet\"}],\"table\":[{\"cells\":{\"fill\":{\"color\":\"#EBF0F8\"},\"line\":{\"color\":\"white\"}},\"header\":{\"fill\":{\"color\":\"#C8D4E3\"},\"line\":{\"color\":\"white\"}},\"type\":\"table\"}],\"barpolar\":[{\"marker\":{\"line\":{\"color\":\"#E5ECF6\",\"width\":0.5},\"pattern\":{\"fillmode\":\"overlay\",\"size\":10,\"solidity\":0.2}},\"type\":\"barpolar\"}],\"pie\":[{\"automargin\":true,\"type\":\"pie\"}]},\"layout\":{\"autotypenumbers\":\"strict\",\"colorway\":[\"#636efa\",\"#EF553B\",\"#00cc96\",\"#ab63fa\",\"#FFA15A\",\"#19d3f3\",\"#FF6692\",\"#B6E880\",\"#FF97FF\",\"#FECB52\"],\"font\":{\"color\":\"#2a3f5f\"},\"hovermode\":\"closest\",\"hoverlabel\":{\"align\":\"left\"},\"paper_bgcolor\":\"white\",\"plot_bgcolor\":\"#E5ECF6\",\"polar\":{\"bgcolor\":\"#E5ECF6\",\"angularaxis\":{\"gridcolor\":\"white\",\"linecolor\":\"white\",\"ticks\":\"\"},\"radialaxis\":{\"gridcolor\":\"white\",\"linecolor\":\"white\",\"ticks\":\"\"}},\"ternary\":{\"bgcolor\":\"#E5ECF6\",\"aaxis\":{\"gridcolor\":\"white\",\"linecolor\":\"white\",\"ticks\":\"\"},\"baxis\":{\"gridcolor\":\"white\",\"linecolor\":\"white\",\"ticks\":\"\"},\"caxis\":{\"gridcolor\":\"white\",\"linecolor\":\"white\",\"ticks\":\"\"}},\"coloraxis\":{\"colorbar\":{\"outlinewidth\":0,\"ticks\":\"\"}},\"colorscale\":{\"sequential\":[[0.0,\"#0d0887\"],[0.1111111111111111,\"#46039f\"],[0.2222222222222222,\"#7201a8\"],[0.3333333333333333,\"#9c179e\"],[0.4444444444444444,\"#bd3786\"],[0.5555555555555556,\"#d8576b\"],[0.6666666666666666,\"#ed7953\"],[0.7777777777777778,\"#fb9f3a\"],[0.8888888888888888,\"#fdca26\"],[1.0,\"#f0f921\"]],\"sequentialminus\":[[0.0,\"#0d0887\"],[0.1111111111111111,\"#46039f\"],[0.2222222222222222,\"#7201a8\"],[0.3333333333333333,\"#9c179e\"],[0.4444444444444444,\"#bd3786\"],[0.5555555555555556,\"#d8576b\"],[0.6666666666666666,\"#ed7953\"],[0.7777777777777778,\"#fb9f3a\"],[0.8888888888888888,\"#fdca26\"],[1.0,\"#f0f921\"]],\"diverging\":[[0,\"#8e0152\"],[0.1,\"#c51b7d\"],[0.2,\"#de77ae\"],[0.3,\"#f1b6da\"],[0.4,\"#fde0ef\"],[0.5,\"#f7f7f7\"],[0.6,\"#e6f5d0\"],[0.7,\"#b8e186\"],[0.8,\"#7fbc41\"],[0.9,\"#4d9221\"],[1,\"#276419\"]]},\"xaxis\":{\"gridcolor\":\"white\",\"linecolor\":\"white\",\"ticks\":\"\",\"title\":{\"standoff\":15},\"zerolinecolor\":\"white\",\"automargin\":true,\"zerolinewidth\":2},\"yaxis\":{\"gridcolor\":\"white\",\"linecolor\":\"white\",\"ticks\":\"\",\"title\":{\"standoff\":15},\"zerolinecolor\":\"white\",\"automargin\":true,\"zerolinewidth\":2},\"scene\":{\"xaxis\":{\"backgroundcolor\":\"#E5ECF6\",\"gridcolor\":\"white\",\"linecolor\":\"white\",\"showbackground\":true,\"ticks\":\"\",\"zerolinecolor\":\"white\",\"gridwidth\":2},\"yaxis\":{\"backgroundcolor\":\"#E5ECF6\",\"gridcolor\":\"white\",\"linecolor\":\"white\",\"showbackground\":true,\"ticks\":\"\",\"zerolinecolor\":\"white\",\"gridwidth\":2},\"zaxis\":{\"backgroundcolor\":\"#E5ECF6\",\"gridcolor\":\"white\",\"linecolor\":\"white\",\"showbackground\":true,\"ticks\":\"\",\"zerolinecolor\":\"white\",\"gridwidth\":2}},\"shapedefaults\":{\"line\":{\"color\":\"#2a3f5f\"}},\"annotationdefaults\":{\"arrowcolor\":\"#2a3f5f\",\"arrowhead\":0,\"arrowwidth\":1},\"geo\":{\"bgcolor\":\"white\",\"landcolor\":\"#E5ECF6\",\"subunitcolor\":\"white\",\"showland\":true,\"showlakes\":true,\"lakecolor\":\"white\"},\"title\":{\"x\":0.05},\"mapbox\":{\"style\":\"light\"}}},\"xaxis\":{\"anchor\":\"y\",\"domain\":[0.0,1.0],\"title\":{\"text\":\"Year\"}},\"yaxis\":{\"anchor\":\"x\",\"domain\":[0.0,1.0],\"title\":{\"text\":\"Number of Heel Hooks\"}},\"legend\":{\"tracegroupgap\":0},\"title\":{\"text\":\"Number of Heel Hook submissions over the Years\",\"x\":0.49},\"barmode\":\"relative\"},                        {\"responsive\": true}                    ).then(function(){\n",
       "                            \n",
       "var gd = document.getElementById('f07a7bd3-a5ab-43e8-9b64-420e4aa2aa86');\n",
       "var x = new MutationObserver(function (mutations, observer) {{\n",
       "        var display = window.getComputedStyle(gd).display;\n",
       "        if (!display || display === 'none') {{\n",
       "            console.log([gd, 'removed!']);\n",
       "            Plotly.purge(gd);\n",
       "            observer.disconnect();\n",
       "        }}\n",
       "}});\n",
       "\n",
       "// Listen for the removal of the full notebook cells\n",
       "var notebookContainer = gd.closest('#notebook-container');\n",
       "if (notebookContainer) {{\n",
       "    x.observe(notebookContainer, {childList: true});\n",
       "}}\n",
       "\n",
       "// Listen for the clearing of the current output cell\n",
       "var outputEl = gd.closest('.output');\n",
       "if (outputEl) {{\n",
       "    x.observe(outputEl, {childList: true});\n",
       "}}\n",
       "\n",
       "                        })                };                });            </script>        </div>"
      ]
     },
     "metadata": {},
     "output_type": "display_data"
    }
   ],
   "source": [
    "# Get only matches that ended by heel hook\n",
    "heel_hook_mdf = mdf[mdf['submission'].isin(['Inside heel hook', 'Heel hook', 'Outside heel hook'])]\n",
    "\n",
    "# Group the DataFrame to calculate the count of submissions by year and submission type\n",
    "grouped_mdf = heel_hook_mdf.groupby(['year']).size().reset_index(name='count')\n",
    "\n",
    "# Create the plot using Plotly Express\n",
    "fig = px.bar(grouped_mdf, x='year', y='count',\n",
    "             labels={'year': 'Year', 'count': 'Number of Heel Hooks'},\n",
    "             title='Number of Heel Hook submissions over the Years',\n",
    "             hover_data={'year': True, 'count': True})\n",
    "\n",
    "fig.update_layout(title_x=0.49)\n",
    "\n",
    "fig.show()"
   ]
  },
  {
   "cell_type": "markdown",
   "id": "ea5e5cc4",
   "metadata": {
    "papermill": {
     "duration": 0.03056,
     "end_time": "2023-06-16T16:32:48.356846",
     "exception": false,
     "start_time": "2023-06-16T16:32:48.326286",
     "status": "completed"
    },
    "tags": []
   },
   "source": [
    "Heel hooks have transitioned from a rare occurance to one of the most used leg attacks in submission grappling, with a surge in 2011 followed by its popularization among the athlete pool."
   ]
  },
  {
   "cell_type": "code",
   "execution_count": 37,
   "id": "991a016f",
   "metadata": {
    "_kg_hide-input": true,
    "execution": {
     "iopub.execute_input": "2023-06-16T16:32:48.424183Z",
     "iopub.status.busy": "2023-06-16T16:32:48.423451Z",
     "iopub.status.idle": "2023-06-16T16:32:48.484094Z",
     "shell.execute_reply": "2023-06-16T16:32:48.482855Z"
    },
    "papermill": {
     "duration": 0.098369,
     "end_time": "2023-06-16T16:32:48.486412",
     "exception": false,
     "start_time": "2023-06-16T16:32:48.388043",
     "status": "completed"
    },
    "tags": []
   },
   "outputs": [
    {
     "data": {
      "text/html": [
       "<div>                            <div id=\"12f32a8d-55c2-4f4d-8ac6-feb4e57ead3e\" class=\"plotly-graph-div\" style=\"height:525px; width:100%;\"></div>            <script type=\"text/javascript\">                require([\"plotly\"], function(Plotly) {                    window.PLOTLYENV=window.PLOTLYENV || {};                                    if (document.getElementById(\"12f32a8d-55c2-4f4d-8ac6-feb4e57ead3e\")) {                    Plotly.newPlot(                        \"12f32a8d-55c2-4f4d-8ac6-feb4e57ead3e\",                        [{\"alignmentgroup\":\"True\",\"hovertemplate\":\"Year=%{x}<br>Number of Kneebars=%{y}<extra></extra>\",\"legendgroup\":\"\",\"marker\":{\"color\":\"#636efa\",\"pattern\":{\"shape\":\"\"}},\"name\":\"\",\"offsetgroup\":\"\",\"orientation\":\"v\",\"showlegend\":false,\"textposition\":\"auto\",\"x\":[2000,2001,2003,2005,2009,2011,2013,2022],\"xaxis\":\"x\",\"y\":[3,4,1,3,2,2,1,1],\"yaxis\":\"y\",\"type\":\"bar\"}],                        {\"template\":{\"data\":{\"histogram2dcontour\":[{\"type\":\"histogram2dcontour\",\"colorbar\":{\"outlinewidth\":0,\"ticks\":\"\"},\"colorscale\":[[0.0,\"#0d0887\"],[0.1111111111111111,\"#46039f\"],[0.2222222222222222,\"#7201a8\"],[0.3333333333333333,\"#9c179e\"],[0.4444444444444444,\"#bd3786\"],[0.5555555555555556,\"#d8576b\"],[0.6666666666666666,\"#ed7953\"],[0.7777777777777778,\"#fb9f3a\"],[0.8888888888888888,\"#fdca26\"],[1.0,\"#f0f921\"]]}],\"choropleth\":[{\"type\":\"choropleth\",\"colorbar\":{\"outlinewidth\":0,\"ticks\":\"\"}}],\"histogram2d\":[{\"type\":\"histogram2d\",\"colorbar\":{\"outlinewidth\":0,\"ticks\":\"\"},\"colorscale\":[[0.0,\"#0d0887\"],[0.1111111111111111,\"#46039f\"],[0.2222222222222222,\"#7201a8\"],[0.3333333333333333,\"#9c179e\"],[0.4444444444444444,\"#bd3786\"],[0.5555555555555556,\"#d8576b\"],[0.6666666666666666,\"#ed7953\"],[0.7777777777777778,\"#fb9f3a\"],[0.8888888888888888,\"#fdca26\"],[1.0,\"#f0f921\"]]}],\"heatmap\":[{\"type\":\"heatmap\",\"colorbar\":{\"outlinewidth\":0,\"ticks\":\"\"},\"colorscale\":[[0.0,\"#0d0887\"],[0.1111111111111111,\"#46039f\"],[0.2222222222222222,\"#7201a8\"],[0.3333333333333333,\"#9c179e\"],[0.4444444444444444,\"#bd3786\"],[0.5555555555555556,\"#d8576b\"],[0.6666666666666666,\"#ed7953\"],[0.7777777777777778,\"#fb9f3a\"],[0.8888888888888888,\"#fdca26\"],[1.0,\"#f0f921\"]]}],\"heatmapgl\":[{\"type\":\"heatmapgl\",\"colorbar\":{\"outlinewidth\":0,\"ticks\":\"\"},\"colorscale\":[[0.0,\"#0d0887\"],[0.1111111111111111,\"#46039f\"],[0.2222222222222222,\"#7201a8\"],[0.3333333333333333,\"#9c179e\"],[0.4444444444444444,\"#bd3786\"],[0.5555555555555556,\"#d8576b\"],[0.6666666666666666,\"#ed7953\"],[0.7777777777777778,\"#fb9f3a\"],[0.8888888888888888,\"#fdca26\"],[1.0,\"#f0f921\"]]}],\"contourcarpet\":[{\"type\":\"contourcarpet\",\"colorbar\":{\"outlinewidth\":0,\"ticks\":\"\"}}],\"contour\":[{\"type\":\"contour\",\"colorbar\":{\"outlinewidth\":0,\"ticks\":\"\"},\"colorscale\":[[0.0,\"#0d0887\"],[0.1111111111111111,\"#46039f\"],[0.2222222222222222,\"#7201a8\"],[0.3333333333333333,\"#9c179e\"],[0.4444444444444444,\"#bd3786\"],[0.5555555555555556,\"#d8576b\"],[0.6666666666666666,\"#ed7953\"],[0.7777777777777778,\"#fb9f3a\"],[0.8888888888888888,\"#fdca26\"],[1.0,\"#f0f921\"]]}],\"surface\":[{\"type\":\"surface\",\"colorbar\":{\"outlinewidth\":0,\"ticks\":\"\"},\"colorscale\":[[0.0,\"#0d0887\"],[0.1111111111111111,\"#46039f\"],[0.2222222222222222,\"#7201a8\"],[0.3333333333333333,\"#9c179e\"],[0.4444444444444444,\"#bd3786\"],[0.5555555555555556,\"#d8576b\"],[0.6666666666666666,\"#ed7953\"],[0.7777777777777778,\"#fb9f3a\"],[0.8888888888888888,\"#fdca26\"],[1.0,\"#f0f921\"]]}],\"mesh3d\":[{\"type\":\"mesh3d\",\"colorbar\":{\"outlinewidth\":0,\"ticks\":\"\"}}],\"scatter\":[{\"fillpattern\":{\"fillmode\":\"overlay\",\"size\":10,\"solidity\":0.2},\"type\":\"scatter\"}],\"parcoords\":[{\"type\":\"parcoords\",\"line\":{\"colorbar\":{\"outlinewidth\":0,\"ticks\":\"\"}}}],\"scatterpolargl\":[{\"type\":\"scatterpolargl\",\"marker\":{\"colorbar\":{\"outlinewidth\":0,\"ticks\":\"\"}}}],\"bar\":[{\"error_x\":{\"color\":\"#2a3f5f\"},\"error_y\":{\"color\":\"#2a3f5f\"},\"marker\":{\"line\":{\"color\":\"#E5ECF6\",\"width\":0.5},\"pattern\":{\"fillmode\":\"overlay\",\"size\":10,\"solidity\":0.2}},\"type\":\"bar\"}],\"scattergeo\":[{\"type\":\"scattergeo\",\"marker\":{\"colorbar\":{\"outlinewidth\":0,\"ticks\":\"\"}}}],\"scatterpolar\":[{\"type\":\"scatterpolar\",\"marker\":{\"colorbar\":{\"outlinewidth\":0,\"ticks\":\"\"}}}],\"histogram\":[{\"marker\":{\"pattern\":{\"fillmode\":\"overlay\",\"size\":10,\"solidity\":0.2}},\"type\":\"histogram\"}],\"scattergl\":[{\"type\":\"scattergl\",\"marker\":{\"colorbar\":{\"outlinewidth\":0,\"ticks\":\"\"}}}],\"scatter3d\":[{\"type\":\"scatter3d\",\"line\":{\"colorbar\":{\"outlinewidth\":0,\"ticks\":\"\"}},\"marker\":{\"colorbar\":{\"outlinewidth\":0,\"ticks\":\"\"}}}],\"scattermapbox\":[{\"type\":\"scattermapbox\",\"marker\":{\"colorbar\":{\"outlinewidth\":0,\"ticks\":\"\"}}}],\"scatterternary\":[{\"type\":\"scatterternary\",\"marker\":{\"colorbar\":{\"outlinewidth\":0,\"ticks\":\"\"}}}],\"scattercarpet\":[{\"type\":\"scattercarpet\",\"marker\":{\"colorbar\":{\"outlinewidth\":0,\"ticks\":\"\"}}}],\"carpet\":[{\"aaxis\":{\"endlinecolor\":\"#2a3f5f\",\"gridcolor\":\"white\",\"linecolor\":\"white\",\"minorgridcolor\":\"white\",\"startlinecolor\":\"#2a3f5f\"},\"baxis\":{\"endlinecolor\":\"#2a3f5f\",\"gridcolor\":\"white\",\"linecolor\":\"white\",\"minorgridcolor\":\"white\",\"startlinecolor\":\"#2a3f5f\"},\"type\":\"carpet\"}],\"table\":[{\"cells\":{\"fill\":{\"color\":\"#EBF0F8\"},\"line\":{\"color\":\"white\"}},\"header\":{\"fill\":{\"color\":\"#C8D4E3\"},\"line\":{\"color\":\"white\"}},\"type\":\"table\"}],\"barpolar\":[{\"marker\":{\"line\":{\"color\":\"#E5ECF6\",\"width\":0.5},\"pattern\":{\"fillmode\":\"overlay\",\"size\":10,\"solidity\":0.2}},\"type\":\"barpolar\"}],\"pie\":[{\"automargin\":true,\"type\":\"pie\"}]},\"layout\":{\"autotypenumbers\":\"strict\",\"colorway\":[\"#636efa\",\"#EF553B\",\"#00cc96\",\"#ab63fa\",\"#FFA15A\",\"#19d3f3\",\"#FF6692\",\"#B6E880\",\"#FF97FF\",\"#FECB52\"],\"font\":{\"color\":\"#2a3f5f\"},\"hovermode\":\"closest\",\"hoverlabel\":{\"align\":\"left\"},\"paper_bgcolor\":\"white\",\"plot_bgcolor\":\"#E5ECF6\",\"polar\":{\"bgcolor\":\"#E5ECF6\",\"angularaxis\":{\"gridcolor\":\"white\",\"linecolor\":\"white\",\"ticks\":\"\"},\"radialaxis\":{\"gridcolor\":\"white\",\"linecolor\":\"white\",\"ticks\":\"\"}},\"ternary\":{\"bgcolor\":\"#E5ECF6\",\"aaxis\":{\"gridcolor\":\"white\",\"linecolor\":\"white\",\"ticks\":\"\"},\"baxis\":{\"gridcolor\":\"white\",\"linecolor\":\"white\",\"ticks\":\"\"},\"caxis\":{\"gridcolor\":\"white\",\"linecolor\":\"white\",\"ticks\":\"\"}},\"coloraxis\":{\"colorbar\":{\"outlinewidth\":0,\"ticks\":\"\"}},\"colorscale\":{\"sequential\":[[0.0,\"#0d0887\"],[0.1111111111111111,\"#46039f\"],[0.2222222222222222,\"#7201a8\"],[0.3333333333333333,\"#9c179e\"],[0.4444444444444444,\"#bd3786\"],[0.5555555555555556,\"#d8576b\"],[0.6666666666666666,\"#ed7953\"],[0.7777777777777778,\"#fb9f3a\"],[0.8888888888888888,\"#fdca26\"],[1.0,\"#f0f921\"]],\"sequentialminus\":[[0.0,\"#0d0887\"],[0.1111111111111111,\"#46039f\"],[0.2222222222222222,\"#7201a8\"],[0.3333333333333333,\"#9c179e\"],[0.4444444444444444,\"#bd3786\"],[0.5555555555555556,\"#d8576b\"],[0.6666666666666666,\"#ed7953\"],[0.7777777777777778,\"#fb9f3a\"],[0.8888888888888888,\"#fdca26\"],[1.0,\"#f0f921\"]],\"diverging\":[[0,\"#8e0152\"],[0.1,\"#c51b7d\"],[0.2,\"#de77ae\"],[0.3,\"#f1b6da\"],[0.4,\"#fde0ef\"],[0.5,\"#f7f7f7\"],[0.6,\"#e6f5d0\"],[0.7,\"#b8e186\"],[0.8,\"#7fbc41\"],[0.9,\"#4d9221\"],[1,\"#276419\"]]},\"xaxis\":{\"gridcolor\":\"white\",\"linecolor\":\"white\",\"ticks\":\"\",\"title\":{\"standoff\":15},\"zerolinecolor\":\"white\",\"automargin\":true,\"zerolinewidth\":2},\"yaxis\":{\"gridcolor\":\"white\",\"linecolor\":\"white\",\"ticks\":\"\",\"title\":{\"standoff\":15},\"zerolinecolor\":\"white\",\"automargin\":true,\"zerolinewidth\":2},\"scene\":{\"xaxis\":{\"backgroundcolor\":\"#E5ECF6\",\"gridcolor\":\"white\",\"linecolor\":\"white\",\"showbackground\":true,\"ticks\":\"\",\"zerolinecolor\":\"white\",\"gridwidth\":2},\"yaxis\":{\"backgroundcolor\":\"#E5ECF6\",\"gridcolor\":\"white\",\"linecolor\":\"white\",\"showbackground\":true,\"ticks\":\"\",\"zerolinecolor\":\"white\",\"gridwidth\":2},\"zaxis\":{\"backgroundcolor\":\"#E5ECF6\",\"gridcolor\":\"white\",\"linecolor\":\"white\",\"showbackground\":true,\"ticks\":\"\",\"zerolinecolor\":\"white\",\"gridwidth\":2}},\"shapedefaults\":{\"line\":{\"color\":\"#2a3f5f\"}},\"annotationdefaults\":{\"arrowcolor\":\"#2a3f5f\",\"arrowhead\":0,\"arrowwidth\":1},\"geo\":{\"bgcolor\":\"white\",\"landcolor\":\"#E5ECF6\",\"subunitcolor\":\"white\",\"showland\":true,\"showlakes\":true,\"lakecolor\":\"white\"},\"title\":{\"x\":0.05},\"mapbox\":{\"style\":\"light\"}}},\"xaxis\":{\"anchor\":\"y\",\"domain\":[0.0,1.0],\"title\":{\"text\":\"Year\"}},\"yaxis\":{\"anchor\":\"x\",\"domain\":[0.0,1.0],\"title\":{\"text\":\"Number of Kneebars\"}},\"legend\":{\"tracegroupgap\":0},\"title\":{\"text\":\"Number of Kneebar submissions over the Years\",\"x\":0.49},\"barmode\":\"relative\"},                        {\"responsive\": true}                    ).then(function(){\n",
       "                            \n",
       "var gd = document.getElementById('12f32a8d-55c2-4f4d-8ac6-feb4e57ead3e');\n",
       "var x = new MutationObserver(function (mutations, observer) {{\n",
       "        var display = window.getComputedStyle(gd).display;\n",
       "        if (!display || display === 'none') {{\n",
       "            console.log([gd, 'removed!']);\n",
       "            Plotly.purge(gd);\n",
       "            observer.disconnect();\n",
       "        }}\n",
       "}});\n",
       "\n",
       "// Listen for the removal of the full notebook cells\n",
       "var notebookContainer = gd.closest('#notebook-container');\n",
       "if (notebookContainer) {{\n",
       "    x.observe(notebookContainer, {childList: true});\n",
       "}}\n",
       "\n",
       "// Listen for the clearing of the current output cell\n",
       "var outputEl = gd.closest('.output');\n",
       "if (outputEl) {{\n",
       "    x.observe(outputEl, {childList: true});\n",
       "}}\n",
       "\n",
       "                        })                };                });            </script>        </div>"
      ]
     },
     "metadata": {},
     "output_type": "display_data"
    }
   ],
   "source": [
    "# Get only matches that ended by knee bar\n",
    "heel_hook_mdf = mdf[mdf['submission'] == 'Kneebar']\n",
    "\n",
    "# Group the DataFrame to calculate the count of submissions by year and submission type\n",
    "grouped_mdf = heel_hook_mdf.groupby(['year']).size().reset_index(name='count')\n",
    "\n",
    "# Create the plot using Plotly Express\n",
    "fig = px.bar(grouped_mdf, x='year', y='count',\n",
    "             labels={'year': 'Year', 'count': 'Number of Kneebars'},\n",
    "             title='Number of Kneebar submissions over the Years',\n",
    "             hover_data={'year': True, 'count': True})\n",
    "\n",
    "fig.update_layout(title_x=0.49)\n",
    "\n",
    "\n",
    "fig.show()"
   ]
  },
  {
   "cell_type": "markdown",
   "id": "99784030",
   "metadata": {
    "papermill": {
     "duration": 0.031758,
     "end_time": "2023-06-16T16:32:48.549351",
     "exception": false,
     "start_time": "2023-06-16T16:32:48.517593",
     "status": "completed"
    },
    "tags": []
   },
   "source": [
    "Kneebars, on the other hand, are becoming more rare since 2001."
   ]
  },
  {
   "cell_type": "markdown",
   "id": "20331d88",
   "metadata": {
    "papermill": {
     "duration": 0.031015,
     "end_time": "2023-06-16T16:32:48.611879",
     "exception": false,
     "start_time": "2023-06-16T16:32:48.580864",
     "status": "completed"
    },
    "tags": []
   },
   "source": [
    "### Who are the most accomplished submission artists in each ADCC edition?"
   ]
  },
  {
   "cell_type": "code",
   "execution_count": 38,
   "id": "a0befe7e",
   "metadata": {
    "_kg_hide-input": true,
    "execution": {
     "iopub.execute_input": "2023-06-16T16:32:48.677943Z",
     "iopub.status.busy": "2023-06-16T16:32:48.677574Z",
     "iopub.status.idle": "2023-06-16T16:32:48.714070Z",
     "shell.execute_reply": "2023-06-16T16:32:48.713338Z"
    },
    "papermill": {
     "duration": 0.072035,
     "end_time": "2023-06-16T16:32:48.716378",
     "exception": false,
     "start_time": "2023-06-16T16:32:48.644343",
     "status": "completed"
    },
    "tags": []
   },
   "outputs": [
    {
     "data": {
      "text/html": [
       "<div>                            <div id=\"2ca60d44-7c57-43ac-b549-84495eadee7a\" class=\"plotly-graph-div\" style=\"height:800px; width:100%;\"></div>            <script type=\"text/javascript\">                require([\"plotly\"], function(Plotly) {                    window.PLOTLYENV=window.PLOTLYENV || {};                                    if (document.getElementById(\"2ca60d44-7c57-43ac-b549-84495eadee7a\")) {                    Plotly.newPlot(                        \"2ca60d44-7c57-43ac-b549-84495eadee7a\",                        [{\"hovertemplate\":\"<b>Year</b>: %{y}<br><b>Fighter</b>: %{text}<br><b>Submissions</b>: %{x}<extra></extra>\",\"marker\":{\"color\":\"steelblue\"},\"orientation\":\"h\",\"text\":[\"Alexandre de Freitas\",\"Jean Jacques Machado\",\"Jean Jacques Machado\",\"Baret Yoshida\",\"Dean Lister\",\"Roger Gracie\",\"Marcelo Garcia\",\"Braulio Estima\",\"Dean Lister\",\"Dean Lister\",\"Davi Ramos\",\"Gordon Ryan\",\"Gordon Ryan\",\"Giancarlo Bodoni\"],\"textfont\":{\"size\":14},\"textposition\":\"inside\",\"x\":[3,4,2,3,4,8,7,5,3,5,3,5,6,4],\"y\":[1998,1999,2000,2001,2003,2005,2007,2009,2011,2013,2015,2017,2019,2022],\"type\":\"bar\"}],                        {\"template\":{\"data\":{\"histogram2dcontour\":[{\"type\":\"histogram2dcontour\",\"colorbar\":{\"outlinewidth\":0,\"ticks\":\"\"},\"colorscale\":[[0.0,\"#0d0887\"],[0.1111111111111111,\"#46039f\"],[0.2222222222222222,\"#7201a8\"],[0.3333333333333333,\"#9c179e\"],[0.4444444444444444,\"#bd3786\"],[0.5555555555555556,\"#d8576b\"],[0.6666666666666666,\"#ed7953\"],[0.7777777777777778,\"#fb9f3a\"],[0.8888888888888888,\"#fdca26\"],[1.0,\"#f0f921\"]]}],\"choropleth\":[{\"type\":\"choropleth\",\"colorbar\":{\"outlinewidth\":0,\"ticks\":\"\"}}],\"histogram2d\":[{\"type\":\"histogram2d\",\"colorbar\":{\"outlinewidth\":0,\"ticks\":\"\"},\"colorscale\":[[0.0,\"#0d0887\"],[0.1111111111111111,\"#46039f\"],[0.2222222222222222,\"#7201a8\"],[0.3333333333333333,\"#9c179e\"],[0.4444444444444444,\"#bd3786\"],[0.5555555555555556,\"#d8576b\"],[0.6666666666666666,\"#ed7953\"],[0.7777777777777778,\"#fb9f3a\"],[0.8888888888888888,\"#fdca26\"],[1.0,\"#f0f921\"]]}],\"heatmap\":[{\"type\":\"heatmap\",\"colorbar\":{\"outlinewidth\":0,\"ticks\":\"\"},\"colorscale\":[[0.0,\"#0d0887\"],[0.1111111111111111,\"#46039f\"],[0.2222222222222222,\"#7201a8\"],[0.3333333333333333,\"#9c179e\"],[0.4444444444444444,\"#bd3786\"],[0.5555555555555556,\"#d8576b\"],[0.6666666666666666,\"#ed7953\"],[0.7777777777777778,\"#fb9f3a\"],[0.8888888888888888,\"#fdca26\"],[1.0,\"#f0f921\"]]}],\"heatmapgl\":[{\"type\":\"heatmapgl\",\"colorbar\":{\"outlinewidth\":0,\"ticks\":\"\"},\"colorscale\":[[0.0,\"#0d0887\"],[0.1111111111111111,\"#46039f\"],[0.2222222222222222,\"#7201a8\"],[0.3333333333333333,\"#9c179e\"],[0.4444444444444444,\"#bd3786\"],[0.5555555555555556,\"#d8576b\"],[0.6666666666666666,\"#ed7953\"],[0.7777777777777778,\"#fb9f3a\"],[0.8888888888888888,\"#fdca26\"],[1.0,\"#f0f921\"]]}],\"contourcarpet\":[{\"type\":\"contourcarpet\",\"colorbar\":{\"outlinewidth\":0,\"ticks\":\"\"}}],\"contour\":[{\"type\":\"contour\",\"colorbar\":{\"outlinewidth\":0,\"ticks\":\"\"},\"colorscale\":[[0.0,\"#0d0887\"],[0.1111111111111111,\"#46039f\"],[0.2222222222222222,\"#7201a8\"],[0.3333333333333333,\"#9c179e\"],[0.4444444444444444,\"#bd3786\"],[0.5555555555555556,\"#d8576b\"],[0.6666666666666666,\"#ed7953\"],[0.7777777777777778,\"#fb9f3a\"],[0.8888888888888888,\"#fdca26\"],[1.0,\"#f0f921\"]]}],\"surface\":[{\"type\":\"surface\",\"colorbar\":{\"outlinewidth\":0,\"ticks\":\"\"},\"colorscale\":[[0.0,\"#0d0887\"],[0.1111111111111111,\"#46039f\"],[0.2222222222222222,\"#7201a8\"],[0.3333333333333333,\"#9c179e\"],[0.4444444444444444,\"#bd3786\"],[0.5555555555555556,\"#d8576b\"],[0.6666666666666666,\"#ed7953\"],[0.7777777777777778,\"#fb9f3a\"],[0.8888888888888888,\"#fdca26\"],[1.0,\"#f0f921\"]]}],\"mesh3d\":[{\"type\":\"mesh3d\",\"colorbar\":{\"outlinewidth\":0,\"ticks\":\"\"}}],\"scatter\":[{\"fillpattern\":{\"fillmode\":\"overlay\",\"size\":10,\"solidity\":0.2},\"type\":\"scatter\"}],\"parcoords\":[{\"type\":\"parcoords\",\"line\":{\"colorbar\":{\"outlinewidth\":0,\"ticks\":\"\"}}}],\"scatterpolargl\":[{\"type\":\"scatterpolargl\",\"marker\":{\"colorbar\":{\"outlinewidth\":0,\"ticks\":\"\"}}}],\"bar\":[{\"error_x\":{\"color\":\"#2a3f5f\"},\"error_y\":{\"color\":\"#2a3f5f\"},\"marker\":{\"line\":{\"color\":\"#E5ECF6\",\"width\":0.5},\"pattern\":{\"fillmode\":\"overlay\",\"size\":10,\"solidity\":0.2}},\"type\":\"bar\"}],\"scattergeo\":[{\"type\":\"scattergeo\",\"marker\":{\"colorbar\":{\"outlinewidth\":0,\"ticks\":\"\"}}}],\"scatterpolar\":[{\"type\":\"scatterpolar\",\"marker\":{\"colorbar\":{\"outlinewidth\":0,\"ticks\":\"\"}}}],\"histogram\":[{\"marker\":{\"pattern\":{\"fillmode\":\"overlay\",\"size\":10,\"solidity\":0.2}},\"type\":\"histogram\"}],\"scattergl\":[{\"type\":\"scattergl\",\"marker\":{\"colorbar\":{\"outlinewidth\":0,\"ticks\":\"\"}}}],\"scatter3d\":[{\"type\":\"scatter3d\",\"line\":{\"colorbar\":{\"outlinewidth\":0,\"ticks\":\"\"}},\"marker\":{\"colorbar\":{\"outlinewidth\":0,\"ticks\":\"\"}}}],\"scattermapbox\":[{\"type\":\"scattermapbox\",\"marker\":{\"colorbar\":{\"outlinewidth\":0,\"ticks\":\"\"}}}],\"scatterternary\":[{\"type\":\"scatterternary\",\"marker\":{\"colorbar\":{\"outlinewidth\":0,\"ticks\":\"\"}}}],\"scattercarpet\":[{\"type\":\"scattercarpet\",\"marker\":{\"colorbar\":{\"outlinewidth\":0,\"ticks\":\"\"}}}],\"carpet\":[{\"aaxis\":{\"endlinecolor\":\"#2a3f5f\",\"gridcolor\":\"white\",\"linecolor\":\"white\",\"minorgridcolor\":\"white\",\"startlinecolor\":\"#2a3f5f\"},\"baxis\":{\"endlinecolor\":\"#2a3f5f\",\"gridcolor\":\"white\",\"linecolor\":\"white\",\"minorgridcolor\":\"white\",\"startlinecolor\":\"#2a3f5f\"},\"type\":\"carpet\"}],\"table\":[{\"cells\":{\"fill\":{\"color\":\"#EBF0F8\"},\"line\":{\"color\":\"white\"}},\"header\":{\"fill\":{\"color\":\"#C8D4E3\"},\"line\":{\"color\":\"white\"}},\"type\":\"table\"}],\"barpolar\":[{\"marker\":{\"line\":{\"color\":\"#E5ECF6\",\"width\":0.5},\"pattern\":{\"fillmode\":\"overlay\",\"size\":10,\"solidity\":0.2}},\"type\":\"barpolar\"}],\"pie\":[{\"automargin\":true,\"type\":\"pie\"}]},\"layout\":{\"autotypenumbers\":\"strict\",\"colorway\":[\"#636efa\",\"#EF553B\",\"#00cc96\",\"#ab63fa\",\"#FFA15A\",\"#19d3f3\",\"#FF6692\",\"#B6E880\",\"#FF97FF\",\"#FECB52\"],\"font\":{\"color\":\"#2a3f5f\"},\"hovermode\":\"closest\",\"hoverlabel\":{\"align\":\"left\"},\"paper_bgcolor\":\"white\",\"plot_bgcolor\":\"#E5ECF6\",\"polar\":{\"bgcolor\":\"#E5ECF6\",\"angularaxis\":{\"gridcolor\":\"white\",\"linecolor\":\"white\",\"ticks\":\"\"},\"radialaxis\":{\"gridcolor\":\"white\",\"linecolor\":\"white\",\"ticks\":\"\"}},\"ternary\":{\"bgcolor\":\"#E5ECF6\",\"aaxis\":{\"gridcolor\":\"white\",\"linecolor\":\"white\",\"ticks\":\"\"},\"baxis\":{\"gridcolor\":\"white\",\"linecolor\":\"white\",\"ticks\":\"\"},\"caxis\":{\"gridcolor\":\"white\",\"linecolor\":\"white\",\"ticks\":\"\"}},\"coloraxis\":{\"colorbar\":{\"outlinewidth\":0,\"ticks\":\"\"}},\"colorscale\":{\"sequential\":[[0.0,\"#0d0887\"],[0.1111111111111111,\"#46039f\"],[0.2222222222222222,\"#7201a8\"],[0.3333333333333333,\"#9c179e\"],[0.4444444444444444,\"#bd3786\"],[0.5555555555555556,\"#d8576b\"],[0.6666666666666666,\"#ed7953\"],[0.7777777777777778,\"#fb9f3a\"],[0.8888888888888888,\"#fdca26\"],[1.0,\"#f0f921\"]],\"sequentialminus\":[[0.0,\"#0d0887\"],[0.1111111111111111,\"#46039f\"],[0.2222222222222222,\"#7201a8\"],[0.3333333333333333,\"#9c179e\"],[0.4444444444444444,\"#bd3786\"],[0.5555555555555556,\"#d8576b\"],[0.6666666666666666,\"#ed7953\"],[0.7777777777777778,\"#fb9f3a\"],[0.8888888888888888,\"#fdca26\"],[1.0,\"#f0f921\"]],\"diverging\":[[0,\"#8e0152\"],[0.1,\"#c51b7d\"],[0.2,\"#de77ae\"],[0.3,\"#f1b6da\"],[0.4,\"#fde0ef\"],[0.5,\"#f7f7f7\"],[0.6,\"#e6f5d0\"],[0.7,\"#b8e186\"],[0.8,\"#7fbc41\"],[0.9,\"#4d9221\"],[1,\"#276419\"]]},\"xaxis\":{\"gridcolor\":\"white\",\"linecolor\":\"white\",\"ticks\":\"\",\"title\":{\"standoff\":15},\"zerolinecolor\":\"white\",\"automargin\":true,\"zerolinewidth\":2},\"yaxis\":{\"gridcolor\":\"white\",\"linecolor\":\"white\",\"ticks\":\"\",\"title\":{\"standoff\":15},\"zerolinecolor\":\"white\",\"automargin\":true,\"zerolinewidth\":2},\"scene\":{\"xaxis\":{\"backgroundcolor\":\"#E5ECF6\",\"gridcolor\":\"white\",\"linecolor\":\"white\",\"showbackground\":true,\"ticks\":\"\",\"zerolinecolor\":\"white\",\"gridwidth\":2},\"yaxis\":{\"backgroundcolor\":\"#E5ECF6\",\"gridcolor\":\"white\",\"linecolor\":\"white\",\"showbackground\":true,\"ticks\":\"\",\"zerolinecolor\":\"white\",\"gridwidth\":2},\"zaxis\":{\"backgroundcolor\":\"#E5ECF6\",\"gridcolor\":\"white\",\"linecolor\":\"white\",\"showbackground\":true,\"ticks\":\"\",\"zerolinecolor\":\"white\",\"gridwidth\":2}},\"shapedefaults\":{\"line\":{\"color\":\"#2a3f5f\"}},\"annotationdefaults\":{\"arrowcolor\":\"#2a3f5f\",\"arrowhead\":0,\"arrowwidth\":1},\"geo\":{\"bgcolor\":\"white\",\"landcolor\":\"#E5ECF6\",\"subunitcolor\":\"white\",\"showland\":true,\"showlakes\":true,\"lakecolor\":\"white\"},\"title\":{\"x\":0.05},\"mapbox\":{\"style\":\"light\"}}},\"title\":{\"text\":\"Fighter with Most Submission Wins in Each Year\",\"x\":0.48},\"xaxis\":{\"title\":{\"text\":\"Number of Submissions\"}},\"yaxis\":{\"title\":{\"text\":\"Year\"}},\"height\":800},                        {\"responsive\": true}                    ).then(function(){\n",
       "                            \n",
       "var gd = document.getElementById('2ca60d44-7c57-43ac-b549-84495eadee7a');\n",
       "var x = new MutationObserver(function (mutations, observer) {{\n",
       "        var display = window.getComputedStyle(gd).display;\n",
       "        if (!display || display === 'none') {{\n",
       "            console.log([gd, 'removed!']);\n",
       "            Plotly.purge(gd);\n",
       "            observer.disconnect();\n",
       "        }}\n",
       "}});\n",
       "\n",
       "// Listen for the removal of the full notebook cells\n",
       "var notebookContainer = gd.closest('#notebook-container');\n",
       "if (notebookContainer) {{\n",
       "    x.observe(notebookContainer, {childList: true});\n",
       "}}\n",
       "\n",
       "// Listen for the clearing of the current output cell\n",
       "var outputEl = gd.closest('.output');\n",
       "if (outputEl) {{\n",
       "    x.observe(outputEl, {childList: true});\n",
       "}}\n",
       "\n",
       "                        })                };                });            </script>        </div>"
      ]
     },
     "metadata": {},
     "output_type": "display_data"
    }
   ],
   "source": [
    "# Get only matches that ended by submission\n",
    "submissions_mdf = mdf[mdf['victory_method'] == 'SUBMISSION']\n",
    "\n",
    "\n",
    "# Group data to calculate the count of submissions for each fighter and year\n",
    "grouped_mdf = submissions_mdf.groupby(['year', 'winner_name']).size().reset_index(name='count')\n",
    "\n",
    "# Find the fighter with the most submission wins in each year\n",
    "max_submissions = grouped_mdf.groupby('year').apply(lambda x: x.loc[x['count'].idxmax()]).reset_index(drop=True)\n",
    "\n",
    "# Plot the horizontal bars\n",
    "fig = go.Figure(data=go.Bar(\n",
    "    y=max_submissions['year'],\n",
    "    x=max_submissions['count'],\n",
    "    text=max_submissions['winner_name'],\n",
    "    hovertemplate=\n",
    "    '<b>Year</b>: %{y}<br>' +\n",
    "    '<b>Fighter</b>: %{text}<br>' +\n",
    "    '<b>Submissions</b>: %{x}<extra></extra>',\n",
    "    orientation='h',\n",
    "    textposition='inside',  # Set text position inside the bars\n",
    "    textfont={'size': 14},  # Adjust the text font size\n",
    "    marker_color='steelblue',  # Customize the bar color\n",
    "))\n",
    "\n",
    "\n",
    "fig.update_layout(\n",
    "    title='Fighter with Most Submission Wins in Each Year',\n",
    "    xaxis_title='Number of Submissions',\n",
    "    yaxis_title='Year',\n",
    "    height = 800,\n",
    "    title_x=0.48,\n",
    ")\n",
    "\n",
    "\n",
    "fig.show()"
   ]
  },
  {
   "cell_type": "markdown",
   "id": "53bd218e",
   "metadata": {
    "papermill": {
     "duration": 0.031256,
     "end_time": "2023-06-16T16:32:48.779657",
     "exception": false,
     "start_time": "2023-06-16T16:32:48.748401",
     "status": "completed"
    },
    "tags": []
   },
   "source": [
    "### How do submission rates vary between different stages of the competition?"
   ]
  },
  {
   "cell_type": "code",
   "execution_count": 39,
   "id": "e9556331",
   "metadata": {
    "_kg_hide-input": true,
    "execution": {
     "iopub.execute_input": "2023-06-16T16:32:48.845685Z",
     "iopub.status.busy": "2023-06-16T16:32:48.844878Z",
     "iopub.status.idle": "2023-06-16T16:32:48.938676Z",
     "shell.execute_reply": "2023-06-16T16:32:48.937551Z"
    },
    "papermill": {
     "duration": 0.129292,
     "end_time": "2023-06-16T16:32:48.940877",
     "exception": false,
     "start_time": "2023-06-16T16:32:48.811585",
     "status": "completed"
    },
    "tags": []
   },
   "outputs": [
    {
     "data": {
      "text/html": [
       "<div>                            <div id=\"974a493d-38a2-4987-bba9-e3c5e25bf23e\" class=\"plotly-graph-div\" style=\"height:525px; width:100%;\"></div>            <script type=\"text/javascript\">                require([\"plotly\"], function(Plotly) {                    window.PLOTLYENV=window.PLOTLYENV || {};                                    if (document.getElementById(\"974a493d-38a2-4987-bba9-e3c5e25bf23e\")) {                    Plotly.newPlot(                        \"974a493d-38a2-4987-bba9-e3c5e25bf23e\",                        [{\"alignmentgroup\":\"True\",\"customdata\":[[0],[1],[2],[3],[4],[5]],\"hovertemplate\":\"<b>%{hovertext}</b><br><br>Match importance, 0 being the first round, 5 finals and 6 superfights=%{x}<br>Submission Ratio (%)=%{y:.2f}<br>text=%{text}<br>Importance=%{marker.color}<extra></extra>\",\"hovertext\":[0.0,1.0,2.0,3.0,4.0,5.0],\"legendgroup\":\"\",\"marker\":{\"color\":[0,1,2,3,4,5],\"coloraxis\":\"coloraxis\",\"pattern\":{\"shape\":\"\"}},\"name\":\"\",\"offsetgroup\":\"\",\"orientation\":\"v\",\"showlegend\":false,\"text\":[46.32,37.37,29.7,35.0,34.88,13.33],\"textposition\":\"inside\",\"x\":[\"0\",\"1\",\"2\",\"3\",\"4\",\"5\"],\"xaxis\":\"x\",\"y\":[46.318289786223275,37.36654804270463,29.6969696969697,35.0,34.883720930232556,13.333333333333334],\"yaxis\":\"y\",\"type\":\"bar\"}],                        {\"template\":{\"data\":{\"histogram2dcontour\":[{\"type\":\"histogram2dcontour\",\"colorbar\":{\"outlinewidth\":0,\"ticks\":\"\"},\"colorscale\":[[0.0,\"#0d0887\"],[0.1111111111111111,\"#46039f\"],[0.2222222222222222,\"#7201a8\"],[0.3333333333333333,\"#9c179e\"],[0.4444444444444444,\"#bd3786\"],[0.5555555555555556,\"#d8576b\"],[0.6666666666666666,\"#ed7953\"],[0.7777777777777778,\"#fb9f3a\"],[0.8888888888888888,\"#fdca26\"],[1.0,\"#f0f921\"]]}],\"choropleth\":[{\"type\":\"choropleth\",\"colorbar\":{\"outlinewidth\":0,\"ticks\":\"\"}}],\"histogram2d\":[{\"type\":\"histogram2d\",\"colorbar\":{\"outlinewidth\":0,\"ticks\":\"\"},\"colorscale\":[[0.0,\"#0d0887\"],[0.1111111111111111,\"#46039f\"],[0.2222222222222222,\"#7201a8\"],[0.3333333333333333,\"#9c179e\"],[0.4444444444444444,\"#bd3786\"],[0.5555555555555556,\"#d8576b\"],[0.6666666666666666,\"#ed7953\"],[0.7777777777777778,\"#fb9f3a\"],[0.8888888888888888,\"#fdca26\"],[1.0,\"#f0f921\"]]}],\"heatmap\":[{\"type\":\"heatmap\",\"colorbar\":{\"outlinewidth\":0,\"ticks\":\"\"},\"colorscale\":[[0.0,\"#0d0887\"],[0.1111111111111111,\"#46039f\"],[0.2222222222222222,\"#7201a8\"],[0.3333333333333333,\"#9c179e\"],[0.4444444444444444,\"#bd3786\"],[0.5555555555555556,\"#d8576b\"],[0.6666666666666666,\"#ed7953\"],[0.7777777777777778,\"#fb9f3a\"],[0.8888888888888888,\"#fdca26\"],[1.0,\"#f0f921\"]]}],\"heatmapgl\":[{\"type\":\"heatmapgl\",\"colorbar\":{\"outlinewidth\":0,\"ticks\":\"\"},\"colorscale\":[[0.0,\"#0d0887\"],[0.1111111111111111,\"#46039f\"],[0.2222222222222222,\"#7201a8\"],[0.3333333333333333,\"#9c179e\"],[0.4444444444444444,\"#bd3786\"],[0.5555555555555556,\"#d8576b\"],[0.6666666666666666,\"#ed7953\"],[0.7777777777777778,\"#fb9f3a\"],[0.8888888888888888,\"#fdca26\"],[1.0,\"#f0f921\"]]}],\"contourcarpet\":[{\"type\":\"contourcarpet\",\"colorbar\":{\"outlinewidth\":0,\"ticks\":\"\"}}],\"contour\":[{\"type\":\"contour\",\"colorbar\":{\"outlinewidth\":0,\"ticks\":\"\"},\"colorscale\":[[0.0,\"#0d0887\"],[0.1111111111111111,\"#46039f\"],[0.2222222222222222,\"#7201a8\"],[0.3333333333333333,\"#9c179e\"],[0.4444444444444444,\"#bd3786\"],[0.5555555555555556,\"#d8576b\"],[0.6666666666666666,\"#ed7953\"],[0.7777777777777778,\"#fb9f3a\"],[0.8888888888888888,\"#fdca26\"],[1.0,\"#f0f921\"]]}],\"surface\":[{\"type\":\"surface\",\"colorbar\":{\"outlinewidth\":0,\"ticks\":\"\"},\"colorscale\":[[0.0,\"#0d0887\"],[0.1111111111111111,\"#46039f\"],[0.2222222222222222,\"#7201a8\"],[0.3333333333333333,\"#9c179e\"],[0.4444444444444444,\"#bd3786\"],[0.5555555555555556,\"#d8576b\"],[0.6666666666666666,\"#ed7953\"],[0.7777777777777778,\"#fb9f3a\"],[0.8888888888888888,\"#fdca26\"],[1.0,\"#f0f921\"]]}],\"mesh3d\":[{\"type\":\"mesh3d\",\"colorbar\":{\"outlinewidth\":0,\"ticks\":\"\"}}],\"scatter\":[{\"fillpattern\":{\"fillmode\":\"overlay\",\"size\":10,\"solidity\":0.2},\"type\":\"scatter\"}],\"parcoords\":[{\"type\":\"parcoords\",\"line\":{\"colorbar\":{\"outlinewidth\":0,\"ticks\":\"\"}}}],\"scatterpolargl\":[{\"type\":\"scatterpolargl\",\"marker\":{\"colorbar\":{\"outlinewidth\":0,\"ticks\":\"\"}}}],\"bar\":[{\"error_x\":{\"color\":\"#2a3f5f\"},\"error_y\":{\"color\":\"#2a3f5f\"},\"marker\":{\"line\":{\"color\":\"#E5ECF6\",\"width\":0.5},\"pattern\":{\"fillmode\":\"overlay\",\"size\":10,\"solidity\":0.2}},\"type\":\"bar\"}],\"scattergeo\":[{\"type\":\"scattergeo\",\"marker\":{\"colorbar\":{\"outlinewidth\":0,\"ticks\":\"\"}}}],\"scatterpolar\":[{\"type\":\"scatterpolar\",\"marker\":{\"colorbar\":{\"outlinewidth\":0,\"ticks\":\"\"}}}],\"histogram\":[{\"marker\":{\"pattern\":{\"fillmode\":\"overlay\",\"size\":10,\"solidity\":0.2}},\"type\":\"histogram\"}],\"scattergl\":[{\"type\":\"scattergl\",\"marker\":{\"colorbar\":{\"outlinewidth\":0,\"ticks\":\"\"}}}],\"scatter3d\":[{\"type\":\"scatter3d\",\"line\":{\"colorbar\":{\"outlinewidth\":0,\"ticks\":\"\"}},\"marker\":{\"colorbar\":{\"outlinewidth\":0,\"ticks\":\"\"}}}],\"scattermapbox\":[{\"type\":\"scattermapbox\",\"marker\":{\"colorbar\":{\"outlinewidth\":0,\"ticks\":\"\"}}}],\"scatterternary\":[{\"type\":\"scatterternary\",\"marker\":{\"colorbar\":{\"outlinewidth\":0,\"ticks\":\"\"}}}],\"scattercarpet\":[{\"type\":\"scattercarpet\",\"marker\":{\"colorbar\":{\"outlinewidth\":0,\"ticks\":\"\"}}}],\"carpet\":[{\"aaxis\":{\"endlinecolor\":\"#2a3f5f\",\"gridcolor\":\"white\",\"linecolor\":\"white\",\"minorgridcolor\":\"white\",\"startlinecolor\":\"#2a3f5f\"},\"baxis\":{\"endlinecolor\":\"#2a3f5f\",\"gridcolor\":\"white\",\"linecolor\":\"white\",\"minorgridcolor\":\"white\",\"startlinecolor\":\"#2a3f5f\"},\"type\":\"carpet\"}],\"table\":[{\"cells\":{\"fill\":{\"color\":\"#EBF0F8\"},\"line\":{\"color\":\"white\"}},\"header\":{\"fill\":{\"color\":\"#C8D4E3\"},\"line\":{\"color\":\"white\"}},\"type\":\"table\"}],\"barpolar\":[{\"marker\":{\"line\":{\"color\":\"#E5ECF6\",\"width\":0.5},\"pattern\":{\"fillmode\":\"overlay\",\"size\":10,\"solidity\":0.2}},\"type\":\"barpolar\"}],\"pie\":[{\"automargin\":true,\"type\":\"pie\"}]},\"layout\":{\"autotypenumbers\":\"strict\",\"colorway\":[\"#636efa\",\"#EF553B\",\"#00cc96\",\"#ab63fa\",\"#FFA15A\",\"#19d3f3\",\"#FF6692\",\"#B6E880\",\"#FF97FF\",\"#FECB52\"],\"font\":{\"color\":\"#2a3f5f\"},\"hovermode\":\"closest\",\"hoverlabel\":{\"align\":\"left\"},\"paper_bgcolor\":\"white\",\"plot_bgcolor\":\"#E5ECF6\",\"polar\":{\"bgcolor\":\"#E5ECF6\",\"angularaxis\":{\"gridcolor\":\"white\",\"linecolor\":\"white\",\"ticks\":\"\"},\"radialaxis\":{\"gridcolor\":\"white\",\"linecolor\":\"white\",\"ticks\":\"\"}},\"ternary\":{\"bgcolor\":\"#E5ECF6\",\"aaxis\":{\"gridcolor\":\"white\",\"linecolor\":\"white\",\"ticks\":\"\"},\"baxis\":{\"gridcolor\":\"white\",\"linecolor\":\"white\",\"ticks\":\"\"},\"caxis\":{\"gridcolor\":\"white\",\"linecolor\":\"white\",\"ticks\":\"\"}},\"coloraxis\":{\"colorbar\":{\"outlinewidth\":0,\"ticks\":\"\"}},\"colorscale\":{\"sequential\":[[0.0,\"#0d0887\"],[0.1111111111111111,\"#46039f\"],[0.2222222222222222,\"#7201a8\"],[0.3333333333333333,\"#9c179e\"],[0.4444444444444444,\"#bd3786\"],[0.5555555555555556,\"#d8576b\"],[0.6666666666666666,\"#ed7953\"],[0.7777777777777778,\"#fb9f3a\"],[0.8888888888888888,\"#fdca26\"],[1.0,\"#f0f921\"]],\"sequentialminus\":[[0.0,\"#0d0887\"],[0.1111111111111111,\"#46039f\"],[0.2222222222222222,\"#7201a8\"],[0.3333333333333333,\"#9c179e\"],[0.4444444444444444,\"#bd3786\"],[0.5555555555555556,\"#d8576b\"],[0.6666666666666666,\"#ed7953\"],[0.7777777777777778,\"#fb9f3a\"],[0.8888888888888888,\"#fdca26\"],[1.0,\"#f0f921\"]],\"diverging\":[[0,\"#8e0152\"],[0.1,\"#c51b7d\"],[0.2,\"#de77ae\"],[0.3,\"#f1b6da\"],[0.4,\"#fde0ef\"],[0.5,\"#f7f7f7\"],[0.6,\"#e6f5d0\"],[0.7,\"#b8e186\"],[0.8,\"#7fbc41\"],[0.9,\"#4d9221\"],[1,\"#276419\"]]},\"xaxis\":{\"gridcolor\":\"white\",\"linecolor\":\"white\",\"ticks\":\"\",\"title\":{\"standoff\":15},\"zerolinecolor\":\"white\",\"automargin\":true,\"zerolinewidth\":2},\"yaxis\":{\"gridcolor\":\"white\",\"linecolor\":\"white\",\"ticks\":\"\",\"title\":{\"standoff\":15},\"zerolinecolor\":\"white\",\"automargin\":true,\"zerolinewidth\":2},\"scene\":{\"xaxis\":{\"backgroundcolor\":\"#E5ECF6\",\"gridcolor\":\"white\",\"linecolor\":\"white\",\"showbackground\":true,\"ticks\":\"\",\"zerolinecolor\":\"white\",\"gridwidth\":2},\"yaxis\":{\"backgroundcolor\":\"#E5ECF6\",\"gridcolor\":\"white\",\"linecolor\":\"white\",\"showbackground\":true,\"ticks\":\"\",\"zerolinecolor\":\"white\",\"gridwidth\":2},\"zaxis\":{\"backgroundcolor\":\"#E5ECF6\",\"gridcolor\":\"white\",\"linecolor\":\"white\",\"showbackground\":true,\"ticks\":\"\",\"zerolinecolor\":\"white\",\"gridwidth\":2}},\"shapedefaults\":{\"line\":{\"color\":\"#2a3f5f\"}},\"annotationdefaults\":{\"arrowcolor\":\"#2a3f5f\",\"arrowhead\":0,\"arrowwidth\":1},\"geo\":{\"bgcolor\":\"white\",\"landcolor\":\"#E5ECF6\",\"subunitcolor\":\"white\",\"showland\":true,\"showlakes\":true,\"lakecolor\":\"white\"},\"title\":{\"x\":0.05},\"mapbox\":{\"style\":\"light\"}}},\"xaxis\":{\"anchor\":\"y\",\"domain\":[0.0,1.0],\"title\":{\"text\":\"Match importance, 0 being the first round, 5 finals and 6 superfights\"},\"ticktext\":[\"Other\",\"Quarterfinals\",\"Semifinals\",\"3rd place\",\"Finals\",\"Superfight\"],\"tickvals\":[\"0\",\"1\",\"2\",\"3\",\"4\",\"5\"]},\"yaxis\":{\"anchor\":\"x\",\"domain\":[0.0,1.0],\"title\":{\"text\":\"Submission Ratio (%)\"}},\"coloraxis\":{\"colorbar\":{\"title\":{\"text\":\"Importance\"}},\"colorscale\":[[0.0,\"rgb(252, 222, 156)\"],[0.16666666666666666,\"rgb(250, 164, 118)\"],[0.3333333333333333,\"rgb(240, 116, 110)\"],[0.5,\"rgb(227, 79, 111)\"],[0.6666666666666666,\"rgb(220, 57, 119)\"],[0.8333333333333334,\"rgb(185, 37, 122)\"],[1.0,\"rgb(124, 29, 111)\"]],\"showscale\":false},\"legend\":{\"tracegroupgap\":0},\"title\":{\"text\":\"Probability of Submission by match importance\",\"x\":0.48},\"barmode\":\"relative\",\"showlegend\":false},                        {\"responsive\": true}                    ).then(function(){\n",
       "                            \n",
       "var gd = document.getElementById('974a493d-38a2-4987-bba9-e3c5e25bf23e');\n",
       "var x = new MutationObserver(function (mutations, observer) {{\n",
       "        var display = window.getComputedStyle(gd).display;\n",
       "        if (!display || display === 'none') {{\n",
       "            console.log([gd, 'removed!']);\n",
       "            Plotly.purge(gd);\n",
       "            observer.disconnect();\n",
       "        }}\n",
       "}});\n",
       "\n",
       "// Listen for the removal of the full notebook cells\n",
       "var notebookContainer = gd.closest('#notebook-container');\n",
       "if (notebookContainer) {{\n",
       "    x.observe(notebookContainer, {childList: true});\n",
       "}}\n",
       "\n",
       "// Listen for the clearing of the current output cell\n",
       "var outputEl = gd.closest('.output');\n",
       "if (outputEl) {{\n",
       "    x.observe(outputEl, {childList: true});\n",
       "}}\n",
       "\n",
       "                        })                };                });            </script>        </div>"
      ]
     },
     "metadata": {},
     "output_type": "display_data"
    }
   ],
   "source": [
    "# Get only matches that ended in submission\n",
    "submission_mdf = mdf[mdf['victory_method'] == 'SUBMISSION']\n",
    "\n",
    "# Calculate submission ratio for each 'importance' value\n",
    "submission_ratio = submission_mdf.groupby('importance').size() / mdf.groupby('importance').size()\n",
    "submission_ratio *= 100  # Convert to percentage\n",
    "\n",
    "# Create a DataFrame with 'importance' and 'submission_ratio' columns\n",
    "submission_ratio_mdf = pd.DataFrame({'importance': submission_ratio.index, 'submission_ratio': submission_ratio.values})\n",
    "\n",
    "# Plot bars\n",
    "fig = px.bar(data_frame=submission_ratio_mdf, x=submission_ratio_mdf['importance'].astype(str),\n",
    "             y='submission_ratio',labels={'importance': 'Importance',\n",
    "                                          'submission_ratio': 'Submission Ratio (%)',\n",
    "            'x':'Match importance, 0 being the first round, 5 finals and 6 superfights'},\n",
    "             title='Probability of Submission by match importance',\n",
    "             text=submission_ratio.values.round(2),  # Display percentage values inside bars\n",
    "             hover_data={'importance': True, 'submission_ratio': ':.2f'},\n",
    "            color_continuous_scale=px.colors.sequential.Sunsetdark,\n",
    "            color='importance', hover_name='importance')\n",
    "\n",
    "\n",
    "# Modify the tick names in the x-axis\n",
    "custom_labels = {\n",
    "'0':'Other',\n",
    "'1':'Quarterfinals',\n",
    "'2':'Semifinals',\n",
    "'3':'3rd place',\n",
    "'4':'Finals',\n",
    "'5':'Superfight'\n",
    "}\n",
    "\n",
    "fig.update_xaxes(ticktext=list(custom_labels.values()),\n",
    "                 tickvals=list(custom_labels.keys()))\n",
    "\n",
    "fig.update_traces(textposition='inside')  # Position the text inside the bars\n",
    "fig.update_layout(showlegend=False, coloraxis_showscale=False,\n",
    "                 title_x=0.48)\n",
    "\n",
    "\n",
    "fig.show()"
   ]
  },
  {
   "cell_type": "markdown",
   "id": "0918829e",
   "metadata": {
    "papermill": {
     "duration": 0.032267,
     "end_time": "2023-06-16T16:32:49.004797",
     "exception": false,
     "start_time": "2023-06-16T16:32:48.972530",
     "status": "completed"
    },
    "tags": []
   },
   "source": [
    "The chart above clearly shows that the first round has the most risk of submissions.  \n",
    "The skill variance in this stage is the greatest, since all athletes are pooled together initially, which can explain the higher probability of submissions occuring.  \n",
    "  \n",
    "Superfights, on the other hand, have considerably lower submission rates. These matches happen only between the most skilled competitors, who have the most to lose. Not only are more skilled competitors more difficult to submit, they generally tend to play more defensively in these situations, which might explain these lower submission rates.\n",
    "  \n",
    "Semifinals display lower-than-expected submission rates, which might indicate athletes are more cautious at this stage, being faced with the prospect of competing in a final or losing the chance to do so."
   ]
  },
  {
   "cell_type": "code",
   "execution_count": 40,
   "id": "32fa7ce8",
   "metadata": {
    "_kg_hide-input": true,
    "execution": {
     "iopub.execute_input": "2023-06-16T16:32:49.069927Z",
     "iopub.status.busy": "2023-06-16T16:32:49.069569Z",
     "iopub.status.idle": "2023-06-16T16:32:49.143637Z",
     "shell.execute_reply": "2023-06-16T16:32:49.142677Z"
    },
    "papermill": {
     "duration": 0.10921,
     "end_time": "2023-06-16T16:32:49.145885",
     "exception": false,
     "start_time": "2023-06-16T16:32:49.036675",
     "status": "completed"
    },
    "tags": []
   },
   "outputs": [
    {
     "data": {
      "text/html": [
       "<div>                            <div id=\"3f393b6f-2dff-452a-9281-30e6638f62be\" class=\"plotly-graph-div\" style=\"height:525px; width:100%;\"></div>            <script type=\"text/javascript\">                require([\"plotly\"], function(Plotly) {                    window.PLOTLYENV=window.PLOTLYENV || {};                                    if (document.getElementById(\"3f393b6f-2dff-452a-9281-30e6638f62be\")) {                    Plotly.newPlot(                        \"3f393b6f-2dff-452a-9281-30e6638f62be\",                        [{\"alignmentgroup\":\"True\",\"customdata\":[[0],[1],[2],[3],[4],[5]],\"hovertemplate\":\"Match importance, 0 being the first round, 5 finals and 6 superfights=%{x}<br>decision_ratio=%{y:.2f}<br>text=%{text}<br>Importance=%{marker.color}<extra></extra>\",\"legendgroup\":\"\",\"marker\":{\"color\":[0,1,2,3,4,5],\"coloraxis\":\"coloraxis\",\"pattern\":{\"shape\":\"\"}},\"name\":\"\",\"offsetgroup\":\"\",\"orientation\":\"v\",\"showlegend\":false,\"text\":[6.89,11.74,15.76,6.67,3.49,13.33],\"textposition\":\"inside\",\"x\":[\"0\",\"1\",\"2\",\"3\",\"4\",\"5\"],\"xaxis\":\"x\",\"y\":[6.88836104513064,11.743772241992882,15.757575757575756,6.666666666666667,3.488372093023256,13.333333333333334],\"yaxis\":\"y\",\"type\":\"bar\"}],                        {\"template\":{\"data\":{\"histogram2dcontour\":[{\"type\":\"histogram2dcontour\",\"colorbar\":{\"outlinewidth\":0,\"ticks\":\"\"},\"colorscale\":[[0.0,\"#0d0887\"],[0.1111111111111111,\"#46039f\"],[0.2222222222222222,\"#7201a8\"],[0.3333333333333333,\"#9c179e\"],[0.4444444444444444,\"#bd3786\"],[0.5555555555555556,\"#d8576b\"],[0.6666666666666666,\"#ed7953\"],[0.7777777777777778,\"#fb9f3a\"],[0.8888888888888888,\"#fdca26\"],[1.0,\"#f0f921\"]]}],\"choropleth\":[{\"type\":\"choropleth\",\"colorbar\":{\"outlinewidth\":0,\"ticks\":\"\"}}],\"histogram2d\":[{\"type\":\"histogram2d\",\"colorbar\":{\"outlinewidth\":0,\"ticks\":\"\"},\"colorscale\":[[0.0,\"#0d0887\"],[0.1111111111111111,\"#46039f\"],[0.2222222222222222,\"#7201a8\"],[0.3333333333333333,\"#9c179e\"],[0.4444444444444444,\"#bd3786\"],[0.5555555555555556,\"#d8576b\"],[0.6666666666666666,\"#ed7953\"],[0.7777777777777778,\"#fb9f3a\"],[0.8888888888888888,\"#fdca26\"],[1.0,\"#f0f921\"]]}],\"heatmap\":[{\"type\":\"heatmap\",\"colorbar\":{\"outlinewidth\":0,\"ticks\":\"\"},\"colorscale\":[[0.0,\"#0d0887\"],[0.1111111111111111,\"#46039f\"],[0.2222222222222222,\"#7201a8\"],[0.3333333333333333,\"#9c179e\"],[0.4444444444444444,\"#bd3786\"],[0.5555555555555556,\"#d8576b\"],[0.6666666666666666,\"#ed7953\"],[0.7777777777777778,\"#fb9f3a\"],[0.8888888888888888,\"#fdca26\"],[1.0,\"#f0f921\"]]}],\"heatmapgl\":[{\"type\":\"heatmapgl\",\"colorbar\":{\"outlinewidth\":0,\"ticks\":\"\"},\"colorscale\":[[0.0,\"#0d0887\"],[0.1111111111111111,\"#46039f\"],[0.2222222222222222,\"#7201a8\"],[0.3333333333333333,\"#9c179e\"],[0.4444444444444444,\"#bd3786\"],[0.5555555555555556,\"#d8576b\"],[0.6666666666666666,\"#ed7953\"],[0.7777777777777778,\"#fb9f3a\"],[0.8888888888888888,\"#fdca26\"],[1.0,\"#f0f921\"]]}],\"contourcarpet\":[{\"type\":\"contourcarpet\",\"colorbar\":{\"outlinewidth\":0,\"ticks\":\"\"}}],\"contour\":[{\"type\":\"contour\",\"colorbar\":{\"outlinewidth\":0,\"ticks\":\"\"},\"colorscale\":[[0.0,\"#0d0887\"],[0.1111111111111111,\"#46039f\"],[0.2222222222222222,\"#7201a8\"],[0.3333333333333333,\"#9c179e\"],[0.4444444444444444,\"#bd3786\"],[0.5555555555555556,\"#d8576b\"],[0.6666666666666666,\"#ed7953\"],[0.7777777777777778,\"#fb9f3a\"],[0.8888888888888888,\"#fdca26\"],[1.0,\"#f0f921\"]]}],\"surface\":[{\"type\":\"surface\",\"colorbar\":{\"outlinewidth\":0,\"ticks\":\"\"},\"colorscale\":[[0.0,\"#0d0887\"],[0.1111111111111111,\"#46039f\"],[0.2222222222222222,\"#7201a8\"],[0.3333333333333333,\"#9c179e\"],[0.4444444444444444,\"#bd3786\"],[0.5555555555555556,\"#d8576b\"],[0.6666666666666666,\"#ed7953\"],[0.7777777777777778,\"#fb9f3a\"],[0.8888888888888888,\"#fdca26\"],[1.0,\"#f0f921\"]]}],\"mesh3d\":[{\"type\":\"mesh3d\",\"colorbar\":{\"outlinewidth\":0,\"ticks\":\"\"}}],\"scatter\":[{\"fillpattern\":{\"fillmode\":\"overlay\",\"size\":10,\"solidity\":0.2},\"type\":\"scatter\"}],\"parcoords\":[{\"type\":\"parcoords\",\"line\":{\"colorbar\":{\"outlinewidth\":0,\"ticks\":\"\"}}}],\"scatterpolargl\":[{\"type\":\"scatterpolargl\",\"marker\":{\"colorbar\":{\"outlinewidth\":0,\"ticks\":\"\"}}}],\"bar\":[{\"error_x\":{\"color\":\"#2a3f5f\"},\"error_y\":{\"color\":\"#2a3f5f\"},\"marker\":{\"line\":{\"color\":\"#E5ECF6\",\"width\":0.5},\"pattern\":{\"fillmode\":\"overlay\",\"size\":10,\"solidity\":0.2}},\"type\":\"bar\"}],\"scattergeo\":[{\"type\":\"scattergeo\",\"marker\":{\"colorbar\":{\"outlinewidth\":0,\"ticks\":\"\"}}}],\"scatterpolar\":[{\"type\":\"scatterpolar\",\"marker\":{\"colorbar\":{\"outlinewidth\":0,\"ticks\":\"\"}}}],\"histogram\":[{\"marker\":{\"pattern\":{\"fillmode\":\"overlay\",\"size\":10,\"solidity\":0.2}},\"type\":\"histogram\"}],\"scattergl\":[{\"type\":\"scattergl\",\"marker\":{\"colorbar\":{\"outlinewidth\":0,\"ticks\":\"\"}}}],\"scatter3d\":[{\"type\":\"scatter3d\",\"line\":{\"colorbar\":{\"outlinewidth\":0,\"ticks\":\"\"}},\"marker\":{\"colorbar\":{\"outlinewidth\":0,\"ticks\":\"\"}}}],\"scattermapbox\":[{\"type\":\"scattermapbox\",\"marker\":{\"colorbar\":{\"outlinewidth\":0,\"ticks\":\"\"}}}],\"scatterternary\":[{\"type\":\"scatterternary\",\"marker\":{\"colorbar\":{\"outlinewidth\":0,\"ticks\":\"\"}}}],\"scattercarpet\":[{\"type\":\"scattercarpet\",\"marker\":{\"colorbar\":{\"outlinewidth\":0,\"ticks\":\"\"}}}],\"carpet\":[{\"aaxis\":{\"endlinecolor\":\"#2a3f5f\",\"gridcolor\":\"white\",\"linecolor\":\"white\",\"minorgridcolor\":\"white\",\"startlinecolor\":\"#2a3f5f\"},\"baxis\":{\"endlinecolor\":\"#2a3f5f\",\"gridcolor\":\"white\",\"linecolor\":\"white\",\"minorgridcolor\":\"white\",\"startlinecolor\":\"#2a3f5f\"},\"type\":\"carpet\"}],\"table\":[{\"cells\":{\"fill\":{\"color\":\"#EBF0F8\"},\"line\":{\"color\":\"white\"}},\"header\":{\"fill\":{\"color\":\"#C8D4E3\"},\"line\":{\"color\":\"white\"}},\"type\":\"table\"}],\"barpolar\":[{\"marker\":{\"line\":{\"color\":\"#E5ECF6\",\"width\":0.5},\"pattern\":{\"fillmode\":\"overlay\",\"size\":10,\"solidity\":0.2}},\"type\":\"barpolar\"}],\"pie\":[{\"automargin\":true,\"type\":\"pie\"}]},\"layout\":{\"autotypenumbers\":\"strict\",\"colorway\":[\"#636efa\",\"#EF553B\",\"#00cc96\",\"#ab63fa\",\"#FFA15A\",\"#19d3f3\",\"#FF6692\",\"#B6E880\",\"#FF97FF\",\"#FECB52\"],\"font\":{\"color\":\"#2a3f5f\"},\"hovermode\":\"closest\",\"hoverlabel\":{\"align\":\"left\"},\"paper_bgcolor\":\"white\",\"plot_bgcolor\":\"#E5ECF6\",\"polar\":{\"bgcolor\":\"#E5ECF6\",\"angularaxis\":{\"gridcolor\":\"white\",\"linecolor\":\"white\",\"ticks\":\"\"},\"radialaxis\":{\"gridcolor\":\"white\",\"linecolor\":\"white\",\"ticks\":\"\"}},\"ternary\":{\"bgcolor\":\"#E5ECF6\",\"aaxis\":{\"gridcolor\":\"white\",\"linecolor\":\"white\",\"ticks\":\"\"},\"baxis\":{\"gridcolor\":\"white\",\"linecolor\":\"white\",\"ticks\":\"\"},\"caxis\":{\"gridcolor\":\"white\",\"linecolor\":\"white\",\"ticks\":\"\"}},\"coloraxis\":{\"colorbar\":{\"outlinewidth\":0,\"ticks\":\"\"}},\"colorscale\":{\"sequential\":[[0.0,\"#0d0887\"],[0.1111111111111111,\"#46039f\"],[0.2222222222222222,\"#7201a8\"],[0.3333333333333333,\"#9c179e\"],[0.4444444444444444,\"#bd3786\"],[0.5555555555555556,\"#d8576b\"],[0.6666666666666666,\"#ed7953\"],[0.7777777777777778,\"#fb9f3a\"],[0.8888888888888888,\"#fdca26\"],[1.0,\"#f0f921\"]],\"sequentialminus\":[[0.0,\"#0d0887\"],[0.1111111111111111,\"#46039f\"],[0.2222222222222222,\"#7201a8\"],[0.3333333333333333,\"#9c179e\"],[0.4444444444444444,\"#bd3786\"],[0.5555555555555556,\"#d8576b\"],[0.6666666666666666,\"#ed7953\"],[0.7777777777777778,\"#fb9f3a\"],[0.8888888888888888,\"#fdca26\"],[1.0,\"#f0f921\"]],\"diverging\":[[0,\"#8e0152\"],[0.1,\"#c51b7d\"],[0.2,\"#de77ae\"],[0.3,\"#f1b6da\"],[0.4,\"#fde0ef\"],[0.5,\"#f7f7f7\"],[0.6,\"#e6f5d0\"],[0.7,\"#b8e186\"],[0.8,\"#7fbc41\"],[0.9,\"#4d9221\"],[1,\"#276419\"]]},\"xaxis\":{\"gridcolor\":\"white\",\"linecolor\":\"white\",\"ticks\":\"\",\"title\":{\"standoff\":15},\"zerolinecolor\":\"white\",\"automargin\":true,\"zerolinewidth\":2},\"yaxis\":{\"gridcolor\":\"white\",\"linecolor\":\"white\",\"ticks\":\"\",\"title\":{\"standoff\":15},\"zerolinecolor\":\"white\",\"automargin\":true,\"zerolinewidth\":2},\"scene\":{\"xaxis\":{\"backgroundcolor\":\"#E5ECF6\",\"gridcolor\":\"white\",\"linecolor\":\"white\",\"showbackground\":true,\"ticks\":\"\",\"zerolinecolor\":\"white\",\"gridwidth\":2},\"yaxis\":{\"backgroundcolor\":\"#E5ECF6\",\"gridcolor\":\"white\",\"linecolor\":\"white\",\"showbackground\":true,\"ticks\":\"\",\"zerolinecolor\":\"white\",\"gridwidth\":2},\"zaxis\":{\"backgroundcolor\":\"#E5ECF6\",\"gridcolor\":\"white\",\"linecolor\":\"white\",\"showbackground\":true,\"ticks\":\"\",\"zerolinecolor\":\"white\",\"gridwidth\":2}},\"shapedefaults\":{\"line\":{\"color\":\"#2a3f5f\"}},\"annotationdefaults\":{\"arrowcolor\":\"#2a3f5f\",\"arrowhead\":0,\"arrowwidth\":1},\"geo\":{\"bgcolor\":\"white\",\"landcolor\":\"#E5ECF6\",\"subunitcolor\":\"white\",\"showland\":true,\"showlakes\":true,\"lakecolor\":\"white\"},\"title\":{\"x\":0.05},\"mapbox\":{\"style\":\"light\"}}},\"xaxis\":{\"anchor\":\"y\",\"domain\":[0.0,1.0],\"title\":{\"text\":\"Match importance, 0 being the first round, 5 finals and 6 superfights\"},\"ticktext\":[\"Other\",\"Quarterfinals\",\"Semifinals\",\"3rd place\",\"Finals\",\"Superfight\"],\"tickvals\":[\"0\",\"1\",\"2\",\"3\",\"4\",\"5\"]},\"yaxis\":{\"anchor\":\"x\",\"domain\":[0.0,1.0],\"title\":{\"text\":\"Probability of victory by decision (%)\"}},\"coloraxis\":{\"colorbar\":{\"title\":{\"text\":\"Importance\"}},\"colorscale\":[[0.0,\"rgb(252, 222, 156)\"],[0.16666666666666666,\"rgb(250, 164, 118)\"],[0.3333333333333333,\"rgb(240, 116, 110)\"],[0.5,\"rgb(227, 79, 111)\"],[0.6666666666666666,\"rgb(220, 57, 119)\"],[0.8333333333333334,\"rgb(185, 37, 122)\"],[1.0,\"rgb(124, 29, 111)\"]],\"showscale\":false},\"legend\":{\"tracegroupgap\":0},\"title\":{\"text\":\"Probability of Decision by match importance\",\"x\":0.48},\"barmode\":\"relative\",\"showlegend\":false},                        {\"responsive\": true}                    ).then(function(){\n",
       "                            \n",
       "var gd = document.getElementById('3f393b6f-2dff-452a-9281-30e6638f62be');\n",
       "var x = new MutationObserver(function (mutations, observer) {{\n",
       "        var display = window.getComputedStyle(gd).display;\n",
       "        if (!display || display === 'none') {{\n",
       "            console.log([gd, 'removed!']);\n",
       "            Plotly.purge(gd);\n",
       "            observer.disconnect();\n",
       "        }}\n",
       "}});\n",
       "\n",
       "// Listen for the removal of the full notebook cells\n",
       "var notebookContainer = gd.closest('#notebook-container');\n",
       "if (notebookContainer) {{\n",
       "    x.observe(notebookContainer, {childList: true});\n",
       "}}\n",
       "\n",
       "// Listen for the clearing of the current output cell\n",
       "var outputEl = gd.closest('.output');\n",
       "if (outputEl) {{\n",
       "    x.observe(outputEl, {childList: true});\n",
       "}}\n",
       "\n",
       "                        })                };                });            </script>        </div>"
      ]
     },
     "metadata": {},
     "output_type": "display_data"
    }
   ],
   "source": [
    "# Get only matches the ended in decision\n",
    "decision_mdf = mdf[mdf['victory_method'] == 'DECISION']\n",
    "\n",
    "# Calculate decision ratio for each 'importance' value\n",
    "decision_ratio = decision_mdf.groupby('importance').size() / mdf.groupby('importance').size()\n",
    "decision_ratio *= 100  # Convert to percentage\n",
    "\n",
    "# It's easier to plot this exact information by creating a specific dataframe\n",
    "decision_ratio_mdf = pd.DataFrame({'importance': decision_ratio.index, 'decision_ratio': decision_ratio.values})\n",
    "\n",
    "# Plot the bars with plotly express\n",
    "fig = px.bar(data_frame=decision_ratio_mdf, x=decision_ratio_mdf['importance'].astype(str),\n",
    "             y='decision_ratio',labels={'importance': 'Importance',\n",
    "                                          'Decision victory ratio (%)': 'decision Ratio (%)',\n",
    "            'x':'Match importance, 0 being the first round, 5 finals and 6 superfights'},\n",
    "             title='Probability of Decision by match importance',\n",
    "             text=decision_ratio.values.round(2),  # Display percentage values inside bars\n",
    "             hover_data={'importance': True, 'decision_ratio': ':.2f'},\n",
    "            color_continuous_scale=px.colors.sequential.Sunsetdark,\n",
    "            color='importance')\n",
    "\n",
    "\n",
    "# Modify the tick names in the x-axis\n",
    "custom_labels = {\n",
    "'0':'Other',\n",
    "'1':'Quarterfinals',\n",
    "'2':'Semifinals',\n",
    "'3':'3rd place',\n",
    "'4':'Finals',\n",
    "'5':'Superfight'\n",
    "}\n",
    "\n",
    "fig.update_xaxes(ticktext=list(custom_labels.values()),\n",
    "                 tickvals=list(custom_labels.keys()))\n",
    "\n",
    "fig.update_traces(textposition='inside') \n",
    "fig.update_layout(showlegend=False, coloraxis_showscale=False,\n",
    "                 yaxis_title=\"Probability of victory by decision (%)\",\n",
    "                 title_x=0.48)\n",
    "\n",
    "\n",
    "fig.show()"
   ]
  },
  {
   "cell_type": "markdown",
   "id": "04938efc",
   "metadata": {
    "papermill": {
     "duration": 0.032357,
     "end_time": "2023-06-16T16:32:49.210895",
     "exception": false,
     "start_time": "2023-06-16T16:32:49.178538",
     "status": "completed"
    },
    "tags": []
   },
   "source": [
    "The same trends can be seen here, with semifinals and superfights boasting high decision victory rates.  \n",
    "This means that not only are athletes more cautious about getting submitted, but also about conceding points in these situations."
   ]
  },
  {
   "cell_type": "markdown",
   "id": "cc55dde8",
   "metadata": {
    "papermill": {
     "duration": 0.032082,
     "end_time": "2023-06-16T16:32:49.275332",
     "exception": false,
     "start_time": "2023-06-16T16:32:49.243250",
     "status": "completed"
    },
    "tags": []
   },
   "source": [
    "### Who are the most accomplished submission specialists of all time?"
   ]
  },
  {
   "cell_type": "code",
   "execution_count": 41,
   "id": "c99402bf",
   "metadata": {
    "_kg_hide-input": true,
    "execution": {
     "iopub.execute_input": "2023-06-16T16:32:49.342663Z",
     "iopub.status.busy": "2023-06-16T16:32:49.342080Z",
     "iopub.status.idle": "2023-06-16T16:32:49.376934Z",
     "shell.execute_reply": "2023-06-16T16:32:49.376183Z"
    },
    "papermill": {
     "duration": 0.070979,
     "end_time": "2023-06-16T16:32:49.378840",
     "exception": false,
     "start_time": "2023-06-16T16:32:49.307861",
     "status": "completed"
    },
    "tags": []
   },
   "outputs": [
    {
     "data": {
      "text/html": [
       "<div>                            <div id=\"d3f6aee0-1f95-4330-9599-561519211eaf\" class=\"plotly-graph-div\" style=\"height:525px; width:100%;\"></div>            <script type=\"text/javascript\">                require([\"plotly\"], function(Plotly) {                    window.PLOTLYENV=window.PLOTLYENV || {};                                    if (document.getElementById(\"d3f6aee0-1f95-4330-9599-561519211eaf\")) {                    Plotly.newPlot(                        \"d3f6aee0-1f95-4330-9599-561519211eaf\",                        [{\"marker\":{\"color\":\"seagreen\"},\"name\":\"Most Frequent Winner\",\"opacity\":0.8,\"orientation\":\"h\",\"text\":[\"Alexandre Ribeiro\",\"Dean Lister\",\"Marcelo Garcia\",\"Gabrielle Garcia\"],\"textfont\":{\"color\":\"white\",\"size\":14},\"textposition\":\"inside\",\"x\":[7,11,19,2],\"y\":[\"Arm\",\"Leg\",\"Neck\",\"Other/Unknown\"],\"type\":\"bar\"},{\"marker\":{\"color\":\"orangered\"},\"name\":\"Most Frequent Loser\",\"opacity\":0.8,\"orientation\":\"h\",\"text\":[\"Ben Henderson\",\"Joao Gabriel Rocha\",\"Alexandre Ribeiro\",\"A. Cacareco\"],\"textfont\":{\"color\":\"white\",\"size\":14},\"textposition\":\"inside\",\"x\":[2,4,4,1],\"y\":[\"Arm\",\"Leg\",\"Neck\",\"Other/Unknown\"],\"type\":\"bar\"}],                        {\"template\":{\"data\":{\"histogram2dcontour\":[{\"type\":\"histogram2dcontour\",\"colorbar\":{\"outlinewidth\":0,\"ticks\":\"\"},\"colorscale\":[[0.0,\"#0d0887\"],[0.1111111111111111,\"#46039f\"],[0.2222222222222222,\"#7201a8\"],[0.3333333333333333,\"#9c179e\"],[0.4444444444444444,\"#bd3786\"],[0.5555555555555556,\"#d8576b\"],[0.6666666666666666,\"#ed7953\"],[0.7777777777777778,\"#fb9f3a\"],[0.8888888888888888,\"#fdca26\"],[1.0,\"#f0f921\"]]}],\"choropleth\":[{\"type\":\"choropleth\",\"colorbar\":{\"outlinewidth\":0,\"ticks\":\"\"}}],\"histogram2d\":[{\"type\":\"histogram2d\",\"colorbar\":{\"outlinewidth\":0,\"ticks\":\"\"},\"colorscale\":[[0.0,\"#0d0887\"],[0.1111111111111111,\"#46039f\"],[0.2222222222222222,\"#7201a8\"],[0.3333333333333333,\"#9c179e\"],[0.4444444444444444,\"#bd3786\"],[0.5555555555555556,\"#d8576b\"],[0.6666666666666666,\"#ed7953\"],[0.7777777777777778,\"#fb9f3a\"],[0.8888888888888888,\"#fdca26\"],[1.0,\"#f0f921\"]]}],\"heatmap\":[{\"type\":\"heatmap\",\"colorbar\":{\"outlinewidth\":0,\"ticks\":\"\"},\"colorscale\":[[0.0,\"#0d0887\"],[0.1111111111111111,\"#46039f\"],[0.2222222222222222,\"#7201a8\"],[0.3333333333333333,\"#9c179e\"],[0.4444444444444444,\"#bd3786\"],[0.5555555555555556,\"#d8576b\"],[0.6666666666666666,\"#ed7953\"],[0.7777777777777778,\"#fb9f3a\"],[0.8888888888888888,\"#fdca26\"],[1.0,\"#f0f921\"]]}],\"heatmapgl\":[{\"type\":\"heatmapgl\",\"colorbar\":{\"outlinewidth\":0,\"ticks\":\"\"},\"colorscale\":[[0.0,\"#0d0887\"],[0.1111111111111111,\"#46039f\"],[0.2222222222222222,\"#7201a8\"],[0.3333333333333333,\"#9c179e\"],[0.4444444444444444,\"#bd3786\"],[0.5555555555555556,\"#d8576b\"],[0.6666666666666666,\"#ed7953\"],[0.7777777777777778,\"#fb9f3a\"],[0.8888888888888888,\"#fdca26\"],[1.0,\"#f0f921\"]]}],\"contourcarpet\":[{\"type\":\"contourcarpet\",\"colorbar\":{\"outlinewidth\":0,\"ticks\":\"\"}}],\"contour\":[{\"type\":\"contour\",\"colorbar\":{\"outlinewidth\":0,\"ticks\":\"\"},\"colorscale\":[[0.0,\"#0d0887\"],[0.1111111111111111,\"#46039f\"],[0.2222222222222222,\"#7201a8\"],[0.3333333333333333,\"#9c179e\"],[0.4444444444444444,\"#bd3786\"],[0.5555555555555556,\"#d8576b\"],[0.6666666666666666,\"#ed7953\"],[0.7777777777777778,\"#fb9f3a\"],[0.8888888888888888,\"#fdca26\"],[1.0,\"#f0f921\"]]}],\"surface\":[{\"type\":\"surface\",\"colorbar\":{\"outlinewidth\":0,\"ticks\":\"\"},\"colorscale\":[[0.0,\"#0d0887\"],[0.1111111111111111,\"#46039f\"],[0.2222222222222222,\"#7201a8\"],[0.3333333333333333,\"#9c179e\"],[0.4444444444444444,\"#bd3786\"],[0.5555555555555556,\"#d8576b\"],[0.6666666666666666,\"#ed7953\"],[0.7777777777777778,\"#fb9f3a\"],[0.8888888888888888,\"#fdca26\"],[1.0,\"#f0f921\"]]}],\"mesh3d\":[{\"type\":\"mesh3d\",\"colorbar\":{\"outlinewidth\":0,\"ticks\":\"\"}}],\"scatter\":[{\"fillpattern\":{\"fillmode\":\"overlay\",\"size\":10,\"solidity\":0.2},\"type\":\"scatter\"}],\"parcoords\":[{\"type\":\"parcoords\",\"line\":{\"colorbar\":{\"outlinewidth\":0,\"ticks\":\"\"}}}],\"scatterpolargl\":[{\"type\":\"scatterpolargl\",\"marker\":{\"colorbar\":{\"outlinewidth\":0,\"ticks\":\"\"}}}],\"bar\":[{\"error_x\":{\"color\":\"#2a3f5f\"},\"error_y\":{\"color\":\"#2a3f5f\"},\"marker\":{\"line\":{\"color\":\"#E5ECF6\",\"width\":0.5},\"pattern\":{\"fillmode\":\"overlay\",\"size\":10,\"solidity\":0.2}},\"type\":\"bar\"}],\"scattergeo\":[{\"type\":\"scattergeo\",\"marker\":{\"colorbar\":{\"outlinewidth\":0,\"ticks\":\"\"}}}],\"scatterpolar\":[{\"type\":\"scatterpolar\",\"marker\":{\"colorbar\":{\"outlinewidth\":0,\"ticks\":\"\"}}}],\"histogram\":[{\"marker\":{\"pattern\":{\"fillmode\":\"overlay\",\"size\":10,\"solidity\":0.2}},\"type\":\"histogram\"}],\"scattergl\":[{\"type\":\"scattergl\",\"marker\":{\"colorbar\":{\"outlinewidth\":0,\"ticks\":\"\"}}}],\"scatter3d\":[{\"type\":\"scatter3d\",\"line\":{\"colorbar\":{\"outlinewidth\":0,\"ticks\":\"\"}},\"marker\":{\"colorbar\":{\"outlinewidth\":0,\"ticks\":\"\"}}}],\"scattermapbox\":[{\"type\":\"scattermapbox\",\"marker\":{\"colorbar\":{\"outlinewidth\":0,\"ticks\":\"\"}}}],\"scatterternary\":[{\"type\":\"scatterternary\",\"marker\":{\"colorbar\":{\"outlinewidth\":0,\"ticks\":\"\"}}}],\"scattercarpet\":[{\"type\":\"scattercarpet\",\"marker\":{\"colorbar\":{\"outlinewidth\":0,\"ticks\":\"\"}}}],\"carpet\":[{\"aaxis\":{\"endlinecolor\":\"#2a3f5f\",\"gridcolor\":\"white\",\"linecolor\":\"white\",\"minorgridcolor\":\"white\",\"startlinecolor\":\"#2a3f5f\"},\"baxis\":{\"endlinecolor\":\"#2a3f5f\",\"gridcolor\":\"white\",\"linecolor\":\"white\",\"minorgridcolor\":\"white\",\"startlinecolor\":\"#2a3f5f\"},\"type\":\"carpet\"}],\"table\":[{\"cells\":{\"fill\":{\"color\":\"#EBF0F8\"},\"line\":{\"color\":\"white\"}},\"header\":{\"fill\":{\"color\":\"#C8D4E3\"},\"line\":{\"color\":\"white\"}},\"type\":\"table\"}],\"barpolar\":[{\"marker\":{\"line\":{\"color\":\"#E5ECF6\",\"width\":0.5},\"pattern\":{\"fillmode\":\"overlay\",\"size\":10,\"solidity\":0.2}},\"type\":\"barpolar\"}],\"pie\":[{\"automargin\":true,\"type\":\"pie\"}]},\"layout\":{\"autotypenumbers\":\"strict\",\"colorway\":[\"#636efa\",\"#EF553B\",\"#00cc96\",\"#ab63fa\",\"#FFA15A\",\"#19d3f3\",\"#FF6692\",\"#B6E880\",\"#FF97FF\",\"#FECB52\"],\"font\":{\"color\":\"#2a3f5f\"},\"hovermode\":\"closest\",\"hoverlabel\":{\"align\":\"left\"},\"paper_bgcolor\":\"white\",\"plot_bgcolor\":\"#E5ECF6\",\"polar\":{\"bgcolor\":\"#E5ECF6\",\"angularaxis\":{\"gridcolor\":\"white\",\"linecolor\":\"white\",\"ticks\":\"\"},\"radialaxis\":{\"gridcolor\":\"white\",\"linecolor\":\"white\",\"ticks\":\"\"}},\"ternary\":{\"bgcolor\":\"#E5ECF6\",\"aaxis\":{\"gridcolor\":\"white\",\"linecolor\":\"white\",\"ticks\":\"\"},\"baxis\":{\"gridcolor\":\"white\",\"linecolor\":\"white\",\"ticks\":\"\"},\"caxis\":{\"gridcolor\":\"white\",\"linecolor\":\"white\",\"ticks\":\"\"}},\"coloraxis\":{\"colorbar\":{\"outlinewidth\":0,\"ticks\":\"\"}},\"colorscale\":{\"sequential\":[[0.0,\"#0d0887\"],[0.1111111111111111,\"#46039f\"],[0.2222222222222222,\"#7201a8\"],[0.3333333333333333,\"#9c179e\"],[0.4444444444444444,\"#bd3786\"],[0.5555555555555556,\"#d8576b\"],[0.6666666666666666,\"#ed7953\"],[0.7777777777777778,\"#fb9f3a\"],[0.8888888888888888,\"#fdca26\"],[1.0,\"#f0f921\"]],\"sequentialminus\":[[0.0,\"#0d0887\"],[0.1111111111111111,\"#46039f\"],[0.2222222222222222,\"#7201a8\"],[0.3333333333333333,\"#9c179e\"],[0.4444444444444444,\"#bd3786\"],[0.5555555555555556,\"#d8576b\"],[0.6666666666666666,\"#ed7953\"],[0.7777777777777778,\"#fb9f3a\"],[0.8888888888888888,\"#fdca26\"],[1.0,\"#f0f921\"]],\"diverging\":[[0,\"#8e0152\"],[0.1,\"#c51b7d\"],[0.2,\"#de77ae\"],[0.3,\"#f1b6da\"],[0.4,\"#fde0ef\"],[0.5,\"#f7f7f7\"],[0.6,\"#e6f5d0\"],[0.7,\"#b8e186\"],[0.8,\"#7fbc41\"],[0.9,\"#4d9221\"],[1,\"#276419\"]]},\"xaxis\":{\"gridcolor\":\"white\",\"linecolor\":\"white\",\"ticks\":\"\",\"title\":{\"standoff\":15},\"zerolinecolor\":\"white\",\"automargin\":true,\"zerolinewidth\":2},\"yaxis\":{\"gridcolor\":\"white\",\"linecolor\":\"white\",\"ticks\":\"\",\"title\":{\"standoff\":15},\"zerolinecolor\":\"white\",\"automargin\":true,\"zerolinewidth\":2},\"scene\":{\"xaxis\":{\"backgroundcolor\":\"#E5ECF6\",\"gridcolor\":\"white\",\"linecolor\":\"white\",\"showbackground\":true,\"ticks\":\"\",\"zerolinecolor\":\"white\",\"gridwidth\":2},\"yaxis\":{\"backgroundcolor\":\"#E5ECF6\",\"gridcolor\":\"white\",\"linecolor\":\"white\",\"showbackground\":true,\"ticks\":\"\",\"zerolinecolor\":\"white\",\"gridwidth\":2},\"zaxis\":{\"backgroundcolor\":\"#E5ECF6\",\"gridcolor\":\"white\",\"linecolor\":\"white\",\"showbackground\":true,\"ticks\":\"\",\"zerolinecolor\":\"white\",\"gridwidth\":2}},\"shapedefaults\":{\"line\":{\"color\":\"#2a3f5f\"}},\"annotationdefaults\":{\"arrowcolor\":\"#2a3f5f\",\"arrowhead\":0,\"arrowwidth\":1},\"geo\":{\"bgcolor\":\"white\",\"landcolor\":\"#E5ECF6\",\"subunitcolor\":\"white\",\"showland\":true,\"showlakes\":true,\"lakecolor\":\"white\"},\"title\":{\"x\":0.05},\"mapbox\":{\"style\":\"light\"}}},\"legend\":{\"x\":0.7,\"y\":0.95,\"bgcolor\":\"rgba(0,0,0,0)\"},\"title\":{\"text\":\"Most Frequent Winner and Loser for Each Submission Target\",\"x\":0.45},\"xaxis\":{\"title\":{\"text\":\"Number of matches\"}},\"yaxis\":{\"title\":{\"text\":\"Submission Target\"}},\"barmode\":\"relative\",\"bargap\":0.2,\"showlegend\":true},                        {\"responsive\": true}                    ).then(function(){\n",
       "                            \n",
       "var gd = document.getElementById('d3f6aee0-1f95-4330-9599-561519211eaf');\n",
       "var x = new MutationObserver(function (mutations, observer) {{\n",
       "        var display = window.getComputedStyle(gd).display;\n",
       "        if (!display || display === 'none') {{\n",
       "            console.log([gd, 'removed!']);\n",
       "            Plotly.purge(gd);\n",
       "            observer.disconnect();\n",
       "        }}\n",
       "}});\n",
       "\n",
       "// Listen for the removal of the full notebook cells\n",
       "var notebookContainer = gd.closest('#notebook-container');\n",
       "if (notebookContainer) {{\n",
       "    x.observe(notebookContainer, {childList: true});\n",
       "}}\n",
       "\n",
       "// Listen for the clearing of the current output cell\n",
       "var outputEl = gd.closest('.output');\n",
       "if (outputEl) {{\n",
       "    x.observe(outputEl, {childList: true});\n",
       "}}\n",
       "\n",
       "                        })                };                });            </script>        </div>"
      ]
     },
     "metadata": {},
     "output_type": "display_data"
    }
   ],
   "source": [
    "# Get counts of submissions by fighter for each target\n",
    "winner_counts = mdf.groupby(['submission_target', 'winner_name']).size().reset_index(name='win_count')\n",
    "\n",
    "# Find the most frequent winner for each submission target\n",
    "top_winners = winner_counts.groupby('submission_target')['win_count'].idxmax()\n",
    "most_frequent_winners = winner_counts.loc[top_winners]\n",
    "\n",
    "# Group the data by submission target and loser name to get the count of losses for each combination\n",
    "loser_counts = mdf.groupby(['submission_target', 'loser_name']).size().reset_index(name='loss_count')\n",
    "\n",
    "# Find the most frequent loser for each submission target\n",
    "top_losers = loser_counts.groupby('submission_target')['loss_count'].idxmax()\n",
    "most_frequent_losers = loser_counts.loc[top_losers]\n",
    "\n",
    "# Create a horizontal bar chart using Plotly\n",
    "fig = go.Figure()\n",
    "\n",
    "# Add green bars for the most frequent winners\n",
    "fig.add_trace(go.Bar(\n",
    "    y=most_frequent_winners['submission_target'],\n",
    "    x=most_frequent_winners['win_count'],\n",
    "    orientation='h',\n",
    "    name='Most Frequent Winner',\n",
    "    marker=dict(color='seagreen'),\n",
    "    text=most_frequent_winners['winner_name'],\n",
    "    textposition='inside', opacity=0.8,\n",
    "    textfont=dict(color='white', size=14)\n",
    "))\n",
    "\n",
    "# Add red bars for the most frequent losers\n",
    "fig.add_trace(go.Bar(\n",
    "    y=most_frequent_losers['submission_target'],\n",
    "    x=most_frequent_losers['loss_count'],\n",
    "    orientation='h',\n",
    "    name='Most Frequent Loser',\n",
    "    marker=dict(color='orangered'),\n",
    "    text=most_frequent_losers['loser_name'],\n",
    "    textposition='inside', opacity=0.8,\n",
    "    textfont=dict(color='white', size=14)\n",
    "))\n",
    "\n",
    "\n",
    "fig.update_layout(\n",
    "    title='Most Frequent Winner and Loser for Each Submission Target',\n",
    "    xaxis_title='Number of matches',\n",
    "    yaxis_title='Submission Target',\n",
    "    barmode='relative',\n",
    "    bargap=0.2,\n",
    "    legend=dict(\n",
    "        x=0.7,\n",
    "        y=0.95,\n",
    "        bgcolor='rgba(0,0,0,0)'\n",
    "    ),\n",
    "    showlegend=True,\n",
    "    title_x=0.45,\n",
    ")\n",
    "\n",
    "fig.show()"
   ]
  },
  {
   "cell_type": "markdown",
   "id": "d13e9eb1",
   "metadata": {
    "papermill": {
     "duration": 0.03305,
     "end_time": "2023-06-16T16:32:49.444896",
     "exception": false,
     "start_time": "2023-06-16T16:32:49.411846",
     "status": "completed"
    },
    "tags": []
   },
   "source": [
    "Marcelo Garcia greatly stands out for the amount of matches ended by neck attack. Not only is he notorious for his use of guillotines, his seated guard systems for submission grappling are highly influential to this day.  \n",
    "\n",
    "Dean Lister's known for introducing many of the leg attacks that later got popularized by teams focusing on the area, and has achieved many submissions with these attacks.  \n",
    "  \n",
    "Comparatively, arm attacks are rarer as a choice for specialization and its submissions seem to be more distributted among the athletes."
   ]
  },
  {
   "cell_type": "markdown",
   "id": "0979aff9",
   "metadata": {
    "papermill": {
     "duration": 0.0326,
     "end_time": "2023-06-16T16:32:49.510942",
     "exception": false,
     "start_time": "2023-06-16T16:32:49.478342",
     "status": "completed"
    },
    "tags": []
   },
   "source": [
    "### Who won the most matches by each victory method?"
   ]
  },
  {
   "cell_type": "code",
   "execution_count": 42,
   "id": "c272e14c",
   "metadata": {
    "_kg_hide-input": true,
    "execution": {
     "iopub.execute_input": "2023-06-16T16:32:49.580446Z",
     "iopub.status.busy": "2023-06-16T16:32:49.579874Z",
     "iopub.status.idle": "2023-06-16T16:32:49.615048Z",
     "shell.execute_reply": "2023-06-16T16:32:49.613895Z"
    },
    "papermill": {
     "duration": 0.073695,
     "end_time": "2023-06-16T16:32:49.617524",
     "exception": false,
     "start_time": "2023-06-16T16:32:49.543829",
     "status": "completed"
    },
    "tags": []
   },
   "outputs": [
    {
     "data": {
      "text/html": [
       "<div>                            <div id=\"ea65fe5c-ebfa-4a7e-91f3-74ed119b87df\" class=\"plotly-graph-div\" style=\"height:525px; width:100%;\"></div>            <script type=\"text/javascript\">                require([\"plotly\"], function(Plotly) {                    window.PLOTLYENV=window.PLOTLYENV || {};                                    if (document.getElementById(\"ea65fe5c-ebfa-4a7e-91f3-74ed119b87df\")) {                    Plotly.newPlot(                        \"ea65fe5c-ebfa-4a7e-91f3-74ed119b87df\",                        [{\"marker\":{\"color\":\"seagreen\"},\"name\":\"Most Frequent Winner\",\"opacity\":0.8,\"orientation\":\"h\",\"text\":[\"Orlando Sanchez\",\"Andre Galvao\",\"Marcelo Garcia\"],\"textfont\":{\"color\":\"white\",\"size\":16},\"textposition\":\"inside\",\"x\":[5,16,23],\"y\":[\"DECISION\",\"POINTS\",\"SUBMISSION\"],\"type\":\"bar\"},{\"marker\":{\"color\":\"orangered\"},\"name\":\"Most Frequent Loser\",\"opacity\":0.8,\"orientation\":\"h\",\"text\":[\"Rafael Lovato Jr\",\"Baret Yoshida\",\"A. Cacareco\"],\"textfont\":{\"color\":\"white\",\"size\":16},\"textposition\":\"inside\",\"x\":[4,11,5],\"y\":[\"DECISION\",\"POINTS\",\"SUBMISSION\"],\"type\":\"bar\"}],                        {\"template\":{\"data\":{\"histogram2dcontour\":[{\"type\":\"histogram2dcontour\",\"colorbar\":{\"outlinewidth\":0,\"ticks\":\"\"},\"colorscale\":[[0.0,\"#0d0887\"],[0.1111111111111111,\"#46039f\"],[0.2222222222222222,\"#7201a8\"],[0.3333333333333333,\"#9c179e\"],[0.4444444444444444,\"#bd3786\"],[0.5555555555555556,\"#d8576b\"],[0.6666666666666666,\"#ed7953\"],[0.7777777777777778,\"#fb9f3a\"],[0.8888888888888888,\"#fdca26\"],[1.0,\"#f0f921\"]]}],\"choropleth\":[{\"type\":\"choropleth\",\"colorbar\":{\"outlinewidth\":0,\"ticks\":\"\"}}],\"histogram2d\":[{\"type\":\"histogram2d\",\"colorbar\":{\"outlinewidth\":0,\"ticks\":\"\"},\"colorscale\":[[0.0,\"#0d0887\"],[0.1111111111111111,\"#46039f\"],[0.2222222222222222,\"#7201a8\"],[0.3333333333333333,\"#9c179e\"],[0.4444444444444444,\"#bd3786\"],[0.5555555555555556,\"#d8576b\"],[0.6666666666666666,\"#ed7953\"],[0.7777777777777778,\"#fb9f3a\"],[0.8888888888888888,\"#fdca26\"],[1.0,\"#f0f921\"]]}],\"heatmap\":[{\"type\":\"heatmap\",\"colorbar\":{\"outlinewidth\":0,\"ticks\":\"\"},\"colorscale\":[[0.0,\"#0d0887\"],[0.1111111111111111,\"#46039f\"],[0.2222222222222222,\"#7201a8\"],[0.3333333333333333,\"#9c179e\"],[0.4444444444444444,\"#bd3786\"],[0.5555555555555556,\"#d8576b\"],[0.6666666666666666,\"#ed7953\"],[0.7777777777777778,\"#fb9f3a\"],[0.8888888888888888,\"#fdca26\"],[1.0,\"#f0f921\"]]}],\"heatmapgl\":[{\"type\":\"heatmapgl\",\"colorbar\":{\"outlinewidth\":0,\"ticks\":\"\"},\"colorscale\":[[0.0,\"#0d0887\"],[0.1111111111111111,\"#46039f\"],[0.2222222222222222,\"#7201a8\"],[0.3333333333333333,\"#9c179e\"],[0.4444444444444444,\"#bd3786\"],[0.5555555555555556,\"#d8576b\"],[0.6666666666666666,\"#ed7953\"],[0.7777777777777778,\"#fb9f3a\"],[0.8888888888888888,\"#fdca26\"],[1.0,\"#f0f921\"]]}],\"contourcarpet\":[{\"type\":\"contourcarpet\",\"colorbar\":{\"outlinewidth\":0,\"ticks\":\"\"}}],\"contour\":[{\"type\":\"contour\",\"colorbar\":{\"outlinewidth\":0,\"ticks\":\"\"},\"colorscale\":[[0.0,\"#0d0887\"],[0.1111111111111111,\"#46039f\"],[0.2222222222222222,\"#7201a8\"],[0.3333333333333333,\"#9c179e\"],[0.4444444444444444,\"#bd3786\"],[0.5555555555555556,\"#d8576b\"],[0.6666666666666666,\"#ed7953\"],[0.7777777777777778,\"#fb9f3a\"],[0.8888888888888888,\"#fdca26\"],[1.0,\"#f0f921\"]]}],\"surface\":[{\"type\":\"surface\",\"colorbar\":{\"outlinewidth\":0,\"ticks\":\"\"},\"colorscale\":[[0.0,\"#0d0887\"],[0.1111111111111111,\"#46039f\"],[0.2222222222222222,\"#7201a8\"],[0.3333333333333333,\"#9c179e\"],[0.4444444444444444,\"#bd3786\"],[0.5555555555555556,\"#d8576b\"],[0.6666666666666666,\"#ed7953\"],[0.7777777777777778,\"#fb9f3a\"],[0.8888888888888888,\"#fdca26\"],[1.0,\"#f0f921\"]]}],\"mesh3d\":[{\"type\":\"mesh3d\",\"colorbar\":{\"outlinewidth\":0,\"ticks\":\"\"}}],\"scatter\":[{\"fillpattern\":{\"fillmode\":\"overlay\",\"size\":10,\"solidity\":0.2},\"type\":\"scatter\"}],\"parcoords\":[{\"type\":\"parcoords\",\"line\":{\"colorbar\":{\"outlinewidth\":0,\"ticks\":\"\"}}}],\"scatterpolargl\":[{\"type\":\"scatterpolargl\",\"marker\":{\"colorbar\":{\"outlinewidth\":0,\"ticks\":\"\"}}}],\"bar\":[{\"error_x\":{\"color\":\"#2a3f5f\"},\"error_y\":{\"color\":\"#2a3f5f\"},\"marker\":{\"line\":{\"color\":\"#E5ECF6\",\"width\":0.5},\"pattern\":{\"fillmode\":\"overlay\",\"size\":10,\"solidity\":0.2}},\"type\":\"bar\"}],\"scattergeo\":[{\"type\":\"scattergeo\",\"marker\":{\"colorbar\":{\"outlinewidth\":0,\"ticks\":\"\"}}}],\"scatterpolar\":[{\"type\":\"scatterpolar\",\"marker\":{\"colorbar\":{\"outlinewidth\":0,\"ticks\":\"\"}}}],\"histogram\":[{\"marker\":{\"pattern\":{\"fillmode\":\"overlay\",\"size\":10,\"solidity\":0.2}},\"type\":\"histogram\"}],\"scattergl\":[{\"type\":\"scattergl\",\"marker\":{\"colorbar\":{\"outlinewidth\":0,\"ticks\":\"\"}}}],\"scatter3d\":[{\"type\":\"scatter3d\",\"line\":{\"colorbar\":{\"outlinewidth\":0,\"ticks\":\"\"}},\"marker\":{\"colorbar\":{\"outlinewidth\":0,\"ticks\":\"\"}}}],\"scattermapbox\":[{\"type\":\"scattermapbox\",\"marker\":{\"colorbar\":{\"outlinewidth\":0,\"ticks\":\"\"}}}],\"scatterternary\":[{\"type\":\"scatterternary\",\"marker\":{\"colorbar\":{\"outlinewidth\":0,\"ticks\":\"\"}}}],\"scattercarpet\":[{\"type\":\"scattercarpet\",\"marker\":{\"colorbar\":{\"outlinewidth\":0,\"ticks\":\"\"}}}],\"carpet\":[{\"aaxis\":{\"endlinecolor\":\"#2a3f5f\",\"gridcolor\":\"white\",\"linecolor\":\"white\",\"minorgridcolor\":\"white\",\"startlinecolor\":\"#2a3f5f\"},\"baxis\":{\"endlinecolor\":\"#2a3f5f\",\"gridcolor\":\"white\",\"linecolor\":\"white\",\"minorgridcolor\":\"white\",\"startlinecolor\":\"#2a3f5f\"},\"type\":\"carpet\"}],\"table\":[{\"cells\":{\"fill\":{\"color\":\"#EBF0F8\"},\"line\":{\"color\":\"white\"}},\"header\":{\"fill\":{\"color\":\"#C8D4E3\"},\"line\":{\"color\":\"white\"}},\"type\":\"table\"}],\"barpolar\":[{\"marker\":{\"line\":{\"color\":\"#E5ECF6\",\"width\":0.5},\"pattern\":{\"fillmode\":\"overlay\",\"size\":10,\"solidity\":0.2}},\"type\":\"barpolar\"}],\"pie\":[{\"automargin\":true,\"type\":\"pie\"}]},\"layout\":{\"autotypenumbers\":\"strict\",\"colorway\":[\"#636efa\",\"#EF553B\",\"#00cc96\",\"#ab63fa\",\"#FFA15A\",\"#19d3f3\",\"#FF6692\",\"#B6E880\",\"#FF97FF\",\"#FECB52\"],\"font\":{\"color\":\"#2a3f5f\"},\"hovermode\":\"closest\",\"hoverlabel\":{\"align\":\"left\"},\"paper_bgcolor\":\"white\",\"plot_bgcolor\":\"#E5ECF6\",\"polar\":{\"bgcolor\":\"#E5ECF6\",\"angularaxis\":{\"gridcolor\":\"white\",\"linecolor\":\"white\",\"ticks\":\"\"},\"radialaxis\":{\"gridcolor\":\"white\",\"linecolor\":\"white\",\"ticks\":\"\"}},\"ternary\":{\"bgcolor\":\"#E5ECF6\",\"aaxis\":{\"gridcolor\":\"white\",\"linecolor\":\"white\",\"ticks\":\"\"},\"baxis\":{\"gridcolor\":\"white\",\"linecolor\":\"white\",\"ticks\":\"\"},\"caxis\":{\"gridcolor\":\"white\",\"linecolor\":\"white\",\"ticks\":\"\"}},\"coloraxis\":{\"colorbar\":{\"outlinewidth\":0,\"ticks\":\"\"}},\"colorscale\":{\"sequential\":[[0.0,\"#0d0887\"],[0.1111111111111111,\"#46039f\"],[0.2222222222222222,\"#7201a8\"],[0.3333333333333333,\"#9c179e\"],[0.4444444444444444,\"#bd3786\"],[0.5555555555555556,\"#d8576b\"],[0.6666666666666666,\"#ed7953\"],[0.7777777777777778,\"#fb9f3a\"],[0.8888888888888888,\"#fdca26\"],[1.0,\"#f0f921\"]],\"sequentialminus\":[[0.0,\"#0d0887\"],[0.1111111111111111,\"#46039f\"],[0.2222222222222222,\"#7201a8\"],[0.3333333333333333,\"#9c179e\"],[0.4444444444444444,\"#bd3786\"],[0.5555555555555556,\"#d8576b\"],[0.6666666666666666,\"#ed7953\"],[0.7777777777777778,\"#fb9f3a\"],[0.8888888888888888,\"#fdca26\"],[1.0,\"#f0f921\"]],\"diverging\":[[0,\"#8e0152\"],[0.1,\"#c51b7d\"],[0.2,\"#de77ae\"],[0.3,\"#f1b6da\"],[0.4,\"#fde0ef\"],[0.5,\"#f7f7f7\"],[0.6,\"#e6f5d0\"],[0.7,\"#b8e186\"],[0.8,\"#7fbc41\"],[0.9,\"#4d9221\"],[1,\"#276419\"]]},\"xaxis\":{\"gridcolor\":\"white\",\"linecolor\":\"white\",\"ticks\":\"\",\"title\":{\"standoff\":15},\"zerolinecolor\":\"white\",\"automargin\":true,\"zerolinewidth\":2},\"yaxis\":{\"gridcolor\":\"white\",\"linecolor\":\"white\",\"ticks\":\"\",\"title\":{\"standoff\":15},\"zerolinecolor\":\"white\",\"automargin\":true,\"zerolinewidth\":2},\"scene\":{\"xaxis\":{\"backgroundcolor\":\"#E5ECF6\",\"gridcolor\":\"white\",\"linecolor\":\"white\",\"showbackground\":true,\"ticks\":\"\",\"zerolinecolor\":\"white\",\"gridwidth\":2},\"yaxis\":{\"backgroundcolor\":\"#E5ECF6\",\"gridcolor\":\"white\",\"linecolor\":\"white\",\"showbackground\":true,\"ticks\":\"\",\"zerolinecolor\":\"white\",\"gridwidth\":2},\"zaxis\":{\"backgroundcolor\":\"#E5ECF6\",\"gridcolor\":\"white\",\"linecolor\":\"white\",\"showbackground\":true,\"ticks\":\"\",\"zerolinecolor\":\"white\",\"gridwidth\":2}},\"shapedefaults\":{\"line\":{\"color\":\"#2a3f5f\"}},\"annotationdefaults\":{\"arrowcolor\":\"#2a3f5f\",\"arrowhead\":0,\"arrowwidth\":1},\"geo\":{\"bgcolor\":\"white\",\"landcolor\":\"#E5ECF6\",\"subunitcolor\":\"white\",\"showland\":true,\"showlakes\":true,\"lakecolor\":\"white\"},\"title\":{\"x\":0.05},\"mapbox\":{\"style\":\"light\"}}},\"legend\":{\"x\":0.7,\"y\":0.02,\"bgcolor\":\"rgba(0,0,0,0)\"},\"title\":{\"text\":\"Most frequent Winner and Loser of each Victory method\",\"x\":0.47},\"xaxis\":{\"title\":{\"text\":\"Number of matches\"}},\"yaxis\":{\"title\":{\"text\":\"Vcitory by\"}},\"barmode\":\"relative\",\"bargap\":0.2,\"showlegend\":true},                        {\"responsive\": true}                    ).then(function(){\n",
       "                            \n",
       "var gd = document.getElementById('ea65fe5c-ebfa-4a7e-91f3-74ed119b87df');\n",
       "var x = new MutationObserver(function (mutations, observer) {{\n",
       "        var display = window.getComputedStyle(gd).display;\n",
       "        if (!display || display === 'none') {{\n",
       "            console.log([gd, 'removed!']);\n",
       "            Plotly.purge(gd);\n",
       "            observer.disconnect();\n",
       "        }}\n",
       "}});\n",
       "\n",
       "// Listen for the removal of the full notebook cells\n",
       "var notebookContainer = gd.closest('#notebook-container');\n",
       "if (notebookContainer) {{\n",
       "    x.observe(notebookContainer, {childList: true});\n",
       "}}\n",
       "\n",
       "// Listen for the clearing of the current output cell\n",
       "var outputEl = gd.closest('.output');\n",
       "if (outputEl) {{\n",
       "    x.observe(outputEl, {childList: true});\n",
       "}}\n",
       "\n",
       "                        })                };                });            </script>        </div>"
      ]
     },
     "metadata": {},
     "output_type": "display_data"
    }
   ],
   "source": [
    "# Exclude minor exceptions from the analysis\n",
    "victories_mdf = mdf[(mdf['victory_method'] != 'INJURY') & (mdf['victory_method'] != 'DESQUALIFICATION')].copy()\n",
    "\n",
    "# Group the data by submission target and winner name to get the count of wins for each combination\n",
    "winner_counts = victories_mdf.groupby(['victory_method', 'winner_name']).size().reset_index(name='win_count')\n",
    "\n",
    "# Find the most frequent winner for each submission target\n",
    "top_winners = winner_counts.groupby('victory_method')['win_count'].idxmax()\n",
    "most_frequent_winners = winner_counts.loc[top_winners]\n",
    "\n",
    "# Group the data by submission target and loser name to get the count of losses for each combination\n",
    "loser_counts = victories_mdf.groupby(['victory_method', 'loser_name']).size().reset_index(name='loss_count')\n",
    "\n",
    "# Find the most frequent loser for each submission target\n",
    "top_losers = loser_counts.groupby('victory_method')['loss_count'].idxmax()\n",
    "most_frequent_losers = loser_counts.loc[top_losers]\n",
    "\n",
    "# Create a horizontal bar chart using Plotly\n",
    "fig = go.Figure()\n",
    "\n",
    "# Add green bars for the most frequent winners\n",
    "fig.add_trace(go.Bar(\n",
    "    y=most_frequent_winners['victory_method'],\n",
    "    x=most_frequent_winners['win_count'],\n",
    "    orientation='h',\n",
    "    name='Most Frequent Winner',\n",
    "    marker=dict(color='seagreen'),\n",
    "    text=most_frequent_winners['winner_name'],\n",
    "    textposition='inside', opacity=0.8,\n",
    "    textfont=dict(color='white', size=16)\n",
    "))\n",
    "\n",
    "# Add red bars for the most frequent losers\n",
    "fig.add_trace(go.Bar(\n",
    "    y=most_frequent_losers['victory_method'],\n",
    "    x=most_frequent_losers['loss_count'],\n",
    "    orientation='h',\n",
    "    name='Most Frequent Loser',\n",
    "    marker=dict(color='orangered'),\n",
    "    text=most_frequent_losers['loser_name'],\n",
    "    textposition='inside', opacity=0.8,\n",
    "    textfont=dict(color='white', size=16)\n",
    "))\n",
    "\n",
    "# Set the layout\n",
    "fig.update_layout(\n",
    "    title='Most frequent Winner and Loser of each Victory method',\n",
    "    xaxis_title='Number of matches',\n",
    "    yaxis_title='Vcitory by',\n",
    "    barmode='relative',\n",
    "    bargap=0.2,\n",
    "    legend=dict(\n",
    "        x=0.7,\n",
    "        y=0.02,\n",
    "        bgcolor='rgba(0,0,0,0)'\n",
    "    ),\n",
    "    showlegend=True,\n",
    "    title_x=0.47,\n",
    ")\n",
    "\n",
    "\n",
    "fig.show()"
   ]
  },
  {
   "cell_type": "markdown",
   "id": "6acfb284",
   "metadata": {
    "papermill": {
     "duration": 0.033106,
     "end_time": "2023-06-16T16:32:49.685096",
     "exception": false,
     "start_time": "2023-06-16T16:32:49.651990",
     "status": "completed"
    },
    "tags": []
   },
   "source": [
    "Again, Marcelo Garcia's career stands out for his ability to submit oponents in high level competition.  \n",
    "  \n",
    "Andre Galvao, on the other hand, seems like a more conservative player, knowing how to use the points system to win matches and achieve competition success."
   ]
  },
  {
   "cell_type": "markdown",
   "id": "bbbfb338",
   "metadata": {
    "papermill": {
     "duration": 0.032721,
     "end_time": "2023-06-16T16:32:49.751401",
     "exception": false,
     "start_time": "2023-06-16T16:32:49.718680",
     "status": "completed"
    },
    "tags": []
   },
   "source": [
    "### Does weight influence which submissions are executed?"
   ]
  },
  {
   "cell_type": "code",
   "execution_count": 43,
   "id": "e8012b2e",
   "metadata": {
    "_kg_hide-input": true,
    "execution": {
     "iopub.execute_input": "2023-06-16T16:32:49.818424Z",
     "iopub.status.busy": "2023-06-16T16:32:49.818023Z",
     "iopub.status.idle": "2023-06-16T16:32:49.997895Z",
     "shell.execute_reply": "2023-06-16T16:32:49.996873Z"
    },
    "papermill": {
     "duration": 0.216267,
     "end_time": "2023-06-16T16:32:50.000409",
     "exception": false,
     "start_time": "2023-06-16T16:32:49.784142",
     "status": "completed"
    },
    "tags": []
   },
   "outputs": [
    {
     "data": {
      "text/html": [
       "<div>                            <div id=\"b5d2287f-df9f-4403-bd6d-082fa1475452\" class=\"plotly-graph-div\" style=\"height:525px; width:100%;\"></div>            <script type=\"text/javascript\">                require([\"plotly\"], function(Plotly) {                    window.PLOTLYENV=window.PLOTLYENV || {};                                    if (document.getElementById(\"b5d2287f-df9f-4403-bd6d-082fa1475452\")) {                    Plotly.newPlot(                        \"b5d2287f-df9f-4403-bd6d-082fa1475452\",                        [{\"alignmentgroup\":\"True\",\"hovertemplate\":\"%{x} Weight Class: %{y} submission ratio\",\"legendgroup\":\"Arm\",\"marker\":{\"color\":\"#636efa\",\"pattern\":{\"shape\":\"\"}},\"name\":\"Arm\",\"offsetgroup\":\"Arm\",\"orientation\":\"v\",\"showlegend\":true,\"textposition\":\"auto\",\"x\":[0.0,1.0,2.0,3.0,4.0],\"xaxis\":\"x\",\"y\":[0.17142857142857143,0.1794871794871795,0.20967741935483872,0.21052631578947367,0.3333333333333333],\"yaxis\":\"y\",\"type\":\"bar\"},{\"alignmentgroup\":\"True\",\"hovertemplate\":\"%{x} Weight Class: %{y} submission ratio\",\"legendgroup\":\"Leg\",\"marker\":{\"color\":\"#EF553B\",\"pattern\":{\"shape\":\"\"}},\"name\":\"Leg\",\"offsetgroup\":\"Leg\",\"orientation\":\"v\",\"showlegend\":true,\"textposition\":\"auto\",\"x\":[0.0,1.0,2.0,3.0,4.0],\"xaxis\":\"x\",\"y\":[0.17142857142857143,0.15384615384615385,0.22580645161290322,0.2631578947368421,0.2982456140350877],\"yaxis\":\"y\",\"type\":\"bar\"},{\"alignmentgroup\":\"True\",\"hovertemplate\":\"%{x} Weight Class: %{y} submission ratio\",\"legendgroup\":\"Neck\",\"marker\":{\"color\":\"#00cc96\",\"pattern\":{\"shape\":\"\"}},\"name\":\"Neck\",\"offsetgroup\":\"Neck\",\"orientation\":\"v\",\"showlegend\":true,\"textposition\":\"auto\",\"x\":[0.0,1.0,2.0,3.0,4.0],\"xaxis\":\"x\",\"y\":[0.6285714285714286,0.6153846153846154,0.5161290322580645,0.45614035087719296,0.2631578947368421],\"yaxis\":\"y\",\"type\":\"bar\"},{\"alignmentgroup\":\"True\",\"hovertemplate\":\"%{x} Weight Class: %{y} submission ratio\",\"legendgroup\":\"Other/Unknown\",\"marker\":{\"color\":\"#ab63fa\",\"pattern\":{\"shape\":\"\"}},\"name\":\"Other/Unknown\",\"offsetgroup\":\"Other/Unknown\",\"orientation\":\"v\",\"showlegend\":true,\"textposition\":\"auto\",\"x\":[0.0,1.0,2.0,3.0,4.0],\"xaxis\":\"x\",\"y\":[0.02857142857142857,0.05128205128205128,0.04838709677419355,0.07017543859649122,0.10526315789473684],\"yaxis\":\"y\",\"type\":\"bar\"}],                        {\"template\":{\"data\":{\"histogram2dcontour\":[{\"type\":\"histogram2dcontour\",\"colorbar\":{\"outlinewidth\":0,\"ticks\":\"\"},\"colorscale\":[[0.0,\"#0d0887\"],[0.1111111111111111,\"#46039f\"],[0.2222222222222222,\"#7201a8\"],[0.3333333333333333,\"#9c179e\"],[0.4444444444444444,\"#bd3786\"],[0.5555555555555556,\"#d8576b\"],[0.6666666666666666,\"#ed7953\"],[0.7777777777777778,\"#fb9f3a\"],[0.8888888888888888,\"#fdca26\"],[1.0,\"#f0f921\"]]}],\"choropleth\":[{\"type\":\"choropleth\",\"colorbar\":{\"outlinewidth\":0,\"ticks\":\"\"}}],\"histogram2d\":[{\"type\":\"histogram2d\",\"colorbar\":{\"outlinewidth\":0,\"ticks\":\"\"},\"colorscale\":[[0.0,\"#0d0887\"],[0.1111111111111111,\"#46039f\"],[0.2222222222222222,\"#7201a8\"],[0.3333333333333333,\"#9c179e\"],[0.4444444444444444,\"#bd3786\"],[0.5555555555555556,\"#d8576b\"],[0.6666666666666666,\"#ed7953\"],[0.7777777777777778,\"#fb9f3a\"],[0.8888888888888888,\"#fdca26\"],[1.0,\"#f0f921\"]]}],\"heatmap\":[{\"type\":\"heatmap\",\"colorbar\":{\"outlinewidth\":0,\"ticks\":\"\"},\"colorscale\":[[0.0,\"#0d0887\"],[0.1111111111111111,\"#46039f\"],[0.2222222222222222,\"#7201a8\"],[0.3333333333333333,\"#9c179e\"],[0.4444444444444444,\"#bd3786\"],[0.5555555555555556,\"#d8576b\"],[0.6666666666666666,\"#ed7953\"],[0.7777777777777778,\"#fb9f3a\"],[0.8888888888888888,\"#fdca26\"],[1.0,\"#f0f921\"]]}],\"heatmapgl\":[{\"type\":\"heatmapgl\",\"colorbar\":{\"outlinewidth\":0,\"ticks\":\"\"},\"colorscale\":[[0.0,\"#0d0887\"],[0.1111111111111111,\"#46039f\"],[0.2222222222222222,\"#7201a8\"],[0.3333333333333333,\"#9c179e\"],[0.4444444444444444,\"#bd3786\"],[0.5555555555555556,\"#d8576b\"],[0.6666666666666666,\"#ed7953\"],[0.7777777777777778,\"#fb9f3a\"],[0.8888888888888888,\"#fdca26\"],[1.0,\"#f0f921\"]]}],\"contourcarpet\":[{\"type\":\"contourcarpet\",\"colorbar\":{\"outlinewidth\":0,\"ticks\":\"\"}}],\"contour\":[{\"type\":\"contour\",\"colorbar\":{\"outlinewidth\":0,\"ticks\":\"\"},\"colorscale\":[[0.0,\"#0d0887\"],[0.1111111111111111,\"#46039f\"],[0.2222222222222222,\"#7201a8\"],[0.3333333333333333,\"#9c179e\"],[0.4444444444444444,\"#bd3786\"],[0.5555555555555556,\"#d8576b\"],[0.6666666666666666,\"#ed7953\"],[0.7777777777777778,\"#fb9f3a\"],[0.8888888888888888,\"#fdca26\"],[1.0,\"#f0f921\"]]}],\"surface\":[{\"type\":\"surface\",\"colorbar\":{\"outlinewidth\":0,\"ticks\":\"\"},\"colorscale\":[[0.0,\"#0d0887\"],[0.1111111111111111,\"#46039f\"],[0.2222222222222222,\"#7201a8\"],[0.3333333333333333,\"#9c179e\"],[0.4444444444444444,\"#bd3786\"],[0.5555555555555556,\"#d8576b\"],[0.6666666666666666,\"#ed7953\"],[0.7777777777777778,\"#fb9f3a\"],[0.8888888888888888,\"#fdca26\"],[1.0,\"#f0f921\"]]}],\"mesh3d\":[{\"type\":\"mesh3d\",\"colorbar\":{\"outlinewidth\":0,\"ticks\":\"\"}}],\"scatter\":[{\"fillpattern\":{\"fillmode\":\"overlay\",\"size\":10,\"solidity\":0.2},\"type\":\"scatter\"}],\"parcoords\":[{\"type\":\"parcoords\",\"line\":{\"colorbar\":{\"outlinewidth\":0,\"ticks\":\"\"}}}],\"scatterpolargl\":[{\"type\":\"scatterpolargl\",\"marker\":{\"colorbar\":{\"outlinewidth\":0,\"ticks\":\"\"}}}],\"bar\":[{\"error_x\":{\"color\":\"#2a3f5f\"},\"error_y\":{\"color\":\"#2a3f5f\"},\"marker\":{\"line\":{\"color\":\"#E5ECF6\",\"width\":0.5},\"pattern\":{\"fillmode\":\"overlay\",\"size\":10,\"solidity\":0.2}},\"type\":\"bar\"}],\"scattergeo\":[{\"type\":\"scattergeo\",\"marker\":{\"colorbar\":{\"outlinewidth\":0,\"ticks\":\"\"}}}],\"scatterpolar\":[{\"type\":\"scatterpolar\",\"marker\":{\"colorbar\":{\"outlinewidth\":0,\"ticks\":\"\"}}}],\"histogram\":[{\"marker\":{\"pattern\":{\"fillmode\":\"overlay\",\"size\":10,\"solidity\":0.2}},\"type\":\"histogram\"}],\"scattergl\":[{\"type\":\"scattergl\",\"marker\":{\"colorbar\":{\"outlinewidth\":0,\"ticks\":\"\"}}}],\"scatter3d\":[{\"type\":\"scatter3d\",\"line\":{\"colorbar\":{\"outlinewidth\":0,\"ticks\":\"\"}},\"marker\":{\"colorbar\":{\"outlinewidth\":0,\"ticks\":\"\"}}}],\"scattermapbox\":[{\"type\":\"scattermapbox\",\"marker\":{\"colorbar\":{\"outlinewidth\":0,\"ticks\":\"\"}}}],\"scatterternary\":[{\"type\":\"scatterternary\",\"marker\":{\"colorbar\":{\"outlinewidth\":0,\"ticks\":\"\"}}}],\"scattercarpet\":[{\"type\":\"scattercarpet\",\"marker\":{\"colorbar\":{\"outlinewidth\":0,\"ticks\":\"\"}}}],\"carpet\":[{\"aaxis\":{\"endlinecolor\":\"#2a3f5f\",\"gridcolor\":\"white\",\"linecolor\":\"white\",\"minorgridcolor\":\"white\",\"startlinecolor\":\"#2a3f5f\"},\"baxis\":{\"endlinecolor\":\"#2a3f5f\",\"gridcolor\":\"white\",\"linecolor\":\"white\",\"minorgridcolor\":\"white\",\"startlinecolor\":\"#2a3f5f\"},\"type\":\"carpet\"}],\"table\":[{\"cells\":{\"fill\":{\"color\":\"#EBF0F8\"},\"line\":{\"color\":\"white\"}},\"header\":{\"fill\":{\"color\":\"#C8D4E3\"},\"line\":{\"color\":\"white\"}},\"type\":\"table\"}],\"barpolar\":[{\"marker\":{\"line\":{\"color\":\"#E5ECF6\",\"width\":0.5},\"pattern\":{\"fillmode\":\"overlay\",\"size\":10,\"solidity\":0.2}},\"type\":\"barpolar\"}],\"pie\":[{\"automargin\":true,\"type\":\"pie\"}]},\"layout\":{\"autotypenumbers\":\"strict\",\"colorway\":[\"#636efa\",\"#EF553B\",\"#00cc96\",\"#ab63fa\",\"#FFA15A\",\"#19d3f3\",\"#FF6692\",\"#B6E880\",\"#FF97FF\",\"#FECB52\"],\"font\":{\"color\":\"#2a3f5f\"},\"hovermode\":\"closest\",\"hoverlabel\":{\"align\":\"left\"},\"paper_bgcolor\":\"white\",\"plot_bgcolor\":\"#E5ECF6\",\"polar\":{\"bgcolor\":\"#E5ECF6\",\"angularaxis\":{\"gridcolor\":\"white\",\"linecolor\":\"white\",\"ticks\":\"\"},\"radialaxis\":{\"gridcolor\":\"white\",\"linecolor\":\"white\",\"ticks\":\"\"}},\"ternary\":{\"bgcolor\":\"#E5ECF6\",\"aaxis\":{\"gridcolor\":\"white\",\"linecolor\":\"white\",\"ticks\":\"\"},\"baxis\":{\"gridcolor\":\"white\",\"linecolor\":\"white\",\"ticks\":\"\"},\"caxis\":{\"gridcolor\":\"white\",\"linecolor\":\"white\",\"ticks\":\"\"}},\"coloraxis\":{\"colorbar\":{\"outlinewidth\":0,\"ticks\":\"\"}},\"colorscale\":{\"sequential\":[[0.0,\"#0d0887\"],[0.1111111111111111,\"#46039f\"],[0.2222222222222222,\"#7201a8\"],[0.3333333333333333,\"#9c179e\"],[0.4444444444444444,\"#bd3786\"],[0.5555555555555556,\"#d8576b\"],[0.6666666666666666,\"#ed7953\"],[0.7777777777777778,\"#fb9f3a\"],[0.8888888888888888,\"#fdca26\"],[1.0,\"#f0f921\"]],\"sequentialminus\":[[0.0,\"#0d0887\"],[0.1111111111111111,\"#46039f\"],[0.2222222222222222,\"#7201a8\"],[0.3333333333333333,\"#9c179e\"],[0.4444444444444444,\"#bd3786\"],[0.5555555555555556,\"#d8576b\"],[0.6666666666666666,\"#ed7953\"],[0.7777777777777778,\"#fb9f3a\"],[0.8888888888888888,\"#fdca26\"],[1.0,\"#f0f921\"]],\"diverging\":[[0,\"#8e0152\"],[0.1,\"#c51b7d\"],[0.2,\"#de77ae\"],[0.3,\"#f1b6da\"],[0.4,\"#fde0ef\"],[0.5,\"#f7f7f7\"],[0.6,\"#e6f5d0\"],[0.7,\"#b8e186\"],[0.8,\"#7fbc41\"],[0.9,\"#4d9221\"],[1,\"#276419\"]]},\"xaxis\":{\"gridcolor\":\"white\",\"linecolor\":\"white\",\"ticks\":\"\",\"title\":{\"standoff\":15},\"zerolinecolor\":\"white\",\"automargin\":true,\"zerolinewidth\":2},\"yaxis\":{\"gridcolor\":\"white\",\"linecolor\":\"white\",\"ticks\":\"\",\"title\":{\"standoff\":15},\"zerolinecolor\":\"white\",\"automargin\":true,\"zerolinewidth\":2},\"scene\":{\"xaxis\":{\"backgroundcolor\":\"#E5ECF6\",\"gridcolor\":\"white\",\"linecolor\":\"white\",\"showbackground\":true,\"ticks\":\"\",\"zerolinecolor\":\"white\",\"gridwidth\":2},\"yaxis\":{\"backgroundcolor\":\"#E5ECF6\",\"gridcolor\":\"white\",\"linecolor\":\"white\",\"showbackground\":true,\"ticks\":\"\",\"zerolinecolor\":\"white\",\"gridwidth\":2},\"zaxis\":{\"backgroundcolor\":\"#E5ECF6\",\"gridcolor\":\"white\",\"linecolor\":\"white\",\"showbackground\":true,\"ticks\":\"\",\"zerolinecolor\":\"white\",\"gridwidth\":2}},\"shapedefaults\":{\"line\":{\"color\":\"#2a3f5f\"}},\"annotationdefaults\":{\"arrowcolor\":\"#2a3f5f\",\"arrowhead\":0,\"arrowwidth\":1},\"geo\":{\"bgcolor\":\"white\",\"landcolor\":\"#E5ECF6\",\"subunitcolor\":\"white\",\"showland\":true,\"showlakes\":true,\"lakecolor\":\"white\"},\"title\":{\"x\":0.05},\"mapbox\":{\"style\":\"light\"}}},\"xaxis\":{\"anchor\":\"y\",\"domain\":[0.0,1.0],\"title\":{\"text\":\"Weight class\"},\"ticktext\":[\"66kg (60kg for females)\",\"77kg\",\"88kg\",\"99kg\",\"+99kg (+60kg for females)\"],\"tickvals\":[\"0\",\"1\",\"2\",\"3\",\"4\"]},\"yaxis\":{\"anchor\":\"x\",\"domain\":[0.0,1.0],\"title\":{\"text\":\"Ratio to total submissions in that weight class\"}},\"legend\":{\"title\":{\"text\":\"submission_target\"},\"tracegroupgap\":0},\"margin\":{\"t\":60},\"barmode\":\"relative\",\"annotations\":[{\"font\":{\"color\":\"white\",\"size\":12},\"showarrow\":false,\"text\":\"Arm\",\"textangle\":0,\"x\":0.0,\"xanchor\":\"center\",\"y\":0.08571428571428572,\"yanchor\":\"middle\"},{\"font\":{\"color\":\"white\",\"size\":12},\"showarrow\":false,\"text\":\"Leg\",\"textangle\":0,\"x\":0.0,\"xanchor\":\"center\",\"y\":0.2571428571428571,\"yanchor\":\"middle\"},{\"font\":{\"color\":\"white\",\"size\":12},\"showarrow\":false,\"text\":\"Neck\",\"textangle\":0,\"x\":0.0,\"xanchor\":\"center\",\"y\":0.6571428571428571,\"yanchor\":\"middle\"},{\"font\":{\"color\":\"white\",\"size\":12},\"showarrow\":false,\"text\":\"Other/Unknown\",\"textangle\":0,\"x\":0.0,\"xanchor\":\"center\",\"y\":0.9857142857142858,\"yanchor\":\"middle\"},{\"font\":{\"color\":\"white\",\"size\":12},\"showarrow\":false,\"text\":\"Arm\",\"textangle\":0,\"x\":1.0,\"xanchor\":\"center\",\"y\":0.08974358974358974,\"yanchor\":\"middle\"},{\"font\":{\"color\":\"white\",\"size\":12},\"showarrow\":false,\"text\":\"Leg\",\"textangle\":0,\"x\":1.0,\"xanchor\":\"center\",\"y\":0.25641025641025644,\"yanchor\":\"middle\"},{\"font\":{\"color\":\"white\",\"size\":12},\"showarrow\":false,\"text\":\"Neck\",\"textangle\":0,\"x\":1.0,\"xanchor\":\"center\",\"y\":0.6410256410256411,\"yanchor\":\"middle\"},{\"font\":{\"color\":\"white\",\"size\":12},\"showarrow\":false,\"text\":\"Other/Unknown\",\"textangle\":0,\"x\":1.0,\"xanchor\":\"center\",\"y\":0.9743589743589743,\"yanchor\":\"middle\"},{\"font\":{\"color\":\"white\",\"size\":12},\"showarrow\":false,\"text\":\"Arm\",\"textangle\":0,\"x\":2.0,\"xanchor\":\"center\",\"y\":0.10483870967741936,\"yanchor\":\"middle\"},{\"font\":{\"color\":\"white\",\"size\":12},\"showarrow\":false,\"text\":\"Leg\",\"textangle\":0,\"x\":2.0,\"xanchor\":\"center\",\"y\":0.3225806451612903,\"yanchor\":\"middle\"},{\"font\":{\"color\":\"white\",\"size\":12},\"showarrow\":false,\"text\":\"Neck\",\"textangle\":0,\"x\":2.0,\"xanchor\":\"center\",\"y\":0.6935483870967742,\"yanchor\":\"middle\"},{\"font\":{\"color\":\"white\",\"size\":12},\"showarrow\":false,\"text\":\"Other/Unknown\",\"textangle\":0,\"x\":2.0,\"xanchor\":\"center\",\"y\":0.9758064516129032,\"yanchor\":\"middle\"},{\"font\":{\"color\":\"white\",\"size\":12},\"showarrow\":false,\"text\":\"Arm\",\"textangle\":0,\"x\":3.0,\"xanchor\":\"center\",\"y\":0.10526315789473684,\"yanchor\":\"middle\"},{\"font\":{\"color\":\"white\",\"size\":12},\"showarrow\":false,\"text\":\"Leg\",\"textangle\":0,\"x\":3.0,\"xanchor\":\"center\",\"y\":0.3421052631578947,\"yanchor\":\"middle\"},{\"font\":{\"color\":\"white\",\"size\":12},\"showarrow\":false,\"text\":\"Neck\",\"textangle\":0,\"x\":3.0,\"xanchor\":\"center\",\"y\":0.7017543859649122,\"yanchor\":\"middle\"},{\"font\":{\"color\":\"white\",\"size\":12},\"showarrow\":false,\"text\":\"Other/Unknown\",\"textangle\":0,\"x\":3.0,\"xanchor\":\"center\",\"y\":0.9649122807017544,\"yanchor\":\"middle\"},{\"font\":{\"color\":\"white\",\"size\":12},\"showarrow\":false,\"text\":\"Arm\",\"textangle\":0,\"x\":4.0,\"xanchor\":\"center\",\"y\":0.16666666666666666,\"yanchor\":\"middle\"},{\"font\":{\"color\":\"white\",\"size\":12},\"showarrow\":false,\"text\":\"Leg\",\"textangle\":0,\"x\":4.0,\"xanchor\":\"center\",\"y\":0.48245614035087714,\"yanchor\":\"middle\"},{\"font\":{\"color\":\"white\",\"size\":12},\"showarrow\":false,\"text\":\"Neck\",\"textangle\":0,\"x\":4.0,\"xanchor\":\"center\",\"y\":0.763157894736842,\"yanchor\":\"middle\"},{\"font\":{\"color\":\"white\",\"size\":12},\"showarrow\":false,\"text\":\"Other/Unknown\",\"textangle\":0,\"x\":4.0,\"xanchor\":\"center\",\"y\":0.9473684210526316,\"yanchor\":\"middle\"}],\"title\":{\"text\":\"Target body part of successful submissions\",\"x\":0.5},\"bargap\":0.2,\"showlegend\":false},                        {\"responsive\": true}                    ).then(function(){\n",
       "                            \n",
       "var gd = document.getElementById('b5d2287f-df9f-4403-bd6d-082fa1475452');\n",
       "var x = new MutationObserver(function (mutations, observer) {{\n",
       "        var display = window.getComputedStyle(gd).display;\n",
       "        if (!display || display === 'none') {{\n",
       "            console.log([gd, 'removed!']);\n",
       "            Plotly.purge(gd);\n",
       "            observer.disconnect();\n",
       "        }}\n",
       "}});\n",
       "\n",
       "// Listen for the removal of the full notebook cells\n",
       "var notebookContainer = gd.closest('#notebook-container');\n",
       "if (notebookContainer) {{\n",
       "    x.observe(notebookContainer, {childList: true});\n",
       "}}\n",
       "\n",
       "// Listen for the clearing of the current output cell\n",
       "var outputEl = gd.closest('.output');\n",
       "if (outputEl) {{\n",
       "    x.observe(outputEl, {childList: true});\n",
       "}}\n",
       "\n",
       "                        })                };                });            </script>        </div>"
      ]
     },
     "metadata": {},
     "output_type": "display_data"
    }
   ],
   "source": [
    "\n",
    "# Group the data by 'weight_class' and 'submission_target' and calculate the relative frequency\n",
    "grouped_data = mdf.groupby(['weight_class', 'submission_target']).size().reset_index(name='count')\n",
    "grouped_data['relative_frequency'] = grouped_data.groupby('weight_class')['count'].transform(lambda x: x / x.sum())\n",
    "\n",
    "# Create the bar chart using Plotly Express\n",
    "fig = px.bar(grouped_data, x='weight_class', y='relative_frequency',\n",
    "             color='submission_target')\n",
    "\n",
    "# Calculate the x-coordinate for each annotation\n",
    "grouped_data['cumulative_relative_frequency'] = grouped_data.groupby('weight_class')['relative_frequency'].cumsum() - 0.5 * grouped_data['relative_frequency']\n",
    "grouped_data['x_annotation'] = grouped_data['weight_class']\n",
    "\n",
    "# Add annotations to display the submission target names\n",
    "for _, row in grouped_data.iterrows():\n",
    "    fig.add_annotation(\n",
    "        x=row['x_annotation'],\n",
    "        y=row['cumulative_relative_frequency'],\n",
    "        text=row['submission_target'],\n",
    "        showarrow=False,\n",
    "        font=dict(color='white', size=12),\n",
    "        textangle=0,\n",
    "        xanchor='center',\n",
    "        yanchor='middle'\n",
    "    )\n",
    "\n",
    "fig.update_traces(hovertemplate='%{x} Weight Class: %{y} submission ratio')\n",
    "\n",
    "fig.update_layout(\n",
    "    title='Target body part of successful submissions',\n",
    "    xaxis_title='Weight class',\n",
    "    yaxis_title='Ratio to total submissions in that weight class',\n",
    "    barmode='relative',\n",
    "    bargap=0.2,\n",
    "    showlegend=False,\n",
    "    title_x=0.5,\n",
    ")\n",
    "\n",
    "# Modify the tick names in the x-axis\n",
    "custom_labels = {\n",
    "'0':'66kg (60kg for females)',\n",
    "'1':'77kg',\n",
    "'2':'88kg',\n",
    "'3':'99kg',\n",
    "'4':'+99kg (+60kg for females)',\n",
    "}\n",
    "\n",
    "fig.update_xaxes(ticktext=list(custom_labels.values()),\n",
    "                 tickvals=list(custom_labels.keys()))\n",
    "\n",
    "\n",
    "fig.show()"
   ]
  },
  {
   "cell_type": "markdown",
   "id": "86c97139",
   "metadata": {
    "papermill": {
     "duration": 0.032946,
     "end_time": "2023-06-16T16:32:50.066444",
     "exception": false,
     "start_time": "2023-06-16T16:32:50.033498",
     "status": "completed"
    },
    "tags": []
   },
   "source": [
    "As shown in the chart above, neck submissions are less common in matches between heavier athletes.    \n",
    "\n",
    "Since these submissions are more likely to happen from dominant positions while leg and arm attacks are available from a wider range of situations, one can assume this trend is due to the fact that stronger, larger fighters are less likely to be controlled.  \n",
    "  \n",
    "  \n",
    "Legs and arms are more exposed than the neck in the majority of positions, so athletes can target them without requiring to first secure a more dominant position."
   ]
  },
  {
   "cell_type": "markdown",
   "id": "2f830337",
   "metadata": {
    "papermill": {
     "duration": 0.033112,
     "end_time": "2023-06-16T16:32:50.133272",
     "exception": false,
     "start_time": "2023-06-16T16:32:50.100160",
     "status": "completed"
    },
    "tags": []
   },
   "source": [
    "### Are heavier athletes less likely to submit each other in general?"
   ]
  },
  {
   "cell_type": "code",
   "execution_count": 44,
   "id": "4cb6391a",
   "metadata": {
    "_kg_hide-input": true,
    "execution": {
     "iopub.execute_input": "2023-06-16T16:32:50.202472Z",
     "iopub.status.busy": "2023-06-16T16:32:50.202095Z",
     "iopub.status.idle": "2023-06-16T16:32:50.293709Z",
     "shell.execute_reply": "2023-06-16T16:32:50.292699Z"
    },
    "papermill": {
     "duration": 0.129221,
     "end_time": "2023-06-16T16:32:50.296076",
     "exception": false,
     "start_time": "2023-06-16T16:32:50.166855",
     "status": "completed"
    },
    "tags": []
   },
   "outputs": [
    {
     "data": {
      "text/html": [
       "<div>                            <div id=\"3d1bee03-dbae-4ca4-9aea-d6ed40d78a56\" class=\"plotly-graph-div\" style=\"height:525px; width:100%;\"></div>            <script type=\"text/javascript\">                require([\"plotly\"], function(Plotly) {                    window.PLOTLYENV=window.PLOTLYENV || {};                                    if (document.getElementById(\"3d1bee03-dbae-4ca4-9aea-d6ed40d78a56\")) {                    Plotly.newPlot(                        \"3d1bee03-dbae-4ca4-9aea-d6ed40d78a56\",                        [{\"alignmentgroup\":\"True\",\"hovertemplate\":\"%{x} Weight Class: %{y:.2f}% submission probability\",\"legendgroup\":\"\",\"marker\":{\"color\":[0.0,1.0,2.0,3.0,4.0],\"coloraxis\":\"coloraxis\",\"pattern\":{\"shape\":\"\"}},\"name\":\"\",\"offsetgroup\":\"\",\"orientation\":\"v\",\"showlegend\":false,\"textposition\":\"auto\",\"x\":[0.0,1.0,2.0,3.0,4.0],\"xaxis\":\"x\",\"y\":[41.66666666666667,40.83769633507853,36.25730994152047,38.92617449664429,36.477987421383645],\"yaxis\":\"y\",\"type\":\"bar\"}],                        {\"template\":{\"data\":{\"histogram2dcontour\":[{\"type\":\"histogram2dcontour\",\"colorbar\":{\"outlinewidth\":0,\"ticks\":\"\"},\"colorscale\":[[0.0,\"#0d0887\"],[0.1111111111111111,\"#46039f\"],[0.2222222222222222,\"#7201a8\"],[0.3333333333333333,\"#9c179e\"],[0.4444444444444444,\"#bd3786\"],[0.5555555555555556,\"#d8576b\"],[0.6666666666666666,\"#ed7953\"],[0.7777777777777778,\"#fb9f3a\"],[0.8888888888888888,\"#fdca26\"],[1.0,\"#f0f921\"]]}],\"choropleth\":[{\"type\":\"choropleth\",\"colorbar\":{\"outlinewidth\":0,\"ticks\":\"\"}}],\"histogram2d\":[{\"type\":\"histogram2d\",\"colorbar\":{\"outlinewidth\":0,\"ticks\":\"\"},\"colorscale\":[[0.0,\"#0d0887\"],[0.1111111111111111,\"#46039f\"],[0.2222222222222222,\"#7201a8\"],[0.3333333333333333,\"#9c179e\"],[0.4444444444444444,\"#bd3786\"],[0.5555555555555556,\"#d8576b\"],[0.6666666666666666,\"#ed7953\"],[0.7777777777777778,\"#fb9f3a\"],[0.8888888888888888,\"#fdca26\"],[1.0,\"#f0f921\"]]}],\"heatmap\":[{\"type\":\"heatmap\",\"colorbar\":{\"outlinewidth\":0,\"ticks\":\"\"},\"colorscale\":[[0.0,\"#0d0887\"],[0.1111111111111111,\"#46039f\"],[0.2222222222222222,\"#7201a8\"],[0.3333333333333333,\"#9c179e\"],[0.4444444444444444,\"#bd3786\"],[0.5555555555555556,\"#d8576b\"],[0.6666666666666666,\"#ed7953\"],[0.7777777777777778,\"#fb9f3a\"],[0.8888888888888888,\"#fdca26\"],[1.0,\"#f0f921\"]]}],\"heatmapgl\":[{\"type\":\"heatmapgl\",\"colorbar\":{\"outlinewidth\":0,\"ticks\":\"\"},\"colorscale\":[[0.0,\"#0d0887\"],[0.1111111111111111,\"#46039f\"],[0.2222222222222222,\"#7201a8\"],[0.3333333333333333,\"#9c179e\"],[0.4444444444444444,\"#bd3786\"],[0.5555555555555556,\"#d8576b\"],[0.6666666666666666,\"#ed7953\"],[0.7777777777777778,\"#fb9f3a\"],[0.8888888888888888,\"#fdca26\"],[1.0,\"#f0f921\"]]}],\"contourcarpet\":[{\"type\":\"contourcarpet\",\"colorbar\":{\"outlinewidth\":0,\"ticks\":\"\"}}],\"contour\":[{\"type\":\"contour\",\"colorbar\":{\"outlinewidth\":0,\"ticks\":\"\"},\"colorscale\":[[0.0,\"#0d0887\"],[0.1111111111111111,\"#46039f\"],[0.2222222222222222,\"#7201a8\"],[0.3333333333333333,\"#9c179e\"],[0.4444444444444444,\"#bd3786\"],[0.5555555555555556,\"#d8576b\"],[0.6666666666666666,\"#ed7953\"],[0.7777777777777778,\"#fb9f3a\"],[0.8888888888888888,\"#fdca26\"],[1.0,\"#f0f921\"]]}],\"surface\":[{\"type\":\"surface\",\"colorbar\":{\"outlinewidth\":0,\"ticks\":\"\"},\"colorscale\":[[0.0,\"#0d0887\"],[0.1111111111111111,\"#46039f\"],[0.2222222222222222,\"#7201a8\"],[0.3333333333333333,\"#9c179e\"],[0.4444444444444444,\"#bd3786\"],[0.5555555555555556,\"#d8576b\"],[0.6666666666666666,\"#ed7953\"],[0.7777777777777778,\"#fb9f3a\"],[0.8888888888888888,\"#fdca26\"],[1.0,\"#f0f921\"]]}],\"mesh3d\":[{\"type\":\"mesh3d\",\"colorbar\":{\"outlinewidth\":0,\"ticks\":\"\"}}],\"scatter\":[{\"fillpattern\":{\"fillmode\":\"overlay\",\"size\":10,\"solidity\":0.2},\"type\":\"scatter\"}],\"parcoords\":[{\"type\":\"parcoords\",\"line\":{\"colorbar\":{\"outlinewidth\":0,\"ticks\":\"\"}}}],\"scatterpolargl\":[{\"type\":\"scatterpolargl\",\"marker\":{\"colorbar\":{\"outlinewidth\":0,\"ticks\":\"\"}}}],\"bar\":[{\"error_x\":{\"color\":\"#2a3f5f\"},\"error_y\":{\"color\":\"#2a3f5f\"},\"marker\":{\"line\":{\"color\":\"#E5ECF6\",\"width\":0.5},\"pattern\":{\"fillmode\":\"overlay\",\"size\":10,\"solidity\":0.2}},\"type\":\"bar\"}],\"scattergeo\":[{\"type\":\"scattergeo\",\"marker\":{\"colorbar\":{\"outlinewidth\":0,\"ticks\":\"\"}}}],\"scatterpolar\":[{\"type\":\"scatterpolar\",\"marker\":{\"colorbar\":{\"outlinewidth\":0,\"ticks\":\"\"}}}],\"histogram\":[{\"marker\":{\"pattern\":{\"fillmode\":\"overlay\",\"size\":10,\"solidity\":0.2}},\"type\":\"histogram\"}],\"scattergl\":[{\"type\":\"scattergl\",\"marker\":{\"colorbar\":{\"outlinewidth\":0,\"ticks\":\"\"}}}],\"scatter3d\":[{\"type\":\"scatter3d\",\"line\":{\"colorbar\":{\"outlinewidth\":0,\"ticks\":\"\"}},\"marker\":{\"colorbar\":{\"outlinewidth\":0,\"ticks\":\"\"}}}],\"scattermapbox\":[{\"type\":\"scattermapbox\",\"marker\":{\"colorbar\":{\"outlinewidth\":0,\"ticks\":\"\"}}}],\"scatterternary\":[{\"type\":\"scatterternary\",\"marker\":{\"colorbar\":{\"outlinewidth\":0,\"ticks\":\"\"}}}],\"scattercarpet\":[{\"type\":\"scattercarpet\",\"marker\":{\"colorbar\":{\"outlinewidth\":0,\"ticks\":\"\"}}}],\"carpet\":[{\"aaxis\":{\"endlinecolor\":\"#2a3f5f\",\"gridcolor\":\"white\",\"linecolor\":\"white\",\"minorgridcolor\":\"white\",\"startlinecolor\":\"#2a3f5f\"},\"baxis\":{\"endlinecolor\":\"#2a3f5f\",\"gridcolor\":\"white\",\"linecolor\":\"white\",\"minorgridcolor\":\"white\",\"startlinecolor\":\"#2a3f5f\"},\"type\":\"carpet\"}],\"table\":[{\"cells\":{\"fill\":{\"color\":\"#EBF0F8\"},\"line\":{\"color\":\"white\"}},\"header\":{\"fill\":{\"color\":\"#C8D4E3\"},\"line\":{\"color\":\"white\"}},\"type\":\"table\"}],\"barpolar\":[{\"marker\":{\"line\":{\"color\":\"#E5ECF6\",\"width\":0.5},\"pattern\":{\"fillmode\":\"overlay\",\"size\":10,\"solidity\":0.2}},\"type\":\"barpolar\"}],\"pie\":[{\"automargin\":true,\"type\":\"pie\"}]},\"layout\":{\"autotypenumbers\":\"strict\",\"colorway\":[\"#636efa\",\"#EF553B\",\"#00cc96\",\"#ab63fa\",\"#FFA15A\",\"#19d3f3\",\"#FF6692\",\"#B6E880\",\"#FF97FF\",\"#FECB52\"],\"font\":{\"color\":\"#2a3f5f\"},\"hovermode\":\"closest\",\"hoverlabel\":{\"align\":\"left\"},\"paper_bgcolor\":\"white\",\"plot_bgcolor\":\"#E5ECF6\",\"polar\":{\"bgcolor\":\"#E5ECF6\",\"angularaxis\":{\"gridcolor\":\"white\",\"linecolor\":\"white\",\"ticks\":\"\"},\"radialaxis\":{\"gridcolor\":\"white\",\"linecolor\":\"white\",\"ticks\":\"\"}},\"ternary\":{\"bgcolor\":\"#E5ECF6\",\"aaxis\":{\"gridcolor\":\"white\",\"linecolor\":\"white\",\"ticks\":\"\"},\"baxis\":{\"gridcolor\":\"white\",\"linecolor\":\"white\",\"ticks\":\"\"},\"caxis\":{\"gridcolor\":\"white\",\"linecolor\":\"white\",\"ticks\":\"\"}},\"coloraxis\":{\"colorbar\":{\"outlinewidth\":0,\"ticks\":\"\"}},\"colorscale\":{\"sequential\":[[0.0,\"#0d0887\"],[0.1111111111111111,\"#46039f\"],[0.2222222222222222,\"#7201a8\"],[0.3333333333333333,\"#9c179e\"],[0.4444444444444444,\"#bd3786\"],[0.5555555555555556,\"#d8576b\"],[0.6666666666666666,\"#ed7953\"],[0.7777777777777778,\"#fb9f3a\"],[0.8888888888888888,\"#fdca26\"],[1.0,\"#f0f921\"]],\"sequentialminus\":[[0.0,\"#0d0887\"],[0.1111111111111111,\"#46039f\"],[0.2222222222222222,\"#7201a8\"],[0.3333333333333333,\"#9c179e\"],[0.4444444444444444,\"#bd3786\"],[0.5555555555555556,\"#d8576b\"],[0.6666666666666666,\"#ed7953\"],[0.7777777777777778,\"#fb9f3a\"],[0.8888888888888888,\"#fdca26\"],[1.0,\"#f0f921\"]],\"diverging\":[[0,\"#8e0152\"],[0.1,\"#c51b7d\"],[0.2,\"#de77ae\"],[0.3,\"#f1b6da\"],[0.4,\"#fde0ef\"],[0.5,\"#f7f7f7\"],[0.6,\"#e6f5d0\"],[0.7,\"#b8e186\"],[0.8,\"#7fbc41\"],[0.9,\"#4d9221\"],[1,\"#276419\"]]},\"xaxis\":{\"gridcolor\":\"white\",\"linecolor\":\"white\",\"ticks\":\"\",\"title\":{\"standoff\":15},\"zerolinecolor\":\"white\",\"automargin\":true,\"zerolinewidth\":2},\"yaxis\":{\"gridcolor\":\"white\",\"linecolor\":\"white\",\"ticks\":\"\",\"title\":{\"standoff\":15},\"zerolinecolor\":\"white\",\"automargin\":true,\"zerolinewidth\":2},\"scene\":{\"xaxis\":{\"backgroundcolor\":\"#E5ECF6\",\"gridcolor\":\"white\",\"linecolor\":\"white\",\"showbackground\":true,\"ticks\":\"\",\"zerolinecolor\":\"white\",\"gridwidth\":2},\"yaxis\":{\"backgroundcolor\":\"#E5ECF6\",\"gridcolor\":\"white\",\"linecolor\":\"white\",\"showbackground\":true,\"ticks\":\"\",\"zerolinecolor\":\"white\",\"gridwidth\":2},\"zaxis\":{\"backgroundcolor\":\"#E5ECF6\",\"gridcolor\":\"white\",\"linecolor\":\"white\",\"showbackground\":true,\"ticks\":\"\",\"zerolinecolor\":\"white\",\"gridwidth\":2}},\"shapedefaults\":{\"line\":{\"color\":\"#2a3f5f\"}},\"annotationdefaults\":{\"arrowcolor\":\"#2a3f5f\",\"arrowhead\":0,\"arrowwidth\":1},\"geo\":{\"bgcolor\":\"white\",\"landcolor\":\"#E5ECF6\",\"subunitcolor\":\"white\",\"showland\":true,\"showlakes\":true,\"lakecolor\":\"white\"},\"title\":{\"x\":0.05},\"mapbox\":{\"style\":\"light\"}}},\"xaxis\":{\"anchor\":\"y\",\"domain\":[0.0,1.0],\"title\":{\"text\":\"Weight class\"},\"ticktext\":[\"66kg (60kg for females)\",\"77kg\",\"88kg\",\"99kg\",\"+99kg (+60kg for females)\"],\"tickvals\":[\"0\",\"1\",\"2\",\"3\",\"4\"]},\"yaxis\":{\"anchor\":\"x\",\"domain\":[0.0,1.0],\"title\":{\"text\":\"Submission probability (%)\"}},\"coloraxis\":{\"colorbar\":{\"title\":{\"text\":\"weight_class\"}},\"colorscale\":[[0.0,\"rgb(252, 222, 156)\"],[0.16666666666666666,\"rgb(250, 164, 118)\"],[0.3333333333333333,\"rgb(240, 116, 110)\"],[0.5,\"rgb(227, 79, 111)\"],[0.6666666666666666,\"rgb(220, 57, 119)\"],[0.8333333333333334,\"rgb(185, 37, 122)\"],[1.0,\"rgb(124, 29, 111)\"]],\"showscale\":false},\"legend\":{\"tracegroupgap\":0},\"margin\":{\"t\":60},\"barmode\":\"relative\",\"annotations\":[{\"font\":{\"color\":\"lightsteelblue\",\"size\":14},\"showarrow\":false,\"text\":\"<b>41.67%</b>\",\"textangle\":0,\"x\":0.0,\"xanchor\":\"center\",\"y\":40.46666666666667,\"yanchor\":\"middle\"},{\"font\":{\"color\":\"lightsteelblue\",\"size\":14},\"showarrow\":false,\"text\":\"<b>40.84%</b>\",\"textangle\":0,\"x\":1.0,\"xanchor\":\"center\",\"y\":39.63769633507853,\"yanchor\":\"middle\"},{\"font\":{\"color\":\"lightsteelblue\",\"size\":14},\"showarrow\":false,\"text\":\"<b>36.26%</b>\",\"textangle\":0,\"x\":2.0,\"xanchor\":\"center\",\"y\":35.057309941520465,\"yanchor\":\"middle\"},{\"font\":{\"color\":\"lightsteelblue\",\"size\":14},\"showarrow\":false,\"text\":\"<b>38.93%</b>\",\"textangle\":0,\"x\":3.0,\"xanchor\":\"center\",\"y\":37.72617449664429,\"yanchor\":\"middle\"},{\"font\":{\"color\":\"lightsteelblue\",\"size\":14},\"showarrow\":false,\"text\":\"<b>36.48%</b>\",\"textangle\":0,\"x\":4.0,\"xanchor\":\"center\",\"y\":35.27798742138364,\"yanchor\":\"middle\"}],\"title\":{\"text\":\"Probability of victory by any submission in different weight classes\",\"x\":0.5},\"showlegend\":false},                        {\"responsive\": true}                    ).then(function(){\n",
       "                            \n",
       "var gd = document.getElementById('3d1bee03-dbae-4ca4-9aea-d6ed40d78a56');\n",
       "var x = new MutationObserver(function (mutations, observer) {{\n",
       "        var display = window.getComputedStyle(gd).display;\n",
       "        if (!display || display === 'none') {{\n",
       "            console.log([gd, 'removed!']);\n",
       "            Plotly.purge(gd);\n",
       "            observer.disconnect();\n",
       "        }}\n",
       "}});\n",
       "\n",
       "// Listen for the removal of the full notebook cells\n",
       "var notebookContainer = gd.closest('#notebook-container');\n",
       "if (notebookContainer) {{\n",
       "    x.observe(notebookContainer, {childList: true});\n",
       "}}\n",
       "\n",
       "// Listen for the clearing of the current output cell\n",
       "var outputEl = gd.closest('.output');\n",
       "if (outputEl) {{\n",
       "    x.observe(outputEl, {childList: true});\n",
       "}}\n",
       "\n",
       "                        })                };                });            </script>        </div>"
      ]
     },
     "metadata": {},
     "output_type": "display_data"
    }
   ],
   "source": [
    "# Calculate the probability of 'SUBMISSION' for each weight class\n",
    "total_counts = mdf.groupby('weight_class').size().reset_index(name='total_count')\n",
    "submission_counts = mdf[mdf['victory_method'] == 'SUBMISSION'].groupby('weight_class').size().reset_index(name='submission_count')\n",
    "probability_data = pd.merge(total_counts, submission_counts, on='weight_class', how='left')\n",
    "probability_data['probability'] = (probability_data['submission_count'] / probability_data['total_count']) * 100\n",
    "\n",
    "# Create the bar chart using Plotly Express\n",
    "fig = px.bar(probability_data, x='weight_class', y='probability',\n",
    "             color='weight_class', color_continuous_scale=px.colors.sequential.Sunsetdark)\n",
    "\n",
    "# Add static text annotations of probability values inside each bar\n",
    "for i, row in probability_data.iterrows():\n",
    "    fig.add_annotation(\n",
    "        x=row['weight_class'],\n",
    "        y=row['probability']-1.2,\n",
    "        text=f'<b>{np.round(row[\"probability\"], 2)}%</b>',\n",
    "        showarrow=False,\n",
    "        font=dict(color='lightsteelblue', size=14),\n",
    "        textangle=0,\n",
    "        xanchor='center',\n",
    "        yanchor='middle'\n",
    "    )\n",
    "\n",
    "fig.update_traces(hovertemplate='%{x} Weight Class: %{y:.2f}% submission probability')\n",
    "fig.update_layout(\n",
    "    title='Probability of victory by any submission in different weight classes',\n",
    "    xaxis_title='Weight class',\n",
    "    yaxis_title='Submission probability (%)',\n",
    ")\n",
    "\n",
    "# Modify the tick names in the x-axis\n",
    "custom_labels = {\n",
    "'0':'66kg (60kg for females)',\n",
    "'1':'77kg',\n",
    "'2':'88kg',\n",
    "'3':'99kg',\n",
    "'4':'+99kg (+60kg for females)',\n",
    "}\n",
    "\n",
    "fig.update_xaxes(ticktext=list(custom_labels.values()),\n",
    "                 tickvals=list(custom_labels.keys()))\n",
    "fig.update_layout(showlegend=False, coloraxis_showscale=False,title_x=0.5)\n",
    "\n",
    "\n",
    "fig.show()"
   ]
  },
  {
   "cell_type": "markdown",
   "id": "5aa61293",
   "metadata": {
    "papermill": {
     "duration": 0.033575,
     "end_time": "2023-06-16T16:32:50.362769",
     "exception": false,
     "start_time": "2023-06-16T16:32:50.329194",
     "status": "completed"
    },
    "tags": []
   },
   "source": [
    "There are no significant differences that can be seen from the graph above that would imply trends in how submission rates behave in relation to weight"
   ]
  },
  {
   "cell_type": "markdown",
   "id": "ea73fca9",
   "metadata": {
    "papermill": {
     "duration": 0.033363,
     "end_time": "2023-06-16T16:32:50.429840",
     "exception": false,
     "start_time": "2023-06-16T16:32:50.396477",
     "status": "completed"
    },
    "tags": []
   },
   "source": [
    "### How are open weight matches (absolute division) different than regular ones?"
   ]
  },
  {
   "cell_type": "code",
   "execution_count": 45,
   "id": "f23253ed",
   "metadata": {
    "_kg_hide-input": true,
    "execution": {
     "iopub.execute_input": "2023-06-16T16:32:50.499470Z",
     "iopub.status.busy": "2023-06-16T16:32:50.498432Z",
     "iopub.status.idle": "2023-06-16T16:32:50.603316Z",
     "shell.execute_reply": "2023-06-16T16:32:50.602157Z"
    },
    "papermill": {
     "duration": 0.142582,
     "end_time": "2023-06-16T16:32:50.605899",
     "exception": false,
     "start_time": "2023-06-16T16:32:50.463317",
     "status": "completed"
    },
    "tags": []
   },
   "outputs": [
    {
     "data": {
      "text/html": [
       "<div>                            <div id=\"96e300b8-c3e9-4972-9ffd-31d1a85026c7\" class=\"plotly-graph-div\" style=\"height:525px; width:100%;\"></div>            <script type=\"text/javascript\">                require([\"plotly\"], function(Plotly) {                    window.PLOTLYENV=window.PLOTLYENV || {};                                    if (document.getElementById(\"96e300b8-c3e9-4972-9ffd-31d1a85026c7\")) {                    Plotly.newPlot(                        \"96e300b8-c3e9-4972-9ffd-31d1a85026c7\",                        [{\"alignmentgroup\":\"True\",\"hovertemplate\":\"submission_target=Arm<br>absolute=%{x}<br>relative_frequency=%{y}<extra></extra>\",\"legendgroup\":\"Arm\",\"marker\":{\"color\":\"#636efa\",\"pattern\":{\"shape\":\"\"}},\"name\":\"Arm\",\"offsetgroup\":\"Arm\",\"orientation\":\"v\",\"showlegend\":true,\"textposition\":\"auto\",\"x\":[0,1],\"xaxis\":\"x\",\"y\":[0.21604938271604937,0.19736842105263158],\"yaxis\":\"y\",\"type\":\"bar\"},{\"alignmentgroup\":\"True\",\"hovertemplate\":\"submission_target=Leg<br>absolute=%{x}<br>relative_frequency=%{y}<extra></extra>\",\"legendgroup\":\"Leg\",\"marker\":{\"color\":\"#EF553B\",\"pattern\":{\"shape\":\"\"}},\"name\":\"Leg\",\"offsetgroup\":\"Leg\",\"orientation\":\"v\",\"showlegend\":true,\"textposition\":\"auto\",\"x\":[0,1],\"xaxis\":\"x\",\"y\":[0.21604938271604937,0.42105263157894735],\"yaxis\":\"y\",\"type\":\"bar\"},{\"alignmentgroup\":\"True\",\"hovertemplate\":\"submission_target=Neck<br>absolute=%{x}<br>relative_frequency=%{y}<extra></extra>\",\"legendgroup\":\"Neck\",\"marker\":{\"color\":\"#00cc96\",\"pattern\":{\"shape\":\"\"}},\"name\":\"Neck\",\"offsetgroup\":\"Neck\",\"orientation\":\"v\",\"showlegend\":true,\"textposition\":\"auto\",\"x\":[0,1],\"xaxis\":\"x\",\"y\":[0.5092592592592593,0.34210526315789475],\"yaxis\":\"y\",\"type\":\"bar\"},{\"alignmentgroup\":\"True\",\"hovertemplate\":\"submission_target=Other/Unknown<br>absolute=%{x}<br>relative_frequency=%{y}<extra></extra>\",\"legendgroup\":\"Other/Unknown\",\"marker\":{\"color\":\"#ab63fa\",\"pattern\":{\"shape\":\"\"}},\"name\":\"Other/Unknown\",\"offsetgroup\":\"Other/Unknown\",\"orientation\":\"v\",\"showlegend\":true,\"textposition\":\"auto\",\"x\":[0,1],\"xaxis\":\"x\",\"y\":[0.05864197530864197,0.039473684210526314],\"yaxis\":\"y\",\"type\":\"bar\"}],                        {\"template\":{\"data\":{\"histogram2dcontour\":[{\"type\":\"histogram2dcontour\",\"colorbar\":{\"outlinewidth\":0,\"ticks\":\"\"},\"colorscale\":[[0.0,\"#0d0887\"],[0.1111111111111111,\"#46039f\"],[0.2222222222222222,\"#7201a8\"],[0.3333333333333333,\"#9c179e\"],[0.4444444444444444,\"#bd3786\"],[0.5555555555555556,\"#d8576b\"],[0.6666666666666666,\"#ed7953\"],[0.7777777777777778,\"#fb9f3a\"],[0.8888888888888888,\"#fdca26\"],[1.0,\"#f0f921\"]]}],\"choropleth\":[{\"type\":\"choropleth\",\"colorbar\":{\"outlinewidth\":0,\"ticks\":\"\"}}],\"histogram2d\":[{\"type\":\"histogram2d\",\"colorbar\":{\"outlinewidth\":0,\"ticks\":\"\"},\"colorscale\":[[0.0,\"#0d0887\"],[0.1111111111111111,\"#46039f\"],[0.2222222222222222,\"#7201a8\"],[0.3333333333333333,\"#9c179e\"],[0.4444444444444444,\"#bd3786\"],[0.5555555555555556,\"#d8576b\"],[0.6666666666666666,\"#ed7953\"],[0.7777777777777778,\"#fb9f3a\"],[0.8888888888888888,\"#fdca26\"],[1.0,\"#f0f921\"]]}],\"heatmap\":[{\"type\":\"heatmap\",\"colorbar\":{\"outlinewidth\":0,\"ticks\":\"\"},\"colorscale\":[[0.0,\"#0d0887\"],[0.1111111111111111,\"#46039f\"],[0.2222222222222222,\"#7201a8\"],[0.3333333333333333,\"#9c179e\"],[0.4444444444444444,\"#bd3786\"],[0.5555555555555556,\"#d8576b\"],[0.6666666666666666,\"#ed7953\"],[0.7777777777777778,\"#fb9f3a\"],[0.8888888888888888,\"#fdca26\"],[1.0,\"#f0f921\"]]}],\"heatmapgl\":[{\"type\":\"heatmapgl\",\"colorbar\":{\"outlinewidth\":0,\"ticks\":\"\"},\"colorscale\":[[0.0,\"#0d0887\"],[0.1111111111111111,\"#46039f\"],[0.2222222222222222,\"#7201a8\"],[0.3333333333333333,\"#9c179e\"],[0.4444444444444444,\"#bd3786\"],[0.5555555555555556,\"#d8576b\"],[0.6666666666666666,\"#ed7953\"],[0.7777777777777778,\"#fb9f3a\"],[0.8888888888888888,\"#fdca26\"],[1.0,\"#f0f921\"]]}],\"contourcarpet\":[{\"type\":\"contourcarpet\",\"colorbar\":{\"outlinewidth\":0,\"ticks\":\"\"}}],\"contour\":[{\"type\":\"contour\",\"colorbar\":{\"outlinewidth\":0,\"ticks\":\"\"},\"colorscale\":[[0.0,\"#0d0887\"],[0.1111111111111111,\"#46039f\"],[0.2222222222222222,\"#7201a8\"],[0.3333333333333333,\"#9c179e\"],[0.4444444444444444,\"#bd3786\"],[0.5555555555555556,\"#d8576b\"],[0.6666666666666666,\"#ed7953\"],[0.7777777777777778,\"#fb9f3a\"],[0.8888888888888888,\"#fdca26\"],[1.0,\"#f0f921\"]]}],\"surface\":[{\"type\":\"surface\",\"colorbar\":{\"outlinewidth\":0,\"ticks\":\"\"},\"colorscale\":[[0.0,\"#0d0887\"],[0.1111111111111111,\"#46039f\"],[0.2222222222222222,\"#7201a8\"],[0.3333333333333333,\"#9c179e\"],[0.4444444444444444,\"#bd3786\"],[0.5555555555555556,\"#d8576b\"],[0.6666666666666666,\"#ed7953\"],[0.7777777777777778,\"#fb9f3a\"],[0.8888888888888888,\"#fdca26\"],[1.0,\"#f0f921\"]]}],\"mesh3d\":[{\"type\":\"mesh3d\",\"colorbar\":{\"outlinewidth\":0,\"ticks\":\"\"}}],\"scatter\":[{\"fillpattern\":{\"fillmode\":\"overlay\",\"size\":10,\"solidity\":0.2},\"type\":\"scatter\"}],\"parcoords\":[{\"type\":\"parcoords\",\"line\":{\"colorbar\":{\"outlinewidth\":0,\"ticks\":\"\"}}}],\"scatterpolargl\":[{\"type\":\"scatterpolargl\",\"marker\":{\"colorbar\":{\"outlinewidth\":0,\"ticks\":\"\"}}}],\"bar\":[{\"error_x\":{\"color\":\"#2a3f5f\"},\"error_y\":{\"color\":\"#2a3f5f\"},\"marker\":{\"line\":{\"color\":\"#E5ECF6\",\"width\":0.5},\"pattern\":{\"fillmode\":\"overlay\",\"size\":10,\"solidity\":0.2}},\"type\":\"bar\"}],\"scattergeo\":[{\"type\":\"scattergeo\",\"marker\":{\"colorbar\":{\"outlinewidth\":0,\"ticks\":\"\"}}}],\"scatterpolar\":[{\"type\":\"scatterpolar\",\"marker\":{\"colorbar\":{\"outlinewidth\":0,\"ticks\":\"\"}}}],\"histogram\":[{\"marker\":{\"pattern\":{\"fillmode\":\"overlay\",\"size\":10,\"solidity\":0.2}},\"type\":\"histogram\"}],\"scattergl\":[{\"type\":\"scattergl\",\"marker\":{\"colorbar\":{\"outlinewidth\":0,\"ticks\":\"\"}}}],\"scatter3d\":[{\"type\":\"scatter3d\",\"line\":{\"colorbar\":{\"outlinewidth\":0,\"ticks\":\"\"}},\"marker\":{\"colorbar\":{\"outlinewidth\":0,\"ticks\":\"\"}}}],\"scattermapbox\":[{\"type\":\"scattermapbox\",\"marker\":{\"colorbar\":{\"outlinewidth\":0,\"ticks\":\"\"}}}],\"scatterternary\":[{\"type\":\"scatterternary\",\"marker\":{\"colorbar\":{\"outlinewidth\":0,\"ticks\":\"\"}}}],\"scattercarpet\":[{\"type\":\"scattercarpet\",\"marker\":{\"colorbar\":{\"outlinewidth\":0,\"ticks\":\"\"}}}],\"carpet\":[{\"aaxis\":{\"endlinecolor\":\"#2a3f5f\",\"gridcolor\":\"white\",\"linecolor\":\"white\",\"minorgridcolor\":\"white\",\"startlinecolor\":\"#2a3f5f\"},\"baxis\":{\"endlinecolor\":\"#2a3f5f\",\"gridcolor\":\"white\",\"linecolor\":\"white\",\"minorgridcolor\":\"white\",\"startlinecolor\":\"#2a3f5f\"},\"type\":\"carpet\"}],\"table\":[{\"cells\":{\"fill\":{\"color\":\"#EBF0F8\"},\"line\":{\"color\":\"white\"}},\"header\":{\"fill\":{\"color\":\"#C8D4E3\"},\"line\":{\"color\":\"white\"}},\"type\":\"table\"}],\"barpolar\":[{\"marker\":{\"line\":{\"color\":\"#E5ECF6\",\"width\":0.5},\"pattern\":{\"fillmode\":\"overlay\",\"size\":10,\"solidity\":0.2}},\"type\":\"barpolar\"}],\"pie\":[{\"automargin\":true,\"type\":\"pie\"}]},\"layout\":{\"autotypenumbers\":\"strict\",\"colorway\":[\"#636efa\",\"#EF553B\",\"#00cc96\",\"#ab63fa\",\"#FFA15A\",\"#19d3f3\",\"#FF6692\",\"#B6E880\",\"#FF97FF\",\"#FECB52\"],\"font\":{\"color\":\"#2a3f5f\"},\"hovermode\":\"closest\",\"hoverlabel\":{\"align\":\"left\"},\"paper_bgcolor\":\"white\",\"plot_bgcolor\":\"#E5ECF6\",\"polar\":{\"bgcolor\":\"#E5ECF6\",\"angularaxis\":{\"gridcolor\":\"white\",\"linecolor\":\"white\",\"ticks\":\"\"},\"radialaxis\":{\"gridcolor\":\"white\",\"linecolor\":\"white\",\"ticks\":\"\"}},\"ternary\":{\"bgcolor\":\"#E5ECF6\",\"aaxis\":{\"gridcolor\":\"white\",\"linecolor\":\"white\",\"ticks\":\"\"},\"baxis\":{\"gridcolor\":\"white\",\"linecolor\":\"white\",\"ticks\":\"\"},\"caxis\":{\"gridcolor\":\"white\",\"linecolor\":\"white\",\"ticks\":\"\"}},\"coloraxis\":{\"colorbar\":{\"outlinewidth\":0,\"ticks\":\"\"}},\"colorscale\":{\"sequential\":[[0.0,\"#0d0887\"],[0.1111111111111111,\"#46039f\"],[0.2222222222222222,\"#7201a8\"],[0.3333333333333333,\"#9c179e\"],[0.4444444444444444,\"#bd3786\"],[0.5555555555555556,\"#d8576b\"],[0.6666666666666666,\"#ed7953\"],[0.7777777777777778,\"#fb9f3a\"],[0.8888888888888888,\"#fdca26\"],[1.0,\"#f0f921\"]],\"sequentialminus\":[[0.0,\"#0d0887\"],[0.1111111111111111,\"#46039f\"],[0.2222222222222222,\"#7201a8\"],[0.3333333333333333,\"#9c179e\"],[0.4444444444444444,\"#bd3786\"],[0.5555555555555556,\"#d8576b\"],[0.6666666666666666,\"#ed7953\"],[0.7777777777777778,\"#fb9f3a\"],[0.8888888888888888,\"#fdca26\"],[1.0,\"#f0f921\"]],\"diverging\":[[0,\"#8e0152\"],[0.1,\"#c51b7d\"],[0.2,\"#de77ae\"],[0.3,\"#f1b6da\"],[0.4,\"#fde0ef\"],[0.5,\"#f7f7f7\"],[0.6,\"#e6f5d0\"],[0.7,\"#b8e186\"],[0.8,\"#7fbc41\"],[0.9,\"#4d9221\"],[1,\"#276419\"]]},\"xaxis\":{\"gridcolor\":\"white\",\"linecolor\":\"white\",\"ticks\":\"\",\"title\":{\"standoff\":15},\"zerolinecolor\":\"white\",\"automargin\":true,\"zerolinewidth\":2},\"yaxis\":{\"gridcolor\":\"white\",\"linecolor\":\"white\",\"ticks\":\"\",\"title\":{\"standoff\":15},\"zerolinecolor\":\"white\",\"automargin\":true,\"zerolinewidth\":2},\"scene\":{\"xaxis\":{\"backgroundcolor\":\"#E5ECF6\",\"gridcolor\":\"white\",\"linecolor\":\"white\",\"showbackground\":true,\"ticks\":\"\",\"zerolinecolor\":\"white\",\"gridwidth\":2},\"yaxis\":{\"backgroundcolor\":\"#E5ECF6\",\"gridcolor\":\"white\",\"linecolor\":\"white\",\"showbackground\":true,\"ticks\":\"\",\"zerolinecolor\":\"white\",\"gridwidth\":2},\"zaxis\":{\"backgroundcolor\":\"#E5ECF6\",\"gridcolor\":\"white\",\"linecolor\":\"white\",\"showbackground\":true,\"ticks\":\"\",\"zerolinecolor\":\"white\",\"gridwidth\":2}},\"shapedefaults\":{\"line\":{\"color\":\"#2a3f5f\"}},\"annotationdefaults\":{\"arrowcolor\":\"#2a3f5f\",\"arrowhead\":0,\"arrowwidth\":1},\"geo\":{\"bgcolor\":\"white\",\"landcolor\":\"#E5ECF6\",\"subunitcolor\":\"white\",\"showland\":true,\"showlakes\":true,\"lakecolor\":\"white\"},\"title\":{\"x\":0.05},\"mapbox\":{\"style\":\"light\"}}},\"xaxis\":{\"anchor\":\"y\",\"domain\":[0.0,1.0],\"title\":{\"text\":\"\"},\"tickmode\":\"array\",\"tickvals\":[0,1],\"ticktext\":[\"Weight class divisions\",\"Open weight (absolute) division\"]},\"yaxis\":{\"anchor\":\"x\",\"domain\":[0.0,1.0],\"title\":{\"text\":\"Ratio to total submissions in match type\"}},\"legend\":{\"title\":{\"text\":\"submission_target\"},\"tracegroupgap\":0},\"margin\":{\"t\":60},\"barmode\":\"relative\",\"annotations\":[{\"font\":{\"color\":\"white\",\"size\":12},\"showarrow\":false,\"text\":\"Arm\",\"textangle\":0,\"x\":0,\"xanchor\":\"center\",\"y\":0.10802469135802469,\"yanchor\":\"middle\"},{\"font\":{\"color\":\"white\",\"size\":12},\"showarrow\":false,\"text\":\"Leg\",\"textangle\":0,\"x\":0,\"xanchor\":\"center\",\"y\":0.32407407407407407,\"yanchor\":\"middle\"},{\"font\":{\"color\":\"white\",\"size\":12},\"showarrow\":false,\"text\":\"Neck\",\"textangle\":0,\"x\":0,\"xanchor\":\"center\",\"y\":0.6867283950617283,\"yanchor\":\"middle\"},{\"font\":{\"color\":\"white\",\"size\":12},\"showarrow\":false,\"text\":\"Other/Unknown\",\"textangle\":0,\"x\":0,\"xanchor\":\"center\",\"y\":0.970679012345679,\"yanchor\":\"middle\"},{\"font\":{\"color\":\"white\",\"size\":12},\"showarrow\":false,\"text\":\"Arm\",\"textangle\":0,\"x\":1,\"xanchor\":\"center\",\"y\":0.09868421052631579,\"yanchor\":\"middle\"},{\"font\":{\"color\":\"white\",\"size\":12},\"showarrow\":false,\"text\":\"Leg\",\"textangle\":0,\"x\":1,\"xanchor\":\"center\",\"y\":0.4078947368421053,\"yanchor\":\"middle\"},{\"font\":{\"color\":\"white\",\"size\":12},\"showarrow\":false,\"text\":\"Neck\",\"textangle\":0,\"x\":1,\"xanchor\":\"center\",\"y\":0.7894736842105263,\"yanchor\":\"middle\"},{\"font\":{\"color\":\"white\",\"size\":12},\"showarrow\":false,\"text\":\"Other/Unknown\",\"textangle\":0,\"x\":1,\"xanchor\":\"center\",\"y\":0.9802631578947368,\"yanchor\":\"middle\"}],\"title\":{\"text\":\"Submission target\",\"x\":0.5},\"bargap\":0.2,\"showlegend\":false},                        {\"responsive\": true}                    ).then(function(){\n",
       "                            \n",
       "var gd = document.getElementById('96e300b8-c3e9-4972-9ffd-31d1a85026c7');\n",
       "var x = new MutationObserver(function (mutations, observer) {{\n",
       "        var display = window.getComputedStyle(gd).display;\n",
       "        if (!display || display === 'none') {{\n",
       "            console.log([gd, 'removed!']);\n",
       "            Plotly.purge(gd);\n",
       "            observer.disconnect();\n",
       "        }}\n",
       "}});\n",
       "\n",
       "// Listen for the removal of the full notebook cells\n",
       "var notebookContainer = gd.closest('#notebook-container');\n",
       "if (notebookContainer) {{\n",
       "    x.observe(notebookContainer, {childList: true});\n",
       "}}\n",
       "\n",
       "// Listen for the clearing of the current output cell\n",
       "var outputEl = gd.closest('.output');\n",
       "if (outputEl) {{\n",
       "    x.observe(outputEl, {childList: true});\n",
       "}}\n",
       "\n",
       "                        })                };                });            </script>        </div>"
      ]
     },
     "metadata": {},
     "output_type": "display_data"
    }
   ],
   "source": [
    "# Group the data by 'weight_class' and 'submission_target' and calculate the relative frequency\n",
    "grouped_data = mdf.groupby(['absolute', 'submission_target']).size().reset_index(name='count')\n",
    "grouped_data['relative_frequency'] = grouped_data.groupby('absolute')['count'].transform(lambda x: x / x.sum())\n",
    "\n",
    "# Create the bar chart using Plotly Express\n",
    "fig = px.bar(grouped_data, x='absolute', y='relative_frequency',\n",
    "             color='submission_target')\n",
    "\n",
    "# Calculate the x-coordinate for each annotation\n",
    "grouped_data['cumulative_relative_frequency'] = grouped_data.groupby('absolute')['relative_frequency'].cumsum() - 0.5 * grouped_data['relative_frequency']\n",
    "grouped_data['x_annotation'] = grouped_data['absolute']\n",
    "\n",
    "# Add annotations to display the submission target names\n",
    "for _, row in grouped_data.iterrows():\n",
    "    fig.add_annotation(\n",
    "        x=row['x_annotation'],\n",
    "        y=row['cumulative_relative_frequency'],\n",
    "        text=row['submission_target'],\n",
    "        showarrow=False,\n",
    "        font=dict(color='white', size=12),\n",
    "        textangle=0,\n",
    "        xanchor='center',\n",
    "        yanchor='middle'\n",
    "    )\n",
    "\n",
    "\n",
    "fig.update_layout(\n",
    "    title='Submission target',\n",
    "    xaxis_title='',\n",
    "    yaxis_title='Ratio to total submissions in match type',\n",
    "    barmode='relative',\n",
    "    bargap=0.2,\n",
    "    showlegend=False,\n",
    ")\n",
    "\n",
    "fig.update_layout(\n",
    "    title_x=0.5,\n",
    "    xaxis = dict(\n",
    "        tickmode = 'array',\n",
    "        tickvals = [0, 1],\n",
    "        ticktext = ['Weight class divisions', 'Open weight (absolute) division']\n",
    "    )\n",
    ")\n",
    "\n",
    "\n",
    "\n",
    "fig.show()"
   ]
  },
  {
   "cell_type": "markdown",
   "id": "729875a5",
   "metadata": {
    "papermill": {
     "duration": 0.033967,
     "end_time": "2023-06-16T16:32:50.676650",
     "exception": false,
     "start_time": "2023-06-16T16:32:50.642683",
     "status": "completed"
    },
    "tags": []
   },
   "source": [
    "It can be seen above that arm and neck attacks are less common in matches in the absolute division.  \n",
    "\n",
    "This most likely reflects a trend of more frequent leg exchanges and entanglements in these matches, which are commonly pursued as an equalizing tactic by smaller fighters against larger ones."
   ]
  },
  {
   "cell_type": "code",
   "execution_count": 46,
   "id": "97f84179",
   "metadata": {
    "_kg_hide-input": true,
    "execution": {
     "iopub.execute_input": "2023-06-16T16:32:50.746981Z",
     "iopub.status.busy": "2023-06-16T16:32:50.746576Z",
     "iopub.status.idle": "2023-06-16T16:32:50.835999Z",
     "shell.execute_reply": "2023-06-16T16:32:50.834874Z"
    },
    "papermill": {
     "duration": 0.127338,
     "end_time": "2023-06-16T16:32:50.838157",
     "exception": false,
     "start_time": "2023-06-16T16:32:50.710819",
     "status": "completed"
    },
    "tags": []
   },
   "outputs": [
    {
     "data": {
      "text/html": [
       "<div>                            <div id=\"6c56528b-fb14-4516-abbd-d11d62859b37\" class=\"plotly-graph-div\" style=\"height:525px; width:100%;\"></div>            <script type=\"text/javascript\">                require([\"plotly\"], function(Plotly) {                    window.PLOTLYENV=window.PLOTLYENV || {};                                    if (document.getElementById(\"6c56528b-fb14-4516-abbd-d11d62859b37\")) {                    Plotly.newPlot(                        \"6c56528b-fb14-4516-abbd-d11d62859b37\",                        [{\"alignmentgroup\":\"True\",\"customdata\":[[\"DECISION\"],[\"DECISION\"]],\"hovertemplate\":\"Victory by=%{customdata[0]}<br>absolute=%{x}<br>Probability (%)=%{y:.2f}<extra></extra>\",\"legendgroup\":\"DECISION\",\"marker\":{\"color\":\"#4C78A8\",\"pattern\":{\"shape\":\"\"}},\"name\":\"DECISION\",\"offsetgroup\":\"DECISION\",\"orientation\":\"v\",\"showlegend\":true,\"textposition\":\"auto\",\"x\":[0,1],\"xaxis\":\"x\",\"y\":[9.892729439809298,7.4074074074074066],\"yaxis\":\"y\",\"type\":\"bar\"},{\"alignmentgroup\":\"True\",\"customdata\":[[\"INJURY\"],[\"INJURY\"]],\"hovertemplate\":\"Victory by=%{customdata[0]}<br>absolute=%{x}<br>Probability (%)=%{y:.2f}<extra></extra>\",\"legendgroup\":\"INJURY\",\"marker\":{\"color\":\"#F58518\",\"pattern\":{\"shape\":\"\"}},\"name\":\"INJURY\",\"offsetgroup\":\"INJURY\",\"orientation\":\"v\",\"showlegend\":true,\"textposition\":\"auto\",\"x\":[0,1],\"xaxis\":\"x\",\"y\":[0.7151370679380215,1.0582010582010581],\"yaxis\":\"y\",\"type\":\"bar\"},{\"alignmentgroup\":\"True\",\"customdata\":[[\"POINTS\"],[\"POINTS\"]],\"hovertemplate\":\"Victory by=%{customdata[0]}<br>absolute=%{x}<br>Probability (%)=%{y:.2f}<extra></extra>\",\"legendgroup\":\"POINTS\",\"marker\":{\"color\":\"#E45756\",\"pattern\":{\"shape\":\"\"}},\"name\":\"POINTS\",\"offsetgroup\":\"POINTS\",\"orientation\":\"v\",\"showlegend\":true,\"textposition\":\"auto\",\"x\":[0,1],\"xaxis\":\"x\",\"y\":[50.53635280095352,50.79365079365079],\"yaxis\":\"y\",\"type\":\"bar\"},{\"alignmentgroup\":\"True\",\"customdata\":[[\"SUBMISSION\"],[\"SUBMISSION\"]],\"hovertemplate\":\"Victory by=%{customdata[0]}<br>absolute=%{x}<br>Probability (%)=%{y:.2f}<extra></extra>\",\"legendgroup\":\"SUBMISSION\",\"marker\":{\"color\":\"#72B7B2\",\"pattern\":{\"shape\":\"\"}},\"name\":\"SUBMISSION\",\"offsetgroup\":\"SUBMISSION\",\"orientation\":\"v\",\"showlegend\":true,\"textposition\":\"auto\",\"x\":[0,1],\"xaxis\":\"x\",\"y\":[38.85578069129917,40.21164021164021],\"yaxis\":\"y\",\"type\":\"bar\"},{\"alignmentgroup\":\"True\",\"customdata\":[[\"DESQUALIFICATION\"]],\"hovertemplate\":\"Victory by=%{customdata[0]}<br>absolute=%{x}<br>Probability (%)=%{y:.2f}<extra></extra>\",\"legendgroup\":\"DESQUALIFICATION\",\"marker\":{\"color\":\"#54A24B\",\"pattern\":{\"shape\":\"\"}},\"name\":\"DESQUALIFICATION\",\"offsetgroup\":\"DESQUALIFICATION\",\"orientation\":\"v\",\"showlegend\":true,\"textposition\":\"auto\",\"x\":[1],\"xaxis\":\"x\",\"y\":[0.5291005291005291],\"yaxis\":\"y\",\"type\":\"bar\"}],                        {\"template\":{\"data\":{\"histogram2dcontour\":[{\"type\":\"histogram2dcontour\",\"colorbar\":{\"outlinewidth\":0,\"ticks\":\"\"},\"colorscale\":[[0.0,\"#0d0887\"],[0.1111111111111111,\"#46039f\"],[0.2222222222222222,\"#7201a8\"],[0.3333333333333333,\"#9c179e\"],[0.4444444444444444,\"#bd3786\"],[0.5555555555555556,\"#d8576b\"],[0.6666666666666666,\"#ed7953\"],[0.7777777777777778,\"#fb9f3a\"],[0.8888888888888888,\"#fdca26\"],[1.0,\"#f0f921\"]]}],\"choropleth\":[{\"type\":\"choropleth\",\"colorbar\":{\"outlinewidth\":0,\"ticks\":\"\"}}],\"histogram2d\":[{\"type\":\"histogram2d\",\"colorbar\":{\"outlinewidth\":0,\"ticks\":\"\"},\"colorscale\":[[0.0,\"#0d0887\"],[0.1111111111111111,\"#46039f\"],[0.2222222222222222,\"#7201a8\"],[0.3333333333333333,\"#9c179e\"],[0.4444444444444444,\"#bd3786\"],[0.5555555555555556,\"#d8576b\"],[0.6666666666666666,\"#ed7953\"],[0.7777777777777778,\"#fb9f3a\"],[0.8888888888888888,\"#fdca26\"],[1.0,\"#f0f921\"]]}],\"heatmap\":[{\"type\":\"heatmap\",\"colorbar\":{\"outlinewidth\":0,\"ticks\":\"\"},\"colorscale\":[[0.0,\"#0d0887\"],[0.1111111111111111,\"#46039f\"],[0.2222222222222222,\"#7201a8\"],[0.3333333333333333,\"#9c179e\"],[0.4444444444444444,\"#bd3786\"],[0.5555555555555556,\"#d8576b\"],[0.6666666666666666,\"#ed7953\"],[0.7777777777777778,\"#fb9f3a\"],[0.8888888888888888,\"#fdca26\"],[1.0,\"#f0f921\"]]}],\"heatmapgl\":[{\"type\":\"heatmapgl\",\"colorbar\":{\"outlinewidth\":0,\"ticks\":\"\"},\"colorscale\":[[0.0,\"#0d0887\"],[0.1111111111111111,\"#46039f\"],[0.2222222222222222,\"#7201a8\"],[0.3333333333333333,\"#9c179e\"],[0.4444444444444444,\"#bd3786\"],[0.5555555555555556,\"#d8576b\"],[0.6666666666666666,\"#ed7953\"],[0.7777777777777778,\"#fb9f3a\"],[0.8888888888888888,\"#fdca26\"],[1.0,\"#f0f921\"]]}],\"contourcarpet\":[{\"type\":\"contourcarpet\",\"colorbar\":{\"outlinewidth\":0,\"ticks\":\"\"}}],\"contour\":[{\"type\":\"contour\",\"colorbar\":{\"outlinewidth\":0,\"ticks\":\"\"},\"colorscale\":[[0.0,\"#0d0887\"],[0.1111111111111111,\"#46039f\"],[0.2222222222222222,\"#7201a8\"],[0.3333333333333333,\"#9c179e\"],[0.4444444444444444,\"#bd3786\"],[0.5555555555555556,\"#d8576b\"],[0.6666666666666666,\"#ed7953\"],[0.7777777777777778,\"#fb9f3a\"],[0.8888888888888888,\"#fdca26\"],[1.0,\"#f0f921\"]]}],\"surface\":[{\"type\":\"surface\",\"colorbar\":{\"outlinewidth\":0,\"ticks\":\"\"},\"colorscale\":[[0.0,\"#0d0887\"],[0.1111111111111111,\"#46039f\"],[0.2222222222222222,\"#7201a8\"],[0.3333333333333333,\"#9c179e\"],[0.4444444444444444,\"#bd3786\"],[0.5555555555555556,\"#d8576b\"],[0.6666666666666666,\"#ed7953\"],[0.7777777777777778,\"#fb9f3a\"],[0.8888888888888888,\"#fdca26\"],[1.0,\"#f0f921\"]]}],\"mesh3d\":[{\"type\":\"mesh3d\",\"colorbar\":{\"outlinewidth\":0,\"ticks\":\"\"}}],\"scatter\":[{\"fillpattern\":{\"fillmode\":\"overlay\",\"size\":10,\"solidity\":0.2},\"type\":\"scatter\"}],\"parcoords\":[{\"type\":\"parcoords\",\"line\":{\"colorbar\":{\"outlinewidth\":0,\"ticks\":\"\"}}}],\"scatterpolargl\":[{\"type\":\"scatterpolargl\",\"marker\":{\"colorbar\":{\"outlinewidth\":0,\"ticks\":\"\"}}}],\"bar\":[{\"error_x\":{\"color\":\"#2a3f5f\"},\"error_y\":{\"color\":\"#2a3f5f\"},\"marker\":{\"line\":{\"color\":\"#E5ECF6\",\"width\":0.5},\"pattern\":{\"fillmode\":\"overlay\",\"size\":10,\"solidity\":0.2}},\"type\":\"bar\"}],\"scattergeo\":[{\"type\":\"scattergeo\",\"marker\":{\"colorbar\":{\"outlinewidth\":0,\"ticks\":\"\"}}}],\"scatterpolar\":[{\"type\":\"scatterpolar\",\"marker\":{\"colorbar\":{\"outlinewidth\":0,\"ticks\":\"\"}}}],\"histogram\":[{\"marker\":{\"pattern\":{\"fillmode\":\"overlay\",\"size\":10,\"solidity\":0.2}},\"type\":\"histogram\"}],\"scattergl\":[{\"type\":\"scattergl\",\"marker\":{\"colorbar\":{\"outlinewidth\":0,\"ticks\":\"\"}}}],\"scatter3d\":[{\"type\":\"scatter3d\",\"line\":{\"colorbar\":{\"outlinewidth\":0,\"ticks\":\"\"}},\"marker\":{\"colorbar\":{\"outlinewidth\":0,\"ticks\":\"\"}}}],\"scattermapbox\":[{\"type\":\"scattermapbox\",\"marker\":{\"colorbar\":{\"outlinewidth\":0,\"ticks\":\"\"}}}],\"scatterternary\":[{\"type\":\"scatterternary\",\"marker\":{\"colorbar\":{\"outlinewidth\":0,\"ticks\":\"\"}}}],\"scattercarpet\":[{\"type\":\"scattercarpet\",\"marker\":{\"colorbar\":{\"outlinewidth\":0,\"ticks\":\"\"}}}],\"carpet\":[{\"aaxis\":{\"endlinecolor\":\"#2a3f5f\",\"gridcolor\":\"white\",\"linecolor\":\"white\",\"minorgridcolor\":\"white\",\"startlinecolor\":\"#2a3f5f\"},\"baxis\":{\"endlinecolor\":\"#2a3f5f\",\"gridcolor\":\"white\",\"linecolor\":\"white\",\"minorgridcolor\":\"white\",\"startlinecolor\":\"#2a3f5f\"},\"type\":\"carpet\"}],\"table\":[{\"cells\":{\"fill\":{\"color\":\"#EBF0F8\"},\"line\":{\"color\":\"white\"}},\"header\":{\"fill\":{\"color\":\"#C8D4E3\"},\"line\":{\"color\":\"white\"}},\"type\":\"table\"}],\"barpolar\":[{\"marker\":{\"line\":{\"color\":\"#E5ECF6\",\"width\":0.5},\"pattern\":{\"fillmode\":\"overlay\",\"size\":10,\"solidity\":0.2}},\"type\":\"barpolar\"}],\"pie\":[{\"automargin\":true,\"type\":\"pie\"}]},\"layout\":{\"autotypenumbers\":\"strict\",\"colorway\":[\"#636efa\",\"#EF553B\",\"#00cc96\",\"#ab63fa\",\"#FFA15A\",\"#19d3f3\",\"#FF6692\",\"#B6E880\",\"#FF97FF\",\"#FECB52\"],\"font\":{\"color\":\"#2a3f5f\"},\"hovermode\":\"closest\",\"hoverlabel\":{\"align\":\"left\"},\"paper_bgcolor\":\"white\",\"plot_bgcolor\":\"#E5ECF6\",\"polar\":{\"bgcolor\":\"#E5ECF6\",\"angularaxis\":{\"gridcolor\":\"white\",\"linecolor\":\"white\",\"ticks\":\"\"},\"radialaxis\":{\"gridcolor\":\"white\",\"linecolor\":\"white\",\"ticks\":\"\"}},\"ternary\":{\"bgcolor\":\"#E5ECF6\",\"aaxis\":{\"gridcolor\":\"white\",\"linecolor\":\"white\",\"ticks\":\"\"},\"baxis\":{\"gridcolor\":\"white\",\"linecolor\":\"white\",\"ticks\":\"\"},\"caxis\":{\"gridcolor\":\"white\",\"linecolor\":\"white\",\"ticks\":\"\"}},\"coloraxis\":{\"colorbar\":{\"outlinewidth\":0,\"ticks\":\"\"}},\"colorscale\":{\"sequential\":[[0.0,\"#0d0887\"],[0.1111111111111111,\"#46039f\"],[0.2222222222222222,\"#7201a8\"],[0.3333333333333333,\"#9c179e\"],[0.4444444444444444,\"#bd3786\"],[0.5555555555555556,\"#d8576b\"],[0.6666666666666666,\"#ed7953\"],[0.7777777777777778,\"#fb9f3a\"],[0.8888888888888888,\"#fdca26\"],[1.0,\"#f0f921\"]],\"sequentialminus\":[[0.0,\"#0d0887\"],[0.1111111111111111,\"#46039f\"],[0.2222222222222222,\"#7201a8\"],[0.3333333333333333,\"#9c179e\"],[0.4444444444444444,\"#bd3786\"],[0.5555555555555556,\"#d8576b\"],[0.6666666666666666,\"#ed7953\"],[0.7777777777777778,\"#fb9f3a\"],[0.8888888888888888,\"#fdca26\"],[1.0,\"#f0f921\"]],\"diverging\":[[0,\"#8e0152\"],[0.1,\"#c51b7d\"],[0.2,\"#de77ae\"],[0.3,\"#f1b6da\"],[0.4,\"#fde0ef\"],[0.5,\"#f7f7f7\"],[0.6,\"#e6f5d0\"],[0.7,\"#b8e186\"],[0.8,\"#7fbc41\"],[0.9,\"#4d9221\"],[1,\"#276419\"]]},\"xaxis\":{\"gridcolor\":\"white\",\"linecolor\":\"white\",\"ticks\":\"\",\"title\":{\"standoff\":15},\"zerolinecolor\":\"white\",\"automargin\":true,\"zerolinewidth\":2},\"yaxis\":{\"gridcolor\":\"white\",\"linecolor\":\"white\",\"ticks\":\"\",\"title\":{\"standoff\":15},\"zerolinecolor\":\"white\",\"automargin\":true,\"zerolinewidth\":2},\"scene\":{\"xaxis\":{\"backgroundcolor\":\"#E5ECF6\",\"gridcolor\":\"white\",\"linecolor\":\"white\",\"showbackground\":true,\"ticks\":\"\",\"zerolinecolor\":\"white\",\"gridwidth\":2},\"yaxis\":{\"backgroundcolor\":\"#E5ECF6\",\"gridcolor\":\"white\",\"linecolor\":\"white\",\"showbackground\":true,\"ticks\":\"\",\"zerolinecolor\":\"white\",\"gridwidth\":2},\"zaxis\":{\"backgroundcolor\":\"#E5ECF6\",\"gridcolor\":\"white\",\"linecolor\":\"white\",\"showbackground\":true,\"ticks\":\"\",\"zerolinecolor\":\"white\",\"gridwidth\":2}},\"shapedefaults\":{\"line\":{\"color\":\"#2a3f5f\"}},\"annotationdefaults\":{\"arrowcolor\":\"#2a3f5f\",\"arrowhead\":0,\"arrowwidth\":1},\"geo\":{\"bgcolor\":\"white\",\"landcolor\":\"#E5ECF6\",\"subunitcolor\":\"white\",\"showland\":true,\"showlakes\":true,\"lakecolor\":\"white\"},\"title\":{\"x\":0.05},\"mapbox\":{\"style\":\"light\"}}},\"xaxis\":{\"anchor\":\"y\",\"domain\":[0.0,1.0],\"title\":{\"text\":\"\"},\"tickmode\":\"array\",\"tickvals\":[0,1],\"ticktext\":[\"Weight class divisions\",\"Open weight (absolute) division\"]},\"yaxis\":{\"anchor\":\"x\",\"domain\":[0.0,1.0],\"title\":{\"text\":\"Probability (%)\"}},\"legend\":{\"title\":{\"text\":\"Victory by\"},\"tracegroupgap\":0},\"title\":{\"text\":\"Victory types on Open weight Vs. Weight class divisions\",\"x\":0.45},\"barmode\":\"stack\"},                        {\"responsive\": true}                    ).then(function(){\n",
       "                            \n",
       "var gd = document.getElementById('6c56528b-fb14-4516-abbd-d11d62859b37');\n",
       "var x = new MutationObserver(function (mutations, observer) {{\n",
       "        var display = window.getComputedStyle(gd).display;\n",
       "        if (!display || display === 'none') {{\n",
       "            console.log([gd, 'removed!']);\n",
       "            Plotly.purge(gd);\n",
       "            observer.disconnect();\n",
       "        }}\n",
       "}});\n",
       "\n",
       "// Listen for the removal of the full notebook cells\n",
       "var notebookContainer = gd.closest('#notebook-container');\n",
       "if (notebookContainer) {{\n",
       "    x.observe(notebookContainer, {childList: true});\n",
       "}}\n",
       "\n",
       "// Listen for the clearing of the current output cell\n",
       "var outputEl = gd.closest('.output');\n",
       "if (outputEl) {{\n",
       "    x.observe(outputEl, {childList: true});\n",
       "}}\n",
       "\n",
       "                        })                };                });            </script>        </div>"
      ]
     },
     "metadata": {},
     "output_type": "display_data"
    }
   ],
   "source": [
    "# Calculate likelihood for each category over the years and convert to percentages\n",
    "likelihood_mdf = mdf.groupby(['absolute', 'victory_method']).size().div(mdf.groupby('absolute').size(), level='absolute').reset_index(name='likelihood')\n",
    "likelihood_mdf['likelihood'] *= 100\n",
    "\n",
    "# Create stacked bar chart using plotly express\n",
    "fig = px.bar(likelihood_mdf, x='absolute', y='likelihood', color='victory_method',\n",
    "            labels={'likelihood': 'Probability (%)', 'victory_method': 'Victory by'},\n",
    "            title='Victory types on Open weight Vs. Weight class divisions',\n",
    "            hover_data={'absolute': True, 'likelihood': ':.2f', 'victory_method': True},\n",
    "            barmode='stack',\n",
    "            color_discrete_sequence=px.colors.qualitative.T10\n",
    "            )\n",
    "\n",
    "fig.update_layout(\n",
    "    title_x=0.45,\n",
    "    xaxis_title='',\n",
    "    xaxis = dict(\n",
    "        tickmode = 'array',\n",
    "        tickvals = [0, 1],\n",
    "        ticktext = ['Weight class divisions', 'Open weight (absolute) division']\n",
    "    )\n",
    ")\n",
    "\n",
    "fig.show()"
   ]
  },
  {
   "cell_type": "markdown",
   "id": "db31009b",
   "metadata": {
    "papermill": {
     "duration": 0.034017,
     "end_time": "2023-06-16T16:32:50.906575",
     "exception": false,
     "start_time": "2023-06-16T16:32:50.872558",
     "status": "completed"
    },
    "tags": []
   },
   "source": [
    "In terms of victory method, on the other hand, the absolute division shows extremely similar results as the weight class ones.  \n",
    "One small yet significant difference that can be observed is in the probabilities of injury and disqualification, both more likely to happen in open weight matches."
   ]
  },
  {
   "cell_type": "markdown",
   "id": "5d9f5807",
   "metadata": {
    "papermill": {
     "duration": 0.034012,
     "end_time": "2023-06-16T16:32:50.974330",
     "exception": false,
     "start_time": "2023-06-16T16:32:50.940318",
     "status": "completed"
    },
    "tags": []
   },
   "source": [
    "## Thank you for visiting this notebook!<a id=\"section7\"></a>\n",
    "\n",
    "Help spread information by sharing it with anyone you know might be interested in either submission grappling or data in general."
   ]
  },
  {
   "cell_type": "markdown",
   "id": "921bdf12",
   "metadata": {
    "papermill": {
     "duration": 0.033886,
     "end_time": "2023-06-16T16:32:51.042809",
     "exception": false,
     "start_time": "2023-06-16T16:32:51.008923",
     "status": "completed"
    },
    "tags": []
   },
   "source": [
    "If I missed anything, please let me know!  \n",
    "\n",
    "Also, if there's any specific visualization you'd like to see used with this data or if you have a different specific tool or library to suggest, feel free to leave a comment :)"
   ]
  }
 ],
 "metadata": {
  "kernelspec": {
   "display_name": "Python 3",
   "language": "python",
   "name": "python3"
  },
  "language_info": {
   "codemirror_mode": {
    "name": "ipython",
    "version": 3
   },
   "file_extension": ".py",
   "mimetype": "text/x-python",
   "name": "python",
   "nbconvert_exporter": "python",
   "pygments_lexer": "ipython3",
   "version": "3.10.10"
  },
  "papermill": {
   "default_parameters": {},
   "duration": 28.319161,
   "end_time": "2023-06-16T16:32:52.199261",
   "environment_variables": {},
   "exception": null,
   "input_path": "__notebook__.ipynb",
   "output_path": "__notebook__.ipynb",
   "parameters": {},
   "start_time": "2023-06-16T16:32:23.880100",
   "version": "2.4.0"
  }
 },
 "nbformat": 4,
 "nbformat_minor": 5
}
